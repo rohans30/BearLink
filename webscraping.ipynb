{
 "cells": [
  {
   "cell_type": "markdown",
   "id": "e692a909-a045-4a59-9a2d-32328adf99c3",
   "metadata": {
    "jp-MarkdownHeadingCollapsed": true,
    "tags": []
   },
   "source": [
    "# initial webscraping #"
   ]
  },
  {
   "cell_type": "code",
   "execution_count": null,
   "id": "eff10caa-39e7-4ebb-ba1a-e80692bf6e9c",
   "metadata": {},
   "outputs": [],
   "source": [
    "\n",
    "import requests\n",
    "api_endpoint = 'https://nubela.co/proxycurl/api/v2/linkedin'\n",
    "linkedin_profile_url = 'https://www.linkedin.com/in/satwikapaul/'\n",
    "api_key = 'eYadDwALL4LM5ISGRmObTg'\n",
    "headers = {'Authorization': 'Bearer ' + api_key}\n",
    "\n",
    "response = requests.get(api_endpoint,\n",
    "                        params={'url': linkedin_profile_url,'skills': 'include'},\n",
    "                        headers=headers)"
   ]
  },
  {
   "cell_type": "code",
   "execution_count": null,
   "id": "d2941fe1-1b77-4d49-a5ab-63d6a25b5a06",
   "metadata": {},
   "outputs": [],
   "source": [
    "\n",
    "profile_data = response.json()\n",
    "profile_data\n",
    "     "
   ]
  },
  {
   "cell_type": "code",
   "execution_count": null,
   "id": "f0ea227d-1172-4b8d-b4c2-d94d16794b1e",
   "metadata": {},
   "outputs": [],
   "source": [
    "import warnings\n",
    "warnings.filterwarnings(\"ignore\")"
   ]
  },
  {
   "cell_type": "code",
   "execution_count": null,
   "id": "84a5ef77-536a-45b6-bce5-a7e28c5e1c10",
   "metadata": {},
   "outputs": [],
   "source": [
    "pip install selenium"
   ]
  },
  {
   "cell_type": "code",
   "execution_count": null,
   "id": "6d967a16-1d97-4a09-a99f-0fddff9478d9",
   "metadata": {},
   "outputs": [],
   "source": [
    "import os\n",
    "from bs4 import BeautifulSoup\n",
    "from selenium import webdriver\n",
    "from selenium.webdriver.common.by import By\n",
    "\n",
    "from time import sleep\n",
    "\n",
    "from dotenv import load_dotenv\n",
    "load_dotenv()"
   ]
  },
  {
   "cell_type": "code",
   "execution_count": null,
   "id": "6e24fadd-f8ee-4329-b2b3-ba80d1e8daaf",
   "metadata": {},
   "outputs": [],
   "source": [
    "os.environ['EMAIL'] = 'paul.satwika@gmail.com'\n",
    "os.environ['PASSWORD'] = 'Fttkhcvn6!'"
   ]
  },
  {
   "cell_type": "code",
   "execution_count": null,
   "id": "fda61e3f-e57a-42ef-b067-e45921a3e371",
   "metadata": {},
   "outputs": [],
   "source": [
    "driver = webdriver.Chrome()"
   ]
  },
  {
   "cell_type": "code",
   "execution_count": null,
   "id": "a77f6555-c086-416d-a6cf-ef0a0fd29064",
   "metadata": {},
   "outputs": [],
   "source": [
    "driver.get('https://www.linkedin.com/login')\n",
    "driver.title\n"
   ]
  },
  {
   "cell_type": "code",
   "execution_count": null,
   "id": "d12dbeaa-2633-4b4c-8a83-6fbb7808d22d",
   "metadata": {},
   "outputs": [],
   "source": [
    "email = driver.find_element(By.ID, 'username')\n",
    "email.send_keys(os.environ['EMAIL'])\n",
    "\n",
    "password = driver.find_element(By.ID, 'password')\n",
    "password.send_keys(os.environ['PASSWORD'])\n",
    "\n",
    "password.submit()"
   ]
  },
  {
   "cell_type": "code",
   "execution_count": null,
   "id": "0172d3a3-d32f-4c55-a1a8-1b42af5366aa",
   "metadata": {},
   "outputs": [],
   "source": [
    "url = \"https://www.linkedin.com/in/amrutha-srivatsav-179b29247\"\n",
    "driver.get(url)"
   ]
  },
  {
   "cell_type": "code",
   "execution_count": null,
   "id": "d16e6541-696c-4d2a-bd5d-bb11822325e0",
   "metadata": {},
   "outputs": [],
   "source": [
    "profile_data = {}"
   ]
  },
  {
   "cell_type": "code",
   "execution_count": null,
   "id": "b877acd2-5300-4913-be82-eeddf33330db",
   "metadata": {},
   "outputs": [],
   "source": [
    "driver.title"
   ]
  },
  {
   "cell_type": "code",
   "execution_count": null,
   "id": "3873df38-1731-4c63-aa05-3b5eea91e9ad",
   "metadata": {},
   "outputs": [],
   "source": [
    "from pprint import pprint\n",
    "import requests\n",
    "\n",
    "payload = {\n",
    "    'source': 'google',\n",
    "    'url': 'https://www.google.com/search?q=site%3Alinkedin.com%2Fin%2F+Education+UC+Berkeley+2020+-+2024',\n",
    "    'parse': True,\n",
    "    'start_page': 1,\n",
    "    'pages': 10\n",
    "}\n",
    "\n",
    "response = requests.request(\n",
    "    'POST',\n",
    "    'https://realtime.oxylabs.io/v1/queries',\n",
    "    auth=('satwikapaul_oZIdD', 'Fttkhcvnfttkhcvn6_'),\n",
    "    json=payload\n",
    ")"
   ]
  },
  {
   "cell_type": "code",
   "execution_count": null,
   "id": "4ca337e4-0f9e-4586-b722-81d237ba5856",
   "metadata": {},
   "outputs": [],
   "source": [
    "pprint(response.json())"
   ]
  },
  {
   "cell_type": "code",
   "execution_count": null,
   "id": "e944d058-b5a5-49e4-b766-b67185a6e00b",
   "metadata": {},
   "outputs": [],
   "source": [
    "def extract_linkedin_urls(obj, key=None):\n",
    "    urls = []\n",
    "    if isinstance(obj, dict):\n",
    "        for k, v in obj.items():\n",
    "            urls += extract_linkedin_urls(v, key=k)\n",
    "    elif isinstance(obj, list):\n",
    "        for v in obj:\n",
    "            urls += extract_linkedin_urls(v)\n",
    "    elif isinstance(obj, str) and key == \"url\":\n",
    "        if \"linkedin.com/in\" in obj:\n",
    "            urls.append(obj)\n",
    "    return urls\n",
    "data = response.json()\n",
    "linkedin_urls = extract_linkedin_urls(data)\n",
    "linkedin_urls = linkedin_urls[1:len(linkedin_urls) - 1]\n",
    "print(linkedin_urls)\n",
    "len(linkedin_urls)"
   ]
  },
  {
   "cell_type": "markdown",
   "id": "0a868912-9e1e-4901-b87b-0f44c038ff2a",
   "metadata": {
    "jp-MarkdownHeadingCollapsed": true,
    "tags": []
   },
   "source": [
    "# SWE URLS #"
   ]
  },
  {
   "cell_type": "code",
   "execution_count": 42,
   "id": "888b9a5e-ea6e-4052-bdb0-08a0a7e2d713",
   "metadata": {},
   "outputs": [],
   "source": [
    "from pprint import pprint\n",
    "import requests\n",
    "\n",
    "payload = {\n",
    "    'source': 'google',\n",
    "    'url': 'https://www.google.com/search?q=site:linkedin.com/in/+Education+is+UC+Berkeley+works+as+Software+Engineer',\n",
    "    'parse': True,\n",
    "    'start_page': 1,\n",
    "    'pages': 10\n",
    "}\n",
    "\n",
    "response = requests.request(\n",
    "    'POST',\n",
    "    'https://realtime.oxylabs.io/v1/queries',\n",
    "    auth=('satwikapaul_oZIdD', 'Fttkhcvnfttkhcvn6_'),\n",
    "    json=payload\n",
    ")"
   ]
  },
  {
   "cell_type": "code",
   "execution_count": 47,
   "id": "0a042209-152c-498d-9126-ce40f73ecdc2",
   "metadata": {},
   "outputs": [
    {
     "name": "stdout",
     "output_type": "stream",
     "text": [
      "['https://www.linkedin.com/in/chris-pyles', 'https://www.linkedin.com/in/lucaskarahadian', 'https://www.linkedin.com/in/michellekroll01', 'https://www.linkedin.com/in/ishaan-agrawal', 'https://www.linkedin.com/in/antonioquesada0', 'https://www.linkedin.com/in/brandon-byrne-826ba2170', 'https://www.linkedin.com/in/winston-lo-194a63239', 'https://www.linkedin.com/in/borcheantovski', 'https://www.linkedin.com/in/angelinaklee', 'https://www.linkedin.com/in/allen-paul-me', 'https://www.google.com/search?q=site:linkedin.com/in/+Education+is+UC+Berkeley+works+as+Software+Engineer', 'https://www.google.com/search?q=site:linkedin.com/in/+Education+is+UC+Berkeley+works+as+Software+Engineer&start=10', 'https://www.linkedin.com/in/sean-bray-a41596117', 'https://www.linkedin.com/in/jun-hee-lee', 'https://www.linkedin.com/in/roopak-phatak-01586b162', 'https://www.linkedin.com/in/christianjc09', 'https://www.linkedin.com/in/zach-turner-18157a1b0', 'https://www.linkedin.com/in/roberto-guillen', 'https://www.linkedin.com/in/austinandrews17', 'https://www.linkedin.com/in/jai-sharma1', 'https://www.linkedin.com/in/eduard-mirzoyan', 'https://www.linkedin.com/in/lindadeng501', 'https://www.google.com/search?q=site:linkedin.com/in/+Education+is+UC+Berkeley+works+as+Software+Engineer&start=10', 'https://www.google.com/search?q=site:linkedin.com/in/+Education+is+UC+Berkeley+works+as+Software+Engineer&start=20', 'https://www.linkedin.com/in/erich-rathkamp01001', 'https://www.linkedin.com/in/tcglezen', 'https://www.linkedin.com/in/lnavarret010', 'https://www.linkedin.com/in/duc-nguyen-888390214', 'https://www.linkedin.com/in/alexvnguyen0', 'https://www.linkedin.com/in/kevinjlan', 'https://www.linkedin.com/in/anl2002', 'https://www.linkedin.com/in/sean-keehan-sullivan', 'https://www.linkedin.com/in/beau-bullitt', 'https://www.linkedin.com/in/cameron-cowles-088999163', 'https://www.google.com/search?q=site:linkedin.com/in/+Education+is+UC+Berkeley+works+as+Software+Engineer&start=20', 'https://www.google.com/search?q=site:linkedin.com/in/+Education+is+UC+Berkeley+works+as+Software+Engineer&start=30', 'https://www.linkedin.com/in/cameron-cowles-088999163', 'https://www.linkedin.com/in/gauravshah7', 'https://www.linkedin.com/in/divyashish-kumar', 'https://www.linkedin.com/in/yashgupta1357', 'https://www.linkedin.com/in/tranjoanne', 'https://www.linkedin.com/in/evan-gao', 'https://www.linkedin.com/in/pauline2k', 'https://www.linkedin.com/in/andrew-li-6417541b3', 'https://www.linkedin.com/in/jesslyn-gunadi-26b62b219', 'https://www.linkedin.com/in/allenxlzhou', 'https://www.google.com/search?q=site:linkedin.com/in/+Education+is+UC+Berkeley+works+as+Software+Engineer&start=30', 'https://www.google.com/search?q=site:linkedin.com/in/+Education+is+UC+Berkeley+works+as+Software+Engineer&start=40', 'https://www.linkedin.com/in/daniel-platt-ab491a165', 'https://www.linkedin.com/in/aayushijain2025', 'https://www.linkedin.com/in/carolyn-%F0%9F%8C%BB-sy-754a37125', 'https://www.linkedin.com/in/colin-newman-819327211', 'https://www.linkedin.com/in/andrewroblesdev', 'https://www.linkedin.com/in/vb99', 'https://www.linkedin.com/in/asaadharoun', 'https://www.linkedin.com/in/cesar-gamez-184aa91b9', 'https://www.linkedin.com/in/michael-moses-8786b615', 'https://www.linkedin.com/in/pongsatorn-chanpanichravee', 'https://www.google.com/search?q=site:linkedin.com/in/+Education+is+UC+Berkeley+works+as+Software+Engineer&start=40', 'https://www.google.com/search?q=site:linkedin.com/in/+Education+is+UC+Berkeley+works+as+Software+Engineer&start=50', 'https://www.linkedin.com/in/zhuoyuewang', 'https://www.linkedin.com/in/georgeykim', 'https://www.linkedin.com/in/h%C3%A9ctor-rinc%C3%B3n-40a36949', 'https://www.linkedin.com/in/edreesg', 'https://www.linkedin.com/in/chuck-sleasman-54947b58', 'https://www.linkedin.com/in/peadarkeegan', 'https://www.linkedin.com/in/andrew-dorsett', 'https://www.linkedin.com/in/justin-cook-developer', 'https://www.linkedin.com/in/scott-stossel', 'https://www.linkedin.com/in/laurenhzhou', 'https://www.google.com/search?q=site:linkedin.com/in/+Education+is+UC+Berkeley+works+as+Software+Engineer&start=50', 'https://www.google.com/search?q=site:linkedin.com/in/+Education+is+UC+Berkeley+works+as+Software+Engineer&start=60', 'https://www.linkedin.com/in/raghav-mandayam-a4a9b3122', 'https://www.linkedin.com/in/thanhnguyen66', 'https://www.linkedin.com/in/monica-cruz-rd', 'https://www.linkedin.com/in/bernardo-rodriguez-764a0a159', 'https://www.linkedin.com/in/christopherchen95', 'https://www.linkedin.com/in/william-kerr-03699986', 'https://www.linkedin.com/in/samanthadove', 'https://www.linkedin.com/in/-joseph-vo', 'https://www.linkedin.com/in/ankita-budhraja', 'https://www.linkedin.com/in/jonny-martinez-a41179289', 'https://www.google.com/search?q=site:linkedin.com/in/+Education+is+UC+Berkeley+works+as+Software+Engineer&start=60', 'https://www.google.com/search?q=site:linkedin.com/in/+Education+is+UC+Berkeley+works+as+Software+Engineer&start=70', 'https://www.linkedin.com/in/selenacwong', 'https://www.linkedin.com/in/mars8080', 'https://www.linkedin.com/in/laila-walker', 'https://www.linkedin.com/in/koushik-sen-80b99a', 'https://www.linkedin.com/in/ashleygbui', 'https://www.linkedin.com/in/cliffordfajardo', 'https://www.linkedin.com/in/adrian-morales-a5b400190', 'https://www.linkedin.com/in/emily-l-8b32a483?trk=people-guest_people_search-card', 'https://www.linkedin.com/in/doug-perez', 'https://www.linkedin.com/in/jwberkley', 'https://www.google.com/search?q=site:linkedin.com/in/+Education+is+UC+Berkeley+works+as+Software+Engineer&start=70', 'https://www.google.com/search?q=site:linkedin.com/in/+Education+is+UC+Berkeley+works+as+Software+Engineer&start=80', 'https://www.linkedin.com/in/gabriel-sanchez-2ba9733a', 'https://www.linkedin.com/in/connorbernard', 'https://www.linkedin.com/in/jonathan-yun', 'https://www.linkedin.com/in/andrewc220', 'https://www.linkedin.com/in/mannamar', 'https://www.linkedin.com/in/nikhita-a', 'https://www.linkedin.com/in/carter-watts', 'https://www.linkedin.com/in/junseo-yoo', 'https://www.linkedin.com/in/vishalvinjapuri', 'https://www.linkedin.com/in/cyruswise/', 'https://www.google.com/search?q=site:linkedin.com/in/+Education+is+UC+Berkeley+works+as+Software+Engineer&start=80', 'https://www.google.com/search?q=site:linkedin.com/in/+Education+is+UC+Berkeley+works+as+Software+Engineer&start=90', 'https://www.linkedin.com/in/chrispencer', 'https://www.linkedin.com/in/lianting', 'https://www.linkedin.com/in/michaellen', 'https://www.linkedin.com/in/artem-i-71839780', 'https://www.linkedin.com/in/johnteng9', 'https://www.linkedin.com/in/noah-newfeld', 'https://www.linkedin.com/in/jonberkelee', 'https://www.linkedin.com/in/alishazal/', 'https://www.linkedin.com/in/annielee1157', 'https://www.linkedin.com/in/lan-nguyen-3995b9193', 'https://www.google.com/search?q=site:linkedin.com/in/+Education+is+UC+Berkeley+works+as+Software+Engineer&start=90']\n"
     ]
    },
    {
     "data": {
      "text/plain": [
       "119"
      ]
     },
     "execution_count": 47,
     "metadata": {},
     "output_type": "execute_result"
    }
   ],
   "source": [
    "SWEfirstdata = response.json()\n",
    "SWEfirstdata_linkedin_urls = extract_linkedin_urls(SWEfirstdata)\n",
    "SWEfirstdata_linkedin_urls = SWEfirstdata_linkedin_urls[1:len(SWEfirstdata_linkedin_urls) - 1]\n",
    "print(SWEfirstdata_linkedin_urls)\n",
    "len(SWEfirstdata_linkedin_urls)"
   ]
  },
  {
   "cell_type": "code",
   "execution_count": 100,
   "id": "b9317566-cea2-47cc-bc00-5d7b8b19bf21",
   "metadata": {},
   "outputs": [],
   "source": [
    "from pprint import pprint\n",
    "import requests\n",
    "\n",
    "payload = {\n",
    "    'source': 'google',\n",
    "    'url': 'https://www.google.com/search?q=site:linkedin.com/in/+Education+is+UC+Berkeley+works+as+Software+Engineer',\n",
    "    'parse': True,\n",
    "    'start_page': 11,\n",
    "    'pages': 10\n",
    "}\n",
    "\n",
    "response = requests.request(\n",
    "    'POST',\n",
    "    'https://realtime.oxylabs.io/v1/queries',\n",
    "    auth=('satwikapaul_oZIdD', 'Fttkhcvnfttkhcvn6_'),\n",
    "    json=payload\n",
    ")"
   ]
  },
  {
   "cell_type": "code",
   "execution_count": 60,
   "id": "66915b36-f20c-41a0-8abd-af9137a6fb45",
   "metadata": {},
   "outputs": [
    {
     "name": "stdout",
     "output_type": "stream",
     "text": [
      "['https://www.linkedin.com/in/lianting', 'https://www.linkedin.com/in/navi-emiliano', 'https://www.linkedin.com/in/-joseph-vo', 'https://www.linkedin.com/in/cesar-gamez-184aa91b9', 'https://www.linkedin.com/in/tomas-mician', 'https://www.linkedin.com/in/joey-stringer', 'https://www.linkedin.com/in/mason-b-smith', 'https://www.linkedin.com/in/claudiazhao', 'https://www.linkedin.com/in/willgiorza', 'https://www.linkedin.com/in/yushgoel', 'https://www.google.com/search?q=site:linkedin.com/in/+Education+is+UC+Berkeley+works+as+Software+Engineer&start=100', 'https://www.google.com/search?q=site:linkedin.com/in/+Education+is+UC+Berkeley+works+as+Software+Engineer&start=110', 'https://www.linkedin.com/in/daniel-platt-ab491a165', 'https://www.linkedin.com/in/shrshnk', 'https://www.linkedin.com/in/allanchen51', 'https://www.linkedin.com/in/jasonduongg', 'https://www.linkedin.com/in/lucahendicott', 'https://www.linkedin.com/in/benjamin-belfus', 'https://ca.linkedin.com/in/zeyanamusthafa', 'https://www.linkedin.com/in/bryang196', 'https://www.linkedin.com/in/miles-green-190050277', 'https://www.linkedin.com/in/jun-hee-lee', 'https://www.google.com/search?q=site:linkedin.com/in/+Education+is+UC+Berkeley+works+as+Software+Engineer&start=110', 'https://www.google.com/search?q=site:linkedin.com/in/+Education+is+UC+Berkeley+works+as+Software+Engineer&start=120', 'https://www.linkedin.com/in/aayushijain2025', 'https://www.linkedin.com/in/michellekroll01', 'https://www.linkedin.com/in/colin-newman-819327211', 'https://www.linkedin.com/in/melissabarrerafarias', 'https://www.linkedin.com/in/vanessateo', 'https://www.linkedin.com/in/karora27', 'https://www.linkedin.com/in/rishabhmthakur', 'https://www.linkedin.com/in/eduard-mirzoyan', 'https://www.linkedin.com/in/aishwarya-sriram', 'https://www.linkedin.com/in/terry-cross-1047b21b', 'https://www.linkedin.com/in/oardalan', 'https://www.linkedin.com/in/christianjamesmurray', 'https://www.google.com/search?q=site:linkedin.com/in/+Education+is+UC+Berkeley+works+as+Software+Engineer&start=120', 'https://www.google.com/search?q=site:linkedin.com/in/+Education+is+UC+Berkeley+works+as+Software+Engineer&start=130', 'https://www.linkedin.com/in/owen-ye', 'https://www.linkedin.com/in/ashishshrestha13', 'https://www.linkedin.com/in/christianjc09', 'https://www.linkedin.com/in/allenxlzhou', 'https://www.linkedin.com/in/qu-david', 'https://www.linkedin.com/in/madeline-kim-profile', 'https://www.linkedin.com/in/cli2032', 'https://www.linkedin.com/in/henry-l-b0a65b27', 'https://www.linkedin.com/in/zoe-kuebrich', 'https://www.linkedin.com/in/andrew-blum', 'https://www.google.com/search?q=site:linkedin.com/in/+Education+is+UC+Berkeley+works+as+Software+Engineer&start=130', 'https://www.google.com/search?q=site:linkedin.com/in/+Education+is+UC+Berkeley+works+as+Software+Engineer&start=140', 'https://www.linkedin.com/in/anujpanta', 'https://www.linkedin.com/in/michael-khaykin', 'https://www.linkedin.com/in/gunnarmein', 'https://www.linkedin.com/in/david-li-berkeley', 'https://www.linkedin.com/in/teresa-luo-lmk1210', 'https://www.linkedin.com/in/james-lukas-3044b5213', 'https://www.linkedin.com/in/aarushi0806', 'https://www.linkedin.com/in/arhubdulal', 'https://www.linkedin.com/in/mariela-hernandez', 'https://www.linkedin.com/in/joshua-lu-8748a2244', 'https://www.google.com/search?q=site:linkedin.com/in/+Education+is+UC+Berkeley+works+as+Software+Engineer&start=140', 'https://www.google.com/search?q=site:linkedin.com/in/+Education+is+UC+Berkeley+works+as+Software+Engineer&start=150', 'https://www.linkedin.com/in/jakecha', 'https://www.linkedin.com/in/chrispencer', 'https://www.linkedin.com/in/julianmeyn', 'https://www.linkedin.com/in/aprilczhang', 'https://www.linkedin.com/in/siddhant-sharma-cs', 'https://www.linkedin.com/in/ronan-liu', 'https://www.linkedin.com/in/junseo-yoo', 'https://www.linkedin.com/in/jeffrey-jacob1', 'https://www.linkedin.com/in/morrell-nioble14', 'https://www.linkedin.com/in/jonathan-nguyen-a6781220b', 'https://www.google.com/search?q=site:linkedin.com/in/+Education+is+UC+Berkeley+works+as+Software+Engineer&start=150', 'https://www.google.com/search?q=site:linkedin.com/in/+Education+is+UC+Berkeley+works+as+Software+Engineer&start=160', 'https://www.linkedin.com/in/destiny-luong', 'https://www.linkedin.com/in/gauravshah7', 'https://www.linkedin.com/in/bernardo-rodriguez-764a0a159', 'https://www.linkedin.com/in/ava-shah-03709773', 'https://www.linkedin.com/in/andrew-kaplan-83b54915a', 'https://www.linkedin.com/in/brian-she', 'https://www.linkedin.com/in/devin-sze', 'https://www.linkedin.com/in/siya--patel', 'https://www.linkedin.com/in/ria-jain-6baaa41b3', 'https://www.linkedin.com/in/manpazito', 'https://www.google.com/search?q=site:linkedin.com/in/+Education+is+UC+Berkeley+works+as+Software+Engineer&start=160', 'https://www.google.com/search?q=site:linkedin.com/in/+Education+is+UC+Berkeley+works+as+Software+Engineer&start=170', 'https://www.linkedin.com/in/gabriel-sucich-6a28a71a8', 'https://www.linkedin.com/in/thomas-twist', 'https://www.linkedin.com/in/jorge-nunez24', 'https://www.linkedin.com/in/valerie-yip', 'https://www.linkedin.com/in/william-tang-cal', 'https://www.linkedin.com/in/lee-jane', 'https://www.linkedin.com/in/edreesg', 'https://www.linkedin.com/in/timothy-le-cs', 'https://www.linkedin.com/in/thanhnguyen66', 'https://www.linkedin.com/in/seokmin-song-3b23b4234', 'https://www.google.com/search?q=site:linkedin.com/in/+Education+is+UC+Berkeley+works+as+Software+Engineer&start=170', 'https://www.google.com/search?q=site:linkedin.com/in/+Education+is+UC+Berkeley+works+as+Software+Engineer&start=180', 'https://www.linkedin.com/in/-jaisingh', 'https://www.linkedin.com/in/aravind-srinivas-16051987', 'https://uk.linkedin.com/in/andy-zhang-01ba51277', 'https://www.linkedin.com/in/alexander-kasperovich-0949a18a', 'https://www.linkedin.com/in/brendanbenner', 'https://www.linkedin.com/in/iriszhou-iyz', 'https://www.linkedin.com/in/elizabeth-j-john', 'https://www.linkedin.com/in/christine-nguyenl', 'https://www.linkedin.com/in/kyuds', 'https://www.linkedin.com/in/jeremy-ferguson-66051715a', 'https://www.google.com/search?q=site:linkedin.com/in/+Education+is+UC+Berkeley+works+as+Software+Engineer&start=180', 'https://www.google.com/search?q=site:linkedin.com/in/+Education+is+UC+Berkeley+works+as+Software+Engineer&start=190', 'https://www.linkedin.com/in/maxxianglin', 'https://www.linkedin.com/in/emilyma53', 'https://www.linkedin.com/in/derek-l-zhu', 'https://www.linkedin.com/in/matthew-dull2025', 'https://www.linkedin.com/in/justin-xue', 'https://www.linkedin.com/in/renlin0424', 'https://www.linkedin.com/in/alexvnguyen0', 'https://www.linkedin.com/in/evelyn-ho-5897bb1b1', 'https://www.linkedin.com/in/edwardbsa', 'https://www.linkedin.com/in/annielee1157', 'https://www.google.com/search?q=site:linkedin.com/in/+Education+is+UC+Berkeley+works+as+Software+Engineer&start=190']\n"
     ]
    },
    {
     "data": {
      "text/plain": [
       "121"
      ]
     },
     "execution_count": 60,
     "metadata": {},
     "output_type": "execute_result"
    }
   ],
   "source": [
    "# pprint(response.json())\n",
    "SWEsecdata = response.json()\n",
    "SWEsecdata_linkedin_urls = extract_linkedin_urls(SWEsecdata)\n",
    "SWEsecdata_linkedin_urls = SWEsecdata_linkedin_urls[1:len(SWEsecdata_linkedin_urls) - 1]\n",
    "print(SWEsecdata_linkedin_urls)\n",
    "len(SWEsecdata_linkedin_urls)"
   ]
  },
  {
   "cell_type": "code",
   "execution_count": 62,
   "id": "41a7f1d4-f34f-4cc7-8a39-965f6ac05dd0",
   "metadata": {},
   "outputs": [],
   "source": [
    "from pprint import pprint\n",
    "import requests\n",
    "\n",
    "payload = {\n",
    "    'source': 'google',\n",
    "    'url': 'https://www.google.com/search?q=site:linkedin.com/in/+Education+is+UC+Berkeley+works+as+Software+Engineer',\n",
    "    'parse': True,\n",
    "    'start_page': 21,\n",
    "    'pages': 10,\n",
    "    'limit': 100\n",
    "}\n",
    "\n",
    "response = requests.request(\n",
    "    'POST',\n",
    "    'https://realtime.oxylabs.io/v1/queries',\n",
    "    auth=('satwikapaul_oZIdD', 'Fttkhcvnfttkhcvn6_'),\n",
    "    json=payload\n",
    ")"
   ]
  },
  {
   "cell_type": "code",
   "execution_count": 64,
   "id": "399ecc1a-ecb1-48bf-97d7-b3b48c08e2b4",
   "metadata": {},
   "outputs": [
    {
     "name": "stdout",
     "output_type": "stream",
     "text": [
      "['https://www.linkedin.com/in/ericaliu27', 'https://www.linkedin.com/in/alexfeng2000', 'https://www.linkedin.com/in/siya--patel', 'https://www.linkedin.com/in/andrew-lenz', 'https://www.linkedin.com/in/jerryzhao1', 'https://www.linkedin.com/in/david-li-berkeley', 'https://www.linkedin.com/in/colin-newman-819327211', 'https://www.linkedin.com/in/davidzhang3858', 'https://www.linkedin.com/in/bilalsyed7', 'https://www.linkedin.com/in/jwberkley', 'https://www.google.com/search?q=site:linkedin.com/in/+Education+is+UC+Berkeley+works+as+Software+Engineer&start=200', 'https://www.google.com/search?q=site:linkedin.com/in/+Education+is+UC+Berkeley+works+as+Software+Engineer&start=210', 'https://www.linkedin.com/in/jaansi', 'https://www.linkedin.com/in/alexander-ng-cal', 'https://www.linkedin.com/in/lnavarret010', 'https://www.linkedin.com/in/colin-o-brien-bb27a1214', 'https://www.linkedin.com/in/woohyunmjo', 'https://www.linkedin.com/in/brywong', 'https://www.linkedin.com/in/selene-huang', 'https://www.linkedin.com/in/jasonduongg', 'https://www.linkedin.com/in/david-liu-67ab7b21a/', 'https://www.linkedin.com/in/kelly-tsai', 'https://www.google.com/search?q=site:linkedin.com/in/+Education+is+UC+Berkeley+works+as+Software+Engineer&start=210', 'https://www.google.com/search?q=site:linkedin.com/in/+Education+is+UC+Berkeley+works+as+Software+Engineer&start=220', 'https://www.linkedin.com/in/zoe-kuebrich', 'https://www.linkedin.com/in/josephbirtman', 'https://www.linkedin.com/in/bilalsyed7', 'https://www.linkedin.com/in/kevinmen', 'https://www.linkedin.com/in/shrshnk', 'https://www.linkedin.com/in/vivienn', 'https://www.linkedin.com/in/colin-o-brien-bb27a1214', 'https://www.linkedin.com/in/derektantech', 'https://www.linkedin.com/in/joey-stringer', 'https://www.linkedin.com/in/iriszhou-iyz', 'https://www.google.com/search?q=site:linkedin.com/in/+Education+is+UC+Berkeley+works+as+Software+Engineer&start=220', 'https://www.google.com/search?q=site:linkedin.com/in/+Education+is+UC+Berkeley+works+as+Software+Engineer&start=230', 'https://www.linkedin.com/in/philip-ha', 'https://www.linkedin.com/in/james-bartman', 'https://www.linkedin.com/in/alanzhang-', 'https://www.linkedin.com/in/shrshnk', 'https://www.linkedin.com/in/andrewroblesdev', 'https://www.linkedin.com/in/andrew-zhang0', 'https://www.linkedin.com/in/andrewzhang2001', 'https://www.linkedin.com/in/david-sanchez-240568282', 'https://www.linkedin.com/in/derek-lee-68536692', 'https://www.linkedin.com/in/deanmzhang', 'https://www.google.com/search?q=site:linkedin.com/in/+Education+is+UC+Berkeley+works+as+Software+Engineer&start=230', 'https://www.google.com/search?q=site:linkedin.com/in/+Education+is+UC+Berkeley+works+as+Software+Engineer&start=240', 'https://www.linkedin.com/in/william-he-28759016b', 'https://www.linkedin.com/in/jasmine-he-bb99921b5', 'https://www.linkedin.com/in/ryandengland', 'https://www.linkedin.com/in/michael-zhang-4109a1220', 'https://www.linkedin.com/in/derek-zheng-a84b50225', 'https://www.linkedin.com/in/maria-brito', 'https://www.linkedin.com/in/james-waller-823556291', 'https://www.linkedin.com/in/josh-davis-dev', 'https://www.linkedin.com/in/andrewzhang2001', 'https://www.linkedin.com/in/ethanzhang09', 'https://www.google.com/search?q=site:linkedin.com/in/+Education+is+UC+Berkeley+works+as+Software+Engineer&start=240', 'https://www.google.com/search?q=site:linkedin.com/in/+Education+is+UC+Berkeley+works+as+Software+Engineer&start=250', 'https://www.linkedin.com/in/andrew-che-314a55172', 'https://www.linkedin.com/in/stevenchri', 'https://www.linkedin.com/in/miles-green-190050277', 'https://www.linkedin.com/in/joshdhubert', 'https://www.linkedin.com/in/vivianzliu', 'https://www.linkedin.com/in/rachel-kim-037708190', 'https://www.linkedin.com/in/derek-lee-68536692', 'https://www.linkedin.com/in/agarwal-karan', 'https://www.linkedin.com/in/jessetwolf', 'https://www.linkedin.com/in/eugene-lee-069b9b177', 'https://www.google.com/search?q=site:linkedin.com/in/+Education+is+UC+Berkeley+works+as+Software+Engineer&start=250', 'https://www.google.com/search?q=site:linkedin.com/in/+Education+is+UC+Berkeley+works+as+Software+Engineer&start=260', 'https://www.linkedin.com/in/brendan-kariithi', 'https://www.linkedin.com/in/andrewroblesdev', 'https://www.linkedin.com/in/briannaklopez', 'https://www.linkedin.com/in/shirleyxliu', 'https://www.linkedin.com/in/ivy-ivl-liu', 'https://www.linkedin.com/in/chanconan', 'https://www.linkedin.com/in/maryfrancesanderson', 'https://www.linkedin.com/in/sabrinakma', 'https://www.linkedin.com/in/manishsingh97', 'https://www.linkedin.com/in/maxsye', 'https://www.google.com/search?q=site:linkedin.com/in/+Education+is+UC+Berkeley+works+as+Software+Engineer&start=260', 'https://www.google.com/search?q=site:linkedin.com/in/+Education+is+UC+Berkeley+works+as+Software+Engineer&start=270', 'https://www.linkedin.com/in/junaid-ahmad-b1751a1b5', 'https://www.linkedin.com/in/morganrconnolly', 'https://www.linkedin.com/in/michael-wang-959670165', 'https://www.linkedin.com/in/lcai', 'https://www.linkedin.com/in/caseyrkim', 'https://www.linkedin.com/in/eduardo-lopez-42186b1b2', 'https://www.linkedin.com/in/brandon-c-454682b1', 'https://www.linkedin.com/in/kush-patel-053973216', 'https://www.linkedin.com/in/abhijitprograms', 'https://www.linkedin.com/in/devojha', 'https://www.google.com/search?q=site:linkedin.com/in/+Education+is+UC+Berkeley+works+as+Software+Engineer&start=270', 'https://www.google.com/search?q=site:linkedin.com/in/+Education+is+UC+Berkeley+works+as+Software+Engineer&start=280', 'https://www.linkedin.com/in/emma-juliette-brown', 'https://www.linkedin.com/in/renlin0424', 'https://www.linkedin.com/in/erick-andres-608b8b8b', 'https://www.linkedin.com/in/lucdar', 'https://www.linkedin.com/in/garciaericsteven', 'https://www.linkedin.com/in/nidu-rahubedde-2a4347219', 'https://www.linkedin.com/in/jmcool', 'https://ca.linkedin.com/in/hanjin0', 'https://www.linkedin.com/in/fay-yang-2131071a3', 'https://ca.linkedin.com/in/will-wts/zh-tw', 'https://www.google.com/search?q=site:linkedin.com/in/+Education+is+UC+Berkeley+works+as+Software+Engineer&start=280', 'https://www.google.com/search?q=site:linkedin.com/in/+Education+is+UC+Berkeley+works+as+Software+Engineer&start=290', 'https://eg.linkedin.com/in/elarabyelaidy', 'https://ir.linkedin.com/in/mahdi-rouhi-500183263?trk=org-employees', 'https://ph.linkedin.com/in/kai-doe-80438b6b', 'https://in.linkedin.com/in/anand-balundagi-157431126', 'https://cn.linkedin.com/in/han-liao-33190325a', 'https://in.linkedin.com/in/shagufa-salman-9aa65718b', 'https://br.linkedin.com/in/caio-abreu/en', 'https://in.linkedin.com/in/himanshu-sharma-5b3339278', 'https://uk.linkedin.com/in/andy-zhang-01ba51277', 'https://de.linkedin.com/in/kishor-rohankar-44136b170', 'https://www.google.com/search?q=site:linkedin.com/in/+Education+is+UC+Berkeley+works+as+Software+Engineer&start=290']\n"
     ]
    },
    {
     "data": {
      "text/plain": [
       "119"
      ]
     },
     "execution_count": 64,
     "metadata": {},
     "output_type": "execute_result"
    }
   ],
   "source": [
    "# pprint(response.json())\n",
    "SWE3data = response.json()\n",
    "SWE3data_linkedin_urls = extract_linkedin_urls(SWE3data)\n",
    "SWE3data_linkedin_urls = SWE3data_linkedin_urls[1:len(SWE3data_linkedin_urls) - 1]\n",
    "print(SWE3data_linkedin_urls)\n",
    "len(SWE3data_linkedin_urls)"
   ]
  },
  {
   "cell_type": "code",
   "execution_count": 70,
   "id": "dbf15c7b-5c6f-4f37-9808-e770cebbedd5",
   "metadata": {},
   "outputs": [],
   "source": [
    "from pprint import pprint\n",
    "import requests\n",
    "\n",
    "payload = {\n",
    "    'source': 'google',\n",
    "    'url': 'https://www.google.com/search?q=site:linkedin.com/in/+Education+is+UC+Berkeley+works+as+Software+Engineer',\n",
    "    'parse': True,\n",
    "    'start_page': 31,\n",
    "    'pages': 10,\n",
    "    'limit': 100\n",
    "}\n",
    "\n",
    "response = requests.request(\n",
    "    'POST',\n",
    "    'https://realtime.oxylabs.io/v1/queries',\n",
    "    auth=('satwikapaul_oZIdD', 'Fttkhcvnfttkhcvn6_'),\n",
    "    json=payload\n",
    ")"
   ]
  },
  {
   "cell_type": "code",
   "execution_count": 71,
   "id": "ffd53fe5-4285-4b33-acd6-f66cf04f6ef2",
   "metadata": {},
   "outputs": [
    {
     "name": "stdout",
     "output_type": "stream",
     "text": [
      "['https://www.google.com/search?q=site:linkedin.com/in/+Education+is+UC+Berkeley+works+as+Software+Engineer&start=300', 'https://www.linkedin.com/in/aravind-srinivas-16051987', 'https://www.google.com/search?q=site:linkedin.com/in/+Education+is+UC+Berkeley+works+as+Software+Engineer&start=300', 'https://www.google.com/search?q=site:linkedin.com/in/+Education+is+UC+Berkeley+works+as+Software+Engineer&start=310', 'https://www.google.com/search?q=site:linkedin.com/in/+Education+is+UC+Berkeley+works+as+Software+Engineer&start=310', 'https://www.google.com/search?q=site:linkedin.com/in/+Education+is+UC+Berkeley+works+as+Software+Engineer']\n"
     ]
    },
    {
     "data": {
      "text/plain": [
       "6"
      ]
     },
     "execution_count": 71,
     "metadata": {},
     "output_type": "execute_result"
    }
   ],
   "source": [
    "#pprint(response.json())\n",
    "SWE4data = response.json()\n",
    "SWE4data_linkedin_urls = extract_linkedin_urls(SWE4data)\n",
    "# SWE4data_linkedin_urls = SWE3data_linkedin_urls[1:len(SWE3data_linkedin_urls) - 1]\n",
    "print(SWE4data_linkedin_urls)\n",
    "len(SWE4data_linkedin_urls)"
   ]
  },
  {
   "cell_type": "code",
   "execution_count": 74,
   "id": "b5bd7a14-9a73-4ae2-bc3e-3ab8f9fbf6e2",
   "metadata": {},
   "outputs": [],
   "source": [
    "from pprint import pprint\n",
    "import requests\n",
    "\n",
    "payload = {\n",
    "    'source': 'google',\n",
    "    'url': 'https://www.google.com/search?q=site%3Alinkedin.com%2Fin%2F+Education+is+UC+Berkeley+2019+-+2023+works+as+Software+Engineer',\n",
    "    'parse': True,\n",
    "    'start_page': 1,\n",
    "    'pages': 10,\n",
    "    'limit': 100\n",
    "}\n",
    "\n",
    "response = requests.request(\n",
    "    'POST',\n",
    "    'https://realtime.oxylabs.io/v1/queries',\n",
    "    auth=('satwikapaul_oZIdD', 'Fttkhcvnfttkhcvn6_'),\n",
    "    json=payload\n",
    ")"
   ]
  },
  {
   "cell_type": "code",
   "execution_count": 76,
   "id": "7b221138-6258-4eda-bc81-54ab04df538c",
   "metadata": {},
   "outputs": [
    {
     "name": "stdout",
     "output_type": "stream",
     "text": [
      "['https://www.google.com/search?q=site:linkedin.com/in/+Education+is+UC+Berkeley+2019+-+2023+works+as+Software+Engineer', 'https://www.linkedin.com/in/ishaan-agrawal', 'https://www.linkedin.com/in/michael-moses-8786b615', 'https://www.linkedin.com/in/roopak-phatak-01586b162', 'https://www.linkedin.com/in/yashgupta1357', 'https://www.linkedin.com/in/aishwarya-sriram', 'https://www.linkedin.com/in/-jaisingh', 'https://www.linkedin.com/in/jai-sharma1', 'https://www.linkedin.com/in/gupple', 'https://www.linkedin.com/in/jeffrey-jacob1', 'https://www.linkedin.com/in/ashleygbui', 'https://www.google.com/search?q=site:linkedin.com/in/+Education+is+UC+Berkeley+2019+-+2023+works+as+Software+Engineer', 'https://www.google.com/search?q=site:linkedin.com/in/+Education+is+UC+Berkeley+2019+-+2023+works+as+Software+Engineer&start=10', 'https://www.linkedin.com/in/ashleygbui', 'https://www.linkedin.com/in/aayushijain2025', 'https://www.linkedin.com/in/nathannakamitsu', 'https://www.linkedin.com/in/aarushi0806', 'https://www.linkedin.com/in/aditya-bej-029381110', 'https://www.linkedin.com/in/beau-bullitt', 'https://www.linkedin.com/in/mayanksethi31/', 'https://www.linkedin.com/in/niralishah05', 'https://www.linkedin.com/in/georgeykim', 'https://www.linkedin.com/in/josh-davis-dev', 'https://www.google.com/search?q=site:linkedin.com/in/+Education+is+UC+Berkeley+2019+-+2023+works+as+Software+Engineer&start=10', 'https://www.google.com/search?q=site:linkedin.com/in/+Education+is+UC+Berkeley+2019+-+2023+works+as+Software+Engineer&start=20', 'https://www.linkedin.com/in/christianjc09', 'https://www.linkedin.com/in/antonioquesada0', 'https://www.linkedin.com/in/kaleachu', 'https://www.linkedin.com/in/michellekroll01', 'https://www.linkedin.com/in/john-tae-21a219117', 'https://www.linkedin.com/in/david-jaeyoon-lee', 'https://www.linkedin.com/in/agarwal-karan', 'https://www.linkedin.com/in/carter-watts', 'https://www.linkedin.com/in/ansh-verma', 'https://www.linkedin.com/in/james-bartman', 'https://www.google.com/search?q=site:linkedin.com/in/+Education+is+UC+Berkeley+2019+-+2023+works+as+Software+Engineer&start=20', 'https://www.google.com/search?q=site:linkedin.com/in/+Education+is+UC+Berkeley+2019+-+2023+works+as+Software+Engineer&start=30', 'https://www.linkedin.com/in/johnjhlee', 'https://www.linkedin.com/in/christine-nguyenl', 'https://www.linkedin.com/in/roberto-guillen', 'https://www.linkedin.com/in/aishwarya-sriram', 'https://www.linkedin.com/in/owen-ye', 'https://www.linkedin.com/in/evan-gao', 'https://www.linkedin.com/in/maxsye', 'https://www.linkedin.com/in/shrshnk', 'https://www.linkedin.com/in/devi-sivakumar', 'https://www.linkedin.com/in/williampnguyen', 'https://www.google.com/search?q=site:linkedin.com/in/+Education+is+UC+Berkeley+2019+-+2023+works+as+Software+Engineer&start=30', 'https://www.google.com/search?q=site:linkedin.com/in/+Education+is+UC+Berkeley+2019+-+2023+works+as+Software+Engineer&start=40', 'https://www.linkedin.com/in/kushagras481', 'https://www.linkedin.com/in/brendanbenner', 'https://www.linkedin.com/in/cesar-gamez-184aa91b9', 'https://www.linkedin.com/in/tranjoanne', 'https://www.linkedin.com/in/camilamesquita', 'https://www.linkedin.com/in/yashjain75', 'https://www.linkedin.com/in/itsalexye', 'https://www.linkedin.com/in/jason-lee24', 'https://www.linkedin.com/in/james-coker-40294764', 'https://www.linkedin.com/in/briannaklopez', 'https://www.google.com/search?q=site:linkedin.com/in/+Education+is+UC+Berkeley+2019+-+2023+works+as+Software+Engineer&start=40', 'https://www.google.com/search?q=site:linkedin.com/in/+Education+is+UC+Berkeley+2019+-+2023+works+as+Software+Engineer&start=50', 'https://www.linkedin.com/in/lisasamwang', 'https://www.linkedin.com/in/whitelisab', 'https://in.linkedin.com/in/pratham-prasoon-06900718a', 'https://www.linkedin.com/in/saathvik-selvan', 'https://www.linkedin.com/in/mykolwu', 'https://www.linkedin.com/in/johnteng9', 'https://www.linkedin.com/in/amaansupariwala', 'https://www.linkedin.com/in/nazcol', 'https://www.linkedin.com/in/alex-rao-346b47156', 'https://www.linkedin.com/in/shreyagupta268', 'https://www.google.com/search?q=site:linkedin.com/in/+Education+is+UC+Berkeley+2019+-+2023+works+as+Software+Engineer&start=50', 'https://www.google.com/search?q=site:linkedin.com/in/+Education+is+UC+Berkeley+2019+-+2023+works+as+Software+Engineer&start=60', 'https://www.linkedin.com/in/pongsatorn-chanpanichravee', 'https://www.linkedin.com/in/ankita-budhraja', 'https://www.linkedin.com/in/iriszhou-iyz', 'https://www.linkedin.com/in/ishan-dogra', 'https://www.linkedin.com/in/ivan-garcia-sanchez-b64516236', 'https://www.linkedin.com/in/bijan-safai-2321b7141', 'https://www.linkedin.com/in/nashibdahal', 'https://www.linkedin.com/in/satokoayabe', 'https://in.linkedin.com/in/shankhanil974', 'https://www.linkedin.com/in/sidmanu', 'https://www.google.com/search?q=site:linkedin.com/in/+Education+is+UC+Berkeley+2019+-+2023+works+as+Software+Engineer&start=60', 'https://www.google.com/search?q=site:linkedin.com/in/+Education+is+UC+Berkeley+2019+-+2023+works+as+Software+Engineer&start=70', 'https://www.linkedin.com/in/stephaniefong99', 'https://www.linkedin.com/in/m-trinh', 'https://www.linkedin.com/in/nandini-agarwal-profile', 'https://www.linkedin.com/in/anthony-zhu-3182a1187', 'https://www.linkedin.com/in/shreya-satheesh', 'https://www.linkedin.com/in/shadaj', 'https://www.linkedin.com/in/brian-yoo-84288b9a', 'https://www.linkedin.com/in/iamakshat', 'https://www.linkedin.com/in/cjbarkbark', 'https://www.linkedin.com/in/aravind-srinivas-16051987', 'https://www.google.com/search?q=site:linkedin.com/in/+Education+is+UC+Berkeley+2019+-+2023+works+as+Software+Engineer&start=70', 'https://www.google.com/search?q=site:linkedin.com/in/+Education+is+UC+Berkeley+2019+-+2023+works+as+Software+Engineer&start=80', 'https://www.linkedin.com/in/sachin-jain-727181ab', 'https://www.linkedin.com/in/rachel-ngjiemin', 'https://www.linkedin.com/in/zhuminghui17/', 'https://www.linkedin.com/in/jasmine-bae', 'https://www.linkedin.com/in/jordan-bailey-112750183', 'https://www.linkedin.com/in/guzmanenrique', 'https://www.linkedin.com/in/lan-nguyen-3995b9193', 'https://www.linkedin.com/in/loren-lee-721505175', 'https://www.linkedin.com/in/cyruswise/', 'https://www.linkedin.com/in/moonwonlee', 'https://www.google.com/search?q=site:linkedin.com/in/+Education+is+UC+Berkeley+2019+-+2023+works+as+Software+Engineer&start=80', 'https://www.google.com/search?q=site:linkedin.com/in/+Education+is+UC+Berkeley+2019+-+2023+works+as+Software+Engineer&start=90', 'https://www.linkedin.com/in/sean-bray-a41596117', 'https://www.linkedin.com/in/jatin-batta-657532179', 'https://www.linkedin.com/in/aviral-mishra-4a176a162', 'https://www.linkedin.com/in/kyledsherman', 'https://www.linkedin.com/in/beliz-yilmaz', 'https://www.linkedin.com/in/vishalvinjapuri', 'https://www.linkedin.com/in/lianting', 'https://www.linkedin.com/in/rushnan-alam-b98674190', 'https://www.linkedin.com/in/yushgoel', 'https://in.linkedin.com/in/ritwik-raha', 'https://www.google.com/search?q=site:linkedin.com/in/+Education+is+UC+Berkeley+2019+-+2023+works+as+Software+Engineer&start=90']\n"
     ]
    },
    {
     "data": {
      "text/plain": [
       "120"
      ]
     },
     "execution_count": 76,
     "metadata": {},
     "output_type": "execute_result"
    }
   ],
   "source": [
    "#pprint(response.json())\n",
    "SWE5data = response.json()\n",
    "SWE5data_linkedin_urls = extract_linkedin_urls(SWE5data)\n",
    "# SWE4data_linkedin_urls = SWE3data_linkedin_urls[1:len(SWE3data_linkedin_urls) - 1]\n",
    "print(SWE5data_linkedin_urls)\n",
    "len(SWE5data_linkedin_urls)"
   ]
  },
  {
   "cell_type": "code",
   "execution_count": 77,
   "id": "b29c13b3-1933-40ba-b7c8-ee31c919c508",
   "metadata": {},
   "outputs": [],
   "source": [
    "from pprint import pprint\n",
    "import requests\n",
    "\n",
    "payload = {\n",
    "    'source': 'google',\n",
    "    'url': 'https://www.google.com/search?q=site%3Alinkedin.com%2Fin%2F+Education+is+UC+Berkeley+2019+-+2023+works+as+Software+Engineer',\n",
    "    'parse': True,\n",
    "    'start_page': 11,\n",
    "    'pages': 10,\n",
    "    'limit': 100\n",
    "}\n",
    "\n",
    "response = requests.request(\n",
    "    'POST',\n",
    "    'https://realtime.oxylabs.io/v1/queries',\n",
    "    auth=('satwikapaul_oZIdD', 'Fttkhcvnfttkhcvn6_'),\n",
    "    json=payload\n",
    ")"
   ]
  },
  {
   "cell_type": "code",
   "execution_count": 78,
   "id": "9e556797-8e7d-480c-b092-40baa524b340",
   "metadata": {},
   "outputs": [
    {
     "name": "stdout",
     "output_type": "stream",
     "text": [
      "['https://www.google.com/search?q=site:linkedin.com/in/+Education+is+UC+Berkeley+2019+-+2023+works+as+Software+Engineer&start=100', 'https://www.linkedin.com/in/brendanbenner', 'https://www.linkedin.com/in/vishalvinjapuri', 'https://www.linkedin.com/in/danielw23', 'https://www.linkedin.com/in/adrian-morales-a5b400190', 'https://www.linkedin.com/in/brent-sienko', 'https://www.linkedin.com/in/bradley-gutfinger-3a6748132', 'https://www.linkedin.com/in/samtaplin', 'https://www.linkedin.com/in/ronan-liu', 'https://www.linkedin.com/in/giovanni-e-pacheco', 'https://www.linkedin.com/in/hunter-stroming', 'https://www.google.com/search?q=site:linkedin.com/in/+Education+is+UC+Berkeley+2019+-+2023+works+as+Software+Engineer&start=100', 'https://www.google.com/search?q=site:linkedin.com/in/+Education+is+UC+Berkeley+2019+-+2023+works+as+Software+Engineer&start=110', 'https://www.linkedin.com/in/aravind-srinivas-16051987', 'https://www.linkedin.com/in/alexander-zhou-a031ba149', 'https://www.linkedin.com/in/alexei-ionov', 'https://www.linkedin.com/in/savinay-c', 'https://www.linkedin.com/in/manaals', 'https://www.linkedin.com/in/david-bian-529b9815a', 'https://www.linkedin.com/in/alishazal/', 'https://www.linkedin.com/in/jason-telanoff', 'https://www.linkedin.com/in/hailey-jang-8610951b8', 'https://www.linkedin.com/in/shoumik', 'https://www.google.com/search?q=site:linkedin.com/in/+Education+is+UC+Berkeley+2019+-+2023+works+as+Software+Engineer&start=110', 'https://www.google.com/search?q=site:linkedin.com/in/+Education+is+UC+Berkeley+2019+-+2023+works+as+Software+Engineer&start=120', 'https://www.linkedin.com/in/georgeykim', 'https://www.linkedin.com/in/james-bartman', 'https://www.linkedin.com/in/jeffrey-jacob1', 'https://www.linkedin.com/in/jaansi', 'https://www.linkedin.com/in/jeremy-ferguson-66051715a', 'https://www.linkedin.com/in/rachel-ngjiemin', 'https://www.linkedin.com/in/julianna-white-780999139', 'https://www.linkedin.com/in/joshua-lu-8748a2244', 'https://www.linkedin.com/in/charlottelaw19', 'https://www.linkedin.com/in/siya--patel', 'https://www.linkedin.com/in/shirley-chen-a574891ba', 'https://www.linkedin.com/in/andrewydai', 'https://www.google.com/search?q=site:linkedin.com/in/+Education+is+UC+Berkeley+2019+-+2023+works+as+Software+Engineer&start=120', 'https://www.google.com/search?q=site:linkedin.com/in/+Education+is+UC+Berkeley+2019+-+2023+works+as+Software+Engineer&start=130', 'https://www.linkedin.com/in/jakecha', 'https://www.linkedin.com/in/kennethjwang', 'https://www.linkedin.com/in/bradley-tian', 'https://www.linkedin.com/in/grace-cao8', 'https://www.linkedin.com/in/lawrence-duong', 'https://www.linkedin.com/in/farhan-abdulla', 'https://www.linkedin.com/in/prisha-singh-0b8b331aa', 'https://www.linkedin.com/in/elizabeth-willard?trk=public_profile_samename-profile', 'https://www.linkedin.com/in/ashishshrestha13', 'https://www.linkedin.com/in/asliakalin', 'https://www.google.com/search?q=site:linkedin.com/in/+Education+is+UC+Berkeley+2019+-+2023+works+as+Software+Engineer&start=130', 'https://www.google.com/search?q=site:linkedin.com/in/+Education+is+UC+Berkeley+2019+-+2023+works+as+Software+Engineer&start=140', 'https://www.linkedin.com/in/gunnarmein', 'https://www.linkedin.com/in/alexander-derouen', 'https://www.linkedin.com/in/limsico', 'https://www.linkedin.com/in/qjsun', 'https://www.linkedin.com/in/juan-aldama', 'https://www.linkedin.com/in/kephams', 'https://www.linkedin.com/in/luka-cheney', 'https://www.linkedin.com/in/abdulhadi-hussein', 'https://www.linkedin.com/in/rahul-vijay-2697b41ab', 'https://www.linkedin.com/in/sukhamrits', 'https://www.google.com/search?q=site:linkedin.com/in/+Education+is+UC+Berkeley+2019+-+2023+works+as+Software+Engineer&start=140', 'https://www.google.com/search?q=site:linkedin.com/in/+Education+is+UC+Berkeley+2019+-+2023+works+as+Software+Engineer&start=150', 'https://www.linkedin.com/in/aishwaryagunaseelan', 'https://www.linkedin.com/in/zoe-kuebrich', 'https://www.linkedin.com/in/brendan-kariithi', 'https://www.linkedin.com/in/harrydalal', 'https://www.linkedin.com/in/michaeleugeneng', 'https://www.linkedin.com/in/-jaisingh', 'https://www.linkedin.com/in/derek-zheng-a84b50225', 'https://www.linkedin.com/in/ji-won-kim-1031', 'https://www.linkedin.com/in/seokmin-song-3b23b4234', 'https://www.linkedin.com/in/jenjprince', 'https://www.google.com/search?q=site:linkedin.com/in/+Education+is+UC+Berkeley+2019+-+2023+works+as+Software+Engineer&start=150', 'https://www.google.com/search?q=site:linkedin.com/in/+Education+is+UC+Berkeley+2019+-+2023+works+as+Software+Engineer&start=160', 'https://www.linkedin.com/in/vanessateo', 'https://www.linkedin.com/in/maansisingh', 'https://www.linkedin.com/in/shea', 'https://www.linkedin.com/in/devi-sivakumar', 'https://www.linkedin.com/in/cj-hines', 'https://www.linkedin.com/in/julia-sloan00', 'https://www.linkedin.com/in/eve-lin-18889b15a', 'https://www.linkedin.com/in/karora27', 'https://www.linkedin.com/in/willem-van-eck-113720a3', 'https://www.linkedin.com/in/kristie-huang', 'https://www.google.com/search?q=site:linkedin.com/in/+Education+is+UC+Berkeley+2019+-+2023+works+as+Software+Engineer&start=160', 'https://www.google.com/search?q=site:linkedin.com/in/+Education+is+UC+Berkeley+2019+-+2023+works+as+Software+Engineer&start=170', 'https://www.linkedin.com/in/ava-shah-03709773', 'https://www.linkedin.com/in/billou', 'https://www.linkedin.com/in/aryanmagrawal', 'https://www.linkedin.com/in/johnfshutler', 'https://www.linkedin.com/in/evelyn-ho-5897bb1b1', 'https://www.linkedin.com/in/jeremy-fischer', 'https://www.linkedin.com/in/anhkhoa-nguyen-86988315b', 'https://www.linkedin.com/in/jerryzhao1', 'https://www.linkedin.com/in/jlin4833', 'https://www.linkedin.com/in/julianmeyn', 'https://www.google.com/search?q=site:linkedin.com/in/+Education+is+UC+Berkeley+2019+-+2023+works+as+Software+Engineer&start=170', 'https://www.google.com/search?q=site:linkedin.com/in/+Education+is+UC+Berkeley+2019+-+2023+works+as+Software+Engineer&start=180', 'https://www.linkedin.com/in/brian-kim-664794175', 'https://www.linkedin.com/in/jonathanriveratorres', 'https://www.linkedin.com/in/ssgutier', 'https://www.linkedin.com/in/ashwaryeyadav', 'https://www.linkedin.com/in/curtiskswong', 'https://www.linkedin.com/in/julianxchow', 'https://www.linkedin.com/in/nihal-m-316370173', 'https://www.linkedin.com/in/petermiller310', 'https://www.linkedin.com/in/williampnguyen', 'https://www.linkedin.com/in/ibellawu', 'https://www.google.com/search?q=site:linkedin.com/in/+Education+is+UC+Berkeley+2019+-+2023+works+as+Software+Engineer&start=180', 'https://www.google.com/search?q=site:linkedin.com/in/+Education+is+UC+Berkeley+2019+-+2023+works+as+Software+Engineer&start=190', 'https://www.linkedin.com/in/alexdhunter', 'https://www.linkedin.com/in/akshatdas', 'https://www.linkedin.com/in/max-lee-berkeley', 'https://www.linkedin.com/in/ojas-upadhye-1431ab139', 'https://www.linkedin.com/in/manishsingh97', 'https://www.linkedin.com/in/nataliehoangg', 'https://www.linkedin.com/in/alexander-ng-cal', 'https://www.linkedin.com/in/alejandro-beltran-a99862249', 'https://www.linkedin.com/in/derektantech', 'https://www.linkedin.com/in/tony-di-sera-26872063', 'https://www.google.com/search?q=site:linkedin.com/in/+Education+is+UC+Berkeley+2019+-+2023+works+as+Software+Engineer&start=190']\n"
     ]
    },
    {
     "data": {
      "text/plain": [
       "122"
      ]
     },
     "execution_count": 78,
     "metadata": {},
     "output_type": "execute_result"
    }
   ],
   "source": [
    "#pprint(response.json())\n",
    "SWE6data = response.json()\n",
    "SWE6data_linkedin_urls = extract_linkedin_urls(SWE6data)\n",
    "# SWE4data_linkedin_urls = SWE3data_linkedin_urls[1:len(SWE3data_linkedin_urls) - 1]\n",
    "print(SWE6data_linkedin_urls)\n",
    "len(SWE6data_linkedin_urls)"
   ]
  },
  {
   "cell_type": "code",
   "execution_count": 80,
   "id": "e6b058d2-029f-4638-830a-96a0601fe7d7",
   "metadata": {},
   "outputs": [],
   "source": [
    "from pprint import pprint\n",
    "import requests\n",
    "\n",
    "payload = {\n",
    "    'source': 'google',\n",
    "    'url': 'https://www.google.com/search?q=site%3Alinkedin.com%2Fin%2F+Education+is+UC+Berkeley+2019+-+2023+works+as+Software+Engineer',\n",
    "    'parse': True,\n",
    "    'start_page': 21,\n",
    "    'pages': 10,\n",
    "}\n",
    "\n",
    "response = requests.request(\n",
    "    'POST',\n",
    "    'https://realtime.oxylabs.io/v1/queries',\n",
    "    auth=('satwikapaul_oZIdD', 'Fttkhcvnfttkhcvn6_'),\n",
    "    json=payload\n",
    ")"
   ]
  },
  {
   "cell_type": "code",
   "execution_count": 81,
   "id": "4cba46c5-5b46-4e57-9395-4c692d80531c",
   "metadata": {},
   "outputs": [
    {
     "name": "stdout",
     "output_type": "stream",
     "text": [
      "['https://www.google.com/search?q=site:linkedin.com/in/+Education+is+UC+Berkeley+2019+-+2023+works+as+Software+Engineer&start=200', 'https://www.linkedin.com/in/jenjprince', 'https://www.linkedin.com/in/aprilczhang', 'https://www.linkedin.com/in/ojas-upadhye-1431ab139', 'https://www.linkedin.com/in/derek-zheng-a84b50225', 'https://www.linkedin.com/in/matthew-sparrow-3b50b089', 'https://www.linkedin.com/in/srinivasan-madhavan', 'https://www.linkedin.com/in/ashwaryeyadav', 'https://www.linkedin.com/in/maax-kim', 'https://www.linkedin.com/in/lauren-russell-4b81a018a', 'https://www.linkedin.com/in/jakeson', 'https://www.google.com/search?q=site:linkedin.com/in/+Education+is+UC+Berkeley+2019+-+2023+works+as+Software+Engineer&start=200', 'https://www.google.com/search?q=site:linkedin.com/in/+Education+is+UC+Berkeley+2019+-+2023+works+as+Software+Engineer&start=210', 'https://www.linkedin.com/in/jeanie-lee-317a8b1a2', 'https://www.linkedin.com/in/jorge-nunez24', 'https://www.linkedin.com/in/lawrence-duong', 'https://www.linkedin.com/in/aviral-mishra-4a176a162', 'https://www.linkedin.com/in/michaeleugeneng', 'https://www.linkedin.com/in/jeremy-fischer', 'https://www.linkedin.com/in/alberto-julio-759854221', 'https://www.linkedin.com/in/tony-di-sera-26872063', 'https://www.linkedin.com/in/scott-gibson-743511179', 'https://www.linkedin.com/in/youngjin-park-0412b81a0', 'https://www.google.com/search?q=site:linkedin.com/in/+Education+is+UC+Berkeley+2019+-+2023+works+as+Software+Engineer&start=210', 'https://www.google.com/search?q=site:linkedin.com/in/+Education+is+UC+Berkeley+2019+-+2023+works+as+Software+Engineer&start=220', 'https://www.linkedin.com/in/brian-she', 'https://ca.linkedin.com/in/devdiegogarcia/pt', 'https://www.linkedin.com/in/srichandramouli', 'https://www.linkedin.com/in/ava-shah-03709773', 'https://www.linkedin.com/in/andrewydai', 'https://www.linkedin.com/in/ashutoshtiwaridev', 'https://www.linkedin.com/in/ssgutier', 'https://www.linkedin.com/in/acharyamahesh', 'https://www.linkedin.com/in/yuwen01', 'https://www.linkedin.com/in/julianmeyn', 'https://www.google.com/search?q=site:linkedin.com/in/+Education+is+UC+Berkeley+2019+-+2023+works+as+Software+Engineer&start=220', 'https://www.google.com/search?q=site:linkedin.com/in/+Education+is+UC+Berkeley+2019+-+2023+works+as+Software+Engineer&start=230', 'https://www.linkedin.com/in/eshaan-moorjani', 'https://www.linkedin.com/in/aidan-bell-2789a6220', 'https://www.linkedin.com/in/revanjafar', 'https://www.linkedin.com/in/anya-sengupta-3755201b6/', 'https://www.linkedin.com/in/alex-kondratiuk-7b2a0118a', 'https://www.linkedin.com/in/alexwang05', 'https://www.linkedin.com/in/tyler-szeto', 'https://www.linkedin.com/in/samantha-mosley', 'https://www.linkedin.com/in/eric-kim-cs', 'https://www.linkedin.com/in/chloeyeolokyee', 'https://www.google.com/search?q=site:linkedin.com/in/+Education+is+UC+Berkeley+2019+-+2023+works+as+Software+Engineer&start=230', 'https://www.google.com/search?q=site:linkedin.com/in/+Education+is+UC+Berkeley+2019+-+2023+works+as+Software+Engineer&start=240', 'https://www.linkedin.com/in/ryan-yu-595903201', 'https://www.linkedin.com/in/catherine-li-92460b9b', 'https://www.linkedin.com/in/leila-scola', 'https://www.linkedin.com/in/alexander-kasperovich-0949a18a', 'https://www.linkedin.com/in/manas-u-trivedi', 'https://www.linkedin.com/in/amos-cheng', 'https://www.linkedin.com/in/moonwonlee', 'https://www.linkedin.com/in/arhubdulal', 'https://www.linkedin.com/in/francescoronel', 'https://www.linkedin.com/in/anisha-tripathi-0824b9179', 'https://www.google.com/search?q=site:linkedin.com/in/+Education+is+UC+Berkeley+2019+-+2023+works+as+Software+Engineer&start=240', 'https://www.google.com/search?q=site:linkedin.com/in/+Education+is+UC+Berkeley+2019+-+2023+works+as+Software+Engineer&start=250', 'https://www.linkedin.com/in/kushagras481', 'https://www.linkedin.com/in/satokoayabe', 'https://www.linkedin.com/in/angierhoward', 'https://www.linkedin.com/in/aaron-r-williams', 'https://www.linkedin.com/in/lan-nguyen-3995b9193', 'https://www.linkedin.com/in/yuwen01', 'https://www.linkedin.com/in/shreya-shaji', 'https://www.linkedin.com/in/josh-davis-dev', 'https://www.linkedin.com/in/kush-patel-053973216', 'https://www.linkedin.com/in/krystal-karman', 'https://www.google.com/search?q=site:linkedin.com/in/+Education+is+UC+Berkeley+2019+-+2023+works+as+Software+Engineer&start=250', 'https://www.google.com/search?q=site:linkedin.com/in/+Education+is+UC+Berkeley+2019+-+2023+works+as+Software+Engineer&start=260', 'https://www.linkedin.com/in/finn-kirvan-6170a9207', 'https://www.linkedin.com/in/ishan-dogra', 'https://www.linkedin.com/in/johnjhlee', 'https://www.linkedin.com/in/jacob-just-buddy', 'https://www.linkedin.com/in/meet-raya-anderson', 'https://www.linkedin.com/in/weichenglam/ms', 'https://www.linkedin.com/in/ethanzhang09', 'https://www.linkedin.com/in/vedanshmalhotra', 'https://www.linkedin.com/in/teddysiker', 'https://www.linkedin.com/in/alex-fig375', 'https://www.google.com/search?q=site:linkedin.com/in/+Education+is+UC+Berkeley+2019+-+2023+works+as+Software+Engineer&start=260', 'https://www.google.com/search?q=site:linkedin.com/in/+Education+is+UC+Berkeley+2019+-+2023+works+as+Software+Engineer&start=270', 'https://www.linkedin.com/in/owen-lynch-89789b1b6', 'https://www.linkedin.com/in/henry-gardner', 'https://www.linkedin.com/in/alex-trinh-b21b4a195', 'https://www.linkedin.com/in/eduardo-lopez-42186b1b2', 'https://www.linkedin.com/in/kevin-sakai', 'https://www.linkedin.com/in/brian-yoo-84288b9a', 'https://www.linkedin.com/in/ethan-reece', 'https://www.linkedin.com/in/meganrdu', 'https://uk.linkedin.com/in/clare-heinbaugh', 'https://www.linkedin.com/in/maxsye', 'https://www.google.com/search?q=site:linkedin.com/in/+Education+is+UC+Berkeley+2019+-+2023+works+as+Software+Engineer&start=270', 'https://www.google.com/search?q=site:linkedin.com/in/+Education+is+UC+Berkeley+2019+-+2023+works+as+Software+Engineer&start=280', 'https://www.linkedin.com/in/alex-naumov-47823427', 'https://www.linkedin.com/in/breona-jenkins-2593a02b', 'https://www.linkedin.com/in/cyruswise/', 'https://www.linkedin.com/in/rachel-kim-037708190', 'https://www.linkedin.com/in/casey-olsen-profile', 'https://www.linkedin.com/in/beliz-yilmaz', 'https://www.linkedin.com/in/coleaperez', 'https://www.linkedin.com/in/alexsyeo', 'https://www.linkedin.com/in/michael-wang-959670165', 'https://www.linkedin.com/in/andrewzhang2001', 'https://www.google.com/search?q=site:linkedin.com/in/+Education+is+UC+Berkeley+2019+-+2023+works+as+Software+Engineer&start=280', 'https://www.google.com/search?q=site:linkedin.com/in/+Education+is+UC+Berkeley+2019+-+2023+works+as+Software+Engineer&start=290', 'https://www.linkedin.com/in/kasey-liu', 'https://www.linkedin.com/in/asaadharoun', 'https://www.linkedin.com/in/sachin-jain-727181ab', 'https://www.linkedin.com/in/garciaericsteven', 'https://www.linkedin.com/in/aravind-srinivas-16051987', 'https://www.linkedin.com/in/steven-bui-a594b01a1', 'https://www.linkedin.com/in/anhkhoa-nguyen-86988315b', 'https://ca.linkedin.com/in/devdiegogarcia/pt', 'https://www.linkedin.com/in/terry-cross-1047b21b', 'https://www.linkedin.com/in/yunfan-zhou/zh-cn', 'https://www.google.com/search?q=site:linkedin.com/in/+Education+is+UC+Berkeley+2019+-+2023+works+as+Software+Engineer&start=290']\n"
     ]
    },
    {
     "data": {
      "text/plain": [
       "120"
      ]
     },
     "execution_count": 81,
     "metadata": {},
     "output_type": "execute_result"
    }
   ],
   "source": [
    "#pprint(response.json())\n",
    "SWE7data = response.json()\n",
    "SWE7data_linkedin_urls = extract_linkedin_urls(SWE7data)\n",
    "# SWE4data_linkedin_urls = SWE3data_linkedin_urls[1:len(SWE3data_linkedin_urls) - 1]\n",
    "print(SWE7data_linkedin_urls)\n",
    "len(SWE7data_linkedin_urls)"
   ]
  },
  {
   "cell_type": "code",
   "execution_count": 83,
   "id": "5956469d-759c-409d-a069-55ce63b80a76",
   "metadata": {},
   "outputs": [],
   "source": [
    "from pprint import pprint\n",
    "import requests\n",
    "\n",
    "payload = {\n",
    "    'source': 'google',\n",
    "    'url': 'https://www.google.com/search?q=site%3Alinkedin.com%2Fin%2F+Education+is+UC+Berkeley+2019+-+2023+works+as+Software+Engineer',\n",
    "    'parse': True,\n",
    "    'start_page': 31,\n",
    "    'pages': 10,\n",
    "}\n",
    "\n",
    "response = requests.request(\n",
    "    'POST',\n",
    "    'https://realtime.oxylabs.io/v1/queries',\n",
    "    auth=('satwikapaul_oZIdD', 'Fttkhcvnfttkhcvn6_'),\n",
    "    json=payload\n",
    ")"
   ]
  },
  {
   "cell_type": "code",
   "execution_count": 84,
   "id": "09bee902-7725-40a6-a13c-a5ac6d64b7c6",
   "metadata": {},
   "outputs": [
    {
     "name": "stdout",
     "output_type": "stream",
     "text": [
      "['https://www.google.com/search?q=site:linkedin.com/in/+Education+is+UC+Berkeley+2019+-+2023+works+as+Software+Engineer&start=300', 'https://www.linkedin.com/in/asaadharoun', 'https://www.linkedin.com/in/garciaericsteven', 'https://www.linkedin.com/in/steven-bui-a594b01a1', 'https://in.linkedin.com/in/jay-thakre-52a43a261', 'https://www.linkedin.com/in/bernardo-rodriguez-764a0a159', 'https://in.linkedin.com/in/shantanu-singh-69b869245', 'https://www.linkedin.com/in/terry-cross-1047b21b', 'https://mm.linkedin.com/in/wai-yan-495736144', 'https://www.linkedin.com/in/arloeffler', 'https://jp.linkedin.com/in/hyunjoon-kim-70234089', 'https://www.google.com/search?q=site:linkedin.com/in/+Education+is+UC+Berkeley+2019+-+2023+works+as+Software+Engineer&start=300', 'https://www.google.com/search?q=site:linkedin.com/in/+Education+is+UC+Berkeley+2019+-+2023+works+as+Software+Engineer&start=310', 'https://no.linkedin.com/in/william-pham-0800542b1', 'https://hk.linkedin.com/in/chao-tan-703212117/zh-cn', 'https://kh.linkedin.com/in/xie-chen-6327952b3?trk=people-guest_people_search-card', 'https://ca.linkedin.com/in/michael-ip-62b3a7b4', 'https://ir.linkedin.com/in/faezeh-moradi-09772356', 'https://ca.linkedin.com/in/zhaoyuansun', 'https://ir.linkedin.com/in/hossein-rohani-72555677', 'https://tw.linkedin.com/in/jean-chen-%E9%99%B3%E6%80%A1%E9%9D%9C-99a94021a/en', 'https://ir.linkedin.com/in/edmond-dantes-44158a172', 'https://tw.linkedin.com/in/mr-pipa-5a82a11a0', 'https://www.google.com/search?q=site:linkedin.com/in/+Education+is+UC+Berkeley+2019+-+2023+works+as+Software+Engineer&start=310', 'https://www.google.com/search?q=site:linkedin.com/in/+Education+is+UC+Berkeley+2019+-+2023+works+as+Software+Engineer&start=320', 'https://ga.linkedin.com/in/oumar-balde-404123253', 'https://www.google.com/search?q=site:linkedin.com/in/+Education+is+UC+Berkeley+2019+-+2023+works+as+Software+Engineer&start=320', 'https://www.google.com/search?q=site:linkedin.com/in/+Education+is+UC+Berkeley+2019+-+2023+works+as+Software+Engineer&start=330', 'https://www.google.com/search?q=site:linkedin.com/in/+Education+is+UC+Berkeley+2019+-+2023+works+as+Software+Engineer&start=330']\n"
     ]
    },
    {
     "data": {
      "text/plain": [
       "29"
      ]
     },
     "execution_count": 84,
     "metadata": {},
     "output_type": "execute_result"
    }
   ],
   "source": [
    "#pprint(response.json())\n",
    "SWE8data = response.json()\n",
    "SWE8data_linkedin_urls = extract_linkedin_urls(SWE8data)\n",
    "# SWE4data_linkedin_urls = SWE3data_linkedin_urls[1:len(SWE3data_linkedin_urls) - 1]\n",
    "print(SWE8data_linkedin_urls)\n",
    "len(SWE8data_linkedin_urls)"
   ]
  },
  {
   "cell_type": "markdown",
   "id": "14f78b43-d4bd-4d94-b48f-0d6ae51f696e",
   "metadata": {
    "jp-MarkdownHeadingCollapsed": true,
    "tags": []
   },
   "source": [
    "# Investment Banking URLS #"
   ]
  },
  {
   "cell_type": "code",
   "execution_count": 85,
   "id": "6cd3a136-47bb-498c-a482-dcc8e808c2c2",
   "metadata": {},
   "outputs": [],
   "source": [
    "from pprint import pprint\n",
    "import requests\n",
    "\n",
    "payload = {\n",
    "    'source': 'google',\n",
    "    'url': 'https://www.google.com/search?q=site%3Alinkedin.com%2Fin%2F+Education+is+UC+Berkeley+works+in+investment+banking',\n",
    "    'parse': True,\n",
    "    'start_page': 1,\n",
    "    'pages': 10,\n",
    "}\n",
    "\n",
    "response = requests.request(\n",
    "    'POST',\n",
    "    'https://realtime.oxylabs.io/v1/queries',\n",
    "    auth=('satwikapaul_oZIdD', 'Fttkhcvnfttkhcvn6_'),\n",
    "    json=payload\n",
    ")\n"
   ]
  },
  {
   "cell_type": "code",
   "execution_count": 86,
   "id": "fc0cba65-8d26-4243-85ed-f41615de0621",
   "metadata": {},
   "outputs": [
    {
     "name": "stdout",
     "output_type": "stream",
     "text": [
      "['https://www.google.com/search?q=site:linkedin.com/in/+Education+is+UC+Berkeley+works+in+investment+banking', 'https://www.linkedin.com/in/andrew-naimark-b40a0a1b3', 'https://www.linkedin.com/in/jacqueline-obrien-6771451a0', 'https://www.linkedin.com/in/zhang-emily-j', 'https://www.linkedin.com/in/adityakwatra', 'https://www.linkedin.com/in/gusarah', 'https://www.linkedin.com/in/lily-zhang-13ba70105', 'https://www.linkedin.com/in/rachel-w-42a50b196', 'https://www.linkedin.com/in/justin-lee-02', 'https://www.linkedin.com/in/mocazhang', 'https://www.linkedin.com/in/perri-wang', 'https://www.google.com/search?q=site:linkedin.com/in/+Education+is+UC+Berkeley+works+in+investment+banking', 'https://www.google.com/search?q=site:linkedin.com/in/+Education+is+UC+Berkeley+works+in+investment+banking&start=10', 'https://www.linkedin.com/in/cassidy-burns-016392204', 'https://www.linkedin.com/in/michaeldgrimes', 'https://www.linkedin.com/in/collinaevans', 'https://www.linkedin.com/in/lewis-lu-26b4b9277', 'https://www.linkedin.com/in/bodhisilberling', 'https://www.linkedin.com/in/allysonguo', 'https://www.linkedin.com/in/arjungupta2', 'https://www.linkedin.com/in/jessica-yang-jy', 'https://www.linkedin.com/in/josephine-tai', 'https://www.linkedin.com/in/nashgujjalu', 'https://www.google.com/search?q=site:linkedin.com/in/+Education+is+UC+Berkeley+works+in+investment+banking&start=10', 'https://www.google.com/search?q=site:linkedin.com/in/+Education+is+UC+Berkeley+works+in+investment+banking&start=20', 'https://www.linkedin.com/in/carolyn-lu', 'https://www.linkedin.com/in/nihal-singh-9664271ab', 'https://www.linkedin.com/in/grace-chen-8394252b2', 'https://www.linkedin.com/in/michelle-chen-7274771ab', 'https://www.linkedin.com/in/samshiah', 'https://www.linkedin.com/in/henryhbi', 'https://www.linkedin.com/in/parisvarias', 'https://www.linkedin.com/in/rita-y-3649171aa', 'https://www.linkedin.com/in/jamesbao21', 'https://www.linkedin.com/in/clairejpliang', 'https://www.google.com/search?q=site:linkedin.com/in/+Education+is+UC+Berkeley+works+in+investment+banking&start=20', 'https://www.google.com/search?q=site:linkedin.com/in/+Education+is+UC+Berkeley+works+in+investment+banking&start=30', 'https://www.linkedin.com/in/nicolas-sharma', 'https://www.linkedin.com/in/mlove05', 'https://www.linkedin.com/in/meerashreegoel', 'https://www.linkedin.com/in/hull-xu', 'https://www.linkedin.com/in/eaton-sia-1b09781b9', 'https://www.linkedin.com/in/andrew-beliveau', 'https://www.linkedin.com/in/taha-banatwala', 'https://www.linkedin.com/in/alexa-tsai', 'https://www.linkedin.com/in/maggieschen', 'https://www.linkedin.com/in/neil-tamhankar', 'https://www.google.com/search?q=site:linkedin.com/in/+Education+is+UC+Berkeley+works+in+investment+banking&start=30', 'https://www.google.com/search?q=site:linkedin.com/in/+Education+is+UC+Berkeley+works+in+investment+banking&start=40', 'https://www.linkedin.com/in/jonathanjshen', 'https://www.linkedin.com/in/neil-tamhankar', 'https://www.linkedin.com/in/jessica-yang-jy', 'https://www.linkedin.com/in/jennifershaw02', 'https://www.linkedin.com/in/arav-singh2', 'https://www.linkedin.com/in/ajay-balaraman-b09295181', 'https://www.linkedin.com/in/taha-banatwala', 'https://www.linkedin.com/in/rafael-saviano-3078541a5', 'https://www.linkedin.com/in/shankarrahul', 'https://www.linkedin.com/in/leo-nc-wang', 'https://www.google.com/search?q=site:linkedin.com/in/+Education+is+UC+Berkeley+works+in+investment+banking&start=40', 'https://www.google.com/search?q=site:linkedin.com/in/+Education+is+UC+Berkeley+works+in+investment+banking&start=50', 'https://www.linkedin.com/in/adam-daneshrad-454950196', 'https://www.linkedin.com/in/marcelo-makhlouf', 'https://www.linkedin.com/in/benchon', 'https://www.linkedin.com/in/larry-guo-958949286', 'https://www.linkedin.com/in/angelicafrude', 'https://www.linkedin.com/in/yuanjunli974', 'https://www.linkedin.com/in/jenny-zhang614', 'https://www.linkedin.com/in/sanya-chaturvedi', 'https://www.linkedin.com/in/bkjh16', 'https://www.linkedin.com/in/kevin--liao', 'https://www.google.com/search?q=site:linkedin.com/in/+Education+is+UC+Berkeley+works+in+investment+banking&start=50', 'https://www.google.com/search?q=site:linkedin.com/in/+Education+is+UC+Berkeley+works+in+investment+banking&start=60', 'https://www.linkedin.com/in/joy-k-135413242', 'https://www.linkedin.com/in/jedin-truong', 'https://www.linkedin.com/in/-mattwong', 'https://www.linkedin.com/in/yoon-n-505159179', 'https://www.linkedin.com/in/yujinkim410', 'https://www.linkedin.com/in/abhisinghal', 'https://www.linkedin.com/in/andrew-stahlhuth-707232106', 'https://www.linkedin.com/in/sherlene-su-1166b521a', 'https://www.linkedin.com/in/cece-gu', 'https://www.linkedin.com/in/aryanpshah', 'https://www.google.com/search?q=site:linkedin.com/in/+Education+is+UC+Berkeley+works+in+investment+banking&start=60', 'https://www.google.com/search?q=site:linkedin.com/in/+Education+is+UC+Berkeley+works+in+investment+banking&start=70', 'https://www.linkedin.com/in/joyce-chen-1962a0189', 'https://www.linkedin.com/in/ishan-patel-0584b2285', 'https://www.linkedin.com/in/rebecca-hu-2003mar21', 'https://www.linkedin.com/in/abigail-mchugh', 'https://www.linkedin.com/in/elisa-marconell-tejedor/en', 'https://fr.linkedin.com/in/mateo-bidan-29538521a', 'https://www.linkedin.com/in/jack-zhang-abaa18215', 'https://www.linkedin.com/in/ignacio-bustamante-363ab3196', 'https://www.linkedin.com/in/alexa-tsai', 'https://www.linkedin.com/in/edward-shen-70b02b240', 'https://www.google.com/search?q=site:linkedin.com/in/+Education+is+UC+Berkeley+works+in+investment+banking&start=70', 'https://www.google.com/search?q=site:linkedin.com/in/+Education+is+UC+Berkeley+works+in+investment+banking&start=80', 'https://www.linkedin.com/in/krislee1113', 'https://www.linkedin.com/in/abigail-mchugh', 'https://fr.linkedin.com/in/mateo-bidan-29538521a', 'https://www.linkedin.com/in/chanelle-y-97625a1a6', 'https://www.linkedin.com/in/juan-gutierrez-25010b21a', 'https://www.linkedin.com/in/edward-shen-70b02b240', 'https://www.linkedin.com/in/olivia-wang-7b5670181', 'https://www.linkedin.com/in/shefali-breitbach', 'https://www.linkedin.com/in/bautista-guerrero', 'https://www.linkedin.com/in/rebecca-hu-2003mar21', 'https://www.google.com/search?q=site:linkedin.com/in/+Education+is+UC+Berkeley+works+in+investment+banking&start=80', 'https://www.google.com/search?q=site:linkedin.com/in/+Education+is+UC+Berkeley+works+in+investment+banking&start=90', 'https://www.linkedin.com/in/minh-phan-1402', 'https://www.linkedin.com/in/andy-song98', 'https://www.linkedin.com/in/chicheng-xu-00a124313', 'https://www.linkedin.com/in/joannachenberkeley', 'https://www.linkedin.com/in/vineelagogineni', 'https://www.linkedin.com/in/isaaclustig', 'https://www.linkedin.com/in/nathan-he-2001', 'https://www.linkedin.com/in/christinaxu22', 'https://www.linkedin.com/in/simranmalhotra1', 'https://www.linkedin.com/in/ruby-gao', 'https://www.google.com/search?q=site:linkedin.com/in/+Education+is+UC+Berkeley+works+in+investment+banking&start=90']\n"
     ]
    },
    {
     "data": {
      "text/plain": [
       "120"
      ]
     },
     "execution_count": 86,
     "metadata": {},
     "output_type": "execute_result"
    }
   ],
   "source": [
    "#pprint(response.json())\n",
    "ib1data = response.json()\n",
    "ib1data_linkedin_urls = extract_linkedin_urls(ib1data)\n",
    "print(ib1data_linkedin_urls)\n",
    "len(ib1data_linkedin_urls)"
   ]
  },
  {
   "cell_type": "code",
   "execution_count": 87,
   "id": "37082b62-26a3-4b84-a173-999fe68d3b6f",
   "metadata": {},
   "outputs": [],
   "source": [
    "from pprint import pprint\n",
    "import requests\n",
    "\n",
    "payload = {\n",
    "    'source': 'google',\n",
    "    'url': 'https://www.google.com/search?q=site%3Alinkedin.com%2Fin%2F+Education+is+UC+Berkeley+works+in+investment+banking',\n",
    "    'parse': True,\n",
    "    'start_page': 11,\n",
    "    'pages': 10,\n",
    "}\n",
    "\n",
    "response = requests.request(\n",
    "    'POST',\n",
    "    'https://realtime.oxylabs.io/v1/queries',\n",
    "    auth=('satwikapaul_oZIdD', 'Fttkhcvnfttkhcvn6_'),\n",
    "    json=payload\n",
    ")\n"
   ]
  },
  {
   "cell_type": "code",
   "execution_count": 88,
   "id": "3818298b-4419-4599-9b3b-0649f8a13142",
   "metadata": {},
   "outputs": [
    {
     "name": "stdout",
     "output_type": "stream",
     "text": [
      "['https://www.google.com/search?q=site:linkedin.com/in/+Education+is+UC+Berkeley+works+in+investment+banking&start=100', 'https://www.linkedin.com/in/angelicafrude', 'https://www.linkedin.com/in/ian-o-haire-5778a120a', 'https://www.linkedin.com/in/timothy-chow-', 'https://www.linkedin.com/in/ojasvisaxena', 'https://www.linkedin.com/in/gael-garcia-814071314', 'https://www.linkedin.com/in/isaaclustig', 'https://www.linkedin.com/in/joannachenberkeley', 'https://www.linkedin.com/in/michelle-guox', 'https://www.linkedin.com/in/ansonseto', 'https://www.linkedin.com/in/simranmalhotra1', 'https://www.google.com/search?q=site:linkedin.com/in/+Education+is+UC+Berkeley+works+in+investment+banking&start=100', 'https://www.google.com/search?q=site:linkedin.com/in/+Education+is+UC+Berkeley+works+in+investment+banking&start=110', 'https://www.linkedin.com/in/jesus-perez-zavala', 'https://www.linkedin.com/in/amanda-leong-jt', 'https://hu.linkedin.com/in/zsofiagalantai', 'https://www.linkedin.com/in/olivia-wang-7b5670181', 'https://www.linkedin.com/in/satya-patel1', 'https://www.linkedin.com/in/blazeharrison', 'https://www.linkedin.com/in/ankita-sarkar-b13b87200', 'https://www.linkedin.com/in/ivobraganza', 'https://www.linkedin.com/in/yasmeen-ben', 'https://www.linkedin.com/in/shefali-breitbach', 'https://www.google.com/search?q=site:linkedin.com/in/+Education+is+UC+Berkeley+works+in+investment+banking&start=110', 'https://www.google.com/search?q=site:linkedin.com/in/+Education+is+UC+Berkeley+works+in+investment+banking&start=120', 'https://www.linkedin.com/in/shrutichari', 'https://www.linkedin.com/in/howard-a-chen', 'https://www.linkedin.com/in/stepczyk', 'https://www.linkedin.com/in/quincy-plotts', 'https://www.linkedin.com/in/junshis', 'https://www.linkedin.com/in/minh-phan-1402', 'https://www.linkedin.com/in/zixigong', 'https://www.linkedin.com/in/kristianmedina', 'https://www.linkedin.com/in/abigail-franklin-0a96021b3', 'https://www.linkedin.com/in/bkjh16', 'https://www.google.com/search?q=site:linkedin.com/in/+Education+is+UC+Berkeley+works+in+investment+banking&start=120', 'https://www.google.com/search?q=site:linkedin.com/in/+Education+is+UC+Berkeley+works+in+investment+banking&start=130', 'https://www.linkedin.com/in/oscar-cheng-229a4a167', 'https://www.linkedin.com/in/rainakasera', 'https://www.linkedin.com/in/junshis', 'https://www.linkedin.com/in/angel-go', 'https://www.linkedin.com/in/adithya-sunil-nair', 'https://www.linkedin.com/in/cece-gu', 'https://www.linkedin.com/in/abigail-franklin-0a96021b3', 'https://www.linkedin.com/in/allysonguo', 'https://www.linkedin.com/in/amanda-leong-jt', 'https://www.linkedin.com/in/sid-vattamreddy-b64014171', 'https://www.google.com/search?q=site:linkedin.com/in/+Education+is+UC+Berkeley+works+in+investment+banking&start=130', 'https://www.google.com/search?q=site:linkedin.com/in/+Education+is+UC+Berkeley+works+in+investment+banking&start=140', 'https://www.linkedin.com/in/elizabeth-wiley-aa20ab311', 'https://www.linkedin.com/in/tobin-thannickal', 'https://www.linkedin.com/in/nikkinguyen7b21', 'https://www.linkedin.com/in/-carrie-ho', 'https://www.linkedin.com/in/khue-to-911953212', 'https://www.linkedin.com/in/kevinlizeng', 'https://www.linkedin.com/in/shrutichari', 'https://www.linkedin.com/in/william-peng-725083193', 'https://www.linkedin.com/in/iris-ho-0415', 'https://www.linkedin.com/in/rony-sabu', 'https://www.google.com/search?q=site:linkedin.com/in/+Education+is+UC+Berkeley+works+in+investment+banking&start=140', 'https://www.google.com/search?q=site:linkedin.com/in/+Education+is+UC+Berkeley+works+in+investment+banking&start=150', 'https://www.linkedin.com/in/rony-sabu', 'https://www.linkedin.com/in/chelsealiyingchoo', 'https://www.linkedin.com/in/derekbalaian', 'https://www.linkedin.com/in/cindy-gao-92b0b72b2', 'https://www.linkedin.com/in/rick-zhou1', 'https://www.linkedin.com/in/ankur-singh-', 'https://www.linkedin.com/in/jackie-ov-8b12001bb', 'https://www.linkedin.com/in/yvetteye', 'https://www.linkedin.com/in/kevin-zhu8', 'https://www.linkedin.com/in/reece-whitley2000', 'https://www.google.com/search?q=site:linkedin.com/in/+Education+is+UC+Berkeley+works+in+investment+banking&start=150', 'https://www.google.com/search?q=site:linkedin.com/in/+Education+is+UC+Berkeley+works+in+investment+banking&start=160', 'https://www.linkedin.com/in/isaac-medina-a46373199', 'https://www.linkedin.com/in/dsobkin', 'https://www.linkedin.com/in/s0phiayang', 'https://www.linkedin.com/in/fari-santoso', 'https://www.linkedin.com/in/jasmineyuann', 'https://www.linkedin.com/in/andrew-tang24', 'https://www.linkedin.com/in/suraj-sunkara-a42243191', 'https://www.linkedin.com/in/chenchen-ji-b320bb169', 'https://www.linkedin.com/in/anna-ren-6a1959277', 'https://www.linkedin.com/in/angieliu27', 'https://www.google.com/search?q=site:linkedin.com/in/+Education+is+UC+Berkeley+works+in+investment+banking&start=160', 'https://www.google.com/search?q=site:linkedin.com/in/+Education+is+UC+Berkeley+works+in+investment+banking&start=170', 'https://www.linkedin.com/in/arulprakashh', 'https://www.linkedin.com/in/audreypzhang', 'https://www.linkedin.com/in/hhodgkins', 'https://www.linkedin.com/in/chi-thanh-tran-a249b7226', 'https://www.linkedin.com/in/mia-horne-85185a1a3', 'https://www.linkedin.com/in/arjun-kaushal-4828ba214', 'https://www.linkedin.com/in/neelabhkashyap', 'https://www.linkedin.com/in/michelle-guox', 'https://www.linkedin.com/in/joy-k-135413242', 'https://www.linkedin.com/in/jaydenchan24', 'https://www.google.com/search?q=site:linkedin.com/in/+Education+is+UC+Berkeley+works+in+investment+banking&start=170', 'https://www.google.com/search?q=site:linkedin.com/in/+Education+is+UC+Berkeley+works+in+investment+banking&start=180', 'https://www.linkedin.com/in/jaydenchan24', 'https://www.linkedin.com/in/kimyclou', 'https://www.linkedin.com/in/ariella-landau', 'https://www.linkedin.com/in/rebecca-starr-', 'https://www.linkedin.com/in/kristiyanklichev', 'https://www.linkedin.com/in/ali-h-jafri', 'https://www.linkedin.com/in/kelly-zeng-b7ba44217', 'https://www.linkedin.com/in/michaeldxia', 'https://www.linkedin.com/in/eric-yao-6989341a8', 'https://www.linkedin.com/in/natalie-deng', 'https://www.google.com/search?q=site:linkedin.com/in/+Education+is+UC+Berkeley+works+in+investment+banking&start=180', 'https://www.google.com/search?q=site:linkedin.com/in/+Education+is+UC+Berkeley+works+in+investment+banking&start=190', 'https://www.linkedin.com/in/maxsarwar', 'https://www.linkedin.com/in/kristen-joo-054a52250', 'https://www.linkedin.com/in/sonny-c', 'https://www.linkedin.com/in/angelina-yongqi-zhao', 'https://www.linkedin.com/in/winnie-xiao', 'https://www.linkedin.com/in/kexin-wang-a76437211', 'https://www.linkedin.com/in/akshat-parikh-158286234', 'https://www.linkedin.com/in/chuibrandon', 'https://www.linkedin.com/in/dylan-pung', 'https://www.linkedin.com/in/nicholasng1111', 'https://www.google.com/search?q=site:linkedin.com/in/+Education+is+UC+Berkeley+works+in+investment+banking&start=190']\n"
     ]
    },
    {
     "data": {
      "text/plain": [
       "120"
      ]
     },
     "execution_count": 88,
     "metadata": {},
     "output_type": "execute_result"
    }
   ],
   "source": [
    "ib2data = response.json()\n",
    "ib2data_linkedin_urls = extract_linkedin_urls(ib2data)\n",
    "print(ib2data_linkedin_urls)\n",
    "len(ib2data_linkedin_urls)"
   ]
  },
  {
   "cell_type": "code",
   "execution_count": 89,
   "id": "17161e3a-4e87-4bf8-8f36-f8b80e300ec2",
   "metadata": {},
   "outputs": [
    {
     "name": "stdout",
     "output_type": "stream",
     "text": [
      "['https://www.google.com/search?q=site:linkedin.com/in/+Education+is+UC+Berkeley+works+in+investment+banking&start=200', 'https://www.linkedin.com/in/yashgoel2024', 'https://www.linkedin.com/in/manon-liger-20b11a223', 'https://www.linkedin.com/in/eason-zhu-8017b4178', 'https://www.linkedin.com/in/anamsheikh787', 'https://www.linkedin.com/in/iagozd', 'https://www.linkedin.com/in/andyyru', 'https://www.linkedin.com/in/michael-van-pham', 'https://www.linkedin.com/in/valerieloo88', 'https://www.linkedin.com/in/kexin-wang-a76437211', 'https://www.linkedin.com/in/arjun-sharma-421b81315', 'https://www.google.com/search?q=site:linkedin.com/in/+Education+is+UC+Berkeley+works+in+investment+banking&start=200', 'https://www.google.com/search?q=site:linkedin.com/in/+Education+is+UC+Berkeley+works+in+investment+banking&start=210', 'https://www.linkedin.com/in/robertifinkel', 'https://www.linkedin.com/in/joy-k-135413242', 'https://www.linkedin.com/in/ruby-gao', 'https://www.linkedin.com/in/arjun-sheoran', 'https://ae.linkedin.com/in/yidi-ma-00b131208', 'https://www.linkedin.com/in/jack-dennis-8ab36a222', 'https://www.linkedin.com/in/cherylllin', 'https://www.linkedin.com/in/s0phiayang', 'https://www.linkedin.com/in/liu-clement', 'https://www.linkedin.com/in/whitneycharlotte', 'https://www.google.com/search?q=site:linkedin.com/in/+Education+is+UC+Berkeley+works+in+investment+banking&start=210', 'https://www.google.com/search?q=site:linkedin.com/in/+Education+is+UC+Berkeley+works+in+investment+banking&start=220', 'https://www.linkedin.com/in/cassidyburns-', 'https://vn.linkedin.com/in/phuochai-nguyen', 'https://www.linkedin.com/in/hibahalam8', 'https://www.linkedin.com/in/christian-park-91068b250', 'https://www.linkedin.com/in/jsheny', 'https://www.linkedin.com/in/christine-wang18', 'https://www.linkedin.com/in/isabelle-athena-qian', 'https://www.linkedin.com/in/arjunpillaiofficial?trk=people-guest_people_search-card', 'https://www.linkedin.com/in/vir-shah-b11a5226b', 'https://www.linkedin.com/in/bkjh16', 'https://www.google.com/search?q=site:linkedin.com/in/+Education+is+UC+Berkeley+works+in+investment+banking&start=220', 'https://www.google.com/search?q=site:linkedin.com/in/+Education+is+UC+Berkeley+works+in+investment+banking&start=230', 'https://www.linkedin.com/in/rasyabollu', 'https://www.linkedin.com/in/pranaybanka', 'https://www.linkedin.com/in/dora-lin-a383a0245', 'https://www.linkedin.com/in/asher-bailey-076181246', 'https://www.linkedin.com/in/justinyoon0913', 'https://www.linkedin.com/in/kelly-xw-he', 'https://www.linkedin.com/in/matthew-nixon-78989b2b2', 'https://www.linkedin.com/in/oscar-cheng-229a4a167', 'https://www.linkedin.com/in/horace-ho?trk=organization_guest_main-feed-card-text', 'https://www.linkedin.com/in/gaurideshpande1', 'https://www.google.com/search?q=site:linkedin.com/in/+Education+is+UC+Berkeley+works+in+investment+banking&start=230', 'https://www.google.com/search?q=site:linkedin.com/in/+Education+is+UC+Berkeley+works+in+investment+banking&start=240', 'https://www.linkedin.com/in/andres-larios-5b6609223', 'https://www.linkedin.com/in/jaspreet-tathgur-42b78465', 'https://www.linkedin.com/in/simone-beilin', 'https://www.linkedin.com/in/maialu', 'https://www.linkedin.com/in/sophia-tung', 'https://www.linkedin.com/in/rebecca-starr-', 'https://www.linkedin.com/in/sevde-yildiz', 'https://www.linkedin.com/in/kenneth-wong-', 'https://www.linkedin.com/in/chuibrandon', 'https://mx.linkedin.com/in/enriqueseptien/en', 'https://www.google.com/search?q=site:linkedin.com/in/+Education+is+UC+Berkeley+works+in+investment+banking&start=240', 'https://www.google.com/search?q=site:linkedin.com/in/+Education+is+UC+Berkeley+works+in+investment+banking&start=250', 'https://www.linkedin.com/in/sharonkimm', 'https://www.linkedin.com/in/kelly-zeng-b7ba44217', 'https://www.linkedin.com/in/marcel-mccormack', 'https://www.linkedin.com/in/michelle-guox', 'https://www.linkedin.com/in/precious-gurung', 'https://www.linkedin.com/in/aadiagrawal05', 'https://www.linkedin.com/in/kiac', 'https://www.linkedin.com/in/shruti-velan', 'https://www.linkedin.com/in/bautista-guerrero', 'https://www.linkedin.com/in/octavio-torres2', 'https://www.google.com/search?q=site:linkedin.com/in/+Education+is+UC+Berkeley+works+in+investment+banking&start=250', 'https://www.google.com/search?q=site:linkedin.com/in/+Education+is+UC+Berkeley+works+in+investment+banking&start=260', 'https://www.linkedin.com/in/-nicolechan', 'https://www.linkedin.com/in/jessica-nguyen-423998226', 'https://www.linkedin.com/in/daniel-xiao-131b33222', 'https://www.linkedin.com/in/danielazamora5', 'https://www.linkedin.com/in/colin-johnston-593a13225', 'https://www.linkedin.com/in/sarthak1304', 'https://www.linkedin.com/in/ankur-singh-', 'https://www.linkedin.com/in/jacksononeill', 'https://www.linkedin.com/in/ibcucd', 'https://www.linkedin.com/in/jaemin-w-855202142', 'https://www.google.com/search?q=site:linkedin.com/in/+Education+is+UC+Berkeley+works+in+investment+banking&start=260', 'https://www.google.com/search?q=site:linkedin.com/in/+Education+is+UC+Berkeley+works+in+investment+banking&start=270', 'https://www.linkedin.com/in/oliver-guo-425b88221', 'https://www.linkedin.com/in/bilguunamarbayar', 'https://www.linkedin.com/in/rachelzhang8', 'https://www.linkedin.com/in/jerry-ji-3b7b34218', 'https://www.linkedin.com/in/medha-maddileti', 'https://www.linkedin.com/in/rjittri', 'https://www.linkedin.com/in/harshalag/', 'https://www.linkedin.com/in/wyattlpedersen', 'https://www.linkedin.com/in/skulkarni19', 'https://www.linkedin.com/in/nicolas-sharma', 'https://www.google.com/search?q=site:linkedin.com/in/+Education+is+UC+Berkeley+works+in+investment+banking&start=270', 'https://www.google.com/search?q=site:linkedin.com/in/+Education+is+UC+Berkeley+works+in+investment+banking&start=280', 'https://www.linkedin.com/in/candicelnc', 'https://www.linkedin.com/in/sangho-ahn', 'https://www.linkedin.com/in/jackbyszio', 'https://www.linkedin.com/in/alexander-englund', 'https://www.linkedin.com/in/miranda-l-87b085171', 'https://www.linkedin.com/in/vinay-vellore-a017731bb', 'https://www.linkedin.com/in/aidan-jones-a9314b252', 'https://www.linkedin.com/in/george-monroe-1516a4201', 'https://www.linkedin.com/in/isabel-wu-381599265', 'https://www.linkedin.com/in/zachary-s-siegel', 'https://www.google.com/search?q=site:linkedin.com/in/+Education+is+UC+Berkeley+works+in+investment+banking&start=280', 'https://www.google.com/search?q=site:linkedin.com/in/+Education+is+UC+Berkeley+works+in+investment+banking&start=290', 'https://www.linkedin.com/in/joshua-kim-a5a0a1220', 'https://www.linkedin.com/in/muskaan-agarwal', 'https://www.linkedin.com/in/alexander-schubert-aba028213', 'https://www.linkedin.com/in/tyler-chiu', 'https://www.linkedin.com/in/ayindehamilton', 'https://www.linkedin.com/in/andrew-lieberman-462034308', 'https://www.linkedin.com/in/cindy-xy-wang', 'https://www.linkedin.com/in/berkeley-hale-finance', 'https://www.linkedin.com/in/andrewelliott51', 'https://www.linkedin.com/in/sachiniyengar', 'https://www.google.com/search?q=site:linkedin.com/in/+Education+is+UC+Berkeley+works+in+investment+banking&start=290']\n"
     ]
    },
    {
     "data": {
      "text/plain": [
       "120"
      ]
     },
     "execution_count": 89,
     "metadata": {},
     "output_type": "execute_result"
    }
   ],
   "source": [
    "from pprint import pprint\n",
    "import requests\n",
    "\n",
    "payload = {\n",
    "    'source': 'google',\n",
    "    'url': 'https://www.google.com/search?q=site%3Alinkedin.com%2Fin%2F+Education+is+UC+Berkeley+works+in+investment+banking',\n",
    "    'parse': True,\n",
    "    'start_page': 21,\n",
    "    'pages': 10,\n",
    "}\n",
    "\n",
    "response = requests.request(\n",
    "    'POST',\n",
    "    'https://realtime.oxylabs.io/v1/queries',\n",
    "    auth=('satwikapaul_oZIdD', 'Fttkhcvnfttkhcvn6_'),\n",
    "    json=payload\n",
    ")\n",
    "\n",
    "ib3data = response.json()\n",
    "ib3data_linkedin_urls = extract_linkedin_urls(ib3data)\n",
    "print(ib3data_linkedin_urls)\n",
    "len(ib3data_linkedin_urls)"
   ]
  },
  {
   "cell_type": "code",
   "execution_count": 90,
   "id": "3475aea1-1d47-4508-8fd2-39cfd3d68716",
   "metadata": {},
   "outputs": [
    {
     "name": "stdout",
     "output_type": "stream",
     "text": [
      "['https://www.google.com/search?q=site:linkedin.com/in/+Education+is+UC+Berkeley+works+in+investment+banking&start=300', 'https://br.linkedin.com/in/osantosjr/pt?trk=public_profile_locale-url', 'https://www.linkedin.com/in/zachary-s-siegel', 'https://mx.linkedin.com/in/enriqueseptien/en', 'https://www.linkedin.com/in/danielazamora5', 'https://www.linkedin.com/in/thynguyen2', 'https://www.linkedin.com/in/kai-sato11', 'https://in.linkedin.com/in/huihui-ma-282185347', 'https://www.linkedin.com/in/luisaceves125', 'https://www.linkedin.com/in/chase-c-lee', 'https://www.linkedin.com/in/berkeley-hale-finance', 'https://www.google.com/search?q=site:linkedin.com/in/+Education+is+UC+Berkeley+works+in+investment+banking&start=300', 'https://www.google.com/search?q=site:linkedin.com/in/+Education+is+UC+Berkeley+works+in+investment+banking&start=310', 'https://www.linkedin.com/in/emilio-shea-4195a9206', 'https://www.linkedin.com/in/angel-linajr', 'https://uk.linkedin.com/in/junzhe-zheng-4b61721b2/zh-cn', 'https://www.linkedin.com/in/aravind-srinivas-16051987', 'https://uk.linkedin.com/in/zhaoying-s-b7178117b?trk=public_profile_samename_profile_profile-result-card_result-card_full-click', 'https://www.linkedin.com/in/andy-li-887400111/zh-tw', 'https://es.linkedin.com/in/fernando-g%C3%B3mez-l%C3%B3pez-2b32243a/en?trk=public_post_feed-actor-image', 'https://lu.linkedin.com/in/jacqueline-li-400a8619', 'https://cn.linkedin.com/in/zhen-x-8b900221a', 'https://th.linkedin.com/in/poptham-pianmuean/th', 'https://www.google.com/search?q=site:linkedin.com/in/+Education+is+UC+Berkeley+works+in+investment+banking&start=310', 'https://www.google.com/search?q=site:linkedin.com/in/+Education+is+UC+Berkeley+works+in+investment+banking&start=320', 'https://cl.linkedin.com/in/diego-zamora-26b108191', 'https://in.linkedin.com/in/aayan-rizvi-677604209', 'https://es.linkedin.com/in/paulmateu', 'https://br.linkedin.com/in/jorge-schaefer-marder-438ba1315', 'https://cn.linkedin.com/in/yimeng-ma-6109ba20b/zh-cn', 'https://in.linkedin.com/in/sahilmahadik', 'https://cn.linkedin.com/in/rui-x-805160b1', 'https://hk.linkedin.com/in/%E5%AD%90-%E6%9B%BE-7b578b9a?trk=people-guest_people_search-card', 'https://www.google.com/search?q=site:linkedin.com/in/+Education+is+UC+Berkeley+works+in+investment+banking&start=320', 'https://www.google.com/search?q=site:linkedin.com/in/+Education+is+UC+Berkeley+works+in+investment+banking&start=330', 'https://www.google.com/search?q=site:linkedin.com/in/+Education+is+UC+Berkeley+works+in+investment+banking&start=330']\n"
     ]
    },
    {
     "data": {
      "text/plain": [
       "36"
      ]
     },
     "execution_count": 90,
     "metadata": {},
     "output_type": "execute_result"
    }
   ],
   "source": [
    "from pprint import pprint\n",
    "import requests\n",
    "\n",
    "payload = {\n",
    "    'source': 'google',\n",
    "    'url': 'https://www.google.com/search?q=site%3Alinkedin.com%2Fin%2F+Education+is+UC+Berkeley+works+in+investment+banking',\n",
    "    'parse': True,\n",
    "    'start_page': 31,\n",
    "    'pages': 10,\n",
    "}\n",
    "\n",
    "response = requests.request(\n",
    "    'POST',\n",
    "    'https://realtime.oxylabs.io/v1/queries',\n",
    "    auth=('satwikapaul_oZIdD', 'Fttkhcvnfttkhcvn6_'),\n",
    "    json=payload\n",
    ")\n",
    "\n",
    "ib4data = response.json()\n",
    "ib4data_linkedin_urls = extract_linkedin_urls(ib4data)\n",
    "print(ib4data_linkedin_urls)\n",
    "len(ib4data_linkedin_urls)"
   ]
  },
  {
   "cell_type": "code",
   "execution_count": 91,
   "id": "9d7b7c5a-b429-4a89-bac0-281d5696c739",
   "metadata": {},
   "outputs": [
    {
     "name": "stdout",
     "output_type": "stream",
     "text": [
      "['https://www.google.com/search?q=site:linkedin.com/in/+Education+is+UC+Berkeley+2019+to+2023+works+in+investment+banking', 'https://www.linkedin.com/in/zhang-emily-j', 'https://br.linkedin.com/in/matheusearibeiro', 'https://www.linkedin.com/in/rafael-saviano-3078541a5', 'https://www.linkedin.com/in/joyce-chen-1962a0189', 'https://www.linkedin.com/in/adityakwatra', 'https://www.linkedin.com/in/jacqueline-obrien-6771451a0', 'https://www.linkedin.com/in/rita-y-3649171aa', 'https://www.linkedin.com/in/isabellahoff', 'https://www.linkedin.com/in/rebecca-buss', 'https://www.linkedin.com/in/rachel-w-42a50b196', 'https://www.google.com/search?q=site:linkedin.com/in/+Education+is+UC+Berkeley+2019+to+2023+works+in+investment+banking', 'https://www.google.com/search?q=site:linkedin.com/in/+Education+is+UC+Berkeley+2019+to+2023+works+in+investment+banking&start=10', 'https://www.linkedin.com/in/natalie-deng', 'https://www.linkedin.com/in/michaeldxia', 'https://www.linkedin.com/in/aryanpshah', 'https://www.linkedin.com/in/olivia-wang-7b5670181', 'https://www.linkedin.com/in/andrenurmamade', 'https://www.linkedin.com/in/carolyn-lu', 'https://www.linkedin.com/in/congrui-terry-lin', 'https://www.linkedin.com/in/isabel-feng-4797a42a0', 'https://www.linkedin.com/in/bobbyzli', 'https://www.linkedin.com/in/larry-guo-958949286', 'https://www.google.com/search?q=site:linkedin.com/in/+Education+is+UC+Berkeley+2019+to+2023+works+in+investment+banking&start=10', 'https://www.google.com/search?q=site:linkedin.com/in/+Education+is+UC+Berkeley+2019+to+2023+works+in+investment+banking&start=20', 'https://www.linkedin.com/in/josephine-tai', 'https://www.linkedin.com/in/andrewelliott51', 'https://www.linkedin.com/in/berkeley-hale-finance', 'https://www.linkedin.com/in/alexa-tsai', 'https://www.linkedin.com/in/ishan-patel-0584b2285', 'https://www.linkedin.com/in/nicholasng1111', 'https://www.linkedin.com/in/perri-wang', 'https://www.linkedin.com/in/jennifershaw02', 'https://www.linkedin.com/in/cece-gu', 'https://www.linkedin.com/in/eason-zhu-8017b4178', 'https://www.google.com/search?q=site:linkedin.com/in/+Education+is+UC+Berkeley+2019+to+2023+works+in+investment+banking&start=20', 'https://www.google.com/search?q=site:linkedin.com/in/+Education+is+UC+Berkeley+2019+to+2023+works+in+investment+banking&start=30', 'https://www.linkedin.com/in/elisa-marconell-tejedor/en', 'https://es.linkedin.com/in/alejandro-bravo-', 'https://www.linkedin.com/in/bodhisilberling', 'https://br.linkedin.com/in/leonardo-barroso-mantegazza-6b96a41a9', 'https://www.linkedin.com/in/audreylohconsulting', 'https://www.linkedin.com/in/michelle-chen-7274771ab', 'https://br.linkedin.com/in/osantosjr/pt?trk=public_profile_locale-url', 'https://hk.linkedin.com/in/alley-c-c-chen-107148173', 'https://www.linkedin.com/in/rachael-abayomi', 'https://www.linkedin.com/in/parisvarias', 'https://www.google.com/search?q=site:linkedin.com/in/+Education+is+UC+Berkeley+2019+to+2023+works+in+investment+banking&start=30', 'https://www.google.com/search?q=site:linkedin.com/in/+Education+is+UC+Berkeley+2019+to+2023+works+in+investment+banking&start=40', 'https://www.linkedin.com/in/richard-hu59', 'https://www.linkedin.com/in/veerbenepal', 'https://www.linkedin.com/in/edward-shen-70b02b240', 'https://www.linkedin.com/in/sherlene-su-1166b521a', 'https://www.linkedin.com/in/adam-daneshrad-454950196', 'https://br.linkedin.com/in/bernardo-tor%C3%B3s-88836a1bb', 'https://www.linkedin.com/in/julian-chan-47b408207', 'https://www.linkedin.com/in/jenny-zhang614', 'https://www.linkedin.com/in/knoton-fung', 'https://hk.linkedin.com/in/yuchenshi1', 'https://www.google.com/search?q=site:linkedin.com/in/+Education+is+UC+Berkeley+2019+to+2023+works+in+investment+banking&start=40', 'https://www.google.com/search?q=site:linkedin.com/in/+Education+is+UC+Berkeley+2019+to+2023+works+in+investment+banking&start=50', 'https://www.linkedin.com/in/jack-zhang-abaa18215', 'https://hk.linkedin.com/in/eric-wang-b9aaa8183', 'https://www.linkedin.com/in/guilhermopg', 'https://www.linkedin.com/in/arav-singh2', 'https://www.linkedin.com/in/samuel-olavarria', 'https://www.linkedin.com/in/michael-bausback-0b804ba9', 'https://www.linkedin.com/in/alexandra-lorente-2b1b5a222', 'https://www.linkedin.com/in/-caseylau', 'https://www.linkedin.com/in/dychoe', 'https://sg.linkedin.com/in/anush-gaur-ab153b203', 'https://www.google.com/search?q=site:linkedin.com/in/+Education+is+UC+Berkeley+2019+to+2023+works+in+investment+banking&start=50', 'https://www.google.com/search?q=site:linkedin.com/in/+Education+is+UC+Berkeley+2019+to+2023+works+in+investment+banking&start=60', 'https://www.linkedin.com/in/jennifer-j-51a619224', 'https://www.linkedin.com/in/meerashreegoel', 'https://www.linkedin.com/in/jessica-yang-jy', 'https://www.linkedin.com/in/yoon-n-505159179', 'https://fr.linkedin.com/in/mateo-bidan-29538521a', 'https://www.linkedin.com/in/hedejong', 'https://www.linkedin.com/in/priyanshsingh12', 'https://uk.linkedin.com/in/tedosandroshvili', 'https://www.linkedin.com/in/gusarah', 'https://www.linkedin.com/in/feihou', 'https://www.google.com/search?q=site:linkedin.com/in/+Education+is+UC+Berkeley+2019+to+2023+works+in+investment+banking&start=60', 'https://www.google.com/search?q=site:linkedin.com/in/+Education+is+UC+Berkeley+2019+to+2023+works+in+investment+banking&start=70', 'https://www.linkedin.com/in/shankarrahul', 'https://www.linkedin.com/in/julesdescamps', 'https://www.linkedin.com/in/harel-benzion', 'https://www.linkedin.com/in/yuanjunli974', 'https://www.linkedin.com/in/abhisinghal', 'https://www.linkedin.com/in/olegviatkin', 'https://www.linkedin.com/in/zoeyliew', 'https://www.linkedin.com/in/winston-liang-7203101a3', 'https://www.linkedin.com/in/sabrina-carleton-smith-b102b0313', 'https://www.linkedin.com/in/christinaxu22', 'https://www.google.com/search?q=site:linkedin.com/in/+Education+is+UC+Berkeley+2019+to+2023+works+in+investment+banking&start=70', 'https://www.google.com/search?q=site:linkedin.com/in/+Education+is+UC+Berkeley+2019+to+2023+works+in+investment+banking&start=80', 'https://www.linkedin.com/in/kristianprevost', 'https://www.linkedin.com/in/yasmeen-ben', 'https://sg.linkedin.com/in/ishita-jain2002', 'https://www.linkedin.com/in/arjungupta2', 'https://www.linkedin.com/in/audreypzhang', 'https://au.linkedin.com/in/edward-y-90b15718b', 'https://www.linkedin.com/in/andressacrawford', 'https://www.linkedin.com/in/verma-ishaan', 'https://www.linkedin.com/in/alexander-englund', 'https://www.linkedin.com/in/abigail-mchugh', 'https://www.google.com/search?q=site:linkedin.com/in/+Education+is+UC+Berkeley+2019+to+2023+works+in+investment+banking&start=80', 'https://www.google.com/search?q=site:linkedin.com/in/+Education+is+UC+Berkeley+2019+to+2023+works+in+investment+banking&start=90', 'https://www.linkedin.com/in/liush', 'https://www.linkedin.com/in/bautista-guerrero', 'https://www.linkedin.com/in/caleb-ong-jl', 'https://www.linkedin.com/in/justin-lee-02', 'https://www.linkedin.com/in/cheney-sung', 'https://www.linkedin.com/in/juan-gutierrez-25010b21a', 'https://www.linkedin.com/in/minh-phan-1402', 'https://www.linkedin.com/in/candicelnc', 'https://www.linkedin.com/in/chase-c-lee', 'https://www.linkedin.com/in/horace-ho?trk=organization_guest_main-feed-card-text', 'https://www.google.com/search?q=site:linkedin.com/in/+Education+is+UC+Berkeley+2019+to+2023+works+in+investment+banking&start=90']\n"
     ]
    },
    {
     "data": {
      "text/plain": [
       "120"
      ]
     },
     "execution_count": 91,
     "metadata": {},
     "output_type": "execute_result"
    }
   ],
   "source": [
    "from pprint import pprint\n",
    "import requests\n",
    "\n",
    "payload = {\n",
    "    'source': 'google',\n",
    "    'url': 'https://www.google.com/search?q=site%3Alinkedin.com%2Fin%2F+Education+is+UC+Berkeley+2019+to+2023+works+in+investment+banking',\n",
    "    'parse': True,\n",
    "    'start_page': 1,\n",
    "    'pages': 10,\n",
    "}\n",
    "\n",
    "response = requests.request(\n",
    "    'POST',\n",
    "    'https://realtime.oxylabs.io/v1/queries',\n",
    "    auth=('satwikapaul_oZIdD', 'Fttkhcvnfttkhcvn6_'),\n",
    "    json=payload\n",
    ")\n",
    "\n",
    "ib5data = response.json()\n",
    "ib5data_linkedin_urls = extract_linkedin_urls(ib5data)\n",
    "print(ib5data_linkedin_urls)\n",
    "len(ib5data_linkedin_urls)"
   ]
  },
  {
   "cell_type": "code",
   "execution_count": 92,
   "id": "76480528-1fa0-4b1e-9e9d-f547468eb53c",
   "metadata": {},
   "outputs": [
    {
     "name": "stdout",
     "output_type": "stream",
     "text": [
      "['https://www.google.com/search?q=site:linkedin.com/in/+Education+is+UC+Berkeley+2019+to+2023+works+in+investment+banking&start=100', 'https://www.linkedin.com/in/caleb-ong-jl', 'https://www.linkedin.com/in/verma-ishaan', 'https://fr.linkedin.com/in/mateo-bidan-29538521a', 'https://www.linkedin.com/in/rebecca-hu-2003mar21', 'https://www.linkedin.com/in/jack-zhang-abaa18215', 'https://www.linkedin.com/in/jasmineyuann', 'https://www.linkedin.com/in/muskaan-agarwal', 'https://www.linkedin.com/in/thomas-francone-351b37242', 'https://www.linkedin.com/in/lukasanderson805', 'https://fr.linkedin.com/in/victoria-arcangeli', 'https://www.google.com/search?q=site:linkedin.com/in/+Education+is+UC+Berkeley+2019+to+2023+works+in+investment+banking&start=100', 'https://www.google.com/search?q=site:linkedin.com/in/+Education+is+UC+Berkeley+2019+to+2023+works+in+investment+banking&start=110', 'https://www.linkedin.com/in/manon-liger-20b11a223', 'https://cn.linkedin.com/in/yawen-chen227/en', 'https://uk.linkedin.com/in/ben-helme', 'https://www.linkedin.com/in/ali-h-jafri', 'https://www.linkedin.com/in/angelicafrude', 'https://hk.linkedin.com/in/wyman-char-8a9a3458', 'https://www.linkedin.com/in/rohan-desai-dondeti', 'https://www.linkedin.com/in/miadepena', 'https://www.linkedin.com/in/michelle-guox', 'https://www.linkedin.com/in/bilguunamarbayar', 'https://www.google.com/search?q=site:linkedin.com/in/+Education+is+UC+Berkeley+2019+to+2023+works+in+investment+banking&start=110', 'https://www.google.com/search?q=site:linkedin.com/in/+Education+is+UC+Berkeley+2019+to+2023+works+in+investment+banking&start=120', 'https://www.linkedin.com/in/christinaxu22', 'https://kr.linkedin.com/in/daniel-dietrich-ch', 'https://www.linkedin.com/in/charlie-gooding-971bb9163', 'https://www.linkedin.com/in/lea-chambadal-ba62781b7', 'https://www.linkedin.com/in/aizagill', 'https://www.linkedin.com/in/jesus-perez-zavala', 'https://www.linkedin.com/in/noahoppenheimer', 'https://www.linkedin.com/in/christy-trang-55a57a1a6', 'https://www.linkedin.com/in/rony-sabu', 'https://www.linkedin.com/in/arjun-sheoran', 'https://www.google.com/search?q=site:linkedin.com/in/+Education+is+UC+Berkeley+2019+to+2023+works+in+investment+banking&start=120', 'https://www.google.com/search?q=site:linkedin.com/in/+Education+is+UC+Berkeley+2019+to+2023+works+in+investment+banking&start=130', 'https://www.linkedin.com/in/prxyam', 'https://www.linkedin.com/in/alexander-schubert-84172ab1', 'https://www.linkedin.com/in/drishikkasinghania', 'https://www.linkedin.com/in/kristianmedina', 'https://www.linkedin.com/in/simranmalhotra1', 'https://www.linkedin.com/in/angelina-yongqi-zhao', 'https://www.linkedin.com/in/nikkinguyen7b21', 'https://www.linkedin.com/in/jackbyszio', 'https://www.linkedin.com/in/sid-vattamreddy-b64014171', 'https://www.linkedin.com/in/ankita-sarkar-b13b87200', 'https://www.google.com/search?q=site:linkedin.com/in/+Education+is+UC+Berkeley+2019+to+2023+works+in+investment+banking&start=130', 'https://www.google.com/search?q=site:linkedin.com/in/+Education+is+UC+Berkeley+2019+to+2023+works+in+investment+banking&start=140', 'https://www.linkedin.com/in/cassidyburns-', 'https://www.linkedin.com/in/junshis', 'https://www.linkedin.com/in/elizabeth-wiley-aa20ab311', 'https://www.linkedin.com/in/natalie-deng', 'https://www.linkedin.com/in/ojasvisaxena', 'https://www.linkedin.com/in/nina-schank', 'https://www.linkedin.com/in/quincy-plotts', 'https://www.linkedin.com/in/bautista-guerrero', 'https://www.linkedin.com/in/shefali-breitbach', 'https://www.linkedin.com/in/chelsealiyingchoo', 'https://www.google.com/search?q=site:linkedin.com/in/+Education+is+UC+Berkeley+2019+to+2023+works+in+investment+banking&start=140', 'https://www.google.com/search?q=site:linkedin.com/in/+Education+is+UC+Berkeley+2019+to+2023+works+in+investment+banking&start=150', 'https://www.linkedin.com/in/jaspreet-tathgur-42b78465', 'https://www.linkedin.com/in/amanpatellink', 'https://www.linkedin.com/in/matthew-geske-599757163', 'https://www.linkedin.com/in/ethan-chung1', 'https://www.linkedin.com/in/vir-shah-b11a5226b', 'https://www.linkedin.com/in/wins-', 'https://www.linkedin.com/in/kevinlizeng', 'https://www.linkedin.com/in/bkjh16', 'https://www.linkedin.com/in/yvetteye', 'https://www.linkedin.com/in/nathan-he-2001', 'https://www.google.com/search?q=site:linkedin.com/in/+Education+is+UC+Berkeley+2019+to+2023+works+in+investment+banking&start=150', 'https://www.google.com/search?q=site:linkedin.com/in/+Education+is+UC+Berkeley+2019+to+2023+works+in+investment+banking&start=160', 'https://www.linkedin.com/in/vanditabhartiya', 'https://www.linkedin.com/in/andrew-tang24', 'https://www.linkedin.com/in/lucas-hou', 'https://www.linkedin.com/in/garg-vatsal', 'https://www.linkedin.com/in/robertifinkel', 'https://www.linkedin.com/in/clairejpliang', 'https://www.linkedin.com/in/emilyhsu1234', 'https://www.linkedin.com/in/zixigong', 'https://www.linkedin.com/in/rachel-carter-', 'https://www.linkedin.com/in/haliflame', 'https://www.google.com/search?q=site:linkedin.com/in/+Education+is+UC+Berkeley+2019+to+2023+works+in+investment+banking&start=160', 'https://www.google.com/search?q=site:linkedin.com/in/+Education+is+UC+Berkeley+2019+to+2023+works+in+investment+banking&start=170', 'https://www.linkedin.com/in/arissazheng', 'https://www.linkedin.com/in/kaitlynkang', 'https://www.linkedin.com/in/eashna', 'https://www.linkedin.com/in/dorawang7', 'https://www.linkedin.com/in/kristen-joo-054a52250', 'https://www.linkedin.com/in/kristiyanklichev', 'https://www.linkedin.com/in/fabiotessiore', 'https://www.linkedin.com/in/jacksonjiang', 'https://www.linkedin.com/in/ajay-balaraman-b09295181', 'https://www.linkedin.com/in/winnie-xiao', 'https://www.google.com/search?q=site:linkedin.com/in/+Education+is+UC+Berkeley+2019+to+2023+works+in+investment+banking&start=170', 'https://www.google.com/search?q=site:linkedin.com/in/+Education+is+UC+Berkeley+2019+to+2023+works+in+investment+banking&start=180', 'https://www.linkedin.com/in/jessica-nguyen-423998226', 'https://www.linkedin.com/in/bradleykberman', 'https://www.linkedin.com/in/ruby-gao', 'https://www.linkedin.com/in/sonny-c', 'https://www.linkedin.com/in/sandalinasattar', 'https://www.linkedin.com/in/juan-gutierrez-25010b21a', 'https://www.linkedin.com/in/angieliu27', 'https://hk.linkedin.com/in/waynewang626', 'https://www.linkedin.com/in/anirudh-suresh-636181219', 'https://hk.linkedin.com/in/nelson-law-300049253', 'https://www.google.com/search?q=site:linkedin.com/in/+Education+is+UC+Berkeley+2019+to+2023+works+in+investment+banking&start=180', 'https://www.google.com/search?q=site:linkedin.com/in/+Education+is+UC+Berkeley+2019+to+2023+works+in+investment+banking&start=190', 'https://www.linkedin.com/in/chenchen-ji-b320bb169', 'https://www.linkedin.com/in/matthewdo', 'https://www.linkedin.com/in/kai-sato11', 'https://www.linkedin.com/in/cherylllin', 'https://www.linkedin.com/in/yusi-sun', 'https://www.linkedin.com/in/yujinkim410', 'https://www.linkedin.com/in/omercohen23', 'https://www.linkedin.com/in/reachsean', 'https://www.linkedin.com/in/grnsh', 'https://www.linkedin.com/in/ncicero19', 'https://www.google.com/search?q=site:linkedin.com/in/+Education+is+UC+Berkeley+2019+to+2023+works+in+investment+banking&start=190']\n"
     ]
    },
    {
     "data": {
      "text/plain": [
       "120"
      ]
     },
     "execution_count": 92,
     "metadata": {},
     "output_type": "execute_result"
    }
   ],
   "source": [
    "from pprint import pprint\n",
    "import requests\n",
    "\n",
    "payload = {\n",
    "    'source': 'google',\n",
    "    'url': 'https://www.google.com/search?q=site%3Alinkedin.com%2Fin%2F+Education+is+UC+Berkeley+2019+to+2023+works+in+investment+banking',\n",
    "    'parse': True,\n",
    "    'start_page': 11,\n",
    "    'pages': 10,\n",
    "}\n",
    "\n",
    "response = requests.request(\n",
    "    'POST',\n",
    "    'https://realtime.oxylabs.io/v1/queries',\n",
    "    auth=('satwikapaul_oZIdD', 'Fttkhcvnfttkhcvn6_'),\n",
    "    json=payload\n",
    ")\n",
    "\n",
    "ib6data = response.json()\n",
    "ib6data_linkedin_urls = extract_linkedin_urls(ib6data)\n",
    "print(ib6data_linkedin_urls)\n",
    "len(ib6data_linkedin_urls)"
   ]
  },
  {
   "cell_type": "code",
   "execution_count": 93,
   "id": "1f43b7c0-d31b-4098-af31-ee7078cee2f2",
   "metadata": {},
   "outputs": [
    {
     "name": "stdout",
     "output_type": "stream",
     "text": [
      "['https://www.google.com/search?q=site:linkedin.com/in/+Education+is+UC+Berkeley+2019+to+2023+works+in+investment+banking&start=200', 'https://www.linkedin.com/in/sanath-sengupta', 'https://www.linkedin.com/in/ethan-chung1', 'https://www.linkedin.com/in/yashgoel2024', 'https://www.linkedin.com/in/karaanshetty', 'https://www.linkedin.com/in/williamhuanghonors/zh-tw', 'https://www.linkedin.com/in/eric-a-lopez', 'https://www.linkedin.com/in/anshikadwivedi', 'https://www.linkedin.com/in/akash-mahajan', 'https://www.linkedin.com/in/harman-singh17', 'https://www.linkedin.com/in/nicolasscola', 'https://www.google.com/search?q=site:linkedin.com/in/+Education+is+UC+Berkeley+2019+to+2023+works+in+investment+banking&start=200', 'https://www.google.com/search?q=site:linkedin.com/in/+Education+is+UC+Berkeley+2019+to+2023+works+in+investment+banking&start=210', 'https://www.linkedin.com/in/cha0tang', 'https://www.linkedin.com/in/priscillaluu', 'https://www.linkedin.com/in/chelseang', 'https://www.linkedin.com/in/jacob-rounds', 'https://www.linkedin.com/in/vittal-vasudevan-75b413297', 'https://www.linkedin.com/in/chaseqb11', 'https://www.linkedin.com/in/ncicero19', 'https://www.linkedin.com/in/lola-bulkin-123b67268', 'https://www.linkedin.com/in/cheng-qian-66a29a21b', 'https://www.linkedin.com/in/christine-k-jan', 'https://www.google.com/search?q=site:linkedin.com/in/+Education+is+UC+Berkeley+2019+to+2023+works+in+investment+banking&start=210', 'https://www.google.com/search?q=site:linkedin.com/in/+Education+is+UC+Berkeley+2019+to+2023+works+in+investment+banking&start=220', 'https://www.linkedin.com/in/allysonseong', 'https://www.linkedin.com/in/fabiotessiore', 'https://www.linkedin.com/in/saanvipareek', 'https://www.linkedin.com/in/colin-johnston-593a13225', 'https://www.linkedin.com/in/emilyhsu1234', 'https://www.linkedin.com/in/h-michael-williams-3013101a', 'https://www.linkedin.com/in/yujinkim410', 'https://www.linkedin.com/in/shruti-velan', 'https://www.linkedin.com/in/rachel-carter-', 'https://www.linkedin.com/in/tanya-y-anand', 'https://www.google.com/search?q=site:linkedin.com/in/+Education+is+UC+Berkeley+2019+to+2023+works+in+investment+banking&start=220', 'https://www.google.com/search?q=site:linkedin.com/in/+Education+is+UC+Berkeley+2019+to+2023+works+in+investment+banking&start=230', 'https://www.linkedin.com/in/bradleykberman', 'https://www.linkedin.com/in/tarini-padmanabhan-86b0a11b3', 'https://www.linkedin.com/in/altonru', 'https://www.linkedin.com/in/ivobraganza', 'https://www.linkedin.com/in/oscar-cheng-229a4a167', 'https://www.linkedin.com/in/sophia-roberts-tara-199015156', 'https://www.linkedin.com/in/rebecca--pengg?trk=people-guest_people_search-card', 'https://www.linkedin.com/in/landon-whitworth', 'https://www.linkedin.com/in/ted-janus-5a639615', 'https://www.linkedin.com/in/adarshvenkat', 'https://www.google.com/search?q=site:linkedin.com/in/+Education+is+UC+Berkeley+2019+to+2023+works+in+investment+banking&start=230', 'https://www.google.com/search?q=site:linkedin.com/in/+Education+is+UC+Berkeley+2019+to+2023+works+in+investment+banking&start=240', 'https://www.linkedin.com/in/emily-yang-970513157', 'https://www.linkedin.com/in/siddhantbanthia00', 'https://www.linkedin.com/in/gaurideshpande1', 'https://www.linkedin.com/in/harismirza', 'https://www.linkedin.com/in/fizzaraza01', 'https://www.linkedin.com/in/josephpoen', 'https://www.linkedin.com/in/anitej', 'https://www.linkedin.com/in/angel-go', 'https://www.linkedin.com/in/andrew-y-song-', 'https://www.linkedin.com/in/manon-liger-20b11a223', 'https://www.google.com/search?q=site:linkedin.com/in/+Education+is+UC+Berkeley+2019+to+2023+works+in+investment+banking&start=240', 'https://www.google.com/search?q=site:linkedin.com/in/+Education+is+UC+Berkeley+2019+to+2023+works+in+investment+banking&start=250', 'https://www.linkedin.com/in/winnie-xiao', 'https://hk.linkedin.com/in/nelson-law-300049253', 'https://www.linkedin.com/in/tanishq-shinde-s', 'https://www.linkedin.com/in/kimyclou', 'https://www.linkedin.com/in/avabarnett', 'https://www.linkedin.com/in/maya-rao-2a2287193', 'https://www.linkedin.com/in/precious-gurung', 'https://www.linkedin.com/in/melanie-glazier-54133620a', 'https://www.linkedin.com/in/nicholas-brooks-235a2b288', 'https://www.linkedin.com/in/sophia-tung', 'https://www.google.com/search?q=site:linkedin.com/in/+Education+is+UC+Berkeley+2019+to+2023+works+in+investment+banking&start=250', 'https://www.google.com/search?q=site:linkedin.com/in/+Education+is+UC+Berkeley+2019+to+2023+works+in+investment+banking&start=260', 'https://www.linkedin.com/in/anjulpratapsingh', 'https://www.linkedin.com/in/allenwanghq', 'https://www.linkedin.com/in/sharonkimm', 'https://www.linkedin.com/in/selinaaliu', 'https://kr.linkedin.com/in/daniel-dietrich-ch', 'https://www.linkedin.com/in/cindy-xy-wang', 'https://www.linkedin.com/in/sangho-ahn', 'https://www.linkedin.com/in/isaac-medina-a46373199', 'https://www.linkedin.com/in/raymond-sullivan-153a1516a', 'https://www.linkedin.com/in/abigail-mchugh', 'https://www.google.com/search?q=site:linkedin.com/in/+Education+is+UC+Berkeley+2019+to+2023+works+in+investment+banking&start=260', 'https://www.google.com/search?q=site:linkedin.com/in/+Education+is+UC+Berkeley+2019+to+2023+works+in+investment+banking&start=270', 'https://www.linkedin.com/in/maialu', 'https://www.linkedin.com/in/nicole-wilkinson-5320b8183', 'https://www.linkedin.com/in/maezheng', 'https://www.linkedin.com/in/oscarloyola', 'https://www.linkedin.com/in/george-monroe-1516a4201', 'https://www.linkedin.com/in/michaelpaine', 'https://www.linkedin.com/in/annaisabellalarsen', 'https://www.linkedin.com/in/thynguyen2', 'https://www.linkedin.com/in/kiac', 'https://www.linkedin.com/in/lukasanderson805', 'https://www.google.com/search?q=site:linkedin.com/in/+Education+is+UC+Berkeley+2019+to+2023+works+in+investment+banking&start=270', 'https://www.google.com/search?q=site:linkedin.com/in/+Education+is+UC+Berkeley+2019+to+2023+works+in+investment+banking&start=280', 'https://www.linkedin.com/in/michael-lo-6b89b0222', 'https://www.linkedin.com/in/morgan-jacobsen01', 'https://www.linkedin.com/in/maggiemzhang', 'https://www.linkedin.com/in/ruth-mbanali-82470896', 'https://www.linkedin.com/in/jsheny', 'https://www.linkedin.com/in/rhea-mehta2', 'https://www.linkedin.com/in/cal-nicklu', 'https://www.linkedin.com/in/thomas-dixon-03a5a6206', 'https://cn.linkedin.com/in/yichao%EF%BC%88cherry%EF%BC%89-d-278377227', 'https://br.linkedin.com/in/osantosjr/pt?trk=public_profile_locale-url', 'https://www.google.com/search?q=site:linkedin.com/in/+Education+is+UC+Berkeley+2019+to+2023+works+in+investment+banking&start=280', 'https://www.google.com/search?q=site:linkedin.com/in/+Education+is+UC+Berkeley+2019+to+2023+works+in+investment+banking&start=290', 'https://www.linkedin.com/in/justin1210', 'https://www.linkedin.com/in/chase-c-lee', 'https://www.linkedin.com/in/zachary-s-siegel', 'https://www.linkedin.com/in/andyyru', 'https://www.linkedin.com/in/alexnunezz', 'https://www.linkedin.com/in/danielazamora5', 'https://th.linkedin.com/in/patchachote-winyarat-63537b33', 'https://it.linkedin.com/in/aoxiang-wang/es', 'https://in.linkedin.com/in/abhilashsayshi/hi', 'https://in.linkedin.com/in/shivanshi-shrivastava-8244ab1bb', 'https://www.google.com/search?q=site:linkedin.com/in/+Education+is+UC+Berkeley+2019+to+2023+works+in+investment+banking&start=290']\n"
     ]
    },
    {
     "data": {
      "text/plain": [
       "120"
      ]
     },
     "execution_count": 93,
     "metadata": {},
     "output_type": "execute_result"
    }
   ],
   "source": [
    "from pprint import pprint\n",
    "import requests\n",
    "\n",
    "payload = {\n",
    "    'source': 'google',\n",
    "    'url': 'https://www.google.com/search?q=site%3Alinkedin.com%2Fin%2F+Education+is+UC+Berkeley+2019+to+2023+works+in+investment+banking',\n",
    "    'parse': True,\n",
    "    'start_page': 21,\n",
    "    'pages': 10,\n",
    "}\n",
    "\n",
    "response = requests.request(\n",
    "    'POST',\n",
    "    'https://realtime.oxylabs.io/v1/queries',\n",
    "    auth=('satwikapaul_oZIdD', 'Fttkhcvnfttkhcvn6_'),\n",
    "    json=payload\n",
    ")\n",
    "\n",
    "ib7data = response.json()\n",
    "ib7data_linkedin_urls = extract_linkedin_urls(ib7data)\n",
    "print(ib7data_linkedin_urls)\n",
    "len(ib7data_linkedin_urls)"
   ]
  },
  {
   "cell_type": "markdown",
   "id": "d6d95657-a9eb-427b-9df2-c98b92ec6c7e",
   "metadata": {
    "jp-MarkdownHeadingCollapsed": true,
    "tags": []
   },
   "source": [
    "# Machine Learning URLS #"
   ]
  },
  {
   "cell_type": "code",
   "execution_count": 95,
   "id": "52ac4ea3-e6ac-4afd-9353-71ca966ecc4f",
   "metadata": {},
   "outputs": [
    {
     "name": "stdout",
     "output_type": "stream",
     "text": [
      "['https://www.google.com/search?q=site:linkedin.com/in/+Education+is+UC+Berkeley+graduated+works+in+machine+learning', 'https://www.linkedin.com/in/saathvik-selvan', 'https://www.linkedin.com/in/aryan-jain-9101', 'https://www.linkedin.com/in/aadi-rane-1909191a2', 'https://www.linkedin.com/in/andrewyng', 'https://www.linkedin.com/in/jaansi', 'https://www.linkedin.com/in/maria-jose-healey-5066ba264', 'https://www.linkedin.com/in/shrshnk', 'https://www.linkedin.com/in/evan-gao', 'https://www.linkedin.com/in/julia-mathew-', 'https://www.linkedin.com/in/aaditya-agnihotri', 'https://www.google.com/search?q=site:linkedin.com/in/+Education+is+UC+Berkeley+graduated+works+in+machine+learning', 'https://www.google.com/search?q=site:linkedin.com/in/+Education+is+UC+Berkeley+graduated+works+in+machine+learning&start=10', 'https://www.linkedin.com/in/abbas-siddiqui-5434b71aa', 'https://www.linkedin.com/in/spruhakar', 'https://www.linkedin.com/in/ctml', 'https://www.linkedin.com/in/evan-gao', 'https://www.linkedin.com/in/rishiraij', 'https://www.linkedin.com/in/sayan-seal-506842180', 'https://www.linkedin.com/in/bhaskar-mishra', 'https://www.linkedin.com/in/raniyakhan', 'https://www.linkedin.com/in/michael-mccoyd', 'https://www.linkedin.com/in/pedro-munoz-a413aa1ab', 'https://www.google.com/search?q=site:linkedin.com/in/+Education+is+UC+Berkeley+graduated+works+in+machine+learning&start=10', 'https://www.google.com/search?q=site:linkedin.com/in/+Education+is+UC+Berkeley+graduated+works+in+machine+learning&start=20', 'https://www.linkedin.com/in/farhan-abdulla', 'https://www.linkedin.com/in/nikita-kumar-82018219b', 'https://www.linkedin.com/in/keshav-kumar-8a89a431b', 'https://www.linkedin.com/in/joshua-m-parker', 'https://www.linkedin.com/in/amyxlu', 'https://www.linkedin.com/in/yuanmengmle', 'https://www.linkedin.com/in/danieljing', 'https://www.linkedin.com/in/berkeleyctml', 'https://in.linkedin.com/in/krish-garg-5513a11aa', 'https://www.linkedin.com/in/shreyagupta268', 'https://www.google.com/search?q=site:linkedin.com/in/+Education+is+UC+Berkeley+graduated+works+in+machine+learning&start=20', 'https://www.google.com/search?q=site:linkedin.com/in/+Education+is+UC+Berkeley+graduated+works+in+machine+learning&start=30', 'https://www.linkedin.com/in/laila-walker', 'https://www.linkedin.com/in/yiming-zhang05', 'https://www.linkedin.com/in/gladys-valencia', 'https://www.linkedin.com/in/gautam-altekar-78b28921', 'https://in.linkedin.com/in/ritwik-raha', 'https://www.linkedin.com/in/ansh-verma', 'https://www.linkedin.com/in/kenneth-lam-214332212', 'https://www.linkedin.com/in/coreyjwade', 'https://www.linkedin.com/in/pamela-gleason-0969775', 'https://www.linkedin.com/in/abdullah-m1', 'https://www.google.com/search?q=site:linkedin.com/in/+Education+is+UC+Berkeley+graduated+works+in+machine+learning&start=30', 'https://www.google.com/search?q=site:linkedin.com/in/+Education+is+UC+Berkeley+graduated+works+in+machine+learning&start=40', 'https://www.linkedin.com/in/msparsa', 'https://www.linkedin.com/in/amandaangelinadee', 'https://www.linkedin.com/in/karan--dalal', 'https://www.linkedin.com/in/sara-pohland', 'https://www.linkedin.com/in/caryntran', 'https://www.linkedin.com/in/profjoeyg', 'https://www.linkedin.com/in/eshaan-moorjani', 'https://www.linkedin.com/in/aclse', 'https://www.linkedin.com/in/abhishek-suresh-eecs', 'https://www.linkedin.com/in/aditi-gh', 'https://www.google.com/search?q=site:linkedin.com/in/+Education+is+UC+Berkeley+graduated+works+in+machine+learning&start=40', 'https://www.google.com/search?q=site:linkedin.com/in/+Education+is+UC+Berkeley+graduated+works+in+machine+learning&start=50', 'https://www.linkedin.com/in/parth-desai-70641316b', 'https://www.linkedin.com/in/maria-jose-healey-5066ba264', 'https://www.linkedin.com/in/ashmitak', 'https://www.linkedin.com/in/lillianyjiang', 'https://www.linkedin.com/in/cruzxanhel', 'https://www.linkedin.com/in/limsico', 'https://www.linkedin.com/in/t-garrett-moore', 'https://www.linkedin.com/in/liam-aiello', 'https://www.linkedin.com/in/tanjen', 'https://www.linkedin.com/in/shreyes-sridhara', 'https://www.google.com/search?q=site:linkedin.com/in/+Education+is+UC+Berkeley+graduated+works+in+machine+learning&start=50', 'https://www.google.com/search?q=site:linkedin.com/in/+Education+is+UC+Berkeley+graduated+works+in+machine+learning&start=60', 'https://www.linkedin.com/in/ikhlaq', 'https://www.linkedin.com/in/linxin-liu', 'https://www.linkedin.com/in/pranav-manikonda', 'https://www.linkedin.com/in/bikram-arora-0a875b97', 'https://www.linkedin.com/in/ginnyperkey', 'https://uk.linkedin.com/in/pranav-bhatt-987317227', 'https://www.linkedin.com/in/aditya-shah-4a16b1a0', 'https://www.linkedin.com/in/miles-mayer-1927941b4', 'https://www.linkedin.com/in/aryansh-s', 'https://www.linkedin.com/in/leadcleary', 'https://www.google.com/search?q=site:linkedin.com/in/+Education+is+UC+Berkeley+graduated+works+in+machine+learning&start=60', 'https://www.google.com/search?q=site:linkedin.com/in/+Education+is+UC+Berkeley+graduated+works+in+machine+learning&start=70', 'https://www.linkedin.com/in/d-gautam', 'https://www.linkedin.com/in/ansh-verma', 'https://www.linkedin.com/in/jaansi', 'https://www.linkedin.com/in/kashyap-murali', 'https://www.linkedin.com/in/george-leitmann-4b108616', 'https://www.linkedin.com/in/aravind-srinivas-16051987', 'https://www.linkedin.com/in/yuriacelidwen', 'https://www.linkedin.com/in/harshit-kaushik', 'https://www.linkedin.com/in/richard-muller-645a14171', 'https://www.linkedin.com/in/mayapetersen', 'https://www.linkedin.com/in/summer-maxwell-150285206', 'https://www.linkedin.com/in/lynn-he-1a6692185', 'https://www.google.com/search?q=site:linkedin.com/in/+Education+is+UC+Berkeley+graduated+works+in+machine+learning&start=70', 'https://www.google.com/search?q=site:linkedin.com/in/+Education+is+UC+Berkeley+graduated+works+in+machine+learning&start=80', 'https://www.linkedin.com/in/he-song', 'https://www.linkedin.com/in/derek-jay-allen', 'https://www.linkedin.com/in/amoramendez', 'https://www.linkedin.com/in/jerry-shan-530128153', 'https://www.linkedin.com/in/a-v-m-', 'https://www.linkedin.com/in/lisa-garcia-bedolla-28b0174', 'https://www.linkedin.com/in/dibyaghosh', 'https://www.linkedin.com/in/anshul-zutshi123', 'https://www.linkedin.com/in/kenneth-llontop', 'https://www.linkedin.com/in/rahul-vijay-2697b41ab', 'https://www.google.com/search?q=site:linkedin.com/in/+Education+is+UC+Berkeley+graduated+works+in+machine+learning&start=80', 'https://www.google.com/search?q=site:linkedin.com/in/+Education+is+UC+Berkeley+graduated+works+in+machine+learning&start=90', 'https://www.linkedin.com/in/kaitlin-m-smith', 'https://www.linkedin.com/in/hiral-patel-b87512244', 'https://www.linkedin.com/in/aaditya-agnihotri', 'https://www.linkedin.com/in/lothlauren-lee', 'https://www.linkedin.com/in/d-gautam', 'https://www.linkedin.com/in/lily-barbagelata-755b2b23a', 'https://www.linkedin.com/in/yrsaxena', 'https://www.linkedin.com/in/cade-gordon', 'https://www.linkedin.com/in/apurva-arni', 'https://www.linkedin.com/in/luka-cheney', 'https://www.google.com/search?q=site:linkedin.com/in/+Education+is+UC+Berkeley+graduated+works+in+machine+learning&start=90', 'https://www.google.com/search?q=site:linkedin.com/in/+Education+is+UC+Berkeley+graduated+works+in+machine+learning']\n"
     ]
    },
    {
     "data": {
      "text/plain": [
       "123"
      ]
     },
     "execution_count": 95,
     "metadata": {},
     "output_type": "execute_result"
    }
   ],
   "source": [
    "from pprint import pprint\n",
    "import requests\n",
    "payload = {\n",
    "    'source': 'google',\n",
    "    'url': 'https://www.google.com/search?q=site:linkedin.com/in/+Education+is+UC+Berkeley+graduated+works+in+machine+learning',\n",
    "    'parse': True,\n",
    "    'start_page': 1,\n",
    "    'pages': 10,\n",
    "}\n",
    "\n",
    "response = requests.request(\n",
    "    'POST',\n",
    "    'https://realtime.oxylabs.io/v1/queries',\n",
    "    auth=('satwikapaul_oZIdD', 'Fttkhcvnfttkhcvn6_'),\n",
    "    json=payload\n",
    ")\n",
    "\n",
    "ml1data = response.json()\n",
    "ml1data_linkedin_urls = extract_linkedin_urls(ml1data)\n",
    "print(ml1data_linkedin_urls)\n",
    "len(ml1data_linkedin_urls)"
   ]
  },
  {
   "cell_type": "code",
   "execution_count": 98,
   "id": "ae575622-4fa3-485d-883b-fd3ce35dee7b",
   "metadata": {},
   "outputs": [],
   "source": [
    "from pprint import pprint\n",
    "import requests\n",
    "payload = {\n",
    "    'source': 'google',\n",
    "    'url': 'https://www.google.com/search?q=site:linkedin.com/in/+Education+is+UC+Berkeley+graduated+works+in+machine+learning',\n",
    "    'parse': True,\n",
    "    'start_page': 11,\n",
    "    'pages': 10,\n",
    "}\n",
    "\n",
    "response = requests.request(\n",
    "    'POST',\n",
    "    'https://realtime.oxylabs.io/v1/queries',\n",
    "    auth=('satwikapaul_oZIdD', 'Fttkhcvnfttkhcvn6_'),\n",
    "    json=payload\n",
    ")\n"
   ]
  },
  {
   "cell_type": "code",
   "execution_count": 99,
   "id": "adf76ae8-92d0-4669-ba8f-5e47af28cfdd",
   "metadata": {},
   "outputs": [
    {
     "name": "stdout",
     "output_type": "stream",
     "text": [
      "['https://www.google.com/search?q=site:linkedin.com/in/+Education+is+UC+Berkeley+graduated+works+in+machine+learning&start=100', 'https://www.linkedin.com/in/shailybajracharya', 'https://www.linkedin.com/in/kaitlin-m-smith', 'https://www.linkedin.com/in/justin-wong-23155411b', 'https://www.linkedin.com/in/jingyuanchenn', 'https://www.linkedin.com/in/amoramendez', 'https://www.linkedin.com/in/carla-trujillo-b4060320', 'https://www.linkedin.com/in/amandaangelinadee', 'https://www.linkedin.com/in/kcmukai', 'https://www.linkedin.com/in/an-lin-hunt-babcock-6b2a7a290', 'https://www.linkedin.com/in/juan-herreraa', 'https://www.google.com/search?q=site:linkedin.com/in/+Education+is+UC+Berkeley+graduated+works+in+machine+learning&start=100', 'https://www.google.com/search?q=site:linkedin.com/in/+Education+is+UC+Berkeley+graduated+works+in+machine+learning&start=110', 'https://www.linkedin.com/in/aadi-rane-1909191a2', 'https://www.linkedin.com/in/andra-yu-bb4797231', 'https://www.linkedin.com/in/liugrant', 'https://www.linkedin.com/in/savannah-hunter-2233b767', 'https://www.linkedin.com/in/fernanda-barraza', 'https://www.linkedin.com/in/hana-kozuka', 'https://www.linkedin.com/in/kempton-mccarty', 'https://www.linkedin.com/in/keshav-kumar-8a89a431b', 'https://www.linkedin.com/in/kimberlydawud/', 'https://www.linkedin.com/in/iulia-sprinceana-6b31904a', 'https://www.google.com/search?q=site:linkedin.com/in/+Education+is+UC+Berkeley+graduated+works+in+machine+learning&start=110', 'https://www.google.com/search?q=site:linkedin.com/in/+Education+is+UC+Berkeley+graduated+works+in+machine+learning&start=120', 'https://www.linkedin.com/in/kelly-de-lorimier-0b4643230', 'https://www.linkedin.com/in/asiyah-awais', 'https://www.linkedin.com/in/rahul-vijay-2697b41ab', 'https://www.linkedin.com/in/giuseppe-perona', 'https://www.linkedin.com/in/julissamoreno3922', 'https://www.linkedin.com/in/lillianyjiang', 'https://www.linkedin.com/in/wesley-l-0a614b186', 'https://www.linkedin.com/in/aravind-srinivas-16051987', 'https://www.linkedin.com/in/mariana-vazquez-romo', 'https://www.linkedin.com/in/mayapetersen', 'https://www.google.com/search?q=site:linkedin.com/in/+Education+is+UC+Berkeley+graduated+works+in+machine+learning&start=120', 'https://www.google.com/search?q=site:linkedin.com/in/+Education+is+UC+Berkeley+graduated+works+in+machine+learning&start=130', 'https://www.linkedin.com/in/jordan-velasco', 'https://www.linkedin.com/in/swayamp', 'https://www.linkedin.com/in/dejesusalcala', 'https://www.linkedin.com/in/alan-chiem', 'https://www.linkedin.com/in/oscartapiag/es', 'https://www.linkedin.com/in/btrantruong', 'https://www.linkedin.com/in/aldhaheriahmed', 'https://www.linkedin.com/in/shishir-patil', 'https://www.linkedin.com/in/aruna-ranganathan-72458a264', 'https://www.linkedin.com/in/irlandagonzalez', 'https://www.google.com/search?q=site:linkedin.com/in/+Education+is+UC+Berkeley+graduated+works+in+machine+learning&start=130', 'https://www.google.com/search?q=site:linkedin.com/in/+Education+is+UC+Berkeley+graduated+works+in+machine+learning&start=140', 'https://www.linkedin.com/in/aaron-kandel', 'https://www.linkedin.com/in/brendan-kariithi', 'https://www.linkedin.com/in/ayush-gupta-berkeley', 'https://www.linkedin.com/in/li-zhu-0a26b4215', 'https://www.linkedin.com/in/mia-birkelund-6270481a6', 'https://www.linkedin.com/in/ethan-brown-9847361b7', 'https://www.linkedin.com/in/sean-obrien-research', 'https://www.linkedin.com/in/emilyfan02', 'https://www.linkedin.com/in/marianagvasquez', 'https://www.linkedin.com/in/kylechunberkeley', 'https://www.google.com/search?q=site:linkedin.com/in/+Education+is+UC+Berkeley+graduated+works+in+machine+learning&start=140', 'https://www.google.com/search?q=site:linkedin.com/in/+Education+is+UC+Berkeley+graduated+works+in+machine+learning&start=150', 'https://www.linkedin.com/in/isabeldong', 'https://www.linkedin.com/in/sohailattari30', 'https://www.linkedin.com/in/mitchell-dennis-753329119', 'https://www.linkedin.com/in/calvinmcarter', 'https://www.linkedin.com/in/jkdionisio', 'https://www.linkedin.com/in/napoleon-vuong', 'https://www.linkedin.com/in/paige-lyles', 'https://www.linkedin.com/in/rachel-gao', 'https://www.linkedin.com/in/alicia-roy-phd', 'https://www.linkedin.com/in/mengye-wei', 'https://www.google.com/search?q=site:linkedin.com/in/+Education+is+UC+Berkeley+graduated+works+in+machine+learning&start=150', 'https://www.google.com/search?q=site:linkedin.com/in/+Education+is+UC+Berkeley+graduated+works+in+machine+learning&start=160', 'https://www.linkedin.com/in/robertdlee-1', 'https://www.linkedin.com/in/aadibshah', 'https://www.linkedin.com/in/john-nipp', 'https://ca.linkedin.com/in/connorpestell', 'https://www.linkedin.com/in/weiwang101', 'https://www.linkedin.com/in/zachary-galante', 'https://www.linkedin.com/in/maya-romero-21a75522a', 'https://www.linkedin.com/in/asliakalin', 'https://www.linkedin.com/in/benjamin-sanderson', 'https://www.linkedin.com/in/lothlauren-lee', 'https://www.google.com/search?q=site:linkedin.com/in/+Education+is+UC+Berkeley+graduated+works+in+machine+learning&start=160', 'https://www.google.com/search?q=site:linkedin.com/in/+Education+is+UC+Berkeley+graduated+works+in+machine+learning&start=170', 'https://www.linkedin.com/in/anne-maclachlan-1a579812', 'https://www.linkedin.com/in/dylan-goetting-749389134', 'https://www.linkedin.com/in/aaronliem', 'https://www.linkedin.com/in/anshul-zutshi123', 'https://www.linkedin.com/in/hermanlho', 'https://www.linkedin.com/in/emmyson', 'https://www.linkedin.com/in/jimmy-wang14', 'https://www.linkedin.com/in/natalie-kemper-40a945215', 'https://www.linkedin.com/in/matt-bruss-86405b15', 'https://www.linkedin.com/in/mahathi-kandimalla', 'https://www.google.com/search?q=site:linkedin.com/in/+Education+is+UC+Berkeley+graduated+works+in+machine+learning&start=170', 'https://www.google.com/search?q=site:linkedin.com/in/+Education+is+UC+Berkeley+graduated+works+in+machine+learning&start=180', 'https://www.linkedin.com/in/charlotte-peterson-0b49a7251', 'https://www.linkedin.com/in/daisynguyen0', 'https://www.linkedin.com/in/ankurg37', 'https://www.linkedin.com/in/maggie-dongg', 'https://www.linkedin.com/in/davidzyang', 'https://www.linkedin.com/in/meredith-wieber-551753173', 'https://www.linkedin.com/in/henry-gardner', 'https://www.linkedin.com/in/ailynnguyen', 'https://www.linkedin.com/in/julia-zhang-b4a707225', 'https://www.linkedin.com/in/muhammad-arsalan--', 'https://www.google.com/search?q=site:linkedin.com/in/+Education+is+UC+Berkeley+graduated+works+in+machine+learning&start=180', 'https://www.google.com/search?q=site:linkedin.com/in/+Education+is+UC+Berkeley+graduated+works+in+machine+learning&start=190', 'https://www.linkedin.com/in/oliviarmccauley', 'https://www.linkedin.com/in/krakelly', 'https://www.linkedin.com/in/vedanshmalhotra', 'https://www.linkedin.com/in/casey-colson-767653274', 'https://www.linkedin.com/in/morganalec', 'https://www.linkedin.com/in/katherine-r-mckinney', 'https://www.linkedin.com/in/arun-yadavalli-61433a177', 'https://www.linkedin.com/in/bill-taing', 'https://www.linkedin.com/in/genevieve-brooks-831066197', 'https://www.linkedin.com/in/gaurav-ghosal-a2b3a318b', 'https://www.google.com/search?q=site:linkedin.com/in/+Education+is+UC+Berkeley+graduated+works+in+machine+learning&start=190', 'https://www.google.com/search?q=site:linkedin.com/in/+Education+is+UC+Berkeley+graduated+works+in+machine+learning']\n"
     ]
    },
    {
     "data": {
      "text/plain": [
       "121"
      ]
     },
     "execution_count": 99,
     "metadata": {},
     "output_type": "execute_result"
    }
   ],
   "source": [
    "ml2data = response.json()\n",
    "ml2data_linkedin_urls = extract_linkedin_urls(\n",
    "    ml2data)\n",
    "print(ml2data_linkedin_urls)\n",
    "len(ml2data_linkedin_urls)"
   ]
  },
  {
   "cell_type": "code",
   "execution_count": 102,
   "id": "0acbd320-0ed3-4256-9336-07875705a376",
   "metadata": {},
   "outputs": [
    {
     "name": "stdout",
     "output_type": "stream",
     "text": [
      "['https://www.google.com/search?q=site:linkedin.com/in/+Education+is+UC+Berkeley+graduated+works+in+machine+learning&start=200', 'https://www.linkedin.com/in/henry-gardner', 'https://www.linkedin.com/in/mahirshah13', 'https://www.linkedin.com/in/marianagvasquez', 'https://www.linkedin.com/in/adityaiyer7', 'https://www.linkedin.com/in/michael-menke-925830a8', 'https://www.linkedin.com/in/sam-wang-816523255', 'https://www.linkedin.com/in/matilda-ju-6368b823b', 'https://www.linkedin.com/in/aaravdesai05', 'https://www.linkedin.com/in/arun-yadavalli-61433a177', 'https://www.linkedin.com/in/kunalcholera', 'https://www.google.com/search?q=site:linkedin.com/in/+Education+is+UC+Berkeley+graduated+works+in+machine+learning&start=200', 'https://www.google.com/search?q=site:linkedin.com/in/+Education+is+UC+Berkeley+graduated+works+in+machine+learning&start=210', 'https://www.linkedin.com/in/riya-berry', 'https://www.linkedin.com/in/lydia-ignatova', 'https://www.linkedin.com/in/dylan-goetting-749389134', 'https://www.linkedin.com/in/marlonfu', 'https://www.linkedin.com/in/ashutoshtiwaridev', 'https://www.linkedin.com/in/krishnakumar-b-03832a9a', 'https://www.linkedin.com/in/andrea-lukas-b56246237', 'https://www.linkedin.com/in/bharat-sharma-99526b336', 'https://www.linkedin.com/in/ethan-brown-9847361b7', 'https://www.linkedin.com/in/andrewchen04', 'https://www.google.com/search?q=site:linkedin.com/in/+Education+is+UC+Berkeley+graduated+works+in+machine+learning&start=210', 'https://www.google.com/search?q=site:linkedin.com/in/+Education+is+UC+Berkeley+graduated+works+in+machine+learning&start=220', 'https://www.linkedin.com/in/savannah-hunter-2233b767', 'https://www.linkedin.com/in/goldbergken', 'https://www.linkedin.com/in/elenaramoss', 'https://www.linkedin.com/in/surya-tripathi-b855485b', 'https://www.linkedin.com/in/jeremy-tien', 'https://www.linkedin.com/in/ashishkumar1993', 'https://www.linkedin.com/in/anish-chikkaswamy-794557221', 'https://www.linkedin.com/in/akshita-singh-0706', 'https://www.linkedin.com/in/alicia-roy-phd', 'https://www.linkedin.com/in/matthew-seguin-917752254', 'https://www.google.com/search?q=site:linkedin.com/in/+Education+is+UC+Berkeley+graduated+works+in+machine+learning&start=220', 'https://www.google.com/search?q=site:linkedin.com/in/+Education+is+UC+Berkeley+graduated+works+in+machine+learning&start=230', 'https://www.linkedin.com/in/rohit-agarwal-b647951ba', 'https://www.linkedin.com/in/jimmy-wang14', 'https://www.linkedin.com/in/dawn-song-51586033', 'https://www.linkedin.com/in/aditi-jain-a4b63b206/es-es?trk=people-guest_people_search-card', 'https://www.linkedin.com/in/andrew-klearman-736457253', 'https://www.linkedin.com/in/matt-bruss-86405b15', 'https://www.linkedin.com/in/jerryzhao1', 'https://www.linkedin.com/in/maya-romero-21a75522a', 'https://www.linkedin.com/in/vincent-lin-62a6442b5', 'https://www.linkedin.com/in/hayahalabieh', 'https://www.google.com/search?q=site:linkedin.com/in/+Education+is+UC+Berkeley+graduated+works+in+machine+learning&start=230', 'https://www.google.com/search?q=site:linkedin.com/in/+Education+is+UC+Berkeley+graduated+works+in+machine+learning&start=240', 'https://www.linkedin.com/in/bella-cochran', 'https://www.linkedin.com/in/data-sci-thomas-dolan', 'https://www.linkedin.com/in/swetha-rajkumar', 'https://www.linkedin.com/in/salil-goyal', 'https://www.linkedin.com/in/kairanwang', 'https://www.linkedin.com/in/salma-ahmed7', 'https://www.linkedin.com/in/anisha-iyer', 'https://www.linkedin.com/in/vivien-goyal-a055571b8', 'https://www.linkedin.com/in/andrewkerr82310', 'https://www.linkedin.com/in/megha-joshi-741b28202', 'https://www.google.com/search?q=site:linkedin.com/in/+Education+is+UC+Berkeley+graduated+works+in+machine+learning&start=240', 'https://www.google.com/search?q=site:linkedin.com/in/+Education+is+UC+Berkeley+graduated+works+in+machine+learning&start=250', 'https://www.linkedin.com/in/rachel-ngjiemin', 'https://www.linkedin.com/in/ken-alex-005460337', 'https://www.linkedin.com/in/navya-singh05', 'https://www.linkedin.com/in/gupsingh', 'https://www.linkedin.com/in/nikhil-gupta-8429992b3', 'https://www.linkedin.com/in/tanyamehta005', 'https://www.linkedin.com/in/neiltthomas', 'https://www.linkedin.com/in/vishwa-iyer-267921223', 'https://www.linkedin.com/in/rishabh-sharma-857912221', 'https://www.linkedin.com/in/alexa-torres11', 'https://www.google.com/search?q=site:linkedin.com/in/+Education+is+UC+Berkeley+graduated+works+in+machine+learning&start=250', 'https://www.google.com/search?q=site:linkedin.com/in/+Education+is+UC+Berkeley+graduated+works+in+machine+learning&start=260', 'https://www.linkedin.com/in/morganalec', 'https://www.linkedin.com/in/ella-deguzman', 'https://www.linkedin.com/in/michael-murphy-4aa59823a', 'https://www.linkedin.com/in/jessical02', 'https://www.linkedin.com/in/tyler-marino-b36b581b9', 'https://www.linkedin.com/in/angel-cruz-78616021b', 'https://www.linkedin.com/in/andre-ramos-29bb4926b', 'https://www.linkedin.com/in/lawrencechen12', 'https://www.linkedin.com/in/li-zhang-bb40351ab/zh-cn', 'https://www.linkedin.com/in/eric-kim-cs', 'https://www.google.com/search?q=site:linkedin.com/in/+Education+is+UC+Berkeley+graduated+works+in+machine+learning&start=260', 'https://www.google.com/search?q=site:linkedin.com/in/+Education+is+UC+Berkeley+graduated+works+in+machine+learning&start=270', 'https://www.linkedin.com/in/megan-mehta', 'https://www.linkedin.com/in/jessicahnewman', 'https://www.linkedin.com/in/abelyagubyan', 'https://www.linkedin.com/in/qian-wang-a50a37a3', 'https://www.linkedin.com/in/mary-gerhart-29738a236', 'https://www.linkedin.com/in/marknour', 'https://www.linkedin.com/in/siya--patel', 'https://www.linkedin.com/in/aayaan-arora', 'https://www.linkedin.com/in/eric-ju314', 'https://www.linkedin.com/in/casey-colson-767653274', 'https://www.google.com/search?q=site:linkedin.com/in/+Education+is+UC+Berkeley+graduated+works+in+machine+learning&start=270', 'https://www.google.com/search?q=site:linkedin.com/in/+Education+is+UC+Berkeley+graduated+works+in+machine+learning&start=280', 'https://www.linkedin.com/in/deepak-sharma-445965174', 'https://www.linkedin.com/in/macksowers', 'https://www.linkedin.com/in/iriszhou-iyz', 'https://www.linkedin.com/in/michaeljvmiller', 'https://www.linkedin.com/in/jai-sharma1', 'https://www.linkedin.com/in/nattran', 'https://www.linkedin.com/in/allen-lim-251906204', 'https://www.linkedin.com/in/mikaela-o%E2%80%99brien-976817323', 'https://www.linkedin.com/in/arnavdalal', 'https://www.linkedin.com/in/georgeroccoflint', 'https://www.google.com/search?q=site:linkedin.com/in/+Education+is+UC+Berkeley+graduated+works+in+machine+learning&start=280', 'https://www.google.com/search?q=site:linkedin.com/in/+Education+is+UC+Berkeley+graduated+works+in+machine+learning&start=290', 'https://www.linkedin.com/in/skyla-ma', 'https://www.linkedin.com/in/tommymayer', 'https://cn.linkedin.com/in/xintong-jiang-a95804174', 'https://www.linkedin.com/in/alex-thomas-v', 'https://www.linkedin.com/in/ibrahim-m-0319551a3', 'https://www.linkedin.com/in/tktamtran', 'https://www.linkedin.com/in/edward-zhu', 'https://www.linkedin.com/in/michael-song-phd-093701a4', 'https://www.linkedin.com/in/monalparmar', 'https://www.linkedin.com/in/abhijitprograms', 'https://www.google.com/search?q=site:linkedin.com/in/+Education+is+UC+Berkeley+graduated+works+in+machine+learning&start=290', 'https://www.google.com/search?q=site:linkedin.com/in/+Education+is+UC+Berkeley+graduated+works+in+machine+learning']\n"
     ]
    },
    {
     "data": {
      "text/plain": [
       "121"
      ]
     },
     "execution_count": 102,
     "metadata": {},
     "output_type": "execute_result"
    }
   ],
   "source": [
    "from pprint import pprint\n",
    "import requests\n",
    "payload = {\n",
    "    'source': 'google',\n",
    "    'url': 'https://www.google.com/search?q=site:linkedin.com/in/+Education+is+UC+Berkeley+graduated+works+in+machine+learning',\n",
    "    'parse': True,\n",
    "    'start_page': 21,\n",
    "    'pages': 10,\n",
    "}\n",
    "\n",
    "response = requests.request(\n",
    "    'POST',\n",
    "    'https://realtime.oxylabs.io/v1/queries',\n",
    "    auth=('satwikapaul_oZIdD', 'Fttkhcvnfttkhcvn6_'),\n",
    "    json=payload\n",
    ")\n",
    "\n",
    "ml3data = response.json()\n",
    "ml3data_linkedin_urls = extract_linkedin_urls(\n",
    "    ml3data)\n",
    "print(ml3data_linkedin_urls)\n",
    "len(ml3data_linkedin_urls)"
   ]
  },
  {
   "cell_type": "code",
   "execution_count": 103,
   "id": "32191ce2-0bba-4bfe-aeb8-e252dc5cfeef",
   "metadata": {},
   "outputs": [
    {
     "name": "stdout",
     "output_type": "stream",
     "text": [
      "['https://www.google.com/search?q=site:linkedin.com/in/+Education+is+UC+Berkeley+graduated+works+in+machine+learning+engineering', 'https://www.linkedin.com/in/jingqi-ma-iris', 'https://www.linkedin.com/in/arnav-jain-3850321bb', 'https://www.linkedin.com/in/melissa-fabros', 'https://www.linkedin.com/in/leadcleary', 'https://www.linkedin.com/in/spruhakar', 'https://www.linkedin.com/in/asliakalin', 'https://www.linkedin.com/in/arda-mark-sozer', 'https://www.linkedin.com/in/kylechunberkeley', 'https://www.linkedin.com/in/aryan-jain-9101', 'https://www.linkedin.com/in/kenneth-llontop', 'https://www.google.com/search?q=site:linkedin.com/in/+Education+is+UC+Berkeley+graduated+works+in+machine+learning+engineering', 'https://www.google.com/search?q=site:linkedin.com/in/+Education+is+UC+Berkeley+graduated+works+in+machine+learning+engineering&start=10', 'https://www.linkedin.com/in/suhani-singhal', 'https://www.linkedin.com/in/yashb30/', 'https://www.linkedin.com/in/vb99', 'https://www.linkedin.com/in/rishabh-sharma-857912221', 'https://www.linkedin.com/in/rahul-vijay-2697b41ab', 'https://www.linkedin.com/in/leadcleary', 'https://www.linkedin.com/in/peter-valverde-9b5080228', 'https://www.linkedin.com/in/ria-jain-6baaa41b3', 'https://www.linkedin.com/in/yuanmengmle', 'https://www.linkedin.com/in/sanjayadhikesaven', 'https://www.google.com/search?q=site:linkedin.com/in/+Education+is+UC+Berkeley+graduated+works+in+machine+learning+engineering&start=10', 'https://www.google.com/search?q=site:linkedin.com/in/+Education+is+UC+Berkeley+graduated+works+in+machine+learning+engineering&start=20', 'https://in.linkedin.com/in/adithya-bhat-891bb5171', 'https://www.linkedin.com/in/mustafa-mirza-460551234', 'https://www.linkedin.com/in/nicolemhan', 'https://in.linkedin.com/in/vishal-kumar-7414b617a', 'https://www.linkedin.com/in/evan-gao', 'https://www.linkedin.com/in/aditi-jain-a4b63b206/es-es?trk=people-guest_people_search-card', 'https://www.linkedin.com/in/rachel-ngjiemin', 'https://www.linkedin.com/in/kenneth-llontop', 'https://www.linkedin.com/in/ipkaur', 'https://www.linkedin.com/in/ansh-verma', 'https://www.google.com/search?q=site:linkedin.com/in/+Education+is+UC+Berkeley+graduated+works+in+machine+learning+engineering&start=20', 'https://www.google.com/search?q=site:linkedin.com/in/+Education+is+UC+Berkeley+graduated+works+in+machine+learning+engineering&start=30', 'https://www.linkedin.com/in/jelofrancisco', 'https://www.linkedin.com/in/abdullah-m1', 'https://www.linkedin.com/in/benscalero', 'https://www.linkedin.com/in/ibrahim-m-0319551a3', 'https://www.linkedin.com/in/raniyakhan', 'https://in.linkedin.com/in/ritwik-raha', 'https://www.linkedin.com/in/sayan-seal-506842180', 'https://www.linkedin.com/in/kenneth-lam-214332212', 'https://www.linkedin.com/in/rishiraij', 'https://www.linkedin.com/in/danieljing', 'https://www.google.com/search?q=site:linkedin.com/in/+Education+is+UC+Berkeley+graduated+works+in+machine+learning+engineering&start=30', 'https://www.google.com/search?q=site:linkedin.com/in/+Education+is+UC+Berkeley+graduated+works+in+machine+learning+engineering&start=40', 'https://www.linkedin.com/in/gautam-altekar-78b28921', 'https://www.linkedin.com/in/lily-barbagelata-755b2b23a', 'https://www.linkedin.com/in/aayushijain2025', 'https://www.linkedin.com/in/john-nipp', 'https://www.linkedin.com/in/henry-gardner', 'https://www.linkedin.com/in/shreyagupta268', 'https://www.linkedin.com/in/abhishek-suresh-eecs', 'https://www.linkedin.com/in/profjoeyg', 'https://www.linkedin.com/in/karan--dalal', 'https://www.linkedin.com/in/amandaangelinadee', 'https://www.google.com/search?q=site:linkedin.com/in/+Education+is+UC+Berkeley+graduated+works+in+machine+learning+engineering&start=40', 'https://www.google.com/search?q=site:linkedin.com/in/+Education+is+UC+Berkeley+graduated+works+in+machine+learning+engineering&start=50', 'https://www.linkedin.com/in/raul-puri-3a0b43a0', 'https://www.linkedin.com/in/shreyes-sridhara', 'https://www.linkedin.com/in/sara-pohland', 'https://www.linkedin.com/in/t-garrett-moore', 'https://www.linkedin.com/in/tanjen', 'https://www.linkedin.com/in/aryansh-s', 'https://www.linkedin.com/in/ctml', 'https://www.linkedin.com/in/maria-jose-healey-5066ba264', 'https://uk.linkedin.com/in/pranav-bhatt-987317227', 'https://www.linkedin.com/in/caryntran', 'https://www.google.com/search?q=site:linkedin.com/in/+Education+is+UC+Berkeley+graduated+works+in+machine+learning+engineering&start=50', 'https://www.google.com/search?q=site:linkedin.com/in/+Education+is+UC+Berkeley+graduated+works+in+machine+learning+engineering&start=60', 'https://www.linkedin.com/in/caryntran', 'https://www.linkedin.com/in/shreya-satheesh', 'https://www.linkedin.com/in/melissa-fabros', 'https://www.linkedin.com/in/ishan-dogra', 'https://www.linkedin.com/in/aditi-gh', 'https://www.linkedin.com/in/parth-desai-70641316b', 'https://www.linkedin.com/in/kurtsonccosinchi', 'https://www.linkedin.com/in/pranav-manikonda', 'https://www.linkedin.com/in/colinknordquist', 'https://www.linkedin.com/in/asjankit', 'https://www.google.com/search?q=site:linkedin.com/in/+Education+is+UC+Berkeley+graduated+works+in+machine+learning+engineering&start=60', 'https://www.google.com/search?q=site:linkedin.com/in/+Education+is+UC+Berkeley+graduated+works+in+machine+learning+engineering&start=70', 'https://www.linkedin.com/in/aravind-srinivas-16051987', 'https://www.linkedin.com/in/bhaskar-mishra', 'https://www.linkedin.com/in/agrimabahl', 'https://www.linkedin.com/in/vrinda-jain-4b951b194', 'https://www.linkedin.com/in/george-leitmann-4b108616', 'https://www.linkedin.com/in/michellejieli?trk=people-guest_people_search-card', 'https://www.linkedin.com/in/haley-wohlever', 'https://www.linkedin.com/in/selenacwong', 'https://www.linkedin.com/in/a-v-m-', 'https://www.linkedin.com/in/harshit-kaushik', 'https://www.google.com/search?q=site:linkedin.com/in/+Education+is+UC+Berkeley+graduated+works+in+machine+learning+engineering&start=70', 'https://www.google.com/search?q=site:linkedin.com/in/+Education+is+UC+Berkeley+graduated+works+in+machine+learning+engineering&start=80', 'https://www.linkedin.com/in/tushar-goyal01', 'https://www.linkedin.com/in/estrellacastro', 'https://www.linkedin.com/in/richard-muller-645a14171', 'https://www.linkedin.com/in/wesley-zheng-cal', 'https://www.linkedin.com/in/tyler1206', 'https://www.linkedin.com/in/barney-stinson-6a083516a', 'https://in.linkedin.com/in/fahim-yousuf-choudhury-8456521a0', 'https://www.linkedin.com/in/nlenz', 'https://in.linkedin.com/in/manishshettym', 'https://www.linkedin.com/in/lynn-he-1a6692185', 'https://www.google.com/search?q=site:linkedin.com/in/+Education+is+UC+Berkeley+graduated+works+in+machine+learning+engineering&start=80', 'https://www.google.com/search?q=site:linkedin.com/in/+Education+is+UC+Berkeley+graduated+works+in+machine+learning+engineering&start=90', 'https://www.linkedin.com/in/moaaz-akbar', 'https://www.linkedin.com/in/wwyy', 'https://www.linkedin.com/in/yrsaxena', 'https://www.linkedin.com/in/vainavi-viswanath', 'https://www.linkedin.com/in/ayushnigade', 'https://www.linkedin.com/in/aadi-rane-1909191a2', 'https://www.linkedin.com/in/meenakshi-mittal-404087191', 'https://www.linkedin.com/in/kaitlin-m-smith', 'https://www.linkedin.com/in/luka-cheney', 'https://www.linkedin.com/in/abbas-siddiqui-5434b71aa', 'https://www.google.com/search?q=site:linkedin.com/in/+Education+is+UC+Berkeley+graduated+works+in+machine+learning+engineering&start=90', 'https://www.google.com/search?q=site:linkedin.com/in/+Education+is+UC+Berkeley+graduated+works+in+machine+learning+engineering']\n"
     ]
    },
    {
     "data": {
      "text/plain": [
       "121"
      ]
     },
     "execution_count": 103,
     "metadata": {},
     "output_type": "execute_result"
    }
   ],
   "source": [
    "from pprint import pprint\n",
    "import requests\n",
    "payload = {\n",
    "    'source': 'google',\n",
    "    'url': 'https://www.google.com/search?q=site:linkedin.com/in/+Education+is+UC+Berkeley+graduated+works+in+machine+learning+engineering',\n",
    "    'parse': True,\n",
    "    'start_page': 1,\n",
    "    'pages': 10,\n",
    "}\n",
    "\n",
    "response = requests.request(\n",
    "    'POST',\n",
    "    'https://realtime.oxylabs.io/v1/queries',\n",
    "    auth=('satwikapaul_oZIdD', 'Fttkhcvnfttkhcvn6_'),\n",
    "    json=payload\n",
    ")\n",
    "\n",
    "ml4data = response.json()\n",
    "ml4data_linkedin_urls = extract_linkedin_urls(\n",
    "    ml4data)\n",
    "print(ml4data_linkedin_urls)\n",
    "len(ml4data_linkedin_urls)"
   ]
  },
  {
   "cell_type": "code",
   "execution_count": 104,
   "id": "4647dbd5-de9a-4c5b-8aae-a0fdd997ed82",
   "metadata": {},
   "outputs": [
    {
     "name": "stdout",
     "output_type": "stream",
     "text": [
      "['https://www.google.com/search?q=site:linkedin.com/in/+Education+is+UC+Berkeley+graduated+works+in+machine+learning+engineering&start=100', 'https://www.linkedin.com/in/carla-trujillo-b4060320', 'https://www.linkedin.com/in/shreyagupta268', 'https://www.linkedin.com/in/ethanzhang09', 'https://www.linkedin.com/in/abbas-siddiqui-5434b71aa', 'https://www.linkedin.com/in/agnese-sanavio', 'https://www.linkedin.com/in/d-gautam', 'https://www.linkedin.com/in/asiyah-awais', 'https://www.linkedin.com/in/aaron-kandel', 'https://www.linkedin.com/in/brendan-kariithi', 'https://www.linkedin.com/in/catherine-chu-139213220', 'https://www.google.com/search?q=site:linkedin.com/in/+Education+is+UC+Berkeley+graduated+works+in+machine+learning+engineering&start=100', 'https://www.google.com/search?q=site:linkedin.com/in/+Education+is+UC+Berkeley+graduated+works+in+machine+learning+engineering&start=110', 'https://www.linkedin.com/in/wwyy', 'https://www.linkedin.com/in/lothlauren-lee', 'https://www.linkedin.com/in/jared-tating-2000', 'https://www.linkedin.com/in/asaadharoun', 'https://www.linkedin.com/in/juan-herreraa', 'https://www.linkedin.com/in/jatin-batta-657532179', 'https://www.linkedin.com/in/adrian-salguero-b50322a3', 'https://www.linkedin.com/in/yrsaxena', 'https://www.linkedin.com/in/parker-winig', 'https://www.linkedin.com/in/chuyi-shang-21482620b', 'https://www.google.com/search?q=site:linkedin.com/in/+Education+is+UC+Berkeley+graduated+works+in+machine+learning+engineering&start=110', 'https://www.google.com/search?q=site:linkedin.com/in/+Education+is+UC+Berkeley+graduated+works+in+machine+learning+engineering&start=120', 'https://www.linkedin.com/in/aldhaheriahmed', 'https://www.linkedin.com/in/n-david-camacho', 'https://www.linkedin.com/in/neel-kolhe-b17052235', 'https://www.linkedin.com/in/abhijitprograms', 'https://www.linkedin.com/in/isabelle-peloso', 'https://www.linkedin.com/in/james-weichert', 'https://www.linkedin.com/in/marianagvasquez', 'https://www.linkedin.com/in/adityaghai', 'https://www.linkedin.com/in/spencer-schutz', 'https://www.linkedin.com/in/carla-trujillo-b4060320', 'https://www.google.com/search?q=site:linkedin.com/in/+Education+is+UC+Berkeley+graduated+works+in+machine+learning+engineering&start=120', 'https://www.google.com/search?q=site:linkedin.com/in/+Education+is+UC+Berkeley+graduated+works+in+machine+learning+engineering&start=130', 'https://www.linkedin.com/in/ethanzhang09', 'https://www.linkedin.com/in/abbas-siddiqui-5434b71aa', 'https://www.linkedin.com/in/agnese-sanavio', 'https://www.linkedin.com/in/d-gautam', 'https://www.linkedin.com/in/aaron-kandel', 'https://www.linkedin.com/in/catherine-chu-139213220', 'https://www.linkedin.com/in/sreejaapparaju', 'https://www.linkedin.com/in/asiyah-awais', 'https://www.linkedin.com/in/dylan-goetting-749389134', 'https://www.linkedin.com/in/aravind-srinivas-16051987', 'https://www.google.com/search?q=site:linkedin.com/in/+Education+is+UC+Berkeley+graduated+works+in+machine+learning+engineering&start=130', 'https://www.google.com/search?q=site:linkedin.com/in/+Education+is+UC+Berkeley+graduated+works+in+machine+learning+engineering&start=140', 'https://www.linkedin.com/in/ishan-dogra', 'https://www.linkedin.com/in/shailybajracharya', 'https://www.linkedin.com/in/brendan-kariithi', 'https://www.linkedin.com/in/natalie-kemper-40a945215', 'https://www.linkedin.com/in/neftali-cardenas-9b8867a7', 'https://www.linkedin.com/in/nerissa-liu-754007279', 'https://www.linkedin.com/in/isabeldong', 'https://www.linkedin.com/in/zachary-galante', 'https://www.linkedin.com/in/austen-liao', 'https://www.linkedin.com/in/giuseppe-perona', 'https://www.google.com/search?q=site:linkedin.com/in/+Education+is+UC+Berkeley+graduated+works+in+machine+learning+engineering&start=140', 'https://www.google.com/search?q=site:linkedin.com/in/+Education+is+UC+Berkeley+graduated+works+in+machine+learning+engineering&start=150', 'https://www.linkedin.com/in/amandaangelinadee', 'https://www.linkedin.com/in/arvind-swamynathan', 'https://www.linkedin.com/in/ayush-gupta-berkeley', 'https://www.linkedin.com/in/osvaldo-ortiz-', 'https://www.linkedin.com/in/chrisesco', 'https://www.linkedin.com/in/dan-hickey/', 'https://www.linkedin.com/in/lxguo', 'https://www.linkedin.com/in/lillianyjiang', 'https://www.linkedin.com/in/filip-c-filippou-580b83252', 'https://www.linkedin.com/in/brandonjhan', 'https://www.google.com/search?q=site:linkedin.com/in/+Education+is+UC+Berkeley+graduated+works+in+machine+learning+engineering&start=150', 'https://www.google.com/search?q=site:linkedin.com/in/+Education+is+UC+Berkeley+graduated+works+in+machine+learning+engineering&start=160', 'https://www.linkedin.com/in/anish-sasanur', 'https://www.linkedin.com/in/nicolemhan', 'https://www.linkedin.com/in/aayushijain2025', 'https://www.linkedin.com/in/duc-nguyen-888390214', 'https://www.linkedin.com/in/zacharypardos', 'https://www.linkedin.com/in/declan-fitzgerald-5a9652179', 'https://www.linkedin.com/in/guillaume-shippee', 'https://www.linkedin.com/in/cecelia-higgins-51109412b', 'https://www.linkedin.com/in/muhammad-arsalan--', 'https://www.linkedin.com/in/bella-cochran', 'https://www.google.com/search?q=site:linkedin.com/in/+Education+is+UC+Berkeley+graduated+works+in+machine+learning+engineering&start=160', 'https://www.google.com/search?q=site:linkedin.com/in/+Education+is+UC+Berkeley+graduated+works+in+machine+learning+engineering&start=170', 'https://ca.linkedin.com/in/connorpestell', 'https://www.linkedin.com/in/zhijiong-huang', 'https://www.linkedin.com/in/ronan-liu', 'https://www.linkedin.com/in/bill-zheng-5207991ab', 'https://www.linkedin.com/in/nemerjit-singh', 'https://www.linkedin.com/in/john-cha-591443156', 'https://www.linkedin.com/in/michael-menke-925830a8', 'https://www.linkedin.com/in/danny-tzul-171a93216', 'https://www.linkedin.com/in/hermanlho', 'https://www.linkedin.com/in/wentao-xu-23559a242', 'https://www.google.com/search?q=site:linkedin.com/in/+Education+is+UC+Berkeley+graduated+works+in+machine+learning+engineering&start=170', 'https://www.google.com/search?q=site:linkedin.com/in/+Education+is+UC+Berkeley+graduated+works+in+machine+learning+engineering&start=180', 'https://www.linkedin.com/in/tanmayi-dasari', 'https://www.linkedin.com/in/rachel-gao', 'https://www.linkedin.com/in/luca-manolache-53569b220', 'https://www.linkedin.com/in/dunnslinked', 'https://www.linkedin.com/in/cade-gordon', 'https://www.linkedin.com/in/-joseph-vo', 'https://www.linkedin.com/in/yushgoel', 'https://www.linkedin.com/in/harshit-kaushik', 'https://www.linkedin.com/in/sohailattari30', 'https://www.linkedin.com/in/arun-yadavalli-61433a177', 'https://www.google.com/search?q=site:linkedin.com/in/+Education+is+UC+Berkeley+graduated+works+in+machine+learning+engineering&start=180', 'https://www.google.com/search?q=site:linkedin.com/in/+Education+is+UC+Berkeley+graduated+works+in+machine+learning+engineering&start=190', 'https://www.linkedin.com/in/jorge-montejo-8647aa178', 'https://www.linkedin.com/in/junpark215', 'https://www.linkedin.com/in/teresa-luo-lmk1210', 'https://www.linkedin.com/in/ianhdong', 'https://www.linkedin.com/in/alan-bao', 'https://www.linkedin.com/in/marlonfu', 'https://www.linkedin.com/in/manooshree', 'https://www.linkedin.com/in/christian-park-80351421a', 'https://www.linkedin.com/in/michellelin4111', 'https://www.linkedin.com/in/ctml', 'https://www.google.com/search?q=site:linkedin.com/in/+Education+is+UC+Berkeley+graduated+works+in+machine+learning+engineering&start=190', 'https://www.google.com/search?q=site:linkedin.com/in/+Education+is+UC+Berkeley+graduated+works+in+machine+learning+engineering']\n"
     ]
    },
    {
     "data": {
      "text/plain": [
       "121"
      ]
     },
     "execution_count": 104,
     "metadata": {},
     "output_type": "execute_result"
    }
   ],
   "source": [
    "from pprint import pprint\n",
    "import requests\n",
    "payload = {\n",
    "    'source': 'google',\n",
    "    'url': 'https://www.google.com/search?q=site:linkedin.com/in/+Education+is+UC+Berkeley+graduated+works+in+machine+learning+engineering',\n",
    "    'parse': True,\n",
    "    'start_page': 11,\n",
    "    'pages': 10,\n",
    "}\n",
    "\n",
    "response = requests.request(\n",
    "    'POST',\n",
    "    'https://realtime.oxylabs.io/v1/queries',\n",
    "    auth=('satwikapaul_oZIdD', 'Fttkhcvnfttkhcvn6_'),\n",
    "    json=payload\n",
    ")\n",
    "\n",
    "ml5data = response.json()\n",
    "ml5data_linkedin_urls = extract_linkedin_urls(\n",
    "    ml5data)\n",
    "print(ml5data_linkedin_urls)\n",
    "len(ml5data_linkedin_urls)"
   ]
  },
  {
   "cell_type": "code",
   "execution_count": 106,
   "id": "dbd71972-1a34-458d-be30-7517493f6967",
   "metadata": {},
   "outputs": [
    {
     "name": "stdout",
     "output_type": "stream",
     "text": [
      "['https://www.google.com/search?q=site:linkedin.com/in/+Education+is+UC+Berkeley+alumni+works+in+machine+learning+research', 'https://www.linkedin.com/in/isyedcal', 'https://www.linkedin.com/in/eric-ju314', 'https://www.linkedin.com/in/melissa-fabros', 'https://www.linkedin.com/in/asliakalin', 'https://www.linkedin.com/in/davalv03', 'https://www.linkedin.com/in/hiral-patel-b87512244', 'https://www.linkedin.com/in/dunnslinked', 'https://www.linkedin.com/in/yuqian-liu-b624b1233', 'https://www.linkedin.com/in/danieljing', 'https://www.linkedin.com/in/christianakang', 'https://www.google.com/search?q=site:linkedin.com/in/+Education+is+UC+Berkeley+alumni+works+in+machine+learning+research', 'https://www.google.com/search?q=site:linkedin.com/in/+Education+is+UC+Berkeley+alumni+works+in+machine+learning+research&start=10', 'https://www.linkedin.com/in/yonatan-paz-priel-66bb992b1', 'https://www.linkedin.com/in/christianakang', 'https://www.linkedin.com/in/danieljing', 'https://www.linkedin.com/in/mengye-wei', 'https://il.linkedin.com/in/osher-azulay-20ab38154', 'https://www.linkedin.com/in/hiral-patel-b87512244', 'https://www.linkedin.com/in/dan-hickey/', 'https://www.linkedin.com/in/kenneth-llontop', 'https://www.linkedin.com/in/juan-herreraa', 'https://www.linkedin.com/in/dejesusalcala', 'https://www.google.com/search?q=site:linkedin.com/in/+Education+is+UC+Berkeley+alumni+works+in+machine+learning+research&start=10', 'https://www.google.com/search?q=site:linkedin.com/in/+Education+is+UC+Berkeley+alumni+works+in+machine+learning+research&start=20', 'https://www.linkedin.com/in/amyxlu', 'https://www.linkedin.com/in/isyedcal', 'https://www.linkedin.com/in/cade-gordon', 'https://www.linkedin.com/in/lillianyjiang', 'https://www.linkedin.com/in/d-gautam', 'https://www.linkedin.com/in/zewdi-herring', 'https://www.linkedin.com/in/luke-chang-luke-chang', 'https://www.linkedin.com/in/napoleon-vuong', 'https://www.linkedin.com/in/suparna-kompalli-79463b229', 'https://www.linkedin.com/in/randytrli?trk=public_profile_browsemap', 'https://www.google.com/search?q=site:linkedin.com/in/+Education+is+UC+Berkeley+alumni+works+in+machine+learning+research&start=20', 'https://www.google.com/search?q=site:linkedin.com/in/+Education+is+UC+Berkeley+alumni+works+in+machine+learning+research&start=30', 'https://www.linkedin.com/in/randytrli?trk=public_profile_browsemap', 'https://www.linkedin.com/in/rithi-krishnaraj', 'https://www.linkedin.com/in/morrischang/zh-tw', 'https://www.linkedin.com/in/wu-edward', 'https://www.linkedin.com/in/georgeobaido', 'https://www.linkedin.com/in/yuhao-ma88', 'https://www.linkedin.com/in/abdullah-choudhry-266227273', 'https://www.linkedin.com/in/mathan8', 'https://www.linkedin.com/in/daniel-skahill', 'https://www.linkedin.com/in/maryam-zakiyya', 'https://www.google.com/search?q=site:linkedin.com/in/+Education+is+UC+Berkeley+alumni+works+in+machine+learning+research&start=30', 'https://www.google.com/search?q=site:linkedin.com/in/+Education+is+UC+Berkeley+alumni+works+in+machine+learning+research&start=40', 'https://www.linkedin.com/in/andrea-lukas-b56246237', 'https://www.linkedin.com/in/ofrioren', 'https://www.linkedin.com/in/lynn-he-1a6692185', 'https://www.linkedin.com/in/thomas-krendl-gilbert-38425b31', 'https://www.linkedin.com/in/gamyaguas', 'https://www.linkedin.com/in/helentan410', 'https://www.linkedin.com/in/megan-frogley', 'https://www.linkedin.com/in/michael-murphy-4aa59823a', 'https://www.linkedin.com/in/arminhamrah', 'https://www.linkedin.com/in/amoramendez', 'https://www.google.com/search?q=site:linkedin.com/in/+Education+is+UC+Berkeley+alumni+works+in+machine+learning+research&start=40', 'https://www.google.com/search?q=site:linkedin.com/in/+Education+is+UC+Berkeley+alumni+works+in+machine+learning+research&start=50', 'https://www.linkedin.com/in/sophiabromberg-84283489', 'https://www.linkedin.com/in/italukdar', 'https://www.linkedin.com/in/maramahmed/ar?trk=people-guest_people_search-card', 'https://www.linkedin.com/in/dashielldecker', 'https://www.linkedin.com/in/sammy-z', 'https://www.linkedin.com/in/michellejieli?trk=people-guest_people_search-card', 'https://www.linkedin.com/in/mannatjaggi', 'https://www.linkedin.com/in/gaurav-ghosal-a2b3a318b', 'https://www.linkedin.com/in/laila-walker', 'https://www.linkedin.com/in/itskevinwang', 'https://www.google.com/search?q=site:linkedin.com/in/+Education+is+UC+Berkeley+alumni+works+in+machine+learning+research&start=50', 'https://www.google.com/search?q=site:linkedin.com/in/+Education+is+UC+Berkeley+alumni+works+in+machine+learning+research&start=60', 'https://www.linkedin.com/in/eduardohm', 'https://www.linkedin.com/in/morganalec', 'https://www.linkedin.com/in/heeric', 'https://www.linkedin.com/in/brian-chiang-5b137219b', 'https://www.linkedin.com/in/oliver-maynard-171293197', 'https://www.linkedin.com/in/denisegrobles', 'https://www.linkedin.com/in/pamela-gleason-0969775', 'https://www.linkedin.com/in/hansocampo', 'https://www.linkedin.com/in/chengcheng-liu-309a16236/zh-cn', 'https://www.linkedin.com/in/darrenswong', 'https://www.google.com/search?q=site:linkedin.com/in/+Education+is+UC+Berkeley+alumni+works+in+machine+learning+research&start=60', 'https://www.google.com/search?q=site:linkedin.com/in/+Education+is+UC+Berkeley+alumni+works+in+machine+learning+research&start=70', 'https://www.linkedin.com/in/rana-zee-maneri-660640117', 'https://www.linkedin.com/in/hajinjk', 'https://www.linkedin.com/in/tyrekrichardson24', 'https://www.linkedin.com/in/yacun-wang-418490215', 'https://www.linkedin.com/in/tessa-wood-086453173', 'https://www.linkedin.com/in/limsico', 'https://www.linkedin.com/in/alunia', 'https://www.linkedin.com/in/leonexiebayot', 'https://www.linkedin.com/in/andre-ramos-29bb4926b', 'https://www.linkedin.com/in/caryntran', 'https://www.google.com/search?q=site:linkedin.com/in/+Education+is+UC+Berkeley+alumni+works+in+machine+learning+research&start=70', 'https://www.google.com/search?q=site:linkedin.com/in/+Education+is+UC+Berkeley+alumni+works+in+machine+learning+research&start=80', 'https://www.linkedin.com/in/wu-edward', 'https://www.linkedin.com/in/dejesusalcala', 'https://www.linkedin.com/in/sammy-z', 'https://www.linkedin.com/in/keshav-kumar-8a89a431b', 'https://www.linkedin.com/in/jasonmachle', 'https://www.linkedin.com/in/krutika-ingale', 'https://www.linkedin.com/in/zhiyao-shu-4b4b0016b', 'https://www.linkedin.com/in/jacqueline-yang-0896861b4', 'https://www.linkedin.com/in/dunnslinked', 'https://www.linkedin.com/in/ali-tout-0067961ba', 'https://www.linkedin.com/in/meenakshi-mittal-404087191', 'https://www.linkedin.com/in/lisa-garcia-bedolla-28b0174', 'https://www.google.com/search?q=site:linkedin.com/in/+Education+is+UC+Berkeley+alumni+works+in+machine+learning+research&start=80', 'https://www.google.com/search?q=site:linkedin.com/in/+Education+is+UC+Berkeley+alumni+works+in+machine+learning+research&start=90', 'https://www.linkedin.com/in/lydia-ignatova', 'https://www.linkedin.com/in/diego-vanegas-05476a295', 'https://www.linkedin.com/in/melanie-voss-b912a2243', 'https://www.linkedin.com/in/orla-giffen-117996190', 'https://www.linkedin.com/in/sunny-xiang', 'https://www.linkedin.com/in/catherine-chu-139213220', 'https://www.linkedin.com/in/alinazheng108', 'https://www.linkedin.com/in/ashna-singhal', 'https://www.linkedin.com/in/cal-hc', 'https://www.linkedin.com/in/sagekasick', 'https://www.google.com/search?q=site:linkedin.com/in/+Education+is+UC+Berkeley+alumni+works+in+machine+learning+research&start=90', 'https://www.google.com/search?q=site:linkedin.com/in/+Education+is+UC+Berkeley+alumni+works+in+machine+learning+research']\n"
     ]
    },
    {
     "data": {
      "text/plain": [
       "123"
      ]
     },
     "execution_count": 106,
     "metadata": {},
     "output_type": "execute_result"
    }
   ],
   "source": [
    "from pprint import pprint\n",
    "import requests\n",
    "payload = {\n",
    "    'source': 'google',\n",
    "    'url': 'https://www.google.com/search?q=site:linkedin.com/in/+Education+is+UC+Berkeley+alumni+works+in+machine+learning+research',\n",
    "    'parse': True,\n",
    "    'start_page': 1,\n",
    "    'pages': 10,\n",
    "}\n",
    "\n",
    "response = requests.request(\n",
    "    'POST',\n",
    "    'https://realtime.oxylabs.io/v1/queries',\n",
    "    auth=('satwikapaul_oZIdD', 'Fttkhcvnfttkhcvn6_'),\n",
    "    json=payload\n",
    ")\n",
    "\n",
    "ml6data = response.json()\n",
    "ml6data_linkedin_urls = extract_linkedin_urls(\n",
    "    ml6data)\n",
    "print(ml6data_linkedin_urls)\n",
    "len(ml6data_linkedin_urls)"
   ]
  },
  {
   "cell_type": "markdown",
   "id": "5ecabc79-8a3d-42c5-b1d4-834f272a1a66",
   "metadata": {
    "jp-MarkdownHeadingCollapsed": true,
    "tags": []
   },
   "source": [
    "# Consulting URLS #"
   ]
  },
  {
   "cell_type": "code",
   "execution_count": null,
   "id": "00d00db6-999c-4a52-a658-6a7e939ef244",
   "metadata": {},
   "outputs": [],
   "source": [
    "from pprint import pprint\n",
    "import requests\n",
    "payload = {\n",
    "    'source': 'google',\n",
    "    'url': 'https://www.google.com/search?q=site:linkedin.com/in/+Education+is+UC+Berkeley+graduated+works+in+consulting',\n",
    "    'parse': True,\n",
    "    'start_page': 1,\n",
    "    'pages': 10,\n",
    "}\n",
    "\n",
    "response = requests.request(\n",
    "    'POST',\n",
    "    'https://realtime.oxylabs.io/v1/queries',\n",
    "    auth=('satwikapaul_oZIdD', 'Fttkhcvnfttkhcvn6_'),\n",
    "    json=payload\n",
    ")\n"
   ]
  },
  {
   "cell_type": "code",
   "execution_count": 110,
   "id": "90be2da3-5ffa-4f33-af02-139cb07dda3e",
   "metadata": {},
   "outputs": [
    {
     "name": "stdout",
     "output_type": "stream",
     "text": [
      "['https://www.google.com/search?q=site:linkedin.com/in/+Education+is+UC+Berkeley+graduated+works+in+consulting', 'https://www.linkedin.com/in/emilyyu-', 'https://www.linkedin.com/in/alfredoccamposiii', 'https://www.linkedin.com/in/natalieshin', 'https://www.linkedin.com/in/emma-martinez-749528225', 'https://www.linkedin.com/in/meghan-hale', 'https://www.linkedin.com/in/jessicajingwenni', 'https://www.linkedin.com/in/rithvikagastya', 'https://www.linkedin.com/in/moeturner', 'https://www.linkedin.com/in/rhea-mehta2', 'https://www.linkedin.com/in/wesley-l-0a614b186', 'https://www.google.com/search?q=site:linkedin.com/in/+Education+is+UC+Berkeley+graduated+works+in+consulting', 'https://www.google.com/search?q=site:linkedin.com/in/+Education+is+UC+Berkeley+graduated+works+in+consulting&start=10', 'https://www.linkedin.com/in/nathaniel-santoso-b10845218/', 'https://www.linkedin.com/in/sophia-dumesny', 'https://www.linkedin.com/in/benjamin-graham-649b069b', 'https://www.linkedin.com/in/ned-resnikoff-7054837', 'https://www.linkedin.com/in/laurenangelus', 'https://www.linkedin.com/in/evelyn-chan-473387171', 'https://www.linkedin.com/in/tara-mason2018', 'https://www.linkedin.com/in/francisco-rodriguez-1b6243281', 'https://www.linkedin.com/in/terrellthompson19', 'https://www.linkedin.com/in/grace-sun-berkeley2028', 'https://www.google.com/search?q=site:linkedin.com/in/+Education+is+UC+Berkeley+graduated+works+in+consulting&start=10', 'https://www.google.com/search?q=site:linkedin.com/in/+Education+is+UC+Berkeley+graduated+works+in+consulting&start=20', 'https://www.linkedin.com/in/robertkohen', 'https://www.linkedin.com/in/lilian-xu', 'https://www.linkedin.com/in/tommymayer', 'https://www.linkedin.com/in/christopher-schad-0a2a8333', 'https://www.linkedin.com/in/leoyguo', 'https://www.linkedin.com/in/christina-paz-arguello-87421727b', 'https://www.linkedin.com/in/elizabeth-wilcox-10654394', 'https://www.linkedin.com/in/elliott-medrich-2537978', 'https://www.linkedin.com/in/ryan-chang1', 'https://www.linkedin.com/in/tilda-gross', 'https://www.google.com/search?q=site:linkedin.com/in/+Education+is+UC+Berkeley+graduated+works+in+consulting&start=20', 'https://www.google.com/search?q=site:linkedin.com/in/+Education+is+UC+Berkeley+graduated+works+in+consulting&start=30', 'https://www.linkedin.com/in/augusteanderson', 'https://www.linkedin.com/in/richardjchiovarelli', 'https://www.linkedin.com/in/jocelyngao', 'https://www.linkedin.com/in/nina-moskowitz', 'https://www.linkedin.com/in/terriemoore-retire-renew', 'https://www.linkedin.com/in/lanaduong1', 'https://www.linkedin.com/in/karenchaehyun', 'https://www.linkedin.com/in/ralph-ruan/en', 'https://www.linkedin.com/in/tiffany-reardon', 'https://www.linkedin.com/in/marthaortegamendoza', 'https://www.google.com/search?q=site:linkedin.com/in/+Education+is+UC+Berkeley+graduated+works+in+consulting&start=30', 'https://www.google.com/search?q=site:linkedin.com/in/+Education+is+UC+Berkeley+graduated+works+in+consulting&start=40', 'https://www.linkedin.com/in/aprilmsanders', 'https://www.linkedin.com/in/irlandagonzalez', 'https://www.linkedin.com/in/liv-parks-8a278a6b', 'https://www.linkedin.com/in/cristina-pi%C3%B1a-5b3abb18b', 'https://www.linkedin.com/in/olgarodriguezz', 'https://www.linkedin.com/in/tiffany-phu', 'https://www.linkedin.com/in/rijul-gupta1', 'https://www.linkedin.com/in/sydneyrosefessenden', 'https://www.linkedin.com/in/sylviaju%C3%A1rezmaga%C3%B1a', 'https://www.linkedin.com/in/andrearex', 'https://www.google.com/search?q=site:linkedin.com/in/+Education+is+UC+Berkeley+graduated+works+in+consulting&start=40', 'https://www.google.com/search?q=site:linkedin.com/in/+Education+is+UC+Berkeley+graduated+works+in+consulting&start=50', 'https://www.linkedin.com/in/pjhallam', 'https://www.linkedin.com/in/akilah-favors-a81035241', 'https://www.linkedin.com/in/ziad-shafi', 'https://www.linkedin.com/in/marketingprof', 'https://www.linkedin.com/in/kelly-huu', 'https://www.linkedin.com/in/paige-trinity-martin', 'https://kr.linkedin.com/in/seoyeun-kim-a0a0a51b7', 'https://www.linkedin.com/in/elif-citoglu', 'https://www.linkedin.com/in/reeya-randhawa', 'https://www.linkedin.com/in/charlan-jeanne-nemeth-5b4a3410', 'https://www.google.com/search?q=site:linkedin.com/in/+Education+is+UC+Berkeley+graduated+works+in+consulting&start=50', 'https://www.google.com/search?q=site:linkedin.com/in/+Education+is+UC+Berkeley+graduated+works+in+consulting&start=60', 'https://www.linkedin.com/in/janene-vernard-bb94a77b', 'https://www.linkedin.com/in/jannik-noah-baier', 'https://www.linkedin.com/in/harel-benzion', 'https://www.linkedin.com/in/ginnyperkey', 'https://www.linkedin.com/in/betsy-christ-a6363299', 'https://www.linkedin.com/in/elanaleoni', 'https://www.linkedin.com/in/vanessahoseattle', 'https://www.linkedin.com/in/valerie-gary-ms-ed-7197b651', 'https://www.linkedin.com/in/shellykleinschrodt-phd', 'https://www.linkedin.com/in/dana-karout-b25693b7', 'https://www.google.com/search?q=site:linkedin.com/in/+Education+is+UC+Berkeley+graduated+works+in+consulting&start=60', 'https://www.google.com/search?q=site:linkedin.com/in/+Education+is+UC+Berkeley+graduated+works+in+consulting&start=70', 'https://www.linkedin.com/in/isabelagostino', 'https://www.linkedin.com/in/jonescollegecounseling', 'https://www.linkedin.com/in/heather-holly-freitag-16b723284', 'https://www.linkedin.com/in/frances-bellows-2a563076', 'https://www.linkedin.com/in/shannonkealey', 'https://ve.linkedin.com/in/kieranhoward', 'https://www.linkedin.com/in/danielspitzberg', 'https://www.linkedin.com/in/tarunika-kapoor-232469175', 'https://www.linkedin.com/in/haneul-lily-oh', 'https://www.linkedin.com/in/aditi-gh', 'https://www.google.com/search?q=site:linkedin.com/in/+Education+is+UC+Berkeley+graduated+works+in+consulting&start=70', 'https://www.google.com/search?q=site:linkedin.com/in/+Education+is+UC+Berkeley+graduated+works+in+consulting&start=80', 'https://www.linkedin.com/in/lauriehaskellwoerner', 'https://www.linkedin.com/in/katie-weber-6681b6217', 'https://www.linkedin.com/in/ann-elliott-2729b837', 'https://www.linkedin.com/in/james-murphy-9188b2111', 'https://www.linkedin.com/in/laurenmkrupa', 'https://www.linkedin.com/in/shayne-weston-2b13a94', 'https://www.linkedin.com/in/lisa-thomas-edd-msed-b1b6971bb', 'https://www.linkedin.com/in/cathleenmcc', 'https://www.linkedin.com/in/anthony-magdaleno-', 'https://www.linkedin.com/in/marcelladel', 'https://www.google.com/search?q=site:linkedin.com/in/+Education+is+UC+Berkeley+graduated+works+in+consulting&start=80', 'https://www.google.com/search?q=site:linkedin.com/in/+Education+is+UC+Berkeley+graduated+works+in+consulting&start=90', 'https://www.linkedin.com/in/louis-newman-a1b4669', 'https://www.linkedin.com/in/leah-johnson-13941929', 'https://www.linkedin.com/in/cgreened', 'https://www.linkedin.com/in/georgebaxter94', 'https://www.linkedin.com/in/brookegreen', 'https://www.linkedin.com/in/sarah-wheelerphd', 'https://www.linkedin.com/in/sue-harbour-a49a6a5', 'https://www.linkedin.com/in/ashika-john-a74318183', 'https://www.linkedin.com/in/irma-l-moreno-05850189', 'https://www.linkedin.com/in/amypalmoc', 'https://www.google.com/search?q=site:linkedin.com/in/+Education+is+UC+Berkeley+graduated+works+in+consulting&start=90', 'https://www.google.com/search?q=site:linkedin.com/in/+Education+is+UC+Berkeley+graduated+works+in+consulting']\n"
     ]
    },
    {
     "data": {
      "text/plain": [
       "121"
      ]
     },
     "execution_count": 110,
     "metadata": {},
     "output_type": "execute_result"
    }
   ],
   "source": [
    "cons1data = response.json()\n",
    "cons1data_linkedin_urls = extract_linkedin_urls(\n",
    "    cons1data)\n",
    "print(cons1data_linkedin_urls)\n",
    "len(cons1data_linkedin_urls)"
   ]
  },
  {
   "cell_type": "code",
   "execution_count": 112,
   "id": "411a790a-ad80-4eda-a848-4aba31aa37c8",
   "metadata": {},
   "outputs": [],
   "source": [
    "from pprint import pprint\n",
    "import requests\n",
    "payload = {\n",
    "    'source': 'google',\n",
    "    'url': 'https://www.google.com/search?q=site:linkedin.com/in/+Education+is+UC+Berkeley+graduated+works+in+consulting',\n",
    "    'parse': True,\n",
    "    'start_page': 11,\n",
    "    'pages': 10,\n",
    "}\n",
    "\n",
    "response = requests.request(\n",
    "    'POST',\n",
    "    'https://realtime.oxylabs.io/v1/queries',\n",
    "    auth=('satwikapaul_oZIdD', 'Fttkhcvnfttkhcvn6_'),\n",
    "    json=payload\n",
    ")\n"
   ]
  },
  {
   "cell_type": "code",
   "execution_count": 113,
   "id": "a9746273-bcb6-4084-ac5e-35f647694b77",
   "metadata": {},
   "outputs": [
    {
     "name": "stdout",
     "output_type": "stream",
     "text": [
      "['https://www.google.com/search?q=site:linkedin.com/in/+Education+is+UC+Berkeley+graduated+works+in+consulting&start=100', 'https://www.linkedin.com/in/ashika-john-a74318183', 'https://www.linkedin.com/in/sylviaju%C3%A1rezmaga%C3%B1a', 'https://www.linkedin.com/in/meghan-hale', 'https://www.linkedin.com/in/ashika-john-a74318183', 'https://www.linkedin.com/in/sukkriti-nath', 'https://www.linkedin.com/in/robbyn-kawaguchi-942bb66', 'https://www.linkedin.com/in/oliviabenowitz', 'https://www.linkedin.com/in/leahfaw', 'https://www.linkedin.com/in/julia-s-dawson25', 'https://www.linkedin.com/in/alicia-roy-phd', 'https://www.linkedin.com/in/nikitadamle', 'https://www.linkedin.com/in/john-cosner-27b8296', 'https://www.google.com/search?q=site:linkedin.com/in/+Education+is+UC+Berkeley+graduated+works+in+consulting&start=100', 'https://www.google.com/search?q=site:linkedin.com/in/+Education+is+UC+Berkeley+graduated+works+in+consulting&start=110', 'https://www.linkedin.com/in/clairemliang', 'https://www.linkedin.com/in/anand-c-71697625b', 'https://www.linkedin.com/in/yashhande', 'https://www.linkedin.com/in/emilyynhi', 'https://www.linkedin.com/in/juanyuan-ren-3b9368202', 'https://www.linkedin.com/in/indie-lippiatt-394540195', 'https://www.linkedin.com/in/nina-dickens', 'https://www.linkedin.com/in/ashwaryeyadav', 'https://www.linkedin.com/in/yerazbenlian', 'https://www.linkedin.com/in/shivali-chikkaswamy', 'https://www.google.com/search?q=site:linkedin.com/in/+Education+is+UC+Berkeley+graduated+works+in+consulting&start=110', 'https://www.google.com/search?q=site:linkedin.com/in/+Education+is+UC+Berkeley+graduated+works+in+consulting&start=120', 'https://www.linkedin.com/in/anthony-magdaleno-', 'https://www.linkedin.com/in/calvindavid925', 'https://www.linkedin.com/in/sue-harbour-a49a6a5', 'https://www.linkedin.com/in/kristina-campodonico-08b22ba', 'https://www.linkedin.com/in/caroline-vidmar-781829132', 'https://www.linkedin.com/in/yuning-han-89b0a1228', 'https://www.linkedin.com/in/emeraldtempleton', 'https://www.linkedin.com/in/anthony-landeros-ab9958113', 'https://www.linkedin.com/in/maria-almeida-reis', 'https://www.linkedin.com/in/sonya-shankar-2b7452203', 'https://www.google.com/search?q=site:linkedin.com/in/+Education+is+UC+Berkeley+graduated+works+in+consulting&start=120', 'https://www.google.com/search?q=site:linkedin.com/in/+Education+is+UC+Berkeley+graduated+works+in+consulting&start=130', 'https://www.linkedin.com/in/ethan-soe', 'https://www.linkedin.com/in/anizhang', 'https://www.linkedin.com/in/sarah-wheelerphd', 'https://www.linkedin.com/in/adena-ishii', 'https://www.linkedin.com/in/ashleymadera', 'https://www.linkedin.com/in/chriskinggavin', 'https://www.linkedin.com/in/martinulloa', 'https://www.linkedin.com/in/jessica-zhang-1b420130', 'https://www.linkedin.com/in/deshna', 'https://www.linkedin.com/in/ethan-chung1', 'https://www.google.com/search?q=site:linkedin.com/in/+Education+is+UC+Berkeley+graduated+works+in+consulting&start=130', 'https://www.google.com/search?q=site:linkedin.com/in/+Education+is+UC+Berkeley+graduated+works+in+consulting&start=140', 'https://www.linkedin.com/in/myvillagetribe', 'https://www.linkedin.com/in/nadinespingolahutton', 'https://www.linkedin.com/in/ricky-vides-80264189', 'https://www.linkedin.com/in/prabhavpagadala', 'https://www.linkedin.com/in/stacy-holguin-436b446', 'https://www.linkedin.com/in/meaghanmccormickderespini', 'https://www.linkedin.com/in/megha-joshi-741b28202', 'https://www.linkedin.com/in/andrea-garibay-446b0713b', 'https://www.linkedin.com/in/madelynnlee', 'https://www.linkedin.com/in/cassius-mcneill-896b56327', 'https://www.google.com/search?q=site:linkedin.com/in/+Education+is+UC+Berkeley+graduated+works+in+consulting&start=140', 'https://www.google.com/search?q=site:linkedin.com/in/+Education+is+UC+Berkeley+graduated+works+in+consulting&start=150', 'https://www.linkedin.com/in/mary-stodder-0b9060125', 'https://www.linkedin.com/in/emilyyang0312', 'https://www.linkedin.com/in/rebekah-austin-93bbb244', 'https://www.linkedin.com/in/jean-ye', 'https://www.linkedin.com/in/nabeelmuhammad1', 'https://www.linkedin.com/in/luca-haynes-880067317', 'https://www.linkedin.com/in/judy-lin-288809210', 'https://www.linkedin.com/in/benjamin-graham-649b069b', 'https://www.linkedin.com/in/rohan-tawade', 'https://www.linkedin.com/in/raul-montellano-628459155', 'https://www.google.com/search?q=site:linkedin.com/in/+Education+is+UC+Berkeley+graduated+works+in+consulting&start=150', 'https://www.google.com/search?q=site:linkedin.com/in/+Education+is+UC+Berkeley+graduated+works+in+consulting&start=160', 'https://www.linkedin.com/in/bradley-brothers-3b1457220', 'https://www.linkedin.com/in/eshakarlekar', 'https://www.linkedin.com/in/shrobanasengupta', 'https://www.linkedin.com/in/lindseymlchun', 'https://www.linkedin.com/in/dino-ambrosi-aaa28b192', 'https://www.linkedin.com/in/davidrwoodward', 'https://www.linkedin.com/in/staceyestevens', 'https://www.linkedin.com/in/shreeya-julakanti17', 'https://www.linkedin.com/in/suzanneveronicapowers', 'https://www.linkedin.com/in/leslie-elias-6a122142', 'https://www.google.com/search?q=site:linkedin.com/in/+Education+is+UC+Berkeley+graduated+works+in+consulting&start=160', 'https://www.google.com/search?q=site:linkedin.com/in/+Education+is+UC+Berkeley+graduated+works+in+consulting&start=170', 'https://www.linkedin.com/in/vedika-bhaumik', 'https://www.linkedin.com/in/jolynbrand', 'https://www.linkedin.com/in/kita-hu-3a9296256', 'https://www.linkedin.com/in/katherinegerhardt', 'https://www.linkedin.com/in/ishani-gupta07', 'https://www.linkedin.com/in/karenyhim', 'https://www.linkedin.com/in/amy-gardner-0418756', 'https://www.linkedin.com/in/hailey-holcomb-1848a222a', 'https://www.linkedin.com/in/nicole-martinez-52n4', 'https://www.linkedin.com/in/miriam-zuk-98b3564', 'https://www.google.com/search?q=site:linkedin.com/in/+Education+is+UC+Berkeley+graduated+works+in+consulting&start=170', 'https://www.google.com/search?q=site:linkedin.com/in/+Education+is+UC+Berkeley+graduated+works+in+consulting&start=180', 'https://www.linkedin.com/in/marcbacani', 'https://www.linkedin.com/in/aarthikannan526', 'https://www.linkedin.com/in/joseph-french-86708721', 'https://www.linkedin.com/in/tanya-mahadwar', 'https://www.linkedin.com/in/jennie-wang-96a7731a8', 'https://www.linkedin.com/in/david-an-ph-d-gsec-134a1b4', 'https://www.linkedin.com/in/lasanahotep', 'https://www.linkedin.com/in/chosungha/en', 'https://www.linkedin.com/in/brian-kim-420940194', 'https://www.linkedin.com/in/tanvi-rao-357602345', 'https://www.google.com/search?q=site:linkedin.com/in/+Education+is+UC+Berkeley+graduated+works+in+consulting&start=180', 'https://www.google.com/search?q=site:linkedin.com/in/+Education+is+UC+Berkeley+graduated+works+in+consulting&start=190', 'https://www.linkedin.com/in/anthonyykli', 'https://www.linkedin.com/in/dane-cruz-341a08117', 'https://www.linkedin.com/in/john-mcmichael-809287124', 'https://www.linkedin.com/in/liam-aiello', 'https://www.linkedin.com/in/shyla-awasthi', 'https://www.linkedin.com/in/mira-joshi-01b616337', 'https://www.linkedin.com/in/riley-fong-657a25105', 'https://www.linkedin.com/in/catherlinlu', 'https://www.linkedin.com/in/cody-reilly', 'https://www.linkedin.com/in/alex-stephens-3542bb23', 'https://www.google.com/search?q=site:linkedin.com/in/+Education+is+UC+Berkeley+graduated+works+in+consulting&start=190', 'https://www.google.com/search?q=site:linkedin.com/in/+Education+is+UC+Berkeley+graduated+works+in+consulting']\n"
     ]
    },
    {
     "data": {
      "text/plain": [
       "123"
      ]
     },
     "execution_count": 113,
     "metadata": {},
     "output_type": "execute_result"
    }
   ],
   "source": [
    "cons2data = response.json()\n",
    "cons2data_linkedin_urls = extract_linkedin_urls(\n",
    "    cons2data)\n",
    "print(cons2data_linkedin_urls)\n",
    "len(cons2data_linkedin_urls)"
   ]
  },
  {
   "cell_type": "code",
   "execution_count": 114,
   "id": "a0af86e1-2dfa-43ba-8e9b-5a3df5ebef78",
   "metadata": {},
   "outputs": [
    {
     "name": "stdout",
     "output_type": "stream",
     "text": [
      "['https://www.google.com/search?q=site:linkedin.com/in/+Education+is+UC+Berkeley+graduated+works+in+strategy+consulting', 'https://www.linkedin.com/in/jake-thiry', 'https://www.linkedin.com/in/selinsenel', 'https://www.linkedin.com/in/harel-benzion', 'https://www.linkedin.com/in/calvindavid925', 'https://www.linkedin.com/in/emma-martinez-749528225', 'https://www.linkedin.com/in/shyla-awasthi', 'https://www.linkedin.com/in/benjaminsher', 'https://www.linkedin.com/in/lindseymlchun', 'https://www.linkedin.com/in/nabeelmuhammad1', 'https://www.linkedin.com/in/eric-thatcher', 'https://www.google.com/search?q=site:linkedin.com/in/+Education+is+UC+Berkeley+graduated+works+in+strategy+consulting', 'https://www.google.com/search?q=site:linkedin.com/in/+Education+is+UC+Berkeley+graduated+works+in+strategy+consulting&start=10', 'https://www.linkedin.com/in/caitlinjoe', 'https://www.linkedin.com/in/nabeelmuhammad1', 'https://www.linkedin.com/in/jessicajingwenni', 'https://www.linkedin.com/in/oliviabenowitz', 'https://www.linkedin.com/in/david-j-lee-berkeley', 'https://www.linkedin.com/in/brian-she', 'https://www.linkedin.com/in/anthonyykli', 'https://es.linkedin.com/in/michael-mascarenhas19', 'https://www.linkedin.com/in/rithvikagastya', 'https://www.linkedin.com/in/mark-eusterman-629868170', 'https://www.google.com/search?q=site:linkedin.com/in/+Education+is+UC+Berkeley+graduated+works+in+strategy+consulting&start=10', 'https://www.google.com/search?q=site:linkedin.com/in/+Education+is+UC+Berkeley+graduated+works+in+strategy+consulting&start=20', 'https://www.linkedin.com/in/alfredoccamposiii', 'https://www.linkedin.com/in/rhea-mehta2', 'https://www.linkedin.com/in/taehoon-lim1', 'https://www.linkedin.com/in/cody-reilly', 'https://www.linkedin.com/in/nikitadamle', 'https://www.linkedin.com/in/justin-yu618', 'https://www.linkedin.com/in/rohan-tawade', 'https://www.linkedin.com/in/stella--ren', 'https://www.linkedin.com/in/ye-yuqi-2001', 'https://www.linkedin.com/in/marcbacani', 'https://www.google.com/search?q=site:linkedin.com/in/+Education+is+UC+Berkeley+graduated+works+in+strategy+consulting&start=20', 'https://www.google.com/search?q=site:linkedin.com/in/+Education+is+UC+Berkeley+graduated+works+in+strategy+consulting&start=30', 'https://www.linkedin.com/in/natalieshin', 'https://www.linkedin.com/in/lilian-xu', 'https://www.linkedin.com/in/elaine-shiyuan-yang-1a2794137', 'https://www.linkedin.com/in/eugenejang1121', 'https://www.linkedin.com/in/anizhang', 'https://www.linkedin.com/in/caroline-vidmar-781829132', 'https://www.linkedin.com/in/shreeya-julakanti17', 'https://www.linkedin.com/in/leoyguo', 'https://www.linkedin.com/in/alexander-schubert-84172ab1', 'https://www.linkedin.com/in/-michellechen', 'https://www.google.com/search?q=site:linkedin.com/in/+Education+is+UC+Berkeley+graduated+works+in+strategy+consulting&start=30', 'https://www.google.com/search?q=site:linkedin.com/in/+Education+is+UC+Berkeley+graduated+works+in+strategy+consulting&start=40', 'https://www.linkedin.com/in/brandon-e-lee', 'https://www.linkedin.com/in/eric-wang-2000', 'https://www.linkedin.com/in/tommymayer', 'https://www.linkedin.com/in/jocelyngao', 'https://www.linkedin.com/in/ethan-soe', 'https://www.linkedin.com/in/megan-patricia-harris', 'https://www.linkedin.com/in/terrellthompson19', 'https://www.linkedin.com/in/andrew-green-6a5aa07', 'https://www.linkedin.com/in/abbymcscott', 'https://www.linkedin.com/in/kelly-huu', 'https://www.google.com/search?q=site:linkedin.com/in/+Education+is+UC+Berkeley+graduated+works+in+strategy+consulting&start=40', 'https://www.google.com/search?q=site:linkedin.com/in/+Education+is+UC+Berkeley+graduated+works+in+strategy+consulting&start=50', 'https://www.linkedin.com/in/betsymassar', 'https://www.linkedin.com/in/reeya-randhawa', 'https://www.linkedin.com/in/katherinegerhardt', 'https://www.linkedin.com/in/carolynklin/', 'https://www.linkedin.com/in/anne-marie-gallagher', 'https://www.linkedin.com/in/tilda-gross', 'https://www.linkedin.com/in/elanaleoni', 'https://www.linkedin.com/in/marshal-caro', 'https://www.linkedin.com/in/arpitaapandey', 'https://www.linkedin.com/in/anmolbal', 'https://www.google.com/search?q=site:linkedin.com/in/+Education+is+UC+Berkeley+graduated+works+in+strategy+consulting&start=50', 'https://www.google.com/search?q=site:linkedin.com/in/+Education+is+UC+Berkeley+graduated+works+in+strategy+consulting&start=60', 'https://www.linkedin.com/in/dana-karout-b25693b7', 'https://www.linkedin.com/in/tiagocorreapereira', 'https://ve.linkedin.com/in/kieranhoward', 'https://www.linkedin.com/in/danielspitzberg', 'https://www.linkedin.com/in/catherineleepdx', 'https://www.linkedin.com/in/mlopolito', 'https://www.linkedin.com/in/farahdilber', 'https://www.linkedin.com/in/alylee', 'https://www.linkedin.com/in/jedin-truong', 'https://www.linkedin.com/in/robertkohen', 'https://www.google.com/search?q=site:linkedin.com/in/+Education+is+UC+Berkeley+graduated+works+in+strategy+consulting&start=60', 'https://www.google.com/search?q=site:linkedin.com/in/+Education+is+UC+Berkeley+graduated+works+in+strategy+consulting&start=70', 'https://www.linkedin.com/in/frances-bellows-2a563076', 'https://www.linkedin.com/in/nishthabahal', 'https://www.linkedin.com/in/jessica-a-george', 'https://www.linkedin.com/in/sharonlack', 'https://www.linkedin.com/in/ginnyperkey', 'https://www.linkedin.com/in/heitor-santos-edu', 'https://www.linkedin.com/in/klaresedonnelly', 'https://www.linkedin.com/in/siddharthkalia', 'https://www.linkedin.com/in/inbargavra', 'https://www.linkedin.com/in/georgebaxter94', 'https://www.google.com/search?q=site:linkedin.com/in/+Education+is+UC+Berkeley+graduated+works+in+strategy+consulting&start=70', 'https://www.google.com/search?q=site:linkedin.com/in/+Education+is+UC+Berkeley+graduated+works+in+strategy+consulting&start=80', 'https://www.linkedin.com/in/marketingprof', 'https://www.linkedin.com/in/ellentrader', 'https://www.linkedin.com/in/lakshmi-gopinathan', 'https://www.linkedin.com/in/lisa-garcia-bedolla-28b0174', 'https://www.linkedin.com/in/alba-joy', 'https://www.linkedin.com/in/noorabdullahm', 'https://www.linkedin.com/in/moeturner', 'https://www.linkedin.com/in/andres-ramirez67', 'https://www.linkedin.com/in/keynesle/', 'https://www.linkedin.com/in/jenlo1018', 'https://www.google.com/search?q=site:linkedin.com/in/+Education+is+UC+Berkeley+graduated+works+in+strategy+consulting&start=80', 'https://www.google.com/search?q=site:linkedin.com/in/+Education+is+UC+Berkeley+graduated+works+in+strategy+consulting&start=90', 'https://hk.linkedin.com/in/jen-chang', 'https://www.linkedin.com/in/derek-day-42b557b', 'https://www.linkedin.com/in/cathleenmcc', 'https://www.linkedin.com/in/katie-weber-6681b6217', 'https://www.linkedin.com/in/lisa-thomas-edd-msed-b1b6971bb', 'https://www.linkedin.com/in/sophia-dumesny', 'https://www.linkedin.com/in/suzanneveronicapowers', 'https://www.linkedin.com/in/jenniferkatelynliu', 'https://www.linkedin.com/in/ned-resnikoff-7054837', 'https://www.linkedin.com/in/rijul-gupta1', 'https://www.google.com/search?q=site:linkedin.com/in/+Education+is+UC+Berkeley+graduated+works+in+strategy+consulting&start=90', 'https://www.google.com/search?q=site:linkedin.com/in/+Education+is+UC+Berkeley+graduated+works+in+strategy+consulting']\n"
     ]
    },
    {
     "data": {
      "text/plain": [
       "121"
      ]
     },
     "execution_count": 114,
     "metadata": {},
     "output_type": "execute_result"
    }
   ],
   "source": [
    "from pprint import pprint\n",
    "import requests\n",
    "payload = {\n",
    "    'source': 'google',\n",
    "    'url': 'https://www.google.com/search?q=site:linkedin.com/in/+Education+is+UC+Berkeley+graduated+works+in+strategy+consulting',\n",
    "    'parse': True,\n",
    "    'start_page': 1,\n",
    "    'pages': 10,\n",
    "}\n",
    "\n",
    "response = requests.request(\n",
    "    'POST',\n",
    "    'https://realtime.oxylabs.io/v1/queries',\n",
    "    auth=('satwikapaul_oZIdD', 'Fttkhcvnfttkhcvn6_'),\n",
    "    json=payload\n",
    ")\n",
    "\n",
    "cons3data = response.json()\n",
    "cons3data_linkedin_urls = extract_linkedin_urls(\n",
    "    cons3data)\n",
    "print(cons3data_linkedin_urls)\n",
    "len(cons3data_linkedin_urls)\n"
   ]
  },
  {
   "cell_type": "code",
   "execution_count": 115,
   "id": "f91668ce-b318-4a3f-b42e-8664ad9f137b",
   "metadata": {},
   "outputs": [
    {
     "name": "stdout",
     "output_type": "stream",
     "text": [
      "['https://www.google.com/search?q=site:linkedin.com/in/+Education+is+UC+Berkeley+graduated+works+in+tech+consulting', 'https://www.linkedin.com/in/terrellthompson19', 'https://www.linkedin.com/in/catherineleepdx', 'https://www.linkedin.com/in/tommymayer', 'https://www.linkedin.com/in/kaveergera', 'https://www.linkedin.com/in/apadron10', 'https://www.linkedin.com/in/varun-mittal-1001', 'https://www.linkedin.com/in/ginnyperkey', 'https://ie.linkedin.com/in/bernadetteadams', 'https://www.linkedin.com/in/shellymuru', 'https://www.linkedin.com/in/changolivia', 'https://www.google.com/search?q=site:linkedin.com/in/+Education+is+UC+Berkeley+graduated+works+in+tech+consulting', 'https://www.google.com/search?q=site:linkedin.com/in/+Education+is+UC+Berkeley+graduated+works+in+tech+consulting&start=10', 'https://www.linkedin.com/in/emma-martinez-749528225', 'https://www.linkedin.com/in/willhsu01', 'https://www.linkedin.com/in/alfredoccamposiii', 'https://www.linkedin.com/in/genevieve-brooks-831066197', 'https://www.linkedin.com/in/adrian-alamo', 'https://www.linkedin.com/in/jonathan-tessmann-4abb33277', 'https://www.linkedin.com/in/spruhakar', 'https://www.linkedin.com/in/isabella-durante-alpert-86243b283', 'https://www.linkedin.com/in/jack-barnett-717335ab', 'https://www.linkedin.com/in/andypeterson1', 'https://www.google.com/search?q=site:linkedin.com/in/+Education+is+UC+Berkeley+graduated+works+in+tech+consulting&start=10', 'https://www.google.com/search?q=site:linkedin.com/in/+Education+is+UC+Berkeley+graduated+works+in+tech+consulting&start=20', 'https://www.linkedin.com/in/jaansi', 'https://www.linkedin.com/in/lilian-xu', 'https://www.linkedin.com/in/shivali-chikkaswamy', 'https://www.linkedin.com/in/rhea-mehta2', 'https://www.linkedin.com/in/shreeya-julakanti17', 'https://www.linkedin.com/in/jafsantos/', 'https://www.linkedin.com/in/jasonhjung', 'https://www.linkedin.com/in/yashhande', 'https://www.linkedin.com/in/elana-eisenberg', 'https://www.linkedin.com/in/grace-sun-berkeley2028', 'https://www.google.com/search?q=site:linkedin.com/in/+Education+is+UC+Berkeley+graduated+works+in+tech+consulting&start=20', 'https://www.google.com/search?q=site:linkedin.com/in/+Education+is+UC+Berkeley+graduated+works+in+tech+consulting&start=30', 'https://www.linkedin.com/in/fernanda-sanchez', 'https://www.linkedin.com/in/andrew-t-kim', 'https://www.linkedin.com/in/leoyguo', 'https://www.linkedin.com/in/vivianpnguyen18', 'https://www.linkedin.com/in/tara-mason2018', 'https://www.linkedin.com/in/sophia-xue-47244b1ba', 'https://www.linkedin.com/in/andrew-green-6a5aa07', 'https://www.linkedin.com/in/pamela-gleason-0969775', 'https://www.linkedin.com/in/neha-haresh', 'https://www.linkedin.com/in/katherinegerhardt', 'https://www.google.com/search?q=site:linkedin.com/in/+Education+is+UC+Berkeley+graduated+works+in+tech+consulting&start=30', 'https://www.google.com/search?q=site:linkedin.com/in/+Education+is+UC+Berkeley+graduated+works+in+tech+consulting&start=40', 'https://www.linkedin.com/in/tiffany-reardon', 'https://www.linkedin.com/in/karenchaehyun', 'https://www.linkedin.com/in/alba-joy', 'https://www.linkedin.com/in/flavio-feferman-55827a5', 'https://www.linkedin.com/in/katie-gede?trk=people-guest_people_search-card', 'https://www.linkedin.com/in/duan-michelle', 'https://www.linkedin.com/in/limsico', 'https://www.linkedin.com/in/arissazheng', 'https://www.linkedin.com/in/augusteanderson', 'https://www.linkedin.com/in/claratu/', 'https://www.google.com/search?q=site:linkedin.com/in/+Education+is+UC+Berkeley+graduated+works+in+tech+consulting&start=40', 'https://www.google.com/search?q=site:linkedin.com/in/+Education+is+UC+Berkeley+graduated+works+in+tech+consulting&start=50', 'https://www.linkedin.com/in/megan-braverman', 'https://www.linkedin.com/in/justdoit', 'https://www.linkedin.com/in/derekpopple', 'https://www.linkedin.com/in/sameer-karim', 'https://www.linkedin.com/in/kamrynrose', 'https://www.linkedin.com/in/kelly-chang-51b3a6133', 'https://www.linkedin.com/in/reeya-randhawa', 'https://www.linkedin.com/in/clark-bilorusky', 'https://www.linkedin.com/in/aakash-sundaresan', 'https://www.linkedin.com/in/mlopolito', 'https://www.google.com/search?q=site:linkedin.com/in/+Education+is+UC+Berkeley+graduated+works+in+tech+consulting&start=50', 'https://www.google.com/search?q=site:linkedin.com/in/+Education+is+UC+Berkeley+graduated+works+in+tech+consulting&start=60', 'https://www.linkedin.com/in/robertkohen', 'https://www.linkedin.com/in/jake-thiry', 'https://www.linkedin.com/in/pjhallam', 'https://www.linkedin.com/in/subham--mitra', 'https://www.linkedin.com/in/tilda-gross', 'https://www.linkedin.com/in/raniyakhan', 'https://www.linkedin.com/in/derektantech', 'https://www.linkedin.com/in/harel-benzion', 'https://www.linkedin.com/in/revaecontreras', 'https://www.linkedin.com/in/sriram-srinivasan-9bba6a', 'https://www.google.com/search?q=site:linkedin.com/in/+Education+is+UC+Berkeley+graduated+works+in+tech+consulting&start=60', 'https://www.google.com/search?q=site:linkedin.com/in/+Education+is+UC+Berkeley+graduated+works+in+tech+consulting&start=70', 'https://www.linkedin.com/in/vincent-neang-0624a3192', 'https://www.linkedin.com/in/may-liu-jj', 'https://www.linkedin.com/in/aditi-gh', 'https://www.linkedin.com/in/tam-nguyen-519588242', 'https://www.linkedin.com/in/siddharth-veerapaneni', 'https://www.linkedin.com/in/ericsarmstrong', 'https://www.linkedin.com/in/moeturner', 'https://www.linkedin.com/in/arturo-ayala-775493187', 'https://www.linkedin.com/in/isabelagostino', 'https://www.linkedin.com/in/andrew-enriquez-05a226159', 'https://www.google.com/search?q=site:linkedin.com/in/+Education+is+UC+Berkeley+graduated+works+in+tech+consulting&start=70', 'https://www.google.com/search?q=site:linkedin.com/in/+Education+is+UC+Berkeley+graduated+works+in+tech+consulting&start=80', 'https://www.linkedin.com/in/moses-chen-04bb76234', 'https://www.linkedin.com/in/andreapatricia', 'https://www.linkedin.com/in/camillestuczynski', 'https://www.linkedin.com/in/lulu-cardoza-2b5468268', 'https://www.linkedin.com/in/katie-weber-6681b6217', 'https://www.linkedin.com/in/cgreened', 'https://www.linkedin.com/in/angelique-zoile', 'https://www.linkedin.com/in/jwlipp', 'https://www.linkedin.com/in/ashwaryeyadav', 'https://www.linkedin.com/in/arthur-baruzzi', 'https://www.google.com/search?q=site:linkedin.com/in/+Education+is+UC+Berkeley+graduated+works+in+tech+consulting&start=80', 'https://www.google.com/search?q=site:linkedin.com/in/+Education+is+UC+Berkeley+graduated+works+in+tech+consulting&start=90', 'https://www.linkedin.com/in/jonathan-tessmann-4abb33277', 'https://www.linkedin.com/in/davidapiladojr', 'https://www.linkedin.com/in/marksearle', 'https://www.linkedin.com/in/lanaduong1', 'https://www.linkedin.com/in/marco-monfiglio-a42a551a0', 'https://www.linkedin.com/in/luis-morenor', 'https://www.linkedin.com/in/angel-salazar-60761026a', 'https://www.linkedin.com/in/shervil', 'https://www.linkedin.com/in/eileen-williams-4054ab125', 'https://www.linkedin.com/in/shrobanasengupta', 'https://www.linkedin.com/in/kevin-lee-19084553', 'https://www.linkedin.com/in/andy-s-wei', 'https://www.google.com/search?q=site:linkedin.com/in/+Education+is+UC+Berkeley+graduated+works+in+tech+consulting&start=90', 'https://www.google.com/search?q=site:linkedin.com/in/+Education+is+UC+Berkeley+graduated+works+in+tech+consulting']\n"
     ]
    },
    {
     "data": {
      "text/plain": [
       "123"
      ]
     },
     "execution_count": 115,
     "metadata": {},
     "output_type": "execute_result"
    }
   ],
   "source": [
    "from pprint import pprint\n",
    "import requests\n",
    "payload = {\n",
    "    'source': 'google',\n",
    "    'url': 'https://www.google.com/search?q=site:linkedin.com/in/+Education+is+UC+Berkeley+graduated+works+in+tech+consulting',\n",
    "    'parse': True,\n",
    "    'start_page': 1,\n",
    "    'pages': 10,\n",
    "}\n",
    "\n",
    "response = requests.request(\n",
    "    'POST',\n",
    "    'https://realtime.oxylabs.io/v1/queries',\n",
    "    auth=('satwikapaul_oZIdD', 'Fttkhcvnfttkhcvn6_'),\n",
    "    json=payload\n",
    ")\n",
    "\n",
    "cons4data = response.json()\n",
    "cons4data_linkedin_urls = extract_linkedin_urls(\n",
    "    cons4data)\n",
    "print(cons4data_linkedin_urls)\n",
    "len(cons4data_linkedin_urls)\n"
   ]
  },
  {
   "cell_type": "code",
   "execution_count": 116,
   "id": "30d253b1-d77f-4bfb-862f-80a1b9b46e8f",
   "metadata": {},
   "outputs": [
    {
     "name": "stdout",
     "output_type": "stream",
     "text": [
      "['https://www.google.com/search?q=site:linkedin.com/in/+Education+is+UC+Berkeley+graduated+works+in+financial+consulting', 'https://www.linkedin.com/in/harel-benzion', 'https://www.linkedin.com/in/jennifershaw02', 'https://www.linkedin.com/in/rhea-mehta2', 'https://www.linkedin.com/in/rjittri', 'https://www.linkedin.com/in/alfredoccamposiii', 'https://www.linkedin.com/in/ye-yuqi-2001', 'https://www.linkedin.com/in/natalieshin', 'https://www.linkedin.com/in/aaronsmyth', 'https://www.linkedin.com/in/trhuynh', 'https://www.linkedin.com/in/estebanvasquez1', 'https://www.google.com/search?q=site:linkedin.com/in/+Education+is+UC+Berkeley+graduated+works+in+financial+consulting', 'https://www.google.com/search?q=site:linkedin.com/in/+Education+is+UC+Berkeley+graduated+works+in+financial+consulting&start=10', 'https://www.linkedin.com/in/rithvikagastya', 'https://www.linkedin.com/in/alex-sanchez-590a99293', 'https://www.linkedin.com/in/martin-brook-35b493a', 'https://www.linkedin.com/in/mark-r-r-2b704812', 'https://www.linkedin.com/in/samuel-ortega', 'https://www.linkedin.com/in/thao-to-766951156', 'https://www.linkedin.com/in/mary-hoang-61b97021', 'https://www.linkedin.com/in/mario-cortes-999a02252', 'https://www.linkedin.com/in/joel-adlen-10425412', 'https://www.linkedin.com/in/brandon-pooner', 'https://www.google.com/search?q=site:linkedin.com/in/+Education+is+UC+Berkeley+graduated+works+in+financial+consulting&start=10', 'https://www.google.com/search?q=site:linkedin.com/in/+Education+is+UC+Berkeley+graduated+works+in+financial+consulting&start=20', 'https://www.linkedin.com/in/tommymayer', 'https://www.linkedin.com/in/terrellthompson19', 'https://www.linkedin.com/in/deanfernandez', 'https://www.linkedin.com/in/dawn-mcgee', 'https://www.linkedin.com/in/luis-morenor', 'https://www.linkedin.com/in/milan-brennan', 'https://www.linkedin.com/in/ardyel-christian-lim', 'https://www.linkedin.com/in/leoyguo', 'https://www.linkedin.com/in/angel-salazar-60761026a', 'https://www.linkedin.com/in/francisco-rodriguez-1b6243281', 'https://www.google.com/search?q=site:linkedin.com/in/+Education+is+UC+Berkeley+graduated+works+in+financial+consulting&start=20', 'https://www.google.com/search?q=site:linkedin.com/in/+Education+is+UC+Berkeley+graduated+works+in+financial+consulting&start=30', 'https://www.linkedin.com/in/lanaduong1', 'https://www.linkedin.com/in/laura-d-tyson', 'https://www.linkedin.com/in/christine-mullarkey', 'https://www.linkedin.com/in/usamafaheemhere', 'https://www.linkedin.com/in/ryannamadden', 'https://www.linkedin.com/in/handy-pranata', 'https://www.linkedin.com/in/bodhisilberling', 'https://www.linkedin.com/in/roc%C3%ADo-sanchez-ab70013a', 'https://www.linkedin.com/in/harel-benzion', 'https://www.linkedin.com/in/manny-chizer-5b206631b', 'https://www.google.com/search?q=site:linkedin.com/in/+Education+is+UC+Berkeley+graduated+works+in+financial+consulting&start=30', 'https://www.google.com/search?q=site:linkedin.com/in/+Education+is+UC+Berkeley+graduated+works+in+financial+consulting&start=40', 'https://www.linkedin.com/in/liviaong', 'https://www.linkedin.com/in/rijul-gupta1', 'https://www.linkedin.com/in/katie-gede?trk=people-guest_people_search-card', 'https://www.linkedin.com/in/jennifer-j-51a619224', 'https://www.linkedin.com/in/bernadetteadams', 'https://www.linkedin.com/in/sharonlack', 'https://www.linkedin.com/in/pjhallam', 'https://www.linkedin.com/in/heejae-lee-901340221', 'https://www.linkedin.com/in/glennrdeguzman-edd', 'https://www.linkedin.com/in/amandazhang916', 'https://www.google.com/search?q=site:linkedin.com/in/+Education+is+UC+Berkeley+graduated+works+in+financial+consulting&start=40', 'https://www.google.com/search?q=site:linkedin.com/in/+Education+is+UC+Berkeley+graduated+works+in+financial+consulting&start=50', 'https://www.linkedin.com/in/davidapiladojr', 'https://www.linkedin.com/in/eric-manzo', 'https://www.linkedin.com/in/abbymcscott', 'https://www.linkedin.com/in/elliott-medrich-2537978', 'https://www.linkedin.com/in/tilda-gross', 'https://www.linkedin.com/in/daphne-dixon-watson-5a40732a', 'https://www.linkedin.com/in/shellykleinschrodt-phd', 'https://www.linkedin.com/in/eric-manzo', 'https://www.linkedin.com/in/lisa-garcia-bedolla-28b0174', 'https://in.linkedin.com/in/sharanhegde95', 'https://www.linkedin.com/in/sameer-karim', 'https://www.linkedin.com/in/reeya-randhawa', 'https://www.google.com/search?q=site:linkedin.com/in/+Education+is+UC+Berkeley+graduated+works+in+financial+consulting&start=50', 'https://www.google.com/search?q=site:linkedin.com/in/+Education+is+UC+Berkeley+graduated+works+in+financial+consulting&start=60', 'https://www.linkedin.com/in/keithgatto', 'https://www.linkedin.com/in/tolani-britton-b27278b3', 'https://www.linkedin.com/in/robert-cervero-19399211', 'https://www.linkedin.com/in/david-apilado', 'https://www.linkedin.com/in/amandalcheung', 'https://www.linkedin.com/in/isaac-zalkin-844981187', 'https://www.linkedin.com/in/janene-vernard-bb94a77b', 'https://www.linkedin.com/in/benchon', 'https://www.linkedin.com/in/abdrahmansheriff', 'https://www.linkedin.com/in/kaveergera', 'https://www.google.com/search?q=site:linkedin.com/in/+Education+is+UC+Berkeley+graduated+works+in+financial+consulting&start=60', 'https://www.google.com/search?q=site:linkedin.com/in/+Education+is+UC+Berkeley+graduated+works+in+financial+consulting&start=70', 'https://www.linkedin.com/in/lulu-cardoza-2b5468268', 'https://www.linkedin.com/in/klaresedonnelly', 'https://www.linkedin.com/in/jeff-miles-8b947912', 'https://www.linkedin.com/in/tiffany-reardon', 'https://www.linkedin.com/in/dana-karout-b25693b7', 'https://www.linkedin.com/in/jasonskoff', 'https://www.linkedin.com/in/derek-jay-allen', 'https://www.linkedin.com/in/andrearex', 'https://www.linkedin.com/in/matt-bodo', 'https://www.linkedin.com/in/heather-holly-freitag-16b723284', 'https://www.google.com/search?q=site:linkedin.com/in/+Education+is+UC+Berkeley+graduated+works+in+financial+consulting&start=70', 'https://www.google.com/search?q=site:linkedin.com/in/+Education+is+UC+Berkeley+graduated+works+in+financial+consulting&start=80', 'https://www.linkedin.com/in/alanna-labine-a881633a', 'https://www.linkedin.com/in/youki-terada-97154910', 'https://www.linkedin.com/in/emma-hopson-b3b694140', 'https://www.linkedin.com/in/davidapiladojr', 'https://www.linkedin.com/in/kristin-theis-alvarez-16707545', 'https://www.linkedin.com/in/jonesblaine', 'https://www.linkedin.com/in/cecillecabacungan', 'https://www.linkedin.com/in/abbymcscott', 'https://www.linkedin.com/in/cristina-pi%C3%B1a-5b3abb18b', 'https://www.linkedin.com/in/irma-l-moreno-05850189', 'https://www.google.com/search?q=site:linkedin.com/in/+Education+is+UC+Berkeley+graduated+works+in+financial+consulting&start=80', 'https://www.google.com/search?q=site:linkedin.com/in/+Education+is+UC+Berkeley+graduated+works+in+financial+consulting&start=90', 'https://www.linkedin.com/in/yuning-han-89b0a1228', 'https://www.linkedin.com/in/ralph-ruan/en', 'https://www.linkedin.com/in/rebeccasablo', 'https://www.linkedin.com/in/aprilmsanders', 'https://www.linkedin.com/in/janet-lopez-03', 'https://www.linkedin.com/in/nina-moskowitz', 'https://www.linkedin.com/in/gayle-allerson-7516a359', 'https://www.linkedin.com/in/nikitadamle', 'https://www.linkedin.com/in/julia-s-dawson25', 'https://www.linkedin.com/in/megan-braverman', 'https://www.google.com/search?q=site:linkedin.com/in/+Education+is+UC+Berkeley+graduated+works+in+financial+consulting&start=90', 'https://www.google.com/search?q=site:linkedin.com/in/+Education+is+UC+Berkeley+graduated+works+in+financial+consulting']\n"
     ]
    },
    {
     "data": {
      "text/plain": [
       "123"
      ]
     },
     "execution_count": 116,
     "metadata": {},
     "output_type": "execute_result"
    }
   ],
   "source": [
    "from pprint import pprint\n",
    "import requests\n",
    "payload = {\n",
    "    'source': 'google',\n",
    "    'url': 'https://www.google.com/search?q=site:linkedin.com/in/+Education+is+UC+Berkeley+graduated+works+in+financial+consulting',\n",
    "    'parse': True,\n",
    "    'start_page': 1,\n",
    "    'pages': 10,\n",
    "}\n",
    "\n",
    "response = requests.request(\n",
    "    'POST',\n",
    "    'https://realtime.oxylabs.io/v1/queries',\n",
    "    auth=('satwikapaul_oZIdD', 'Fttkhcvnfttkhcvn6_'),\n",
    "    json=payload\n",
    ")\n",
    "\n",
    "cons5data = response.json()\n",
    "cons5data_linkedin_urls = extract_linkedin_urls(\n",
    "    cons5data)\n",
    "print(cons5data_linkedin_urls)\n",
    "len(cons5data_linkedin_urls)\n"
   ]
  },
  {
   "cell_type": "code",
   "execution_count": 117,
   "id": "f759c903-c53d-4302-a004-8cef73bf8af5",
   "metadata": {},
   "outputs": [
    {
     "name": "stdout",
     "output_type": "stream",
     "text": [
      "['https://www.google.com/search?q=site:linkedin.com/in/+Education+is+UC+Berkeley+graduated+works+in+operations+consulting', 'https://www.linkedin.com/in/anya-desai', 'https://www.linkedin.com/in/catherineleepdx', 'https://www.linkedin.com/in/emilyyu-', 'https://www.linkedin.com/in/mlopolito', 'https://www.linkedin.com/in/nina-dickens', 'https://www.linkedin.com/in/mark-eusterman-629868170', 'https://www.linkedin.com/in/prabhavpagadala', 'https://es.linkedin.com/in/michael-mascarenhas19', 'https://www.linkedin.com/in/rhea-mehta2', 'https://www.linkedin.com/in/rithvikagastya', 'https://www.google.com/search?q=site:linkedin.com/in/+Education+is+UC+Berkeley+graduated+works+in+operations+consulting', 'https://www.google.com/search?q=site:linkedin.com/in/+Education+is+UC+Berkeley+graduated+works+in+operations+consulting&start=10', 'https://www.linkedin.com/in/michael-thompson-8818b319', 'https://www.linkedin.com/in/rithvikagastya', 'https://www.linkedin.com/in/terrellthompson19', 'https://www.linkedin.com/in/laurenangelus', 'https://www.linkedin.com/in/sukkriti-nath', 'https://www.linkedin.com/in/angelique-zoile', 'https://www.linkedin.com/in/prabhavpagadala', 'https://www.linkedin.com/in/grace--qian', 'https://www.linkedin.com/in/bowpisacha', 'https://www.linkedin.com/in/leslie-elias-6a122142', 'https://www.google.com/search?q=site:linkedin.com/in/+Education+is+UC+Berkeley+graduated+works+in+operations+consulting&start=10', 'https://www.google.com/search?q=site:linkedin.com/in/+Education+is+UC+Berkeley+graduated+works+in+operations+consulting&start=20', 'https://www.linkedin.com/in/katie-weber-6681b6217', 'https://www.linkedin.com/in/caroline-vidmar-781829132', 'https://www.linkedin.com/in/elanaleoni', 'https://www.linkedin.com/in/sophia-dumesny', 'https://www.linkedin.com/in/leslie-elias-6a122142', 'https://www.linkedin.com/in/liv-parks-8a278a6b', 'https://www.linkedin.com/in/terrellthompson19', 'https://www.linkedin.com/in/grace--qian', 'https://www.linkedin.com/in/shellykleinschrodt-phd', 'https://www.linkedin.com/in/marshal-caro', 'https://www.google.com/search?q=site:linkedin.com/in/+Education+is+UC+Berkeley+graduated+works+in+operations+consulting&start=20', 'https://www.google.com/search?q=site:linkedin.com/in/+Education+is+UC+Berkeley+graduated+works+in+operations+consulting&start=30', 'https://www.linkedin.com/in/arturo-ayala-775493187', 'https://www.linkedin.com/in/breona-jenkins-2593a02b', 'https://www.linkedin.com/in/laszlobock', 'https://www.linkedin.com/in/arpitaapandey', 'https://www.linkedin.com/in/nathaniel-santoso-b10845218/', 'https://www.linkedin.com/in/johndoherty12', 'https://www.linkedin.com/in/sydneysibrian', 'https://www.linkedin.com/in/meghan-hale', 'https://www.linkedin.com/in/ginnyperkey', 'https://www.linkedin.com/in/marcelladel', 'https://www.google.com/search?q=site:linkedin.com/in/+Education+is+UC+Berkeley+graduated+works+in+operations+consulting&start=30', 'https://www.google.com/search?q=site:linkedin.com/in/+Education+is+UC+Berkeley+graduated+works+in+operations+consulting&start=40', 'https://www.linkedin.com/in/marcelladel', 'https://www.linkedin.com/in/bowpisacha', 'https://www.linkedin.com/in/ann-elliott-2729b837', 'https://www.linkedin.com/in/coachdihu', 'https://www.linkedin.com/in/sienalester415', 'https://www.linkedin.com/in/bodhisilberling', 'https://www.linkedin.com/in/shayne-weston-2b13a94', 'https://www.linkedin.com/in/lakshmi-gopinathan', 'https://www.linkedin.com/in/ralph-ruan/en', 'https://www.linkedin.com/in/midge-galvan-256ab66', 'https://www.google.com/search?q=site:linkedin.com/in/+Education+is+UC+Berkeley+graduated+works+in+operations+consulting&start=40', 'https://www.google.com/search?q=site:linkedin.com/in/+Education+is+UC+Berkeley+graduated+works+in+operations+consulting&start=50', 'https://www.linkedin.com/in/jana-kawecki', 'https://www.linkedin.com/in/rick-hariman', 'https://www.linkedin.com/in/christianrobertbarajas', 'https://www.linkedin.com/in/isabelagostino', 'https://www.linkedin.com/in/justdoit', 'https://www.linkedin.com/in/klaresedonnelly', 'https://www.linkedin.com/in/soledadguilera', 'https://www.linkedin.com/in/samuel-ortega', 'https://www.linkedin.com/in/grace-sun-berkeley2028', 'https://www.linkedin.com/in/ethan-soe', 'https://www.google.com/search?q=site:linkedin.com/in/+Education+is+UC+Berkeley+graduated+works+in+operations+consulting&start=50', 'https://www.google.com/search?q=site:linkedin.com/in/+Education+is+UC+Berkeley+graduated+works+in+operations+consulting&start=60', 'https://www.linkedin.com/in/inbargavra', 'https://www.linkedin.com/in/fabianluke', 'https://www.linkedin.com/in/martinulloa', 'https://www.linkedin.com/in/cassius-mcneill-896b56327', 'https://www.linkedin.com/in/luis-morenor', 'https://www.linkedin.com/in/abbymcscott', 'https://www.linkedin.com/in/allisonmatlack', 'https://www.linkedin.com/in/alanna-labine-a881633a', 'https://www.linkedin.com/in/estherzeledon', 'https://www.linkedin.com/in/patrickminacio', 'https://www.google.com/search?q=site:linkedin.com/in/+Education+is+UC+Berkeley+graduated+works+in+operations+consulting&start=60', 'https://www.google.com/search?q=site:linkedin.com/in/+Education+is+UC+Berkeley+graduated+works+in+operations+consulting&start=70', 'https://www.linkedin.com/in/amandaleee', 'https://www.linkedin.com/in/-michellechen', 'https://www.linkedin.com/in/nguyentuanngoc', 'https://www.linkedin.com/in/joseph-lee-743b4b91', 'https://www.linkedin.com/in/james-murphy-9188b2111', 'https://www.linkedin.com/in/john-mcmichael-809287124', 'https://www.linkedin.com/in/katharineejohnson', 'https://www.linkedin.com/in/genevieve-brooks-831066197', 'https://www.linkedin.com/in/usamafaheemhere', 'https://www.linkedin.com/in/anmolbal', 'https://www.google.com/search?q=site:linkedin.com/in/+Education+is+UC+Berkeley+graduated+works+in+operations+consulting&start=70', 'https://www.google.com/search?q=site:linkedin.com/in/+Education+is+UC+Berkeley+graduated+works+in+operations+consulting&start=80', 'https://www.linkedin.com/in/justin-mcgrath-597147202', 'https://www.linkedin.com/in/dane-cruz-341a08117', 'https://www.linkedin.com/in/aryanspmishra', 'https://www.linkedin.com/in/saadbham', 'https://www.linkedin.com/in/daisy-huang-534204265', 'https://www.linkedin.com/in/jessicajingwenni', 'https://www.linkedin.com/in/francesgloryroserich', 'https://www.linkedin.com/in/ashlymarqez', 'https://www.linkedin.com/in/limsico', 'https://www.linkedin.com/in/janet-lopez-03', 'https://www.google.com/search?q=site:linkedin.com/in/+Education+is+UC+Berkeley+graduated+works+in+operations+consulting&start=80', 'https://www.google.com/search?q=site:linkedin.com/in/+Education+is+UC+Berkeley+graduated+works+in+operations+consulting&start=90', 'https://www.linkedin.com/in/rhea-mehta2', 'https://www.linkedin.com/in/mark-eusterman-629868170', 'https://www.linkedin.com/in/emilyyu-', 'https://www.linkedin.com/in/amypalmoc', 'https://www.linkedin.com/in/eric-wang-2000', 'https://www.linkedin.com/in/kara-snider', 'https://www.linkedin.com/in/indie-lippiatt-394540195', 'https://www.linkedin.com/in/chris-bush', 'https://www.linkedin.com/in/staceyestevens', 'https://www.linkedin.com/in/chriskinggavin', 'https://www.linkedin.com/in/robertifinkel', 'https://www.linkedin.com/in/lisa-garcia-bedolla-28b0174', 'https://www.google.com/search?q=site:linkedin.com/in/+Education+is+UC+Berkeley+graduated+works+in+operations+consulting&start=90', 'https://www.google.com/search?q=site:linkedin.com/in/+Education+is+UC+Berkeley+graduated+works+in+operations+consulting']\n"
     ]
    },
    {
     "data": {
      "text/plain": [
       "123"
      ]
     },
     "execution_count": 117,
     "metadata": {},
     "output_type": "execute_result"
    }
   ],
   "source": [
    "from pprint import pprint\n",
    "import requests\n",
    "payload = {\n",
    "    'source': 'google',\n",
    "    'url': 'https://www.google.com/search?q=site:linkedin.com/in/+Education+is+UC+Berkeley+graduated+works+in+operations+consulting',\n",
    "    'parse': True,\n",
    "    'start_page': 1,\n",
    "    'pages': 10,\n",
    "}\n",
    "\n",
    "response = requests.request(\n",
    "    'POST',\n",
    "    'https://realtime.oxylabs.io/v1/queries',\n",
    "    auth=('satwikapaul_oZIdD', 'Fttkhcvnfttkhcvn6_'),\n",
    "    json=payload\n",
    ")\n",
    "\n",
    "cons6data = response.json()\n",
    "cons6data_linkedin_urls = extract_linkedin_urls(\n",
    "    cons6data)\n",
    "print(cons6data_linkedin_urls)\n",
    "len(cons6data_linkedin_urls)\n"
   ]
  },
  {
   "cell_type": "code",
   "execution_count": 118,
   "id": "02c9594b-c449-4ea0-aeaa-35598ef66c27",
   "metadata": {},
   "outputs": [
    {
     "name": "stdout",
     "output_type": "stream",
     "text": [
      "['https://www.google.com/search?q=site:linkedin.com/in/+Education+is+UC+Berkeley+graduated+works+in+legal+consulting', 'https://www.linkedin.com/in/francisco-rodriguez-1b6243281', 'https://www.linkedin.com/in/alex-alcantara7', 'https://www.linkedin.com/in/nicholas-d-navarro', 'https://www.linkedin.com/in/neha-agrawal-b49b23230?trk=article-ssr-frontend-x-article', 'https://www.linkedin.com/in/christina-paz-arguello-87421727b', 'https://www.linkedin.com/in/kaiana-kotero', 'https://mx.linkedin.com/in/sofia-greenwald', 'https://www.linkedin.com/in/cassandra-castellanos', 'https://www.linkedin.com/in/samornselim', 'https://www.linkedin.com/in/mirenda-gwin-1391b0a3', 'https://www.google.com/search?q=site:linkedin.com/in/+Education+is+UC+Berkeley+graduated+works+in+legal+consulting', 'https://www.google.com/search?q=site:linkedin.com/in/+Education+is+UC+Berkeley+graduated+works+in+legal+consulting&start=10', 'https://www.linkedin.com/in/samornselim', 'https://www.linkedin.com/in/christopher-schad-0a2a8333', 'https://www.linkedin.com/in/tatiananikolaeva5', 'https://www.linkedin.com/in/olgamack', 'https://www.linkedin.com/in/lizziegranlund', 'https://www.linkedin.com/in/kristin-theis-alvarez-16707545', 'https://www.linkedin.com/in/lyavendano', 'https://www.linkedin.com/in/brianna-vasquez-3a011b27b', 'https://www.linkedin.com/in/trish-keady-56b90911', 'https://www.linkedin.com/in/david-mantell-a37a6139', 'https://www.google.com/search?q=site:linkedin.com/in/+Education+is+UC+Berkeley+graduated+works+in+legal+consulting&start=10', 'https://www.google.com/search?q=site:linkedin.com/in/+Education+is+UC+Berkeley+graduated+works+in+legal+consulting&start=20', 'https://www.linkedin.com/in/lizziegranlund', 'https://www.linkedin.com/in/shieldsrenee', 'https://www.linkedin.com/in/andrew-albright-3554bb58', 'https://www.linkedin.com/in/rachel-zuraw-6a63b717', 'https://www.linkedin.com/in/jimgilbert1', 'https://www.linkedin.com/in/kevin-frazier-51811737', 'https://www.linkedin.com/in/aishwarya-todalbagi', 'https://www.linkedin.com/in/isabel-c-cooper-b25673332', 'https://www.linkedin.com/in/ericjstern', 'https://www.linkedin.com/in/chaka-tellem', 'https://www.google.com/search?q=site:linkedin.com/in/+Education+is+UC+Berkeley+graduated+works+in+legal+consulting&start=20', 'https://www.google.com/search?q=site:linkedin.com/in/+Education+is+UC+Berkeley+graduated+works+in+legal+consulting&start=30', 'https://www.linkedin.com/in/chaka-tellem', 'https://www.linkedin.com/in/lyavendano', 'https://www.linkedin.com/in/carrie-walker-7748111aa', 'https://www.linkedin.com/in/hugo-chavez-88a45128a', 'https://www.linkedin.com/in/evelynrangelmedina', 'https://www.linkedin.com/in/geneva-lee-3b3a85156', 'https://www.linkedin.com/in/emma-martinez-749528225', 'https://www.linkedin.com/in/elizabethcyang', 'https://www.linkedin.com/in/haneul-lily-oh', 'https://www.linkedin.com/in/bob-song-24a82b344', 'https://www.google.com/search?q=site:linkedin.com/in/+Education+is+UC+Berkeley+graduated+works+in+legal+consulting&start=30', 'https://www.google.com/search?q=site:linkedin.com/in/+Education+is+UC+Berkeley+graduated+works+in+legal+consulting&start=40', 'https://www.linkedin.com/in/heather-logie-29b87b274', 'https://www.linkedin.com/in/katie-weber-6681b6217', 'https://www.linkedin.com/in/anya-grossmann-14b5764b', 'https://www.linkedin.com/in/gerald-bradshaw', 'https://www.linkedin.com/in/helenjennings1', 'https://www.linkedin.com/in/charlan-jeanne-nemeth-5b4a3410', 'https://www.linkedin.com/in/cassidychang', 'https://www.linkedin.com/in/chris-yj-lee', 'https://www.linkedin.com/in/haleywillis', 'https://www.linkedin.com/in/isaiah-paik-5674b01b5', 'https://www.google.com/search?q=site:linkedin.com/in/+Education+is+UC+Berkeley+graduated+works+in+legal+consulting&start=40', 'https://www.google.com/search?q=site:linkedin.com/in/+Education+is+UC+Berkeley+graduated+works+in+legal+consulting&start=50', 'https://www.linkedin.com/in/haleywillis', 'https://www.linkedin.com/in/isaiah-paik-5674b01b5', 'https://www.linkedin.com/in/kennedy-edwards-7903a61b1', 'https://www.linkedin.com/in/cristina-pi%C3%B1a-5b3abb18b', 'https://www.linkedin.com/in/parthhbhatt', 'https://www.linkedin.com/in/johnsenia-brooks', 'https://www.linkedin.com/in/sanng', 'https://www.linkedin.com/in/yahaira-balderas', 'https://www.linkedin.com/in/ignacio-hernandez-valverde-705762150', 'https://www.linkedin.com/in/julia-peck-70615459', 'https://www.google.com/search?q=site:linkedin.com/in/+Education+is+UC+Berkeley+graduated+works+in+legal+consulting&start=50', 'https://www.google.com/search?q=site:linkedin.com/in/+Education+is+UC+Berkeley+graduated+works+in+legal+consulting&start=60', 'https://www.linkedin.com/in/ignacio-hernandez-valverde-705762150', 'https://www.linkedin.com/in/julia-peck-70615459', 'https://www.linkedin.com/in/michael-trevino-j-d-2264b18', 'https://www.linkedin.com/in/nancy-lemon-55381150', 'https://www.linkedin.com/in/nan-waldman-77ab244', 'https://www.linkedin.com/in/gabriellahenry', 'https://www.linkedin.com/in/alanna-labine-a881633a', 'https://www.linkedin.com/in/fuyi-kuang-3a3a24254', 'https://www.linkedin.com/in/adena-ishii', 'https://www.linkedin.com/in/ykgabe', 'https://www.google.com/search?q=site:linkedin.com/in/+Education+is+UC+Berkeley+graduated+works+in+legal+consulting&start=60', 'https://www.google.com/search?q=site:linkedin.com/in/+Education+is+UC+Berkeley+graduated+works+in+legal+consulting&start=70', 'https://www.linkedin.com/in/julian-morimoto-203363a9', 'https://www.linkedin.com/in/kimberlyrubens', 'https://www.linkedin.com/in/christopher-schad-0a2a8333', 'https://www.linkedin.com/in/coleman-salton', 'https://www.linkedin.com/in/lauren-ashley-week-33896a40', 'https://www.linkedin.com/in/alexander-ball-pitt', 'https://www.linkedin.com/in/tgalligan', 'https://www.linkedin.com/in/jarrett-green-esq-m-a-psychology-93b72a33', 'https://www.linkedin.com/in/leslie-oster', 'https://www.linkedin.com/in/hannah-barahona', 'https://www.google.com/search?q=site:linkedin.com/in/+Education+is+UC+Berkeley+graduated+works+in+legal+consulting&start=70', 'https://www.google.com/search?q=site:linkedin.com/in/+Education+is+UC+Berkeley+graduated+works+in+legal+consulting&start=80', 'https://www.linkedin.com/in/hannah-barahona', 'https://www.linkedin.com/in/grace-sun-berkeley2028', 'https://www.linkedin.com/in/maddison-konway', 'https://www.linkedin.com/in/jonathan-peterson-16aaa86', 'https://www.linkedin.com/in/elsa-whyte', 'https://www.linkedin.com/in/justin-dunbar', 'https://www.linkedin.com/in/zaidumar', 'https://www.linkedin.com/in/anthony-magdaleno-', 'https://www.linkedin.com/in/lillian-jimenez-42150b59', 'https://www.linkedin.com/in/gabriellegoodwin', 'https://www.google.com/search?q=site:linkedin.com/in/+Education+is+UC+Berkeley+graduated+works+in+legal+consulting&start=80', 'https://www.google.com/search?q=site:linkedin.com/in/+Education+is+UC+Berkeley+graduated+works+in+legal+consulting&start=90', 'https://www.linkedin.com/in/tommymayer', 'https://www.linkedin.com/in/julianna-bass-3867071b1', 'https://www.linkedin.com/in/rgwhite', 'https://www.linkedin.com/in/mahwish-moazzam-69578119', 'https://www.linkedin.com/in/amyye', 'https://www.linkedin.com/in/jacklynzhao', 'https://www.linkedin.com/in/tiffany-phu', 'https://www.linkedin.com/in/kelsey-edwards-48726517a', 'https://www.linkedin.com/in/luis-suarez1', 'https://www.linkedin.com/in/lizbeth-ortiz', 'https://www.google.com/search?q=site:linkedin.com/in/+Education+is+UC+Berkeley+graduated+works+in+legal+consulting&start=90', 'https://www.google.com/search?q=site:linkedin.com/in/+Education+is+UC+Berkeley+graduated+works+in+legal+consulting']\n"
     ]
    },
    {
     "data": {
      "text/plain": [
       "121"
      ]
     },
     "execution_count": 118,
     "metadata": {},
     "output_type": "execute_result"
    }
   ],
   "source": [
    "from pprint import pprint\n",
    "import requests\n",
    "payload = {\n",
    "    'source': 'google',\n",
    "    'url': 'https://www.google.com/search?q=site:linkedin.com/in/+Education+is+UC+Berkeley+graduated+works+in+legal+consulting',\n",
    "    'parse': True,\n",
    "    'start_page': 1,\n",
    "    'pages': 10,\n",
    "}\n",
    "\n",
    "response = requests.request(\n",
    "    'POST',\n",
    "    'https://realtime.oxylabs.io/v1/queries',\n",
    "    auth=('satwikapaul_oZIdD', 'Fttkhcvnfttkhcvn6_'),\n",
    "    json=payload\n",
    ")\n",
    "\n",
    "cons7data = response.json()\n",
    "cons7data_linkedin_urls = extract_linkedin_urls(\n",
    "    cons7data)\n",
    "print(cons7data_linkedin_urls)\n",
    "len(cons7data_linkedin_urls)\n"
   ]
  },
  {
   "cell_type": "code",
   "execution_count": 119,
   "id": "ecc844f9-0d80-4a83-a377-4231325f7083",
   "metadata": {},
   "outputs": [
    {
     "name": "stdout",
     "output_type": "stream",
     "text": [
      "['https://www.google.com/search?q=site:linkedin.com/in/+Education+is+UC+Berkeley+graduated+works+in+marketing+consulting', 'https://www.linkedin.com/in/jjjackie-brown', 'https://www.linkedin.com/in/nehajacob', 'https://www.linkedin.com/in/sukkriti-nath', 'https://www.linkedin.com/in/anjaleegonyea', 'https://www.linkedin.com/in/reeya-randhawa', 'https://www.linkedin.com/in/marketingprof', 'https://www.linkedin.com/in/rhea-mehta2', 'https://in.linkedin.com/in/vishal1mehra', 'https://www.linkedin.com/in/nessahsu', 'https://www.linkedin.com/in/rithvikagastya', 'https://www.google.com/search?q=site:linkedin.com/in/+Education+is+UC+Berkeley+graduated+works+in+marketing+consulting', 'https://www.google.com/search?q=site:linkedin.com/in/+Education+is+UC+Berkeley+graduated+works+in+marketing+consulting&start=10', 'https://www.linkedin.com/in/cody-reilly', 'https://www.linkedin.com/in/marina-h-rodrigues', 'https://www.linkedin.com/in/luvictoria25', 'https://www.linkedin.com/in/sophia-dumesny', 'https://www.linkedin.com/in/liliana-martinez-102b87325', 'https://www.linkedin.com/in/emma-martinez-749528225', 'https://www.linkedin.com/in/marketingprof', 'https://www.linkedin.com/in/rithvikagastya', 'https://es.linkedin.com/in/michael-mascarenhas19', 'https://es.linkedin.com/in/lluisserraveciana/en', 'https://www.google.com/search?q=site:linkedin.com/in/+Education+is+UC+Berkeley+graduated+works+in+marketing+consulting&start=10', 'https://www.google.com/search?q=site:linkedin.com/in/+Education+is+UC+Berkeley+graduated+works+in+marketing+consulting&start=20', 'https://www.linkedin.com/in/ashwathvimal', 'https://www.linkedin.com/in/anshulsingh17', 'https://www.linkedin.com/in/megha-joshi-741b28202', 'https://www.linkedin.com/in/jennifershaw02', 'https://www.linkedin.com/in/suzanneveronicapowers', 'https://www.linkedin.com/in/sophia-dumesny', 'https://www.linkedin.com/in/nathalie-medrano-658303277', 'https://es.linkedin.com/in/michael-mascarenhas19', 'https://www.linkedin.com/in/sharonlack', 'https://www.linkedin.com/in/anjali-naryananan', 'https://www.google.com/search?q=site:linkedin.com/in/+Education+is+UC+Berkeley+graduated+works+in+marketing+consulting&start=20', 'https://www.google.com/search?q=site:linkedin.com/in/+Education+is+UC+Berkeley+graduated+works+in+marketing+consulting&start=30', 'https://www.linkedin.com/in/maya-king-474728280', 'https://www.linkedin.com/in/cody-reilly', 'https://www.linkedin.com/in/edward-charles-91ab34233?trk=public_profile_browsemap', 'https://www.linkedin.com/in/brandonchuu', 'https://www.linkedin.com/in/sumukhsuresh', 'https://www.linkedin.com/in/karenchaehyun', 'https://www.linkedin.com/in/shreeya-julakanti17', 'https://www.linkedin.com/in/simone-sept', 'https://www.linkedin.com/in/yvonne8liu', 'https://www.linkedin.com/in/anand-c-71697625b', 'https://www.google.com/search?q=site:linkedin.com/in/+Education+is+UC+Berkeley+graduated+works+in+marketing+consulting&start=30', 'https://www.google.com/search?q=site:linkedin.com/in/+Education+is+UC+Berkeley+graduated+works+in+marketing+consulting&start=40', 'https://www.linkedin.com/in/nicoleyhong', 'https://www.linkedin.com/in/martinulloa', 'https://www.linkedin.com/in/celinexshen', 'https://www.linkedin.com/in/prabhavpagadala', 'https://www.linkedin.com/in/amandaleee', 'https://www.linkedin.com/in/handy-pranata', 'https://www.linkedin.com/in/terrellthompson19', 'https://www.linkedin.com/in/melanie-wu-5b6024252', 'https://www.linkedin.com/in/dara-mckenzie', 'https://www.linkedin.com/in/lauracounts', 'https://www.google.com/search?q=site:linkedin.com/in/+Education+is+UC+Berkeley+graduated+works+in+marketing+consulting&start=40', 'https://www.google.com/search?q=site:linkedin.com/in/+Education+is+UC+Berkeley+graduated+works+in+marketing+consulting&start=50', 'https://www.linkedin.com/in/ellentrader', 'https://www.linkedin.com/in/nicolasontiveros', 'https://www.linkedin.com/in/murtaza-shiyaji', 'https://www.linkedin.com/in/elliott-medrich-2537978', 'https://www.linkedin.com/in/jackiechen319', 'https://www.linkedin.com/in/sienalester415', 'https://www.linkedin.com/in/robertkohen', 'https://www.linkedin.com/in/genevieve-brooks-831066197', 'https://www.linkedin.com/in/peter-j-bittner', 'https://www.linkedin.com/in/nishthabahal', 'https://www.google.com/search?q=site:linkedin.com/in/+Education+is+UC+Berkeley+graduated+works+in+marketing+consulting&start=50', 'https://www.google.com/search?q=site:linkedin.com/in/+Education+is+UC+Berkeley+graduated+works+in+marketing+consulting&start=60', 'https://www.linkedin.com/in/eugenefram', 'https://www.linkedin.com/in/benchon', 'https://www.linkedin.com/in/justdoit', 'https://www.linkedin.com/in/lakshmi-gopinathan', 'https://www.linkedin.com/in/tiagocorreapereira', 'https://www.linkedin.com/in/noha-noweir', 'https://www.linkedin.com/in/arpitaapandey', 'https://www.linkedin.com/in/anaaya-dalal', 'https://in.linkedin.com/in/vedikaprakash', 'https://www.linkedin.com/in/abbymcscott', 'https://www.google.com/search?q=site:linkedin.com/in/+Education+is+UC+Berkeley+graduated+works+in+marketing+consulting&start=60', 'https://www.google.com/search?q=site:linkedin.com/in/+Education+is+UC+Berkeley+graduated+works+in+marketing+consulting&start=70', 'https://www.linkedin.com/in/jana-kawecki', 'https://www.linkedin.com/in/davidnihill', 'https://www.linkedin.com/in/blanche-powell', 'https://www.linkedin.com/in/rick-hariman', 'https://www.linkedin.com/in/serojaboyakhchian', 'https://www.linkedin.com/in/franceschangwei', 'https://www.linkedin.com/in/hannahmscott', 'https://www.linkedin.com/in/riaan-kumar', 'https://www.linkedin.com/in/heejae-lee-901340221', 'https://www.linkedin.com/in/michaelbriggin', 'https://www.google.com/search?q=site:linkedin.com/in/+Education+is+UC+Berkeley+graduated+works+in+marketing+consulting&start=70', 'https://www.google.com/search?q=site:linkedin.com/in/+Education+is+UC+Berkeley+graduated+works+in+marketing+consulting&start=80', 'https://www.linkedin.com/in/mark-r-r-2b704812', 'https://in.linkedin.com/in/sharanhegde95', 'https://www.linkedin.com/in/aditi-gh', 'https://www.linkedin.com/in/aaronfcarpenter', 'https://www.linkedin.com/in/george-marcou1', 'https://www.linkedin.com/in/katie-weber-6681b6217', 'https://www.linkedin.com/in/derek-day-42b557b', 'https://www.linkedin.com/in/rebeccakandersen', 'https://www.linkedin.com/in/youki-terada-97154910', 'https://www.linkedin.com/in/socialsandi', 'https://www.google.com/search?q=site:linkedin.com/in/+Education+is+UC+Berkeley+graduated+works+in+marketing+consulting&start=80', 'https://www.google.com/search?q=site:linkedin.com/in/+Education+is+UC+Berkeley+graduated+works+in+marketing+consulting&start=90', 'https://www.linkedin.com/in/katherinemelchiorray', 'https://www.linkedin.com/in/tiffany-phu', 'https://in.linkedin.com/in/yashkumar10', 'https://www.linkedin.com/in/robbiebach', 'https://www.linkedin.com/in/arya-goyal-241849214', 'https://www.linkedin.com/in/aryanspmishra', 'https://www.linkedin.com/in/chris-watson-829450229', 'https://www.linkedin.com/in/marcelladel', 'https://ca.linkedin.com/in/gauri-bhardwaj-5477761ab', 'https://www.linkedin.com/in/brookegreen', 'https://www.google.com/search?q=site:linkedin.com/in/+Education+is+UC+Berkeley+graduated+works+in+marketing+consulting&start=90', 'https://www.google.com/search?q=site:linkedin.com/in/+Education+is+UC+Berkeley+graduated+works+in+marketing+consulting']\n"
     ]
    },
    {
     "data": {
      "text/plain": [
       "121"
      ]
     },
     "execution_count": 119,
     "metadata": {},
     "output_type": "execute_result"
    }
   ],
   "source": [
    "from pprint import pprint\n",
    "import requests\n",
    "payload = {\n",
    "    'source': 'google',\n",
    "    'url': 'https://www.google.com/search?q=site:linkedin.com/in/+Education+is+UC+Berkeley+graduated+works+in+marketing+consulting',\n",
    "    'parse': True,\n",
    "    'start_page': 1,\n",
    "    'pages': 10,\n",
    "}\n",
    "\n",
    "response = requests.request(\n",
    "    'POST',\n",
    "    'https://realtime.oxylabs.io/v1/queries',\n",
    "    auth=('satwikapaul_oZIdD', 'Fttkhcvnfttkhcvn6_'),\n",
    "    json=payload\n",
    ")\n",
    "\n",
    "cons8data = response.json()\n",
    "cons8data_linkedin_urls = extract_linkedin_urls(\n",
    "    cons8data)\n",
    "print(cons8data_linkedin_urls)\n",
    "len(cons8data_linkedin_urls)\n"
   ]
  },
  {
   "cell_type": "code",
   "execution_count": 120,
   "id": "4207e246-0ab4-49a9-b669-63976583aacb",
   "metadata": {},
   "outputs": [
    {
     "name": "stdout",
     "output_type": "stream",
     "text": [
      "['https://www.google.com/search?q=site:linkedin.com/in/+Education+is+UC+Berkeley+graduated+works+in+sales+consulting', 'https://www.linkedin.com/in/tiagocorreapereira', 'https://www.linkedin.com/in/reeya-randhawa', 'https://www.linkedin.com/in/alfredoccamposiii', 'https://www.linkedin.com/in/catherineleepdx', 'https://www.linkedin.com/in/elanaleoni', 'https://www.linkedin.com/in/lindseymlchun', 'https://www.linkedin.com/in/shrobanasengupta', 'https://www.linkedin.com/in/emma-martinez-749528225', 'https://www.linkedin.com/in/rithvikagastya', 'https://es.linkedin.com/in/michael-mascarenhas19', 'https://www.google.com/search?q=site:linkedin.com/in/+Education+is+UC+Berkeley+graduated+works+in+sales+consulting', 'https://www.google.com/search?q=site:linkedin.com/in/+Education+is+UC+Berkeley+graduated+works+in+sales+consulting&start=10', 'https://www.linkedin.com/in/cody-reilly', 'https://www.linkedin.com/in/nathaniel-santoso-b10845218/', 'https://www.linkedin.com/in/rhea-mehta2', 'https://www.linkedin.com/in/laurenangelus', 'https://www.linkedin.com/in/natalieshin', 'https://www.linkedin.com/in/eric-wang-2000', 'https://www.linkedin.com/in/sophia-dumesny', 'https://www.linkedin.com/in/shivali-chikkaswamy', 'https://www.linkedin.com/in/alan-castro-4b82aa247', 'https://www.linkedin.com/in/anshulsingh17', 'https://www.google.com/search?q=site:linkedin.com/in/+Education+is+UC+Berkeley+graduated+works+in+sales+consulting&start=10', 'https://www.google.com/search?q=site:linkedin.com/in/+Education+is+UC+Berkeley+graduated+works+in+sales+consulting&start=20', 'https://br.linkedin.com/in/pedro-kc-santos', 'https://www.linkedin.com/in/anand-c-71697625b', 'https://www.linkedin.com/in/emmayuan19', 'https://www.linkedin.com/in/cassidychang', 'https://www.linkedin.com/in/sukkriti-nath', 'https://www.linkedin.com/in/lilian-xu', 'https://www.linkedin.com/in/anizhang', 'https://www.linkedin.com/in/julia-s-dawson25', 'https://www.linkedin.com/in/jocelyngao', 'https://www.linkedin.com/in/flavio-feferman-55827a5', 'https://www.google.com/search?q=site:linkedin.com/in/+Education+is+UC+Berkeley+graduated+works+in+sales+consulting&start=20', 'https://www.google.com/search?q=site:linkedin.com/in/+Education+is+UC+Berkeley+graduated+works+in+sales+consulting&start=30', 'https://www.linkedin.com/in/rrachelchenn', 'https://www.linkedin.com/in/carolynklin/', 'https://www.linkedin.com/in/frances-bellows-2a563076', 'https://www.linkedin.com/in/terrellthompson19', 'https://www.linkedin.com/in/tilda-gross', 'https://www.linkedin.com/in/ralph-ruan/en', 'https://www.linkedin.com/in/ilramirez15', 'https://www.linkedin.com/in/amy-sanchez-6a142b1b6', 'https://www.linkedin.com/in/ellajacobs', 'https://www.linkedin.com/in/-michellechen', 'https://www.google.com/search?q=site:linkedin.com/in/+Education+is+UC+Berkeley+graduated+works+in+sales+consulting&start=30', 'https://www.google.com/search?q=site:linkedin.com/in/+Education+is+UC+Berkeley+graduated+works+in+sales+consulting&start=40', 'https://www.linkedin.com/in/ivy-zhang-b070ba209', 'https://www.linkedin.com/in/brandonchuu', 'https://www.linkedin.com/in/karenruizroca', 'https://www.linkedin.com/in/kempton-mccarty', 'https://www.linkedin.com/in/rijul-gupta1', 'https://www.linkedin.com/in/camie-ding', 'https://www.linkedin.com/in/abbymcscott', 'https://br.linkedin.com/in/danilorodriguesbr/pt', 'https://www.linkedin.com/in/betsymassar', 'https://br.linkedin.com/in/fernandocbrandao', 'https://www.google.com/search?q=site:linkedin.com/in/+Education+is+UC+Berkeley+graduated+works+in+sales+consulting&start=40', 'https://www.google.com/search?q=site:linkedin.com/in/+Education+is+UC+Berkeley+graduated+works+in+sales+consulting&start=50', 'https://www.linkedin.com/in/benchon', 'https://www.linkedin.com/in/shreyapatel5', 'https://www.linkedin.com/in/jedin-truong', 'https://www.linkedin.com/in/arpitaapandey', 'https://www.linkedin.com/in/jimmydpham', 'https://www.linkedin.com/in/katherinegerhardt', 'https://www.linkedin.com/in/andreapatricia', 'https://www.linkedin.com/in/prasid', 'https://ve.linkedin.com/in/kieranhoward', 'https://www.linkedin.com/in/sydneyrosefessenden', 'https://www.google.com/search?q=site:linkedin.com/in/+Education+is+UC+Berkeley+graduated+works+in+sales+consulting&start=50', 'https://www.google.com/search?q=site:linkedin.com/in/+Education+is+UC+Berkeley+graduated+works+in+sales+consulting&start=60', 'https://www.linkedin.com/in/davidnihill', 'https://www.linkedin.com/in/blanche-powell', 'https://www.linkedin.com/in/yvonne8liu', 'https://www.linkedin.com/in/noha-noweir', 'https://www.linkedin.com/in/harel-benzion', 'https://www.linkedin.com/in/stella-paz', 'https://www.linkedin.com/in/inbargavra', 'https://www.linkedin.com/in/suzanneveronicapowers', 'https://www.linkedin.com/in/derekzhang7', 'https://www.linkedin.com/in/marshal-caro', 'https://www.google.com/search?q=site:linkedin.com/in/+Education+is+UC+Berkeley+graduated+works+in+sales+consulting&start=60', 'https://www.google.com/search?q=site:linkedin.com/in/+Education+is+UC+Berkeley+graduated+works+in+sales+consulting&start=70', 'https://www.linkedin.com/in/samar-saeed-5603b3190', 'https://www.linkedin.com/in/ginnyperkey', 'https://www.linkedin.com/in/keynesle/', 'https://www.linkedin.com/in/arturo-ayala-775493187', 'https://www.linkedin.com/in/strength', 'https://www.linkedin.com/in/james-murphy-9188b2111', 'https://www.linkedin.com/in/chriskinggavin', 'https://www.linkedin.com/in/sinead-toolis-ba19884b', 'https://www.linkedin.com/in/justdoit', 'https://www.linkedin.com/in/breona-jenkins-2593a02b', 'https://www.google.com/search?q=site:linkedin.com/in/+Education+is+UC+Berkeley+graduated+works+in+sales+consulting&start=70', 'https://www.google.com/search?q=site:linkedin.com/in/+Education+is+UC+Berkeley+graduated+works+in+sales+consulting&start=80', 'https://www.linkedin.com/in/eric-manzo', 'https://www.linkedin.com/in/katie-weber-6681b6217', 'https://www.linkedin.com/in/alba-joy', 'https://www.linkedin.com/in/ellentrader', 'https://www.linkedin.com/in/aryanspmishra', 'https://www.linkedin.com/in/jonescollegecounseling', 'https://www.linkedin.com/in/angelique-zoile', 'https://www.linkedin.com/in/haneul-lily-oh', 'https://www.linkedin.com/in/khanna-mahir', 'https://www.linkedin.com/in/levimontoya', 'https://www.google.com/search?q=site:linkedin.com/in/+Education+is+UC+Berkeley+graduated+works+in+sales+consulting&start=80', 'https://www.google.com/search?q=site:linkedin.com/in/+Education+is+UC+Berkeley+graduated+works+in+sales+consulting&start=90', 'https://www.linkedin.com/in/sukkriti-nath', 'https://www.linkedin.com/in/shrobanasengupta', 'https://www.linkedin.com/in/ilramirez15', 'https://www.linkedin.com/in/christine-hlee', 'https://www.linkedin.com/in/paige-trinity-martin', 'https://www.linkedin.com/in/mariah-mccoy', 'https://www.linkedin.com/in/maryam-serena-jalali', 'https://www.linkedin.com/in/nehajacob', 'https://www.linkedin.com/in/liliana-martinez-102b87325', 'https://www.linkedin.com/in/caitlinjoe', 'https://www.linkedin.com/in/emilyftang', 'https://www.linkedin.com/in/katrina-toups', 'https://www.google.com/search?q=site:linkedin.com/in/+Education+is+UC+Berkeley+graduated+works+in+sales+consulting&start=90', 'https://www.google.com/search?q=site:linkedin.com/in/+Education+is+UC+Berkeley+graduated+works+in+sales+consulting']\n"
     ]
    },
    {
     "data": {
      "text/plain": [
       "123"
      ]
     },
     "execution_count": 120,
     "metadata": {},
     "output_type": "execute_result"
    }
   ],
   "source": [
    "from pprint import pprint\n",
    "import requests\n",
    "payload = {\n",
    "    'source': 'google',\n",
    "    'url': 'https://www.google.com/search?q=site:linkedin.com/in/+Education+is+UC+Berkeley+graduated+works+in+sales+consulting',\n",
    "    'parse': True,\n",
    "    'start_page': 1,\n",
    "    'pages': 10,\n",
    "}\n",
    "\n",
    "response = requests.request(\n",
    "    'POST',\n",
    "    'https://realtime.oxylabs.io/v1/queries',\n",
    "    auth=('satwikapaul_oZIdD', 'Fttkhcvnfttkhcvn6_'),\n",
    "    json=payload\n",
    ")\n",
    "\n",
    "cons9data = response.json()\n",
    "cons9data_linkedin_urls = extract_linkedin_urls(\n",
    "    cons9data)\n",
    "print(cons9data_linkedin_urls)\n",
    "len(cons9data_linkedin_urls)\n"
   ]
  },
  {
   "cell_type": "code",
   "execution_count": 124,
   "id": "304e33b2-0937-4989-ac0d-f2d0abacb9e1",
   "metadata": {},
   "outputs": [
    {
     "name": "stdout",
     "output_type": "stream",
     "text": [
      "['https://www.google.com/search?q=site:linkedin.com/in/+Education+is+UC+Berkeley+graduated+works+in+blockchain+consulting', 'https://www.linkedin.com/in/akshat-sharma----', 'https://www.linkedin.com/in/crypto-consultant/es?trk=people-guest_people_search-card', 'https://sg.linkedin.com/in/bhargav-muthe', 'https://www.linkedin.com/in/adit-gupta-261816197', 'https://www.linkedin.com/in/rishithakar', 'https://www.linkedin.com/in/riddhi-patel-12606720a', 'https://www.linkedin.com/in/arshianarula05', 'https://www.linkedin.com/in/arushi-a', 'https://www.linkedin.com/in/richaray', 'https://www.linkedin.com/in/paul-bryzek', 'https://www.google.com/search?q=site:linkedin.com/in/+Education+is+UC+Berkeley+graduated+works+in+blockchain+consulting', 'https://www.google.com/search?q=site:linkedin.com/in/+Education+is+UC+Berkeley+graduated+works+in+blockchain+consulting&start=10', 'https://www.linkedin.com/in/kelly-zeng-b7ba44217', 'https://www.linkedin.com/in/shirishdhar', 'https://www.linkedin.com/in/leejeewoo', 'https://www.linkedin.com/in/arushi-a', 'https://www.linkedin.com/in/gvenugopalan', 'https://www.linkedin.com/in/sarahmou', 'https://www.linkedin.com/in/adityabhandari25', 'https://www.linkedin.com/in/sumukhsuresh', 'https://www.linkedin.com/in/brandon-pooner', 'https://www.linkedin.com/in/terrellthompson19', 'https://www.google.com/search?q=site:linkedin.com/in/+Education+is+UC+Berkeley+graduated+works+in+blockchain+consulting&start=10', 'https://www.google.com/search?q=site:linkedin.com/in/+Education+is+UC+Berkeley+graduated+works+in+blockchain+consulting&start=20', 'https://www.linkedin.com/in/terrellthompson19', 'https://pt.linkedin.com/in/joao-nuno-simoes', 'https://www.linkedin.com/in/bailey-cherry', 'https://www.linkedin.com/in/sumukhsuresh', 'https://www.linkedin.com/in/kentarov', 'https://www.linkedin.com/in/klukekim', 'https://www.linkedin.com/in/sarahmou', 'https://www.linkedin.com/in/brandon-pooner', 'https://br.linkedin.com/in/tomastormin/en', 'https://www.linkedin.com/in/alexandermkaplan', 'https://www.google.com/search?q=site:linkedin.com/in/+Education+is+UC+Berkeley+graduated+works+in+blockchain+consulting&start=20', 'https://www.google.com/search?q=site:linkedin.com/in/+Education+is+UC+Berkeley+graduated+works+in+blockchain+consulting&start=30', 'https://www.linkedin.com/in/laurenangelus', 'https://www.linkedin.com/in/jakeelzinga', 'https://www.linkedin.com/in/danielquigleyjr', 'https://www.linkedin.com/in/ericlu28', 'https://www.linkedin.com/in/varun-mittal-1001', 'https://ca.linkedin.com/in/kelley-l-993937222', 'https://www.linkedin.com/in/timoteayang', 'https://www.linkedin.com/in/alexandermkaplan', 'https://www.linkedin.com/in/tiffany-tong', 'https://www.linkedin.com/in/jessicahnewman', 'https://www.google.com/search?q=site:linkedin.com/in/+Education+is+UC+Berkeley+graduated+works+in+blockchain+consulting&start=30', 'https://www.google.com/search?q=site:linkedin.com/in/+Education+is+UC+Berkeley+graduated+works+in+blockchain+consulting&start=40', 'https://www.linkedin.com/in/jack-barnett-717335ab', 'https://www.linkedin.com/in/alexandermkaplan', 'https://www.linkedin.com/in/dianest', 'https://www.linkedin.com/in/timoteayang', 'https://www.linkedin.com/in/jasmine-bao', 'https://www.linkedin.com/in/ddgarcia', 'https://www.linkedin.com/in/thomas-bogenschild-2970973b', 'https://sg.linkedin.com/in/bhargav-muthe', 'https://www.linkedin.com/in/shirishdhar', 'https://www.linkedin.com/in/lisa-garcia-bedolla-28b0174', 'https://www.google.com/search?q=site:linkedin.com/in/+Education+is+UC+Berkeley+graduated+works+in+blockchain+consulting&start=40', 'https://www.google.com/search?q=site:linkedin.com/in/+Education+is+UC+Berkeley+graduated+works+in+blockchain+consulting&start=50', 'https://www.linkedin.com/in/arissazheng', 'https://www.linkedin.com/in/aaron-c2024', 'https://www.linkedin.com/in/whitneyhischier', 'https://www.linkedin.com/in/jaspersodha', 'https://www.linkedin.com/in/kevinsebastian1', 'https://www.linkedin.com/in/carinazhang001', 'https://id.linkedin.com/in/muhammad-siregar', 'https://www.linkedin.com/in/atefadamsaleh', 'https://www.linkedin.com/in/ignacio-perez-pozuelo', 'https://www.linkedin.com/in/esmaatasoy', 'https://www.google.com/search?q=site:linkedin.com/in/+Education+is+UC+Berkeley+graduated+works+in+blockchain+consulting&start=50', 'https://www.google.com/search?q=site:linkedin.com/in/+Education+is+UC+Berkeley+graduated+works+in+blockchain+consulting&start=60', 'https://www.linkedin.com/in/klukekim', 'https://www.linkedin.com/in/teresakfung', 'https://www.linkedin.com/in/minh-lam-975908b', 'https://www.linkedin.com/in/franktnguyen', 'https://www.linkedin.com/in/kevin-zirun-wu', 'https://www.linkedin.com/in/mengquwu', 'https://www.linkedin.com/in/soniya-agrawal-2a3001168', 'https://www.linkedin.com/in/ayush-mahale-1826b5238', 'https://www.linkedin.com/in/xavier-marcedo', 'https://www.linkedin.com/in/meghanhauser', 'https://www.google.com/search?q=site:linkedin.com/in/+Education+is+UC+Berkeley+graduated+works+in+blockchain+consulting&start=60', 'https://www.google.com/search?q=site:linkedin.com/in/+Education+is+UC+Berkeley+graduated+works+in+blockchain+consulting&start=70', 'https://www.linkedin.com/in/jessicahnewman', 'https://www.linkedin.com/in/marcelo-lisboa-de-castro-reis/', 'https://uk.linkedin.com/in/veronikanuretdinova', 'https://www.linkedin.com/in/yixin-hong-372099129', 'https://www.linkedin.com/in/sudarshan-gopalakrishnan', 'https://www.linkedin.com/in/subham--mitra', 'https://www.linkedin.com/in/adityakwatra', 'https://hk.linkedin.com/in/jen-chang', 'https://www.linkedin.com/in/kurtsonccosinchi', 'https://www.linkedin.com/in/alexanderbelkin1', 'https://www.google.com/search?q=site:linkedin.com/in/+Education+is+UC+Berkeley+graduated+works+in+blockchain+consulting&start=70', 'https://www.google.com/search?q=site:linkedin.com/in/+Education+is+UC+Berkeley+graduated+works+in+blockchain+consulting&start=80', 'https://www.linkedin.com/in/maitreyi-sistla', 'https://www.linkedin.com/in/nan-waldman-77ab244', 'https://www.linkedin.com/in/yujun-ran-6612b967', 'https://www.linkedin.com/in/austin-yun', 'https://www.linkedin.com/in/antoine-f-71802b1a3/en', 'https://www.linkedin.com/in/adele-bloch-406786100', 'https://www.linkedin.com/in/taikimaeda', 'https://www.linkedin.com/in/vivian-cai-a094a7298', 'https://www.linkedin.com/in/archie-jackson', 'https://www.linkedin.com/in/ahmedbanafa', 'https://www.google.com/search?q=site:linkedin.com/in/+Education+is+UC+Berkeley+graduated+works+in+blockchain+consulting&start=80', 'https://www.google.com/search?q=site:linkedin.com/in/+Education+is+UC+Berkeley+graduated+works+in+blockchain+consulting&start=90', 'https://www.linkedin.com/in/tongdan-li-1240a6168', 'https://www.linkedin.com/in/genzhang', 'https://www.linkedin.com/in/cissyletter', 'https://www.linkedin.com/in/enzechen', 'https://www.linkedin.com/in/karenyhim', 'https://www.linkedin.com/in/samrogers5', 'https://www.linkedin.com/in/johnny-j-bashawaty-jr', 'https://www.linkedin.com/in/ruionli', 'https://www.linkedin.com/in/zewdi-herring', 'https://www.linkedin.com/in/sukritisharma16', 'https://www.google.com/search?q=site:linkedin.com/in/+Education+is+UC+Berkeley+graduated+works+in+blockchain+consulting&start=90', 'https://www.google.com/search?q=site:linkedin.com/in/+Education+is+UC+Berkeley+graduated+works+in+blockchain+consulting']\n"
     ]
    },
    {
     "data": {
      "text/plain": [
       "121"
      ]
     },
     "execution_count": 124,
     "metadata": {},
     "output_type": "execute_result"
    }
   ],
   "source": [
    "from pprint import pprint\n",
    "import requests\n",
    "payload = {\n",
    "    'source': 'google',\n",
    "    'url': 'https://www.google.com/search?q=site:linkedin.com/in/+Education+is+UC+Berkeley+graduated+works+in+blockchain+consulting',\n",
    "    'parse': True,\n",
    "    'start_page': 1,\n",
    "    'pages': 10,\n",
    "}\n",
    "\n",
    "response = requests.request(\n",
    "    'POST',\n",
    "    'https://realtime.oxylabs.io/v1/queries',\n",
    "    auth=('satwikapaul_oZIdD', 'Fttkhcvnfttkhcvn6_'),\n",
    "    json=payload\n",
    ")\n",
    "\n",
    "cons10data = response.json()\n",
    "cons10data_linkedin_urls = extract_linkedin_urls(\n",
    "    cons10data)\n",
    "print(cons10data_linkedin_urls)\n",
    "len(cons10data_linkedin_urls)\n"
   ]
  },
  {
   "cell_type": "code",
   "execution_count": 122,
   "id": "a56eb8c0-9435-42f2-b292-f436d7f18b16",
   "metadata": {},
   "outputs": [
    {
     "name": "stdout",
     "output_type": "stream",
     "text": [
      "['https://www.google.com/search?q=site:linkedin.com/in/+Education+is+UC+Berkeley+graduated+works+in+IT+consulting', 'https://www.linkedin.com/in/tommymayer', 'https://www.linkedin.com/in/terrellthompson19', 'https://www.linkedin.com/in/wesley-l-0a614b186', 'https://www.linkedin.com/in/kaveergera', 'https://www.linkedin.com/in/ginnyperkey', 'https://www.linkedin.com/in/emilyyu-', 'https://www.linkedin.com/in/rhea-mehta2', 'https://www.linkedin.com/in/emma-martinez-749528225', 'https://www.linkedin.com/in/alfredoccamposiii', 'https://www.linkedin.com/in/jesse-park-a55541291', 'https://www.google.com/search?q=site:linkedin.com/in/+Education+is+UC+Berkeley+graduated+works+in+IT+consulting', 'https://www.google.com/search?q=site:linkedin.com/in/+Education+is+UC+Berkeley+graduated+works+in+IT+consulting&start=10', 'https://www.linkedin.com/in/alfredoccamposiii', 'https://www.linkedin.com/in/natalieshin', 'https://www.linkedin.com/in/genevieve-brooks-831066197', 'https://www.linkedin.com/in/ryan-chang1', 'https://www.linkedin.com/in/shrobanasengupta', 'https://www.linkedin.com/in/rithvikagastya', 'https://www.linkedin.com/in/jocelyngao', 'https://www.linkedin.com/in/benjamin-graham-649b069b', 'https://www.linkedin.com/in/john-cosner-27b8296', 'https://www.linkedin.com/in/amypalmoc', 'https://www.google.com/search?q=site:linkedin.com/in/+Education+is+UC+Berkeley+graduated+works+in+IT+consulting&start=10', 'https://www.google.com/search?q=site:linkedin.com/in/+Education+is+UC+Berkeley+graduated+works+in+IT+consulting&start=20', 'https://www.linkedin.com/in/laurenangelus', 'https://www.linkedin.com/in/meghan-hale', 'https://www.linkedin.com/in/tara-mason2018', 'https://www.linkedin.com/in/pjhallam', 'https://www.linkedin.com/in/eshakarlekar', 'https://www.linkedin.com/in/tilda-gross', 'https://www.linkedin.com/in/heather-holly-freitag-16b723284', 'https://www.linkedin.com/in/jeff-miles-8b947912', 'https://www.linkedin.com/in/christopher-schad-0a2a8333', 'https://www.linkedin.com/in/bob-song-24a82b344', 'https://www.google.com/search?q=site:linkedin.com/in/+Education+is+UC+Berkeley+graduated+works+in+IT+consulting&start=20', 'https://www.google.com/search?q=site:linkedin.com/in/+Education+is+UC+Berkeley+graduated+works+in+IT+consulting&start=30', 'https://www.linkedin.com/in/glicata', 'https://www.linkedin.com/in/leoyguo', 'https://www.linkedin.com/in/elizabeth-wilcox-10654394', 'https://www.linkedin.com/in/grace-sun-berkeley2028', 'https://www.linkedin.com/in/evelyn-chan-473387171', 'https://www.linkedin.com/in/leah-johnson-13941929', 'https://www.linkedin.com/in/betsy-christ-a6363299', 'https://www.linkedin.com/in/sophia-dumesny', 'https://www.linkedin.com/in/katie-weber-6681b6217', 'https://www.linkedin.com/in/jenniferkatelynliu', 'https://www.google.com/search?q=site:linkedin.com/in/+Education+is+UC+Berkeley+graduated+works+in+IT+consulting&start=30', 'https://www.google.com/search?q=site:linkedin.com/in/+Education+is+UC+Berkeley+graduated+works+in+IT+consulting&start=40', 'https://www.linkedin.com/in/moeturner', 'https://www.linkedin.com/in/ned-resnikoff-7054837', 'https://www.linkedin.com/in/elanaleoni', 'https://www.linkedin.com/in/justdoit', 'https://www.linkedin.com/in/catherineleepdx', 'https://www.linkedin.com/in/amandazhang916', 'https://www.linkedin.com/in/elliott-medrich-2537978', 'https://www.linkedin.com/in/na-mi-615aa024', 'https://www.linkedin.com/in/danielspitzberg', 'https://www.linkedin.com/in/jannik-noah-baier', 'https://www.google.com/search?q=site:linkedin.com/in/+Education+is+UC+Berkeley+graduated+works+in+IT+consulting&start=40', 'https://www.google.com/search?q=site:linkedin.com/in/+Education+is+UC+Berkeley+graduated+works+in+IT+consulting&start=50', 'https://www.linkedin.com/in/lanaduong1', 'https://www.linkedin.com/in/julia-s-dawson25', 'https://www.linkedin.com/in/jean-ye', 'https://www.linkedin.com/in/anmolbal', 'https://www.linkedin.com/in/cassyhuang', 'https://www.linkedin.com/in/lea-baechler-brabo', 'https://www.linkedin.com/in/ashleymadera', 'https://www.linkedin.com/in/ishani-gupta07', 'https://www.linkedin.com/in/iris-chao', 'https://www.linkedin.com/in/cristina-pi%C3%B1a-5b3abb18b', 'https://www.google.com/search?q=site:linkedin.com/in/+Education+is+UC+Berkeley+graduated+works+in+IT+consulting&start=50', 'https://www.google.com/search?q=site:linkedin.com/in/+Education+is+UC+Berkeley+graduated+works+in+IT+consulting&start=60', 'https://www.linkedin.com/in/cassius-mcneill-896b56327', 'https://www.linkedin.com/in/yuning-han-89b0a1228', 'https://www.linkedin.com/in/marcbacani', 'https://www.linkedin.com/in/eric-wang-2000', 'https://www.linkedin.com/in/akilah-favors-a81035241', 'https://www.linkedin.com/in/emilyyang0312', 'https://www.linkedin.com/in/indie-lippiatt-394540195', 'https://www.linkedin.com/in/shivali-chikkaswamy', 'https://www.linkedin.com/in/emmahayesdaftary', 'https://www.linkedin.com/in/megha-joshi-741b28202', 'https://www.google.com/search?q=site:linkedin.com/in/+Education+is+UC+Berkeley+graduated+works+in+IT+consulting&start=60', 'https://www.google.com/search?q=site:linkedin.com/in/+Education+is+UC+Berkeley+graduated+works+in+IT+consulting&start=70', 'https://www.linkedin.com/in/megha-joshi-741b28202', 'https://www.linkedin.com/in/ethan-soe', 'https://www.linkedin.com/in/caitlinjoe', 'https://www.linkedin.com/in/myvillagetribe', 'https://www.linkedin.com/in/jane-wei-skillern-16911918', 'https://www.linkedin.com/in/dino-ambrosi-aaa28b192', 'https://www.linkedin.com/in/sarah-wheelerphd', 'https://www.linkedin.com/in/ashwathvimal', 'https://www.linkedin.com/in/samuel-ortega', 'https://www.linkedin.com/in/cody-reilly', 'https://www.google.com/search?q=site:linkedin.com/in/+Education+is+UC+Berkeley+graduated+works+in+IT+consulting&start=70', 'https://www.google.com/search?q=site:linkedin.com/in/+Education+is+UC+Berkeley+graduated+works+in+IT+consulting&start=80', 'https://www.linkedin.com/in/emilyftang', 'https://www.linkedin.com/in/trentchu', 'https://www.linkedin.com/in/rohan-tawade', 'https://www.linkedin.com/in/luca-haynes-880067317', 'https://www.linkedin.com/in/tommymayer', 'https://www.linkedin.com/in/angelique-zoile', 'https://www.linkedin.com/in/mehekmehta524', 'https://www.linkedin.com/in/jack-besnoy-2633291bb', 'https://www.linkedin.com/in/emilyynhi', 'https://www.linkedin.com/in/kathyucberkeley', 'https://www.google.com/search?q=site:linkedin.com/in/+Education+is+UC+Berkeley+graduated+works+in+IT+consulting&start=80', 'https://www.google.com/search?q=site:linkedin.com/in/+Education+is+UC+Berkeley+graduated+works+in+IT+consulting&start=90', 'https://www.linkedin.com/in/kathyucberkeley', 'https://www.linkedin.com/in/kempton-mccarty', 'https://www.linkedin.com/in/arundixit05', 'https://www.linkedin.com/in/anna-schnieders', 'https://www.linkedin.com/in/handy-pranata', 'https://www.linkedin.com/in/janet-lopez-03', 'https://www.linkedin.com/in/feiyang-liu', 'https://www.linkedin.com/in/bradley-brothers-3b1457220', 'https://www.linkedin.com/in/cgreened', 'https://www.linkedin.com/in/chosungha/en', 'https://www.google.com/search?q=site:linkedin.com/in/+Education+is+UC+Berkeley+graduated+works+in+IT+consulting&start=90', 'https://www.google.com/search?q=site:linkedin.com/in/+Education+is+UC+Berkeley+graduated+works+in+IT+consulting']\n"
     ]
    },
    {
     "data": {
      "text/plain": [
       "121"
      ]
     },
     "execution_count": 122,
     "metadata": {},
     "output_type": "execute_result"
    }
   ],
   "source": [
    "from pprint import pprint\n",
    "import requests\n",
    "payload = {\n",
    "    'source': 'google',\n",
    "    'url': 'https://www.google.com/search?q=site:linkedin.com/in/+Education+is+UC+Berkeley+graduated+works+in+IT+consulting',\n",
    "    'parse': True,\n",
    "    'start_page': 1,\n",
    "    'pages': 10,\n",
    "}\n",
    "\n",
    "response = requests.request(\n",
    "    'POST',\n",
    "    'https://realtime.oxylabs.io/v1/queries',\n",
    "    auth=('satwikapaul_oZIdD', 'Fttkhcvnfttkhcvn6_'),\n",
    "    json=payload\n",
    ")\n",
    "\n",
    "cons11data = response.json()\n",
    "cons11data_linkedin_urls = extract_linkedin_urls(\n",
    "    cons11data)\n",
    "print(cons11data_linkedin_urls)\n",
    "len(cons11data_linkedin_urls)\n"
   ]
  },
  {
   "cell_type": "markdown",
   "id": "9ee2a7d3-182e-4554-981a-154d8d233eeb",
   "metadata": {
    "jp-MarkdownHeadingCollapsed": true,
    "tags": []
   },
   "source": [
    "# Data Science (DS, Data Engineering, Data Analytics, Etc) URLS #"
   ]
  },
  {
   "cell_type": "code",
   "execution_count": 125,
   "id": "bbb61a12-a6d0-4478-81e3-2caff47cd3b7",
   "metadata": {},
   "outputs": [
    {
     "name": "stdout",
     "output_type": "stream",
     "text": [
      "['https://www.google.com/search?q=site:linkedin.com/in/+Education+is+UC+Berkeley+graduated+works+in+data+science', 'https://www.linkedin.com/in/suparna-kompalli-79463b229', 'https://www.linkedin.com/in/nathan-pak-158353178', 'https://www.linkedin.com/in/napoleon-vuong', 'https://www.linkedin.com/in/luka-cheney', 'https://www.linkedin.com/in/joshua-m-parker', 'https://www.linkedin.com/in/hailey-tran', 'https://www.linkedin.com/in/ericvd', 'https://www.linkedin.com/in/andrewkerr82310', 'https://www.linkedin.com/in/shreyagupta268', 'https://www.linkedin.com/in/kaitlin-m-smith', 'https://www.google.com/search?q=site:linkedin.com/in/+Education+is+UC+Berkeley+graduated+works+in+data+science', 'https://www.google.com/search?q=site:linkedin.com/in/+Education+is+UC+Berkeley+graduated+works+in+data+science&start=10', 'https://www.linkedin.com/in/hector-juarez-mateo-a3a724180', 'https://www.linkedin.com/in/zewdi-herring', 'https://www.linkedin.com/in/benscalero', 'https://www.linkedin.com/in/scottfong', 'https://www.linkedin.com/in/nikita-kumar-82018219b', 'https://www.linkedin.com/in/jasonhjung', 'https://www.linkedin.com/in/antonio-ruizperez', 'https://www.linkedin.com/in/pedro-munoz-a413aa1ab', 'https://www.linkedin.com/in/ashley-quiterio', 'https://www.linkedin.com/in/li-zhang-bb40351ab', 'https://www.google.com/search?q=site:linkedin.com/in/+Education+is+UC+Berkeley+graduated+works+in+data+science&start=10', 'https://www.google.com/search?q=site:linkedin.com/in/+Education+is+UC+Berkeley+graduated+works+in+data+science&start=20', 'https://www.linkedin.com/in/andrewchen04', 'https://www.linkedin.com/in/calvinmcarter', 'https://www.linkedin.com/in/laila-walker', 'https://www.linkedin.com/in/sandyawijaya', 'https://www.linkedin.com/in/jay-kakkar-16a1b1133', 'https://www.linkedin.com/in/chrisgran2024', 'https://www.linkedin.com/in/colin-olairez-3857b8251', 'https://www.linkedin.com/in/jennifer-j-ortega', 'https://www.linkedin.com/in/rachel-mccarty22', 'https://www.linkedin.com/in/ann-nguyen-baa422325', 'https://www.google.com/search?q=site:linkedin.com/in/+Education+is+UC+Berkeley+graduated+works+in+data+science&start=20', 'https://www.google.com/search?q=site:linkedin.com/in/+Education+is+UC+Berkeley+graduated+works+in+data+science&start=30', 'https://www.linkedin.com/in/hannah-brown-188621224', 'https://www.linkedin.com/in/aileeenwu', 'https://www.linkedin.com/in/pamela-gleason-0969775', 'https://www.linkedin.com/in/oliviarmccauley', 'https://www.linkedin.com/in/vishnusuresh27', 'https://www.linkedin.com/in/annie-pang', 'https://www.linkedin.com/in/alexa-torres11', 'https://www.linkedin.com/in/chandramita-dutta', 'https://www.linkedin.com/in/asbah-wasim', 'https://www.linkedin.com/in/aadibshah', 'https://www.google.com/search?q=site:linkedin.com/in/+Education+is+UC+Berkeley+graduated+works+in+data+science&start=30', 'https://www.google.com/search?q=site:linkedin.com/in/+Education+is+UC+Berkeley+graduated+works+in+data+science&start=40', 'https://www.linkedin.com/in/gladys-valencia', 'https://www.linkedin.com/in/katie-gede?trk=people-guest_people_search-card', 'https://www.linkedin.com/in/anna-gueorguieva-a60183196', 'https://www.linkedin.com/in/julia-zhang-b4a707225', 'https://www.linkedin.com/in/brandon-marks-6265651ba', 'https://www.linkedin.com/in/zachary-galante', 'https://www.linkedin.com/in/daisykhamphakdy', 'https://www.linkedin.com/in/maria-jose-healey-5066ba264', 'https://www.linkedin.com/in/sarina-karki', 'https://www.linkedin.com/in/allan-miller', 'https://www.google.com/search?q=site:linkedin.com/in/+Education+is+UC+Berkeley+graduated+works+in+data+science&start=40', 'https://www.google.com/search?q=site:linkedin.com/in/+Education+is+UC+Berkeley+graduated+works+in+data+science&start=50', 'https://www.linkedin.com/in/sukritisharma16', 'https://www.linkedin.com/in/lillianyjiang', 'https://www.linkedin.com/in/linxin-liu', 'https://www.linkedin.com/in/bellaachang', 'https://www.linkedin.com/in/carinacsam', 'https://www.linkedin.com/in/prernapsingh', 'https://www.linkedin.com/in/dewisandra', 'https://www.linkedin.com/in/ollie-downs', 'https://www.linkedin.com/in/diego-gutierrez-luns', 'https://www.linkedin.com/in/sameer-karim', 'https://www.google.com/search?q=site:linkedin.com/in/+Education+is+UC+Berkeley+graduated+works+in+data+science&start=50', 'https://www.google.com/search?q=site:linkedin.com/in/+Education+is+UC+Berkeley+graduated+works+in+data+science&start=60', 'https://www.linkedin.com/in/ella-deguzman', 'https://www.linkedin.com/in/lbagheri', 'https://www.linkedin.com/in/andrea-padilla', 'https://www.linkedin.com/in/ishanibasak', 'https://www.linkedin.com/in/john-bragado', 'https://www.linkedin.com/in/jiangshirley', 'https://www.linkedin.com/in/aditya-shah-4a16b1a0', 'https://www.linkedin.com/in/jonathan-isaac-24618317a', 'https://www.linkedin.com/in/riya-berry', 'https://www.linkedin.com/in/ada-sun-berkeley', 'https://www.google.com/search?q=site:linkedin.com/in/+Education+is+UC+Berkeley+graduated+works+in+data+science&start=60', 'https://www.google.com/search?q=site:linkedin.com/in/+Education+is+UC+Berkeley+graduated+works+in+data+science&start=70', 'https://www.linkedin.com/in/-chelseajimenez', 'https://www.linkedin.com/in/garimaupadhyay35', 'https://www.linkedin.com/in/arnav-jain-3850321bb', 'https://www.linkedin.com/in/wolfeedward', 'https://www.linkedin.com/in/lothlauren-lee', 'https://www.linkedin.com/in/shivaramy', 'https://www.linkedin.com/in/bhaskar-mishra', 'https://www.linkedin.com/in/sherilyn-tamagawa-b957bb23b', 'https://www.linkedin.com/in/davidapiladojr', 'https://www.linkedin.com/in/sara-quigley-50411b8', 'https://www.google.com/search?q=site:linkedin.com/in/+Education+is+UC+Berkeley+graduated+works+in+data+science&start=70', 'https://www.google.com/search?q=site:linkedin.com/in/+Education+is+UC+Berkeley+graduated+works+in+data+science&start=80', 'https://www.linkedin.com/in/nmammadsoy', 'https://www.linkedin.com/in/mmontoyallamas', 'https://www.linkedin.com/in/evan-gao', 'https://www.linkedin.com/in/nerissa-liu-754007279', 'https://www.linkedin.com/in/louieortiz', 'https://www.linkedin.com/in/alice-drozd-38a258207', 'https://www.linkedin.com/in/anshul-zutshi123', 'https://www.linkedin.com/in/hemanirpatel', 'https://www.linkedin.com/in/bingbing-m-1794831b6', 'https://www.linkedin.com/in/brianfdo', 'https://www.google.com/search?q=site:linkedin.com/in/+Education+is+UC+Berkeley+graduated+works+in+data+science&start=80', 'https://www.google.com/search?q=site:linkedin.com/in/+Education+is+UC+Berkeley+graduated+works+in+data+science&start=90', 'https://www.linkedin.com/in/nikita-kumar-82018219b', 'https://www.linkedin.com/in/davidapiladojr', 'https://www.linkedin.com/in/zachary-galante', 'https://www.linkedin.com/in/napoleon-vuong', 'https://www.linkedin.com/in/benscalero', 'https://www.linkedin.com/in/andrewchen04', 'https://www.linkedin.com/in/luka-cheney', 'https://www.linkedin.com/in/andrea-padilla', 'https://www.linkedin.com/in/calvinmcarter', 'https://www.linkedin.com/in/james-jeong-640663139', 'https://www.linkedin.com/in/li-zhu-0a26b4215', 'https://www.linkedin.com/in/hana-kozuka', 'https://www.linkedin.com/in/imanfqureshi', 'https://www.linkedin.com/in/jimmy-wang14', 'https://www.linkedin.com/in/rohan-zeller-00708122b', 'https://www.linkedin.com/in/christianakang', 'https://www.linkedin.com/in/rashamunsar', 'https://www.linkedin.com/in/gamyaguas', 'https://www.google.com/search?q=site:linkedin.com/in/+Education+is+UC+Berkeley+graduated+works+in+data+science&start=90', 'https://www.google.com/search?q=site:linkedin.com/in/+Education+is+UC+Berkeley+graduated+works+in+data+science']\n"
     ]
    },
    {
     "data": {
      "text/plain": [
       "129"
      ]
     },
     "execution_count": 125,
     "metadata": {},
     "output_type": "execute_result"
    }
   ],
   "source": [
    "from pprint import pprint\n",
    "import requests\n",
    "payload = {\n",
    "    'source': 'google',\n",
    "    'url': 'https://www.google.com/search?q=site:linkedin.com/in/+Education+is+UC+Berkeley+graduated+works+in+data+science',\n",
    "    'parse': True,\n",
    "    'start_page': 1,\n",
    "    'pages': 10,\n",
    "}\n",
    "\n",
    "response = requests.request(\n",
    "    'POST',\n",
    "    'https://realtime.oxylabs.io/v1/queries',\n",
    "    auth=('satwikapaul_oZIdD', 'Fttkhcvnfttkhcvn6_'),\n",
    "    json=payload\n",
    ")\n",
    "\n",
    "ds1data = response.json()\n",
    "ds1data_linkedin_urls = extract_linkedin_urls(\n",
    "    ds1data)\n",
    "print(ds1data_linkedin_urls)\n",
    "len(ds1data_linkedin_urls)\n"
   ]
  },
  {
   "cell_type": "code",
   "execution_count": 126,
   "id": "90400fdb-3f3f-4575-9a4a-513c579375c9",
   "metadata": {},
   "outputs": [
    {
     "name": "stdout",
     "output_type": "stream",
     "text": [
      "['https://www.google.com/search?q=site:linkedin.com/in/+Education+is+UC+Berkeley+graduated+works+in+data+scientist', 'https://br.linkedin.com/in/eduardaespindola/en', 'https://www.linkedin.com/in/maria-jose-healey-5066ba264', 'https://www.linkedin.com/in/daisykhamphakdy', 'https://www.linkedin.com/in/scottfong', 'https://www.linkedin.com/in/napoleon-vuong', 'https://www.linkedin.com/in/hailey-tran', 'https://www.linkedin.com/in/mmontoyallamas', 'https://www.linkedin.com/in/luka-cheney', 'https://br.linkedin.com/in/eduardomatsuda/en', 'https://www.linkedin.com/in/jay-kakkar-16a1b1133', 'https://www.google.com/search?q=site:linkedin.com/in/+Education+is+UC+Berkeley+graduated+works+in+data+scientist', 'https://www.google.com/search?q=site:linkedin.com/in/+Education+is+UC+Berkeley+graduated+works+in+data+scientist&start=10', 'https://www.linkedin.com/in/isaac-vernon-81bb51135', 'https://www.linkedin.com/in/kaitlin-m-smith', 'https://www.linkedin.com/in/joshua-m-parker', 'https://www.linkedin.com/in/nathan-pak-158353178', 'https://www.linkedin.com/in/alice-drozd-38a258207', 'https://www.linkedin.com/in/pedro-munoz-a413aa1ab', 'https://www.linkedin.com/in/benscalero', 'https://www.linkedin.com/in/antonio-ruizperez', 'https://www.linkedin.com/in/asbah-wasim', 'https://www.linkedin.com/in/zachary-galante', 'https://www.google.com/search?q=site:linkedin.com/in/+Education+is+UC+Berkeley+graduated+works+in+data+scientist&start=10', 'https://www.google.com/search?q=site:linkedin.com/in/+Education+is+UC+Berkeley+graduated+works+in+data+scientist&start=20', 'https://www.linkedin.com/in/shreyagupta268', 'https://mx.linkedin.com/in/eduardo-badillo-alvarez', 'https://www.linkedin.com/in/chrisgran2024', 'https://www.linkedin.com/in/jasonhjung', 'https://www.linkedin.com/in/hector-juarez-mateo-a3a724180', 'https://www.linkedin.com/in/ericvd', 'https://www.linkedin.com/in/wesley-l-0a614b186', 'https://www.linkedin.com/in/calvinmcarter', 'https://www.linkedin.com/in/rachel-mccarty22', 'https://www.linkedin.com/in/shivaramy', 'https://www.google.com/search?q=site:linkedin.com/in/+Education+is+UC+Berkeley+graduated+works+in+data+scientist&start=20', 'https://www.google.com/search?q=site:linkedin.com/in/+Education+is+UC+Berkeley+graduated+works+in+data+scientist&start=30', 'https://www.linkedin.com/in/oliviarmccauley', 'https://www.linkedin.com/in/andrewkerr82310', 'https://www.linkedin.com/in/ada-sun-berkeley', 'https://www.linkedin.com/in/li-zhang-bb40351ab', 'https://www.linkedin.com/in/allan-miller', 'https://www.linkedin.com/in/simran-sachdev', 'https://www.linkedin.com/in/jack-stehn', 'https://www.linkedin.com/in/samantha-townsend-a95b841b2', 'https://www.linkedin.com/in/karora27', 'https://www.linkedin.com/in/ashley-quiterio', 'https://www.google.com/search?q=site:linkedin.com/in/+Education+is+UC+Berkeley+graduated+works+in+data+scientist&start=30', 'https://www.google.com/search?q=site:linkedin.com/in/+Education+is+UC+Berkeley+graduated+works+in+data+scientist&start=40', 'https://www.linkedin.com/in/stephen-sloan-8852361a0', 'https://www.linkedin.com/in/koby-tesfay', 'https://www.linkedin.com/in/annie-pang', 'https://www.linkedin.com/in/julia--moreno', 'https://www.linkedin.com/in/gladys-valencia', 'https://www.linkedin.com/in/alexa-torres11', 'https://www.linkedin.com/in/marlonfu', 'https://www.linkedin.com/in/alex-huang1', 'https://www.linkedin.com/in/bellaachang', 'https://www.linkedin.com/in/sherilyn-tamagawa-b957bb23b', 'https://www.google.com/search?q=site:linkedin.com/in/+Education+is+UC+Berkeley+graduated+works+in+data+scientist&start=40', 'https://www.google.com/search?q=site:linkedin.com/in/+Education+is+UC+Berkeley+graduated+works+in+data+scientist&start=50', 'https://www.linkedin.com/in/ann-nguyen-baa422325', 'https://www.linkedin.com/in/nikita-kumar-82018219b', 'https://www.linkedin.com/in/sandyawijaya', 'https://br.linkedin.com/in/erica-naka', 'https://www.linkedin.com/in/dewisandra', 'https://www.linkedin.com/in/sameer-karim', 'https://www.linkedin.com/in/suparna-kompalli-79463b229', 'https://www.linkedin.com/in/rinal-shastri-9b14a4265', 'https://www.linkedin.com/in/sarina-karki', 'https://www.linkedin.com/in/brandon-marks-6265651ba', 'https://www.google.com/search?q=site:linkedin.com/in/+Education+is+UC+Berkeley+graduated+works+in+data+scientist&start=50', 'https://www.google.com/search?q=site:linkedin.com/in/+Education+is+UC+Berkeley+graduated+works+in+data+scientist&start=60', 'https://www.linkedin.com/in/hannah-brown-188621224', 'https://www.linkedin.com/in/jiangshirley', 'https://www.linkedin.com/in/andrea-padilla', 'https://www.linkedin.com/in/andrewchen04', 'https://www.linkedin.com/in/lauren-beresford-ph-d-data', 'https://www.linkedin.com/in/prernapsingh', 'https://www.linkedin.com/in/chuckbolin', 'https://www.linkedin.com/in/kurt-eulau', 'https://www.linkedin.com/in/summermcgrogan', 'https://www.linkedin.com/in/jimmydpham', 'https://www.google.com/search?q=site:linkedin.com/in/+Education+is+UC+Berkeley+graduated+works+in+data+scientist&start=60', 'https://www.google.com/search?q=site:linkedin.com/in/+Education+is+UC+Berkeley+graduated+works+in+data+scientist&start=70', 'https://ca.linkedin.com/in/ericyueling', 'https://www.linkedin.com/in/allan-miller', 'https://mx.linkedin.com/in/eduardo-badillo-alvarez', 'https://www.linkedin.com/in/katie-gede?trk=people-guest_people_search-card', 'https://www.linkedin.com/in/lbagheri', 'https://www.linkedin.com/in/carinacsam', 'https://uk.linkedin.com/in/jenea-spinks-088107212', 'https://www.linkedin.com/in/hamsini-sankaran', 'https://www.linkedin.com/in/afajana', 'https://www.linkedin.com/in/fernando-reyes-jr', 'https://www.linkedin.com/in/steven-lin-101', 'https://www.linkedin.com/in/brennagiacchino', 'https://www.google.com/search?q=site:linkedin.com/in/+Education+is+UC+Berkeley+graduated+works+in+data+scientist&start=70', 'https://www.google.com/search?q=site:linkedin.com/in/+Education+is+UC+Berkeley+graduated+works+in+data+scientist&start=80', 'https://www.linkedin.com/in/arnav-jain-3850321bb', 'https://www.linkedin.com/in/jonathan-isaac-24618317a', 'https://www.linkedin.com/in/aditya-shah-4a16b1a0', 'https://www.linkedin.com/in/monica-mingsha-mo', 'https://www.linkedin.com/in/colin-olairez-3857b8251', 'https://www.linkedin.com/in/aadibshah', 'https://www.linkedin.com/in/wolfeedward', 'https://www.linkedin.com/in/ginnyperkey', 'https://www.linkedin.com/in/anjali-shrivastava99', 'https://www.linkedin.com/in/jonathanvitalephd', 'https://www.google.com/search?q=site:linkedin.com/in/+Education+is+UC+Berkeley+graduated+works+in+data+scientist&start=80', 'https://www.google.com/search?q=site:linkedin.com/in/+Education+is+UC+Berkeley+graduated+works+in+data+scientist&start=90', 'https://www.linkedin.com/in/margaretreed', 'https://www.linkedin.com/in/emilyuchin', 'https://www.linkedin.com/in/bellamza11/es', 'https://www.linkedin.com/in/lothlauren-lee', 'https://www.linkedin.com/in/sudiksha-sarvepalli', 'https://www.linkedin.com/in/zewdi-herring', 'https://www.linkedin.com/in/joshuamajano', 'https://www.linkedin.com/in/gia-nguyen7', 'https://www.linkedin.com/in/nmammadsoy', 'https://www.linkedin.com/in/-abunayeem', 'https://www.google.com/search?q=site:linkedin.com/in/+Education+is+UC+Berkeley+graduated+works+in+data+scientist&start=90', 'https://www.google.com/search?q=site:linkedin.com/in/+Education+is+UC+Berkeley+graduated+works+in+data+scientist']\n"
     ]
    },
    {
     "data": {
      "text/plain": [
       "123"
      ]
     },
     "execution_count": 126,
     "metadata": {},
     "output_type": "execute_result"
    }
   ],
   "source": [
    "from pprint import pprint\n",
    "import requests\n",
    "payload = {\n",
    "    'source': 'google',\n",
    "    'url': 'https://www.google.com/search?q=site:linkedin.com/in/+Education+is+UC+Berkeley+graduated+works+in+data+scientist',\n",
    "    'parse': True,\n",
    "    'start_page': 1,\n",
    "    'pages': 10,\n",
    "}\n",
    "\n",
    "response = requests.request(\n",
    "    'POST',\n",
    "    'https://realtime.oxylabs.io/v1/queries',\n",
    "    auth=('satwikapaul_oZIdD', 'Fttkhcvnfttkhcvn6_'),\n",
    "    json=payload\n",
    ")\n",
    "\n",
    "ds2data = response.json()\n",
    "ds2data_linkedin_urls = extract_linkedin_urls(\n",
    "    ds2data)\n",
    "print(ds2data_linkedin_urls)\n",
    "len(ds2data_linkedin_urls)\n"
   ]
  },
  {
   "cell_type": "code",
   "execution_count": 127,
   "id": "7c9ab9dd-60ef-4683-9399-f3aca44f9ac0",
   "metadata": {},
   "outputs": [
    {
     "name": "stdout",
     "output_type": "stream",
     "text": [
      "['https://www.google.com/search?q=site:linkedin.com/in/+Education+is+UC+Berkeley+graduated+works+in+data+engineer', 'https://www.linkedin.com/in/stephenjh', 'https://www.linkedin.com/in/arrianadaniels', 'https://www.linkedin.com/in/alamdeep-singh-sethi', 'https://www.linkedin.com/in/michael-damsky', 'https://www.linkedin.com/in/pavan-sabnis', 'https://www.linkedin.com/in/henry-apfel', 'https://br.linkedin.com/in/eduardaespindola/en', 'https://www.linkedin.com/in/benscalero', 'https://www.linkedin.com/in/sarah-chen-837825183', 'https://www.linkedin.com/in/maria-jose-healey-5066ba264', 'https://www.google.com/search?q=site:linkedin.com/in/+Education+is+UC+Berkeley+graduated+works+in+data+engineer', 'https://www.google.com/search?q=site:linkedin.com/in/+Education+is+UC+Berkeley+graduated+works+in+data+engineer&start=10', 'https://www.linkedin.com/in/luka-cheney', 'https://www.linkedin.com/in/arnav-jain-3850321bb', 'https://www.linkedin.com/in/kailun-li-berkeley-ieor24', 'https://www.linkedin.com/in/hailey-tran', 'https://www.linkedin.com/in/pedro-munoz-a413aa1ab', 'https://www.linkedin.com/in/karimmattar', 'https://www.linkedin.com/in/vaishnavi-vasudeva', 'https://www.linkedin.com/in/kevinysun', 'https://www.linkedin.com/in/lily-barbagelata-755b2b23a', 'https://www.linkedin.com/in/jasondai8', 'https://www.google.com/search?q=site:linkedin.com/in/+Education+is+UC+Berkeley+graduated+works+in+data+engineer&start=10', 'https://www.google.com/search?q=site:linkedin.com/in/+Education+is+UC+Berkeley+graduated+works+in+data+engineer&start=20', 'https://www.linkedin.com/in/cassie-calciano', 'https://www.linkedin.com/in/alexander-kasperovich-0949a18a', 'https://www.linkedin.com/in/richard-lee-309711195', 'https://www.linkedin.com/in/katiehuang0802', 'https://www.linkedin.com/in/jafsantos/', 'https://www.linkedin.com/in/napoleon-vuong', 'https://www.linkedin.com/in/sid-srivastava-4488721b2', 'https://www.linkedin.com/in/andrewkerr82310', 'https://www.linkedin.com/in/justinchan711', 'https://www.linkedin.com/in/evan-gao', 'https://www.google.com/search?q=site:linkedin.com/in/+Education+is+UC+Berkeley+graduated+works+in+data+engineer&start=20', 'https://www.google.com/search?q=site:linkedin.com/in/+Education+is+UC+Berkeley+graduated+works+in+data+engineer&start=30', 'https://www.linkedin.com/in/antonio-ruizperez', 'https://www.linkedin.com/in/scottfong', 'https://www.linkedin.com/in/ipkaur', 'https://www.linkedin.com/in/brendanfsinclair', 'https://www.linkedin.com/in/mariano-bueno-102b21239', 'https://www.linkedin.com/in/laurenhom2', 'https://www.linkedin.com/in/rashamunsar', 'https://www.linkedin.com/in/sandyawijaya', 'https://www.linkedin.com/in/ronan-liu', 'https://www.linkedin.com/in/yewen-xu', 'https://www.google.com/search?q=site:linkedin.com/in/+Education+is+UC+Berkeley+graduated+works+in+data+engineer&start=30', 'https://www.google.com/search?q=site:linkedin.com/in/+Education+is+UC+Berkeley+graduated+works+in+data+engineer&start=40', 'https://www.linkedin.com/in/garrett-baltz-09a5461b9', 'https://www.linkedin.com/in/mannatjaggi', 'https://www.linkedin.com/in/harris-azerf', 'https://www.linkedin.com/in/gautam-altekar-78b28921', 'https://www.linkedin.com/in/jack-stehn', 'https://www.linkedin.com/in/gladys-valencia', 'https://www.linkedin.com/in/zachary-galante', 'https://www.linkedin.com/in/kellychang0', 'https://www.linkedin.com/in/misbah-m-syed', 'https://www.linkedin.com/in/andrea-padilla', 'https://www.google.com/search?q=site:linkedin.com/in/+Education+is+UC+Berkeley+graduated+works+in+data+engineer&start=40', 'https://www.google.com/search?q=site:linkedin.com/in/+Education+is+UC+Berkeley+graduated+works+in+data+engineer&start=50', 'https://www.linkedin.com/in/oliviarmccauley', 'https://www.linkedin.com/in/sriyakantipudi', 'https://www.linkedin.com/in/mannan-mishra-a8a888216', 'https://www.linkedin.com/in/yangyang-chen', 'https://www.linkedin.com/in/calvinmcarter', 'https://www.linkedin.com/in/jonathan-isaac-24618317a', 'https://www.linkedin.com/in/katherinegerhardt', 'https://www.linkedin.com/in/katie-gede?trk=people-guest_people_search-card', 'https://www.linkedin.com/in/ishaan--sharma', 'https://www.linkedin.com/in/kevan-kadkhodaian-197583193', 'https://www.google.com/search?q=site:linkedin.com/in/+Education+is+UC+Berkeley+graduated+works+in+data+engineer&start=50', 'https://www.google.com/search?q=site:linkedin.com/in/+Education+is+UC+Berkeley+graduated+works+in+data+engineer&start=60', 'https://www.linkedin.com/in/lbagheri', 'https://www.linkedin.com/in/vikmagal', 'https://www.linkedin.com/in/panitan-satamalee-76b92692', 'https://www.linkedin.com/in/bryguan', 'https://www.linkedin.com/in/leadcleary', 'https://www.linkedin.com/in/maritza-ahumada-9091a8120', 'https://www.linkedin.com/in/ankita-budhraja', 'https://www.linkedin.com/in/dirkbiesinger', 'https://www.linkedin.com/in/megha-setia-558a04162', 'https://www.linkedin.com/in/sreeta', 'https://www.google.com/search?q=site:linkedin.com/in/+Education+is+UC+Berkeley+graduated+works+in+data+engineer&start=60', 'https://www.google.com/search?q=site:linkedin.com/in/+Education+is+UC+Berkeley+graduated+works+in+data+engineer&start=70', 'https://www.linkedin.com/in/emilyuchin', 'https://ca.linkedin.com/in/kelley-l-993937222', 'https://www.linkedin.com/in/dannyxia', 'https://www.linkedin.com/in/manpazito', 'https://www.linkedin.com/in/mengye-wei', 'https://www.linkedin.com/in/matthew-templeton87', 'https://www.linkedin.com/in/lyndaounnar', 'https://www.linkedin.com/in/skylersong', 'https://in.linkedin.com/in/anshul121998', 'https://www.linkedin.com/in/jing-elly-yao', 'https://www.google.com/search?q=site:linkedin.com/in/+Education+is+UC+Berkeley+graduated+works+in+data+engineer&start=70', 'https://www.google.com/search?q=site:linkedin.com/in/+Education+is+UC+Berkeley+graduated+works+in+data+engineer&start=80', 'https://www.linkedin.com/in/isabelle-peloso', 'https://www.linkedin.com/in/arely-vasquez', 'https://www.linkedin.com/in/joshuamajano', 'https://www.linkedin.com/in/anson-quon', 'https://www.linkedin.com/in/ishaan-agrawal', 'https://www.linkedin.com/in/gia-nguyen7', 'https://www.linkedin.com/in/irlanda-ayon-moreno-2a540077', 'https://www.linkedin.com/in/airin-nasyrova', 'https://www.linkedin.com/in/ischmidt20', 'https://www.linkedin.com/in/hemanirpatel', 'https://www.google.com/search?q=site:linkedin.com/in/+Education+is+UC+Berkeley+graduated+works+in+data+engineer&start=80', 'https://www.google.com/search?q=site:linkedin.com/in/+Education+is+UC+Berkeley+graduated+works+in+data+engineer&start=90', 'https://www.linkedin.com/in/andrea-padilla', 'https://www.linkedin.com/in/benscalero', 'https://www.linkedin.com/in/benscalero', 'https://www.linkedin.com/in/kevin-ngoc-hoang', 'https://www.linkedin.com/in/jatin-batta-657532179', 'https://www.linkedin.com/in/harrisonlrhuang', 'https://www.linkedin.com/in/revaecontreras', 'https://www.linkedin.com/in/sara-tetsu', 'https://www.linkedin.com/in/juan-herreraa', 'https://www.linkedin.com/in/aarushiwalia', 'https://www.linkedin.com/in/erinbhan', 'https://www.linkedin.com/in/william-hymer', 'https://www.google.com/search?q=site:linkedin.com/in/+Education+is+UC+Berkeley+graduated+works+in+data+engineer&start=90', 'https://www.google.com/search?q=site:linkedin.com/in/+Education+is+UC+Berkeley+graduated+works+in+data+engineer']\n"
     ]
    },
    {
     "data": {
      "text/plain": [
       "123"
      ]
     },
     "execution_count": 127,
     "metadata": {},
     "output_type": "execute_result"
    }
   ],
   "source": [
    "from pprint import pprint\n",
    "import requests\n",
    "payload = {\n",
    "    'source': 'google',\n",
    "    'url': 'https://www.google.com/search?q=site:linkedin.com/in/+Education+is+UC+Berkeley+graduated+works+in+data+engineer',\n",
    "    'parse': True,\n",
    "    'start_page': 1,\n",
    "    'pages': 10,\n",
    "}\n",
    "\n",
    "response = requests.request(\n",
    "    'POST',\n",
    "    'https://realtime.oxylabs.io/v1/queries',\n",
    "    auth=('satwikapaul_oZIdD', 'Fttkhcvnfttkhcvn6_'),\n",
    "    json=payload\n",
    ")\n",
    "\n",
    "ds3data = response.json()\n",
    "ds3data_linkedin_urls = extract_linkedin_urls(\n",
    "    ds3data)\n",
    "print(ds3data_linkedin_urls)\n",
    "len(ds3data_linkedin_urls)\n"
   ]
  },
  {
   "cell_type": "code",
   "execution_count": 128,
   "id": "72c71483-2929-41e5-92f2-c7f5d26d8576",
   "metadata": {},
   "outputs": [
    {
     "name": "stdout",
     "output_type": "stream",
     "text": [
      "['https://www.google.com/search?q=site:linkedin.com/in/+Education+is+UC+Berkeley+graduated+works+in+data+analytics', 'https://www.linkedin.com/in/hailey-tran', 'https://www.linkedin.com/in/koby-tesfay', 'https://www.linkedin.com/in/hector-juarez-mateo-a3a724180', 'https://www.linkedin.com/in/jacob-bueno', 'https://www.linkedin.com/in/luka-cheney', 'https://www.linkedin.com/in/chandramita-dutta', 'https://www.linkedin.com/in/mikaela-h-holland-60946121b', 'https://www.linkedin.com/in/jake-tolbert-3495592b', 'https://www.linkedin.com/in/nathan-pak-158353178', 'https://www.linkedin.com/in/alice-drozd-38a258207', 'https://www.google.com/search?q=site:linkedin.com/in/+Education+is+UC+Berkeley+graduated+works+in+data+analytics', 'https://www.google.com/search?q=site:linkedin.com/in/+Education+is+UC+Berkeley+graduated+works+in+data+analytics&start=10', 'https://www.linkedin.com/in/mannatjaggi', 'https://www.linkedin.com/in/nathan-pak-158353178', 'https://www.linkedin.com/in/chandramita-dutta', 'https://www.linkedin.com/in/li-zhang-bb40351ab', 'https://www.linkedin.com/in/mikaela-h-holland-60946121b', 'https://www.linkedin.com/in/sara-quigley-50411b8', 'https://www.linkedin.com/in/jake-tolbert-3495592b', 'https://www.linkedin.com/in/antonio-ruizperez', 'https://www.linkedin.com/in/-chelseajimenez', 'https://www.linkedin.com/in/jlpham', 'https://www.google.com/search?q=site:linkedin.com/in/+Education+is+UC+Berkeley+graduated+works+in+data+analytics&start=10', 'https://www.google.com/search?q=site:linkedin.com/in/+Education+is+UC+Berkeley+graduated+works+in+data+analytics&start=20', 'https://www.linkedin.com/in/napoleon-vuong', 'https://www.linkedin.com/in/andrea-padilla', 'https://www.linkedin.com/in/scottfong', 'https://www.linkedin.com/in/pedro-munoz-a413aa1ab', 'https://www.linkedin.com/in/ceasar-chavez', 'https://www.linkedin.com/in/anish-chikkaswamy-794557221', 'https://www.linkedin.com/in/andrewkerr82310', 'https://www.linkedin.com/in/shreyagupta268', 'https://www.linkedin.com/in/ollie-downs', 'https://www.linkedin.com/in/jennifer-j-ortega', 'https://www.google.com/search?q=site:linkedin.com/in/+Education+is+UC+Berkeley+graduated+works+in+data+analytics&start=20', 'https://www.google.com/search?q=site:linkedin.com/in/+Education+is+UC+Berkeley+graduated+works+in+data+analytics&start=30', 'https://www.linkedin.com/in/benscalero', 'https://www.linkedin.com/in/junpark215', 'https://www.linkedin.com/in/joshua-m-parker', 'https://www.linkedin.com/in/noeln', 'https://www.linkedin.com/in/ericvd', 'https://www.linkedin.com/in/jasonhjung', 'https://www.linkedin.com/in/jiayin-jenny-tu', 'https://www.linkedin.com/in/katie-gede?trk=people-guest_people_search-card', 'https://www.linkedin.com/in/priya-bala-88a55723b', 'https://www.linkedin.com/in/calvinmcarter', 'https://www.google.com/search?q=site:linkedin.com/in/+Education+is+UC+Berkeley+graduated+works+in+data+analytics&start=30', 'https://www.google.com/search?q=site:linkedin.com/in/+Education+is+UC+Berkeley+graduated+works+in+data+analytics&start=40', 'https://www.linkedin.com/in/brandon-marks-6265651ba', 'https://www.linkedin.com/in/allan-miller', 'https://www.linkedin.com/in/hayesanguyen', 'https://www.linkedin.com/in/diego-gutierrez-luns', 'https://www.linkedin.com/in/maria-jose-healey-5066ba264', 'https://www.linkedin.com/in/sarina-karki', 'https://www.linkedin.com/in/sandyawijaya', 'https://www.linkedin.com/in/ann-nguyen-baa422325', 'https://www.linkedin.com/in/zhou-jessica', 'https://www.linkedin.com/in/daisykhamphakdy', 'https://www.google.com/search?q=site:linkedin.com/in/+Education+is+UC+Berkeley+graduated+works+in+data+analytics&start=40', 'https://www.google.com/search?q=site:linkedin.com/in/+Education+is+UC+Berkeley+graduated+works+in+data+analytics&start=50', 'https://www.linkedin.com/in/oliviarmccauley', 'https://www.linkedin.com/in/colin-olairez-3857b8251', 'https://www.linkedin.com/in/prernapsingh', 'https://www.linkedin.com/in/larisa-rodriguez', 'https://uk.linkedin.com/in/melissabrookfielduk', 'https://www.linkedin.com/in/sameer-karim', 'https://www.linkedin.com/in/andrewchen04', 'https://www.linkedin.com/in/carinacsam', 'https://www.linkedin.com/in/ishikap', 'https://www.linkedin.com/in/lucyyue', 'https://www.google.com/search?q=site:linkedin.com/in/+Education+is+UC+Berkeley+graduated+works+in+data+analytics&start=50', 'https://www.google.com/search?q=site:linkedin.com/in/+Education+is+UC+Berkeley+graduated+works+in+data+analytics&start=60', 'https://www.linkedin.com/in/akash-v-iyer', 'https://www.linkedin.com/in/jonathan-isaac-24618317a', 'https://www.linkedin.com/in/brendanzhu', 'https://www.linkedin.com/in/xuefan-gao-222106176', 'https://www.linkedin.com/in/mengye-wei', 'https://www.linkedin.com/in/alexa-torres11', 'https://www.linkedin.com/in/lyndaounnar', 'https://www.linkedin.com/in/nathan-mehta-98a164252', 'https://www.linkedin.com/in/jiayuewu', 'https://www.linkedin.com/in/daniel-seita-51326288', 'https://www.google.com/search?q=site:linkedin.com/in/+Education+is+UC+Berkeley+graduated+works+in+data+analytics&start=60', 'https://www.google.com/search?q=site:linkedin.com/in/+Education+is+UC+Berkeley+graduated+works+in+data+analytics&start=70', 'https://www.linkedin.com/in/oliver-li-052a49171', 'https://www.linkedin.com/in/bwaismeyer', 'https://www.linkedin.com/in/bellaachang', 'https://www.linkedin.com/in/youki-terada-97154910', 'https://www.linkedin.com/in/annie-pang', 'https://www.linkedin.com/in/arnav-jain-3850321bb', 'https://www.linkedin.com/in/gabriel-ehrlich-38aa6995', 'https://www.linkedin.com/in/jessicathach', 'https://www.linkedin.com/in/davidapiladojr', 'https://www.linkedin.com/in/joshuamajano', 'https://www.google.com/search?q=site:linkedin.com/in/+Education+is+UC+Berkeley+graduated+works+in+data+analytics&start=70', 'https://www.google.com/search?q=site:linkedin.com/in/+Education+is+UC+Berkeley+graduated+works+in+data+analytics&start=80', 'https://www.linkedin.com/in/asbah-wasim', 'https://www.linkedin.com/in/luka-cheney', 'https://www.linkedin.com/in/hansocampo', 'https://www.linkedin.com/in/kempton-mccarty', 'https://www.linkedin.com/in/ginnylii', 'https://www.linkedin.com/in/ashley-quiterio', 'https://www.linkedin.com/in/christianakang', 'https://www.linkedin.com/in/jingyuanchenn', 'https://www.linkedin.com/in/brianfdo', 'https://in.linkedin.com/in/subasri-g-414676232', 'https://www.google.com/search?q=site:linkedin.com/in/+Education+is+UC+Berkeley+graduated+works+in+data+analytics&start=80', 'https://www.google.com/search?q=site:linkedin.com/in/+Education+is+UC+Berkeley+graduated+works+in+data+analytics&start=90', 'https://www.linkedin.com/in/andrea-padilla', 'https://www.linkedin.com/in/davidapiladojr', 'https://www.linkedin.com/in/calvinmcarter', 'https://www.linkedin.com/in/rashamunsar', 'https://www.linkedin.com/in/nmammadsoy', 'https://www.linkedin.com/in/bellamza11/es', 'https://www.linkedin.com/in/alice-drozd-38a258207', 'https://www.linkedin.com/in/zewdi-herring', 'https://www.linkedin.com/in/dejesusalcala', 'https://www.linkedin.com/in/elliott-medrich-2537978', 'https://ca.linkedin.com/in/connorpestell', 'https://www.linkedin.com/in/atharv-raturi-1a137722a', 'https://www.google.com/search?q=site:linkedin.com/in/+Education+is+UC+Berkeley+graduated+works+in+data+analytics&start=90', 'https://www.google.com/search?q=site:linkedin.com/in/+Education+is+UC+Berkeley+graduated+works+in+data+analytics']\n"
     ]
    },
    {
     "data": {
      "text/plain": [
       "123"
      ]
     },
     "execution_count": 128,
     "metadata": {},
     "output_type": "execute_result"
    }
   ],
   "source": [
    "from pprint import pprint\n",
    "import requests\n",
    "payload = {\n",
    "    'source': 'google',\n",
    "    'url': 'https://www.google.com/search?q=site:linkedin.com/in/+Education+is+UC+Berkeley+graduated+works+in+data+analytics',\n",
    "    'parse': True,\n",
    "    'start_page': 1,\n",
    "    'pages': 10,\n",
    "}\n",
    "\n",
    "response = requests.request(\n",
    "    'POST',\n",
    "    'https://realtime.oxylabs.io/v1/queries',\n",
    "    auth=('satwikapaul_oZIdD', 'Fttkhcvnfttkhcvn6_'),\n",
    "    json=payload\n",
    ")\n",
    "\n",
    "ds4data = response.json()\n",
    "ds4data_linkedin_urls = extract_linkedin_urls(\n",
    "    ds4data)\n",
    "print(ds4data_linkedin_urls)\n",
    "len(ds4data_linkedin_urls)\n"
   ]
  },
  {
   "cell_type": "code",
   "execution_count": 129,
   "id": "0ba2759d-0850-497b-83d7-ade3b5d9fcdf",
   "metadata": {},
   "outputs": [
    {
     "name": "stdout",
     "output_type": "stream",
     "text": [
      "['https://www.google.com/search?q=site:linkedin.com/in/+Education+is+UC+Berkeley+graduated+works+in+data+architect', 'https://www.linkedin.com/in/leannachr', 'https://www.linkedin.com/in/aarushiwalia', 'https://www.linkedin.com/in/yczchloe', 'https://www.linkedin.com/in/arrianadaniels', 'https://www.linkedin.com/in/kaden-tang-99121922a', 'https://www.linkedin.com/in/connie-he-839b80224', 'https://www.linkedin.com/in/koby-tesfay', 'https://www.linkedin.com/in/hailey-tran', 'https://www.linkedin.com/in/jolene-w-h-lee-a1123251', 'https://www.linkedin.com/in/evan-gao', 'https://www.google.com/search?q=site:linkedin.com/in/+Education+is+UC+Berkeley+graduated+works+in+data+architect', 'https://www.google.com/search?q=site:linkedin.com/in/+Education+is+UC+Berkeley+graduated+works+in+data+architect&start=10', 'https://www.linkedin.com/in/sara-quigley-50411b8', 'https://www.linkedin.com/in/jolene-w-h-lee-a1123251', 'https://www.linkedin.com/in/christina-haley', 'https://www.linkedin.com/in/jonathan-wu-394690125', 'https://www.linkedin.com/in/sandyawijaya', 'https://www.linkedin.com/in/ollie-downs', 'https://www.linkedin.com/in/allanchen51', 'https://www.linkedin.com/in/hemanirpatel', 'https://www.linkedin.com/in/laurenneross', 'https://www.linkedin.com/in/wanda-katja-liebermann-09453918', 'https://www.google.com/search?q=site:linkedin.com/in/+Education+is+UC+Berkeley+graduated+works+in+data+architect&start=10', 'https://www.google.com/search?q=site:linkedin.com/in/+Education+is+UC+Berkeley+graduated+works+in+data+architect&start=20', 'https://hk.linkedin.com/in/melissa-sandoval-40baa942', 'https://www.linkedin.com/in/christianhhercules', 'https://www.linkedin.com/in/sraelloyd', 'https://www.linkedin.com/in/jiawen-chen-03b21715a', 'https://www.linkedin.com/in/lbagheri', 'https://www.linkedin.com/in/ashmitak', 'https://www.linkedin.com/in/daisykhamphakdy', 'https://www.linkedin.com/in/fernando-reyes-jr', 'https://www.linkedin.com/in/kelvin-hernandez-a57468281', 'https://www.linkedin.com/in/perry-pei-yuan-wei-960710', 'https://www.google.com/search?q=site:linkedin.com/in/+Education+is+UC+Berkeley+graduated+works+in+data+architect&start=20', 'https://www.google.com/search?q=site:linkedin.com/in/+Education+is+UC+Berkeley+graduated+works+in+data+architect&start=30', 'https://www.linkedin.com/in/ipkaur', 'https://www.linkedin.com/in/ari-baird', 'https://www.linkedin.com/in/eduardo-hinojosa-ibarra', 'https://www.linkedin.com/in/haripriyasathyanarayanan', 'https://www.linkedin.com/in/tolani-britton-b27278b3', 'https://www.linkedin.com/in/claire-banducci-9b9621215', 'https://www.linkedin.com/in/krystel-cortez-jacinto', 'https://www.linkedin.com/in/yiningma99696', 'https://www.linkedin.com/in/williamrobertclarkarch', 'https://www.linkedin.com/in/jerryzhao1', 'https://www.google.com/search?q=site:linkedin.com/in/+Education+is+UC+Berkeley+graduated+works+in+data+architect&start=30', 'https://www.google.com/search?q=site:linkedin.com/in/+Education+is+UC+Berkeley+graduated+works+in+data+architect&start=40', 'https://www.linkedin.com/in/jerryzhao1', 'https://www.linkedin.com/in/mbswan', 'https://www.linkedin.com/in/andreea-astratinei-06aba6125', 'https://www.linkedin.com/in/saathvik-selvan', 'https://www.linkedin.com/in/karenkubey', 'https://www.linkedin.com/in/jaqueline-ramirez12', 'https://www.linkedin.com/in/jacob-getz-jg', 'https://www.linkedin.com/in/yiming-zhang-84708b148', 'https://in.linkedin.com/in/kalapriya-kannan-0862b55b', 'https://www.linkedin.com/in/derek-day-42b557b', 'https://www.google.com/search?q=site:linkedin.com/in/+Education+is+UC+Berkeley+graduated+works+in+data+architect&start=40', 'https://www.google.com/search?q=site:linkedin.com/in/+Education+is+UC+Berkeley+graduated+works+in+data+architect&start=50', 'https://www.linkedin.com/in/alora-clark', 'https://www.linkedin.com/in/adelinebelsby', 'https://www.linkedin.com/in/betzaida-almendarez', 'https://www.linkedin.com/in/sophie-schnietz-734303129', 'https://www.linkedin.com/in/alex-burgaud', 'https://www.linkedin.com/in/lillianyjiang', 'https://www.linkedin.com/in/elizabeth-rechin', 'https://www.linkedin.com/in/akevinyang', 'https://www.linkedin.com/in/avery-lakeman-0b861913a', 'https://www.linkedin.com/in/bwaismeyer', 'https://www.google.com/search?q=site:linkedin.com/in/+Education+is+UC+Berkeley+graduated+works+in+data+architect&start=50', 'https://www.google.com/search?q=site:linkedin.com/in/+Education+is+UC+Berkeley+graduated+works+in+data+architect&start=60', 'https://www.linkedin.com/in/bwaismeyer', 'https://www.linkedin.com/in/tessa-wood-086453173', 'https://www.linkedin.com/in/eunice-rocha', 'https://www.linkedin.com/in/santiago-g-880190146', 'https://www.linkedin.com/in/christopher-stawski-886a9346', 'https://www.linkedin.com/in/shreyagupta268', 'https://www.linkedin.com/in/nelson-lee-6bb01521b', 'https://www.linkedin.com/in/irenetrampoline', 'https://www.linkedin.com/in/amit-patel-57798ba', 'https://www.linkedin.com/in/arnav-jain-3850321bb', 'https://www.google.com/search?q=site:linkedin.com/in/+Education+is+UC+Berkeley+graduated+works+in+data+architect&start=60', 'https://www.google.com/search?q=site:linkedin.com/in/+Education+is+UC+Berkeley+graduated+works+in+data+architect&start=70', 'https://www.linkedin.com/in/frank-yu-studio', 'https://www.linkedin.com/in/monica-rodriguez-ornia', 'https://www.linkedin.com/in/finlay-douglas', 'https://www.linkedin.com/in/mbarchitect', 'https://www.linkedin.com/in/-abunayeem', 'https://www.linkedin.com/in/bhaskar-mishra', 'https://www.linkedin.com/in/isabella-kennedy-5677a7172', 'https://www.linkedin.com/in/ianmiley1', 'https://www.linkedin.com/in/seanstrebel', 'https://www.linkedin.com/in/frankie-rodriguez-001378279', 'https://www.google.com/search?q=site:linkedin.com/in/+Education+is+UC+Berkeley+graduated+works+in+data+architect&start=70', 'https://www.google.com/search?q=site:linkedin.com/in/+Education+is+UC+Berkeley+graduated+works+in+data+architect&start=80', 'https://www.linkedin.com/in/dejesusalcala', 'https://www.linkedin.com/in/monica-leslie-3290428', 'https://www.linkedin.com/in/cath723', 'https://www.linkedin.com/in/yulia-grinkrug-architecture', 'https://www.linkedin.com/in/chiara-noppenberger-34b9b7140', 'https://www.linkedin.com/in/alecstewart', 'https://www.linkedin.com/in/annie-pang', 'https://www.linkedin.com/in/gavin-aleshire-87a264185', 'https://www.linkedin.com/in/sean-keehan-sullivan', 'https://www.linkedin.com/in/syahuang', 'https://www.google.com/search?q=site:linkedin.com/in/+Education+is+UC+Berkeley+graduated+works+in+data+architect&start=80', 'https://www.google.com/search?q=site:linkedin.com/in/+Education+is+UC+Berkeley+graduated+works+in+data+architect&start=90', 'https://www.linkedin.com/in/lisa-garcia-bedolla-28b0174', 'https://www.linkedin.com/in/ryanm-tom', 'https://www.linkedin.com/in/samuel-j-clay-847906238', 'https://www.linkedin.com/in/jason-le-1231b7276', 'https://www.linkedin.com/in/mary-devlin-6283b4134', 'https://www.linkedin.com/in/jaansi', 'https://www.linkedin.com/in/hannah-greendorfer-205bb766', 'https://www.linkedin.com/in/nishtha-kashyap-38502a1aa', 'https://www.linkedin.com/in/sara-peach-785628238', 'https://www.linkedin.com/in/allyson-park', 'https://www.google.com/search?q=site:linkedin.com/in/+Education+is+UC+Berkeley+graduated+works+in+data+architect&start=90', 'https://www.google.com/search?q=site:linkedin.com/in/+Education+is+UC+Berkeley+graduated+works+in+data+architect']\n"
     ]
    },
    {
     "data": {
      "text/plain": [
       "121"
      ]
     },
     "execution_count": 129,
     "metadata": {},
     "output_type": "execute_result"
    }
   ],
   "source": [
    "from pprint import pprint\n",
    "import requests\n",
    "payload = {\n",
    "    'source': 'google',\n",
    "    'url': 'https://www.google.com/search?q=site:linkedin.com/in/+Education+is+UC+Berkeley+graduated+works+in+data+architect',\n",
    "    'parse': True,\n",
    "    'start_page': 1,\n",
    "    'pages': 10,\n",
    "}\n",
    "\n",
    "response = requests.request(\n",
    "    'POST',\n",
    "    'https://realtime.oxylabs.io/v1/queries',\n",
    "    auth=('satwikapaul_oZIdD', 'Fttkhcvnfttkhcvn6_'),\n",
    "    json=payload\n",
    ")\n",
    "\n",
    "ds5data = response.json()\n",
    "ds5data_linkedin_urls = extract_linkedin_urls(\n",
    "    ds5data)\n",
    "print(ds5data_linkedin_urls)\n",
    "len(ds5data_linkedin_urls)\n"
   ]
  },
  {
   "cell_type": "code",
   "execution_count": 131,
   "id": "9781ba40-5277-41ad-9afc-5b3b93c48ead",
   "metadata": {},
   "outputs": [
    {
     "name": "stdout",
     "output_type": "stream",
     "text": [
      "['https://www.google.com/search?q=site:linkedin.com/in/+Education+is+UC+Berkeley+graduated+works+in+data+business+intelligence', 'https://br.linkedin.com/in/eduardaespindola/en', 'https://www.linkedin.com/in/nicholaskluong', 'https://www.linkedin.com/in/maria-jose-healey-5066ba264', 'https://www.linkedin.com/in/sid-srivastava-4488721b2', 'https://www.linkedin.com/in/hailey-tran', 'https://www.linkedin.com/in/megha-setia-558a04162', 'https://www.linkedin.com/in/lbagheri', 'https://www.linkedin.com/in/riley-hansenn', 'https://www.linkedin.com/in/wesley-l-0a614b186', 'https://br.linkedin.com/in/sofiapelliciari/en', 'https://www.google.com/search?q=site:linkedin.com/in/+Education+is+UC+Berkeley+graduated+works+in+data+business+intelligence', 'https://www.google.com/search?q=site:linkedin.com/in/+Education+is+UC+Berkeley+graduated+works+in+data+business+intelligence&start=10', 'https://www.linkedin.com/in/scottfong', 'https://www.linkedin.com/in/carolcalee', 'https://www.linkedin.com/in/timothyabadcruz', 'https://www.linkedin.com/in/jacob-bueno', 'https://www.linkedin.com/in/sohailattari30', 'https://www.linkedin.com/in/isaacbraganza', 'https://www.linkedin.com/in/hector-juarez-mateo-a3a724180', 'https://www.linkedin.com/in/sara-quigley-50411b8', 'https://www.linkedin.com/in/prernapsingh', 'https://www.linkedin.com/in/rinal-shastri-9b14a4265', 'https://www.google.com/search?q=site:linkedin.com/in/+Education+is+UC+Berkeley+graduated+works+in+data+business+intelligence&start=10', 'https://www.google.com/search?q=site:linkedin.com/in/+Education+is+UC+Berkeley+graduated+works+in+data+business+intelligence&start=20', 'https://uk.linkedin.com/in/jenea-spinks-088107212', 'https://ca.linkedin.com/in/jasonukim', 'https://www.linkedin.com/in/mannatjaggi', 'https://www.linkedin.com/in/gladys-valencia', 'https://www.linkedin.com/in/sameer-karim', 'https://www.linkedin.com/in/ceasar-chavez', 'https://www.linkedin.com/in/li-zhang-bb40351ab', 'https://www.linkedin.com/in/katie-gede?trk=people-guest_people_search-card', 'https://in.linkedin.com/in/subasri-g-414676232', 'https://www.linkedin.com/in/luis-espinoza-1b7801205', 'https://www.google.com/search?q=site:linkedin.com/in/+Education+is+UC+Berkeley+graduated+works+in+data+business+intelligence&start=20', 'https://www.google.com/search?q=site:linkedin.com/in/+Education+is+UC+Berkeley+graduated+works+in+data+business+intelligence&start=30', 'https://www.linkedin.com/in/koby-tesfay', 'https://www.linkedin.com/in/nathaniel-santoso-b10845218/', 'https://www.linkedin.com/in/kailun-li-berkeley-ieor24', 'https://www.linkedin.com/in/chandramita-dutta', 'https://www.linkedin.com/in/jiayin-jenny-tu', 'https://www.linkedin.com/in/annie-pang', 'https://www.linkedin.com/in/andrea-padilla', 'https://www.linkedin.com/in/lindamutesi', 'https://www.linkedin.com/in/andrewkerr82310', 'https://www.linkedin.com/in/colin-olairez-3857b8251', 'https://www.google.com/search?q=site:linkedin.com/in/+Education+is+UC+Berkeley+graduated+works+in+data+business+intelligence&start=30', 'https://www.google.com/search?q=site:linkedin.com/in/+Education+is+UC+Berkeley+graduated+works+in+data+business+intelligence&start=40', 'https://www.linkedin.com/in/pamela-gleason-0969775', 'https://www.linkedin.com/in/jesse-park-a55541291', 'https://www.linkedin.com/in/israel-jimah-9216a0104', 'https://www.linkedin.com/in/jiatong-ye', 'https://www.linkedin.com/in/erick-ahrens-0847446', 'https://www.linkedin.com/in/wonshilpark', 'https://www.linkedin.com/in/songdizhang', 'https://www.linkedin.com/in/bhavikmuni', 'https://www.linkedin.com/in/yvettevranik0325', 'https://www.linkedin.com/in/brian-muganda-ms-056146b7', 'https://www.google.com/search?q=site:linkedin.com/in/+Education+is+UC+Berkeley+graduated+works+in+data+business+intelligence&start=40', 'https://www.google.com/search?q=site:linkedin.com/in/+Education+is+UC+Berkeley+graduated+works+in+data+business+intelligence&start=50', 'https://www.linkedin.com/in/farrah-su-466978232', 'https://www.linkedin.com/in/daisykhamphakdy', 'https://www.linkedin.com/in/ishikap', 'https://www.linkedin.com/in/brighten-drake-8250021b8', 'https://www.linkedin.com/in/nashatcabral', 'https://www.linkedin.com/in/shreyagupta268', 'https://www.linkedin.com/in/larisa-rodriguez', 'https://www.linkedin.com/in/saurabh-s-319637', 'https://www.linkedin.com/in/heain-yee', 'https://www.linkedin.com/in/katiemay87', 'https://www.google.com/search?q=site:linkedin.com/in/+Education+is+UC+Berkeley+graduated+works+in+data+business+intelligence&start=50', 'https://www.google.com/search?q=site:linkedin.com/in/+Education+is+UC+Berkeley+graduated+works+in+data+business+intelligence&start=60', 'https://www.linkedin.com/in/smrutik-sahu', 'https://www.linkedin.com/in/junyaolu1999', 'https://www.linkedin.com/in/noeln', 'https://www.linkedin.com/in/rafael-arbex-murut', 'https://www.linkedin.com/in/natsnetdemoz', 'https://www.linkedin.com/in/tarandeepjohal', 'https://jm.linkedin.com/in/justin-johnson-04868559', 'https://www.linkedin.com/in/anuksankar', 'https://www.linkedin.com/in/xjpz', 'https://www.linkedin.com/in/hayesanguyen', 'https://www.google.com/search?q=site:linkedin.com/in/+Education+is+UC+Berkeley+graduated+works+in+data+business+intelligence&start=60', 'https://www.google.com/search?q=site:linkedin.com/in/+Education+is+UC+Berkeley+graduated+works+in+data+business+intelligence&start=70', 'https://www.linkedin.com/in/brandon-marks-6265651ba', 'https://www.linkedin.com/in/matt-hardy-57500563', 'https://www.linkedin.com/in/grace--qian', 'https://www.linkedin.com/in/youki-terada-97154910', 'https://www.linkedin.com/in/dee-yunus', 'https://www.linkedin.com/in/nathan-mehta-98a164252', 'https://br.linkedin.com/in/matheus-ribeiro-a9b8b8237/en', 'https://www.linkedin.com/in/nina-begus-86853366', 'https://www.linkedin.com/in/mengye-wei', 'https://www.linkedin.com/in/viviantlo', 'https://www.google.com/search?q=site:linkedin.com/in/+Education+is+UC+Berkeley+graduated+works+in+data+business+intelligence&start=70', 'https://www.google.com/search?q=site:linkedin.com/in/+Education+is+UC+Berkeley+graduated+works+in+data+business+intelligence&start=80', 'https://www.linkedin.com/in/jennifer-watts-a103968', 'https://www.linkedin.com/in/arpitaapandey', 'https://www.linkedin.com/in/tilda-gross', 'https://www.linkedin.com/in/vijay-kumar-prakash', 'https://www.linkedin.com/in/lucyyue', 'https://www.linkedin.com/in/lillianyjiang', 'https://www.linkedin.com/in/yi-fu', 'https://ie.linkedin.com/in/bernadetteadams', 'https://www.linkedin.com/in/zhou-jessica', 'https://www.linkedin.com/in/amanda-surjaputri-974a1b19a', 'https://www.google.com/search?q=site:linkedin.com/in/+Education+is+UC+Berkeley+graduated+works+in+data+business+intelligence&start=80', 'https://www.google.com/search?q=site:linkedin.com/in/+Education+is+UC+Berkeley+graduated+works+in+data+business+intelligence&start=90', 'https://www.linkedin.com/in/andrea-padilla', 'https://www.linkedin.com/in/pamela-gleason-0969775', 'https://www.linkedin.com/in/kyle-bradford-wong', 'https://www.linkedin.com/in/caedi', 'https://www.linkedin.com/in/gallaghertimothy', 'https://www.linkedin.com/in/kimjun39', 'https://www.linkedin.com/in/irving-campos', 'https://www.linkedin.com/in/airin-nasyrova', 'https://www.linkedin.com/in/diego-gutierrez-luns', 'https://www.linkedin.com/in/noam-manor-54387120', 'https://br.linkedin.com/in/matheusprb', 'https://www.linkedin.com/in/emily-chau-', 'https://www.google.com/search?q=site:linkedin.com/in/+Education+is+UC+Berkeley+graduated+works+in+data+business+intelligence&start=90', 'https://www.google.com/search?q=site:linkedin.com/in/+Education+is+UC+Berkeley+graduated+works+in+data+business+intelligence']\n"
     ]
    },
    {
     "data": {
      "text/plain": [
       "123"
      ]
     },
     "execution_count": 131,
     "metadata": {},
     "output_type": "execute_result"
    }
   ],
   "source": [
    "from pprint import pprint\n",
    "import requests\n",
    "payload = {\n",
    "    'source': 'google',\n",
    "    'url': 'https://www.google.com/search?q=site:linkedin.com/in/+Education+is+UC+Berkeley+graduated+works+in+data+business+intelligence',\n",
    "    'parse': True,\n",
    "    'start_page': 1,\n",
    "    'pages': 10,\n",
    "}\n",
    "\n",
    "response = requests.request(\n",
    "    'POST',\n",
    "    'https://realtime.oxylabs.io/v1/queries',\n",
    "    auth=('satwikapaul_oZIdD', 'Fttkhcvnfttkhcvn6_'),\n",
    "    json=payload\n",
    ")\n",
    "\n",
    "ds6data = response.json()\n",
    "ds6data_linkedin_urls = extract_linkedin_urls(\n",
    "    ds6data)\n",
    "print(ds6data_linkedin_urls)\n",
    "len(ds6data_linkedin_urls)\n"
   ]
  },
  {
   "cell_type": "markdown",
   "id": "49750169-585a-4c81-bd17-bebc8ea20030",
   "metadata": {
    "jp-MarkdownHeadingCollapsed": true,
    "tags": []
   },
   "source": [
    "# Product Manager URLS #"
   ]
  },
  {
   "cell_type": "code",
   "execution_count": 133,
   "id": "2a3e53b1-7bf5-47b1-a012-31db6209841d",
   "metadata": {},
   "outputs": [
    {
     "name": "stdout",
     "output_type": "stream",
     "text": [
      "['https://www.google.com/search?q=site:linkedin.com/in/+Education+is+UC+Berkeley+graduated+works+in+product+manager', 'https://www.linkedin.com/in/katherine-gan', 'https://www.linkedin.com/in/gerelee', 'https://www.linkedin.com/in/meera-vinod', 'https://www.linkedin.com/in/jspark28', 'https://www.linkedin.com/in/emily-baytalsky', 'https://www.linkedin.com/in/nehajacob', 'https://www.linkedin.com/in/ethan-soe', 'https://www.linkedin.com/in/daley-vertiz', 'https://www.linkedin.com/in/dantealvaradoleon', 'https://www.linkedin.com/in/adele-bloch-406786100', 'https://www.google.com/search?q=site:linkedin.com/in/+Education+is+UC+Berkeley+graduated+works+in+product+manager', 'https://www.google.com/search?q=site:linkedin.com/in/+Education+is+UC+Berkeley+graduated+works+in+product+manager&start=10', 'https://www.linkedin.com/in/kyra-wong', 'https://www.linkedin.com/in/graceroseman', 'https://www.linkedin.com/in/laurenksung', 'https://www.linkedin.com/in/rrachelchenn', 'https://www.linkedin.com/in/sydney-karimi-6425b01a5', 'https://www.linkedin.com/in/alejandrapadillaa', 'https://www.linkedin.com/in/sarahyoon1', 'https://www.linkedin.com/in/ryan-lee-uc-berkeley', 'https://www.linkedin.com/in/richa-verma-berkeley', 'https://www.linkedin.com/in/clement-kao', 'https://www.google.com/search?q=site:linkedin.com/in/+Education+is+UC+Berkeley+graduated+works+in+product+manager&start=10', 'https://www.google.com/search?q=site:linkedin.com/in/+Education+is+UC+Berkeley+graduated+works+in+product+manager&start=20', 'https://www.linkedin.com/in/lindamutesi', 'https://www.linkedin.com/in/winston-lins', 'https://www.linkedin.com/in/kenny-yoo', 'https://www.linkedin.com/in/irisghou', 'https://www.linkedin.com/in/nvaniyapun', 'https://www.linkedin.com/in/srividyaramamoorthy', 'https://www.linkedin.com/in/anna-chavez-590242161', 'https://www.linkedin.com/in/emfli', 'https://www.linkedin.com/in/joeytalia', 'https://www.linkedin.com/in/james-cerra', 'https://www.google.com/search?q=site:linkedin.com/in/+Education+is+UC+Berkeley+graduated+works+in+product+manager&start=20', 'https://www.google.com/search?q=site:linkedin.com/in/+Education+is+UC+Berkeley+graduated+works+in+product+manager&start=30', 'https://www.linkedin.com/in/wei-zheng', 'https://www.linkedin.com/in/leemarvin93', 'https://www.linkedin.com/in/francescagiovanna', 'https://www.linkedin.com/in/adriellee', 'https://www.linkedin.com/in/nguyenbo', 'https://www.linkedin.com/in/maham-bawaney-1b5755163', 'https://www.linkedin.com/in/michael-collins-3945105', 'https://www.linkedin.com/in/michlzhang', 'https://www.linkedin.com/in/lauren-mcb', 'https://www.linkedin.com/in/lingyu-zheng', 'https://www.google.com/search?q=site:linkedin.com/in/+Education+is+UC+Berkeley+graduated+works+in+product+manager&start=30', 'https://www.google.com/search?q=site:linkedin.com/in/+Education+is+UC+Berkeley+graduated+works+in+product+manager&start=40', 'https://www.linkedin.com/in/shauryakalsi', 'https://www.linkedin.com/in/ketaki-vaidya08', 'https://www.linkedin.com/in/michlzhang', 'https://www.linkedin.com/in/wesley-griggs', 'https://www.linkedin.com/in/clairetromblee', 'https://www.linkedin.com/in/hannahhan00', 'https://www.linkedin.com/in/marshall-wu', 'https://www.linkedin.com/in/steven-williams-8927226', 'https://www.linkedin.com/in/seanluvian', 'https://www.linkedin.com/in/aditiganpule', 'https://www.google.com/search?q=site:linkedin.com/in/+Education+is+UC+Berkeley+graduated+works+in+product+manager&start=40', 'https://www.google.com/search?q=site:linkedin.com/in/+Education+is+UC+Berkeley+graduated+works+in+product+manager&start=50', 'https://www.linkedin.com/in/marshall-wu', 'https://www.linkedin.com/in/sabrinakma', 'https://www.linkedin.com/in/ibalajibhaskar', 'https://www.linkedin.com/in/fernando-triguero-elvira', 'https://www.linkedin.com/in/dianne-na-penn', 'https://www.linkedin.com/in/dianas', 'https://ke.linkedin.com/in/wambugu', 'https://www.linkedin.com/in/nktrinh', 'https://www.linkedin.com/in/preethi-ml-40501a108', 'https://www.linkedin.com/in/nicholashuangyn', 'https://www.google.com/search?q=site:linkedin.com/in/+Education+is+UC+Berkeley+graduated+works+in+product+manager&start=50', 'https://www.google.com/search?q=site:linkedin.com/in/+Education+is+UC+Berkeley+graduated+works+in+product+manager&start=60', 'https://www.linkedin.com/in/jtcio', 'https://www.linkedin.com/in/xtinachen', 'https://www.linkedin.com/in/villaumbrosia', 'https://au.linkedin.com/in/beixuan', 'https://www.linkedin.com/in/pamela-gleason-0969775', 'https://www.linkedin.com/in/mmelissahsu', 'https://www.linkedin.com/in/shreena-santosh-bhati', 'https://www.linkedin.com/in/meera-vinod', 'https://www.linkedin.com/in/hutchinson-andrew', 'https://www.linkedin.com/in/katie-gede?trk=people-guest_people_search-card', 'https://www.google.com/search?q=site:linkedin.com/in/+Education+is+UC+Berkeley+graduated+works+in+product+manager&start=60', 'https://www.google.com/search?q=site:linkedin.com/in/+Education+is+UC+Berkeley+graduated+works+in+product+manager&start=70', 'https://www.linkedin.com/in/rishi-banerjee', 'https://www.linkedin.com/in/ycho228', 'https://www.linkedin.com/in/sujguha', 'https://www.linkedin.com/in/nave-algarici', 'https://www.linkedin.com/in/ketaki-vaidya08', 'https://www.linkedin.com/in/zandervaux', 'https://www.linkedin.com/in/bikram-arora-0a875b97', 'https://www.linkedin.com/in/vikasvsharma', 'https://www.linkedin.com/in/lira-daniel', 'https://www.linkedin.com/in/mikahyden', 'https://www.google.com/search?q=site:linkedin.com/in/+Education+is+UC+Berkeley+graduated+works+in+product+manager&start=70', 'https://www.google.com/search?q=site:linkedin.com/in/+Education+is+UC+Berkeley+graduated+works+in+product+manager&start=80', 'https://www.linkedin.com/in/aigerim-kurmanbekova', 'https://www.linkedin.com/in/pamelasurjadjaja', 'https://www.linkedin.com/in/daley-vertiz', 'https://www.linkedin.com/in/huynhchristina', 'https://www.linkedin.com/in/donnayskim', 'https://www.linkedin.com/in/pupt', 'https://www.linkedin.com/in/anant--mishra', 'https://www.linkedin.com/in/nicole-camara-2b3386181', 'https://www.linkedin.com/in/mattyao', 'https://www.linkedin.com/in/elizabeth-lavie-1babb695', 'https://www.google.com/search?q=site:linkedin.com/in/+Education+is+UC+Berkeley+graduated+works+in+product+manager&start=80', 'https://www.google.com/search?q=site:linkedin.com/in/+Education+is+UC+Berkeley+graduated+works+in+product+manager&start=90', 'https://www.linkedin.com/in/laraibnbaig', 'https://www.linkedin.com/in/mihirmathur1', 'https://www.linkedin.com/in/aileen-ghosh', 'https://www.linkedin.com/in/audreyyma', 'https://www.linkedin.com/in/manu-vimahi-17286990', 'https://www.linkedin.com/in/kystanleylin', 'https://www.linkedin.com/in/alyssa-machida-a50866a1', 'https://www.linkedin.com/in/selenashang', 'https://www.linkedin.com/in/yu-ashley', 'https://www.linkedin.com/in/stevevargas', 'https://www.google.com/search?q=site:linkedin.com/in/+Education+is+UC+Berkeley+graduated+works+in+product+manager&start=90', 'https://www.google.com/search?q=site:linkedin.com/in/+Education+is+UC+Berkeley+graduated+works+in+product+manager']\n"
     ]
    },
    {
     "data": {
      "text/plain": [
       "121"
      ]
     },
     "execution_count": 133,
     "metadata": {},
     "output_type": "execute_result"
    }
   ],
   "source": [
    "from pprint import pprint\n",
    "import requests\n",
    "payload = {\n",
    "    'source': 'google',\n",
    "    'url': 'https://www.google.com/search?q=site:linkedin.com/in/+Education+is+UC+Berkeley+graduated+works+in+product+manager',\n",
    "    'parse': True,\n",
    "    'start_page': 1,\n",
    "    'pages': 10,\n",
    "}\n",
    "\n",
    "response = requests.request(\n",
    "    'POST',\n",
    "    'https://realtime.oxylabs.io/v1/queries',\n",
    "    auth=('satwikapaul_oZIdD', 'Fttkhcvnfttkhcvn6_'),\n",
    "    json=payload\n",
    ")\n",
    "\n",
    "pm1data = response.json()\n",
    "pm1data_linkedin_urls = extract_linkedin_urls(\n",
    "    pm1data)\n",
    "print(pm1data_linkedin_urls)\n",
    "len(pm1data_linkedin_urls)\n"
   ]
  },
  {
   "cell_type": "code",
   "execution_count": 134,
   "id": "5ccbb582-6ae3-4a92-be72-cced67f1f166",
   "metadata": {},
   "outputs": [
    {
     "name": "stdout",
     "output_type": "stream",
     "text": [
      "['https://www.google.com/search?q=site:linkedin.com/in/+Education+is+UC+Berkeley+graduated+works+in+technical+product+manager', 'https://www.linkedin.com/in/jspark28', 'https://www.linkedin.com/in/ccandrewcheng', 'https://www.linkedin.com/in/shreena-santosh-bhati', 'https://www.linkedin.com/in/graceroseman', 'https://www.linkedin.com/in/wei-zheng', 'https://www.linkedin.com/in/emily-baytalsky', 'https://www.linkedin.com/in/nehajacob', 'https://www.linkedin.com/in/sarahyoon1', 'https://www.linkedin.com/in/nguyenbo', 'https://www.linkedin.com/in/buckey-lee-7506ba283', 'https://www.google.com/search?q=site:linkedin.com/in/+Education+is+UC+Berkeley+graduated+works+in+technical+product+manager', 'https://www.google.com/search?q=site:linkedin.com/in/+Education+is+UC+Berkeley+graduated+works+in+technical+product+manager&start=10', 'https://www.linkedin.com/in/sabrinakma', 'https://www.linkedin.com/in/nguyenbo', 'https://www.linkedin.com/in/joeytalia', 'https://www.linkedin.com/in/katherine-gan', 'https://www.linkedin.com/in/nithin-ravindra', 'https://www.linkedin.com/in/krishgujral', 'https://www.linkedin.com/in/irisghou', 'https://www.linkedin.com/in/rohit-john-joseph', 'https://www.linkedin.com/in/buckey-lee-7506ba283', 'https://www.linkedin.com/in/michlzhang', 'https://www.google.com/search?q=site:linkedin.com/in/+Education+is+UC+Berkeley+graduated+works+in+technical+product+manager&start=10', 'https://www.google.com/search?q=site:linkedin.com/in/+Education+is+UC+Berkeley+graduated+works+in+technical+product+manager&start=20', 'https://www.linkedin.com/in/david-zidong-zhu', 'https://www.linkedin.com/in/maham-bawaney-1b5755163', 'https://www.linkedin.com/in/michael-collins-3945105', 'https://www.linkedin.com/in/steven-williams-8927226', 'https://www.linkedin.com/in/adriellee', 'https://www.linkedin.com/in/ryan-lee-uc-berkeley', 'https://www.linkedin.com/in/adele-bloch-406786100', 'https://www.linkedin.com/in/alejandrapadillaa', 'https://www.linkedin.com/in/jakeelzinga', 'https://www.linkedin.com/in/katherinegerhardt', 'https://www.google.com/search?q=site:linkedin.com/in/+Education+is+UC+Berkeley+graduated+works+in+technical+product+manager&start=20', 'https://www.google.com/search?q=site:linkedin.com/in/+Education+is+UC+Berkeley+graduated+works+in+technical+product+manager&start=30', 'https://www.linkedin.com/in/nvaniyapun', 'https://www.linkedin.com/in/lindamutesi', 'https://www.linkedin.com/in/katie-gede?trk=people-guest_people_search-card', 'https://www.linkedin.com/in/dantealvaradoleon', 'https://www.linkedin.com/in/david-palomares-27b370130', 'https://www.linkedin.com/in/jakegreenberg1', 'https://www.linkedin.com/in/gerelee', 'https://www.linkedin.com/in/srividyaramamoorthy', 'https://www.linkedin.com/in/amandaleee', 'https://www.linkedin.com/in/winston-lins', 'https://www.google.com/search?q=site:linkedin.com/in/+Education+is+UC+Berkeley+graduated+works+in+technical+product+manager&start=30', 'https://www.google.com/search?q=site:linkedin.com/in/+Education+is+UC+Berkeley+graduated+works+in+technical+product+manager&start=40', 'https://www.linkedin.com/in/huayun-emily', 'https://www.linkedin.com/in/garrett-baltz-09a5461b9', 'https://www.linkedin.com/in/wesley-griggs', 'https://www.linkedin.com/in/tiffany-dai', 'https://www.linkedin.com/in/jade-m-clarke', 'https://www.linkedin.com/in/eolliff', 'https://www.linkedin.com/in/-joseph-vo', 'https://www.linkedin.com/in/timothyguan', 'https://www.linkedin.com/in/mary-na-nguyen', 'https://www.linkedin.com/in/richa-verma-berkeley', 'https://www.google.com/search?q=site:linkedin.com/in/+Education+is+UC+Berkeley+graduated+works+in+technical+product+manager&start=40', 'https://www.google.com/search?q=site:linkedin.com/in/+Education+is+UC+Berkeley+graduated+works+in+technical+product+manager&start=50', 'https://www.linkedin.com/in/nktrinh', 'https://www.linkedin.com/in/cynthialzhang', 'https://www.linkedin.com/in/michelle-karlsberg-a52391234', 'https://www.linkedin.com/in/amolak-preet-singh', 'https://www.linkedin.com/in/charleszgu', 'https://www.linkedin.com/in/muhammad-arsalan--', 'https://www.linkedin.com/in/vinay-patel-berkeley', 'https://www.linkedin.com/in/lingyu-zheng', 'https://www.linkedin.com/in/aayushsutaria', 'https://www.linkedin.com/in/anant--mishra', 'https://www.google.com/search?q=site:linkedin.com/in/+Education+is+UC+Berkeley+graduated+works+in+technical+product+manager&start=50', 'https://www.google.com/search?q=site:linkedin.com/in/+Education+is+UC+Berkeley+graduated+works+in+technical+product+manager&start=60', 'https://www.linkedin.com/in/abbymcscott', 'https://www.linkedin.com/in/rrachelchenn', 'https://www.linkedin.com/in/marshall-wu', 'https://www.linkedin.com/in/mariela-hernandez', 'https://www.linkedin.com/in/lexiepolevoi', 'https://www.linkedin.com/in/laurenksung', 'https://www.linkedin.com/in/aryanspmishra', 'https://www.linkedin.com/in/ethan-soe', 'https://www.linkedin.com/in/kyra-wong', 'https://www.linkedin.com/in/leslienoye', 'https://www.google.com/search?q=site:linkedin.com/in/+Education+is+UC+Berkeley+graduated+works+in+technical+product+manager&start=60', 'https://www.google.com/search?q=site:linkedin.com/in/+Education+is+UC+Berkeley+graduated+works+in+technical+product+manager&start=70', 'https://www.linkedin.com/in/shauryakalsi', 'https://www.linkedin.com/in/yujin-huh', 'https://www.linkedin.com/in/simone-sept', 'https://www.linkedin.com/in/devinasen', 'https://www.linkedin.com/in/monica--cortes', 'https://www.linkedin.com/in/isabelle-peloso', 'https://www.linkedin.com/in/evan-gao', 'https://www.linkedin.com/in/rebeccakandersen', 'https://www.linkedin.com/in/dianne-na-penn', 'https://www.linkedin.com/in/clement-kao', 'https://www.google.com/search?q=site:linkedin.com/in/+Education+is+UC+Berkeley+graduated+works+in+technical+product+manager&start=70', 'https://www.google.com/search?q=site:linkedin.com/in/+Education+is+UC+Berkeley+graduated+works+in+technical+product+manager&start=80', 'https://www.linkedin.com/in/ethanlchung', 'https://www.linkedin.com/in/evelynbchan', 'https://www.linkedin.com/in/zareen-khayrattee', 'https://www.linkedin.com/in/luis-morenor', 'https://www.linkedin.com/in/nipunjn', 'https://www.linkedin.com/in/isabel-zheng', 'https://www.linkedin.com/in/wmatta', 'https://www.linkedin.com/in/emily-chau-', 'https://www.linkedin.com/in/kapoorkanak', 'https://www.linkedin.com/in/tthvar', 'https://www.google.com/search?q=site:linkedin.com/in/+Education+is+UC+Berkeley+graduated+works+in+technical+product+manager&start=80', 'https://www.google.com/search?q=site:linkedin.com/in/+Education+is+UC+Berkeley+graduated+works+in+technical+product+manager&start=90', 'https://www.linkedin.com/in/chandniparijain', 'https://www.linkedin.com/in/saraviray', 'https://www.linkedin.com/in/melaniehsiang', 'https://www.linkedin.com/in/duncanbarcelona', 'https://www.linkedin.com/in/emfli', 'https://www.linkedin.com/in/archith-azhahiamanavalan', 'https://www.linkedin.com/in/nickjfarrell', 'https://www.linkedin.com/in/kenny-yoo', 'https://www.linkedin.com/in/lauren-mcb', 'https://www.linkedin.com/in/michael-cong-ha', 'https://www.google.com/search?q=site:linkedin.com/in/+Education+is+UC+Berkeley+graduated+works+in+technical+product+manager&start=90', 'https://www.google.com/search?q=site:linkedin.com/in/+Education+is+UC+Berkeley+graduated+works+in+technical+product+manager']\n"
     ]
    },
    {
     "data": {
      "text/plain": [
       "121"
      ]
     },
     "execution_count": 134,
     "metadata": {},
     "output_type": "execute_result"
    }
   ],
   "source": [
    "from pprint import pprint\n",
    "import requests\n",
    "payload = {\n",
    "    'source': 'google',\n",
    "    'url': 'https://www.google.com/search?q=site:linkedin.com/in/+Education+is+UC+Berkeley+graduated+works+in+technical+product+manager',\n",
    "    'parse': True,\n",
    "    'start_page': 1,\n",
    "    'pages': 10,\n",
    "}\n",
    "\n",
    "response = requests.request(\n",
    "    'POST',\n",
    "    'https://realtime.oxylabs.io/v1/queries',\n",
    "    auth=('satwikapaul_oZIdD', 'Fttkhcvnfttkhcvn6_'),\n",
    "    json=payload\n",
    ")\n",
    "\n",
    "pm2data = response.json()\n",
    "pm2data_linkedin_urls = extract_linkedin_urls(\n",
    "    pm2data)\n",
    "print(pm2data_linkedin_urls)\n",
    "len(pm2data_linkedin_urls)\n"
   ]
  },
  {
   "cell_type": "code",
   "execution_count": 135,
   "id": "ceb5b7e0-8932-4d98-9dbb-ce40f8df9668",
   "metadata": {},
   "outputs": [
    {
     "name": "stdout",
     "output_type": "stream",
     "text": [
      "['https://www.google.com/search?q=site:linkedin.com/in/+Education+is+UC+Berkeley+graduated+works+in+platform+product+manager', 'https://br.linkedin.com/in/christiannepoppi/en', 'https://www.linkedin.com/in/nithin-ravindra', 'https://www.linkedin.com/in/jspark28', 'https://br.linkedin.com/in/victor-fneves/en', 'https://www.linkedin.com/in/adele-bloch-406786100', 'https://br.linkedin.com/in/mslzposa/en', 'https://www.linkedin.com/in/richa-verma-berkeley', 'https://www.linkedin.com/in/ethan-soe', 'https://www.linkedin.com/in/winston-lins', 'https://www.linkedin.com/in/nehajacob', 'https://www.google.com/search?q=site:linkedin.com/in/+Education+is+UC+Berkeley+graduated+works+in+platform+product+manager', 'https://www.google.com/search?q=site:linkedin.com/in/+Education+is+UC+Berkeley+graduated+works+in+platform+product+manager&start=10', 'https://www.linkedin.com/in/clement-kao', 'https://www.linkedin.com/in/gerelee', 'https://www.linkedin.com/in/fkortolan', 'https://www.linkedin.com/in/tthvar', 'https://www.linkedin.com/in/lindamutesi', 'https://www.linkedin.com/in/emily-baytalsky', 'https://www.linkedin.com/in/sarahyoon1', 'https://www.linkedin.com/in/katherine-gan', 'https://www.linkedin.com/in/irisghou', 'https://www.linkedin.com/in/david-palomares-27b370130', 'https://www.google.com/search?q=site:linkedin.com/in/+Education+is+UC+Berkeley+graduated+works+in+platform+product+manager&start=10', 'https://www.google.com/search?q=site:linkedin.com/in/+Education+is+UC+Berkeley+graduated+works+in+platform+product+manager&start=20', 'https://www.linkedin.com/in/krishgujral', 'https://br.linkedin.com/in/camilacabralm/en', 'https://www.linkedin.com/in/srividyaramamoorthy', 'https://www.linkedin.com/in/shauryakalsi', 'https://www.linkedin.com/in/wei-zheng', 'https://www.linkedin.com/in/jakeelzinga', 'https://www.linkedin.com/in/cindyzhang7', 'https://www.linkedin.com/in/steven-williams-8927226', 'https://www.linkedin.com/in/nvaniyapun', 'https://www.linkedin.com/in/davidwang001', 'https://www.google.com/search?q=site:linkedin.com/in/+Education+is+UC+Berkeley+graduated+works+in+platform+product+manager&start=20', 'https://www.google.com/search?q=site:linkedin.com/in/+Education+is+UC+Berkeley+graduated+works+in+platform+product+manager&start=30', 'https://www.linkedin.com/in/andrea-benitez-', 'https://www.linkedin.com/in/francescagiovanna', 'https://www.linkedin.com/in/james-cerra', 'https://www.linkedin.com/in/alejandrapadillaa', 'https://www.linkedin.com/in/sabrinakma', 'https://www.linkedin.com/in/michlzhang', 'https://www.linkedin.com/in/georgelz', 'https://www.linkedin.com/in/rrachelchenn', 'https://www.linkedin.com/in/ccandrewcheng', 'https://www.linkedin.com/in/adriellee', 'https://www.google.com/search?q=site:linkedin.com/in/+Education+is+UC+Berkeley+graduated+works+in+platform+product+manager&start=30', 'https://www.google.com/search?q=site:linkedin.com/in/+Education+is+UC+Berkeley+graduated+works+in+platform+product+manager&start=40', 'https://www.linkedin.com/in/puneatsharma', 'https://www.linkedin.com/in/marshall-wu', 'https://www.linkedin.com/in/villaumbrosia', 'https://www.linkedin.com/in/aman-daga12', 'https://www.linkedin.com/in/nipunjn', 'https://www.linkedin.com/in/kenny-yoo', 'https://www.linkedin.com/in/nicole-camara-2b3386181', 'https://www.linkedin.com/in/eolliff', 'https://www.linkedin.com/in/lucas-kim-berkeley', 'https://www.linkedin.com/in/anant--mishra', 'https://www.google.com/search?q=site:linkedin.com/in/+Education+is+UC+Berkeley+graduated+works+in+platform+product+manager&start=40', 'https://www.google.com/search?q=site:linkedin.com/in/+Education+is+UC+Berkeley+graduated+works+in+platform+product+manager&start=50', 'https://www.linkedin.com/in/evan-gao', 'https://www.linkedin.com/in/katienli', 'https://www.linkedin.com/in/william-mitchell-wang', 'https://www.linkedin.com/in/cynthialzhang', 'https://www.linkedin.com/in/garrett-baltz-09a5461b9', 'https://www.linkedin.com/in/arpitaapandey', 'https://www.linkedin.com/in/clairetromblee', 'https://www.linkedin.com/in/nave-algarici', 'https://www.linkedin.com/in/samanthayang211', 'https://www.linkedin.com/in/dantealvaradoleon', 'https://www.google.com/search?q=site:linkedin.com/in/+Education+is+UC+Berkeley+graduated+works+in+platform+product+manager&start=50', 'https://www.google.com/search?q=site:linkedin.com/in/+Education+is+UC+Berkeley+graduated+works+in+platform+product+manager&start=60', 'https://ke.linkedin.com/in/wambugu', 'https://au.linkedin.com/in/beixuan', 'https://www.linkedin.com/in/ikjotk', 'https://www.linkedin.com/in/jtcio', 'https://cn.linkedin.com/in/hsuanchungchen', 'https://www.linkedin.com/in/zandervaux', 'https://www.linkedin.com/in/zhaopeng-cai/', 'https://www.linkedin.com/in/mikahyden', 'https://www.linkedin.com/in/sujguha', 'https://www.linkedin.com/in/xtinachen', 'https://www.google.com/search?q=site:linkedin.com/in/+Education+is+UC+Berkeley+graduated+works+in+platform+product+manager&start=60', 'https://www.google.com/search?q=site:linkedin.com/in/+Education+is+UC+Berkeley+graduated+works+in+platform+product+manager&start=70', 'https://www.linkedin.com/in/yu-ashley', 'https://www.linkedin.com/in/ronak-khandelwal', 'https://www.linkedin.com/in/ketaki-vaidya08', 'https://www.linkedin.com/in/kayla-darvin', 'https://www.linkedin.com/in/kystanleylin', 'https://www.linkedin.com/in/huynhchristina', 'https://www.linkedin.com/in/tara-kumar', 'https://www.linkedin.com/in/andrew-soncrant-4ba49b87', 'https://www.linkedin.com/in/yoleichen', 'https://www.linkedin.com/in/bradleywcollins', 'https://www.google.com/search?q=site:linkedin.com/in/+Education+is+UC+Berkeley+graduated+works+in+platform+product+manager&start=70', 'https://www.google.com/search?q=site:linkedin.com/in/+Education+is+UC+Berkeley+graduated+works+in+platform+product+manager&start=80', 'https://www.linkedin.com/in/chinlu', 'https://www.linkedin.com/in/dianas', 'https://www.linkedin.com/in/garimadhingra', 'https://www.linkedin.com/in/xueyanucla', 'https://www.linkedin.com/in/ayushirajbhatt', 'https://www.linkedin.com/in/derekwzheng', 'https://www.linkedin.com/in/divyesha-malhotra', 'https://www.linkedin.com/in/neel-a-mehta', 'https://www.linkedin.com/in/-joseph-vo', 'https://www.linkedin.com/in/itsmorganyoung', 'https://www.google.com/search?q=site:linkedin.com/in/+Education+is+UC+Berkeley+graduated+works+in+platform+product+manager&start=80', 'https://www.google.com/search?q=site:linkedin.com/in/+Education+is+UC+Berkeley+graduated+works+in+platform+product+manager&start=90', 'https://www.linkedin.com/in/amandaleee', 'https://rs.linkedin.com/in/kirill-fedotov', 'https://www.linkedin.com/in/vera--wong', 'https://www.linkedin.com/in/lokesh-mandava', 'https://www.linkedin.com/in/sangeethamani', 'https://www.linkedin.com/in/jahnaviudayshah', 'https://www.linkedin.com/in/meera-vinod', 'https://www.linkedin.com/in/gotjennie', 'https://www.linkedin.com/in/danbyler', 'https://www.linkedin.com/in/justin-buchanan', 'https://www.google.com/search?q=site:linkedin.com/in/+Education+is+UC+Berkeley+graduated+works+in+platform+product+manager&start=90', 'https://www.google.com/search?q=site:linkedin.com/in/+Education+is+UC+Berkeley+graduated+works+in+platform+product+manager']\n"
     ]
    },
    {
     "data": {
      "text/plain": [
       "121"
      ]
     },
     "execution_count": 135,
     "metadata": {},
     "output_type": "execute_result"
    }
   ],
   "source": [
    "from pprint import pprint\n",
    "import requests\n",
    "payload = {\n",
    "    'source': 'google',\n",
    "    'url': 'https://www.google.com/search?q=site:linkedin.com/in/+Education+is+UC+Berkeley+graduated+works+in+platform+product+manager',\n",
    "    'parse': True,\n",
    "    'start_page': 1,\n",
    "    'pages': 10,\n",
    "}\n",
    "\n",
    "response = requests.request(\n",
    "    'POST',\n",
    "    'https://realtime.oxylabs.io/v1/queries',\n",
    "    auth=('satwikapaul_oZIdD', 'Fttkhcvnfttkhcvn6_'),\n",
    "    json=payload\n",
    ")\n",
    "\n",
    "pm3data = response.json()\n",
    "pm3data_linkedin_urls = extract_linkedin_urls(\n",
    "    pm3data)\n",
    "print(pm3data_linkedin_urls)\n",
    "len(pm3data_linkedin_urls)\n"
   ]
  },
  {
   "cell_type": "code",
   "execution_count": 136,
   "id": "e9cc5d82-44ae-452c-84ac-66a85b534a59",
   "metadata": {},
   "outputs": [
    {
     "name": "stdout",
     "output_type": "stream",
     "text": [
      "['https://www.google.com/search?q=site:linkedin.com/in/+Education+is+UC+Berkeley+graduated+works+in+associate+product+manager', 'https://www.linkedin.com/in/nehajacob', 'https://www.linkedin.com/in/emfli', 'https://www.linkedin.com/in/alejandrapadillaa', 'https://www.linkedin.com/in/jaimemendozar', 'https://www.linkedin.com/in/archith-azhahiamanavalan', 'https://www.linkedin.com/in/jamie-say', 'https://www.linkedin.com/in/lauren-mcb', 'https://www.linkedin.com/in/andrearwang', 'https://www.linkedin.com/in/sarahyoon1', 'https://in.linkedin.com/in/nikita-nachnani-569571104', 'https://www.google.com/search?q=site:linkedin.com/in/+Education+is+UC+Berkeley+graduated+works+in+associate+product+manager', 'https://www.google.com/search?q=site:linkedin.com/in/+Education+is+UC+Berkeley+graduated+works+in+associate+product+manager&start=10', 'https://www.linkedin.com/in/christopher-zheng', 'https://www.linkedin.com/in/audreyyma', 'https://www.linkedin.com/in/jkulas', 'https://in.linkedin.com/in/nikita-nachnani-569571104', 'https://www.linkedin.com/in/nithin-ravindra', 'https://www.linkedin.com/in/anizhang', 'https://www.linkedin.com/in/caira-johnson', 'https://www.linkedin.com/in/nazanin-m-9a89b017a', 'https://www.linkedin.com/in/shirleywang57', 'https://www.linkedin.com/in/jspark28', 'https://www.google.com/search?q=site:linkedin.com/in/+Education+is+UC+Berkeley+graduated+works+in+associate+product+manager&start=10', 'https://www.google.com/search?q=site:linkedin.com/in/+Education+is+UC+Berkeley+graduated+works+in+associate+product+manager&start=20', 'https://www.linkedin.com/in/james-cerra', 'https://www.linkedin.com/in/katherine-gan', 'https://www.linkedin.com/in/kyra-wong', 'https://www.linkedin.com/in/ketaki-vaidya08', 'https://www.linkedin.com/in/ethan-soe', 'https://www.linkedin.com/in/laurenksung', 'https://www.linkedin.com/in/seth-thomas-31851b332', 'https://www.linkedin.com/in/lindseycmurphy', 'https://www.linkedin.com/in/brenda-vuong', 'https://www.linkedin.com/in/jakegreenberg1', 'https://www.google.com/search?q=site:linkedin.com/in/+Education+is+UC+Berkeley+graduated+works+in+associate+product+manager&start=20', 'https://www.google.com/search?q=site:linkedin.com/in/+Education+is+UC+Berkeley+graduated+works+in+associate+product+manager&start=30', 'https://www.linkedin.com/in/rrachelchenn', 'https://www.linkedin.com/in/david-palomares-27b370130', 'https://www.linkedin.com/in/jade-m-clarke', 'https://www.linkedin.com/in/kenny-yoo', 'https://www.linkedin.com/in/anna-chavez-590242161', 'https://www.linkedin.com/in/marshall-wu', 'https://www.linkedin.com/in/francescagiovanna', 'https://www.linkedin.com/in/anant--mishra', 'https://www.linkedin.com/in/wei-zheng', 'https://www.linkedin.com/in/joeytalia', 'https://www.google.com/search?q=site:linkedin.com/in/+Education+is+UC+Berkeley+graduated+works+in+associate+product+manager&start=30', 'https://www.google.com/search?q=site:linkedin.com/in/+Education+is+UC+Berkeley+graduated+works+in+associate+product+manager&start=40', 'https://www.linkedin.com/in/tthvar', 'https://www.linkedin.com/in/yu-ashley', 'https://www.linkedin.com/in/audreyyma', 'https://www.linkedin.com/in/mgalemmo', 'https://www.linkedin.com/in/amolak-preet-singh', 'https://www.linkedin.com/in/graceroseman', 'https://www.linkedin.com/in/gotjennie', 'https://www.linkedin.com/in/ccandrewcheng', 'https://www.linkedin.com/in/ryan-dudak', 'https://www.linkedin.com/in/aileen-ghosh', 'https://www.google.com/search?q=site:linkedin.com/in/+Education+is+UC+Berkeley+graduated+works+in+associate+product+manager&start=40', 'https://www.google.com/search?q=site:linkedin.com/in/+Education+is+UC+Berkeley+graduated+works+in+associate+product+manager&start=50', 'https://www.linkedin.com/in/aileen-ghosh', 'https://www.linkedin.com/in/manujohnn', 'https://www.linkedin.com/in/mikahyden', 'https://www.linkedin.com/in/awang22', 'https://www.linkedin.com/in/jtcio', 'https://www.linkedin.com/in/anya-pendyala', 'https://www.linkedin.com/in/itsmorganyoung', 'https://www.linkedin.com/in/sreya-maram', 'https://www.linkedin.com/in/selenashang', 'https://www.linkedin.com/in/manahil-shah', 'https://www.google.com/search?q=site:linkedin.com/in/+Education+is+UC+Berkeley+graduated+works+in+associate+product+manager&start=50', 'https://www.google.com/search?q=site:linkedin.com/in/+Education+is+UC+Berkeley+graduated+works+in+associate+product+manager&start=60', 'https://www.linkedin.com/in/jasminecliu', 'https://www.linkedin.com/in/antje-enders-938ab280', 'https://www.linkedin.com/in/ikjotk', 'https://www.linkedin.com/in/lucasomori', 'https://www.linkedin.com/in/evan-gao', 'https://www.linkedin.com/in/mayowa-borisade-23060813a', 'https://www.linkedin.com/in/torifukumitsu', 'https://in.linkedin.com/in/vikrant-singh-704664102', 'https://www.linkedin.com/in/sabrinakma', 'https://www.linkedin.com/in/clairetromblee', 'https://www.google.com/search?q=site:linkedin.com/in/+Education+is+UC+Berkeley+graduated+works+in+associate+product+manager&start=60', 'https://www.google.com/search?q=site:linkedin.com/in/+Education+is+UC+Berkeley+graduated+works+in+associate+product+manager&start=70', 'https://www.linkedin.com/in/arpitaapandey', 'https://www.linkedin.com/in/andrew-snyder2', 'https://au.linkedin.com/in/beixuan', 'https://www.linkedin.com/in/evan-gao', 'https://www.linkedin.com/in/courtney-l-mazzulla', 'https://www.linkedin.com/in/eric-chee', 'https://www.linkedin.com/in/jahnaviudayshah', 'https://www.linkedin.com/in/priscillamendoza', 'https://www.linkedin.com/in/sophiexu99', 'https://www.linkedin.com/in/rei-yi-lai', 'https://www.google.com/search?q=site:linkedin.com/in/+Education+is+UC+Berkeley+graduated+works+in+associate+product+manager&start=70', 'https://www.google.com/search?q=site:linkedin.com/in/+Education+is+UC+Berkeley+graduated+works+in+associate+product+manager&start=80', 'https://www.linkedin.com/in/mary-na-nguyen', 'https://www.linkedin.com/in/courtneysmith99', 'https://www.linkedin.com/in/taylor-r-page', 'https://www.linkedin.com/in/rebeccadurr', 'https://www.linkedin.com/in/will-h-073123133/', 'https://www.linkedin.com/in/nave-algarici', 'https://www.linkedin.com/in/laraibnbaig', 'https://www.linkedin.com/in/meera-vinod', 'https://www.linkedin.com/in/pupt', 'https://www.linkedin.com/in/michelle203', 'https://www.google.com/search?q=site:linkedin.com/in/+Education+is+UC+Berkeley+graduated+works+in+associate+product+manager&start=80', 'https://www.google.com/search?q=site:linkedin.com/in/+Education+is+UC+Berkeley+graduated+works+in+associate+product+manager&start=90', 'https://www.linkedin.com/in/michelle203', 'https://www.linkedin.com/in/hutchinson-andrew', 'https://www.linkedin.com/in/richardfleming5', 'https://www.linkedin.com/in/huyl', 'https://www.linkedin.com/in/ibalajibhaskar', 'https://www.linkedin.com/in/rubin-r', 'https://www.linkedin.com/in/courtneychan', 'https://www.linkedin.com/in/justin-buchanan', 'https://www.linkedin.com/in/joshua-kalampanayil', 'https://www.linkedin.com/in/balajialwar', 'https://www.google.com/search?q=site:linkedin.com/in/+Education+is+UC+Berkeley+graduated+works+in+associate+product+manager&start=90', 'https://www.google.com/search?q=site:linkedin.com/in/+Education+is+UC+Berkeley+graduated+works+in+associate+product+manager']\n"
     ]
    },
    {
     "data": {
      "text/plain": [
       "121"
      ]
     },
     "execution_count": 136,
     "metadata": {},
     "output_type": "execute_result"
    }
   ],
   "source": [
    "from pprint import pprint\n",
    "import requests\n",
    "payload = {\n",
    "    'source': 'google',\n",
    "    'url': 'https://www.google.com/search?q=site:linkedin.com/in/+Education+is+UC+Berkeley+graduated+works+in+associate+product+manager',\n",
    "    'parse': True,\n",
    "    'start_page': 1,\n",
    "    'pages': 10,\n",
    "}\n",
    "\n",
    "response = requests.request(\n",
    "    'POST',\n",
    "    'https://realtime.oxylabs.io/v1/queries',\n",
    "    auth=('satwikapaul_oZIdD', 'Fttkhcvnfttkhcvn6_'),\n",
    "    json=payload\n",
    ")\n",
    "\n",
    "pm4data = response.json()\n",
    "pm4data_linkedin_urls = extract_linkedin_urls(\n",
    "    pm4data)\n",
    "print(pm4data_linkedin_urls)\n",
    "len(pm4data_linkedin_urls)\n"
   ]
  },
  {
   "cell_type": "code",
   "execution_count": 138,
   "id": "24b53af2-e716-418a-b722-669b3338f12a",
   "metadata": {},
   "outputs": [
    {
     "name": "stdout",
     "output_type": "stream",
     "text": [
      "['https://www.google.com/search?q=site:linkedin.com/in/+Education+is+UC+Berkeley+graduated+works+in+AI+product+manager', 'https://www.linkedin.com/in/lindamutesi', 'https://www.linkedin.com/in/nave-algarici', 'https://www.linkedin.com/in/meera-vinod', 'https://www.linkedin.com/in/alanwlin', 'https://www.linkedin.com/in/adele-bloch-406786100', 'https://www.linkedin.com/in/nithin-ravindra', 'https://www.linkedin.com/in/clement-kao', 'https://www.linkedin.com/in/katherine-gan', 'https://www.linkedin.com/in/tthvar', 'https://www.linkedin.com/in/namrita-baru', 'https://www.google.com/search?q=site:linkedin.com/in/+Education+is+UC+Berkeley+graduated+works+in+AI+product+manager', 'https://www.google.com/search?q=site:linkedin.com/in/+Education+is+UC+Berkeley+graduated+works+in+AI+product+manager&start=10', 'https://www.linkedin.com/in/jspark28', 'https://www.linkedin.com/in/krishgujral', 'https://www.linkedin.com/in/shreena-santosh-bhati', 'https://www.linkedin.com/in/aigerim-kurmanbekova', 'https://in.linkedin.com/in/beyondsharma', 'https://www.linkedin.com/in/sujguha', 'https://www.linkedin.com/in/emily-baytalsky', 'https://www.linkedin.com/in/amy-mathews08', 'https://www.linkedin.com/in/james-cerra', 'https://www.linkedin.com/in/sophiahhuang', 'https://www.google.com/search?q=site:linkedin.com/in/+Education+is+UC+Berkeley+graduated+works+in+AI+product+manager&start=10', 'https://www.google.com/search?q=site:linkedin.com/in/+Education+is+UC+Berkeley+graduated+works+in+AI+product+manager&start=20', 'https://www.linkedin.com/in/eric-chen-542b72127', 'https://www.linkedin.com/in/jeremy-vale-896bb5110', 'https://www.linkedin.com/in/preethi-ml-40501a108', 'https://www.linkedin.com/in/maham-bawaney-1b5755163', 'https://www.linkedin.com/in/richa-verma-berkeley', 'https://www.linkedin.com/in/alejandrapadillaa', 'https://www.linkedin.com/in/michlzhang', 'https://www.linkedin.com/in/sarahyoon1', 'https://www.linkedin.com/in/daley-vertiz', 'https://www.linkedin.com/in/gerelee', 'https://www.google.com/search?q=site:linkedin.com/in/+Education+is+UC+Berkeley+graduated+works+in+AI+product+manager&start=20', 'https://www.google.com/search?q=site:linkedin.com/in/+Education+is+UC+Berkeley+graduated+works+in+AI+product+manager&start=30', 'https://www.linkedin.com/in/ye-zhu-spm', 'https://www.linkedin.com/in/david-palomares-27b370130', 'https://www.linkedin.com/in/kystanleylin', 'https://www.linkedin.com/in/n-juarez', 'https://www.linkedin.com/in/sydney-karimi-6425b01a5', 'https://www.linkedin.com/in/cynthialzhang', 'https://www.linkedin.com/in/coco-dana-a9720a133', 'https://www.linkedin.com/in/adriellee', 'https://www.linkedin.com/in/emfli', 'https://www.linkedin.com/in/irisghou', 'https://www.google.com/search?q=site:linkedin.com/in/+Education+is+UC+Berkeley+graduated+works+in+AI+product+manager&start=30', 'https://www.google.com/search?q=site:linkedin.com/in/+Education+is+UC+Berkeley+graduated+works+in+AI+product+manager&start=40', 'https://www.linkedin.com/in/cindyzhang7', 'https://www.linkedin.com/in/nehajacob', 'https://www.linkedin.com/in/anna-chavez-590242161', 'https://www.linkedin.com/in/sabrinakma', 'https://www.linkedin.com/in/wei-zheng', 'https://www.linkedin.com/in/ccandrewcheng', 'https://www.linkedin.com/in/huiminyang', 'https://www.linkedin.com/in/kapoorkanak', 'https://www.linkedin.com/in/timothyguan', 'https://www.linkedin.com/in/katie-gede?trk=people-guest_people_search-card', 'https://www.google.com/search?q=site:linkedin.com/in/+Education+is+UC+Berkeley+graduated+works+in+AI+product+manager&start=40', 'https://www.google.com/search?q=site:linkedin.com/in/+Education+is+UC+Berkeley+graduated+works+in+AI+product+manager&start=50', 'https://www.linkedin.com/in/lexiepolevoi', 'https://www.linkedin.com/in/nickjfarrell', 'https://www.linkedin.com/in/lauren-mcb', 'https://www.linkedin.com/in/eolliff', 'https://www.linkedin.com/in/steven-williams-8927226', 'https://www.linkedin.com/in/marshall-wu', 'https://www.linkedin.com/in/michelle-karlsberg-a52391234', 'https://www.linkedin.com/in/vera--wong', 'https://www.linkedin.com/in/pamela-gleason-0969775', 'https://es.linkedin.com/in/rafael-braga-costa-296320190/en', 'https://www.google.com/search?q=site:linkedin.com/in/+Education+is+UC+Berkeley+graduated+works+in+AI+product+manager&start=50', 'https://www.google.com/search?q=site:linkedin.com/in/+Education+is+UC+Berkeley+graduated+works+in+AI+product+manager&start=60', 'https://ke.linkedin.com/in/wambugu', 'https://www.linkedin.com/in/nicole-camara-2b3386181', 'https://www.linkedin.com/in/jtcio', 'https://www.linkedin.com/in/courtney-l-mazzulla', 'https://www.linkedin.com/in/ketaki-vaidya08', 'https://rs.linkedin.com/in/kirill-fedotov', 'https://www.linkedin.com/in/ayushirajbhatt', 'https://www.linkedin.com/in/yu-ashley', 'https://www.linkedin.com/in/mihirmathur1', 'https://www.linkedin.com/in/reeshavkumar', 'https://www.google.com/search?q=site:linkedin.com/in/+Education+is+UC+Berkeley+graduated+works+in+AI+product+manager&start=60', 'https://www.google.com/search?q=site:linkedin.com/in/+Education+is+UC+Berkeley+graduated+works+in+AI+product+manager&start=70', 'https://www.linkedin.com/in/elena-chen', 'https://www.linkedin.com/in/katienli', 'https://www.linkedin.com/in/alejandrofferreiro', 'https://www.linkedin.com/in/vijay-kumar-prakash', 'https://www.linkedin.com/in/yoleichen', 'https://no.linkedin.com/in/rebecca-hile-72164254', 'https://cn.linkedin.com/in/hsuanchungchen', 'https://www.linkedin.com/in/graceroseman', 'https://www.linkedin.com/in/villaumbrosia', 'https://www.linkedin.com/in/li-hong-norcal', 'https://www.google.com/search?q=site:linkedin.com/in/+Education+is+UC+Berkeley+graduated+works+in+AI+product+manager&start=70', 'https://www.google.com/search?q=site:linkedin.com/in/+Education+is+UC+Berkeley+graduated+works+in+AI+product+manager&start=80', 'https://www.linkedin.com/in/pamela-gleason-0969775', 'https://www.linkedin.com/in/nicole-camara-2b3386181', 'https://www.linkedin.com/in/krishgujral', 'https://www.linkedin.com/in/neel-a-mehta', 'https://www.linkedin.com/in/viviennejiaozhang', 'https://www.linkedin.com/in/bfunkeml', 'https://www.linkedin.com/in/wendy-jeon', 'https://es.linkedin.com/in/noahgift/es', 'https://www.linkedin.com/in/xtinachen', 'https://in.linkedin.com/in/bikramjeetsingh9', 'https://www.linkedin.com/in/derekwzheng', 'https://www.linkedin.com/in/samantha-chean-udell-0b498a140', 'https://www.google.com/search?q=site:linkedin.com/in/+Education+is+UC+Berkeley+graduated+works+in+AI+product+manager&start=80', 'https://www.google.com/search?q=site:linkedin.com/in/+Education+is+UC+Berkeley+graduated+works+in+AI+product+manager&start=90', 'https://www.linkedin.com/in/ananya-ani-poddar', 'https://www.linkedin.com/in/andrew-soncrant-4ba49b87', 'https://www.linkedin.com/in/dianne-na-penn', 'https://www.linkedin.com/in/ikjotk', 'https://pe.linkedin.com/in/micaelablondet', 'https://www.linkedin.com/in/shanabe', 'https://www.linkedin.com/in/ginnyperkey', 'https://www.linkedin.com/in/fiona-yang-funing', 'https://www.linkedin.com/in/nicholashuangyn', 'https://www.linkedin.com/in/dhavalbhatt', 'https://www.google.com/search?q=site:linkedin.com/in/+Education+is+UC+Berkeley+graduated+works+in+AI+product+manager&start=90', 'https://www.google.com/search?q=site:linkedin.com/in/+Education+is+UC+Berkeley+graduated+works+in+AI+product+manager']\n"
     ]
    },
    {
     "data": {
      "text/plain": [
       "123"
      ]
     },
     "execution_count": 138,
     "metadata": {},
     "output_type": "execute_result"
    }
   ],
   "source": [
    "from pprint import pprint\n",
    "import requests\n",
    "payload = {\n",
    "    'source': 'google',\n",
    "    'url': 'https://www.google.com/search?q=site:linkedin.com/in/+Education+is+UC+Berkeley+graduated+works+in+AI+product+manager',\n",
    "    'parse': True,\n",
    "    'start_page': 1,\n",
    "    'pages': 10,\n",
    "}\n",
    "\n",
    "response = requests.request(\n",
    "    'POST',\n",
    "    'https://realtime.oxylabs.io/v1/queries',\n",
    "    auth=('satwikapaul_oZIdD', 'Fttkhcvnfttkhcvn6_'),\n",
    "    json=payload\n",
    ")\n",
    "\n",
    "pm5data = response.json()\n",
    "pm5data_linkedin_urls = extract_linkedin_urls(\n",
    "    pm5data)\n",
    "print(pm5data_linkedin_urls)\n",
    "len(pm5data_linkedin_urls)\n"
   ]
  },
  {
   "cell_type": "code",
   "execution_count": 139,
   "id": "d97a77f7-951e-4d95-9632-a541d724cb31",
   "metadata": {},
   "outputs": [
    {
     "name": "stdout",
     "output_type": "stream",
     "text": [
      "['https://www.google.com/search?q=site:linkedin.com/in/+Education+is+UC+Berkeley+graduated+works+in+growth+product+manager', 'https://www.linkedin.com/in/nithin-ravindra', 'https://www.linkedin.com/in/kyra-wong', 'https://www.linkedin.com/in/sujguha', 'https://www.linkedin.com/in/meera-vinod', 'https://www.linkedin.com/in/gerelee', 'https://www.linkedin.com/in/adele-bloch-406786100', 'https://www.linkedin.com/in/richa-verma-berkeley', 'https://www.linkedin.com/in/shreena-santosh-bhati', 'https://au.linkedin.com/in/beixuan', 'https://www.linkedin.com/in/nehajacob', 'https://www.google.com/search?q=site:linkedin.com/in/+Education+is+UC+Berkeley+graduated+works+in+growth+product+manager', 'https://www.google.com/search?q=site:linkedin.com/in/+Education+is+UC+Berkeley+graduated+works+in+growth+product+manager&start=10', 'https://ke.linkedin.com/in/wambugu', 'https://www.linkedin.com/in/jtcio', 'https://www.linkedin.com/in/jspark28', 'https://www.linkedin.com/in/clement-kao', 'https://www.linkedin.com/in/david-palomares-27b370130', 'https://www.linkedin.com/in/k-pat?trk=people-guest_people_search-card', 'https://www.linkedin.com/in/eric-chen-542b72127', 'https://www.linkedin.com/in/dayanara-munoz04', 'https://www.linkedin.com/in/abhishekkumarli', 'https://www.linkedin.com/in/nvaniyapun', 'https://www.google.com/search?q=site:linkedin.com/in/+Education+is+UC+Berkeley+graduated+works+in+growth+product+manager&start=10', 'https://www.google.com/search?q=site:linkedin.com/in/+Education+is+UC+Berkeley+graduated+works+in+growth+product+manager&start=20', 'https://www.linkedin.com/in/jakeelzinga', 'https://www.linkedin.com/in/emily-baytalsky', 'https://www.linkedin.com/in/lindamutesi', 'https://www.linkedin.com/in/davidwang001', 'https://www.linkedin.com/in/ethan-soe', 'https://www.linkedin.com/in/sonnyc', 'https://www.linkedin.com/in/rrachelchenn', 'https://uk.linkedin.com/in/max-gurassa', 'https://www.linkedin.com/in/francescagiovanna', 'https://www.linkedin.com/in/james-cerra', 'https://www.google.com/search?q=site:linkedin.com/in/+Education+is+UC+Berkeley+graduated+works+in+growth+product+manager&start=20', 'https://www.google.com/search?q=site:linkedin.com/in/+Education+is+UC+Berkeley+graduated+works+in+growth+product+manager&start=30', 'https://www.linkedin.com/in/graceroseman', 'https://www.linkedin.com/in/anna-chavez-590242161', 'https://www.linkedin.com/in/sarahyoon1', 'https://www.linkedin.com/in/wei-zheng', 'https://www.linkedin.com/in/amolak-preet-singh', 'https://www.linkedin.com/in/laurenksung', 'https://cn.linkedin.com/in/yaohuang1', 'https://www.linkedin.com/in/irisghou', 'https://www.linkedin.com/in/winston-lins', 'https://www.linkedin.com/in/nguyenbo', 'https://www.google.com/search?q=site:linkedin.com/in/+Education+is+UC+Berkeley+graduated+works+in+growth+product+manager&start=30', 'https://www.google.com/search?q=site:linkedin.com/in/+Education+is+UC+Berkeley+graduated+works+in+growth+product+manager&start=40', 'https://www.linkedin.com/in/villaumbrosia', 'https://www.linkedin.com/in/emfli', 'https://www.linkedin.com/in/ccandrewcheng', 'https://www.linkedin.com/in/lexiepolevoi', 'https://www.linkedin.com/in/jade-m-clarke', 'https://www.linkedin.com/in/seanluvian', 'https://www.linkedin.com/in/puneatsharma', 'https://www.linkedin.com/in/adriellee', 'https://www.linkedin.com/in/mary-na-nguyen', 'https://www.linkedin.com/in/michlzhang', 'https://www.google.com/search?q=site:linkedin.com/in/+Education+is+UC+Berkeley+graduated+works+in+growth+product+manager&start=40', 'https://www.google.com/search?q=site:linkedin.com/in/+Education+is+UC+Berkeley+graduated+works+in+growth+product+manager&start=50', 'https://www.linkedin.com/in/katienli', 'https://www.linkedin.com/in/pamela-gleason-0969775', 'https://www.linkedin.com/in/james-oxnard-67322644', 'https://www.linkedin.com/in/jackson-ridl-20709376', 'https://be.linkedin.com/in/carlota-munoz-ruiz/es?trk=public_post_feed-actor-name', 'https://www.linkedin.com/in/katie-gede?trk=people-guest_people_search-card', 'https://www.linkedin.com/in/timothyguan', 'https://www.linkedin.com/in/brenda-vuong', 'https://www.linkedin.com/in/nktrinh', 'https://www.linkedin.com/in/lucas-kim-berkeley', 'https://www.google.com/search?q=site:linkedin.com/in/+Education+is+UC+Berkeley+graduated+works+in+growth+product+manager&start=50', 'https://www.google.com/search?q=site:linkedin.com/in/+Education+is+UC+Berkeley+graduated+works+in+growth+product+manager&start=60', 'https://www.linkedin.com/in/abbymcscott', 'https://www.linkedin.com/in/clairetromblee', 'https://ca.linkedin.com/in/yolanda-yan-zhu?trk=people-guest_people_search-card', 'https://www.linkedin.com/in/ellentrader', 'https://www.linkedin.com/in/marshall-wu', 'https://www.linkedin.com/in/mgalemmo', 'https://www.linkedin.com/in/arpitaapandey', 'https://www.linkedin.com/in/anant--mishra', 'https://cn.linkedin.com/in/ryan-qiao-b00b9030?trk=prof-samename-name', 'https://www.linkedin.com/in/dianne-na-penn', 'https://www.google.com/search?q=site:linkedin.com/in/+Education+is+UC+Berkeley+graduated+works+in+growth+product+manager&start=60', 'https://www.google.com/search?q=site:linkedin.com/in/+Education+is+UC+Berkeley+graduated+works+in+growth+product+manager&start=70', 'https://www.linkedin.com/in/kyra-wong', 'https://uk.linkedin.com/in/max-gurassa', 'https://www.linkedin.com/in/anna-chavez-590242161', 'https://hk.linkedin.com/in/adnansaeed-productmanagement/ms?trk=public_post_main-feed-card_reshare-text', 'https://www.linkedin.com/in/gabriela-trujilllo', 'https://www.linkedin.com/in/dantealvaradoleon', 'https://www.linkedin.com/in/dianas', 'https://www.linkedin.com/in/justin-buchanan', 'https://ae.linkedin.com/in/o-young', 'https://af.linkedin.com/in/johnny-lin-71aa6527', 'https://cn.linkedin.com/in/yixing-lu-58993813a', 'https://www.linkedin.com/in/aigerim-kurmanbekova', 'https://www.google.com/search?q=site:linkedin.com/in/+Education+is+UC+Berkeley+graduated+works+in+growth+product+manager&start=70', 'https://www.google.com/search?q=site:linkedin.com/in/+Education+is+UC+Berkeley+graduated+works+in+growth+product+manager&start=80', 'https://www.linkedin.com/in/anminhphan', 'https://ar.linkedin.com/in/elgildegerard/en', 'https://sg.linkedin.com/in/jason-xu-86a4b71b8', 'https://www.linkedin.com/in/huynhchristina', 'https://www.linkedin.com/in/xtinachen', 'https://www.linkedin.com/in/nicole-camara-2b3386181', 'https://www.linkedin.com/in/fiona-yang-funing', 'https://www.linkedin.com/in/nicholashuangyn', 'https://www.linkedin.com/in/bikram-arora-0a875b97', 'https://www.linkedin.com/in/yu-ashley', 'https://www.google.com/search?q=site:linkedin.com/in/+Education+is+UC+Berkeley+graduated+works+in+growth+product+manager&start=80', 'https://www.google.com/search?q=site:linkedin.com/in/+Education+is+UC+Berkeley+graduated+works+in+growth+product+manager&start=90', 'https://www.linkedin.com/in/kishor-subedi-86787b133', 'https://www.linkedin.com/in/sundarkalpana', 'https://www.linkedin.com/in/mattyao', 'https://www.linkedin.com/in/daley-vertiz', 'https://www.linkedin.com/in/mihirmathur1', 'https://cn.linkedin.com/in/junguliu', 'https://nl.linkedin.com/in/siyuan-wang-43a24a227/zh-cn', 'https://www.linkedin.com/in/geoffmasterson', 'https://www.linkedin.com/in/reeshavkumar', 'https://www.linkedin.com/in/itsmorganyoung', 'https://www.google.com/search?q=site:linkedin.com/in/+Education+is+UC+Berkeley+graduated+works+in+growth+product+manager&start=90', 'https://www.google.com/search?q=site:linkedin.com/in/+Education+is+UC+Berkeley+graduated+works+in+growth+product+manager']\n"
     ]
    },
    {
     "data": {
      "text/plain": [
       "123"
      ]
     },
     "execution_count": 139,
     "metadata": {},
     "output_type": "execute_result"
    }
   ],
   "source": [
    "from pprint import pprint\n",
    "import requests\n",
    "payload = {\n",
    "    'source': 'google',\n",
    "    'url': 'https://www.google.com/search?q=site:linkedin.com/in/+Education+is+UC+Berkeley+graduated+works+in+growth+product+manager',\n",
    "    'parse': True,\n",
    "    'start_page': 1,\n",
    "    'pages': 10,\n",
    "}\n",
    "\n",
    "response = requests.request(\n",
    "    'POST',\n",
    "    'https://realtime.oxylabs.io/v1/queries',\n",
    "    auth=('satwikapaul_oZIdD', 'Fttkhcvnfttkhcvn6_'),\n",
    "    json=payload\n",
    ")\n",
    "\n",
    "pm6data = response.json()\n",
    "pm6data_linkedin_urls = extract_linkedin_urls(\n",
    "    pm6data)\n",
    "print(pm6data_linkedin_urls)\n",
    "len(pm6data_linkedin_urls)\n"
   ]
  },
  {
   "cell_type": "code",
   "execution_count": 140,
   "id": "b65758d0-5e48-43af-a131-37abb945a0fe",
   "metadata": {},
   "outputs": [
    {
     "name": "stdout",
     "output_type": "stream",
     "text": [
      "['https://www.google.com/search?q=site:linkedin.com/in/+Education+is+UC+Berkeley+graduated+works+in+data+product+manager', 'https://www.linkedin.com/in/emily-baytalsky', 'https://www.linkedin.com/in/younghoonoh', 'https://www.linkedin.com/in/katherine-gan', 'https://www.linkedin.com/in/maham-bawaney-1b5755163', 'https://www.linkedin.com/in/kyra-wong', 'https://www.linkedin.com/in/jspark28', 'https://www.linkedin.com/in/krishgujral', 'https://www.linkedin.com/in/katie-gede?trk=people-guest_people_search-card', 'https://www.linkedin.com/in/sarahyoon1', 'https://www.linkedin.com/in/nehajacob', 'https://www.google.com/search?q=site:linkedin.com/in/+Education+is+UC+Berkeley+graduated+works+in+data+product+manager', 'https://www.google.com/search?q=site:linkedin.com/in/+Education+is+UC+Berkeley+graduated+works+in+data+product+manager&start=10', 'https://www.linkedin.com/in/nehajacob', 'https://www.linkedin.com/in/lindamutesi', 'https://www.linkedin.com/in/tiffany-dai', 'https://www.linkedin.com/in/ryan-lee-uc-berkeley', 'https://www.linkedin.com/in/graceroseman', 'https://www.linkedin.com/in/alejandrapadillaa', 'https://www.linkedin.com/in/katie-gede?trk=people-guest_people_search-card', 'https://www.linkedin.com/in/adele-bloch-406786100', 'https://www.linkedin.com/in/rrachelchenn', 'https://www.linkedin.com/in/sabrinakma', 'https://www.google.com/search?q=site:linkedin.com/in/+Education+is+UC+Berkeley+graduated+works+in+data+product+manager&start=10', 'https://www.google.com/search?q=site:linkedin.com/in/+Education+is+UC+Berkeley+graduated+works+in+data+product+manager&start=20', 'https://www.linkedin.com/in/davidwang001', 'https://www.linkedin.com/in/nazanin-m-9a89b017a', 'https://www.linkedin.com/in/david-palomares-27b370130', 'https://www.linkedin.com/in/wei-zheng', 'https://www.linkedin.com/in/tthvar', 'https://www.linkedin.com/in/adriellee', 'https://www.linkedin.com/in/sujguha', 'https://www.linkedin.com/in/mary-na-nguyen', 'https://www.linkedin.com/in/marshall-wu', 'https://www.linkedin.com/in/steven-williams-8927226', 'https://www.google.com/search?q=site:linkedin.com/in/+Education+is+UC+Berkeley+graduated+works+in+data+product+manager&start=20', 'https://www.google.com/search?q=site:linkedin.com/in/+Education+is+UC+Berkeley+graduated+works+in+data+product+manager&start=30', 'https://www.linkedin.com/in/pamela-gleason-0969775', 'https://www.linkedin.com/in/anna-chavez-590242161', 'https://www.linkedin.com/in/courtney-l-mazzulla', 'https://www.linkedin.com/in/isabel-zheng', 'https://www.linkedin.com/in/nithin-ravindra', 'https://www.linkedin.com/in/dantealvaradoleon', 'https://www.linkedin.com/in/timothyguan', 'https://www.linkedin.com/in/meera-vinod', 'https://www.linkedin.com/in/monica--cortes', 'https://www.linkedin.com/in/nvaniyapun', 'https://www.google.com/search?q=site:linkedin.com/in/+Education+is+UC+Berkeley+graduated+works+in+data+product+manager&start=30', 'https://www.google.com/search?q=site:linkedin.com/in/+Education+is+UC+Berkeley+graduated+works+in+data+product+manager&start=40', 'https://www.linkedin.com/in/nathaniel-santoso-b10845218/', 'https://www.linkedin.com/in/michlzhang', 'https://www.linkedin.com/in/buckey-lee-7506ba283', 'https://www.linkedin.com/in/richa-verma-berkeley', 'https://www.linkedin.com/in/asbah-wasim', 'https://www.linkedin.com/in/jocelyngao', 'https://www.linkedin.com/in/anirbansen?trk=article-ssr-frontend-x-article', 'https://www.linkedin.com/in/laurenksung', 'https://www.linkedin.com/in/clement-kao', 'https://www.linkedin.com/in/miarogerss', 'https://www.google.com/search?q=site:linkedin.com/in/+Education+is+UC+Berkeley+graduated+works+in+data+product+manager&start=40', 'https://www.google.com/search?q=site:linkedin.com/in/+Education+is+UC+Berkeley+graduated+works+in+data+product+manager&start=50', 'https://www.linkedin.com/in/gerelee', 'https://www.linkedin.com/in/maria-mindanao-5b4820a8', 'https://www.linkedin.com/in/cynthialzhang', 'https://www.linkedin.com/in/anant--mishra', 'https://www.linkedin.com/in/amandaleee', 'https://www.linkedin.com/in/kystanleylin', 'https://www.linkedin.com/in/lexiepolevoi', 'https://www.linkedin.com/in/ketaki-vaidya08', 'https://www.linkedin.com/in/lenka-h-72700945', 'https://www.linkedin.com/in/rebeccakandersen', 'https://www.google.com/search?q=site:linkedin.com/in/+Education+is+UC+Berkeley+graduated+works+in+data+product+manager&start=50', 'https://www.google.com/search?q=site:linkedin.com/in/+Education+is+UC+Berkeley+graduated+works+in+data+product+manager&start=60', 'https://www.linkedin.com/in/charleszgu', 'https://www.linkedin.com/in/wesley-griggs', 'https://www.linkedin.com/in/evan-gao', 'https://www.linkedin.com/in/weiqi-liang-aa0730109', 'https://www.linkedin.com/in/garrett-baltz-09a5461b9', 'https://www.linkedin.com/in/vera--wong', 'https://www.linkedin.com/in/zijingxu', 'https://www.linkedin.com/in/lingyu-zheng', 'https://www.linkedin.com/in/noeln', 'https://www.linkedin.com/in/muhammad-arsalan--', 'https://www.google.com/search?q=site:linkedin.com/in/+Education+is+UC+Berkeley+graduated+works+in+data+product+manager&start=60', 'https://www.google.com/search?q=site:linkedin.com/in/+Education+is+UC+Berkeley+graduated+works+in+data+product+manager&start=70', 'https://www.linkedin.com/in/tarabhatia01', 'https://www.linkedin.com/in/apurva-arni', 'https://www.linkedin.com/in/abbymcscott', 'https://www.linkedin.com/in/ethan-soe', 'https://www.linkedin.com/in/hannahhan00', 'https://www.linkedin.com/in/rohil-verma', 'https://www.linkedin.com/in/winston-lins', 'https://www.linkedin.com/in/irisghou', 'https://www.linkedin.com/in/nguyenbo', 'https://www.linkedin.com/in/william-mitchell-wang', 'https://www.google.com/search?q=site:linkedin.com/in/+Education+is+UC+Berkeley+graduated+works+in+data+product+manager&start=70', 'https://www.google.com/search?q=site:linkedin.com/in/+Education+is+UC+Berkeley+graduated+works+in+data+product+manager&start=80', 'https://www.linkedin.com/in/frederickarnegoh', 'https://www.linkedin.com/in/aayushsutaria', 'https://www.linkedin.com/in/lauren-mcb', 'https://www.linkedin.com/in/simone-sept', 'https://www.linkedin.com/in/hayesanguyen', 'https://www.linkedin.com/in/courtneyhcheng', 'https://www.linkedin.com/in/francescagiovanna', 'https://www.linkedin.com/in/shirleywang57', 'https://www.linkedin.com/in/wesley-l-0a614b186', 'https://www.linkedin.com/in/emilybngo', 'https://www.google.com/search?q=site:linkedin.com/in/+Education+is+UC+Berkeley+graduated+works+in+data+product+manager&start=80', 'https://www.google.com/search?q=site:linkedin.com/in/+Education+is+UC+Berkeley+graduated+works+in+data+product+manager&start=90', 'https://www.linkedin.com/in/audrisewal', 'https://www.linkedin.com/in/georgelz', 'https://www.linkedin.com/in/sydney-karimi-6425b01a5', 'https://www.linkedin.com/in/ericpjtsai', 'https://www.linkedin.com/in/nipunjn', 'https://www.linkedin.com/in/josecamoessilva', 'https://www.linkedin.com/in/keonalau', 'https://www.linkedin.com/in/jade-m-clarke', 'https://www.linkedin.com/in/nktrinh', 'https://www.linkedin.com/in/duncanbarcelona', 'https://www.google.com/search?q=site:linkedin.com/in/+Education+is+UC+Berkeley+graduated+works+in+data+product+manager&start=90', 'https://www.google.com/search?q=site:linkedin.com/in/+Education+is+UC+Berkeley+graduated+works+in+data+product+manager']\n"
     ]
    },
    {
     "data": {
      "text/plain": [
       "121"
      ]
     },
     "execution_count": 140,
     "metadata": {},
     "output_type": "execute_result"
    }
   ],
   "source": [
    "from pprint import pprint\n",
    "import requests\n",
    "payload = {\n",
    "    'source': 'google',\n",
    "    'url': 'https://www.google.com/search?q=site:linkedin.com/in/+Education+is+UC+Berkeley+graduated+works+in+data+product+manager',\n",
    "    'parse': True,\n",
    "    'start_page': 1,\n",
    "    'pages': 10,\n",
    "}\n",
    "\n",
    "response = requests.request(\n",
    "    'POST',\n",
    "    'https://realtime.oxylabs.io/v1/queries',\n",
    "    auth=('satwikapaul_oZIdD', 'Fttkhcvnfttkhcvn6_'),\n",
    "    json=payload\n",
    ")\n",
    "\n",
    "pm7data = response.json()\n",
    "pm7data_linkedin_urls = extract_linkedin_urls(\n",
    "    pm7data)\n",
    "print(pm7data_linkedin_urls)\n",
    "len(pm7data_linkedin_urls)\n"
   ]
  },
  {
   "cell_type": "markdown",
   "id": "4ce85d5d-6bc2-4da8-a3a6-2a0e540f27ed",
   "metadata": {
    "jp-MarkdownHeadingCollapsed": true,
    "tags": []
   },
   "source": [
    "# Quant URLS #"
   ]
  },
  {
   "cell_type": "code",
   "execution_count": 141,
   "id": "32e24b9f-8cf4-45eb-8491-3cb7e9b1d071",
   "metadata": {},
   "outputs": [
    {
     "name": "stdout",
     "output_type": "stream",
     "text": [
      "['https://www.google.com/search?q=site:linkedin.com/in/+Education+is+UC+Berkeley+graduated+works+in+Quantitative', 'https://www.linkedin.com/in/tolani-britton-b27278b3', 'https://mx.linkedin.com/in/enrique-eduardo-valencia-lopez-38033732', 'https://www.linkedin.com/in/li-zhu-0a26b4215', 'https://www.linkedin.com/in/katie-gede?trk=people-guest_people_search-card', 'https://www.linkedin.com/in/elliott-medrich-2537978', 'https://www.linkedin.com/in/tonyanguyen', 'https://www.linkedin.com/in/jorgemoralesalfaro/en', 'https://www.linkedin.com/in/jessica-a-george', 'https://www.linkedin.com/in/adam-lichtenheld-phd-7a782938', 'https://www.linkedin.com/in/stephanie-alderete-b47413201', 'https://www.google.com/search?q=site:linkedin.com/in/+Education+is+UC+Berkeley+graduated+works+in+Quantitative', 'https://www.google.com/search?q=site:linkedin.com/in/+Education+is+UC+Berkeley+graduated+works+in+Quantitative&start=10', 'https://www.linkedin.com/in/juana-gabriela-montoya-murillo-213785170', 'https://uk.linkedin.com/in/ouyang-annie', 'https://www.linkedin.com/in/ted-kaczynski-4414a9201', 'https://www.linkedin.com/in/v%C3%A9ronique-irwin-760978186', 'https://www.linkedin.com/in/stephanie-alderete-b47413201', 'https://www.linkedin.com/in/harit-gupta', 'https://www.linkedin.com/in/ellen-evers-58963116', 'https://www.linkedin.com/in/inaaragangji/', 'https://www.linkedin.com/in/talia-leibovitz-315029253', 'https://www.linkedin.com/in/kaazim', 'https://www.google.com/search?q=site:linkedin.com/in/+Education+is+UC+Berkeley+graduated+works+in+Quantitative&start=10', 'https://www.google.com/search?q=site:linkedin.com/in/+Education+is+UC+Berkeley+graduated+works+in+Quantitative&start=20', 'https://www.linkedin.com/in/ginaanngarcia', 'https://www.linkedin.com/in/ria-antony', 'https://www.linkedin.com/in/emily-martell', 'https://www.linkedin.com/in/kyle-deland-4b8095223', 'https://www.linkedin.com/in/prudence-carter-92020611', 'https://www.linkedin.com/in/paul-connor-42525514', 'https://www.linkedin.com/in/adam-eichenbaum', 'https://www.linkedin.com/in/stephen-harrell-0826a561', 'https://www.linkedin.com/in/georgios-sotiropoulos1', 'https://www.linkedin.com/in/elton-cairns-24425b1b3', 'https://www.google.com/search?q=site:linkedin.com/in/+Education+is+UC+Berkeley+graduated+works+in+Quantitative&start=20', 'https://www.google.com/search?q=site:linkedin.com/in/+Education+is+UC+Berkeley+graduated+works+in+Quantitative&start=30', 'https://www.linkedin.com/in/jessica-a-george', 'https://uk.linkedin.com/in/patrick-norton-morenes', 'https://uk.linkedin.com/in/emily-qiqiu', 'https://uk.linkedin.com/in/gban', 'https://www.linkedin.com/in/maitreemeher', 'https://www.linkedin.com/in/mdiventi', 'https://uk.linkedin.com/in/eugene-shcherbinin', 'https://www.linkedin.com/in/charlenerequerme', 'https://www.linkedin.com/in/samuel-ortega', 'https://www.linkedin.com/in/alan-farsio-mozaffari', 'https://www.google.com/search?q=site:linkedin.com/in/+Education+is+UC+Berkeley+graduated+works+in+Quantitative&start=30', 'https://www.google.com/search?q=site:linkedin.com/in/+Education+is+UC+Berkeley+graduated+works+in+Quantitative&start=40', 'https://www.linkedin.com/in/rose-bruce-a49a91172', 'https://www.linkedin.com/in/shayne-weston-2b13a94', 'https://www.linkedin.com/in/kaleb-javier-m-s-b0bb67127', 'https://www.linkedin.com/in/anjalijha167', 'https://www.linkedin.com/in/cgalvanfalcon', 'https://www.linkedin.com/in/cathleenclerkin', 'https://www.linkedin.com/in/brendanhenrique', 'https://www.linkedin.com/in/daxovid', 'https://www.linkedin.com/in/nikkolette-lee-850478111', 'https://www.linkedin.com/in/otis-fischer', 'https://www.google.com/search?q=site:linkedin.com/in/+Education+is+UC+Berkeley+graduated+works+in+Quantitative&start=40', 'https://www.google.com/search?q=site:linkedin.com/in/+Education+is+UC+Berkeley+graduated+works+in+Quantitative&start=50', 'https://www.linkedin.com/in/harit-gupta', 'https://www.linkedin.com/in/tolani-britton-b27278b3', 'https://www.linkedin.com/in/ratihayuapsari91', 'https://www.linkedin.com/in/amber-lubera-ph-d-9191a8164', 'https://www.linkedin.com/in/anustubh-agnihotri-a066126', 'https://www.linkedin.com/in/louise-curtis-158b5918a', 'https://www.linkedin.com/in/rosalinda-nava-425422335', 'https://www.linkedin.com/in/adam-sherman-b407259', 'https://www.linkedin.com/in/tessa-wood-086453173', 'https://www.linkedin.com/in/pietro-risso-285604207', 'https://www.linkedin.com/in/jorgemoralesalfaro/en', 'https://www.linkedin.com/in/stellatho', 'https://www.google.com/search?q=site:linkedin.com/in/+Education+is+UC+Berkeley+graduated+works+in+Quantitative&start=50', 'https://www.google.com/search?q=site:linkedin.com/in/+Education+is+UC+Berkeley+graduated+works+in+Quantitative&start=60', 'https://www.linkedin.com/in/alexandragessesse', 'https://www.linkedin.com/in/johnnella-butler-60136ab', 'https://www.linkedin.com/in/adib-kanafani-bb1a4a4', 'https://www.linkedin.com/in/joseaguilarjr', 'https://www.linkedin.com/in/margaret-kolb-47915725', 'https://www.linkedin.com/in/kevinquinteroberkeley', 'https://www.linkedin.com/in/patricia-quaye-428540140', 'https://www.linkedin.com/in/keanublim', 'https://www.linkedin.com/in/maya-ezekiel', 'https://www.linkedin.com/in/aleksandr-smirnov-chemistry', 'https://www.google.com/search?q=site:linkedin.com/in/+Education+is+UC+Berkeley+graduated+works+in+Quantitative&start=60', 'https://www.google.com/search?q=site:linkedin.com/in/+Education+is+UC+Berkeley+graduated+works+in+Quantitative&start=70', 'https://www.linkedin.com/in/shoshana-jarvis', 'https://www.linkedin.com/in/madeleinefruman', 'https://www.linkedin.com/in/ivett-l%C3%B3pez-malagamba-78285286', 'https://www.linkedin.com/in/youki-terada-97154910', 'https://www.linkedin.com/in/maria-almeida-reis', 'https://www.linkedin.com/in/harisri108', 'https://www.linkedin.com/in/xinghan-wang-333a18190', 'https://www.linkedin.com/in/jing-ge-stadnyk-242b73221', 'https://www.linkedin.com/in/howard-fisher-914885142', 'https://www.linkedin.com/in/bowenwang6', 'https://www.google.com/search?q=site:linkedin.com/in/+Education+is+UC+Berkeley+graduated+works+in+Quantitative&start=70', 'https://www.google.com/search?q=site:linkedin.com/in/+Education+is+UC+Berkeley+graduated+works+in+Quantitative&start=80', 'https://www.linkedin.com/in/emma-f-clark', 'https://www.linkedin.com/in/francesca-m-rivera', 'https://www.linkedin.com/in/emily-hellmich-a475b360', 'https://www.linkedin.com/in/evan-heus', 'https://www.linkedin.com/in/maurice-porter-6608a71a7', 'https://www.linkedin.com/in/gopika-mav', 'https://www.linkedin.com/in/cindy-manly-b272845', 'https://www.linkedin.com/in/alicia-roy-phd', 'https://www.linkedin.com/in/tom-galetti-51775b22a', 'https://www.linkedin.com/in/husnaelmas', 'https://www.google.com/search?q=site:linkedin.com/in/+Education+is+UC+Berkeley+graduated+works+in+Quantitative&start=80', 'https://www.google.com/search?q=site:linkedin.com/in/+Education+is+UC+Berkeley+graduated+works+in+Quantitative&start=90', 'https://www.linkedin.com/in/guzmanlaura', 'https://www.linkedin.com/in/hung-nguyen-337b65135', 'https://www.linkedin.com/in/michael-heinz-9885681b3', 'https://www.linkedin.com/in/qiancheng-xu', 'https://www.linkedin.com/in/jing-yue-2706161a', 'https://www.linkedin.com/in/ruixiang-zhang-18063331b', 'https://www.linkedin.com/in/julissa-espinoza-8a8aaa1b3', 'https://www.linkedin.com/in/travis-candieas', 'https://www.linkedin.com/in/timothy-ojeda-silva-6bb4a0280', 'https://www.linkedin.com/in/fawziyahlaguide', 'https://www.google.com/search?q=site:linkedin.com/in/+Education+is+UC+Berkeley+graduated+works+in+Quantitative&start=90', 'https://www.google.com/search?q=site:linkedin.com/in/+Education+is+UC+Berkeley+graduated+works+in+Quantitative']\n"
     ]
    },
    {
     "data": {
      "text/plain": [
       "123"
      ]
     },
     "execution_count": 141,
     "metadata": {},
     "output_type": "execute_result"
    }
   ],
   "source": [
    "from pprint import pprint\n",
    "import requests\n",
    "payload = {\n",
    "    'source': 'google',\n",
    "    'url': 'https://www.google.com/search?q=site:linkedin.com/in/+Education+is+UC+Berkeley+graduated+works+in+Quantitative',\n",
    "    'parse': True,\n",
    "    'start_page': 1,\n",
    "    'pages': 10,\n",
    "}\n",
    "\n",
    "response = requests.request(\n",
    "    'POST',\n",
    "    'https://realtime.oxylabs.io/v1/queries',\n",
    "    auth=('satwikapaul_oZIdD', 'Fttkhcvnfttkhcvn6_'),\n",
    "    json=payload\n",
    ")\n",
    "\n",
    "quant1data = response.json()\n",
    "quant1data_linkedin_urls = extract_linkedin_urls(\n",
    "    quant1data)\n",
    "print(quant1data_linkedin_urls)\n",
    "len(quant1data_linkedin_urls)\n"
   ]
  },
  {
   "cell_type": "code",
   "execution_count": 142,
   "id": "e46c6491-837d-4edc-8aeb-260e3011f589",
   "metadata": {},
   "outputs": [
    {
     "name": "stdout",
     "output_type": "stream",
     "text": [
      "['https://www.google.com/search?q=site:linkedin.com/in/+Education+is+UC+Berkeley+graduated+works+in+Quantitative+trader', 'https://www.linkedin.com/in/euhan-kim', 'https://www.linkedin.com/in/songlizhi', 'https://uk.linkedin.com/in/kumar-yashaswi', 'https://www.linkedin.com/in/aman-narsaria', 'https://in.linkedin.com/in/dhruv-suresh', 'https://www.linkedin.com/in/donghang', 'https://www.linkedin.com/in/selenajli', 'https://www.linkedin.com/in/darsh-n-patel', 'https://www.linkedin.com/in/srujana-batchu', 'https://www.linkedin.com/in/rob6', 'https://www.google.com/search?q=site:linkedin.com/in/+Education+is+UC+Berkeley+graduated+works+in+Quantitative+trader', 'https://www.google.com/search?q=site:linkedin.com/in/+Education+is+UC+Berkeley+graduated+works+in+Quantitative+trader&start=10', 'https://www.linkedin.com/in/aman-kumar-singh-16888814a', 'https://www.linkedin.com/in/nathen-hadgu', 'https://uk.linkedin.com/in/ga%C3%A9tan-disdier-69607725', 'https://www.linkedin.com/in/aidannreilly', 'https://in.linkedin.com/in/dhruv-joshi7', 'https://www.linkedin.com/in/anuj-jain9', 'https://www.linkedin.com/in/jonathan-tao', 'https://www.linkedin.com/in/husnaelmas', 'https://www.linkedin.com/in/rishikumra', 'https://www.linkedin.com/in/anjalijha167', 'https://www.google.com/search?q=site:linkedin.com/in/+Education+is+UC+Berkeley+graduated+works+in+Quantitative+trader&start=10', 'https://www.google.com/search?q=site:linkedin.com/in/+Education+is+UC+Berkeley+graduated+works+in+Quantitative+trader&start=20', 'https://www.linkedin.com/in/mdiventi', 'https://www.linkedin.com/in/cyruslee83', 'https://www.linkedin.com/in/alan-huang-185b52280', 'https://www.linkedin.com/in/jiayi-y/en', 'https://ca.linkedin.com/in/eddie-liu-asa-cfa', 'https://www.linkedin.com/in/casonhan', 'https://www.linkedin.com/in/yilin-chen-412559276', 'https://www.linkedin.com/in/evan-heus', 'https://www.linkedin.com/in/jordan-zhong-1b42521a6', 'https://www.linkedin.com/in/mingfong', 'https://www.google.com/search?q=site:linkedin.com/in/+Education+is+UC+Berkeley+graduated+works+in+Quantitative+trader&start=20', 'https://www.google.com/search?q=site:linkedin.com/in/+Education+is+UC+Berkeley+graduated+works+in+Quantitative+trader&start=30', 'https://www.linkedin.com/in/vikram-bhamre', 'https://www.linkedin.com/in/akshita-gulati', 'https://www.linkedin.com/in/yashish-mohnot', 'https://www.linkedin.com/in/andrewqin', 'https://www.linkedin.com/in/harit-gupta', 'https://www.linkedin.com/in/jiayi-carolyn-zhou', 'https://www.linkedin.com/in/yun-tang-909916286', 'https://www.linkedin.com/in/aryanpshah', 'https://www.linkedin.com/in/marie-augustine-daillet', 'https://www.linkedin.com/in/ru-pei', 'https://www.google.com/search?q=site:linkedin.com/in/+Education+is+UC+Berkeley+graduated+works+in+Quantitative+trader&start=30', 'https://www.google.com/search?q=site:linkedin.com/in/+Education+is+UC+Berkeley+graduated+works+in+Quantitative+trader&start=40', 'https://www.linkedin.com/in/jack-ciabaton', 'https://www.linkedin.com/in/pjz', 'https://www.linkedin.com/in/zachary-zhang-874390221', 'https://www.linkedin.com/in/lucasetter', 'https://www.linkedin.com/in/yu-hai-yang', 'https://www.linkedin.com/in/jenny-jiang-yuchen', 'https://www.linkedin.com/in/yaqic', 'https://www.linkedin.com/in/robert-peng', 'https://www.linkedin.com/in/oliver-hayman-2b61b31b7', 'https://www.linkedin.com/in/sarthakgarg99', 'https://www.google.com/search?q=site:linkedin.com/in/+Education+is+UC+Berkeley+graduated+works+in+Quantitative+trader&start=40', 'https://www.google.com/search?q=site:linkedin.com/in/+Education+is+UC+Berkeley+graduated+works+in+Quantitative+trader&start=50', 'https://www.linkedin.com/in/pseuhas', 'https://www.linkedin.com/in/camillahguo', 'https://www.linkedin.com/in/qiancheng-xu', 'https://www.linkedin.com/in/bastiengros/en', 'https://www.linkedin.com/in/dsobkin', 'https://www.linkedin.com/in/cathy-xuening-cui', 'https://www.linkedin.com/in/shankarrahul', 'https://au.linkedin.com/in/hollyshen', 'https://www.linkedin.com/in/brandonswoh', 'https://de.linkedin.com/in/felixfuchs7', 'https://www.google.com/search?q=site:linkedin.com/in/+Education+is+UC+Berkeley+graduated+works+in+Quantitative+trader&start=50', 'https://www.google.com/search?q=site:linkedin.com/in/+Education+is+UC+Berkeley+graduated+works+in+Quantitative+trader&start=60', 'https://www.linkedin.com/in/andrew-schacht-1a8111a4', 'https://www.linkedin.com/in/joel-adlen-10425412', 'https://www.linkedin.com/in/biwenzhang', 'https://www.linkedin.com/in/adam-sherman-b407259', 'https://uk.linkedin.com/in/ouyang-annie', 'https://www.linkedin.com/in/garg-harshita', 'https://mn.linkedin.com/in/binderiyabattulga', 'https://www.linkedin.com/in/ranzhijiezhang', 'https://www.linkedin.com/in/dele-fei-26a28724a', 'https://www.linkedin.com/in/arathalejandroreyes', 'https://www.google.com/search?q=site:linkedin.com/in/+Education+is+UC+Berkeley+graduated+works+in+Quantitative+trader&start=60', 'https://www.google.com/search?q=site:linkedin.com/in/+Education+is+UC+Berkeley+graduated+works+in+Quantitative+trader&start=70', 'https://www.linkedin.com/in/birach', 'https://www.linkedin.com/in/margaret-kolb-47915725', 'https://www.linkedin.com/in/anubhava-singla-66b6a51b4/', 'https://www.linkedin.com/in/ziyue-deng-2a1619149', 'https://www.linkedin.com/in/eugene-shcherbinin', 'https://www.linkedin.com/in/barnettyang', 'https://www.linkedin.com/in/xuwei-hua', 'https://www.linkedin.com/in/andrew-tang-b7a113175', 'https://www.linkedin.com/in/renjun-vicky-zhu', 'https://www.linkedin.com/in/laura-yaneth-martinez', 'https://www.google.com/search?q=site:linkedin.com/in/+Education+is+UC+Berkeley+graduated+works+in+Quantitative+trader&start=70', 'https://www.google.com/search?q=site:linkedin.com/in/+Education+is+UC+Berkeley+graduated+works+in+Quantitative+trader&start=80', 'https://www.linkedin.com/in/donghang', 'https://www.linkedin.com/in/yashish-mohnot', 'https://www.linkedin.com/in/srujana-batchu', 'https://www.linkedin.com/in/saathvik-selvan', 'https://www.linkedin.com/in/jackson-temple', 'https://www.linkedin.com/in/jackbragg', 'https://www.linkedin.com/in/roy', 'https://www.linkedin.com/in/omjaa-rai-183959175', 'https://www.linkedin.com/in/jasper-pu', 'https://fr.linkedin.com/in/pierre-biscaye-50502b27', 'https://www.linkedin.com/in/william-lei', 'https://www.linkedin.com/in/patrickbbales', 'https://www.google.com/search?q=site:linkedin.com/in/+Education+is+UC+Berkeley+graduated+works+in+Quantitative+trader&start=80', 'https://www.google.com/search?q=site:linkedin.com/in/+Education+is+UC+Berkeley+graduated+works+in+Quantitative+trader&start=90', 'https://www.linkedin.com/in/stanpyzhikin', 'https://www.linkedin.com/in/jake-mitchell-6668101a1', 'https://www.linkedin.com/in/federico-di-gennaro/en', 'https://in.linkedin.com/in/adarshkumariitkgp', 'https://sg.linkedin.com/in/jiaxuan-li-33ba41205?trk=org-employees', 'https://www.linkedin.com/in/keanublim', 'https://www.linkedin.com/in/rithika-reddy-b5445b240', 'https://www.linkedin.com/in/ronakdatta', 'https://www.linkedin.com/in/iris-lang', 'https://www.linkedin.com/in/yumeng-zhang7', 'https://www.google.com/search?q=site:linkedin.com/in/+Education+is+UC+Berkeley+graduated+works+in+Quantitative+trader&start=90', 'https://www.google.com/search?q=site:linkedin.com/in/+Education+is+UC+Berkeley+graduated+works+in+Quantitative+trader']\n"
     ]
    },
    {
     "data": {
      "text/plain": [
       "123"
      ]
     },
     "execution_count": 142,
     "metadata": {},
     "output_type": "execute_result"
    }
   ],
   "source": [
    "from pprint import pprint\n",
    "import requests\n",
    "payload = {\n",
    "    'source': 'google',\n",
    "    'url': 'https://www.google.com/search?q=site:linkedin.com/in/+Education+is+UC+Berkeley+graduated+works+in+Quantitative+trader',\n",
    "    'parse': True,\n",
    "    'start_page': 1,\n",
    "    'pages': 10,\n",
    "}\n",
    "\n",
    "response = requests.request(\n",
    "    'POST',\n",
    "    'https://realtime.oxylabs.io/v1/queries',\n",
    "    auth=('satwikapaul_oZIdD', 'Fttkhcvnfttkhcvn6_'),\n",
    "    json=payload\n",
    ")\n",
    "\n",
    "quant2data = response.json()\n",
    "quant2data_linkedin_urls = extract_linkedin_urls(\n",
    "    quant2data)\n",
    "print(quant2data_linkedin_urls)\n",
    "len(quant2data_linkedin_urls)\n"
   ]
  },
  {
   "cell_type": "code",
   "execution_count": 143,
   "id": "1e700a86-b193-4f48-bfa6-60b37c7807e4",
   "metadata": {},
   "outputs": [
    {
     "name": "stdout",
     "output_type": "stream",
     "text": [
      "['https://www.google.com/search?q=site:linkedin.com/in/+Education+is+UC+Berkeley+graduated+works+in+Quantitative+researcher', 'https://www.linkedin.com/in/stephen-harrell-0826a561', 'https://www.linkedin.com/in/rahul-pothi-vinoth-5b342120a', 'https://br.linkedin.com/in/carolina-albaneze-59821420a', 'https://www.linkedin.com/in/anjalijha167', 'https://www.linkedin.com/in/li-zhu-0a26b4215', 'https://www.linkedin.com/in/anuj-jain-quant', 'https://mx.linkedin.com/in/enrique-eduardo-valencia-lopez-38033732', 'https://www.linkedin.com/in/tolani-britton-b27278b3', 'https://www.linkedin.com/in/ratihayuapsari91', 'https://www.linkedin.com/in/salma-ahmed7', 'https://www.google.com/search?q=site:linkedin.com/in/+Education+is+UC+Berkeley+graduated+works+in+Quantitative+researcher', 'https://www.google.com/search?q=site:linkedin.com/in/+Education+is+UC+Berkeley+graduated+works+in+Quantitative+researcher&start=10', 'https://www.linkedin.com/in/laura-b-armstrong', 'https://www.linkedin.com/in/jafsantos/', 'https://www.linkedin.com/in/jiayi-y/en', 'https://www.linkedin.com/in/zhexiao-lin-26a497170/en', 'https://www.linkedin.com/in/kyle-deland-4b8095223', 'https://www.linkedin.com/in/jlpham', 'https://www.linkedin.com/in/talia-leibovitz-315029253', 'https://www.linkedin.com/in/maria-almeida-reis', 'https://www.linkedin.com/in/v%C3%A9ronique-irwin-760978186', 'https://www.linkedin.com/in/juana-gabriela-montoya-murillo-213785170', 'https://www.google.com/search?q=site:linkedin.com/in/+Education+is+UC+Berkeley+graduated+works+in+Quantitative+researcher&start=10', 'https://www.google.com/search?q=site:linkedin.com/in/+Education+is+UC+Berkeley+graduated+works+in+Quantitative+researcher&start=20', 'https://www.linkedin.com/in/shoshana-jarvis', 'https://www.linkedin.com/in/elton-cairns-24425b1b3', 'https://www.linkedin.com/in/kevinquinteroberkeley', 'https://www.linkedin.com/in/ted-kaczynski-4414a9201', 'https://www.linkedin.com/in/jorgemoralesalfaro/en', 'https://www.linkedin.com/in/karora27', 'https://www.linkedin.com/in/katie-gede?trk=people-guest_people_search-card', 'https://www.linkedin.com/in/nikkolette-lee-850478111', 'https://www.linkedin.com/in/elliott-medrich-2537978', 'https://www.linkedin.com/in/andressacrawford', 'https://www.google.com/search?q=site:linkedin.com/in/+Education+is+UC+Berkeley+graduated+works+in+Quantitative+researcher&start=20', 'https://www.google.com/search?q=site:linkedin.com/in/+Education+is+UC+Berkeley+graduated+works+in+Quantitative+researcher&start=30', 'https://www.linkedin.com/in/-chelseajimenez', 'https://www.linkedin.com/in/tessa-wood-086453173', 'https://www.linkedin.com/in/brendanhenrique', 'https://www.linkedin.com/in/ginaanngarcia', 'https://www.linkedin.com/in/kass-hern%C3%A1ndez', 'https://www.linkedin.com/in/elizabeth-olin', 'https://www.linkedin.com/in/anustubh-agnihotri-a066126', 'https://www.linkedin.com/in/maria-alegria-32ab09101', 'https://www.linkedin.com/in/matthew-parker-820b3824a', 'https://www.linkedin.com/in/adam-lichtenheld-phd-7a782938', 'https://www.google.com/search?q=site:linkedin.com/in/+Education+is+UC+Berkeley+graduated+works+in+Quantitative+researcher&start=30', 'https://www.google.com/search?q=site:linkedin.com/in/+Education+is+UC+Berkeley+graduated+works+in+Quantitative+researcher&start=40', 'https://www.linkedin.com/in/cathleenclerkin', 'https://www.linkedin.com/in/kaazim', 'https://www.linkedin.com/in/andrew-green-6a5aa07', 'https://www.linkedin.com/in/paul-connor-42525514', 'https://www.linkedin.com/in/nallelymejia', 'https://www.linkedin.com/in/jack-glaser-76a34117b', 'https://www.linkedin.com/in/kirsten-hextrum-86b6817', 'https://www.linkedin.com/in/piper-stanger-ph-d-48a3b5109', 'https://www.linkedin.com/in/ellen-evers-58963116', 'https://www.linkedin.com/in/charlenerequerme', 'https://www.google.com/search?q=site:linkedin.com/in/+Education+is+UC+Berkeley+graduated+works+in+Quantitative+researcher&start=40', 'https://www.google.com/search?q=site:linkedin.com/in/+Education+is+UC+Berkeley+graduated+works+in+Quantitative+researcher&start=50', 'https://www.linkedin.com/in/xingyao-xiao-565b25170', 'https://www.linkedin.com/in/clare-parker-phd-0117ba6', 'https://www.linkedin.com/in/prudence-carter-92020611', 'https://www.linkedin.com/in/stephanie-alderete-b47413201', 'https://www.linkedin.com/in/eli-michaels-phd-mph-1867a48', 'https://www.linkedin.com/in/maitreemeher', 'https://www.linkedin.com/in/guzmanlaura', 'https://www.linkedin.com/in/melrosehuang', 'https://www.linkedin.com/in/carinacsam', 'https://hk.linkedin.com/in/owenyeung', 'https://www.google.com/search?q=site:linkedin.com/in/+Education+is+UC+Berkeley+graduated+works+in+Quantitative+researcher&start=50', 'https://www.google.com/search?q=site:linkedin.com/in/+Education+is+UC+Berkeley+graduated+works+in+Quantitative+researcher&start=60', 'https://www.linkedin.com/in/weiyinjiaa?trk=people-guest_people_search-card', 'https://www.linkedin.com/in/alicia-roy-phd', 'https://www.linkedin.com/in/mingyan-chen', 'https://www.linkedin.com/in/brandon-marks-6265651ba', 'https://www.linkedin.com/in/ria-antony', 'https://www.linkedin.com/in/cristian-calzada-596964276', 'https://www.linkedin.com/in/adityanandy', 'https://www.linkedin.com/in/marcwalden/es', 'https://www.linkedin.com/in/zohal-shah', 'https://www.linkedin.com/in/daniela-castillo-6b73541a7', 'https://www.google.com/search?q=site:linkedin.com/in/+Education+is+UC+Berkeley+graduated+works+in+Quantitative+researcher&start=60', 'https://www.google.com/search?q=site:linkedin.com/in/+Education+is+UC+Berkeley+graduated+works+in+Quantitative+researcher&start=70', 'https://www.linkedin.com/in/ethan-choukroun', 'https://www.linkedin.com/in/amber-lubera-ph-d-9191a8164', 'https://www.linkedin.com/in/jing-ge-stadnyk-242b73221', 'https://www.linkedin.com/in/noahkersey', 'https://www.linkedin.com/in/joel-adlen-10425412', 'https://www.linkedin.com/in/kelly-kruger-95039439', 'https://www.linkedin.com/in/kip-will-721baa2a4', 'https://www.linkedin.com/in/hung-nguyen-337b65135', 'https://www.linkedin.com/in/amanmehrotra', 'https://www.linkedin.com/in/paultanya', 'https://www.google.com/search?q=site:linkedin.com/in/+Education+is+UC+Berkeley+graduated+works+in+Quantitative+researcher&start=70', 'https://www.google.com/search?q=site:linkedin.com/in/+Education+is+UC+Berkeley+graduated+works+in+Quantitative+researcher&start=80', 'https://www.linkedin.com/in/juan-g-berumen-37383042', 'https://www.linkedin.com/in/youki-terada-97154910', 'https://www.linkedin.com/in/priyal-mehta1', 'https://www.linkedin.com/in/jesse-strecker', 'https://www.linkedin.com/in/gpanger', 'https://in.linkedin.com/in/mayank634', 'https://www.linkedin.com/in/cindy-manly-b272845', 'https://www.linkedin.com/in/jacob-moore-a5176777', 'https://www.linkedin.com/in/janene-vernard-bb94a77b', 'https://www.linkedin.com/in/tessascott-', 'https://www.google.com/search?q=site:linkedin.com/in/+Education+is+UC+Berkeley+graduated+works+in+Quantitative+researcher&start=80', 'https://www.google.com/search?q=site:linkedin.com/in/+Education+is+UC+Berkeley+graduated+works+in+Quantitative+researcher&start=90', 'https://www.linkedin.com/in/brendanhenrique', 'https://www.linkedin.com/in/tolani-britton-b27278b3', 'https://www.linkedin.com/in/tessascott-', 'https://www.linkedin.com/in/vianney-gavilanes', 'https://www.linkedin.com/in/stephanie-leonard-85683b2a', 'https://www.linkedin.com/in/tomvannuenen', 'https://www.linkedin.com/in/aleksandr-smirnov-chemistry', 'https://www.linkedin.com/in/aqshems', 'https://www.linkedin.com/in/xinghan-wang-333a18190', 'https://www.linkedin.com/in/anthony-magdaleno-', 'https://www.linkedin.com/in/jack-vallentine-8809891b9', 'https://www.linkedin.com/in/samuel-ortega', 'https://www.google.com/search?q=site:linkedin.com/in/+Education+is+UC+Berkeley+graduated+works+in+Quantitative+researcher&start=90', 'https://www.google.com/search?q=site:linkedin.com/in/+Education+is+UC+Berkeley+graduated+works+in+Quantitative+researcher']\n"
     ]
    },
    {
     "data": {
      "text/plain": [
       "123"
      ]
     },
     "execution_count": 143,
     "metadata": {},
     "output_type": "execute_result"
    }
   ],
   "source": [
    "from pprint import pprint\n",
    "import requests\n",
    "payload = {\n",
    "    'source': 'google',\n",
    "    'url': 'https://www.google.com/search?q=site:linkedin.com/in/+Education+is+UC+Berkeley+graduated+works+in+Quantitative+researcher',\n",
    "    'parse': True,\n",
    "    'start_page': 1,\n",
    "    'pages': 10,\n",
    "}\n",
    "\n",
    "response = requests.request(\n",
    "    'POST',\n",
    "    'https://realtime.oxylabs.io/v1/queries',\n",
    "    auth=('satwikapaul_oZIdD', 'Fttkhcvnfttkhcvn6_'),\n",
    "    json=payload\n",
    ")\n",
    "\n",
    "quant3data = response.json()\n",
    "quant3data_linkedin_urls = extract_linkedin_urls(\n",
    "    quant3data)\n",
    "print(quant3data_linkedin_urls)\n",
    "len(quant3data_linkedin_urls)\n"
   ]
  },
  {
   "cell_type": "code",
   "execution_count": 144,
   "id": "18bc2eb4-ff3c-4c09-a3cb-c3491ec79e0e",
   "metadata": {},
   "outputs": [
    {
     "name": "stdout",
     "output_type": "stream",
     "text": [
      "['https://www.google.com/search?q=site:linkedin.com/in/+Education+is+UC+Berkeley+graduated+works+in+Quantitative+developer', 'https://www.linkedin.com/in/sushanth-sathish-kumar', 'https://www.linkedin.com/in/anjalijha167', 'https://www.linkedin.com/in/vikram-bhamre', 'https://www.linkedin.com/in/barnettyang', 'https://www.linkedin.com/in/rithika-reddy-b5445b240', 'https://uk.linkedin.com/in/kumar-yashaswi', 'https://www.linkedin.com/in/rahul-pothi-vinoth-5b342120a', 'https://www.linkedin.com/in/anuj-jain9', 'https://www.linkedin.com/in/aman-kumar-singh-16888814a', 'https://www.linkedin.com/in/karora27', 'https://www.google.com/search?q=site:linkedin.com/in/+Education+is+UC+Berkeley+graduated+works+in+Quantitative+developer', 'https://www.google.com/search?q=site:linkedin.com/in/+Education+is+UC+Berkeley+graduated+works+in+Quantitative+developer&start=10', 'https://www.linkedin.com/in/abhay-paidipalli', 'https://in.linkedin.com/in/dhruv-joshi7', 'https://www.linkedin.com/in/srujana-batchu', 'https://www.linkedin.com/in/harit-gupta', 'https://www.linkedin.com/in/akshita-gulati', 'https://www.linkedin.com/in/chloe-ziyan-kang', 'https://in.linkedin.com/in/sandeepsingh012', 'https://www.linkedin.com/in/alan-huang-185b52280', 'https://www.linkedin.com/in/estonwilliams', 'https://www.linkedin.com/in/jonathan-tao', 'https://www.google.com/search?q=site:linkedin.com/in/+Education+is+UC+Berkeley+graduated+works+in+Quantitative+developer&start=10', 'https://www.google.com/search?q=site:linkedin.com/in/+Education+is+UC+Berkeley+graduated+works+in+Quantitative+developer&start=20', 'https://www.linkedin.com/in/birach', 'https://www.linkedin.com/in/rob6', 'https://www.linkedin.com/in/jiayi-y/en', 'https://ca.linkedin.com/in/david-xu-64b006149', 'https://www.linkedin.com/in/rishikumra', 'https://www.linkedin.com/in/raghav-gupta-rg', 'https://www.linkedin.com/in/pankajmukheja', 'https://www.linkedin.com/in/samuel-ortega', 'https://www.linkedin.com/in/yashgupta1357', 'https://www.linkedin.com/in/cyruslee83', 'https://www.google.com/search?q=site:linkedin.com/in/+Education+is+UC+Berkeley+graduated+works+in+Quantitative+developer&start=20', 'https://www.google.com/search?q=site:linkedin.com/in/+Education+is+UC+Berkeley+graduated+works+in+Quantitative+developer&start=30', 'https://www.linkedin.com/in/veer-kothari-b5283316', 'https://www.linkedin.com/in/katie-gede?trk=people-guest_people_search-card', 'https://www.linkedin.com/in/zoeyying', 'https://www.linkedin.com/in/aditi-narware', 'https://www.linkedin.com/in/aidannreilly', 'https://www.linkedin.com/in/anshul-zutshi123', 'https://www.linkedin.com/in/nihar-n', 'https://www.linkedin.com/in/mahirshah13', 'https://www.linkedin.com/in/tessa-wood-086453173', 'https://www.linkedin.com/in/shreyvasavada', 'https://www.google.com/search?q=site:linkedin.com/in/+Education+is+UC+Berkeley+graduated+works+in+Quantitative+developer&start=30', 'https://www.google.com/search?q=site:linkedin.com/in/+Education+is+UC+Berkeley+graduated+works+in+Quantitative+developer&start=40', 'https://www.linkedin.com/in/li-zhu-0a26b4215', 'https://www.linkedin.com/in/brendanhenrique', 'https://www.linkedin.com/in/adityakwatra', 'https://www.linkedin.com/in/elliott-medrich-2537978', 'https://www.linkedin.com/in/shreyagupta268', 'https://www.linkedin.com/in/rebeccakandersen', 'https://www.linkedin.com/in/ratihayuapsari91', 'https://www.linkedin.com/in/ryan-gao-46a4312b', 'https://www.linkedin.com/in/glennrdeguzman-edd', 'https://www.linkedin.com/in/harisri108', 'https://www.google.com/search?q=site:linkedin.com/in/+Education+is+UC+Berkeley+graduated+works+in+Quantitative+developer&start=40', 'https://www.google.com/search?q=site:linkedin.com/in/+Education+is+UC+Berkeley+graduated+works+in+Quantitative+developer&start=50', 'https://www.linkedin.com/in/tolani-britton-b27278b3', 'https://www.linkedin.com/in/juana-gabriela-montoya-murillo-213785170', 'https://uk.linkedin.com/in/shimaizhang', 'https://www.linkedin.com/in/v%C3%A9ronique-irwin-760978186', 'https://www.linkedin.com/in/devanshi-singh', 'https://www.linkedin.com/in/diego-gutierrez-luns', 'https://www.linkedin.com/in/rjittri', 'https://www.linkedin.com/in/cgreened', 'https://www.linkedin.com/in/alicia-roy-phd', 'https://www.linkedin.com/in/-chelseajimenez', 'https://www.google.com/search?q=site:linkedin.com/in/+Education+is+UC+Berkeley+graduated+works+in+Quantitative+developer&start=50', 'https://www.google.com/search?q=site:linkedin.com/in/+Education+is+UC+Berkeley+graduated+works+in+Quantitative+developer&start=60', 'https://www.linkedin.com/in/jjjsharp', 'https://www.linkedin.com/in/aaronsmyth', 'https://www.linkedin.com/in/tilda-gross', 'https://www.linkedin.com/in/fengyi-huang', 'https://www.linkedin.com/in/abangalore', 'https://www.linkedin.com/in/fengyi-chen', 'https://www.linkedin.com/in/joel-adlen-10425412', 'https://in.linkedin.com/in/mayank634', 'https://www.linkedin.com/in/jatin-batta-657532179', 'https://www.linkedin.com/in/-abunayeem', 'https://www.google.com/search?q=site:linkedin.com/in/+Education+is+UC+Berkeley+graduated+works+in+Quantitative+developer&start=60', 'https://www.google.com/search?q=site:linkedin.com/in/+Education+is+UC+Berkeley+graduated+works+in+Quantitative+developer&start=70', 'https://www.linkedin.com/in/roy', 'https://www.linkedin.com/in/stephanie-bianco', 'https://www.linkedin.com/in/andrearex', 'https://www.linkedin.com/in/sudhansh-dua', 'https://www.linkedin.com/in/anubhava-singla-66b6a51b4/', 'https://www.linkedin.com/in/anustubh-agnihotri-a066126', 'https://www.linkedin.com/in/janene-vernard-bb94a77b', 'https://www.linkedin.com/in/david-dean-0956b07', 'https://www.linkedin.com/in/aakash-chowkase-822a8b36', 'https://www.linkedin.com/in/ru-pei', 'https://www.google.com/search?q=site:linkedin.com/in/+Education+is+UC+Berkeley+graduated+works+in+Quantitative+developer&start=70', 'https://www.google.com/search?q=site:linkedin.com/in/+Education+is+UC+Berkeley+graduated+works+in+Quantitative+developer&start=80', 'https://www.linkedin.com/in/ayushhariharan', 'https://www.linkedin.com/in/pietro-risso-285604207', 'https://www.linkedin.com/in/yushgoel', 'https://www.linkedin.com/in/deepak-sharma-445965174', 'https://www.linkedin.com/in/arjun-sheoran', 'https://www.linkedin.com/in/yiqin-chen-7b9043232', 'https://www.linkedin.com/in/harshit-kaushik', 'https://www.linkedin.com/in/husnaelmas', 'https://www.linkedin.com/in/ruizhe-cheng', 'https://www.linkedin.com/in/mikecravensf', 'https://www.google.com/search?q=site:linkedin.com/in/+Education+is+UC+Berkeley+graduated+works+in+Quantitative+developer&start=80', 'https://www.google.com/search?q=site:linkedin.com/in/+Education+is+UC+Berkeley+graduated+works+in+Quantitative+developer&start=90', 'https://www.linkedin.com/in/varun-gudla', 'https://www.linkedin.com/in/maitreemeher', 'https://www.linkedin.com/in/nataliemalik', 'https://www.linkedin.com/in/kaitlinthach', 'https://www.linkedin.com/in/youki-terada-97154910', 'https://www.linkedin.com/in/rachelmarias', 'https://www.linkedin.com/in/rosanneluriems', 'https://www.linkedin.com/in/inaaragangji/', 'https://in.linkedin.com/in/sayan-mazumder-346703106', 'https://www.linkedin.com/in/aleksandr-smirnov-chemistry', 'https://www.google.com/search?q=site:linkedin.com/in/+Education+is+UC+Berkeley+graduated+works+in+Quantitative+developer&start=90', 'https://www.google.com/search?q=site:linkedin.com/in/+Education+is+UC+Berkeley+graduated+works+in+Quantitative+developer']\n"
     ]
    },
    {
     "data": {
      "text/plain": [
       "121"
      ]
     },
     "execution_count": 144,
     "metadata": {},
     "output_type": "execute_result"
    }
   ],
   "source": [
    "from pprint import pprint\n",
    "import requests\n",
    "payload = {\n",
    "    'source': 'google',\n",
    "    'url': 'https://www.google.com/search?q=site:linkedin.com/in/+Education+is+UC+Berkeley+graduated+works+in+Quantitative+developer',\n",
    "    'parse': True,\n",
    "    'start_page': 1,\n",
    "    'pages': 10,\n",
    "}\n",
    "\n",
    "response = requests.request(\n",
    "    'POST',\n",
    "    'https://realtime.oxylabs.io/v1/queries',\n",
    "    auth=('satwikapaul_oZIdD', 'Fttkhcvnfttkhcvn6_'),\n",
    "    json=payload\n",
    ")\n",
    "\n",
    "quant4data = response.json()\n",
    "quant4data_linkedin_urls = extract_linkedin_urls(\n",
    "    quant4data)\n",
    "print(quant4data_linkedin_urls)\n",
    "len(quant4data_linkedin_urls)\n"
   ]
  },
  {
   "cell_type": "code",
   "execution_count": 146,
   "id": "1eeefbaa-b698-4896-849f-216c553a8329",
   "metadata": {},
   "outputs": [
    {
     "name": "stdout",
     "output_type": "stream",
     "text": [
      "['https://www.google.com/search?q=site:linkedin.com/in/+Education+is+UC+Berkeley+graduated+works+in+Quantitative+financial+engineer', 'https://www.linkedin.com/in/fr%C3%A9d%C3%A9ric-lucien-31479a172', 'https://www.linkedin.com/in/mdiventi', 'https://www.linkedin.com/in/zishangu', 'https://www.linkedin.com/in/jack-krupinski', 'https://www.linkedin.com/in/anjalijha167', 'https://www.linkedin.com/in/georgios-sotiropoulos1', 'https://www.linkedin.com/in/barry-yihe-tian-610644351', 'https://www.linkedin.com/in/jiacheng-david-shi', 'https://uk.linkedin.com/in/kumar-yashaswi', 'https://www.linkedin.com/in/dhruv-joshi7', 'https://www.google.com/search?q=site:linkedin.com/in/+Education+is+UC+Berkeley+graduated+works+in+Quantitative+financial+engineer', 'https://www.google.com/search?q=site:linkedin.com/in/+Education+is+UC+Berkeley+graduated+works+in+Quantitative+financial+engineer&start=10', 'https://uk.linkedin.com/in/kumar-yashaswi', 'https://www.linkedin.com/in/aman-kumar-singh-16888814a', 'https://www.linkedin.com/in/harit-gupta', 'https://www.linkedin.com/in/alan-huang-185b52280', 'https://www.linkedin.com/in/rishikumra', 'https://www.linkedin.com/in/sampada-desai', 'https://www.linkedin.com/in/donghang', 'https://www.linkedin.com/in/jiayi-carolyn-zhou', 'https://www.linkedin.com/in/yumeng-zhang7', 'https://www.linkedin.com/in/bastiengros/en', 'https://www.google.com/search?q=site:linkedin.com/in/+Education+is+UC+Berkeley+graduated+works+in+Quantitative+financial+engineer&start=10', 'https://www.google.com/search?q=site:linkedin.com/in/+Education+is+UC+Berkeley+graduated+works+in+Quantitative+financial+engineer&start=20', 'https://www.linkedin.com/in/marie-augustine-daillet', 'https://www.linkedin.com/in/casonhan', 'https://www.linkedin.com/in/anuj-jain9', 'https://www.linkedin.com/in/bingyi-xu-124b021a7/en', 'https://www.linkedin.com/in/husnaelmas', 'https://www.linkedin.com/in/wu-isabelle', 'https://www.linkedin.com/in/srujana-batchu', 'https://www.linkedin.com/in/chunni-jiang', 'https://www.linkedin.com/in/rohanrishi', 'https://www.linkedin.com/in/jiayi-y/en', 'https://www.google.com/search?q=site:linkedin.com/in/+Education+is+UC+Berkeley+graduated+works+in+Quantitative+financial+engineer&start=20', 'https://www.google.com/search?q=site:linkedin.com/in/+Education+is+UC+Berkeley+graduated+works+in+Quantitative+financial+engineer&start=30', 'https://www.linkedin.com/in/robert-peng', 'https://www.linkedin.com/in/lingcong-xu-4a7a4923a', 'https://www.linkedin.com/in/yun-tang-909916286', 'https://www.linkedin.com/in/evan-heus', 'https://www.linkedin.com/in/jiajing-yu-01a800126', 'https://au.linkedin.com/in/hollyshen', 'https://www.linkedin.com/in/neel-kolhe-b17052235', 'https://www.linkedin.com/in/sarthakgarg99', 'https://in.linkedin.com/in/sandeepsingh012', 'https://www.linkedin.com/in/patrickbbales', 'https://www.google.com/search?q=site:linkedin.com/in/+Education+is+UC+Berkeley+graduated+works+in+Quantitative+financial+engineer&start=30', 'https://www.google.com/search?q=site:linkedin.com/in/+Education+is+UC+Berkeley+graduated+works+in+Quantitative+financial+engineer&start=40', 'https://www.linkedin.com/in/raghav-gupta-rg', 'https://www.linkedin.com/in/notdsr', 'https://www.linkedin.com/in/cyruslee83', 'https://www.linkedin.com/in/mansoormamnoon', 'https://www.linkedin.com/in/zengziyang', 'https://www.linkedin.com/in/kaitlinthach', 'https://www.linkedin.com/in/ru-pei', 'https://www.linkedin.com/in/zishangu', 'https://www.linkedin.com/in/yuchen-ma0', 'https://www.linkedin.com/in/pankajmukheja', 'https://www.google.com/search?q=site:linkedin.com/in/+Education+is+UC+Berkeley+graduated+works+in+Quantitative+financial+engineer&start=40', 'https://www.google.com/search?q=site:linkedin.com/in/+Education+is+UC+Berkeley+graduated+works+in+Quantitative+financial+engineer&start=50', 'https://www.linkedin.com/in/natalie-chen-46457933', 'https://www.linkedin.com/in/lisu-jiang', 'https://www.linkedin.com/in/zengziyang/zh-cn?trk=people-guest_people_search-card', 'https://www.linkedin.com/in/keyaojoycedeng', 'https://www.linkedin.com/in/billy-liu-3a64311b', 'https://www.linkedin.com/in/handsonwu', 'https://sg.linkedin.com/in/qin-huang-0665a311a', 'https://www.linkedin.com/in/qiao-zhou', 'https://www.linkedin.com/in/yimeng-evelyn-piao/en', 'https://www.linkedin.com/in/ctwildman', 'https://www.google.com/search?q=site:linkedin.com/in/+Education+is+UC+Berkeley+graduated+works+in+Quantitative+financial+engineer&start=50', 'https://www.google.com/search?q=site:linkedin.com/in/+Education+is+UC+Berkeley+graduated+works+in+Quantitative+financial+engineer&start=60', 'https://www.linkedin.com/in/zeng-yang-95640988', 'https://www.linkedin.com/in/bofan-ji-b74148198', 'https://www.linkedin.com/in/marcantoineloo', 'https://www.linkedin.com/in/athan-diep', 'https://www.linkedin.com/in/hing-yuet-cheung', 'https://www.linkedin.com/in/samuel-ortega', 'https://www.linkedin.com/in/ed-walters', 'https://www.linkedin.com/in/shreya-vontela', 'https://www.linkedin.com/in/he-grace', 'https://www.linkedin.com/in/junwenfe', 'https://www.google.com/search?q=site:linkedin.com/in/+Education+is+UC+Berkeley+graduated+works+in+Quantitative+financial+engineer&start=60', 'https://www.google.com/search?q=site:linkedin.com/in/+Education+is+UC+Berkeley+graduated+works+in+Quantitative+financial+engineer&start=70', 'https://www.linkedin.com/in/markbogorad', 'https://www.linkedin.com/in/mariam-alaverdian', 'https://www.linkedin.com/in/williamapham', 'https://www.linkedin.com/in/qiancheng-xu', 'https://www.linkedin.com/in/xueyan-tian', 'https://www.linkedin.com/in/andrew-tang-b7a113175', 'https://www.linkedin.com/in/ewliu', 'https://www.linkedin.com/in/yaqic', 'https://www.linkedin.com/in/zheng-zhai-019a3630', 'https://cn.linkedin.com/in/wenhui-ge', 'https://www.google.com/search?q=site:linkedin.com/in/+Education+is+UC+Berkeley+graduated+works+in+Quantitative+financial+engineer&start=70', 'https://www.google.com/search?q=site:linkedin.com/in/+Education+is+UC+Berkeley+graduated+works+in+Quantitative+financial+engineer&start=80', 'https://www.linkedin.com/in/alexandre-caduc-32aa76173', 'https://uk.linkedin.com/in/shimaizhang', 'https://www.linkedin.com/in/matthew-nixon-78989b2b2', 'https://ca.linkedin.com/in/pratyusha-sambaru-6a081a121', 'https://www.linkedin.com/in/rafael-rafailov-1b521611b', 'https://www.linkedin.com/in/alex-mccall-055417191', 'https://www.linkedin.com/in/sudarshan-gopalakrishnan', 'https://www.linkedin.com/in/sanjanayeddula', 'https://www.linkedin.com/in/neil-tamhankar', 'https://de.linkedin.com/in/felixfuchs7', 'https://www.google.com/search?q=site:linkedin.com/in/+Education+is+UC+Berkeley+graduated+works+in+Quantitative+financial+engineer&start=80', 'https://www.google.com/search?q=site:linkedin.com/in/+Education+is+UC+Berkeley+graduated+works+in+Quantitative+financial+engineer&start=90', 'https://www.linkedin.com/in/travis-cable', 'https://www.linkedin.com/in/franco-delgado-d', 'https://jp.linkedin.com/in/huawei-cheng-3140972b7', 'https://www.linkedin.com/in/alex-mantong', 'https://www.linkedin.com/in/yilin-chen-412559276', 'https://www.linkedin.com/in/rajatgoyal999', 'https://www.linkedin.com/in/yuling-ivey-zhang', 'https://www.linkedin.com/in/ethan-choukroun', 'https://www.linkedin.com/in/oliver-hayman-2b61b31b7', 'https://www.linkedin.com/in/rachit-tripathi-b0021560', 'https://www.google.com/search?q=site:linkedin.com/in/+Education+is+UC+Berkeley+graduated+works+in+Quantitative+financial+engineer&start=90', 'https://www.google.com/search?q=site:linkedin.com/in/+Education+is+UC+Berkeley+graduated+works+in+Quantitative+financial+engineer']\n"
     ]
    },
    {
     "data": {
      "text/plain": [
       "121"
      ]
     },
     "execution_count": 146,
     "metadata": {},
     "output_type": "execute_result"
    }
   ],
   "source": [
    "from pprint import pprint\n",
    "import requests\n",
    "payload = {\n",
    "    'source': 'google',\n",
    "    'url': 'https://www.google.com/search?q=site:linkedin.com/in/+Education+is+UC+Berkeley+graduated+works+in+Quantitative+financial+engineer',\n",
    "    'parse': True,\n",
    "    'start_page': 1,\n",
    "    'pages': 10,\n",
    "}\n",
    "\n",
    "response = requests.request(\n",
    "    'POST',\n",
    "    'https://realtime.oxylabs.io/v1/queries',\n",
    "    auth=('satwikapaul_oZIdD', 'Fttkhcvnfttkhcvn6_'),\n",
    "    json=payload\n",
    ")\n",
    "\n",
    "quant5data = response.json()\n",
    "quant5data_linkedin_urls = extract_linkedin_urls(\n",
    "    quant5data)\n",
    "print(quant5data_linkedin_urls)\n",
    "len(quant5data_linkedin_urls)\n"
   ]
  },
  {
   "cell_type": "markdown",
   "id": "0b7a35fd-c21d-48df-96ce-4bd3f903e41d",
   "metadata": {
    "jp-MarkdownHeadingCollapsed": true,
    "tags": []
   },
   "source": [
    "# Medical URLS #"
   ]
  },
  {
   "cell_type": "code",
   "execution_count": 147,
   "id": "91bc311f-48aa-4328-b68d-0738456c4924",
   "metadata": {},
   "outputs": [
    {
     "name": "stdout",
     "output_type": "stream",
     "text": [
      "['https://www.google.com/search?q=site:linkedin.com/in/+Education+is+UC+Berkeley+graduated+works+in+medical+physician', 'https://in.linkedin.com/in/swethat728', 'https://www.linkedin.com/in/hina-chaudhry-mph-036a94289', 'https://www.linkedin.com/in/karthikprasad3', 'https://www.linkedin.com/in/priyankaathavale', 'https://www.linkedin.com/in/beckyhmoon', 'https://www.linkedin.com/in/amishasingh13102', 'https://au.linkedin.com/in/mihir-pandya321', 'https://www.linkedin.com/in/lavanyavsankaran', 'https://in.linkedin.com/in/jaspreet-singh-68542a149', 'https://www.linkedin.com/in/shraddha-pandey', 'https://www.google.com/search?q=site:linkedin.com/in/+Education+is+UC+Berkeley+graduated+works+in+medical+physician', 'https://www.google.com/search?q=site:linkedin.com/in/+Education+is+UC+Berkeley+graduated+works+in+medical+physician&start=10', 'https://www.linkedin.com/in/natalie-gonzalez-25a555252', 'https://www.linkedin.com/in/catjung', 'https://www.linkedin.com/in/bryanvuong', 'https://www.linkedin.com/in/rahul-joshi-589807155', 'https://www.linkedin.com/in/mekhala-hoskote-a6a75354', 'https://www.linkedin.com/in/kimberly-ochoa', 'https://www.linkedin.com/in/glen-petersen-75982089', 'https://www.linkedin.com/in/frederik-heath', 'https://uk.linkedin.com/in/mirthica', 'https://www.linkedin.com/in/catherine-su-373514a2', 'https://www.google.com/search?q=site:linkedin.com/in/+Education+is+UC+Berkeley+graduated+works+in+medical+physician&start=10', 'https://www.google.com/search?q=site:linkedin.com/in/+Education+is+UC+Berkeley+graduated+works+in+medical+physician&start=20', 'https://in.linkedin.com/in/barry-kerzin-832937b6', 'https://www.linkedin.com/in/maria-perez-57707037', 'https://www.linkedin.com/in/nguyenvanpeter', 'https://www.linkedin.com/in/brent-klapthor-97953b46', 'https://www.linkedin.com/in/ashleeosborne', 'https://www.linkedin.com/in/viviantvnguyen', 'https://www.linkedin.com/in/christy-george-a08aa618a', 'https://www.linkedin.com/in/jasminearora', 'https://www.linkedin.com/in/dorian-williams-a110b87', 'https://www.linkedin.com/in/michael-lu-554125150', 'https://www.google.com/search?q=site:linkedin.com/in/+Education+is+UC+Berkeley+graduated+works+in+medical+physician&start=20', 'https://www.google.com/search?q=site:linkedin.com/in/+Education+is+UC+Berkeley+graduated+works+in+medical+physician&start=30', 'https://www.linkedin.com/in/pavana-rajesh', 'https://www.linkedin.com/in/kristen-roberts', 'https://www.linkedin.com/in/dhruvpuri', 'https://www.linkedin.com/in/anmolwalia21', 'https://www.linkedin.com/in/daniel-skarsten-b72284230', 'https://www.linkedin.com/in/apurvaprasad', 'https://www.linkedin.com/in/cain-schugel-392524126', 'https://www.linkedin.com/in/dubondiego', 'https://www.linkedin.com/in/shivani-sundaram-134bb8173', 'https://www.linkedin.com/in/catherine-murphy-ba3901256', 'https://www.google.com/search?q=site:linkedin.com/in/+Education+is+UC+Berkeley+graduated+works+in+medical+physician&start=30', 'https://www.google.com/search?q=site:linkedin.com/in/+Education+is+UC+Berkeley+graduated+works+in+medical+physician&start=40', 'https://www.linkedin.com/in/maryconjiro', 'https://www.linkedin.com/in/bijal-patel-72832099', 'https://www.linkedin.com/in/payal-dhuvad-0252b61a3', 'https://www.linkedin.com/in/alexandra-hernandez-71516ba1', 'https://www.linkedin.com/in/brateil-badal', 'https://www.linkedin.com/in/lourdes-valdez-md-mph-ba51a5146', 'https://www.linkedin.com/in/tonmoya', 'https://uk.linkedin.com/in/laurencharter', 'https://www.linkedin.com/in/arany-uthayakumar-md-65b63694', 'https://www.linkedin.com/in/stephanie-leonard-85683b2a', 'https://www.google.com/search?q=site:linkedin.com/in/+Education+is+UC+Berkeley+graduated+works+in+medical+physician&start=40', 'https://www.google.com/search?q=site:linkedin.com/in/+Education+is+UC+Berkeley+graduated+works+in+medical+physician&start=50', 'https://www.linkedin.com/in/audrey-larry', 'https://www.linkedin.com/in/darylmangosing', 'https://www.linkedin.com/in/ashishsehgalmd', 'https://www.linkedin.com/in/l-clarke', 'https://www.linkedin.com/in/mayapetersen', 'https://www.linkedin.com/in/ferheen-abbasi', 'https://www.linkedin.com/in/jennifer-tsai-043b999b', 'https://www.linkedin.com/in/pranay-narang-604a41196', 'https://www.linkedin.com/in/delina-kahssay-0947b8175', 'https://www.linkedin.com/in/seoyoung-han-b59022b7', 'https://www.google.com/search?q=site:linkedin.com/in/+Education+is+UC+Berkeley+graduated+works+in+medical+physician&start=50', 'https://www.google.com/search?q=site:linkedin.com/in/+Education+is+UC+Berkeley+graduated+works+in+medical+physician&start=60', 'https://www.linkedin.com/in/saichelluri', 'https://www.linkedin.com/in/andrew-huberman', 'https://www.linkedin.com/in/shanea-gideon-00a6b2117', 'https://uk.linkedin.com/in/eerasarda', 'https://www.linkedin.com/in/sophia-moreno', 'https://www.linkedin.com/in/shyamalisinghal', 'https://www.linkedin.com/in/dwoolridgemd', 'https://www.linkedin.com/in/ella-zhang-502b2018a?trk=public_profile_browsemap_profile-result-card_result-card_full-click', 'https://www.linkedin.com/in/singhinder', 'https://www.linkedin.com/in/brent-fulton-b7424a10', 'https://www.google.com/search?q=site:linkedin.com/in/+Education+is+UC+Berkeley+graduated+works+in+medical+physician&start=60', 'https://www.google.com/search?q=site:linkedin.com/in/+Education+is+UC+Berkeley+graduated+works+in+medical+physician&start=70', 'https://www.linkedin.com/in/seandreyer', 'https://www.linkedin.com/in/draviram', 'https://www.linkedin.com/in/rut-patel-6268b2326', 'https://www.linkedin.com/in/ian-fernandopulle-md-ms-068364272', 'https://www.linkedin.com/in/riccesha-hattin-do-050747aa', 'https://www.linkedin.com/in/fredwupa', 'https://www.linkedin.com/in/diana-detwiler-83400319', 'https://www.linkedin.com/in/lucasyoshidamph', 'https://www.linkedin.com/in/elizabeth-ellie-seeger-392a55216', 'https://www.linkedin.com/in/daisy-d-b25a74157', 'https://www.google.com/search?q=site:linkedin.com/in/+Education+is+UC+Berkeley+graduated+works+in+medical+physician&start=70', 'https://www.google.com/search?q=site:linkedin.com/in/+Education+is+UC+Berkeley+graduated+works+in+medical+physician&start=80', 'https://www.linkedin.com/in/carolinealewis1', 'https://www.linkedin.com/in/jasleenkaur118', 'https://www.linkedin.com/in/peter-ng-98476a26', 'https://www.linkedin.com/in/michelle-c-a8b93132', 'https://www.linkedin.com/in/christopher-villatoro-a7ab91116', 'https://www.linkedin.com/in/eric-jc-jiang', 'https://www.linkedin.com/in/joscullion', 'https://www.linkedin.com/in/abhishek-suresh-99b47a187', 'https://www.linkedin.com/in/susan-light-88898519', 'https://www.linkedin.com/in/zainab-b-096925168', 'https://www.google.com/search?q=site:linkedin.com/in/+Education+is+UC+Berkeley+graduated+works+in+medical+physician&start=80', 'https://www.google.com/search?q=site:linkedin.com/in/+Education+is+UC+Berkeley+graduated+works+in+medical+physician&start=90', 'https://www.linkedin.com/in/julie-greene-68236410', 'https://www.linkedin.com/in/priyanka-iype-12454b178', 'https://www.linkedin.com/in/huynhnina', 'https://uk.linkedin.com/in/beth-daughters-8b10a9206', 'https://www.linkedin.com/in/abiya-baqai', 'https://www.linkedin.com/in/rebecca-haile-5081b2264', 'https://www.linkedin.com/in/roma-ranade', 'https://tw.linkedin.com/in/yutaotseng/zh-tw?trk=people-guest_people_search-card', 'https://www.linkedin.com/in/janeth-valdes-garcia-ba2861301', 'https://www.linkedin.com/in/bridget-o-brien-9417ba155', 'https://www.google.com/search?q=site:linkedin.com/in/+Education+is+UC+Berkeley+graduated+works+in+medical+physician&start=90', 'https://www.google.com/search?q=site:linkedin.com/in/+Education+is+UC+Berkeley+graduated+works+in+medical+physician']\n"
     ]
    },
    {
     "data": {
      "text/plain": [
       "121"
      ]
     },
     "execution_count": 147,
     "metadata": {},
     "output_type": "execute_result"
    }
   ],
   "source": [
    "from pprint import pprint\n",
    "import requests\n",
    "payload = {\n",
    "    'source': 'google',\n",
    "    'url': 'https://www.google.com/search?q=site:linkedin.com/in/+Education+is+UC+Berkeley+graduated+works+in+medical+physician',\n",
    "    'parse': True,\n",
    "    'start_page': 1,\n",
    "    'pages': 10,\n",
    "}\n",
    "\n",
    "response = requests.request(\n",
    "    'POST',\n",
    "    'https://realtime.oxylabs.io/v1/queries',\n",
    "    auth=('satwikapaul_oZIdD', 'Fttkhcvnfttkhcvn6_'),\n",
    "    json=payload\n",
    ")\n",
    "\n",
    "med1data = response.json()\n",
    "med1data_linkedin_urls = extract_linkedin_urls(\n",
    "    med1data)\n",
    "print(med1data_linkedin_urls)\n",
    "len(med1data_linkedin_urls)\n"
   ]
  },
  {
   "cell_type": "code",
   "execution_count": 148,
   "id": "9509c06a-732f-4ed1-bce4-27b29d84aac8",
   "metadata": {},
   "outputs": [
    {
     "name": "stdout",
     "output_type": "stream",
     "text": [
      "['https://www.google.com/search?q=site:linkedin.com/in/+Education+is+UC+Berkeley+graduated+works+in+medical+pediatrics', 'https://www.linkedin.com/in/dwoolridgemd', 'https://www.linkedin.com/in/catherine-su-373514a2', 'https://www.linkedin.com/in/zoe-a-chan', 'https://www.linkedin.com/in/drkathyyang', 'https://www.linkedin.com/in/nareh-haroutonian/cs?trk=people-guest_people_search-card', 'https://www.linkedin.com/in/lourdes-valdez-md-mph-ba51a5146', 'https://www.linkedin.com/in/isabel-henley-45638a1b0', 'https://www.linkedin.com/in/kris-madsen-aa26168', 'https://www.linkedin.com/in/yasaminvafai', 'https://www.linkedin.com/in/nora-lopez-535399227', 'https://www.google.com/search?q=site:linkedin.com/in/+Education+is+UC+Berkeley+graduated+works+in+medical+pediatrics', 'https://www.google.com/search?q=site:linkedin.com/in/+Education+is+UC+Berkeley+graduated+works+in+medical+pediatrics&start=10', 'https://www.linkedin.com/in/joshua-prudent-a3937522', 'https://www.linkedin.com/in/nbardach', 'https://www.linkedin.com/in/viviantvnguyen', 'https://www.linkedin.com/in/ethan-chieng', 'https://www.linkedin.com/in/sarah-peykar-11a24a23b', 'https://www.linkedin.com/in/jessicaniemeyer', 'https://www.linkedin.com/in/eric-jc-jiang', 'https://au.linkedin.com/in/mihir-pandya321', 'https://www.linkedin.com/in/johntli', 'https://www.linkedin.com/in/daniel-skarsten-b72284230', 'https://www.google.com/search?q=site:linkedin.com/in/+Education+is+UC+Berkeley+graduated+works+in+medical+pediatrics&start=10', 'https://www.google.com/search?q=site:linkedin.com/in/+Education+is+UC+Berkeley+graduated+works+in+medical+pediatrics&start=20', 'https://www.linkedin.com/in/bob-pantell-50a6b969', 'https://www.linkedin.com/in/priyanka-iype-12454b178', 'https://www.linkedin.com/in/elena-fuentes-afflick', 'https://www.linkedin.com/in/emily-frank', 'https://www.linkedin.com/in/crystal-chu-10353b204', 'https://www.linkedin.com/in/maya-ball-burack-438345112', 'https://www.linkedin.com/in/drnikki4kids', 'https://www.linkedin.com/in/keeley-phillips-a4488046', 'https://www.linkedin.com/in/cain-schugel-392524126', 'https://www.linkedin.com/in/sophia-panigrahi-8a6708243', 'https://www.google.com/search?q=site:linkedin.com/in/+Education+is+UC+Berkeley+graduated+works+in+medical+pediatrics&start=20', 'https://www.google.com/search?q=site:linkedin.com/in/+Education+is+UC+Berkeley+graduated+works+in+medical+pediatrics&start=30', 'https://www.linkedin.com/in/yasaminvafai', 'https://www.linkedin.com/in/nguyenvanpeter', 'https://www.linkedin.com/in/catherine-su-373514a2', 'https://www.linkedin.com/in/coral-james', 'https://www.linkedin.com/in/pranay-narang-604a41196', 'https://www.linkedin.com/in/jacqueline-heras-mejia', 'https://www.linkedin.com/in/sana-desai-00551a195', 'https://www.linkedin.com/in/christy-george-a08aa618a', 'https://www.linkedin.com/in/alice-brock-utne-md-356a8331', 'https://www.linkedin.com/in/stephanie-alderete-b47413201', 'https://www.linkedin.com/in/ngfion', 'https://www.linkedin.com/in/seoyoung-han-b59022b7', 'https://www.google.com/search?q=site:linkedin.com/in/+Education+is+UC+Berkeley+graduated+works+in+medical+pediatrics&start=30', 'https://www.google.com/search?q=site:linkedin.com/in/+Education+is+UC+Berkeley+graduated+works+in+medical+pediatrics&start=40', 'https://www.linkedin.com/in/lavanyavsankaran', 'https://www.linkedin.com/in/zacariah', 'https://www.linkedin.com/in/ronald-dahl-7a806a72', 'https://www.linkedin.com/in/omoniyi-omotoso-md-faap-mph-8414a8187', 'https://www.linkedin.com/in/s-phan', 'https://www.linkedin.com/in/samuel-mainieri', 'https://www.linkedin.com/in/richie-chu', 'https://www.linkedin.com/in/aarti-kulshrestha-651b256', 'https://www.linkedin.com/in/john-m-york-pharmd-mba-phdc-86b133b', 'https://www.linkedin.com/in/pragnesh-kalyandrug-748770200', 'https://www.google.com/search?q=site:linkedin.com/in/+Education+is+UC+Berkeley+graduated+works+in+medical+pediatrics&start=40', 'https://www.google.com/search?q=site:linkedin.com/in/+Education+is+UC+Berkeley+graduated+works+in+medical+pediatrics&start=50', 'https://www.linkedin.com/in/alexis-harmon-875334a5', 'https://www.linkedin.com/in/masato-takahashi-b02076193', 'https://www.linkedin.com/in/courtney-green-64043042', 'https://www.linkedin.com/in/heidi-m-feldman-97353312', 'https://www.linkedin.com/in/elena-salman-md-731776121', 'https://www.linkedin.com/in/catherine-murphy-ba3901256', 'https://www.linkedin.com/in/christine-board-92b5a195', 'https://www.linkedin.com/in/anthonylbui', 'https://www.linkedin.com/in/megan-curtin-baa735206', 'https://www.linkedin.com/in/noelle-terrero', 'https://www.google.com/search?q=site:linkedin.com/in/+Education+is+UC+Berkeley+graduated+works+in+medical+pediatrics&start=50', 'https://www.google.com/search?q=site:linkedin.com/in/+Education+is+UC+Berkeley+graduated+works+in+medical+pediatrics&start=60', 'https://www.linkedin.com/in/yasaminvafai', 'https://www.linkedin.com/in/nguyenvanpeter', 'https://www.linkedin.com/in/catherine-su-373514a2', 'https://www.linkedin.com/in/katherine-johnston-33352126', 'https://www.linkedin.com/in/kellen-mayes', 'https://www.linkedin.com/in/emilycxnway', 'https://www.linkedin.com/in/caitlyncobbrn', 'https://uk.linkedin.com/in/mirthica', 'https://www.linkedin.com/in/swapnikatvs', 'https://www.linkedin.com/in/riyamaster', 'https://www.linkedin.com/in/roma-ranade', 'https://www.linkedin.com/in/jarenmullen', 'https://www.google.com/search?q=site:linkedin.com/in/+Education+is+UC+Berkeley+graduated+works+in+medical+pediatrics&start=60', 'https://www.google.com/search?q=site:linkedin.com/in/+Education+is+UC+Berkeley+graduated+works+in+medical+pediatrics&start=70', 'https://www.linkedin.com/in/tina-cheng-md', 'https://www.linkedin.com/in/draudreynguyen', 'https://www.linkedin.com/in/aryam-embaye-4265b31b3?trk=public_post_main-feed-card-text', 'https://www.linkedin.com/in/alan-wang-at-berkeley', 'https://www.linkedin.com/in/ashleyannbecker', 'https://www.linkedin.com/in/julia-camilleri-westernu', 'https://www.linkedin.com/in/gracie-walker-7056a6221', 'https://www.linkedin.com/in/prantik-saha-4379509', 'https://www.linkedin.com/in/jenniferhorton1', 'https://www.linkedin.com/in/priya-bala-88a55723b', 'https://www.google.com/search?q=site:linkedin.com/in/+Education+is+UC+Berkeley+graduated+works+in+medical+pediatrics&start=70', 'https://www.google.com/search?q=site:linkedin.com/in/+Education+is+UC+Berkeley+graduated+works+in+medical+pediatrics&start=80', 'https://www.linkedin.com/in/samira-monshietehadi-2a30a4148', 'https://www.linkedin.com/in/christopher-villatoro-a7ab91116', 'https://www.linkedin.com/in/joan-jeung-52a9163b', 'https://www.linkedin.com/in/rovinya-ruhunage-656934259', 'https://www.linkedin.com/in/ainsley-torres', 'https://www.linkedin.com/in/benjamin-persons-806883243', 'https://www.linkedin.com/in/veronica-herrero-b86360229', 'https://www.linkedin.com/in/henry-kim-3a238aa4', 'https://www.linkedin.com/in/charlene-larson-rotandi', 'https://www.linkedin.com/in/chloe-jedwood-5954701a1', 'https://www.google.com/search?q=site:linkedin.com/in/+Education+is+UC+Berkeley+graduated+works+in+medical+pediatrics&start=80', 'https://www.google.com/search?q=site:linkedin.com/in/+Education+is+UC+Berkeley+graduated+works+in+medical+pediatrics&start=90', 'https://www.linkedin.com/in/mira-semaan-39552a188', 'https://www.linkedin.com/in/enoch-du', 'https://www.linkedin.com/in/lindsay-parham-7696a615a', 'https://www.linkedin.com/in/isabella-knott-212448209', 'https://www.linkedin.com/in/shivani-sundaram-134bb8173', 'https://www.linkedin.com/in/bijal-patel-72832099', 'https://www.linkedin.com/in/katelynn-alvarez-304817244', 'https://www.linkedin.com/in/antonia-schwartz-5a3a3a272', 'https://www.linkedin.com/in/alice-yu-4b15bb61', 'https://www.linkedin.com/in/mansi-kaushik', 'https://www.google.com/search?q=site:linkedin.com/in/+Education+is+UC+Berkeley+graduated+works+in+medical+pediatrics&start=90', 'https://www.google.com/search?q=site:linkedin.com/in/+Education+is+UC+Berkeley+graduated+works+in+medical+pediatrics']\n"
     ]
    },
    {
     "data": {
      "text/plain": [
       "125"
      ]
     },
     "execution_count": 148,
     "metadata": {},
     "output_type": "execute_result"
    }
   ],
   "source": [
    "from pprint import pprint\n",
    "import requests\n",
    "payload = {\n",
    "    'source': 'google',\n",
    "    'url': 'https://www.google.com/search?q=site:linkedin.com/in/+Education+is+UC+Berkeley+graduated+works+in+medical+pediatrics',\n",
    "    'parse': True,\n",
    "    'start_page': 1,\n",
    "    'pages': 10,\n",
    "}\n",
    "\n",
    "response = requests.request(\n",
    "    'POST',\n",
    "    'https://realtime.oxylabs.io/v1/queries',\n",
    "    auth=('satwikapaul_oZIdD', 'Fttkhcvnfttkhcvn6_'),\n",
    "    json=payload\n",
    ")\n",
    "\n",
    "med2data = response.json()\n",
    "med2data_linkedin_urls = extract_linkedin_urls(\n",
    "    med2data)\n",
    "print(med2data_linkedin_urls)\n",
    "len(med2data_linkedin_urls)\n"
   ]
  },
  {
   "cell_type": "code",
   "execution_count": 149,
   "id": "5d19a380-54c5-4fd7-a67f-042e520507a5",
   "metadata": {},
   "outputs": [
    {
     "name": "stdout",
     "output_type": "stream",
     "text": [
      "['https://www.google.com/search?q=site:linkedin.com/in/+Education+is+UC+Berkeley+graduated+works+in+medical+geriatrics', 'https://www.linkedin.com/in/alexander-smith-4110b617', 'https://www.linkedin.com/in/malinisramaiyer', 'https://www.linkedin.com/in/andrea-sandoval-8b465b1aa', 'https://www.linkedin.com/in/sarah-garrett-phd-0570236', 'https://www.linkedin.com/in/huynhnina', 'https://www.linkedin.com/in/cathy-jo-cress-msw-038b106', 'https://www.linkedin.com/in/brandon-koretz-8983a936', 'https://www.linkedin.com/in/vasudhadoijode', 'https://www.linkedin.com/in/betyang', 'https://www.linkedin.com/in/sandymchanlcsw', 'https://www.google.com/search?q=site:linkedin.com/in/+Education+is+UC+Berkeley+graduated+works+in+medical+geriatrics', 'https://www.google.com/search?q=site:linkedin.com/in/+Education+is+UC+Berkeley+graduated+works+in+medical+geriatrics&start=10', 'https://www.linkedin.com/in/vasudhadoijode', 'https://www.linkedin.com/in/betyang', 'https://www.linkedin.com/in/karazamora', 'https://www.linkedin.com/in/patty-quinlan-6168ba5', 'https://www.linkedin.com/in/gwen-yeo-1378a018', 'https://www.linkedin.com/in/landen-lee-2228b22b6', 'https://www.linkedin.com/in/f%C3%A1tima-monta%C3%B1o-mendoza-a51a13195', 'https://www.linkedin.com/in/jasminearora', 'https://www.linkedin.com/in/jennifer-guzman-b4a437216', 'https://www.linkedin.com/in/grace-heo-926b21263', 'https://www.google.com/search?q=site:linkedin.com/in/+Education+is+UC+Berkeley+graduated+works+in+medical+geriatrics&start=10', 'https://www.google.com/search?q=site:linkedin.com/in/+Education+is+UC+Berkeley+graduated+works+in+medical+geriatrics&start=20', 'https://www.linkedin.com/in/grace-heo-926b21263', 'https://www.linkedin.com/in/linden-lovett-a37544224', 'https://www.linkedin.com/in/janie-johnson-36ab119', 'https://www.linkedin.com/in/alexisvsilvera', 'https://www.linkedin.com/in/nguyen-tran-656b80119', 'https://www.linkedin.com/in/lisa-polley-9251779', 'https://www.linkedin.com/in/marielle-bolano-a2009159', 'https://www.linkedin.com/in/sona-trika', 'https://www.linkedin.com/in/janethcabanas', 'https://www.linkedin.com/in/abel-arias-096365343', 'https://www.google.com/search?q=site:linkedin.com/in/+Education+is+UC+Berkeley+graduated+works+in+medical+geriatrics&start=20', 'https://www.google.com/search?q=site:linkedin.com/in/+Education+is+UC+Berkeley+graduated+works+in+medical+geriatrics&start=30', 'https://www.linkedin.com/in/franco-emmanuel', 'https://www.linkedin.com/in/thomas-le-415274158', 'https://www.linkedin.com/in/jennifer-l-villareal-bsn-rn-phn-723022b7', 'https://www.linkedin.com/in/kimberly-cornejo-mendoza', 'https://www.linkedin.com/in/brittnie-phan-16b748107', 'https://www.linkedin.com/in/daniel-cole-b05569209', 'https://www.linkedin.com/in/xiansheng-yan', 'https://www.linkedin.com/in/migeldio', 'https://www.linkedin.com/in/setareh-kouchmeshki-916a8a118', 'https://www.linkedin.com/in/ammar-bhaiji-1a8b0a180', 'https://www.google.com/search?q=site:linkedin.com/in/+Education+is+UC+Berkeley+graduated+works+in+medical+geriatrics&start=30', 'https://www.google.com/search?q=site:linkedin.com/in/+Education+is+UC+Berkeley+graduated+works+in+medical+geriatrics&start=40', 'https://www.linkedin.com/in/muz-ahmad-82843019a', 'https://www.linkedin.com/in/trinh-tran-05779179', 'https://www.linkedin.com/in/jessicaniemeyer', 'https://www.linkedin.com/in/kaylynnconant', 'https://www.linkedin.com/in/monserrath-campos-22ba791b9', 'https://www.linkedin.com/in/jazmin-perez-467a1852', 'https://www.linkedin.com/in/aplruiz1', 'https://www.linkedin.com/in/kristinjong', 'https://www.linkedin.com/in/melody-lo-4189531aa', 'https://www.linkedin.com/in/masinamayo', 'https://www.google.com/search?q=site:linkedin.com/in/+Education+is+UC+Berkeley+graduated+works+in+medical+geriatrics&start=40', 'https://www.google.com/search?q=site:linkedin.com/in/+Education+is+UC+Berkeley+graduated+works+in+medical+geriatrics&start=50', 'https://www.linkedin.com/in/vivian-nguyen-17a56a257', 'https://www.linkedin.com/in/rebecca-sudore-b1136275', 'https://www.linkedin.com/in/geoff-lighthall-60819235', 'https://www.linkedin.com/in/alissa-hamner-33008422b', 'https://www.linkedin.com/in/franklin-wu-a3152a75', 'https://www.linkedin.com/in/ryefarquhar', 'https://www.linkedin.com/in/tara-najafi', 'https://www.linkedin.com/in/alisha-heximer245', 'https://www.linkedin.com/in/susan-light-88898519', 'https://www.linkedin.com/in/paola-perez-stephenson-b64023188', 'https://www.google.com/search?q=site:linkedin.com/in/+Education+is+UC+Berkeley+graduated+works+in+medical+geriatrics&start=50', 'https://www.google.com/search?q=site:linkedin.com/in/+Education+is+UC+Berkeley+graduated+works+in+medical+geriatrics&start=60', 'https://www.linkedin.com/in/paola-perez-stephenson-b64023188', 'https://www.linkedin.com/in/joseph-george-39aa6510a', 'https://www.linkedin.com/in/jenna-maxberry-1199bb323', 'https://www.linkedin.com/in/neil-verma-4864642b8', 'https://www.linkedin.com/in/anika-krishnan-04a4461b0', 'https://www.linkedin.com/in/hannah-gruender-22390622b', 'https://www.linkedin.com/in/lauren-matsuno-74021777', 'https://www.linkedin.com/in/jasper-wu-791a8066', 'https://www.linkedin.com/in/cristina-alvarado-36260611a', 'https://www.linkedin.com/in/minahchoi', 'https://www.google.com/search?q=site:linkedin.com/in/+Education+is+UC+Berkeley+graduated+works+in+medical+geriatrics&start=60', 'https://www.google.com/search?q=site:linkedin.com/in/+Education+is+UC+Berkeley+graduated+works+in+medical+geriatrics&start=70', 'https://www.linkedin.com/in/eva-chung-90b5b711a', 'https://www.linkedin.com/in/minahchoi', 'https://www.linkedin.com/in/kimberly-ochoa', 'https://www.linkedin.com/in/rosalind-kim-67263891', 'https://www.linkedin.com/in/sophia-licata-88b89a279', 'https://www.linkedin.com/in/lia-sackett-314a47188', 'https://www.linkedin.com/in/mary-yang-lcsw-mph-228b1668', 'https://www.linkedin.com/in/calvinwhuang', 'https://www.linkedin.com/in/idoddupla', 'https://www.linkedin.com/in/petrice-kam-4601055', 'https://www.google.com/search?q=site:linkedin.com/in/+Education+is+UC+Berkeley+graduated+works+in+medical+geriatrics&start=70', 'https://www.google.com/search?q=site:linkedin.com/in/+Education+is+UC+Berkeley+graduated+works+in+medical+geriatrics&start=80', 'https://www.linkedin.com/in/elenialin', 'https://www.linkedin.com/in/leilani-ly', 'https://www.linkedin.com/in/lisa-leiva', 'https://www.linkedin.com/in/mindy-duong168', 'https://www.linkedin.com/in/ayan-patel-875a64280', 'https://www.linkedin.com/in/alexis-argueta-estrada-8779511b2', 'https://www.linkedin.com/in/devin-reese-68aa21ab', 'https://www.linkedin.com/in/megan-curtin-baa735206', 'https://www.linkedin.com/in/marcelaperezmp', 'https://www.linkedin.com/in/caitlyn-miller-7a976618a', 'https://www.google.com/search?q=site:linkedin.com/in/+Education+is+UC+Berkeley+graduated+works+in+medical+geriatrics&start=80', 'https://www.google.com/search?q=site:linkedin.com/in/+Education+is+UC+Berkeley+graduated+works+in+medical+geriatrics&start=90', 'https://www.linkedin.com/in/veda-srinivasan-59702320b', 'https://www.linkedin.com/in/daniel-smothers', 'https://www.linkedin.com/in/barbara-levinson-521b6723', 'https://www.linkedin.com/in/jann-murray-garc%C3%ADa-md-mph-058733146', 'https://www.linkedin.com/in/allison-knight-12935b54', 'https://www.linkedin.com/in/caralyn-truong', 'https://www.linkedin.com/in/n-vega', 'https://www.linkedin.com/in/xy-indigo-golden-3a2b29210', 'https://www.linkedin.com/in/jeffrey-mariano-md-agsf-a80a357', 'https://www.linkedin.com/in/jessica-chen-199749b1', 'https://www.google.com/search?q=site:linkedin.com/in/+Education+is+UC+Berkeley+graduated+works+in+medical+geriatrics&start=90', 'https://www.google.com/search?q=site:linkedin.com/in/+Education+is+UC+Berkeley+graduated+works+in+medical+geriatrics']\n"
     ]
    },
    {
     "data": {
      "text/plain": [
       "121"
      ]
     },
     "execution_count": 149,
     "metadata": {},
     "output_type": "execute_result"
    }
   ],
   "source": [
    "from pprint import pprint\n",
    "import requests\n",
    "payload = {\n",
    "    'source': 'google',\n",
    "    'url': 'https://www.google.com/search?q=site:linkedin.com/in/+Education+is+UC+Berkeley+graduated+works+in+medical+geriatrics',\n",
    "    'parse': True,\n",
    "    'start_page': 1,\n",
    "    'pages': 10,\n",
    "}\n",
    "\n",
    "response = requests.request(\n",
    "    'POST',\n",
    "    'https://realtime.oxylabs.io/v1/queries',\n",
    "    auth=('satwikapaul_oZIdD', 'Fttkhcvnfttkhcvn6_'),\n",
    "    json=payload\n",
    ")\n",
    "\n",
    "med3data = response.json()\n",
    "med3data_linkedin_urls = extract_linkedin_urls(\n",
    "    med3data)\n",
    "print(med3data_linkedin_urls)\n",
    "len(med3data_linkedin_urls)\n"
   ]
  },
  {
   "cell_type": "code",
   "execution_count": 150,
   "id": "b0b0ff8e-12f3-4964-abfb-fb2c6c952440",
   "metadata": {},
   "outputs": [
    {
     "name": "stdout",
     "output_type": "stream",
     "text": [
      "['https://www.google.com/search?q=site:linkedin.com/in/+Education+is+UC+Berkeley+graduated+works+in+medical+surgeon', 'https://www.linkedin.com/in/jaymiehenry', 'https://au.linkedin.com/in/mihir-pandya321', 'https://www.linkedin.com/in/viviantvnguyen', 'https://www.linkedin.com/in/draudreynguyen', 'https://www.linkedin.com/in/karthikprasad3', 'https://www.linkedin.com/in/david-aka-167a90177', 'https://www.linkedin.com/in/courtney-green-64043042', 'https://www.linkedin.com/in/marco-angulo-43a46619b', 'https://www.linkedin.com/in/frederik-heath', 'https://www.linkedin.com/in/daniel-skarsten-b72284230', 'https://www.google.com/search?q=site:linkedin.com/in/+Education+is+UC+Berkeley+graduated+works+in+medical+surgeon', 'https://www.google.com/search?q=site:linkedin.com/in/+Education+is+UC+Berkeley+graduated+works+in+medical+surgeon&start=10', 'https://uk.linkedin.com/in/mirthica', 'https://www.linkedin.com/in/viviantvnguyen', 'https://www.linkedin.com/in/christy-george-a08aa618a', 'https://www.linkedin.com/in/kris-madsen-aa26168', 'https://www.linkedin.com/in/lavanyavsankaran', 'https://www.linkedin.com/in/daniel-skarsten-b72284230', 'https://www.linkedin.com/in/natalie-gonzalez-25a555252', 'https://www.linkedin.com/in/cain-schugel-392524126', 'https://www.linkedin.com/in/jenniferleeucb', 'https://www.linkedin.com/in/ashleeosborne', 'https://www.google.com/search?q=site:linkedin.com/in/+Education+is+UC+Berkeley+graduated+works+in+medical+surgeon&start=10', 'https://www.google.com/search?q=site:linkedin.com/in/+Education+is+UC+Berkeley+graduated+works+in+medical+surgeon&start=20', 'https://uk.linkedin.com/in/jessicazeynel', 'https://www.linkedin.com/in/dylan-bush-34000b106', 'https://www.linkedin.com/in/kristen-roberts', 'https://www.linkedin.com/in/bjcarva', 'https://www.linkedin.com/in/stephanie-leonard-85683b2a', 'https://www.linkedin.com/in/darylmangosing', 'https://www.linkedin.com/in/nicole-shaw-63428741', 'https://www.linkedin.com/in/marco-angulo-43a46619b', 'https://uk.linkedin.com/in/laurencharter', 'https://www.linkedin.com/in/jordansaid', 'https://www.google.com/search?q=site:linkedin.com/in/+Education+is+UC+Berkeley+graduated+works+in+medical+surgeon&start=20', 'https://www.google.com/search?q=site:linkedin.com/in/+Education+is+UC+Berkeley+graduated+works+in+medical+surgeon&start=30', 'https://www.linkedin.com/in/audrey-larry', 'https://www.linkedin.com/in/isabella-toledo-72aa4aab', 'https://www.linkedin.com/in/eric-jc-jiang', 'https://uk.linkedin.com/in/beth-daughters-8b10a9206', 'https://www.linkedin.com/in/l-clarke', 'https://www.linkedin.com/in/delina-kahssay-0947b8175', 'https://www.linkedin.com/in/dubondiego', 'https://www.linkedin.com/in/justin-l-devera-69504865', 'https://www.linkedin.com/in/reni-forer', 'https://www.linkedin.com/in/michelle-m-won', 'https://www.google.com/search?q=site:linkedin.com/in/+Education+is+UC+Berkeley+graduated+works+in+medical+surgeon&start=30', 'https://www.google.com/search?q=site:linkedin.com/in/+Education+is+UC+Berkeley+graduated+works+in+medical+surgeon&start=40', 'https://www.linkedin.com/in/stefano-bertozzi-069a06b', 'https://www.linkedin.com/in/michael-v-drake', 'https://www.linkedin.com/in/apurvaprasad', 'https://www.linkedin.com/in/surya-tripathi-b855485b', 'https://www.linkedin.com/in/mayapetersen', 'https://www.linkedin.com/in/alexandra-hernandez-71516ba1', 'https://www.linkedin.com/in/hina-chaudhry-mph-036a94289', 'https://www.linkedin.com/in/catherine-murphy-ba3901256', 'https://www.linkedin.com/in/svetlana-battle-40abaa19', 'https://www.linkedin.com/in/aryam-embaye-4265b31b3?trk=public_post_main-feed-card-text', 'https://www.google.com/search?q=site:linkedin.com/in/+Education+is+UC+Berkeley+graduated+works+in+medical+surgeon&start=40', 'https://www.google.com/search?q=site:linkedin.com/in/+Education+is+UC+Berkeley+graduated+works+in+medical+surgeon&start=50', 'https://www.linkedin.com/in/shanea-gideon-00a6b2117', 'https://www.linkedin.com/in/shyamalisinghal', 'https://www.linkedin.com/in/vincentooii', 'https://www.linkedin.com/in/alice-drozd-38a258207', 'https://www.linkedin.com/in/lourdes-valdez-md-mph-ba51a5146', 'https://in.linkedin.com/in/swethat728', 'https://www.linkedin.com/in/sophia-moreno', 'https://www.linkedin.com/in/bridget-o-brien-9417ba155', 'https://www.linkedin.com/in/elizabeth-ellie-seeger-392a55216', 'https://www.linkedin.com/in/jennifer-tsai-043b999b', 'https://www.google.com/search?q=site:linkedin.com/in/+Education+is+UC+Berkeley+graduated+works+in+medical+surgeon&start=50', 'https://www.google.com/search?q=site:linkedin.com/in/+Education+is+UC+Berkeley+graduated+works+in+medical+surgeon&start=60', 'https://www.linkedin.com/in/courtney-green-64043042', 'https://www.linkedin.com/in/bjcarva', 'https://www.linkedin.com/in/viviantvnguyen', 'https://www.linkedin.com/in/jasonskoff', 'https://www.linkedin.com/in/jaymiehenry', 'https://www.linkedin.com/in/joscullion', 'https://www.linkedin.com/in/ferheen-abbasi', 'https://www.linkedin.com/in/marshanickerson', 'https://www.linkedin.com/in/coral-james', 'https://www.linkedin.com/in/angelikasarmiento-6786b5227', 'https://www.linkedin.com/in/shayne-weston-2b13a94', 'https://www.linkedin.com/in/marisol-de-ornelas', 'https://www.google.com/search?q=site:linkedin.com/in/+Education+is+UC+Berkeley+graduated+works+in+medical+surgeon&start=60', 'https://www.google.com/search?q=site:linkedin.com/in/+Education+is+UC+Berkeley+graduated+works+in+medical+surgeon&start=70', 'https://www.linkedin.com/in/chris-curry-65092a141', 'https://www.linkedin.com/in/christin-zurbach-1b793285', 'https://www.linkedin.com/in/breona-jenkins-2593a02b', 'https://www.linkedin.com/in/arany-uthayakumar-md-65b63694', 'https://in.linkedin.com/in/barry-kerzin-832937b6', 'https://www.linkedin.com/in/ariel-kent-25a6189b', 'https://www.linkedin.com/in/michellesafransky', 'https://www.linkedin.com/in/julio-f-salas', 'https://mw.linkedin.com/in/jane-jere-mbbs-msc-mph-2403a8bb', 'https://www.linkedin.com/in/alexandra-heyes-darwin-7751b835', 'https://www.google.com/search?q=site:linkedin.com/in/+Education+is+UC+Berkeley+graduated+works+in+medical+surgeon&start=70', 'https://www.google.com/search?q=site:linkedin.com/in/+Education+is+UC+Berkeley+graduated+works+in+medical+surgeon&start=80', 'https://www.linkedin.com/in/jksingh', 'https://www.linkedin.com/in/savannah-hunter-2233b767', 'https://www.linkedin.com/in/daisy-d-b25a74157', 'https://www.linkedin.com/in/emma-f-clark', 'https://www.linkedin.com/in/kevinquinteroberkeley', 'https://www.linkedin.com/in/sarah-peykar-11a24a23b', 'https://www.linkedin.com/in/harisri108', 'https://www.linkedin.com/in/john-bacolores', 'https://www.linkedin.com/in/madeline-denham-290328262', 'https://www.linkedin.com/in/breannesee', 'https://www.google.com/search?q=site:linkedin.com/in/+Education+is+UC+Berkeley+graduated+works+in+medical+surgeon&start=80', 'https://www.google.com/search?q=site:linkedin.com/in/+Education+is+UC+Berkeley+graduated+works+in+medical+surgeon&start=90', 'https://www.linkedin.com/in/brent-klapthor-97953b46', 'https://www.linkedin.com/in/christopher-villatoro-a7ab91116', 'https://www.linkedin.com/in/jarenmullen', 'https://www.linkedin.com/in/kellen-mayes', 'https://ie.linkedin.com/in/birgit-greiner-ba264730', 'https://www.linkedin.com/in/joshua-gess-85698b95', 'https://www.linkedin.com/in/sarahlawrence4', 'https://www.linkedin.com/in/anthony-nardone-md-ms-ms-b8b84533', 'https://www.linkedin.com/in/julie-greene-68236410', 'https://www.linkedin.com/in/vivianyang-ucsf', 'https://www.google.com/search?q=site:linkedin.com/in/+Education+is+UC+Berkeley+graduated+works+in+medical+surgeon&start=90', 'https://www.google.com/search?q=site:linkedin.com/in/+Education+is+UC+Berkeley+graduated+works+in+medical+surgeon']\n"
     ]
    },
    {
     "data": {
      "text/plain": [
       "123"
      ]
     },
     "execution_count": 150,
     "metadata": {},
     "output_type": "execute_result"
    }
   ],
   "source": [
    "from pprint import pprint\n",
    "import requests\n",
    "payload = {\n",
    "    'source': 'google',\n",
    "    'url': 'https://www.google.com/search?q=site:linkedin.com/in/+Education+is+UC+Berkeley+graduated+works+in+medical+surgeon',\n",
    "    'parse': True,\n",
    "    'start_page': 1,\n",
    "    'pages': 10,\n",
    "}\n",
    "\n",
    "response = requests.request(\n",
    "    'POST',\n",
    "    'https://realtime.oxylabs.io/v1/queries',\n",
    "    auth=('satwikapaul_oZIdD', 'Fttkhcvnfttkhcvn6_'),\n",
    "    json=payload\n",
    ")\n",
    "\n",
    "med4data = response.json()\n",
    "med4data_linkedin_urls = extract_linkedin_urls(\n",
    "    med4data)\n",
    "print(med4data_linkedin_urls)\n",
    "len(med4data_linkedin_urls)\n"
   ]
  },
  {
   "cell_type": "code",
   "execution_count": 152,
   "id": "9fd45252-164b-46b1-bd42-881776db5266",
   "metadata": {},
   "outputs": [
    {
     "name": "stdout",
     "output_type": "stream",
     "text": [
      "['https://www.google.com/search?q=site:linkedin.com/in/+Education+is+UC+Berkeley+graduated+works+in+medical+Oncologist', 'https://www.linkedin.com/in/natesh-raj-saini-10b982201', 'https://www.linkedin.com/in/daniel-kwon-243b701b', 'https://www.linkedin.com/in/ashleeosborne', 'https://au.linkedin.com/in/mihir-pandya321', 'https://www.linkedin.com/in/natalie-marshall-1b5b2941', 'https://www.linkedin.com/in/ferheen-abbasi', 'https://www.linkedin.com/in/mira-semaan-39552a188', 'https://www.linkedin.com/in/natalie-gonzalez-25a555252', 'https://www.linkedin.com/in/cain-schugel-392524126', 'https://www.linkedin.com/in/sylvia-si-cheng', 'https://www.google.com/search?q=site:linkedin.com/in/+Education+is+UC+Berkeley+graduated+works+in+medical+Oncologist', 'https://www.google.com/search?q=site:linkedin.com/in/+Education+is+UC+Berkeley+graduated+works+in+medical+Oncologist&start=10', 'https://www.linkedin.com/in/willpotratz', 'https://www.linkedin.com/in/jessica-humphrey-6136a4190?trk=public_profile_browsemap_profile-result-card_result-card_full-click', 'https://www.linkedin.com/in/shivani-sundaram-134bb8173', 'https://www.linkedin.com/in/emilycxnway', 'https://www.linkedin.com/in/shraddha-pandey', 'https://www.linkedin.com/in/stephanie-leonard-85683b2a', 'https://www.linkedin.com/in/roma-ranade', 'https://in.linkedin.com/in/swethat728', 'https://www.linkedin.com/in/alissa-gordon-111681197', 'https://www.linkedin.com/in/rebecca-haile-5081b2264', 'https://www.google.com/search?q=site:linkedin.com/in/+Education+is+UC+Berkeley+graduated+works+in+medical+Oncologist&start=10', 'https://www.google.com/search?q=site:linkedin.com/in/+Education+is+UC+Berkeley+graduated+works+in+medical+Oncologist&start=20', 'https://www.linkedin.com/in/jaime-leon-73b8b4229', 'https://www.linkedin.com/in/michelle-t-65082b1b0?trk=public_profile_samename-profile_profile-result-card_result-card_full-click', 'https://www.linkedin.com/in/jarenmullen', 'https://www.linkedin.com/in/lavanyavsankaran', 'https://www.linkedin.com/in/mahathi-kandimalla', 'https://www.linkedin.com/in/maria-perez-57707037', 'https://www.linkedin.com/in/hester-choi-43b1634', 'https://www.linkedin.com/in/rahul-joshi-589807155', 'https://www.linkedin.com/in/tyler-johnson-1a037541', 'https://www.linkedin.com/in/isabella-perez-388916246', 'https://www.google.com/search?q=site:linkedin.com/in/+Education+is+UC+Berkeley+graduated+works+in+medical+Oncologist&start=20', 'https://www.google.com/search?q=site:linkedin.com/in/+Education+is+UC+Berkeley+graduated+works+in+medical+Oncologist&start=30', 'https://www.linkedin.com/in/gabycaste', 'https://www.linkedin.com/in/khuang7', 'https://www.linkedin.com/in/claireesawyer', 'https://www.linkedin.com/in/anderson-peng-lee', 'https://www.linkedin.com/in/caelum-santos', 'https://www.linkedin.com/in/eric-manooki-6261521b2', 'https://www.linkedin.com/in/tony-figueroa-681610208', 'https://www.linkedin.com/in/seoyoung-han-b59022b7', 'https://www.linkedin.com/in/shwetank-singh-366124229', 'https://www.linkedin.com/in/janeth-valdes-garcia-ba2861301', 'https://www.google.com/search?q=site:linkedin.com/in/+Education+is+UC+Berkeley+graduated+works+in+medical+Oncologist&start=30', 'https://www.google.com/search?q=site:linkedin.com/in/+Education+is+UC+Berkeley+graduated+works+in+medical+Oncologist&start=40', 'https://www.linkedin.com/in/rebecca-lee-b315765a', 'https://www.linkedin.com/in/yenha', 'https://www.linkedin.com/in/behzad-amoozgar-md-mph-70189879', 'https://www.linkedin.com/in/james-lappin-9255091ab', 'https://www.linkedin.com/in/vanessa-huynh-97b460216', 'https://www.linkedin.com/in/ian-fernandopulle-md-ms-068364272', 'https://www.linkedin.com/in/mangwi-ngwa-bab590278', 'https://www.linkedin.com/in/sam-paplanus-6a70041b4', 'https://www.linkedin.com/in/saichelluri', 'https://www.linkedin.com/in/renan-e-aparicio-4947bb70', 'https://www.google.com/search?q=site:linkedin.com/in/+Education+is+UC+Berkeley+graduated+works+in+medical+Oncologist&start=40', 'https://www.google.com/search?q=site:linkedin.com/in/+Education+is+UC+Berkeley+graduated+works+in+medical+Oncologist&start=50', 'https://www.linkedin.com/in/mira-semaan-39552a188', 'https://www.linkedin.com/in/gabriel-cesena', 'https://www.linkedin.com/in/natesh-raj-saini-10b982201', 'https://www.linkedin.com/in/qqmares', 'https://uk.linkedin.com/in/mirthica', 'https://www.linkedin.com/in/brateil-badal', 'https://www.linkedin.com/in/christinemazzi', 'https://www.linkedin.com/in/audrey-larry', 'https://www.linkedin.com/in/cigall-kadoch-59009128', 'https://www.linkedin.com/in/anna-sindalovsky', 'https://www.linkedin.com/in/john-m-york-pharmd-mba-phdc-86b133b', 'https://www.linkedin.com/in/annatnguyen98', 'https://www.google.com/search?q=site:linkedin.com/in/+Education+is+UC+Berkeley+graduated+works+in+medical+Oncologist&start=50', 'https://www.google.com/search?q=site:linkedin.com/in/+Education+is+UC+Berkeley+graduated+works+in+medical+Oncologist&start=60', 'https://www.linkedin.com/in/hina-chaudhry-mph-036a94289', 'https://www.linkedin.com/in/mayapetersen', 'https://www.linkedin.com/in/sania-moghe', 'https://www.linkedin.com/in/melodyachang', 'https://www.linkedin.com/in/paramjyot-panesar', 'https://www.linkedin.com/in/ornelamuca', 'https://www.linkedin.com/in/surya-tripathi-b855485b', 'https://www.linkedin.com/in/trisha-andrews', 'https://www.linkedin.com/in/michael-singer-58b0a4199', 'https://www.linkedin.com/in/omar-mir-khaled-b278a2142', 'https://www.google.com/search?q=site:linkedin.com/in/+Education+is+UC+Berkeley+graduated+works+in+medical+Oncologist&start=60', 'https://www.google.com/search?q=site:linkedin.com/in/+Education+is+UC+Berkeley+graduated+works+in+medical+Oncologist&start=70', 'https://www.linkedin.com/in/ainsley-torres', 'https://www.linkedin.com/in/ishkaran-sohal-a71a7518a', 'https://www.linkedin.com/in/esthjung', 'https://www.linkedin.com/in/daniel-skarsten-b72284230', 'https://www.linkedin.com/in/johannafigueroa', 'https://www.linkedin.com/in/harisri108', 'https://www.linkedin.com/in/karenli23', 'https://www.linkedin.com/in/rajarnarayan', 'https://www.linkedin.com/in/abiya-baqai', 'https://www.linkedin.com/in/silveralkhafaji', 'https://www.google.com/search?q=site:linkedin.com/in/+Education+is+UC+Berkeley+graduated+works+in+medical+Oncologist&start=70', 'https://www.google.com/search?q=site:linkedin.com/in/+Education+is+UC+Berkeley+graduated+works+in+medical+Oncologist&start=80', 'https://www.linkedin.com/in/alan-wang-at-berkeley', 'https://www.linkedin.com/in/celeste-neahusan', 'https://www.linkedin.com/in/beniwas', 'https://www.linkedin.com/in/sienna-mann-49b2721b6', 'https://www.linkedin.com/in/catherine-julien-b2832a181', 'https://www.linkedin.com/in/catherine-su-373514a2', 'https://www.linkedin.com/in/kayceedaez', 'https://www.linkedin.com/in/ethan-kau', 'https://www.linkedin.com/in/fernando-silva-3b1365b2', 'https://www.linkedin.com/in/gabriel-cesena', 'https://www.google.com/search?q=site:linkedin.com/in/+Education+is+UC+Berkeley+graduated+works+in+medical+Oncologist&start=80', 'https://www.google.com/search?q=site:linkedin.com/in/+Education+is+UC+Berkeley+graduated+works+in+medical+Oncologist&start=90', 'https://www.linkedin.com/in/azitamoayeri', 'https://www.linkedin.com/in/pamela-george-ucb', 'https://www.linkedin.com/in/julian-roman-95860a13a', 'https://www.linkedin.com/in/enoch-du', 'https://www.linkedin.com/in/katelynn-alvarez-304817244', 'https://www.linkedin.com/in/catjung', 'https://www.linkedin.com/in/sophia-tang-56238a260', 'https://www.linkedin.com/in/ashutosh-maheshwari-91a0b0191', 'https://www.linkedin.com/in/lientra-lu-79257996', 'https://www.linkedin.com/in/sean-thomas-', 'https://www.google.com/search?q=site:linkedin.com/in/+Education+is+UC+Berkeley+graduated+works+in+medical+Oncologist&start=90', 'https://www.google.com/search?q=site:linkedin.com/in/+Education+is+UC+Berkeley+graduated+works+in+medical+Oncologist']\n"
     ]
    },
    {
     "data": {
      "text/plain": [
       "123"
      ]
     },
     "execution_count": 152,
     "metadata": {},
     "output_type": "execute_result"
    }
   ],
   "source": [
    "from pprint import pprint\n",
    "import requests\n",
    "payload = {\n",
    "    'source': 'google',\n",
    "    'url': 'https://www.google.com/search?q=site:linkedin.com/in/+Education+is+UC+Berkeley+graduated+works+in+medical+Oncologist',\n",
    "    'parse': True,\n",
    "    'start_page': 1,\n",
    "    'pages': 10,\n",
    "}\n",
    "\n",
    "response = requests.request(\n",
    "    'POST',\n",
    "    'https://realtime.oxylabs.io/v1/queries',\n",
    "    auth=('satwikapaul_oZIdD', 'Fttkhcvnfttkhcvn6_'),\n",
    "    json=payload\n",
    ")\n",
    "\n",
    "med5data = response.json()\n",
    "med5data_linkedin_urls = extract_linkedin_urls(\n",
    "    med5data)\n",
    "print(med5data_linkedin_urls)\n",
    "len(med5data_linkedin_urls)\n"
   ]
  },
  {
   "cell_type": "code",
   "execution_count": 153,
   "id": "1c4a9cfd-167f-43d3-bbc8-270a3ba6aadd",
   "metadata": {},
   "outputs": [
    {
     "name": "stdout",
     "output_type": "stream",
     "text": [
      "['https://www.google.com/search?q=site:linkedin.com/in/+Education+is+UC+Berkeley+graduated+works+in+medical+specialist', 'https://www.linkedin.com/in/catjung', 'https://www.linkedin.com/in/hina-chaudhry-mph-036a94289', 'https://www.linkedin.com/in/ashleeosborne', 'https://www.linkedin.com/in/matthewjdomingo', 'https://www.linkedin.com/in/jaime-leon-73b8b4229', 'https://www.linkedin.com/in/mahathi-kandimalla', 'https://www.linkedin.com/in/natalie-gonzalez-25a555252', 'https://www.linkedin.com/in/damian-villalobos-ab05ab25a', 'https://www.linkedin.com/in/llerenashaina', 'https://www.linkedin.com/in/alexander-felix-359679139', 'https://www.google.com/search?q=site:linkedin.com/in/+Education+is+UC+Berkeley+graduated+works+in+medical+specialist', 'https://www.google.com/search?q=site:linkedin.com/in/+Education+is+UC+Berkeley+graduated+works+in+medical+specialist&start=10', 'https://www.linkedin.com/in/rwalsh22', 'https://www.linkedin.com/in/christine-board-92b5a195', 'https://www.linkedin.com/in/virginia-t-scarlett', 'https://www.linkedin.com/in/irma-l-moreno-05850189', 'https://www.linkedin.com/in/marco-angulo-43a46619b', 'https://www.linkedin.com/in/shanea-gideon-00a6b2117', 'https://www.linkedin.com/in/emma-f-clark', 'https://www.linkedin.com/in/eric-jc-jiang', 'https://www.linkedin.com/in/stefano-bertozzi-069a06b', 'https://www.linkedin.com/in/viviantvnguyen', 'https://www.google.com/search?q=site:linkedin.com/in/+Education+is+UC+Berkeley+graduated+works+in+medical+specialist&start=10', 'https://www.google.com/search?q=site:linkedin.com/in/+Education+is+UC+Berkeley+graduated+works+in+medical+specialist&start=20', 'https://www.linkedin.com/in/julie-greene-68236410', 'https://www.linkedin.com/in/gabycaste', 'https://uk.linkedin.com/in/mirthica', 'https://www.linkedin.com/in/allenemilyrose', 'https://www.linkedin.com/in/juancarlosbordes89/', 'https://www.linkedin.com/in/rachel-m-682835128', 'https://www.linkedin.com/in/bo-t-baa79b7', 'https://www.linkedin.com/in/sonya-reynolds-7575441b1', 'https://www.linkedin.com/in/rebecca-haile-5081b2264', 'https://www.linkedin.com/in/nico-fujii', 'https://www.google.com/search?q=site:linkedin.com/in/+Education+is+UC+Berkeley+graduated+works+in+medical+specialist&start=20', 'https://www.google.com/search?q=site:linkedin.com/in/+Education+is+UC+Berkeley+graduated+works+in+medical+specialist&start=30', 'https://www.linkedin.com/in/wilfredo-ortiz-22b93760', 'https://uk.linkedin.com/in/laurencharter', 'https://www.linkedin.com/in/seoyoung-han-b59022b7', 'https://www.linkedin.com/in/emily-p-27554275', 'https://www.linkedin.com/in/helena-park-a705781b1', 'https://www.linkedin.com/in/logan-ainger-7a07b8a0', 'https://www.linkedin.com/in/irlandagonzalez', 'https://www.linkedin.com/in/joseph-m-marini-mph-703525228', 'https://www.linkedin.com/in/madeline-denham-290328262', 'https://www.linkedin.com/in/fine-tuitupou-85524213b', 'https://www.google.com/search?q=site:linkedin.com/in/+Education+is+UC+Berkeley+graduated+works+in+medical+specialist&start=30', 'https://www.google.com/search?q=site:linkedin.com/in/+Education+is+UC+Berkeley+graduated+works+in+medical+specialist&start=40', 'https://www.linkedin.com/in/sarah-peykar-11a24a23b', 'https://www.linkedin.com/in/janie-johnson-36ab119', 'https://www.linkedin.com/in/jin-jackson-830150140', 'https://www.linkedin.com/in/azhagiya-singam-ettayapuram-ramaprasad-67347b46', 'https://www.linkedin.com/in/celeste-neahusan', 'https://www.linkedin.com/in/amansyed0530', 'https://uk.linkedin.com/in/amia-reddy-704a7028a', 'https://www.linkedin.com/in/shayne-weston-2b13a94', 'https://www.linkedin.com/in/khatrip', 'https://www.linkedin.com/in/lourdes-valdez-md-mph-ba51a5146', 'https://www.google.com/search?q=site:linkedin.com/in/+Education+is+UC+Berkeley+graduated+works+in+medical+specialist&start=40', 'https://www.google.com/search?q=site:linkedin.com/in/+Education+is+UC+Berkeley+graduated+works+in+medical+specialist&start=50', 'https://www.linkedin.com/in/salayoh', 'https://www.linkedin.com/in/nikita-gourishetty-a12428172', 'https://www.linkedin.com/in/tu-le-b95044125', 'https://www.linkedin.com/in/julia-peck-70615459', 'https://www.linkedin.com/in/elizabeth-ellie-seeger-392a55216', 'https://www.linkedin.com/in/ella-zhang-502b2018a?trk=public_profile_browsemap_profile-result-card_result-card_full-click', 'https://www.linkedin.com/in/singhinder', 'https://www.linkedin.com/in/joscullion', 'https://www.linkedin.com/in/monica-velazquez-72a44913b', 'https://ve.linkedin.com/in/kieranhoward', 'https://www.google.com/search?q=site:linkedin.com/in/+Education+is+UC+Berkeley+graduated+works+in+medical+specialist&start=50', 'https://www.google.com/search?q=site:linkedin.com/in/+Education+is+UC+Berkeley+graduated+works+in+medical+specialist&start=60', 'https://www.linkedin.com/in/isabella-toledo-72aa4aab', 'https://www.linkedin.com/in/darylmangosing', 'https://www.linkedin.com/in/carolinealewis1', 'https://www.linkedin.com/in/ted-macarthur-42702b6b', 'https://www.linkedin.com/in/kathleenpera', 'https://www.linkedin.com/in/catherine-castillo-55308a166', 'https://www.linkedin.com/in/bridget-o-brien-9417ba155', 'https://www.linkedin.com/in/christopher-villatoro-a7ab91116', 'https://www.linkedin.com/in/scott-mcgrath-phd', 'https://www.linkedin.com/in/alexandra-hernandez-71516ba1', 'https://www.google.com/search?q=site:linkedin.com/in/+Education+is+UC+Berkeley+graduated+works+in+medical+specialist&start=60', 'https://www.google.com/search?q=site:linkedin.com/in/+Education+is+UC+Berkeley+graduated+works+in+medical+specialist&start=70', 'https://www.linkedin.com/in/ashleyannbecker', 'https://www.linkedin.com/in/piper-stanger-ph-d-48a3b5109', 'https://www.linkedin.com/in/samuel-kim-a86aba132', 'https://www.linkedin.com/in/usamafaheemhere', 'https://www.linkedin.com/in/kevinquinteroberkeley', 'https://www.linkedin.com/in/cgreened', 'https://www.linkedin.com/in/nick-p-nguyen', 'https://www.linkedin.com/in/christin-zurbach-1b793285', 'https://www.linkedin.com/in/melissa-jara-edd-655b2571', 'https://www.linkedin.com/in/ashika-john-a74318183', 'https://www.google.com/search?q=site:linkedin.com/in/+Education+is+UC+Berkeley+graduated+works+in+medical+specialist&start=70', 'https://www.google.com/search?q=site:linkedin.com/in/+Education+is+UC+Berkeley+graduated+works+in+medical+specialist&start=80', 'https://www.linkedin.com/in/enikia-ford-morthel-9a082726', 'https://www.linkedin.com/in/usamafaheemhere', 'https://www.linkedin.com/in/enikia-ford-morthel-9a082726', 'https://www.linkedin.com/in/timothy-lu-mph-b83b031b6', 'https://www.linkedin.com/in/savannah-hunter-2233b767', 'https://www.linkedin.com/in/anthony-sanabria-201004b0', 'https://www.linkedin.com/in/nilsenadam', 'https://www.linkedin.com/in/kara-snider', 'https://www.linkedin.com/in/briauna-bailey-m-s-m-ed-676b366a', 'https://www.linkedin.com/in/soumil-jain', 'https://www.linkedin.com/in/stephanie-leonard-85683b2a', 'https://www.linkedin.com/in/maisie-stevens-b065b016b', 'https://www.google.com/search?q=site:linkedin.com/in/+Education+is+UC+Berkeley+graduated+works+in+medical+specialist&start=80', 'https://www.google.com/search?q=site:linkedin.com/in/+Education+is+UC+Berkeley+graduated+works+in+medical+specialist&start=90', 'https://www.linkedin.com/in/solis-winters', 'https://www.linkedin.com/in/mayapetersen', 'https://uk.linkedin.com/in/jessicazeynel', 'https://www.linkedin.com/in/stephanie-wong-a72b8119b', 'https://www.linkedin.com/in/lauracounts', 'https://www.linkedin.com/in/bobbi-griggs-b9b03743', 'https://www.linkedin.com/in/sarah-wheelerphd', 'https://www.linkedin.com/in/james-potter-atc-lat-176ba9bb', 'https://www.linkedin.com/in/limsico', 'https://www.linkedin.com/in/michael-conner-683753b2', 'https://www.google.com/search?q=site:linkedin.com/in/+Education+is+UC+Berkeley+graduated+works+in+medical+specialist&start=90', 'https://www.google.com/search?q=site:linkedin.com/in/+Education+is+UC+Berkeley+graduated+works+in+medical+specialist']\n"
     ]
    },
    {
     "data": {
      "text/plain": [
       "123"
      ]
     },
     "execution_count": 153,
     "metadata": {},
     "output_type": "execute_result"
    }
   ],
   "source": [
    "from pprint import pprint\n",
    "import requests\n",
    "payload = {\n",
    "    'source': 'google',\n",
    "    'url': 'https://www.google.com/search?q=site:linkedin.com/in/+Education+is+UC+Berkeley+graduated+works+in+medical+specialist',\n",
    "    'parse': True,\n",
    "    'start_page': 1,\n",
    "    'pages': 10,\n",
    "}\n",
    "\n",
    "response = requests.request(\n",
    "    'POST',\n",
    "    'https://realtime.oxylabs.io/v1/queries',\n",
    "    auth=('satwikapaul_oZIdD', 'Fttkhcvnfttkhcvn6_'),\n",
    "    json=payload\n",
    ")\n",
    "\n",
    "med6data = response.json()\n",
    "med6data_linkedin_urls = extract_linkedin_urls(\n",
    "    med6data)\n",
    "print(med6data_linkedin_urls)\n",
    "len(med6data_linkedin_urls)\n"
   ]
  },
  {
   "cell_type": "code",
   "execution_count": 154,
   "id": "5ce8e916-b352-439b-af00-bda61976f2d0",
   "metadata": {},
   "outputs": [
    {
     "name": "stdout",
     "output_type": "stream",
     "text": [
      "['https://www.google.com/search?q=site:linkedin.com/in/+Education+is+UC+Berkeley+graduated+works+in+medical+cardio', 'https://www.linkedin.com/in/delaney-basile-753133184', 'https://www.linkedin.com/in/woosun-kang-b21496218', 'https://www.linkedin.com/in/seohyun-stacy-ahn-399018173', 'https://www.linkedin.com/in/bryanvuong', 'https://www.linkedin.com/in/tyrekrichardson24', 'https://www.linkedin.com/in/angela-liu-4824b539', 'https://www.linkedin.com/in/kate-yang-0a0465242', 'https://www.linkedin.com/in/mahathi-kandimalla', 'https://www.linkedin.com/in/diya-sinha-344300186', 'https://www.linkedin.com/in/daniel-skarsten-b72284230', 'https://www.google.com/search?q=site:linkedin.com/in/+Education+is+UC+Berkeley+graduated+works+in+medical+cardio', 'https://www.google.com/search?q=site:linkedin.com/in/+Education+is+UC+Berkeley+graduated+works+in+medical+cardio&start=10', 'https://www.linkedin.com/in/arjun-joshi-a1a484287', 'https://www.linkedin.com/in/viviantvnguyen', 'https://www.linkedin.com/in/daniela-castillo-6b73541a7', 'https://www.linkedin.com/in/maya-douglas-9165b21b5', 'https://www.linkedin.com/in/jessica-kaplan-a73091263', 'https://www.linkedin.com/in/christy-george-a08aa618a', 'https://www.linkedin.com/in/sarah-peykar-11a24a23b', 'https://www.linkedin.com/in/eric-jc-jiang', 'https://www.linkedin.com/in/keeley-phillips-a4488046', 'https://www.linkedin.com/in/sameehaahmed', 'https://www.google.com/search?q=site:linkedin.com/in/+Education+is+UC+Berkeley+graduated+works+in+medical+cardio&start=10', 'https://www.google.com/search?q=site:linkedin.com/in/+Education+is+UC+Berkeley+graduated+works+in+medical+cardio&start=20', 'https://www.linkedin.com/in/jessica-zheng-961b33178', 'https://uk.linkedin.com/in/beth-daughters-8b10a9206', 'https://www.linkedin.com/in/emilypham1600', 'https://www.linkedin.com/in/abdullah-m1', 'https://www.linkedin.com/in/vivianyang-ucsf', 'https://www.linkedin.com/in/danielhan61', 'https://www.linkedin.com/in/soumya-rai', 'https://www.linkedin.com/in/taloa-cardinal', 'https://www.linkedin.com/in/mikaela-h-holland-60946121b', 'https://uk.linkedin.com/in/mirthica', 'https://www.google.com/search?q=site:linkedin.com/in/+Education+is+UC+Berkeley+graduated+works+in+medical+cardio&start=20', 'https://www.google.com/search?q=site:linkedin.com/in/+Education+is+UC+Berkeley+graduated+works+in+medical+cardio&start=30', 'https://www.linkedin.com/in/ashleeosborne', 'https://www.linkedin.com/in/daniel-lesavoy-032613170', 'https://www.linkedin.com/in/celeste-neahusan', 'https://www.linkedin.com/in/catherine-murphy-ba3901256', 'https://www.linkedin.com/in/anya-vertanessian', 'https://www.linkedin.com/in/irma-l-moreno-05850189', 'https://www.linkedin.com/in/jacquelinefurrier', 'https://www.linkedin.com/in/stephanie-leonard-85683b2a', 'https://www.linkedin.com/in/benjamin-persons-806883243', 'https://www.linkedin.com/in/jasminearora', 'https://www.google.com/search?q=site:linkedin.com/in/+Education+is+UC+Berkeley+graduated+works+in+medical+cardio&start=30', 'https://www.google.com/search?q=site:linkedin.com/in/+Education+is+UC+Berkeley+graduated+works+in+medical+cardio&start=40', 'https://www.linkedin.com/in/kate-yang-0a0465242', 'https://www.linkedin.com/in/woosun-kang-b21496218', 'https://www.linkedin.com/in/mayapetersen', 'https://www.linkedin.com/in/asa-j-smith', 'https://www.linkedin.com/in/gracie-walker-7056a6221', 'https://www.linkedin.com/in/celina-gilmore-berkeley', 'https://www.linkedin.com/in/mayapetersen', 'https://www.linkedin.com/in/apurvaprasad', 'https://www.linkedin.com/in/antonia-schwartz-5a3a3a272', 'https://www.linkedin.com/in/katiejones23', 'https://www.linkedin.com/in/bernardo-moreno-638b57241', 'https://www.linkedin.com/in/emma-f-clark', 'https://www.google.com/search?q=site:linkedin.com/in/+Education+is+UC+Berkeley+graduated+works+in+medical+cardio&start=40', 'https://www.google.com/search?q=site:linkedin.com/in/+Education+is+UC+Berkeley+graduated+works+in+medical+cardio&start=50', 'https://www.linkedin.com/in/corliss-lay', 'https://www.linkedin.com/in/samuel-kim-a86aba132', 'https://www.linkedin.com/in/buvinnash', 'https://www.linkedin.com/in/elizabeth-ellie-seeger-392a55216', 'https://au.linkedin.com/in/mihir-pandya321', 'https://www.linkedin.com/in/harisri108', 'https://www.linkedin.com/in/anthony-sanabria-201004b0', 'https://www.linkedin.com/in/alexander-raikhel-03b2a814', 'https://www.linkedin.com/in/julio-f-salas', 'https://www.linkedin.com/in/marcella-larosa', 'https://www.google.com/search?q=site:linkedin.com/in/+Education+is+UC+Berkeley+graduated+works+in+medical+cardio&start=50', 'https://www.google.com/search?q=site:linkedin.com/in/+Education+is+UC+Berkeley+graduated+works+in+medical+cardio&start=60', 'https://www.linkedin.com/in/catherine-banbury-23545a', 'https://www.linkedin.com/in/abdelrahman-abushouk-md-fesc', 'https://www.linkedin.com/in/veraniavaldez', 'https://www.linkedin.com/in/shelby-welton-002456153', 'https://www.linkedin.com/in/cynthia-moreno-215111344', 'https://www.linkedin.com/in/steven-zhang-2bb3a3292', 'https://www.linkedin.com/in/p-tian', 'https://www.linkedin.com/in/rut-patel-6268b2326', 'https://www.linkedin.com/in/christin-zurbach-1b793285', 'https://www.linkedin.com/in/breona-jenkins-2593a02b', 'https://www.google.com/search?q=site:linkedin.com/in/+Education+is+UC+Berkeley+graduated+works+in+medical+cardio&start=60', 'https://www.google.com/search?q=site:linkedin.com/in/+Education+is+UC+Berkeley+graduated+works+in+medical+cardio&start=70', 'https://www.linkedin.com/in/gabriella-torres-114957291', 'https://www.linkedin.com/in/sophiabromberg-84283489', 'https://www.linkedin.com/in/max-genecov-80439063', 'https://www.linkedin.com/in/blake-haist', 'https://www.linkedin.com/in/fine-tuitupou-85524213b', 'https://www.linkedin.com/in/shayne-weston-2b13a94', 'https://www.linkedin.com/in/davidnihill', 'https://www.linkedin.com/in/julia-peck-70615459', 'https://www.linkedin.com/in/jin-jackson-830150140', 'https://www.linkedin.com/in/jake-pykkonen-b7807b157', 'https://www.google.com/search?q=site:linkedin.com/in/+Education+is+UC+Berkeley+graduated+works+in+medical+cardio&start=70', 'https://www.google.com/search?q=site:linkedin.com/in/+Education+is+UC+Berkeley+graduated+works+in+medical+cardio&start=80', 'https://www.linkedin.com/in/justin-vilaysouk-a55563281', 'https://www.linkedin.com/in/sammy-obeid-0287aa181', 'https://www.linkedin.com/in/stephen-boynton-b910456b', 'https://www.linkedin.com/in/felicia-darling-8619b461', 'https://www.linkedin.com/in/lauracounts', 'https://www.linkedin.com/in/ashley-daly-a3298bb', 'https://uk.linkedin.com/in/jessicazeynel', 'https://www.linkedin.com/in/james-potter-atc-lat-176ba9bb', 'https://uk.linkedin.com/in/mirthica', 'https://www.linkedin.com/in/maia-e-hernandez', 'https://www.google.com/search?q=site:linkedin.com/in/+Education+is+UC+Berkeley+graduated+works+in+medical+cardio&start=80', 'https://www.google.com/search?q=site:linkedin.com/in/+Education+is+UC+Berkeley+graduated+works+in+medical+cardio&start=90', 'https://www.linkedin.com/in/shwetank-singh-366124229', 'https://www.linkedin.com/in/nicole-lai-research', 'https://www.linkedin.com/in/noa-marks-25236a2a8', 'https://www.linkedin.com/in/sindhujabokkisam', 'https://www.linkedin.com/in/surya-tripathi-b855485b', 'https://www.linkedin.com/in/ioana-ana', 'https://www.linkedin.com/in/francesca-benfanti-bb7203101', 'https://www.linkedin.com/in/joshua-pak-b78540233', 'https://www.linkedin.com/in/riha-prasad-24b461232', 'https://www.linkedin.com/in/lililevy', 'https://www.google.com/search?q=site:linkedin.com/in/+Education+is+UC+Berkeley+graduated+works+in+medical+cardio&start=90', 'https://www.google.com/search?q=site:linkedin.com/in/+Education+is+UC+Berkeley+graduated+works+in+medical+cardio']\n"
     ]
    },
    {
     "data": {
      "text/plain": [
       "123"
      ]
     },
     "execution_count": 154,
     "metadata": {},
     "output_type": "execute_result"
    }
   ],
   "source": [
    "from pprint import pprint\n",
    "import requests\n",
    "payload = {\n",
    "    'source': 'google',\n",
    "    'url': 'https://www.google.com/search?q=site:linkedin.com/in/+Education+is+UC+Berkeley+graduated+works+in+medical+cardio',\n",
    "    'parse': True,\n",
    "    'start_page': 1,\n",
    "    'pages': 10,\n",
    "}\n",
    "\n",
    "response = requests.request(\n",
    "    'POST',\n",
    "    'https://realtime.oxylabs.io/v1/queries',\n",
    "    auth=('satwikapaul_oZIdD', 'Fttkhcvnfttkhcvn6_'),\n",
    "    json=payload\n",
    ")\n",
    "\n",
    "med7data = response.json()\n",
    "med7data_linkedin_urls = extract_linkedin_urls(\n",
    "    med7data)\n",
    "print(med7data_linkedin_urls)\n",
    "len(med7data_linkedin_urls)\n"
   ]
  },
  {
   "cell_type": "code",
   "execution_count": 155,
   "id": "7ff83fc1-0cc6-43fb-9aec-eedef54bfd3b",
   "metadata": {},
   "outputs": [
    {
     "name": "stdout",
     "output_type": "stream",
     "text": [
      "['https://www.google.com/search?q=site:linkedin.com/in/+Education+is+UC+Berkeley+graduated+works+in+nurse+practitioner', 'https://www.linkedin.com/in/sheng-hsu-5358b252', 'https://www.linkedin.com/in/susan-light-88898519', 'https://www.linkedin.com/in/valerie-stoller-41707950', 'https://www.linkedin.com/in/katie-willcoxon-1503a25a', 'https://www.linkedin.com/in/salayoh', 'https://www.linkedin.com/in/stephanie-y-3abb48101', 'https://www.linkedin.com/in/eric-jc-jiang', 'https://www.linkedin.com/in/dylan-lim', 'https://www.linkedin.com/in/rosemariebersabe', 'https://www.linkedin.com/in/susan-light-821b3513', 'https://www.google.com/search?q=site:linkedin.com/in/+Education+is+UC+Berkeley+graduated+works+in+nurse+practitioner', 'https://www.google.com/search?q=site:linkedin.com/in/+Education+is+UC+Berkeley+graduated+works+in+nurse+practitioner&start=10', 'https://www.linkedin.com/in/alexlilichenko', 'https://www.linkedin.com/in/mollie-hudson-np', 'https://www.linkedin.com/in/jasleenkaur118', 'https://www.linkedin.com/in/georgia-rabara-msn-rn-fnp-c-b08ba750', 'https://www.linkedin.com/in/sof%C3%ADa-villagomez-rn-mph', 'https://www.linkedin.com/in/amy-wheeler-a3425012', 'https://www.linkedin.com/in/audrey-larry', 'https://www.linkedin.com/in/s-phan', 'https://www.linkedin.com/in/torbertha-torbon-msn-fnp-bc-5932a420', 'https://www.linkedin.com/in/meena-nair-61a00219', 'https://www.google.com/search?q=site:linkedin.com/in/+Education+is+UC+Berkeley+graduated+works+in+nurse+practitioner&start=10', 'https://www.google.com/search?q=site:linkedin.com/in/+Education+is+UC+Berkeley+graduated+works+in+nurse+practitioner&start=20', 'https://www.linkedin.com/in/elizabeth-ellie-seeger-392a55216', 'https://www.linkedin.com/in/lauren-michelson-b8660560', 'https://www.linkedin.com/in/vivian-ho-298861b4', 'https://www.linkedin.com/in/sarah-o-connell-410a0118', 'https://www.linkedin.com/in/michelle-chen-3a667530', 'https://www.linkedin.com/in/snlopez521', 'https://www.linkedin.com/in/katiemchen', 'https://www.linkedin.com/in/caitlyncobbrn', 'https://www.linkedin.com/in/lisa-l-lommel-64a14989', 'https://www.linkedin.com/in/sharon-wanjiku-6426107a', 'https://www.google.com/search?q=site:linkedin.com/in/+Education+is+UC+Berkeley+graduated+works+in+nurse+practitioner&start=20', 'https://www.google.com/search?q=site:linkedin.com/in/+Education+is+UC+Berkeley+graduated+works+in+nurse+practitioner&start=30', 'https://www.linkedin.com/in/ashleyannbecker', 'https://www.linkedin.com/in/ashley-sozzi-b1488464', 'https://www.linkedin.com/in/fatanehhamilton', 'https://www.linkedin.com/in/magdalena-ruiz-ruelas-68b249281', 'https://www.linkedin.com/in/marshanickerson', 'https://www.linkedin.com/in/subuneupane', 'https://www.linkedin.com/in/dawn-surratt-62ab2a5', 'https://www.linkedin.com/in/sara-wright-a363b341', 'https://www.linkedin.com/in/ella-zhang-502b2018a?trk=public_profile_browsemap_profile-result-card_result-card_full-click', 'https://www.linkedin.com/in/jane-ivory-ernstthal-8a13679', 'https://www.google.com/search?q=site:linkedin.com/in/+Education+is+UC+Berkeley+graduated+works+in+nurse+practitioner&start=30', 'https://www.google.com/search?q=site:linkedin.com/in/+Education+is+UC+Berkeley+graduated+works+in+nurse+practitioner&start=40', 'https://www.linkedin.com/in/brandon-chu-18124a275', 'https://www.linkedin.com/in/jennifer-l-villareal-bsn-rn-phn-723022b7', 'https://www.linkedin.com/in/favian-castro-63982aa9', 'https://www.linkedin.com/in/sydney-russell-503525266', 'https://www.linkedin.com/in/jina-d-36ab8875', 'https://www.linkedin.com/in/jesse-tung-031b3581', 'https://www.linkedin.com/in/stephanie-abandy-frimpong', 'https://www.linkedin.com/in/catherine-ko-8ab12016b', 'https://www.linkedin.com/in/yaning-tina-sun-650347141', 'https://www.linkedin.com/in/said-salem-283652257', 'https://www.google.com/search?q=site:linkedin.com/in/+Education+is+UC+Berkeley+graduated+works+in+nurse+practitioner&start=40', 'https://www.google.com/search?q=site:linkedin.com/in/+Education+is+UC+Berkeley+graduated+works+in+nurse+practitioner&start=50', 'https://www.linkedin.com/in/catherine-tanner-49b30a26', 'https://www.linkedin.com/in/linda-damico-b0319670', 'https://www.linkedin.com/in/betaya-simone-boorda-b29145252', 'https://www.linkedin.com/in/uma-arunachalam-2985241b8', 'https://www.linkedin.com/in/irisxing98', 'https://www.linkedin.com/in/briana-mitchell-whnp', 'https://www.linkedin.com/in/kara-garner-75aa01b', 'https://www.linkedin.com/in/abigail-lee-609756264', 'https://www.linkedin.com/in/sangeeta-san-agarawal-rn-np-ohn-ocn-integrative-med-nurse-practitioner-ai-engineer-436981', 'https://www.linkedin.com/in/christopher-villatoro-a7ab91116', 'https://www.google.com/search?q=site:linkedin.com/in/+Education+is+UC+Berkeley+graduated+works+in+nurse+practitioner&start=50', 'https://www.google.com/search?q=site:linkedin.com/in/+Education+is+UC+Berkeley+graduated+works+in+nurse+practitioner&start=60', 'https://www.linkedin.com/in/isra-hashmi-718ba237', 'https://www.linkedin.com/in/nia-clark-71bb40135', 'https://www.linkedin.com/in/aihua-hu-np-c-7497b87', 'https://www.linkedin.com/in/tesia-w-1a17912b0', 'https://www.linkedin.com/in/chenyi-jiang-81448118b', 'https://www.linkedin.com/in/zerreyna-zahid-306a52165', 'https://www.linkedin.com/in/cassandra-mazzoni-9326aa156', 'https://www.linkedin.com/in/joanne-welch-5a1737a0', 'https://www.linkedin.com/in/alanna-mcdermott', 'https://www.linkedin.com/in/chunming-ip-8446684b', 'https://www.google.com/search?q=site:linkedin.com/in/+Education+is+UC+Berkeley+graduated+works+in+nurse+practitioner&start=60', 'https://www.google.com/search?q=site:linkedin.com/in/+Education+is+UC+Berkeley+graduated+works+in+nurse+practitioner&start=70', 'https://www.linkedin.com/in/ashika-john-a74318183', 'https://www.linkedin.com/in/caitlyncobbrn', 'https://www.linkedin.com/in/ashley-sozzi-b1488464', 'https://www.linkedin.com/in/natalie-cadavid-87609492', 'https://www.linkedin.com/in/hina-chaudhry-mph-036a94289', 'https://www.linkedin.com/in/luizasavin88', 'https://www.linkedin.com/in/marc-benjamin-nagrampa-bsn-rn', 'https://www.linkedin.com/in/jennifer-lui-b999aba', 'https://www.linkedin.com/in/minjaekimmphmsn2022', 'https://www.linkedin.com/in/judith-hodson-096a67149', 'https://www.linkedin.com/in/petrice-kam-4601055', 'https://www.linkedin.com/in/alyssa-abegg-garcia-81baba6', 'https://www.google.com/search?q=site:linkedin.com/in/+Education+is+UC+Berkeley+graduated+works+in+nurse+practitioner&start=70', 'https://www.google.com/search?q=site:linkedin.com/in/+Education+is+UC+Berkeley+graduated+works+in+nurse+practitioner&start=80', 'https://www.linkedin.com/in/robertedinger8', 'https://www.linkedin.com/in/anna-fox-2b9043241?trk=public_profile_browsemap', 'https://www.linkedin.com/in/marisol-montes-080205b1', 'https://www.linkedin.com/in/ellen-little-00141735', 'https://www.linkedin.com/in/ashley-mora-13150b339', 'https://www.linkedin.com/in/lucas-calica-61ab8320b', 'https://www.linkedin.com/in/andrew-penn-rn-np-cns-pmhnp-bc-230814a', 'https://www.linkedin.com/in/safiyageorgedalmida', 'https://www.linkedin.com/in/chloe-kiester-5a547a151', 'https://www.linkedin.com/in/patricia-benner-a1985518', 'https://www.google.com/search?q=site:linkedin.com/in/+Education+is+UC+Berkeley+graduated+works+in+nurse+practitioner&start=80', 'https://www.google.com/search?q=site:linkedin.com/in/+Education+is+UC+Berkeley+graduated+works+in+nurse+practitioner&start=90', 'https://www.linkedin.com/in/leah-creamer-24b60154', 'https://www.linkedin.com/in/brigid-matts-39759943', 'https://www.linkedin.com/in/abigailcaguilar', 'https://www.linkedin.com/in/larry-vitale-6066537', 'https://www.linkedin.com/in/michael-cheng-msn-fnp-c-30031310a', 'https://www.linkedin.com/in/shayne-weston-2b13a94', 'https://www.linkedin.com/in/beccapease', 'https://www.linkedin.com/in/kathy-spies-434a9224', 'https://www.linkedin.com/in/nina-m-195301192', 'https://www.linkedin.com/in/caben', 'https://www.google.com/search?q=site:linkedin.com/in/+Education+is+UC+Berkeley+graduated+works+in+nurse+practitioner&start=90', 'https://www.google.com/search?q=site:linkedin.com/in/+Education+is+UC+Berkeley+graduated+works+in+nurse+practitioner']\n"
     ]
    },
    {
     "data": {
      "text/plain": [
       "123"
      ]
     },
     "execution_count": 155,
     "metadata": {},
     "output_type": "execute_result"
    }
   ],
   "source": [
    "from pprint import pprint\n",
    "import requests\n",
    "payload = {\n",
    "    'source': 'google',\n",
    "    'url': 'https://www.google.com/search?q=site:linkedin.com/in/+Education+is+UC+Berkeley+graduated+works+in+nurse+practitioner',\n",
    "    'parse': True,\n",
    "    'start_page': 1,\n",
    "    'pages': 10,\n",
    "}\n",
    "\n",
    "response = requests.request(\n",
    "    'POST',\n",
    "    'https://realtime.oxylabs.io/v1/queries',\n",
    "    auth=('satwikapaul_oZIdD', 'Fttkhcvnfttkhcvn6_'),\n",
    "    json=payload\n",
    ")\n",
    "\n",
    "med8data = response.json()\n",
    "med8data_linkedin_urls = extract_linkedin_urls(\n",
    "    med8data)\n",
    "print(med8data_linkedin_urls)\n",
    "len(med8data_linkedin_urls)\n"
   ]
  },
  {
   "cell_type": "code",
   "execution_count": 156,
   "id": "e1a52bc7-5e05-47b9-8b1c-63aa14f1a62d",
   "metadata": {},
   "outputs": [
    {
     "name": "stdout",
     "output_type": "stream",
     "text": [
      "['https://www.google.com/search?q=site:linkedin.com/in/+Education+is+UC+Berkeley+graduated+works+in+physician+assistant', 'https://www.linkedin.com/in/brandon-kar', 'https://www.linkedin.com/in/kristen-roberts', 'https://www.linkedin.com/in/madeline-storch', 'https://www.linkedin.com/in/melanie-huang-b78263185', 'https://www.linkedin.com/in/ashleyyupa', 'https://www.linkedin.com/in/brett-sibley-mpas-pa-c-mplc-049348149', 'https://www.linkedin.com/in/summer-walker-488747b4', 'https://www.linkedin.com/in/hina-chaudhry-mph-036a94289', 'https://www.linkedin.com/in/shrithika-logeshwaran', 'https://www.linkedin.com/in/bendermeghan', 'https://www.google.com/search?q=site:linkedin.com/in/+Education+is+UC+Berkeley+graduated+works+in+physician+assistant', 'https://www.google.com/search?q=site:linkedin.com/in/+Education+is+UC+Berkeley+graduated+works+in+physician+assistant&start=10', 'https://www.linkedin.com/in/victorle74', 'https://www.linkedin.com/in/kellyewoods', 'https://www.linkedin.com/in/breannesee', 'https://www.linkedin.com/in/courtney-la-9261991a5', 'https://www.linkedin.com/in/alexandra-weiss-5061321b5', 'https://www.linkedin.com/in/alexandra-hernandez-71516ba1', 'https://www.linkedin.com/in/fredwupa', 'https://www.linkedin.com/in/audrey-larry', 'https://www.linkedin.com/in/crystal-chang-14a22213b', 'https://au.linkedin.com/in/mihir-pandya321', 'https://www.google.com/search?q=site:linkedin.com/in/+Education+is+UC+Berkeley+graduated+works+in+physician+assistant&start=10', 'https://www.google.com/search?q=site:linkedin.com/in/+Education+is+UC+Berkeley+graduated+works+in+physician+assistant&start=20', 'https://www.linkedin.com/in/dana-yizhaky-001', 'https://www.linkedin.com/in/natalie-gonzalez-25a555252', 'https://www.linkedin.com/in/michelle-c-a8b93132', 'https://www.linkedin.com/in/pa-andy-chan', 'https://www.linkedin.com/in/esther-navarro-mhs-pa-c-31a556337', 'https://www.linkedin.com/in/elizabeth-trimmer-pac', 'https://www.linkedin.com/in/isabella-hawatmeh-bb8a39331', 'https://www.linkedin.com/in/cherrylmatias', 'https://www.linkedin.com/in/bijal-patel-72832099', 'https://www.linkedin.com/in/erin-duffy-79715270', 'https://www.google.com/search?q=site:linkedin.com/in/+Education+is+UC+Berkeley+graduated+works+in+physician+assistant&start=20', 'https://www.google.com/search?q=site:linkedin.com/in/+Education+is+UC+Berkeley+graduated+works+in+physician+assistant&start=30', 'https://www.linkedin.com/in/cheyenne-kreger-32796b273', 'https://www.linkedin.com/in/payal-dhuvad-0252b61a3', 'https://www.linkedin.com/in/claireesawyer', 'https://www.linkedin.com/in/julian-roman-95860a13a', 'https://www.linkedin.com/in/lois-yang-16666a6b', 'https://www.linkedin.com/in/ishkaran-sohal-a71a7518a', 'https://www.linkedin.com/in/stephanie-nguyen-b2b180b5', 'https://www.linkedin.com/in/kimberly-arias', 'https://www.linkedin.com/in/ferheen-abbasi', 'https://www.linkedin.com/in/bryanvuong', 'https://www.google.com/search?q=site:linkedin.com/in/+Education+is+UC+Berkeley+graduated+works+in+physician+assistant&start=30', 'https://www.google.com/search?q=site:linkedin.com/in/+Education+is+UC+Berkeley+graduated+works+in+physician+assistant&start=40', 'https://www.linkedin.com/in/daniel-coll', 'https://www.linkedin.com/in/ashleeosborne', 'https://www.linkedin.com/in/camilia-zaher-pa-c', 'https://www.linkedin.com/in/angie-shih-mhs-pa-c-b51618219', 'https://www.linkedin.com/in/jessieekim', 'https://www.linkedin.com/in/sarah-pontell-67803b21', 'https://www.linkedin.com/in/seoyoung-han-b59022b7', 'https://in.linkedin.com/in/swethat728', 'https://www.linkedin.com/in/lauren-jung-a27658210', 'https://www.linkedin.com/in/ella-zhang-502b2018a?trk=public_profile_browsemap_profile-result-card_result-card_full-click', 'https://www.google.com/search?q=site:linkedin.com/in/+Education+is+UC+Berkeley+graduated+works+in+physician+assistant&start=40', 'https://www.google.com/search?q=site:linkedin.com/in/+Education+is+UC+Berkeley+graduated+works+in+physician+assistant&start=50', 'https://uk.linkedin.com/in/beth-daughters-8b10a9206', 'https://www.linkedin.com/in/pavana-rajesh', 'https://www.linkedin.com/in/shanea-gideon-00a6b2117', 'https://www.linkedin.com/in/cintia-pa', 'https://www.linkedin.com/in/roseann-sous-86abb12bb', 'https://www.linkedin.com/in/reilly-edmonds-49a613117', 'https://www.linkedin.com/in/elizabeth-ellie-seeger-392a55216', 'https://www.linkedin.com/in/daniel-skarsten-b72284230', 'https://www.linkedin.com/in/parkerjanette', 'https://www.linkedin.com/in/kaylin-w-7991351ab?trk=public_profile_browsemap', 'https://www.google.com/search?q=site:linkedin.com/in/+Education+is+UC+Berkeley+graduated+works+in+physician+assistant&start=50', 'https://www.google.com/search?q=site:linkedin.com/in/+Education+is+UC+Berkeley+graduated+works+in+physician+assistant&start=60', 'https://www.linkedin.com/in/alice-chen-b229a31b0', 'https://www.linkedin.com/in/bendermeghan', 'https://www.linkedin.com/in/courtney-la-9261991a5', 'https://www.linkedin.com/in/mckenzie-l-walker', 'https://www.linkedin.com/in/emily-garrity-307b5276', 'https://www.linkedin.com/in/jennifer-ruffing', 'https://www.linkedin.com/in/giselle-mitchell-m-ed-c-tagme-3a798b9', 'https://www.linkedin.com/in/anmolwalia21', 'https://www.linkedin.com/in/stephanie-resnick-pa-c-937a73132', 'https://www.linkedin.com/in/carrie-phillips-58746890', 'https://www.linkedin.com/in/bonnie-j-lin', 'https://www.linkedin.com/in/dominique-marlin-andrews-7654962b9', 'https://www.google.com/search?q=site:linkedin.com/in/+Education+is+UC+Berkeley+graduated+works+in+physician+assistant&start=60', 'https://www.google.com/search?q=site:linkedin.com/in/+Education+is+UC+Berkeley+graduated+works+in+physician+assistant&start=70', 'https://www.linkedin.com/in/connor-labella-04637224', 'https://www.linkedin.com/in/befeng', 'https://www.linkedin.com/in/nathardiesmith?trk=public_profile_browsemap', 'https://www.linkedin.com/in/mark-harvey-9a80963a', 'https://www.linkedin.com/in/christopher-villatoro-a7ab91116', 'https://www.linkedin.com/in/brett-briard-2b631181', 'https://www.linkedin.com/in/michael-singer-58b0a4199', 'https://www.linkedin.com/in/arany-uthayakumar-md-65b63694', 'https://www.linkedin.com/in/maia-e-hernandez', 'https://www.linkedin.com/in/joscullion', 'https://www.google.com/search?q=site:linkedin.com/in/+Education+is+UC+Berkeley+graduated+works+in+physician+assistant&start=70', 'https://www.google.com/search?q=site:linkedin.com/in/+Education+is+UC+Berkeley+graduated+works+in+physician+assistant&start=80', 'https://www.linkedin.com/in/irlandagonzalez', 'https://www.linkedin.com/in/mayra-perez-244b7a251', 'https://www.linkedin.com/in/delina-kahssay-0947b8175', 'https://www.linkedin.com/in/lucas-calica-61ab8320b', 'https://www.linkedin.com/in/omar-mir-khaled-b278a2142', 'https://www.linkedin.com/in/kanani-bowie', 'https://www.linkedin.com/in/samuel-kim-a86aba132', 'https://www.linkedin.com/in/homira-o-aa1454112?trk=people-guest_people_search-card', 'https://www.linkedin.com/in/sterlingtuma', 'https://www.linkedin.com/in/caelum-santos', 'https://www.google.com/search?q=site:linkedin.com/in/+Education+is+UC+Berkeley+graduated+works+in+physician+assistant&start=80', 'https://www.google.com/search?q=site:linkedin.com/in/+Education+is+UC+Berkeley+graduated+works+in+physician+assistant&start=90', 'https://www.linkedin.com/in/rebecca-john-341677167', 'https://www.linkedin.com/in/trevor-larson-25054886', 'https://www.linkedin.com/in/elana-eisenberg', 'https://www.linkedin.com/in/alice-chen-b229a31b0', 'https://www.linkedin.com/in/stephanie-leonard-85683b2a', 'https://www.linkedin.com/in/tatsiana-franco-pa-c-403205115', 'https://www.linkedin.com/in/eric-long-', 'https://www.linkedin.com/in/ainsley-torres', 'https://www.linkedin.com/in/dianacheney7', 'https://www.linkedin.com/in/athena-alcala', 'https://www.google.com/search?q=site:linkedin.com/in/+Education+is+UC+Berkeley+graduated+works+in+physician+assistant&start=90', 'https://www.google.com/search?q=site:linkedin.com/in/+Education+is+UC+Berkeley+graduated+works+in+physician+assistant']\n"
     ]
    },
    {
     "data": {
      "text/plain": [
       "123"
      ]
     },
     "execution_count": 156,
     "metadata": {},
     "output_type": "execute_result"
    }
   ],
   "source": [
    "from pprint import pprint\n",
    "import requests\n",
    "payload = {\n",
    "    'source': 'google',\n",
    "    'url': 'https://www.google.com/search?q=site:linkedin.com/in/+Education+is+UC+Berkeley+graduated+works+in+physician+assistant',\n",
    "    'parse': True,\n",
    "    'start_page': 1,\n",
    "    'pages': 10,\n",
    "}\n",
    "\n",
    "response = requests.request(\n",
    "    'POST',\n",
    "    'https://realtime.oxylabs.io/v1/queries',\n",
    "    auth=('satwikapaul_oZIdD', 'Fttkhcvnfttkhcvn6_'),\n",
    "    json=payload\n",
    ")\n",
    "\n",
    "med9data = response.json()\n",
    "med9data_linkedin_urls = extract_linkedin_urls(\n",
    "    med9data)\n",
    "print(med9data_linkedin_urls)\n",
    "len(med9data_linkedin_urls)\n"
   ]
  },
  {
   "cell_type": "code",
   "execution_count": 157,
   "id": "3c6c0e61-05fd-4ed1-a2b2-c2c548be0ebc",
   "metadata": {},
   "outputs": [
    {
     "name": "stdout",
     "output_type": "stream",
     "text": [
      "['https://www.google.com/search?q=site:linkedin.com/in/+Education+is+UC+Berkeley+graduated+works+in+nurse+medical', 'https://www.linkedin.com/in/eric-jc-jiang', 'https://www.linkedin.com/in/caitlyncobbrn', 'https://www.linkedin.com/in/dylan-lim', 'https://www.linkedin.com/in/salayoh', 'https://uk.linkedin.com/in/giulia-aguiar-000160228', 'https://www.linkedin.com/in/amy-wheeler-a3425012', 'https://www.linkedin.com/in/ashley-sozzi-b1488464', 'https://www.linkedin.com/in/jin-jackson-830150140', 'https://www.linkedin.com/in/audrey-larry', 'https://www.linkedin.com/in/ashleyannbecker', 'https://www.google.com/search?q=site:linkedin.com/in/+Education+is+UC+Berkeley+graduated+works+in+nurse+medical', 'https://www.google.com/search?q=site:linkedin.com/in/+Education+is+UC+Berkeley+graduated+works+in+nurse+medical&start=10', 'https://www.linkedin.com/in/elizabeth-ellie-seeger-392a55216', 'https://www.linkedin.com/in/sof%C3%ADa-villagomez-rn-mph', 'https://www.linkedin.com/in/susan-light-88898519', 'https://www.linkedin.com/in/tiffanyphoang', 'https://www.linkedin.com/in/hina-chaudhry-mph-036a94289', 'https://www.linkedin.com/in/jennifer-l-villareal-bsn-rn-phn-723022b7', 'https://www.linkedin.com/in/katiejones23', 'https://www.linkedin.com/in/ian-fong-a9a59bb2', 'https://www.linkedin.com/in/jasleenkaur118', 'https://www.linkedin.com/in/daniela-castillo-6b73541a7', 'https://www.google.com/search?q=site:linkedin.com/in/+Education+is+UC+Berkeley+graduated+works+in+nurse+medical&start=10', 'https://www.google.com/search?q=site:linkedin.com/in/+Education+is+UC+Berkeley+graduated+works+in+nurse+medical&start=20', 'https://www.linkedin.com/in/chanmonica', 'https://www.linkedin.com/in/marshanickerson', 'https://www.linkedin.com/in/favian-castro-63982aa9', 'https://www.linkedin.com/in/huynhnina', 'https://www.linkedin.com/in/jennifer-sherman-rn', 'https://www.linkedin.com/in/marisol-montes-080205b1', 'https://www.linkedin.com/in/christopher-villatoro-a7ab91116', 'https://www.linkedin.com/in/snlopez521', 'https://www.linkedin.com/in/beccapease', 'https://www.linkedin.com/in/erika-ozeki-msn-rn-a0a898203', 'https://www.google.com/search?q=site:linkedin.com/in/+Education+is+UC+Berkeley+graduated+works+in+nurse+medical&start=20', 'https://www.google.com/search?q=site:linkedin.com/in/+Education+is+UC+Berkeley+graduated+works+in+nurse+medical&start=30', 'https://www.linkedin.com/in/irisxing98', 'https://www.linkedin.com/in/christian-kevin-abitan-00526299', 'https://www.linkedin.com/in/s-phan', 'https://www.linkedin.com/in/melissa-hermerding-lim-mph-msn-rn-7b924627a', 'https://www.linkedin.com/in/yuchengaoucb-ghemajor', 'https://www.linkedin.com/in/ella-zhang-502b2018a?trk=public_profile_browsemap_profile-result-card_result-card_full-click', 'https://www.linkedin.com/in/marisa-white-4b848763', 'https://www.linkedin.com/in/iwona-brennan-rn-12b5b4106', 'https://www.linkedin.com/in/scott-woodbridge-b5600aa0', 'https://www.linkedin.com/in/larry-vitale-6066537', 'https://www.google.com/search?q=site:linkedin.com/in/+Education+is+UC+Berkeley+graduated+works+in+nurse+medical&start=30', 'https://www.google.com/search?q=site:linkedin.com/in/+Education+is+UC+Berkeley+graduated+works+in+nurse+medical&start=40', 'https://www.linkedin.com/in/mayra-perez-244b7a251', 'https://www.linkedin.com/in/ryan-powers-3406801b2', 'https://www.linkedin.com/in/eric-nguyen-8679a1218', 'https://www.linkedin.com/in/georgia-rabara-msn-rn-fnp-c-b08ba750', 'https://www.linkedin.com/in/alice-walton-35068916', 'https://www.linkedin.com/in/tesia-w-1a17912b0', 'https://www.linkedin.com/in/anali-reyes-reyes-88a682219', 'https://www.linkedin.com/in/robertedinger8', 'https://www.linkedin.com/in/penny-sawyer-56417069', 'https://www.linkedin.com/in/michelledinh', 'https://www.google.com/search?q=site:linkedin.com/in/+Education+is+UC+Berkeley+graduated+works+in+nurse+medical&start=40', 'https://www.google.com/search?q=site:linkedin.com/in/+Education+is+UC+Berkeley+graduated+works+in+nurse+medical&start=50', 'https://www.linkedin.com/in/lucas-calica-61ab8320b', 'https://www.linkedin.com/in/nia-clark-71bb40135', 'https://www.linkedin.com/in/nouran-fadle-30b211166', 'https://www.linkedin.com/in/natalie-cadavid-87609492', 'https://www.linkedin.com/in/ashika-john-a74318183', 'https://www.linkedin.com/in/marc-benjamin-nagrampa-bsn-rn', 'https://www.linkedin.com/in/brittany-rogers-3b683673', 'https://www.linkedin.com/in/alanna-mcdermott', 'https://www.linkedin.com/in/emma-kate-curran', 'https://www.linkedin.com/in/landrith-parker-9026a136', 'https://www.google.com/search?q=site:linkedin.com/in/+Education+is+UC+Berkeley+graduated+works+in+nurse+medical&start=50', 'https://www.google.com/search?q=site:linkedin.com/in/+Education+is+UC+Berkeley+graduated+works+in+nurse+medical&start=60', 'https://www.linkedin.com/in/melanie-wine', 'https://www.linkedin.com/in/susan-ayasse-0397097', 'https://www.linkedin.com/in/molliern', 'https://uk.linkedin.com/in/laurencharter', 'https://je.linkedin.com/in/eric-xu-b458a5b0', 'https://www.linkedin.com/in/payal-dhuvad-0252b61a3', 'https://www.linkedin.com/in/ann-williams-3822359', 'https://www.linkedin.com/in/ashlyn-carrillo-7517b81a5', 'https://www.linkedin.com/in/carolinealewis1', 'https://www.linkedin.com/in/lisa-kitko-phd-rn-faha-faan-36834166', 'https://www.google.com/search?q=site:linkedin.com/in/+Education+is+UC+Berkeley+graduated+works+in+nurse+medical&start=60', 'https://www.google.com/search?q=site:linkedin.com/in/+Education+is+UC+Berkeley+graduated+works+in+nurse+medical&start=70', 'https://www.linkedin.com/in/uma-arunachalam-2985241b8', 'https://www.linkedin.com/in/eva-price-285834181', 'https://www.linkedin.com/in/adaeze-ezemonye-440257324', 'https://www.linkedin.com/in/juanmep', 'https://www.linkedin.com/in/nathan-wong-bb2560198', 'https://www.linkedin.com/in/julia-ingoldsby-5137191aa', 'https://www.linkedin.com/in/sabrina-eggleston', 'https://www.linkedin.com/in/sara-harkness-584640a', 'https://www.linkedin.com/in/nayounggg', 'https://www.linkedin.com/in/leah-gibbs-5324b1309', 'https://www.google.com/search?q=site:linkedin.com/in/+Education+is+UC+Berkeley+graduated+works+in+nurse+medical&start=70', 'https://www.google.com/search?q=site:linkedin.com/in/+Education+is+UC+Berkeley+graduated+works+in+nurse+medical&start=80', 'https://www.linkedin.com/in/mai-linh-nguyen-a1b16519a', 'https://www.linkedin.com/in/jcwng', 'https://www.linkedin.com/in/patricia-benner-a1985518', 'https://www.linkedin.com/in/judy-davidson-b7752187', 'https://www.linkedin.com/in/yenha', 'https://www.linkedin.com/in/lourdes-valdez-md-mph-ba51a5146', 'https://www.linkedin.com/in/katherine-smith-bsn-rn-4869245a', 'https://www.linkedin.com/in/charis-louis-bsn-rn-cpn-bmtcn-2611a9b0', 'https://www.linkedin.com/in/nikita-gourishetty-a12428172', 'https://www.linkedin.com/in/perrine-lee', 'https://www.google.com/search?q=site:linkedin.com/in/+Education+is+UC+Berkeley+graduated+works+in+nurse+medical&start=80', 'https://www.google.com/search?q=site:linkedin.com/in/+Education+is+UC+Berkeley+graduated+works+in+nurse+medical&start=90', 'https://www.linkedin.com/in/tanya-lim-12bb96122', 'https://www.linkedin.com/in/shayne-weston-2b13a94', 'https://www.linkedin.com/in/ellen-olshansky-phd-rn-47b474b', 'https://www.linkedin.com/in/mark-acedo-3b2b1a112', 'https://www.linkedin.com/in/blakelyn-mote-16b305200', 'https://www.linkedin.com/in/erika-mojica-061a7865', 'https://www.linkedin.com/in/chartaea-mcghee-546594196', 'https://www.linkedin.com/in/richard-macintyre-bb867b8', 'https://www.linkedin.com/in/edeninawhipplemsnrn', 'https://www.linkedin.com/in/jobelle-romulo-14184349', 'https://www.google.com/search?q=site:linkedin.com/in/+Education+is+UC+Berkeley+graduated+works+in+nurse+medical&start=90', 'https://www.google.com/search?q=site:linkedin.com/in/+Education+is+UC+Berkeley+graduated+works+in+nurse+medical']\n"
     ]
    },
    {
     "data": {
      "text/plain": [
       "121"
      ]
     },
     "execution_count": 157,
     "metadata": {},
     "output_type": "execute_result"
    }
   ],
   "source": [
    "from pprint import pprint\n",
    "import requests\n",
    "payload = {\n",
    "    'source': 'google',\n",
    "    'url': 'https://www.google.com/search?q=site:linkedin.com/in/+Education+is+UC+Berkeley+graduated+works+in+nurse+medical',\n",
    "    'parse': True,\n",
    "    'start_page': 1,\n",
    "    'pages': 10,\n",
    "}\n",
    "\n",
    "response = requests.request(\n",
    "    'POST',\n",
    "    'https://realtime.oxylabs.io/v1/queries',\n",
    "    auth=('satwikapaul_oZIdD', 'Fttkhcvnfttkhcvn6_'),\n",
    "    json=payload\n",
    ")\n",
    "\n",
    "med10data = response.json()\n",
    "med10data_linkedin_urls = extract_linkedin_urls(\n",
    "    med10data)\n",
    "print(med10data_linkedin_urls)\n",
    "len(med10data_linkedin_urls)\n"
   ]
  },
  {
   "cell_type": "code",
   "execution_count": 158,
   "id": "608a55d2-9ee8-4d71-b967-268eca106528",
   "metadata": {},
   "outputs": [
    {
     "name": "stdout",
     "output_type": "stream",
     "text": [
      "['https://www.google.com/search?q=site:linkedin.com/in/+Education+is+UC+Berkeley+graduated+works+in+emergency+EMT', 'https://www.linkedin.com/in/putt-patrick-vithayaveroj-692156a3', 'https://www.linkedin.com/in/yerinpark', 'https://www.linkedin.com/in/billy-tan', 'https://www.linkedin.com/in/jacqueline-hendriks-009121177', 'https://www.linkedin.com/in/nithyashankar', 'https://www.linkedin.com/in/adelaide-cahill-742993138', 'https://www.linkedin.com/in/emma-lalor-643a70242', 'https://www.linkedin.com/in/zuriel-casillas', 'https://www.linkedin.com/in/sophia-park-88a683291', 'https://www.linkedin.com/in/joshuasparler', 'https://www.google.com/search?q=site:linkedin.com/in/+Education+is+UC+Berkeley+graduated+works+in+emergency+EMT', 'https://www.google.com/search?q=site:linkedin.com/in/+Education+is+UC+Berkeley+graduated+works+in+emergency+EMT&start=10', 'https://www.linkedin.com/in/ricardo-segura-1977aa92', 'https://www.linkedin.com/in/ricardo-segura-1977aa92', 'https://www.linkedin.com/in/emma-lalor-643a70242', 'https://www.linkedin.com/in/alahna-merino-432384235', 'https://www.linkedin.com/in/mattyhorton', 'https://www.linkedin.com/in/masinamayo', 'https://www.linkedin.com/in/catherine-murphy-ba3901256', 'https://www.linkedin.com/in/ashleycalderon', 'https://www.linkedin.com/in/ricardo-segura-1977aa92', 'https://www.linkedin.com/in/sabina-yafunyaeva-24ba08209', 'https://www.linkedin.com/in/ryyan-khan-b6300a274', 'https://www.linkedin.com/in/richardho2025', 'https://www.google.com/search?q=site:linkedin.com/in/+Education+is+UC+Berkeley+graduated+works+in+emergency+EMT&start=10', 'https://www.google.com/search?q=site:linkedin.com/in/+Education+is+UC+Berkeley+graduated+works+in+emergency+EMT&start=20', 'https://www.linkedin.com/in/emma-dt-le?trk=people-guest_people_search-card', 'https://www.linkedin.com/in/daniel-lesavoy-032613170', 'https://www.linkedin.com/in/michael-stevenson-136b7961', 'https://www.linkedin.com/in/barryj786', 'https://www.linkedin.com/in/alexlilichenko', 'https://www.linkedin.com/in/daniel-skarsten-b72284230', 'https://www.linkedin.com/in/satchi-metaxas', 'https://uk.linkedin.com/in/mirthica', 'https://www.linkedin.com/in/tyler-abers-nremt-34512a19a', 'https://www.linkedin.com/in/nina-huang-117394217', 'https://www.google.com/search?q=site:linkedin.com/in/+Education+is+UC+Berkeley+graduated+works+in+emergency+EMT&start=20', 'https://www.google.com/search?q=site:linkedin.com/in/+Education+is+UC+Berkeley+graduated+works+in+emergency+EMT&start=30', 'https://www.linkedin.com/in/ricardo-segura-1977aa92', 'https://www.linkedin.com/in/ricardo-segura-1977aa92', 'https://www.linkedin.com/in/emma-lalor-643a70242', 'https://www.linkedin.com/in/michael-amador-572329100', 'https://www.linkedin.com/in/yoosungjung', 'https://www.linkedin.com/in/tatiana-de-la-sancha-40703524b', 'https://www.linkedin.com/in/john-corso-3591b0293', 'https://www.linkedin.com/in/stephaniemstonge', 'https://www.linkedin.com/in/natalyn-daniels-30a16453', 'https://www.linkedin.com/in/stephanie-camarillo-b54a7a188', 'https://www.linkedin.com/in/jerryroberts731', 'https://www.linkedin.com/in/kaitlin-ryan-78b8b8229', 'https://www.google.com/search?q=site:linkedin.com/in/+Education+is+UC+Berkeley+graduated+works+in+emergency+EMT&start=30', 'https://www.google.com/search?q=site:linkedin.com/in/+Education+is+UC+Berkeley+graduated+works+in+emergency+EMT&start=40', 'https://www.linkedin.com/in/joey-stringer', 'https://www.linkedin.com/in/maeve-browne-2a478719b', 'https://www.linkedin.com/in/grant-henkels-343a6b20b', 'https://www.linkedin.com/in/bryan-moreno-09307a211', 'https://www.linkedin.com/in/gabrielle-rieser', 'https://www.linkedin.com/in/kirandeep-sekhon-b4a51674', 'https://www.linkedin.com/in/mzdraper', 'https://www.linkedin.com/in/taylor-birdsong-02527174', 'https://www.linkedin.com/in/ella-noelle-liu', 'https://www.linkedin.com/in/abigail-terry-2537b6178', 'https://www.google.com/search?q=site:linkedin.com/in/+Education+is+UC+Berkeley+graduated+works+in+emergency+EMT&start=40', 'https://www.google.com/search?q=site:linkedin.com/in/+Education+is+UC+Berkeley+graduated+works+in+emergency+EMT&start=50', 'https://www.linkedin.com/in/emma-rohe', 'https://www.linkedin.com/in/gursharan-mann-316424342', 'https://www.linkedin.com/in/devon-welborn-341b12221', 'https://www.linkedin.com/in/n2qm', 'https://www.linkedin.com/in/marc-benjamin-nagrampa-bsn-rn', 'https://www.linkedin.com/in/alexandra-heyes-darwin-7751b835', 'https://www.linkedin.com/in/reed-urmann', 'https://www.linkedin.com/in/makena-smith-20aa2a199', 'https://www.linkedin.com/in/sarah-kapoor-a777191b0', 'https://www.linkedin.com/in/katykincannon', 'https://www.google.com/search?q=site:linkedin.com/in/+Education+is+UC+Berkeley+graduated+works+in+emergency+EMT&start=50', 'https://www.google.com/search?q=site:linkedin.com/in/+Education+is+UC+Berkeley+graduated+works+in+emergency+EMT&start=60', 'https://www.linkedin.com/in/elizabeth-ellie-seeger-392a55216', 'https://www.linkedin.com/in/nicholas-sims-0396501b6', 'https://www.linkedin.com/in/rboparai', 'https://www.linkedin.com/in/felix-fein-b20b86211', 'https://www.linkedin.com/in/antonia-schwartz-5a3a3a272', 'https://www.linkedin.com/in/fredwupa', 'https://www.linkedin.com/in/desmond-chee-362946211', 'https://www.linkedin.com/in/mark-hansman-36b58846', 'https://www.linkedin.com/in/samuel-park-916909ab', 'https://www.linkedin.com/in/ibrahim-abdelwahab222', 'https://www.google.com/search?q=site:linkedin.com/in/+Education+is+UC+Berkeley+graduated+works+in+emergency+EMT&start=60', 'https://www.google.com/search?q=site:linkedin.com/in/+Education+is+UC+Berkeley+graduated+works+in+emergency+EMT&start=70', 'https://www.linkedin.com/in/dvita-bhattacharya-1a9476288', 'https://www.linkedin.com/in/enriquemorensf', 'https://www.linkedin.com/in/leilani-payne-648455144', 'https://www.linkedin.com/in/wayne-gray-4a092880', 'https://www.linkedin.com/in/kathryn-deyoung', 'https://www.linkedin.com/in/nick-james-5248b868', 'https://www.linkedin.com/in/crystal-ngo-b46668279', 'https://www.linkedin.com/in/mannan-mishra-a8a888216', 'https://www.linkedin.com/in/eva-w-5283ab22a', 'https://www.linkedin.com/in/valerieaduba', 'https://www.google.com/search?q=site:linkedin.com/in/+Education+is+UC+Berkeley+graduated+works+in+emergency+EMT&start=70', 'https://www.google.com/search?q=site:linkedin.com/in/+Education+is+UC+Berkeley+graduated+works+in+emergency+EMT&start=80', 'https://www.linkedin.com/in/alexander-liebeskind-746931163', 'https://www.linkedin.com/in/gabriella-lerman-345963196', 'https://www.linkedin.com/in/maggie-cheng-zs', 'https://www.linkedin.com/in/larissacharnsangavej', 'https://www.linkedin.com/in/sarahmckenzie1', 'https://www.linkedin.com/in/dylan-bush-34000b106', 'https://uk.linkedin.com/in/beth-daughters-8b10a9206', 'https://www.linkedin.com/in/douglas-bawden-43198715', 'https://www.linkedin.com/in/sharonhgreen', 'https://www.linkedin.com/in/angela-mora-82b6981b3', 'https://www.google.com/search?q=site:linkedin.com/in/+Education+is+UC+Berkeley+graduated+works+in+emergency+EMT&start=80', 'https://www.google.com/search?q=site:linkedin.com/in/+Education+is+UC+Berkeley+graduated+works+in+emergency+EMT&start=90', 'https://www.linkedin.com/in/brian-mulhern-pro', 'https://www.linkedin.com/in/kenyetta-haynes-77662146', 'https://www.linkedin.com/in/allisun-wiltshire-2393781b4', 'https://www.linkedin.com/in/tapishsingh', 'https://www.linkedin.com/in/jamieworthy', 'https://www.linkedin.com/in/michael-tanios', 'https://www.linkedin.com/in/arianna-isolani', 'https://www.linkedin.com/in/eva-reineck-ab6a822b2', 'https://www.linkedin.com/in/sophia-licata-88b89a279', 'https://www.linkedin.com/in/abiel-malepeai', 'https://www.google.com/search?q=site:linkedin.com/in/+Education+is+UC+Berkeley+graduated+works+in+emergency+EMT&start=90', 'https://www.google.com/search?q=site:linkedin.com/in/+Education+is+UC+Berkeley+graduated+works+in+emergency+EMT']\n"
     ]
    },
    {
     "data": {
      "text/plain": [
       "125"
      ]
     },
     "execution_count": 158,
     "metadata": {},
     "output_type": "execute_result"
    }
   ],
   "source": [
    "from pprint import pprint\n",
    "import requests\n",
    "payload = {\n",
    "    'source': 'google',\n",
    "    'url': 'https://www.google.com/search?q=site:linkedin.com/in/+Education+is+UC+Berkeley+graduated+works+in+emergency+EMT',\n",
    "    'parse': True,\n",
    "    'start_page': 1,\n",
    "    'pages': 10,\n",
    "}\n",
    "\n",
    "response = requests.request(\n",
    "    'POST',\n",
    "    'https://realtime.oxylabs.io/v1/queries',\n",
    "    auth=('satwikapaul_oZIdD', 'Fttkhcvnfttkhcvn6_'),\n",
    "    json=payload\n",
    ")\n",
    "\n",
    "med11data = response.json()\n",
    "med11data_linkedin_urls = extract_linkedin_urls(\n",
    "    med11data)\n",
    "print(med11data_linkedin_urls)\n",
    "len(med11data_linkedin_urls)\n"
   ]
  },
  {
   "cell_type": "code",
   "execution_count": 159,
   "id": "6867373a-cf5c-4d3b-8fc1-d560f3961415",
   "metadata": {},
   "outputs": [
    {
     "name": "stdout",
     "output_type": "stream",
     "text": [
      "['https://www.google.com/search?q=site:linkedin.com/in/+Education+is+UC+Berkeley+graduated+works+in+emergency+paramedic', 'https://www.linkedin.com/in/brandon-htet-9648b31a7', 'https://www.linkedin.com/in/danielle-bosscher-05a9aa16a', 'https://www.linkedin.com/in/mark-hansman-36b58846', 'https://www.linkedin.com/in/brent-klapthor-97953b46', 'https://www.linkedin.com/in/milanamarsh', 'https://www.linkedin.com/in/samschow', 'https://www.linkedin.com/in/ricardo-segura-1977aa92', 'https://www.linkedin.com/in/carolina-snypes', 'https://www.linkedin.com/in/tajhb', 'https://www.linkedin.com/in/joshuasparler', 'https://www.google.com/search?q=site:linkedin.com/in/+Education+is+UC+Berkeley+graduated+works+in+emergency+paramedic', 'https://www.google.com/search?q=site:linkedin.com/in/+Education+is+UC+Berkeley+graduated+works+in+emergency+paramedic&start=10', 'https://www.linkedin.com/in/michael-amador-572329100', 'https://www.linkedin.com/in/ricardo-segura-1977aa92', 'https://www.linkedin.com/in/eswin-quinonez', 'https://www.linkedin.com/in/michael-amador-572329100', 'https://www.linkedin.com/in/joshuasparler', 'https://www.linkedin.com/in/alexlilichenko', 'https://www.linkedin.com/in/qiuyichenchewy', 'https://www.linkedin.com/in/michael-stevenson-136b7961', 'https://www.linkedin.com/in/melia-miller', 'https://www.linkedin.com/in/mzdraper', 'https://www.linkedin.com/in/ricardo-segura-1977aa92', 'https://www.linkedin.com/in/kendallmader', 'https://www.google.com/search?q=site:linkedin.com/in/+Education+is+UC+Berkeley+graduated+works+in+emergency+paramedic&start=10', 'https://www.google.com/search?q=site:linkedin.com/in/+Education+is+UC+Berkeley+graduated+works+in+emergency+paramedic&start=20', 'https://www.linkedin.com/in/brian-aiello', 'https://www.linkedin.com/in/oscar-deng-39146513b', 'https://www.linkedin.com/in/eswin-quinonez', 'https://www.linkedin.com/in/emma-dt-le?trk=people-guest_people_search-card', 'https://www.linkedin.com/in/fredwupa', 'https://www.linkedin.com/in/daniel-lesavoy-032613170', 'https://www.linkedin.com/in/sarinachitre', 'https://www.linkedin.com/in/nick-james-5248b868', 'https://www.linkedin.com/in/kenyetta-haynes-77662146', 'https://www.linkedin.com/in/juliana-chase-761289124', 'https://www.google.com/search?q=site:linkedin.com/in/+Education+is+UC+Berkeley+graduated+works+in+emergency+paramedic&start=20', 'https://www.google.com/search?q=site:linkedin.com/in/+Education+is+UC+Berkeley+graduated+works+in+emergency+paramedic&start=30', 'https://www.linkedin.com/in/bryan-moreno-09307a211', 'https://ca.linkedin.com/in/gauri-bhardwaj-5477761ab', 'https://www.linkedin.com/in/gracedallarda', 'https://www.linkedin.com/in/arthur-raymond-14b927120', 'https://www.linkedin.com/in/richard-platt-889a5313', 'https://www.linkedin.com/in/kaitlin-ryan-78b8b8229', 'https://www.linkedin.com/in/marea-otter-668758180', 'https://www.linkedin.com/in/marrylkauffman', 'https://www.linkedin.com/in/myriam-virella-cchw-a6aaa863', 'https://www.linkedin.com/in/scott-yamashita-408317159', 'https://www.google.com/search?q=site:linkedin.com/in/+Education+is+UC+Berkeley+graduated+works+in+emergency+paramedic&start=30', 'https://www.google.com/search?q=site:linkedin.com/in/+Education+is+UC+Berkeley+graduated+works+in+emergency+paramedic&start=40', 'https://www.linkedin.com/in/stephanie-soultanian-b19507b0', 'https://www.linkedin.com/in/austinpcahill', 'https://www.linkedin.com/in/jesse-quiroga-6b0987122', 'https://www.linkedin.com/in/frederik-heath', 'https://www.linkedin.com/in/josephine-buchan-86853a181', 'https://www.linkedin.com/in/joey-stringer', 'https://www.linkedin.com/in/stephanie-camarillo-b54a7a188', 'https://www.linkedin.com/in/chomeara', 'https://www.linkedin.com/in/gil-ellis-3bba1123', 'https://www.linkedin.com/in/rmaccue', 'https://www.google.com/search?q=site:linkedin.com/in/+Education+is+UC+Berkeley+graduated+works+in+emergency+paramedic&start=40', 'https://www.google.com/search?q=site:linkedin.com/in/+Education+is+UC+Berkeley+graduated+works+in+emergency+paramedic&start=50', 'https://www.linkedin.com/in/enriquemorensf', 'https://www.linkedin.com/in/alexander-knight-7a8093195', 'https://www.linkedin.com/in/adam-wagh', 'https://www.linkedin.com/in/stephanie-wong-a72b8119b', 'https://www.linkedin.com/in/jessica-lin063', 'https://www.linkedin.com/in/emma-cruz-58a73b205', 'https://www.linkedin.com/in/summer-walker-488747b4', 'https://www.linkedin.com/in/mayleen-tran', 'https://www.linkedin.com/in/will-smith-wildernessdoc', 'https://www.linkedin.com/in/aaron-jeanloz-803426245', 'https://www.google.com/search?q=site:linkedin.com/in/+Education+is+UC+Berkeley+graduated+works+in+emergency+paramedic&start=50', 'https://www.google.com/search?q=site:linkedin.com/in/+Education+is+UC+Berkeley+graduated+works+in+emergency+paramedic&start=60', 'https://www.linkedin.com/in/yuxuan-wu-787752132', 'https://www.linkedin.com/in/noragaloustian', 'https://www.linkedin.com/in/darrell-carter-72533934', 'https://www.linkedin.com/in/saenzmateo', 'https://www.linkedin.com/in/mckell-hanson-a68512269', 'https://www.linkedin.com/in/leilani-payne-648455144', 'https://www.linkedin.com/in/kyle-glover-797393148', 'https://www.linkedin.com/in/arianna-isolani', 'https://www.linkedin.com/in/trisha-waters-34027a8b', 'https://www.linkedin.com/in/lisa-marie-brandl-74358361', 'https://www.google.com/search?q=site:linkedin.com/in/+Education+is+UC+Berkeley+graduated+works+in+emergency+paramedic&start=60', 'https://www.google.com/search?q=site:linkedin.com/in/+Education+is+UC+Berkeley+graduated+works+in+emergency+paramedic&start=70', 'https://www.linkedin.com/in/andrew-whittemore-954b1a132', 'https://www.linkedin.com/in/dhruvpuri', 'https://www.linkedin.com/in/mike-bowen-b5ab9a47', 'https://www.linkedin.com/in/eric-gladstone', 'https://www.linkedin.com/in/steven-i-gallagher-1b555411', 'https://www.linkedin.com/in/khoi-tran-774b8322b', 'https://www.linkedin.com/in/austin-stanhope-94b1275', 'https://www.linkedin.com/in/mason-smith-38b776279', 'https://www.linkedin.com/in/franklin-becker-b8782013', 'https://www.linkedin.com/in/christian-rodriguez-41abb81b8', 'https://www.google.com/search?q=site:linkedin.com/in/+Education+is+UC+Berkeley+graduated+works+in+emergency+paramedic&start=70', 'https://www.google.com/search?q=site:linkedin.com/in/+Education+is+UC+Berkeley+graduated+works+in+emergency+paramedic&start=80', 'https://www.linkedin.com/in/douglas-bawden-43198715', 'https://www.linkedin.com/in/ajf16', 'https://www.linkedin.com/in/mansha-kharel-887bab219', 'https://www.linkedin.com/in/adanielarodasz', 'https://www.linkedin.com/in/anabella-fosbery-01289b80', 'https://www.linkedin.com/in/emilypsmall', 'https://www.linkedin.com/in/jeremydost', 'https://www.linkedin.com/in/yvette-rodriguez-2538a2221', 'https://www.linkedin.com/in/catherineeruiter', 'https://www.linkedin.com/in/michaelgreer0158', 'https://www.google.com/search?q=site:linkedin.com/in/+Education+is+UC+Berkeley+graduated+works+in+emergency+paramedic&start=80', 'https://www.google.com/search?q=site:linkedin.com/in/+Education+is+UC+Berkeley+graduated+works+in+emergency+paramedic&start=90', 'https://www.linkedin.com/in/ashley-di-lalla-baaa21171', 'https://www.linkedin.com/in/david-hakkarinen-md-ms-facep-41672011', 'https://www.linkedin.com/in/vignesh-sivaganesh-phd-53b90294', 'https://www.linkedin.com/in/cierra-craney-1613223b', 'https://www.linkedin.com/in/eli-bring-horvath-03828b163', 'https://www.linkedin.com/in/david-grega-dmsc-pa-c-dfaapa-ab3a8583', 'https://www.linkedin.com/in/paul-gerke-8b483112', 'https://www.linkedin.com/in/garret-roverud', 'https://www.linkedin.com/in/elizabeth-castillo-985b9866', 'https://www.linkedin.com/in/jessie-cairns-82372a8', 'https://www.google.com/search?q=site:linkedin.com/in/+Education+is+UC+Berkeley+graduated+works+in+emergency+paramedic&start=90', 'https://www.google.com/search?q=site:linkedin.com/in/+Education+is+UC+Berkeley+graduated+works+in+emergency+paramedic']\n"
     ]
    },
    {
     "data": {
      "text/plain": [
       "123"
      ]
     },
     "execution_count": 159,
     "metadata": {},
     "output_type": "execute_result"
    }
   ],
   "source": [
    "from pprint import pprint\n",
    "import requests\n",
    "payload = {\n",
    "    'source': 'google',\n",
    "    'url': 'https://www.google.com/search?q=site:linkedin.com/in/+Education+is+UC+Berkeley+graduated+works+in+emergency+paramedic',\n",
    "    'parse': True,\n",
    "    'start_page': 1,\n",
    "    'pages': 10,\n",
    "}\n",
    "\n",
    "response = requests.request(\n",
    "    'POST',\n",
    "    'https://realtime.oxylabs.io/v1/queries',\n",
    "    auth=('satwikapaul_oZIdD', 'Fttkhcvnfttkhcvn6_'),\n",
    "    json=payload\n",
    ")\n",
    "\n",
    "med12data = response.json()\n",
    "med12data_linkedin_urls = extract_linkedin_urls(\n",
    "    med12data)\n",
    "print(med12data_linkedin_urls)\n",
    "len(med12data_linkedin_urls)\n"
   ]
  },
  {
   "cell_type": "code",
   "execution_count": 160,
   "id": "eadfdc20-e5e5-4a7d-89d6-aae8f53fe813",
   "metadata": {},
   "outputs": [
    {
     "name": "stdout",
     "output_type": "stream",
     "text": [
      "['https://www.google.com/search?q=site:linkedin.com/in/+Education+is+UC+Berkeley+graduated+works+in+therapist+physical+occupational', 'https://www.linkedin.com/in/jessicaniemeyer', 'https://www.linkedin.com/in/sara-yao-51251652', 'https://www.linkedin.com/in/kaitlynpaek', 'https://www.linkedin.com/in/kris-lee-aa5085116', 'https://www.linkedin.com/in/juancarlosbordes89/', 'https://www.linkedin.com/in/stephen-chen-9777b049', 'https://www.linkedin.com/in/belle-lau', 'https://www.linkedin.com/in/carisa-harris-adamson-055238b', 'https://www.linkedin.com/in/anahisa-aguirre-ms-otr-l-a4644b36', 'https://www.linkedin.com/in/shawnaminirad', 'https://www.google.com/search?q=site:linkedin.com/in/+Education+is+UC+Berkeley+graduated+works+in+therapist+physical+occupational', 'https://www.google.com/search?q=site:linkedin.com/in/+Education+is+UC+Berkeley+graduated+works+in+therapist+physical+occupational&start=10', 'https://www.linkedin.com/in/ashley-valenzuela-takeoka-7118b263', 'https://www.linkedin.com/in/shelby-welton-002456153', 'https://www.linkedin.com/in/erika-b-436b4759?trk=people-guest_people_search-card', 'https://www.linkedin.com/in/sarah-kwee-ot', 'https://www.linkedin.com/in/amandaraigosa', 'https://www.linkedin.com/in/leena-vo-m-s-otr-l-31617799', 'https://www.linkedin.com/in/linda-lee-99204a86', 'https://www.linkedin.com/in/jacquelyn-sanders-17b133204', 'https://www.linkedin.com/in/sophieemiller', 'https://www.linkedin.com/in/velazquezvaleria', 'https://www.google.com/search?q=site:linkedin.com/in/+Education+is+UC+Berkeley+graduated+works+in+therapist+physical+occupational&start=10', 'https://www.google.com/search?q=site:linkedin.com/in/+Education+is+UC+Berkeley+graduated+works+in+therapist+physical+occupational&start=20', 'https://www.linkedin.com/in/caylachapman', 'https://www.linkedin.com/in/kira-wong-8a3b16222', 'https://www.linkedin.com/in/sophia-cantuba-6b937b198?trk=public_profile_browsemap_profile-result-card_result-card_full-click', 'https://www.linkedin.com/in/charlotte-toe-b760bb1ba', 'https://www.linkedin.com/in/stephane-lin', 'https://www.linkedin.com/in/mikaela-h-holland-60946121b', 'https://www.linkedin.com/in/maia-e-hernandez', 'https://www.linkedin.com/in/lindsey-han-109714101', 'https://www.linkedin.com/in/juliagdil', 'https://www.linkedin.com/in/salvador-chavez-otr', 'https://www.google.com/search?q=site:linkedin.com/in/+Education+is+UC+Berkeley+graduated+works+in+therapist+physical+occupational&start=20', 'https://www.google.com/search?q=site:linkedin.com/in/+Education+is+UC+Berkeley+graduated+works+in+therapist+physical+occupational&start=30', 'https://www.linkedin.com/in/erica-berger-otrl-81283742', 'https://www.linkedin.com/in/jessica-briggs-645a1610b', 'https://uk.linkedin.com/in/georgia-vine-ot-not-so-terrible-palsy', 'https://www.linkedin.com/in/lisa-choromanski-otsf', 'https://www.linkedin.com/in/llerenashaina', 'https://www.linkedin.com/in/shemaiah-thompson-84380813b', 'https://www.linkedin.com/in/stephanie-uyeno-62506919', 'https://www.linkedin.com/in/ragan-roth-079181185', 'https://www.linkedin.com/in/isabel-zavala-3b147410', 'https://www.linkedin.com/in/rachel-m-682835128', 'https://www.google.com/search?q=site:linkedin.com/in/+Education+is+UC+Berkeley+graduated+works+in+therapist+physical+occupational&start=30', 'https://www.google.com/search?q=site:linkedin.com/in/+Education+is+UC+Berkeley+graduated+works+in+therapist+physical+occupational&start=40', 'https://www.linkedin.com/in/angie-wootton', 'https://www.linkedin.com/in/kylie-cummings', 'https://www.linkedin.com/in/zainab-khan-a940501b1', 'https://www.linkedin.com/in/carol-gavilan-664207b9', 'https://www.linkedin.com/in/gal-elkaiam-b1a1361ab', 'https://www.linkedin.com/in/guadalupe-rodriguez-907085182', 'https://www.linkedin.com/in/allison-quintilla-921b9b1a1', 'https://www.linkedin.com/in/alex-bethel-a621a123b', 'https://www.linkedin.com/in/ashlyn-mckeehan-433177161', 'https://www.linkedin.com/in/melody-mo-9b489525', 'https://www.google.com/search?q=site:linkedin.com/in/+Education+is+UC+Berkeley+graduated+works+in+therapist+physical+occupational&start=40', 'https://www.google.com/search?q=site:linkedin.com/in/+Education+is+UC+Berkeley+graduated+works+in+therapist+physical+occupational&start=50', 'https://www.linkedin.com/in/greg-moy-pt-dpt-cscs-frcms-64980245', 'https://www.linkedin.com/in/melinda-weilage-2a899089', 'https://www.linkedin.com/in/jake-pykkonen-b7807b157', 'https://in.linkedin.com/in/swethat728', 'https://www.linkedin.com/in/nayla-lopez-a83b6028a', 'https://www.linkedin.com/in/jasmine-hill-ot', 'https://www.linkedin.com/in/alexandra-collins-19b9453a', 'https://www.linkedin.com/in/mary-k-barry-4237bb9', 'https://www.linkedin.com/in/precccita', 'https://www.linkedin.com/in/carol-huang', 'https://www.google.com/search?q=site:linkedin.com/in/+Education+is+UC+Berkeley+graduated+works+in+therapist+physical+occupational&start=50', 'https://www.google.com/search?q=site:linkedin.com/in/+Education+is+UC+Berkeley+graduated+works+in+therapist+physical+occupational&start=60', 'https://www.linkedin.com/in/baongoc-mindy-huynh-a85658183', 'https://www.linkedin.com/in/anthonybatran', 'https://www.linkedin.com/in/stephen-boynton-b910456b', 'https://www.linkedin.com/in/allison-buzzetta-otd-otr-l-72b3506b?trk=public_profile_browsemap', 'https://www.linkedin.com/in/christopher-villatoro-a7ab91116', 'https://www.linkedin.com/in/britneyportillo', 'https://www.linkedin.com/in/emilyhanna3', 'https://www.linkedin.com/in/drjdallen', 'https://www.linkedin.com/in/mara-erb-37ba16b5', 'https://www.linkedin.com/in/mattie-weber-7981ba236', 'https://www.google.com/search?q=site:linkedin.com/in/+Education+is+UC+Berkeley+graduated+works+in+therapist+physical+occupational&start=60', 'https://www.google.com/search?q=site:linkedin.com/in/+Education+is+UC+Berkeley+graduated+works+in+therapist+physical+occupational&start=70', 'https://www.linkedin.com/in/emilynahem', 'https://www.linkedin.com/in/laurenmkrupa', 'https://www.linkedin.com/in/breoverton', 'https://www.linkedin.com/in/meganmilannlee', 'https://www.linkedin.com/in/john-sauv%C3%A9-psyd-0519344b', 'https://www.linkedin.com/in/marina-h-rodrigues', 'https://www.linkedin.com/in/kimberlydawud/', 'https://www.linkedin.com/in/victoria-chou-993121183', 'https://www.linkedin.com/in/grace-yee9', 'https://www.linkedin.com/in/breannereed', 'https://www.google.com/search?q=site:linkedin.com/in/+Education+is+UC+Berkeley+graduated+works+in+therapist+physical+occupational&start=70', 'https://www.google.com/search?q=site:linkedin.com/in/+Education+is+UC+Berkeley+graduated+works+in+therapist+physical+occupational&start=80', 'https://www.linkedin.com/in/lucasfbtaylor', 'https://www.linkedin.com/in/kristin-theis-alvarez-16707545', 'https://www.linkedin.com/in/john-cha-591443156', 'https://www.linkedin.com/in/megkstomski', 'https://www.linkedin.com/in/gabriella-natoli-722b78167', 'https://www.linkedin.com/in/kathleenpera', 'https://www.linkedin.com/in/tomas-handelsman-8b95041ab', 'https://www.linkedin.com/in/nina-luu-pt-dpt-2916b8228', 'https://www.linkedin.com/in/vanessa-pajares-wilder', 'https://www.linkedin.com/in/austin-nguyen-pt-dpt-6201a42b', 'https://www.google.com/search?q=site:linkedin.com/in/+Education+is+UC+Berkeley+graduated+works+in+therapist+physical+occupational&start=80', 'https://www.google.com/search?q=site:linkedin.com/in/+Education+is+UC+Berkeley+graduated+works+in+therapist+physical+occupational&start=90', 'https://www.linkedin.com/in/emilynahem', 'https://uk.linkedin.com/in/georgia-vine-ot-not-so-terrible-palsy', 'https://www.linkedin.com/in/leena-vo-m-s-otr-l-31617799', 'https://www.linkedin.com/in/moncerrathgonzalez', 'https://www.linkedin.com/in/ashleyaninag', 'https://www.linkedin.com/in/jodie-murakami-otd-otrl-cktp-25641a64', 'https://www.linkedin.com/in/jenae-hratko-b276521a3', 'https://www.linkedin.com/in/annelise-trujillo-reny-maot-otr-l-b11969116', 'https://www.linkedin.com/in/danielle-yau', 'https://www.linkedin.com/in/moniquerodriguez3', 'https://www.linkedin.com/in/tania-funes-70468910a', 'https://www.linkedin.com/in/lindsey-loftus-62201671', 'https://www.google.com/search?q=site:linkedin.com/in/+Education+is+UC+Berkeley+graduated+works+in+therapist+physical+occupational&start=90', 'https://www.google.com/search?q=site:linkedin.com/in/+Education+is+UC+Berkeley+graduated+works+in+therapist+physical+occupational']\n"
     ]
    },
    {
     "data": {
      "text/plain": [
       "123"
      ]
     },
     "execution_count": 160,
     "metadata": {},
     "output_type": "execute_result"
    }
   ],
   "source": [
    "from pprint import pprint\n",
    "import requests\n",
    "payload = {\n",
    "    'source': 'google',\n",
    "    'url': 'https://www.google.com/search?q=site:linkedin.com/in/+Education+is+UC+Berkeley+graduated+works+in+therapist+physical+occupational',\n",
    "    'parse': True,\n",
    "    'start_page': 1,\n",
    "    'pages': 10,\n",
    "}\n",
    "\n",
    "response = requests.request(\n",
    "    'POST',\n",
    "    'https://realtime.oxylabs.io/v1/queries',\n",
    "    auth=('satwikapaul_oZIdD', 'Fttkhcvnfttkhcvn6_'),\n",
    "    json=payload\n",
    ")\n",
    "\n",
    "med13data = response.json()\n",
    "med13data_linkedin_urls = extract_linkedin_urls(\n",
    "    med13data)\n",
    "print(med13data_linkedin_urls)\n",
    "len(med13data_linkedin_urls)\n"
   ]
  },
  {
   "cell_type": "code",
   "execution_count": 161,
   "id": "f49e80ea-043b-47e5-a934-e29d68e1d255",
   "metadata": {},
   "outputs": [
    {
     "name": "stdout",
     "output_type": "stream",
     "text": [
      "['https://www.google.com/search?q=site:linkedin.com/in/+Education+is+UC+Berkeley+graduated+works+in+therapist+pharmacist+pharmacy+technician', 'https://www.linkedin.com/in/dakshachaddha2911', 'https://au.linkedin.com/in/danielowengunawan', 'https://www.linkedin.com/in/diksha-patel-a9b7111b5', 'https://ca.linkedin.com/in/weiyi-liu-b09350155', 'https://www.linkedin.com/in/fatimaalvarezrodriguezaa00', 'https://www.linkedin.com/in/allison-scholer-b2971171', 'https://www.linkedin.com/in/eva-arias-0029a21b8', 'https://www.linkedin.com/in/thy-le-827b0ba9', 'https://www.linkedin.com/in/sydney-fuertes', 'https://ca.linkedin.com/in/aarushi-shah-aa49252a', 'https://www.google.com/search?q=site:linkedin.com/in/+Education+is+UC+Berkeley+graduated+works+in+therapist+pharmacist+pharmacy+technician', 'https://www.google.com/search?q=site:linkedin.com/in/+Education+is+UC+Berkeley+graduated+works+in+therapist+pharmacist+pharmacy+technician&start=10', 'https://www.linkedin.com/in/mikahyden', 'https://www.linkedin.com/in/daniel-nde-ph-d-356490a3', 'https://www.linkedin.com/in/clifford-mcrae-b64b1544', 'https://www.linkedin.com/in/daniel-a-canales', 'https://www.linkedin.com/in/jessica-litchfield-0a2552290', 'https://www.linkedin.com/in/johana-astorga-1b4076196', 'https://www.linkedin.com/in/ivonnesantiagolopez', 'https://www.linkedin.com/in/madonnatad', 'https://www.linkedin.com/in/jean-rama-surya-681166b6', 'https://www.linkedin.com/in/anaalcaraz-', 'https://www.google.com/search?q=site:linkedin.com/in/+Education+is+UC+Berkeley+graduated+works+in+therapist+pharmacist+pharmacy+technician&start=10', 'https://www.google.com/search?q=site:linkedin.com/in/+Education+is+UC+Berkeley+graduated+works+in+therapist+pharmacist+pharmacy+technician&start=20', 'https://www.linkedin.com/in/crystal-lopez-b81309192', 'https://www.linkedin.com/in/daniel-mejia-9a1826195', 'https://www.linkedin.com/in/alondra-alvarado-44831b282', 'https://www.linkedin.com/in/brianna-ngo-17b287192', 'https://www.linkedin.com/in/samantha-castro-6b5b7021a', 'https://www.linkedin.com/in/jaimie-chen-pharmd-rph-7a52b27a', 'https://www.linkedin.com/in/sophia-le-419894185', 'https://www.linkedin.com/in/georgeibrahim7', 'https://www.linkedin.com/in/heidi-tran-32852483', 'https://www.linkedin.com/in/navya-pariti', 'https://www.google.com/search?q=site:linkedin.com/in/+Education+is+UC+Berkeley+graduated+works+in+therapist+pharmacist+pharmacy+technician&start=20', 'https://www.google.com/search?q=site:linkedin.com/in/+Education+is+UC+Berkeley+graduated+works+in+therapist+pharmacist+pharmacy+technician&start=30', 'https://www.linkedin.com/in/michellesychen', 'https://www.linkedin.com/in/stephanie-camarillo-447936126', 'https://www.linkedin.com/in/jesusmnieto', 'https://www.linkedin.com/in/michael-warner-416b74169', 'https://www.linkedin.com/in/sarahandthewolves', 'https://www.linkedin.com/in/maryam-karimi-12684b1a9', 'https://www.linkedin.com/in/brianna-jordan-30b941113', 'https://www.linkedin.com/in/kennedy-thomas-76475928b', 'https://www.linkedin.com/in/faith-sanders-915b54191', 'https://www.linkedin.com/in/jaketomlitz', 'https://www.google.com/search?q=site:linkedin.com/in/+Education+is+UC+Berkeley+graduated+works+in+therapist+pharmacist+pharmacy+technician&start=30', 'https://www.google.com/search?q=site:linkedin.com/in/+Education+is+UC+Berkeley+graduated+works+in+therapist+pharmacist+pharmacy+technician&start=40', 'https://uk.linkedin.com/in/paul-fernie-42519371', 'https://www.linkedin.com/in/ganesh-jialal-317b85127', 'https://www.linkedin.com/in/jamesstroud5438', 'https://www.linkedin.com/in/joslynwang', 'https://www.linkedin.com/in/maly-yang-9392b6113', 'https://www.linkedin.com/in/halle-lefkowitz', 'https://www.linkedin.com/in/ellieliang', 'https://www.linkedin.com/in/nabeelmsaleem', 'https://www.linkedin.com/in/redshift80', 'https://www.linkedin.com/in/delaney-harrison-8526201a1', 'https://www.google.com/search?q=site:linkedin.com/in/+Education+is+UC+Berkeley+graduated+works+in+therapist+pharmacist+pharmacy+technician&start=40', 'https://www.google.com/search?q=site:linkedin.com/in/+Education+is+UC+Berkeley+graduated+works+in+therapist+pharmacist+pharmacy+technician&start=50', 'https://www.linkedin.com/in/tarnpreet-randhawa-1b9072238', 'https://www.linkedin.com/in/nolan-stangl-95254914a', 'https://www.linkedin.com/in/ara-shwani-b187391b3', 'https://www.linkedin.com/in/megan-r-yu', 'https://www.linkedin.com/in/ayesha-khan-07952716a', 'https://www.linkedin.com/in/leslie-guerrero-123855b5', 'https://www.linkedin.com/in/iszypaulk', 'https://www.linkedin.com/in/courtney-lundy-329a9112b', 'https://www.linkedin.com/in/madhu-shetti', 'https://www.linkedin.com/in/etjessicaliu/en', 'https://www.google.com/search?q=site:linkedin.com/in/+Education+is+UC+Berkeley+graduated+works+in+therapist+pharmacist+pharmacy+technician&start=50', 'https://www.google.com/search?q=site:linkedin.com/in/+Education+is+UC+Berkeley+graduated+works+in+therapist+pharmacist+pharmacy+technician&start=60', 'https://www.linkedin.com/in/quennie-eslava-907609117', 'https://www.linkedin.com/in/matthew-s-smith', 'https://www.linkedin.com/in/amina-mohabbat-b9a2954b', 'https://in.linkedin.com/in/disha-shah123?trk=public_post_comment-text', 'https://www.linkedin.com/in/matthewcai-ua', 'https://www.linkedin.com/in/carla-moreno-56386b103', 'https://www.linkedin.com/in/ruben-valencia-psyd-mba-576873158', 'https://www.linkedin.com/in/elenakarkaletsis', 'https://www.linkedin.com/in/leah-dawson-phd-pmp-ccrp-08a16a180', 'https://www.linkedin.com/in/jingyi-orchid-cao-b31439186', 'https://www.google.com/search?q=site:linkedin.com/in/+Education+is+UC+Berkeley+graduated+works+in+therapist+pharmacist+pharmacy+technician&start=60', 'https://www.google.com/search?q=site:linkedin.com/in/+Education+is+UC+Berkeley+graduated+works+in+therapist+pharmacist+pharmacy+technician&start=70', 'https://www.linkedin.com/in/rachael-tigrett-29181a199', 'https://www.linkedin.com/in/atzhang2026', 'https://www.linkedin.com/in/ellen-welu-aba050b2', 'https://www.linkedin.com/in/olivia-fournier-9037b733', 'https://www.linkedin.com/in/amanda-gomez-mls-ascp-cm-88797591', 'https://www.linkedin.com/in/cassidy-gilmore-09b81b131', 'https://www.linkedin.com/in/maria-elena-sandoval-61001a2a', 'https://www.linkedin.com/in/angelie-tuazon-cifuentes-56522a161', 'https://www.linkedin.com/in/calexopoulos', 'https://www.linkedin.com/in/nawin-acharya-81a850145', 'https://www.google.com/search?q=site:linkedin.com/in/+Education+is+UC+Berkeley+graduated+works+in+therapist+pharmacist+pharmacy+technician&start=70', 'https://www.google.com/search?q=site:linkedin.com/in/+Education+is+UC+Berkeley+graduated+works+in+therapist+pharmacist+pharmacy+technician&start=80', 'https://www.linkedin.com/in/katie-lee-9a4377188', 'https://www.linkedin.com/in/bryan-garcia-4427a9181', 'https://www.linkedin.com/in/madison-lee-48a1451a0', 'https://www.linkedin.com/in/kaitlyn-carrico-86779a10b', 'https://www.linkedin.com/in/haileejunehampton', 'https://www.linkedin.com/in/peter-oberley-7b425292', 'https://www.linkedin.com/in/droliviarichman', 'https://www.linkedin.com/in/patrik-karlsson-lcsw-08055436', 'https://www.linkedin.com/in/simra-anwar-015250263', 'https://www.linkedin.com/in/diane-o-b71125183', 'https://www.google.com/search?q=site:linkedin.com/in/+Education+is+UC+Berkeley+graduated+works+in+therapist+pharmacist+pharmacy+technician&start=80', 'https://www.google.com/search?q=site:linkedin.com/in/+Education+is+UC+Berkeley+graduated+works+in+therapist+pharmacist+pharmacy+technician&start=90', 'https://www.linkedin.com/in/kellyhvu', 'https://www.linkedin.com/in/christian-suaste-5301bb1ba', 'https://www.linkedin.com/in/monica-l-aiello-3a9105b9', 'https://www.linkedin.com/in/adrian-echeverria-098496316', 'https://www.linkedin.com/in/riya-thakkar-87671a240', 'https://www.linkedin.com/in/meghan-climer-395796137', 'https://www.linkedin.com/in/kelly-mcmanus-80a89113b', 'https://www.linkedin.com/in/sarah-pecora-22514722b?trk=public_profile_browsemap', 'https://www.linkedin.com/in/alexandria-boyd-984142272', 'https://www.linkedin.com/in/lesliennadi-5b2696178', 'https://www.google.com/search?q=site:linkedin.com/in/+Education+is+UC+Berkeley+graduated+works+in+therapist+pharmacist+pharmacy+technician&start=90', 'https://www.google.com/search?q=site:linkedin.com/in/+Education+is+UC+Berkeley+graduated+works+in+therapist+pharmacist+pharmacy+technician']\n"
     ]
    },
    {
     "data": {
      "text/plain": [
       "121"
      ]
     },
     "execution_count": 161,
     "metadata": {},
     "output_type": "execute_result"
    }
   ],
   "source": [
    "from pprint import pprint\n",
    "import requests\n",
    "payload = {\n",
    "    'source': 'google',\n",
    "    'url': 'https://www.google.com/search?q=site:linkedin.com/in/+Education+is+UC+Berkeley+graduated+works+in+therapist+pharmacist+pharmacy+technician',\n",
    "    'parse': True,\n",
    "    'start_page': 1,\n",
    "    'pages': 10,\n",
    "}\n",
    "\n",
    "response = requests.request(\n",
    "    'POST',\n",
    "    'https://realtime.oxylabs.io/v1/queries',\n",
    "    auth=('satwikapaul_oZIdD', 'Fttkhcvnfttkhcvn6_'),\n",
    "    json=payload\n",
    ")\n",
    "\n",
    "med14data = response.json()\n",
    "med14data_linkedin_urls = extract_linkedin_urls(\n",
    "    med14data)\n",
    "print(med14data_linkedin_urls)\n",
    "len(med14data_linkedin_urls)\n"
   ]
  },
  {
   "cell_type": "code",
   "execution_count": 162,
   "id": "94bdf25a-07f0-4a51-b0b7-e5fd1ecd7300",
   "metadata": {},
   "outputs": [
    {
     "name": "stdout",
     "output_type": "stream",
     "text": [
      "['https://www.google.com/search?q=site:linkedin.com/in/+Education+is+UC+Berkeley+graduated+works+in+therapist+dental+dentist+oral', 'https://www.linkedin.com/in/katykincannon', 'https://www.linkedin.com/in/mersedeh-hakimzadeh-dental', 'https://www.linkedin.com/in/dr-harrison-jow-dds-2387b81a5', 'https://www.linkedin.com/in/michelle-lee-1bb9a364', 'https://www.linkedin.com/in/mylea-hunter-0ab16481', 'https://www.linkedin.com/in/alisa-matsoyan-6a626a19a', 'https://es.linkedin.com/in/natnaeltd', 'https://www.linkedin.com/in/arjenaquino', 'https://www.linkedin.com/in/lizbrummelrdh', 'https://www.linkedin.com/in/karli-sabatino-806228116', 'https://www.google.com/search?q=site:linkedin.com/in/+Education+is+UC+Berkeley+graduated+works+in+therapist+dental+dentist+oral', 'https://www.google.com/search?q=site:linkedin.com/in/+Education+is+UC+Berkeley+graduated+works+in+therapist+dental+dentist+oral&start=10', 'https://www.linkedin.com/in/nakisa-golabi-mph-rdh?trk=people-guest_people_search-card', 'https://www.linkedin.com/in/stephanie-jasmine-vargas', 'https://www.linkedin.com/in/kelly-tran-03a38a89', 'https://www.linkedin.com/in/alex-yen-2a12a8118', 'https://www.linkedin.com/in/megan-bosley', 'https://www.linkedin.com/in/ivy-chan-8655b393', 'https://www.linkedin.com/in/sonia-menchavez-od-mph-faao-026378b', 'https://uk.linkedin.com/in/%E9%9B%B7-%E9%99%88-89ab88190', 'https://www.linkedin.com/in/angela-chanthalangsy-b8217993', 'https://www.linkedin.com/in/melissamilder', 'https://www.google.com/search?q=site:linkedin.com/in/+Education+is+UC+Berkeley+graduated+works+in+therapist+dental+dentist+oral&start=10', 'https://www.google.com/search?q=site:linkedin.com/in/+Education+is+UC+Berkeley+graduated+works+in+therapist+dental+dentist+oral&start=20', 'https://www.linkedin.com/in/becky-leonard-9b63532b', 'https://www.linkedin.com/in/anuragdeep-kaur-593b33165', 'https://www.linkedin.com/in/natalie-perez-984641199?trk=people-guest_profile-result-card_result-card_full-click', 'https://www.linkedin.com/in/katherine-r-03764724b', 'https://www.linkedin.com/in/ali-hatamifar-dds-ms-81ab1b13b', 'https://www.linkedin.com/in/nysa-sarkari-1b5911263', 'https://www.linkedin.com/in/ashlynnekim', 'https://www.linkedin.com/in/tinacun', 'https://www.linkedin.com/in/howard-may-dds-656bb511', 'https://www.linkedin.com/in/julia-brown-phd', 'https://www.google.com/search?q=site:linkedin.com/in/+Education+is+UC+Berkeley+graduated+works+in+therapist+dental+dentist+oral&start=20', 'https://www.google.com/search?q=site:linkedin.com/in/+Education+is+UC+Berkeley+graduated+works+in+therapist+dental+dentist+oral&start=30', 'https://www.linkedin.com/in/alisa-matsoyan-6a626a19a', 'https://www.linkedin.com/in/katykincannon', 'https://www.linkedin.com/in/ali-hatamifar-dds-ms-81ab1b13b', 'https://www.linkedin.com/in/maira-hinojosa-156a6195', 'https://www.linkedin.com/in/isabelle-mollicone', 'https://my.linkedin.com/in/dr-gita-buxani-07944654', 'https://www.linkedin.com/in/andy-reichert-b2217939', 'https://www.linkedin.com/in/tiffani-tsao-od-13ba9347', 'https://www.linkedin.com/in/brettweath', 'https://www.linkedin.com/in/altagracia-valencia-sanchez-70670687', 'https://www.linkedin.com/in/dallas-morioka-212ab9117', 'https://uk.linkedin.com/in/elizabethleeyt', 'https://www.google.com/search?q=site:linkedin.com/in/+Education+is+UC+Berkeley+graduated+works+in+therapist+dental+dentist+oral&start=30', 'https://www.google.com/search?q=site:linkedin.com/in/+Education+is+UC+Berkeley+graduated+works+in+therapist+dental+dentist+oral&start=40', 'https://www.linkedin.com/in/sophie-logan-000b88132', 'https://www.linkedin.com/in/ariana-kraja-b9826543', 'https://www.linkedin.com/in/juliet-montagnon-25709677', 'https://in.linkedin.com/in/karanjot-singh-083a08214', 'https://www.linkedin.com/in/heather-simpson-32842965', 'https://www.linkedin.com/in/minna-chun-97402486', 'https://www.linkedin.com/in/nicole-martinez-182074166', 'https://www.linkedin.com/in/chloe-pike-584063200', 'https://www.linkedin.com/in/tintltran', 'https://www.linkedin.com/in/donian-shen-12443952', 'https://www.google.com/search?q=site:linkedin.com/in/+Education+is+UC+Berkeley+graduated+works+in+therapist+dental+dentist+oral&start=40', 'https://www.google.com/search?q=site:linkedin.com/in/+Education+is+UC+Berkeley+graduated+works+in+therapist+dental+dentist+oral&start=50', 'https://www.linkedin.com/in/beth-fernandez-bb85b8204', 'https://www.linkedin.com/in/ashley-halle-otd-otr-l-caps-lrc-1592b414', 'https://www.linkedin.com/in/christina-dixon-0948b531', 'https://www.linkedin.com/in/ashley-chwastyk-302a7058', 'https://www.linkedin.com/in/jasminearora', 'https://www.linkedin.com/in/dr-kennedy-chow-dmd-bb3914b9', 'https://www.linkedin.com/in/dharvi-jindal', 'https://www.linkedin.com/in/elizabeth-holt-pt-dpt-3805a455', 'https://www.linkedin.com/in/minhee-lee-chang-127ab86b', 'https://www.linkedin.com/in/thanmaya-vadi-bds-mph-46194b32', 'https://www.google.com/search?q=site:linkedin.com/in/+Education+is+UC+Berkeley+graduated+works+in+therapist+dental+dentist+oral&start=50', 'https://www.google.com/search?q=site:linkedin.com/in/+Education+is+UC+Berkeley+graduated+works+in+therapist+dental+dentist+oral&start=60', 'https://www.linkedin.com/in/vijay-rao-30a89b181', 'https://www.linkedin.com/in/roger-saumure-066671175', 'https://www.linkedin.com/in/michael-dai-703ba8b1', 'https://www.linkedin.com/in/makenna-jandrew-4338061b6', 'https://www.linkedin.com/in/virginia-carrillo-03342165', 'https://www.linkedin.com/in/chris-o-dea-31368b20b', 'https://www.linkedin.com/in/negar-pirooz', 'https://www.linkedin.com/in/michael-tabora-340657187', 'https://www.linkedin.com/in/willallee', 'https://www.linkedin.com/in/jenna-chernick-41b348283', 'https://www.google.com/search?q=site:linkedin.com/in/+Education+is+UC+Berkeley+graduated+works+in+therapist+dental+dentist+oral&start=60', 'https://www.google.com/search?q=site:linkedin.com/in/+Education+is+UC+Berkeley+graduated+works+in+therapist+dental+dentist+oral&start=70', 'https://www.linkedin.com/in/briana-yik-633986183', 'https://www.linkedin.com/in/marc-melnik-33801026', 'https://www.linkedin.com/in/diana-andrea-soto-teixeira-5353768b', 'https://www.linkedin.com/in/tysontonokawa', 'https://www.linkedin.com/in/valleyeastsidemassage', 'https://www.linkedin.com/in/haya-ayesh-934b631b5', 'https://na.linkedin.com/in/laimi-nghinyengwasha-0b16b8203', 'https://www.linkedin.com/in/tommylin1234', 'https://ir.linkedin.com/in/farnaz-bagheri-taddi-095471113', 'https://www.linkedin.com/in/rickie-jochi', 'https://www.google.com/search?q=site:linkedin.com/in/+Education+is+UC+Berkeley+graduated+works+in+therapist+dental+dentist+oral&start=70', 'https://www.google.com/search?q=site:linkedin.com/in/+Education+is+UC+Berkeley+graduated+works+in+therapist+dental+dentist+oral&start=80', 'https://www.linkedin.com/in/kevin-kim-42794aa3', 'https://www.linkedin.com/in/ramsey-musk-17759bb2', 'https://www.linkedin.com/in/stephanie-thomas-dds-aa63b9134', 'https://www.linkedin.com/in/nicole-archambault-eds-ms-ccc-slp-cymhs-cssc-clec-2021b613', 'https://in.linkedin.com/in/dr-g-gayatri-860108188', 'https://www.linkedin.com/in/meganholbert?trk=public_profile_browsemap', 'https://www.linkedin.com/in/katherinerichmond7', 'https://sg.linkedin.com/in/raphaellimm', 'https://www.linkedin.com/in/ghazalehkhod', 'https://www.linkedin.com/in/carrie-haber-b2784765', 'https://www.google.com/search?q=site:linkedin.com/in/+Education+is+UC+Berkeley+graduated+works+in+therapist+dental+dentist+oral&start=80', 'https://www.google.com/search?q=site:linkedin.com/in/+Education+is+UC+Berkeley+graduated+works+in+therapist+dental+dentist+oral&start=90', 'https://www.linkedin.com/in/laura-marcus-a5604019', 'https://in.linkedin.com/in/sangeetha-shankar-9055721a2', 'https://www.linkedin.com/in/aldosegui', 'https://www.linkedin.com/in/nha-dang-884b13172', 'https://www.linkedin.com/in/kayla-leal-1656a475', 'https://www.linkedin.com/in/christine-jackson-38255312', 'https://www.linkedin.com/in/nayna-jooma-3304511aa', 'https://my.linkedin.com/in/justin-teh-54763677', 'https://www.linkedin.com/in/esther-moon-797079bb', 'https://www.linkedin.com/in/donna-davami', 'https://www.google.com/search?q=site:linkedin.com/in/+Education+is+UC+Berkeley+graduated+works+in+therapist+dental+dentist+oral&start=90', 'https://www.google.com/search?q=site:linkedin.com/in/+Education+is+UC+Berkeley+graduated+works+in+therapist+dental+dentist+oral']\n"
     ]
    },
    {
     "data": {
      "text/plain": [
       "123"
      ]
     },
     "execution_count": 162,
     "metadata": {},
     "output_type": "execute_result"
    }
   ],
   "source": [
    "from pprint import pprint\n",
    "import requests\n",
    "payload = {\n",
    "    'source': 'google',\n",
    "    'url': 'https://www.google.com/search?q=site:linkedin.com/in/+Education+is+UC+Berkeley+graduated+works+in+therapist+dental+dentist+oral',\n",
    "    'parse': True,\n",
    "    'start_page': 1,\n",
    "    'pages': 10,\n",
    "}\n",
    "\n",
    "response = requests.request(\n",
    "    'POST',\n",
    "    'https://realtime.oxylabs.io/v1/queries',\n",
    "    auth=('satwikapaul_oZIdD', 'Fttkhcvnfttkhcvn6_'),\n",
    "    json=payload\n",
    ")\n",
    "\n",
    "med15data = response.json()\n",
    "med15data_linkedin_urls = extract_linkedin_urls(\n",
    "    med15data)\n",
    "print(med15data_linkedin_urls)\n",
    "len(med15data_linkedin_urls)\n"
   ]
  },
  {
   "cell_type": "code",
   "execution_count": 163,
   "id": "f7294975-76f1-47eb-9692-278bc6efbd5a",
   "metadata": {},
   "outputs": [
    {
     "name": "stdout",
     "output_type": "stream",
     "text": [
      "['https://www.google.com/search?q=site:linkedin.com/in/+Education+is+UC+Berkeley+graduated+works+in+psychologist+psychology+Psychiatrist', 'https://www.linkedin.com/in/alexandra-naiman', 'https://www.linkedin.com/in/rishika-shah-29680a183', 'https://www.linkedin.com/in/shelly-frank-0b55ab1b', 'https://www.linkedin.com/in/angela-j-johnson-phd-12903a219', 'https://www.linkedin.com/in/jasmin-brooks-stephens-ph-d-46395a6a', 'https://www.linkedin.com/in/tchiki-davis-ph-d-9845a561', 'https://in.linkedin.com/in/dipanwita-basu-79150a279', 'https://www.linkedin.com/in/kusha-murarka-psyd-6158161a', 'https://www.linkedin.com/in/amy-banas-humandev-sport', 'https://www.linkedin.com/in/aaronjfisher', 'https://www.google.com/search?q=site:linkedin.com/in/+Education+is+UC+Berkeley+graduated+works+in+psychologist+psychology+Psychiatrist', 'https://www.google.com/search?q=site:linkedin.com/in/+Education+is+UC+Berkeley+graduated+works+in+psychologist+psychology+Psychiatrist&start=10', 'https://www.linkedin.com/in/amy-sanchez-05b1a983', 'https://www.linkedin.com/in/tchiki-davis-ph-d-9845a561', 'https://www.linkedin.com/in/jennifer-rooney-psy-d-4696654', 'https://www.linkedin.com/in/chloe-green-phd-8371a736', 'https://www.linkedin.com/in/robynwalser', 'https://www.linkedin.com/in/emily-el-oqlah', 'https://www.linkedin.com/in/davin-duval-20b6159a', 'https://www.linkedin.com/in/madeleine-quinn-360b441ab', 'https://www.linkedin.com/in/elisusman', 'https://www.linkedin.com/in/umara-hansen-ma-2568a9221', 'https://www.google.com/search?q=site:linkedin.com/in/+Education+is+UC+Berkeley+graduated+works+in+psychologist+psychology+Psychiatrist&start=10', 'https://www.google.com/search?q=site:linkedin.com/in/+Education+is+UC+Berkeley+graduated+works+in+psychologist+psychology+Psychiatrist&start=20', 'https://www.linkedin.com/in/drjdallen', 'https://www.linkedin.com/in/peter-soyster-693b3aa6', 'https://www.linkedin.com/in/amy-banas-humandev-sport', 'https://www.linkedin.com/in/kaja-mcmaster-ph-d-75738566', 'https://www.linkedin.com/in/andrew-peckham-phd-5b35827a', 'https://www.linkedin.com/in/joindrsuri', 'https://www.linkedin.com/in/adenayoung', 'https://www.linkedin.com/in/claytie-davis-iii-07234741', 'https://www.linkedin.com/in/claudia-campos-57772a242', 'https://www.linkedin.com/in/isabella-ahrens', 'https://www.google.com/search?q=site:linkedin.com/in/+Education+is+UC+Berkeley+graduated+works+in+psychologist+psychology+Psychiatrist&start=20', 'https://www.google.com/search?q=site:linkedin.com/in/+Education+is+UC+Berkeley+graduated+works+in+psychologist+psychology+Psychiatrist&start=30', 'https://www.linkedin.com/in/julia-bravin-1241b630', 'https://www.linkedin.com/in/aguileraadrian', 'https://www.linkedin.com/in/stephen-kierulff-71852485', 'https://www.linkedin.com/in/lauren-m-haack-phd-5906bb54', 'https://www.linkedin.com/in/madeline-girard-phd', 'https://www.linkedin.com/in/claywilson555', 'https://www.linkedin.com/in/shari-aronson-phd-481075122', 'https://www.linkedin.com/in/drninaalpert', 'https://www.linkedin.com/in/edwin-carlos-aa4b49123', 'https://www.linkedin.com/in/drcourtneymiller', 'https://www.google.com/search?q=site:linkedin.com/in/+Education+is+UC+Berkeley+graduated+works+in+psychologist+psychology+Psychiatrist&start=30', 'https://www.google.com/search?q=site:linkedin.com/in/+Education+is+UC+Berkeley+graduated+works+in+psychologist+psychology+Psychiatrist&start=40', 'https://www.linkedin.com/in/maya-longtin-438627153', 'https://www.linkedin.com/in/sarah-wheelerphd', 'https://www.linkedin.com/in/lara-yedikian', 'https://www.linkedin.com/in/zainab-khan-a940501b1', 'https://www.linkedin.com/in/cynthia-valencia-ayala-ph-d-18a54872', 'https://www.linkedin.com/in/adisa-anderson-46a5b319', 'https://www.linkedin.com/in/manon-ironside', 'https://www.linkedin.com/in/chloeefox', 'https://www.linkedin.com/in/ezra-mauer-2422b024', 'https://www.linkedin.com/in/gerald-young-b5a153103', 'https://www.google.com/search?q=site:linkedin.com/in/+Education+is+UC+Berkeley+graduated+works+in+psychologist+psychology+Psychiatrist&start=40', 'https://www.google.com/search?q=site:linkedin.com/in/+Education+is+UC+Berkeley+graduated+works+in+psychologist+psychology+Psychiatrist&start=50', 'https://www.linkedin.com/in/kevinvolkan', 'https://www.linkedin.com/in/mars-torres-70945713b', 'https://www.linkedin.com/in/marieleeloyphd', 'https://www.linkedin.com/in/janellenguyen', 'https://www.linkedin.com/in/emily-bruce-290431160', 'https://www.linkedin.com/in/jessica-briggs-645a1610b', 'https://www.linkedin.com/in/davidreinstein', 'https://www.linkedin.com/in/jessicaniemeyer', 'https://www.linkedin.com/in/leslie-c-bell-7795291a', 'https://www.linkedin.com/in/elowynsamadhi', 'https://www.google.com/search?q=site:linkedin.com/in/+Education+is+UC+Berkeley+graduated+works+in+psychologist+psychology+Psychiatrist&start=50', 'https://www.google.com/search?q=site:linkedin.com/in/+Education+is+UC+Berkeley+graduated+works+in+psychologist+psychology+Psychiatrist&start=60', 'https://www.linkedin.com/in/nick-p-nguyen', 'https://www.linkedin.com/in/benjamin-swerdlow-5708b9123', 'https://www.linkedin.com/in/maya-chan-morales', 'https://www.linkedin.com/in/marianne-flatland-ms-lmft-4a874421?trk=public_post_comment_actor-name', 'https://www.linkedin.com/in/jennifer-pendleton-9747261b7', 'https://www.linkedin.com/in/niobe-way-75270534', 'https://www.linkedin.com/in/richard-sprott-99948137', 'https://www.linkedin.com/in/steven-stritt-4a097417', 'https://www.linkedin.com/in/gambrel', 'https://www.linkedin.com/in/kristinneff', 'https://www.google.com/search?q=site:linkedin.com/in/+Education+is+UC+Berkeley+graduated+works+in+psychologist+psychology+Psychiatrist&start=60', 'https://www.google.com/search?q=site:linkedin.com/in/+Education+is+UC+Berkeley+graduated+works+in+psychologist+psychology+Psychiatrist&start=70', 'https://www.linkedin.com/in/makenzie-wilkinson', 'https://www.linkedin.com/in/curtlehmann', 'https://www.linkedin.com/in/stephen-boynton-b910456b', 'https://www.linkedin.com/in/c-malik-boykin-ph-d-4091507', 'https://www.linkedin.com/in/stephaniecarreraphd', 'https://www.linkedin.com/in/alimattu', 'https://www.linkedin.com/in/felicia-zerwas-phd-39307626a', 'https://www.linkedin.com/in/misako-ormiston-b684912a9', 'https://www.linkedin.com/in/charles-burack-4b6a391', 'https://uk.linkedin.com/in/tiffany-cheung-cty02', 'https://www.google.com/search?q=site:linkedin.com/in/+Education+is+UC+Berkeley+graduated+works+in+psychologist+psychology+Psychiatrist&start=70', 'https://www.google.com/search?q=site:linkedin.com/in/+Education+is+UC+Berkeley+graduated+works+in+psychologist+psychology+Psychiatrist&start=80', 'https://www.linkedin.com/in/per-gjerde-5aab2032', 'https://in.linkedin.com/in/bhavika-agarwal-214994233', 'https://www.linkedin.com/in/marvynarevalo', 'https://www.linkedin.com/in/jasmin-brooks-stephens-ph-d-46395a6a', 'https://www.linkedin.com/in/claire-kahane-245123a4', 'https://www.linkedin.com/in/findingurdirection', 'https://www.linkedin.com/in/andrea-bernal-477b67249', 'https://www.linkedin.com/in/elaine-jones-ph-d-271646a5', 'https://www.linkedin.com/in/nicole-heller-ph-d-080ba364', 'https://www.linkedin.com/in/julia-ann-gallegos', 'https://www.google.com/search?q=site:linkedin.com/in/+Education+is+UC+Berkeley+graduated+works+in+psychologist+psychology+Psychiatrist&start=80', 'https://www.google.com/search?q=site:linkedin.com/in/+Education+is+UC+Berkeley+graduated+works+in+psychologist+psychology+Psychiatrist&start=90', 'https://www.linkedin.com/in/emily-schiller-psyd-9abb541b6', 'https://www.linkedin.com/in/shayne-weston-2b13a94', 'https://www.linkedin.com/in/esther-howe-ma-1542a4239', 'https://www.linkedin.com/in/michaela-moss', 'https://www.linkedin.com/in/abigail-perez-4805391a9', 'https://www.linkedin.com/in/dr-katie-brown-5545a6a4', 'https://www.linkedin.com/in/michael-lu-a0035384', 'https://www.linkedin.com/in/emma-mcculloch-psy-d-b9707b22b', 'https://www.linkedin.com/in/mandana-mostofi', 'https://www.linkedin.com/in/gracemalonai', 'https://www.google.com/search?q=site:linkedin.com/in/+Education+is+UC+Berkeley+graduated+works+in+psychologist+psychology+Psychiatrist&start=90', 'https://www.google.com/search?q=site:linkedin.com/in/+Education+is+UC+Berkeley+graduated+works+in+psychologist+psychology+Psychiatrist']\n"
     ]
    },
    {
     "data": {
      "text/plain": [
       "121"
      ]
     },
     "execution_count": 163,
     "metadata": {},
     "output_type": "execute_result"
    }
   ],
   "source": [
    "from pprint import pprint\n",
    "import requests\n",
    "payload = {\n",
    "    'source': 'google',\n",
    "    'url': 'https://www.google.com/search?q=site:linkedin.com/in/+Education+is+UC+Berkeley+graduated+works+in+psychologist+psychology+Psychiatrist',\n",
    "    'parse': True,\n",
    "    'start_page': 1,\n",
    "    'pages': 10,\n",
    "}\n",
    "\n",
    "response = requests.request(\n",
    "    'POST',\n",
    "    'https://realtime.oxylabs.io/v1/queries',\n",
    "    auth=('satwikapaul_oZIdD', 'Fttkhcvnfttkhcvn6_'),\n",
    "    json=payload\n",
    ")\n",
    "\n",
    "med16data = response.json()\n",
    "med16data_linkedin_urls = extract_linkedin_urls(\n",
    "    med16data)\n",
    "print(med16data_linkedin_urls)\n",
    "len(med16data_linkedin_urls)\n"
   ]
  },
  {
   "cell_type": "code",
   "execution_count": 164,
   "id": "f0780860-9373-4431-8063-e2154e47f099",
   "metadata": {},
   "outputs": [
    {
     "name": "stdout",
     "output_type": "stream",
     "text": [
      "['https://www.google.com/search?q=site:linkedin.com/in/+Education+is+UC+Berkeley+graduated+works+in+public+health', 'https://www.linkedin.com/in/thaonhipnguyen', 'https://www.linkedin.com/in/jessica-a-george', 'https://www.linkedin.com/in/sophia-moreno', 'https://www.linkedin.com/in/linden-lovett-a37544224', 'https://www.linkedin.com/in/mahathi-kandimalla', 'https://www.linkedin.com/in/emilyroseward', 'https://www.linkedin.com/in/aaliyah-parker', 'https://www.linkedin.com/in/charlie-musoff', 'https://www.linkedin.com/in/andrea-garibay-446b0713b', 'https://www.linkedin.com/in/christine-board-92b5a195', 'https://www.google.com/search?q=site:linkedin.com/in/+Education+is+UC+Berkeley+graduated+works+in+public+health', 'https://www.google.com/search?q=site:linkedin.com/in/+Education+is+UC+Berkeley+graduated+works+in+public+health&start=10', 'https://www.linkedin.com/in/sofia-ledesema-2a0ba119b', 'https://www.linkedin.com/in/michael-lu-554125150', 'https://www.linkedin.com/in/mikaela-h-holland-60946121b', 'https://www.linkedin.com/in/kevinyru', 'https://www.linkedin.com/in/drew-wodecki-mph-a95625100', 'https://www.linkedin.com/in/jessica-hernandez-22a55965', 'https://www.linkedin.com/in/laurenmkrupa', 'https://www.linkedin.com/in/svetlana-battle-40abaa19', 'https://www.linkedin.com/in/taloa-cardinal', 'https://www.linkedin.com/in/jlpham', 'https://www.google.com/search?q=site:linkedin.com/in/+Education+is+UC+Berkeley+graduated+works+in+public+health&start=10', 'https://www.google.com/search?q=site:linkedin.com/in/+Education+is+UC+Berkeley+graduated+works+in+public+health&start=20', 'https://www.linkedin.com/in/ethan-wolf-a058aa1b5', 'https://www.linkedin.com/in/angelikasarmiento-6786b5227', 'https://uk.linkedin.com/in/amia-reddy-704a7028a', 'https://www.linkedin.com/in/eric-manooki-6261521b2', 'https://www.linkedin.com/in/darylmangosing', 'https://www.linkedin.com/in/stacychen01', 'https://www.linkedin.com/in/maria-t-hernandez-9473397', 'https://www.linkedin.com/in/elee-mph', 'https://www.linkedin.com/in/jessica-kaplan-a73091263', 'https://in.linkedin.com/in/swethat728', 'https://www.google.com/search?q=site:linkedin.com/in/+Education+is+UC+Berkeley+graduated+works+in+public+health&start=20', 'https://www.google.com/search?q=site:linkedin.com/in/+Education+is+UC+Berkeley+graduated+works+in+public+health&start=30', 'https://www.linkedin.com/in/llerenashaina', 'https://www.linkedin.com/in/angela-mora-82b6981b3', 'https://www.linkedin.com/in/solis-winters', 'https://www.linkedin.com/in/deborahbarnett1', 'https://www.linkedin.com/in/mollywoerner', 'https://www.linkedin.com/in/carly-hyland', 'https://www.linkedin.com/in/lauryn-m-258a80156?trk=public_profile_browsemap', 'https://www.linkedin.com/in/kevinguzman14', 'https://www.linkedin.com/in/emily-p-27554275', 'https://www.linkedin.com/in/larissa-benjamin-ucb', 'https://www.google.com/search?q=site:linkedin.com/in/+Education+is+UC+Berkeley+graduated+works+in+public+health&start=30', 'https://www.google.com/search?q=site:linkedin.com/in/+Education+is+UC+Berkeley+graduated+works+in+public+health&start=40', 'https://www.linkedin.com/in/kristen-kim-41450a223', 'https://www.linkedin.com/in/audrey-larry', 'https://www.linkedin.com/in/ashika-john-a74318183', 'https://www.linkedin.com/in/prathana-adhikari', 'https://www.linkedin.com/in/celiarfjohnson', 'https://www.linkedin.com/in/sarahmckenzie1', 'https://www.linkedin.com/in/tatiana-de-la-sancha-40703524b', 'https://www.linkedin.com/in/dominique-marlin-andrews-7654962b9', 'https://www.linkedin.com/in/quin-hussey-mph-4292434', 'https://www.linkedin.com/in/chantal-chew-5b3b5721b', 'https://www.google.com/search?q=site:linkedin.com/in/+Education+is+UC+Berkeley+graduated+works+in+public+health&start=40', 'https://www.google.com/search?q=site:linkedin.com/in/+Education+is+UC+Berkeley+graduated+works+in+public+health&start=50', 'https://www.linkedin.com/in/saher-daredia', 'https://www.linkedin.com/in/irma-l-moreno-05850189', 'https://au.linkedin.com/in/mihir-pandya321', 'https://www.linkedin.com/in/elizabeth-woods-msph-pmp', 'https://www.linkedin.com/in/aayushma-bhandari', 'https://www.linkedin.com/in/jorgemoralesalfaro/en', 'https://www.linkedin.com/in/juan-e-cardenas', 'https://www.linkedin.com/in/elizabethjeanli', 'https://www.linkedin.com/in/ellen-chang-412526135', 'https://www.linkedin.com/in/peter-buto', 'https://www.google.com/search?q=site:linkedin.com/in/+Education+is+UC+Berkeley+graduated+works+in+public+health&start=50', 'https://www.google.com/search?q=site:linkedin.com/in/+Education+is+UC+Berkeley+graduated+works+in+public+health&start=60', 'https://www.linkedin.com/in/jessicaross9', 'https://www.linkedin.com/in/marissa-mckool-a9701892', 'https://www.linkedin.com/in/khatrip', 'https://www.linkedin.com/in/veraniavaldez', 'https://www.linkedin.com/in/patricia-hosel-29ba18a', 'https://www.linkedin.com/in/brent-fulton-b7424a10', 'https://www.linkedin.com/in/mayapetersen', 'https://www.linkedin.com/in/gabriella-torres-114957291', 'https://www.linkedin.com/in/emma-cott-0a6b989', 'https://www.linkedin.com/in/elsa-michelle-esparza-mph-rdn-98b7b219b', 'https://www.google.com/search?q=site:linkedin.com/in/+Education+is+UC+Berkeley+graduated+works+in+public+health&start=60', 'https://www.google.com/search?q=site:linkedin.com/in/+Education+is+UC+Berkeley+graduated+works+in+public+health&start=70', 'https://www.linkedin.com/in/isabelleknowles', 'https://www.linkedin.com/in/daniel-skarsten-b72284230', 'https://www.linkedin.com/in/dylanbach', 'https://www.linkedin.com/in/natalie-l-4b9970124', 'https://www.linkedin.com/in/cgreened', 'https://www.linkedin.com/in/robinfpearce', 'https://www.linkedin.com/in/janene-vernard-bb94a77b', 'https://www.linkedin.com/in/marlena-robbins', 'https://www.linkedin.com/in/madison-david-25bb42256', 'https://www.linkedin.com/in/peonyyu', 'https://www.google.com/search?q=site:linkedin.com/in/+Education+is+UC+Berkeley+graduated+works+in+public+health&start=70', 'https://www.google.com/search?q=site:linkedin.com/in/+Education+is+UC+Berkeley+graduated+works+in+public+health&start=80', 'https://www.linkedin.com/in/irlandagonzalez', 'https://www.linkedin.com/in/tltinalu', 'https://www.linkedin.com/in/claire-mastrangelo-3b2115312', 'https://www.linkedin.com/in/arundixit05', 'https://www.linkedin.com/in/lizbeth-gonzalez-062838264', 'https://uk.linkedin.com/in/beth-daughters-8b10a9206', 'https://www.linkedin.com/in/harjas-dhillon-064026147', 'https://www.linkedin.com/in/stephanie-leonard-85683b2a', 'https://www.linkedin.com/in/jeremyerodriguez', 'https://www.linkedin.com/in/christopher-villatoro-a7ab91116', 'https://www.google.com/search?q=site:linkedin.com/in/+Education+is+UC+Berkeley+graduated+works+in+public+health&start=80', 'https://www.google.com/search?q=site:linkedin.com/in/+Education+is+UC+Berkeley+graduated+works+in+public+health&start=90', 'https://www.linkedin.com/in/ashika-john-a74318183', 'https://www.linkedin.com/in/allyse-rudolph-maob-535534a0', 'https://www.linkedin.com/in/angela-mora-82b6981b3', 'https://www.linkedin.com/in/eloisa-lopez', 'https://www.linkedin.com/in/maya-ezekiel', 'https://www.linkedin.com/in/cynthiacyu', 'https://www.linkedin.com/in/kevinquinteroberkeley', 'https://www.linkedin.com/in/mia-patzakis-826741216', 'https://www.linkedin.com/in/julia-goodman-966a006', 'https://www.linkedin.com/in/lena-musoka', 'https://www.linkedin.com/in/dana-coppock-pector-a7887063', 'https://www.linkedin.com/in/katie-webb-mph-90aa2ba3', 'https://www.google.com/search?q=site:linkedin.com/in/+Education+is+UC+Berkeley+graduated+works+in+public+health&start=90', 'https://www.google.com/search?q=site:linkedin.com/in/+Education+is+UC+Berkeley+graduated+works+in+public+health']\n"
     ]
    },
    {
     "data": {
      "text/plain": [
       "123"
      ]
     },
     "execution_count": 164,
     "metadata": {},
     "output_type": "execute_result"
    }
   ],
   "source": [
    "from pprint import pprint\n",
    "import requests\n",
    "payload = {\n",
    "    'source': 'google',\n",
    "    'url': 'https://www.google.com/search?q=site:linkedin.com/in/+Education+is+UC+Berkeley+graduated+works+in+public+health',\n",
    "    'parse': True,\n",
    "    'start_page': 1,\n",
    "    'pages': 10,\n",
    "}\n",
    "\n",
    "response = requests.request(\n",
    "    'POST',\n",
    "    'https://realtime.oxylabs.io/v1/queries',\n",
    "    auth=('satwikapaul_oZIdD', 'Fttkhcvnfttkhcvn6_'),\n",
    "    json=payload\n",
    ")\n",
    "\n",
    "med17data = response.json()\n",
    "med17data_linkedin_urls = extract_linkedin_urls(\n",
    "    med17data)\n",
    "print(med17data_linkedin_urls)\n",
    "len(med17data_linkedin_urls)\n"
   ]
  },
  {
   "cell_type": "code",
   "execution_count": 165,
   "id": "97e13599-2219-44b1-9258-a9430ac4a11e",
   "metadata": {},
   "outputs": [
    {
     "name": "stdout",
     "output_type": "stream",
     "text": [
      "['https://www.google.com/search?q=site:linkedin.com/in/+Education+is+UC+Berkeley+graduated+works+in+medical+laboratory+technician', 'https://www.linkedin.com/in/jessica-zheng-961b33178', 'https://www.linkedin.com/in/seoyoung-han-b59022b7', 'https://www.linkedin.com/in/melissa-sanchez-9a58a394', 'https://www.linkedin.com/in/sara-koupaei-bab311266', 'https://www.linkedin.com/in/zihan-liu-profile', 'https://www.linkedin.com/in/basakdogan', 'https://www.linkedin.com/in/gkumar4', 'https://www.linkedin.com/in/elise-a-eng', 'https://www.linkedin.com/in/audrey-larry', 'https://www.linkedin.com/in/diana-floress', 'https://www.google.com/search?q=site:linkedin.com/in/+Education+is+UC+Berkeley+graduated+works+in+medical+laboratory+technician', 'https://www.google.com/search?q=site:linkedin.com/in/+Education+is+UC+Berkeley+graduated+works+in+medical+laboratory+technician&start=10', 'https://www.linkedin.com/in/isabella-perez-388916246', 'https://www.linkedin.com/in/olivia-okpala-99b426198', 'https://www.linkedin.com/in/matthew-su-97464b194', 'https://www.linkedin.com/in/breannesee', 'https://www.linkedin.com/in/denisegrobles', 'https://www.linkedin.com/in/surya-tripathi-b855485b', 'https://www.linkedin.com/in/shirley-ly-8567729b', 'https://www.linkedin.com/in/catherine-murphy-ba3901256', 'https://www.linkedin.com/in/jacquelineborges123', 'https://www.linkedin.com/in/grawei', 'https://www.google.com/search?q=site:linkedin.com/in/+Education+is+UC+Berkeley+graduated+works+in+medical+laboratory+technician&start=10', 'https://www.google.com/search?q=site:linkedin.com/in/+Education+is+UC+Berkeley+graduated+works+in+medical+laboratory+technician&start=20', 'https://www.linkedin.com/in/natalie-gonzalez-25a555252', 'https://www.linkedin.com/in/nishantchadha', 'https://www.linkedin.com/in/daniela-castillo-6b73541a7', 'https://www.linkedin.com/in/tu-le-b95044125', 'https://www.linkedin.com/in/lucasyoshidamph', 'https://www.linkedin.com/in/veronicageczi', 'https://www.linkedin.com/in/vincent-baugh', 'https://www.linkedin.com/in/huynhnina', 'https://www.linkedin.com/in/christy-george-a08aa618a', 'https://www.linkedin.com/in/joseph-m-marini-mph-703525228', 'https://www.google.com/search?q=site:linkedin.com/in/+Education+is+UC+Berkeley+graduated+works+in+medical+laboratory+technician&start=20', 'https://www.google.com/search?q=site:linkedin.com/in/+Education+is+UC+Berkeley+graduated+works+in+medical+laboratory+technician&start=30', 'https://www.linkedin.com/in/joseph-m-marini-mph-703525228', 'https://www.linkedin.com/in/abdullah-m1', 'https://www.linkedin.com/in/jasonskoff', 'https://www.linkedin.com/in/jobshiach', 'https://www.linkedin.com/in/sarah-frantz', 'https://www.linkedin.com/in/amanda-rogers-34029b23b', 'https://www.linkedin.com/in/shanea-gideon-00a6b2117', 'https://www.linkedin.com/in/stephanie-alderete-b47413201', 'https://www.linkedin.com/in/bkjung0901', 'https://www.linkedin.com/in/noahrbaker', 'https://www.google.com/search?q=site:linkedin.com/in/+Education+is+UC+Berkeley+graduated+works+in+medical+laboratory+technician&start=30', 'https://www.google.com/search?q=site:linkedin.com/in/+Education+is+UC+Berkeley+graduated+works+in+medical+laboratory+technician&start=40', 'https://www.linkedin.com/in/ella-zhang-502b2018a?trk=public_profile_browsemap_profile-result-card_result-card_full-click', 'https://www.linkedin.com/in/johnathan-o-hara-smith-a6a44b1b0', 'https://www.linkedin.com/in/sam-paplanus-6a70041b4', 'https://www.linkedin.com/in/ivonne-romero-781067104', 'https://www.linkedin.com/in/ashleeosborne', 'https://www.linkedin.com/in/dat-nguyen-a5792010a/', 'https://www.linkedin.com/in/mikaela-h-holland-60946121b', 'https://www.linkedin.com/in/julia-peck-70615459', 'https://www.linkedin.com/in/james-mctighe-65b1b2156', 'https://www.linkedin.com/in/cathy-hardy-5b0190a9', 'https://www.google.com/search?q=site:linkedin.com/in/+Education+is+UC+Berkeley+graduated+works+in+medical+laboratory+technician&start=40', 'https://www.google.com/search?q=site:linkedin.com/in/+Education+is+UC+Berkeley+graduated+works+in+medical+laboratory+technician&start=50', 'https://www.linkedin.com/in/lauren-huang-hunter', 'https://www.linkedin.com/in/-patrickvu', 'https://www.linkedin.com/in/jm1001', 'https://www.linkedin.com/in/hiral-patel-bb5074128', 'https://www.linkedin.com/in/w-brad-robinson-60373734', 'https://www.linkedin.com/in/breona-jenkins-2593a02b', 'https://www.linkedin.com/in/nico-fujii', 'https://www.linkedin.com/in/julio-f-salas', 'https://www.linkedin.com/in/-joseph-vo', 'https://www.linkedin.com/in/bernardus-rendy', 'https://www.google.com/search?q=site:linkedin.com/in/+Education+is+UC+Berkeley+graduated+works+in+medical+laboratory+technician&start=50', 'https://www.google.com/search?q=site:linkedin.com/in/+Education+is+UC+Berkeley+graduated+works+in+medical+laboratory+technician&start=60', 'https://www.linkedin.com/in/taloa-cardinal', 'https://www.linkedin.com/in/lecote', 'https://www.linkedin.com/in/sarah-peykar-11a24a23b', 'https://www.linkedin.com/in/gladys-valencia', 'https://www.linkedin.com/in/lucaswaldburger', 'https://www.linkedin.com/in/kelsey-defrates-67147b251', 'https://www.linkedin.com/in/gracie-walker-7056a6221', 'https://www.linkedin.com/in/laila-shaikh', 'https://www.linkedin.com/in/harisri108', 'https://www.linkedin.com/in/beth-daughters-8b10a9206', 'https://www.google.com/search?q=site:linkedin.com/in/+Education+is+UC+Berkeley+graduated+works+in+medical+laboratory+technician&start=60', 'https://www.google.com/search?q=site:linkedin.com/in/+Education+is+UC+Berkeley+graduated+works+in+medical+laboratory+technician&start=70', 'https://www.linkedin.com/in/savannah-hunter-2233b767', 'https://www.linkedin.com/in/emma-lalor-643a70242', 'https://www.linkedin.com/in/srinitya-sriram', 'https://www.linkedin.com/in/angela-t-b27442103', 'https://www.linkedin.com/in/kristy-martin-7b5b28149', 'https://www.linkedin.com/in/emilyhanna3', 'https://www.linkedin.com/in/blake-downing-270333122', 'https://www.linkedin.com/in/adam-j-herbertson', 'https://www.linkedin.com/in/islah-zareef-mustafa-b7920b143', 'https://www.linkedin.com/in/jessica-ortiz-64028b192', 'https://www.google.com/search?q=site:linkedin.com/in/+Education+is+UC+Berkeley+graduated+works+in+medical+laboratory+technician&start=70', 'https://www.google.com/search?q=site:linkedin.com/in/+Education+is+UC+Berkeley+graduated+works+in+medical+laboratory+technician&start=80', 'https://www.linkedin.com/in/angeladrexler', 'https://www.linkedin.com/in/trinity-reimer-043b96232', 'https://www.linkedin.com/in/samuel-rubin-46153a1a4', 'https://www.linkedin.com/in/celeste-neahusan', 'https://www.linkedin.com/in/allison-gleason-phd-965226133', 'https://www.linkedin.com/in/carolflee', 'https://www.linkedin.com/in/andrew-huberman', 'https://www.linkedin.com/in/alexasvaladez', 'https://www.linkedin.com/in/juliachen26', 'https://www.linkedin.com/in/mahathi-kandimalla', 'https://www.google.com/search?q=site:linkedin.com/in/+Education+is+UC+Berkeley+graduated+works+in+medical+laboratory+technician&start=80', 'https://www.google.com/search?q=site:linkedin.com/in/+Education+is+UC+Berkeley+graduated+works+in+medical+laboratory+technician&start=90', 'https://www.linkedin.com/in/mbeal-sci', 'https://www.linkedin.com/in/kristen-gardner-unc', 'https://www.linkedin.com/in/tanzil-chowdhury-46bb7a18a', 'https://www.linkedin.com/in/maggie-cheng-zs', 'https://www.linkedin.com/in/anne-maclachlan-1a579812', 'https://www.linkedin.com/in/julie-le842', 'https://www.linkedin.com/in/arlethescoto', 'https://www.linkedin.com/in/thaonhipnguyen', 'https://www.linkedin.com/in/katherinegerhardt', 'https://www.linkedin.com/in/katherine-flug-007164181', 'https://www.google.com/search?q=site:linkedin.com/in/+Education+is+UC+Berkeley+graduated+works+in+medical+laboratory+technician&start=90', 'https://www.google.com/search?q=site:linkedin.com/in/+Education+is+UC+Berkeley+graduated+works+in+medical+laboratory+technician']\n"
     ]
    },
    {
     "data": {
      "text/plain": [
       "121"
      ]
     },
     "execution_count": 165,
     "metadata": {},
     "output_type": "execute_result"
    }
   ],
   "source": [
    "from pprint import pprint\n",
    "import requests\n",
    "payload = {\n",
    "    'source': 'google',\n",
    "    'url': 'https://www.google.com/search?q=site:linkedin.com/in/+Education+is+UC+Berkeley+graduated+works+in+medical+laboratory+technician',\n",
    "    'parse': True,\n",
    "    'start_page': 1,\n",
    "    'pages': 10,\n",
    "}\n",
    "\n",
    "response = requests.request(\n",
    "    'POST',\n",
    "    'https://realtime.oxylabs.io/v1/queries',\n",
    "    auth=('satwikapaul_oZIdD', 'Fttkhcvnfttkhcvn6_'),\n",
    "    json=payload\n",
    ")\n",
    "\n",
    "med18data = response.json()\n",
    "med18data_linkedin_urls = extract_linkedin_urls(\n",
    "    med18data)\n",
    "print(med18data_linkedin_urls)\n",
    "len(med18data_linkedin_urls)\n"
   ]
  },
  {
   "cell_type": "markdown",
   "id": "9f7d37af-052f-4904-845e-e976b2518208",
   "metadata": {
    "jp-MarkdownHeadingCollapsed": true,
    "tags": []
   },
   "source": [
    "# Teaching, Academia, Education, Research URLS #"
   ]
  },
  {
   "cell_type": "code",
   "execution_count": 166,
   "id": "2ae458af-b563-4b59-b5cb-6d773b69c6b1",
   "metadata": {},
   "outputs": [
    {
     "name": "stdout",
     "output_type": "stream",
     "text": [
      "['https://www.google.com/search?q=site:linkedin.com/in/+Education+is+UC+Berkeley+graduated+works+in+teacher+education+teaching', 'https://www.linkedin.com/in/margaret-peterson-2531561b2', 'https://www.linkedin.com/in/jana-lee24', 'https://www.linkedin.com/in/elisa-salasin-8479b44', 'https://www.linkedin.com/in/calteach-berkeley-41132850', 'https://www.linkedin.com/in/annie-alcott-a2a232123', 'https://www.linkedin.com/in/crystal-menzies-phd-a44b2748', 'https://www.linkedin.com/in/paula-malesardi-hansen', 'https://www.linkedin.com/in/tom-green-12a82866', 'https://www.linkedin.com/in/chela-delgado-phd-54a7a310b', 'https://www.linkedin.com/in/betina-hsieh-08719758', 'https://www.google.com/search?q=site:linkedin.com/in/+Education+is+UC+Berkeley+graduated+works+in+teacher+education+teaching', 'https://www.google.com/search?q=site:linkedin.com/in/+Education+is+UC+Berkeley+graduated+works+in+teacher+education+teaching&start=10', 'https://www.linkedin.com/in/chela-delgado-phd-54a7a310b', 'https://ie.linkedin.com/in/bernadetteadams', 'https://www.linkedin.com/in/julie-phan-90713b32', 'https://www.linkedin.com/in/ngoc-tram-d-7072458a?trk=public_profile_browsemap', 'https://www.linkedin.com/in/kelly-billings-profile', 'https://www.linkedin.com/in/jolynbrand', 'https://www.linkedin.com/in/samantha-valentine-a1b872236', 'https://www.linkedin.com/in/felicia-darling-8619b461', 'https://www.linkedin.com/in/michaelpcarlsen', 'https://www.linkedin.com/in/mitchgordon1', 'https://www.google.com/search?q=site:linkedin.com/in/+Education+is+UC+Berkeley+graduated+works+in+teacher+education+teaching&start=10', 'https://www.google.com/search?q=site:linkedin.com/in/+Education+is+UC+Berkeley+graduated+works+in+teacher+education+teaching&start=20', 'https://www.linkedin.com/in/pjhallam', 'https://www.linkedin.com/in/kaiosorio', 'https://www.linkedin.com/in/francesca-m-rivera', 'https://www.linkedin.com/in/april-schlenk-1a0a196a', 'https://www.linkedin.com/in/jesse-clements-51199419b', 'https://www.linkedin.com/in/chloe-logan-berkeley', 'https://www.linkedin.com/in/benjamin-cannon-4a1a3b83', 'https://www.linkedin.com/in/liam-aiello', 'https://www.linkedin.com/in/claudia-martinez-911929236', 'https://za.linkedin.com/in/christopher-edley-isu', 'https://www.google.com/search?q=site:linkedin.com/in/+Education+is+UC+Berkeley+graduated+works+in+teacher+education+teaching&start=20', 'https://www.google.com/search?q=site:linkedin.com/in/+Education+is+UC+Berkeley+graduated+works+in+teacher+education+teaching&start=30', 'https://www.linkedin.com/in/travis-j-bristol-ph-d-471b047', 'https://www.linkedin.com/in/shayne-weston-2b13a94', 'https://www.linkedin.com/in/megan-frogley', 'https://www.linkedin.com/in/lora-bartlett-ba049275', 'https://www.linkedin.com/in/vicki-zakrzewski-b336805', 'https://nz.linkedin.com/in/sara-tolbert-15278633', 'https://www.linkedin.com/in/john-creger-2964092b', 'https://www.linkedin.com/in/matt-simon-3baa485a', 'https://www.linkedin.com/in/chandandeep-kaur-6a110918a', 'https://www.linkedin.com/in/ashley-daly-a3298bb', 'https://www.google.com/search?q=site:linkedin.com/in/+Education+is+UC+Berkeley+graduated+works+in+teacher+education+teaching&start=30', 'https://www.google.com/search?q=site:linkedin.com/in/+Education+is+UC+Berkeley+graduated+works+in+teacher+education+teaching&start=40', 'https://www.linkedin.com/in/ellisvron', 'https://www.linkedin.com/in/estherwojcicki', 'https://www.linkedin.com/in/rosemary-grout-6b25b3b8', 'https://www.linkedin.com/in/tolani-britton-b27278b3', 'https://www.linkedin.com/in/molly-dunn-a6353495', 'https://www.linkedin.com/in/helena-worthen-0244602a', 'https://www.linkedin.com/in/zaretta-hammond-2b122ba', 'https://www.linkedin.com/in/rebekah-austin-93bbb244', 'https://www.linkedin.com/in/sarah-benjamin-teacher', 'https://www.linkedin.com/in/chad-g-crosson-01811417a', 'https://www.google.com/search?q=site:linkedin.com/in/+Education+is+UC+Berkeley+graduated+works+in+teacher+education+teaching&start=40', 'https://www.google.com/search?q=site:linkedin.com/in/+Education+is+UC+Berkeley+graduated+works+in+teacher+education+teaching&start=50', 'https://www.linkedin.com/in/derek-jay-allen', 'https://www.linkedin.com/in/tessa-wood-086453173', 'https://www.linkedin.com/in/youki-terada-97154910', 'https://www.linkedin.com/in/carmen-acevedo-butcher-ph-d', 'https://www.linkedin.com/in/jessicakparker', 'https://www.linkedin.com/in/stacy-tapia', 'https://www.linkedin.com/in/maia-wachtel-77467549', 'https://www.linkedin.com/in/oscarsvalencia', 'https://www.linkedin.com/in/jaceydlt', 'https://www.linkedin.com/in/rebecca-dreyfus-61990892', 'https://www.google.com/search?q=site:linkedin.com/in/+Education+is+UC+Berkeley+graduated+works+in+teacher+education+teaching&start=50', 'https://www.google.com/search?q=site:linkedin.com/in/+Education+is+UC+Berkeley+graduated+works+in+teacher+education+teaching&start=60', 'https://www.linkedin.com/in/tara-mason2018', 'https://www.linkedin.com/in/brettagogy', 'https://www.linkedin.com/in/joseph-mcdonald-57b63a76', 'https://www.linkedin.com/in/keishiagu', 'https://www.linkedin.com/in/julia-peck-70615459', 'https://www.linkedin.com/in/ashley-trinh-0334a78b', 'https://www.linkedin.com/in/gabriela-nunez-4470b8195', 'https://www.linkedin.com/in/andrewhfalk', 'https://www.linkedin.com/in/jordan-clarkson-74954114b', 'https://www.linkedin.com/in/enikia-ford-morthel-9a082726', 'https://www.google.com/search?q=site:linkedin.com/in/+Education+is+UC+Berkeley+graduated+works+in+teacher+education+teaching&start=60', 'https://www.google.com/search?q=site:linkedin.com/in/+Education+is+UC+Berkeley+graduated+works+in+teacher+education+teaching&start=70', 'https://www.linkedin.com/in/emma-f-clark', 'https://www.linkedin.com/in/anuradha-murthy-5577a110', 'https://www.linkedin.com/in/jeremy-brooks', 'https://www.linkedin.com/in/josephine-l-3755b9101/sv?trk=people-guest_people_search-card', 'https://www.linkedin.com/in/tanvi-metre-462391147', 'https://www.linkedin.com/in/janelle-scott-8482026', 'https://www.linkedin.com/in/brycen-williams-bb1685289', 'https://www.linkedin.com/in/may-tran-b76a30149', 'https://www.linkedin.com/in/dominicgutierrez', 'https://www.linkedin.com/in/brandy-ruedas-b41776b6', 'https://www.google.com/search?q=site:linkedin.com/in/+Education+is+UC+Berkeley+graduated+works+in+teacher+education+teaching&start=70', 'https://www.google.com/search?q=site:linkedin.com/in/+Education+is+UC+Berkeley+graduated+works+in+teacher+education+teaching&start=80', 'https://www.linkedin.com/in/enikia-ford-morthel-9a082726', 'https://www.linkedin.com/in/enikia-ford-morthel-9a082726', 'https://www.linkedin.com/in/margaret-peterson-2531561b2', 'https://www.linkedin.com/in/sharon-merritt-49504813', 'https://www.linkedin.com/in/nina-gabelko-447b7b37', 'https://www.linkedin.com/in/sierrabalatan', 'https://www.linkedin.com/in/school-of-education-university-of-redlands-b49670165', 'https://www.linkedin.com/in/amywinton', 'https://www.linkedin.com/in/4dshoor', 'https://www.linkedin.com/in/israel-garcia-ceballos', 'https://www.linkedin.com/in/david-stevens-b17a38116', 'https://www.linkedin.com/in/sierrabarton', 'https://www.google.com/search?q=site:linkedin.com/in/+Education+is+UC+Berkeley+graduated+works+in+teacher+education+teaching&start=80', 'https://www.google.com/search?q=site:linkedin.com/in/+Education+is+UC+Berkeley+graduated+works+in+teacher+education+teaching&start=90', 'https://www.linkedin.com/in/kathryn-lanouette-87bb34b0', 'https://www.linkedin.com/in/yanazlo', 'https://www.linkedin.com/in/anneliise', 'https://www.linkedin.com/in/emmy-fearn-349aa07', 'https://www.linkedin.com/in/catherine-lipson-838515a', 'https://www.linkedin.com/in/david-apilado', 'https://www.linkedin.com/in/nathan-gong13', 'https://www.linkedin.com/in/johanna-paraiso-84a2b774', 'https://www.linkedin.com/in/kim-seashore-5062828', 'https://www.linkedin.com/in/diane-espa%C3%B1a-8714b6a2', 'https://www.google.com/search?q=site:linkedin.com/in/+Education+is+UC+Berkeley+graduated+works+in+teacher+education+teaching&start=90', 'https://www.google.com/search?q=site:linkedin.com/in/+Education+is+UC+Berkeley+graduated+works+in+teacher+education+teaching']\n"
     ]
    },
    {
     "data": {
      "text/plain": [
       "123"
      ]
     },
     "execution_count": 166,
     "metadata": {},
     "output_type": "execute_result"
    }
   ],
   "source": [
    "from pprint import pprint\n",
    "import requests\n",
    "payload = {\n",
    "    'source': 'google',\n",
    "    'url': 'https://www.google.com/search?q=site:linkedin.com/in/+Education+is+UC+Berkeley+graduated+works+in+teacher+education+teaching',\n",
    "    'parse': True,\n",
    "    'start_page': 1,\n",
    "    'pages': 10,\n",
    "}\n",
    "\n",
    "response = requests.request(\n",
    "    'POST',\n",
    "    'https://realtime.oxylabs.io/v1/queries',\n",
    "    auth=('satwikapaul_oZIdD', 'Fttkhcvnfttkhcvn6_'),\n",
    "    json=payload\n",
    ")\n",
    "\n",
    "ed1data = response.json()\n",
    "ed1data_linkedin_urls = extract_linkedin_urls(\n",
    "    ed1data)\n",
    "print(ed1data_linkedin_urls)\n",
    "len(ed1data_linkedin_urls)\n"
   ]
  },
  {
   "cell_type": "code",
   "execution_count": 168,
   "id": "66bd93ba-7923-48d3-a2ab-33bfaf79d559",
   "metadata": {},
   "outputs": [
    {
     "name": "stdout",
     "output_type": "stream",
     "text": [
      "['https://www.google.com/search?q=site:linkedin.com/in/+Education+is+UC+Berkeley+graduated+works+in+lecturer+professor', 'https://www.linkedin.com/in/elton-cairns-24425b1b3', 'https://www.linkedin.com/in/k-g-1a307634', 'https://www.linkedin.com/in/david-kyeu-phd-aa1b9837', 'https://www.linkedin.com/in/annie-alcott-a2a232123', 'https://www.linkedin.com/in/ratihayuapsari91', 'https://www.linkedin.com/in/felicia-darling-8619b461', 'https://www.linkedin.com/in/carmen-acevedo-butcher-ph-d', 'https://www.linkedin.com/in/tom-green-12a82866', 'https://www.linkedin.com/in/ddgarcia', 'https://www.linkedin.com/in/ben-brown-41888656', 'https://www.google.com/search?q=site:linkedin.com/in/+Education+is+UC+Berkeley+graduated+works+in+lecturer+professor', 'https://www.google.com/search?q=site:linkedin.com/in/+Education+is+UC+Berkeley+graduated+works+in+lecturer+professor&start=10', 'https://www.linkedin.com/in/dr-antonella-vitale-61738963', 'https://www.linkedin.com/in/laura-belik', 'https://www.linkedin.com/in/pete-marsden-a53a6525', 'https://www.linkedin.com/in/maki-takata-518bbab1', 'https://www.linkedin.com/in/angela-hume-790b07269', 'https://www.linkedin.com/in/kelly-campbell-ph-d-8012a596', 'https://www.linkedin.com/in/damien-donnelly', 'https://www.linkedin.com/in/edwin-lin-78485a58', 'https://www.linkedin.com/in/michael-song-phd-093701a4', 'https://www.linkedin.com/in/ryanrsloan', 'https://www.google.com/search?q=site:linkedin.com/in/+Education+is+UC+Berkeley+graduated+works+in+lecturer+professor&start=10', 'https://www.google.com/search?q=site:linkedin.com/in/+Education+is+UC+Berkeley+graduated+works+in+lecturer+professor&start=20', 'https://www.linkedin.com/in/becky-hsu-10130b18a', 'https://ke.linkedin.com/in/brian-james-59a330321', 'https://www.linkedin.com/in/andrew-frank-1739378', 'https://www.linkedin.com/in/elisa-salasin-8479b44', 'https://www.linkedin.com/in/nilsenadam', 'https://www.linkedin.com/in/ariel-baker-gibbs-2b7b7b34', 'https://www.linkedin.com/in/jonathan-lear-67254438', 'https://www.linkedin.com/in/paula-malesardi-hansen', 'https://www.linkedin.com/in/bruno-meyerhof-salama/en', 'https://www.linkedin.com/in/zehlia-babaci-wilhite-2335261b', 'https://www.google.com/search?q=site:linkedin.com/in/+Education+is+UC+Berkeley+graduated+works+in+lecturer+professor&start=20', 'https://www.google.com/search?q=site:linkedin.com/in/+Education+is+UC+Berkeley+graduated+works+in+lecturer+professor&start=30', 'https://www.linkedin.com/in/glennrdeguzman-edd', 'https://www.linkedin.com/in/nathan-atkinson-2017', 'https://www.linkedin.com/in/soledadguilera', 'https://www.linkedin.com/in/trude-renwick-19853142/', 'https://www.linkedin.com/in/mandy-savitz-romer-44403794', 'https://www.linkedin.com/in/xiaojun-li-4418401a9', 'https://uk.linkedin.com/in/anke-schwittay-9a589bb9', 'https://www.linkedin.com/in/richard-andrews-2790027', 'https://www.linkedin.com/in/crystal-menzies-phd-a44b2748', 'https://www.linkedin.com/in/eric-demeulenaere-2143509', 'https://www.google.com/search?q=site:linkedin.com/in/+Education+is+UC+Berkeley+graduated+works+in+lecturer+professor&start=30', 'https://www.google.com/search?q=site:linkedin.com/in/+Education+is+UC+Berkeley+graduated+works+in+lecturer+professor&start=40', 'https://www.linkedin.com/in/maria-nunez-b41a6ba2', 'https://www.linkedin.com/in/jesse-clements-51199419b', 'https://www.linkedin.com/in/gaius-stern-a2540624', 'https://za.linkedin.com/in/christopher-edley-isu', 'https://www.linkedin.com/in/martha-schwarz-58a7b9264', 'https://www.linkedin.com/in/molly-dunn-a6353495', 'https://www.linkedin.com/in/jessestommel', 'https://www.linkedin.com/in/kathrynaccurso', 'https://www.linkedin.com/in/julie-hui-71359741', 'https://www.linkedin.com/in/benjamin-cannon-4a1a3b83', 'https://www.google.com/search?q=site:linkedin.com/in/+Education+is+UC+Berkeley+graduated+works+in+lecturer+professor&start=40', 'https://www.google.com/search?q=site:linkedin.com/in/+Education+is+UC+Berkeley+graduated+works+in+lecturer+professor&start=50', 'https://www.linkedin.com/in/chad-g-crosson-01811417a', 'https://au.linkedin.com/in/frederik-juliaan-vervaet-01b551b', 'https://www.linkedin.com/in/pura-vazquez-6ba9b6161', 'https://www.linkedin.com/in/reza-ghahramani-37494411b', 'https://www.linkedin.com/in/andrea-neves-7843005', 'https://www.linkedin.com/in/anjack', 'https://www.linkedin.com/in/christopher-carpenter-88187722', 'https://www.linkedin.com/in/karen-lang-743873ba', 'https://bo.linkedin.com/in/sarah-gold-mcbride-ph-d-2984a8117', 'https://www.linkedin.com/in/jeremyrue', 'https://www.google.com/search?q=site:linkedin.com/in/+Education+is+UC+Berkeley+graduated+works+in+lecturer+professor&start=50', 'https://www.google.com/search?q=site:linkedin.com/in/+Education+is+UC+Berkeley+graduated+works+in+lecturer+professor&start=60', 'https://www.linkedin.com/in/kelly-kruger-95039439', 'https://www.linkedin.com/in/clarissa-ibarra-64b6447b', 'https://www.linkedin.com/in/annamariabounds', 'https://www.linkedin.com/in/bl75', 'https://www.linkedin.com/in/aqgarcia', 'https://www.linkedin.com/in/helena-worthen-0244602a', 'https://www.linkedin.com/in/laurenfrancesguerra', 'https://www.linkedin.com/in/margaret-kolb-47915725', 'https://www.linkedin.com/in/christopher-stawski-886a9346', 'https://www.linkedin.com/in/noramitchell', 'https://www.google.com/search?q=site:linkedin.com/in/+Education+is+UC+Berkeley+graduated+works+in+lecturer+professor&start=60', 'https://www.google.com/search?q=site:linkedin.com/in/+Education+is+UC+Berkeley+graduated+works+in+lecturer+professor&start=70', 'https://www.linkedin.com/in/matthew-parker-820b3824a', 'https://www.linkedin.com/in/enikia-ford-morthel-9a082726', 'https://www.linkedin.com/in/timothy-doran-a8b7363', 'https://www.linkedin.com/in/wanda-katja-liebermann-09453918', 'https://www.linkedin.com/in/oscarsvalencia', 'https://www.linkedin.com/in/sharon-merritt-49504813', 'https://www.linkedin.com/in/robin-mitchell-5a89b388', 'https://www.linkedin.com/in/anuradha-murthy-5577a110', 'https://nz.linkedin.com/in/manuel-vallee-b3332263', 'https://www.linkedin.com/in/yanazlo', 'https://www.linkedin.com/in/jasmin-miller-b232aa5', 'https://www.linkedin.com/in/allison-kelley-8832851b9', 'https://www.google.com/search?q=site:linkedin.com/in/+Education+is+UC+Berkeley+graduated+works+in+lecturer+professor&start=70', 'https://www.google.com/search?q=site:linkedin.com/in/+Education+is+UC+Berkeley+graduated+works+in+lecturer+professor&start=80', 'https://www.linkedin.com/in/arun-nevader-6a2ba47', 'https://www.linkedin.com/in/laurie-mengel-09623440', 'https://www.linkedin.com/in/timothy-doran-a8b7363', 'https://www.linkedin.com/in/enzechen', 'https://www.linkedin.com/in/nicolas-pereda-22b0ba207', 'https://www.linkedin.com/in/kisseleva-ludmila-7086b14', 'https://www.linkedin.com/in/ben-spanbock-504a622a3', 'https://www.linkedin.com/in/cindy-manly-b272845', 'https://www.linkedin.com/in/michael-b-burawoy-25a57b301', 'https://www.linkedin.com/in/krzysztof-odyniec', 'https://www.google.com/search?q=site:linkedin.com/in/+Education+is+UC+Berkeley+graduated+works+in+lecturer+professor&start=80', 'https://www.google.com/search?q=site:linkedin.com/in/+Education+is+UC+Berkeley+graduated+works+in+lecturer+professor&start=90', 'https://www.linkedin.com/in/antoniodrobinson', 'https://www.linkedin.com/in/angel-pilar-3182825b', 'https://www.linkedin.com/in/evelyn-young-26422b29', 'https://www.linkedin.com/in/emily-rabiner', 'https://www.linkedin.com/in/robin-mara-10270b14', 'https://www.linkedin.com/in/jordan-collignon-936698104', 'https://www.linkedin.com/in/douglas-sangster-ph-d', 'https://www.linkedin.com/in/nickjfarrell', 'https://www.linkedin.com/in/kip-will-721baa2a4', 'https://www.linkedin.com/in/mariawhittle', 'https://www.google.com/search?q=site:linkedin.com/in/+Education+is+UC+Berkeley+graduated+works+in+lecturer+professor&start=90', 'https://www.google.com/search?q=site:linkedin.com/in/+Education+is+UC+Berkeley+graduated+works+in+lecturer+professor']\n"
     ]
    },
    {
     "data": {
      "text/plain": [
       "123"
      ]
     },
     "execution_count": 168,
     "metadata": {},
     "output_type": "execute_result"
    }
   ],
   "source": [
    "from pprint import pprint\n",
    "import requests\n",
    "payload = {\n",
    "    'source': 'google',\n",
    "    'url': 'https://www.google.com/search?q=site:linkedin.com/in/+Education+is+UC+Berkeley+graduated+works+in+lecturer+professor',\n",
    "    'parse': True,\n",
    "    'start_page': 1,\n",
    "    'pages': 10,\n",
    "}\n",
    "\n",
    "response = requests.request(\n",
    "    'POST',\n",
    "    'https://realtime.oxylabs.io/v1/queries',\n",
    "    auth=('satwikapaul_oZIdD', 'Fttkhcvnfttkhcvn6_'),\n",
    "    json=payload\n",
    ")\n",
    "\n",
    "ed2data = response.json()\n",
    "ed2data_linkedin_urls = extract_linkedin_urls(\n",
    "    ed2data)\n",
    "print(ed2data_linkedin_urls)\n",
    "len(ed2data_linkedin_urls)\n"
   ]
  },
  {
   "cell_type": "code",
   "execution_count": 169,
   "id": "153352e3-1e26-4517-a014-d80f733f132b",
   "metadata": {},
   "outputs": [
    {
     "name": "stdout",
     "output_type": "stream",
     "text": [
      "['https://www.google.com/search?q=site:linkedin.com/in/+Education+is+UC+Berkeley+graduated+works+in+instructor+curriculum+learning', 'https://www.linkedin.com/in/rwalsh22', 'https://www.linkedin.com/in/jolynbrand', 'https://www.linkedin.com/in/larisa-shaterian-874080b', 'https://www.linkedin.com/in/tom-green-12a82866', 'https://www.linkedin.com/in/ivett-l%C3%B3pez-malagamba-78285286', 'https://www.linkedin.com/in/derek-jay-allen', 'https://www.linkedin.com/in/margaret-peterson-2531561b2', 'https://www.linkedin.com/in/sophie-schnietz-734303129', 'https://www.linkedin.com/in/isabelle-shankar-9686187', 'https://www.linkedin.com/in/kelly-billings-profile', 'https://www.google.com/search?q=site:linkedin.com/in/+Education+is+UC+Berkeley+graduated+works+in+instructor+curriculum+learning', 'https://www.google.com/search?q=site:linkedin.com/in/+Education+is+UC+Berkeley+graduated+works+in+instructor+curriculum+learning&start=10', 'https://www.linkedin.com/in/k-g-1a307634', 'https://www.linkedin.com/in/limsico', 'https://www.linkedin.com/in/rebekah-austin-93bbb244', 'https://www.linkedin.com/in/morgan-presley-8bb92221a', 'https://www.linkedin.com/in/kaiosorio', 'https://www.linkedin.com/in/emily-fleming-42774017b', 'https://www.linkedin.com/in/makensie-louw-621a9895', 'https://www.linkedin.com/in/stephanie-z-a88594198', 'https://www.linkedin.com/in/catherine-lipson-838515a', 'https://www.linkedin.com/in/deepak-sharma-445965174', 'https://www.google.com/search?q=site:linkedin.com/in/+Education+is+UC+Berkeley+graduated+works+in+instructor+curriculum+learning&start=10', 'https://www.google.com/search?q=site:linkedin.com/in/+Education+is+UC+Berkeley+graduated+works+in+instructor+curriculum+learning&start=20', 'https://www.linkedin.com/in/kjsieverman', 'https://www.linkedin.com/in/ashley-daly-a3298bb', 'https://www.linkedin.com/in/brendanhenrique', 'https://www.linkedin.com/in/aprilmsanders', 'https://www.linkedin.com/in/tilda-gross', 'https://www.linkedin.com/in/yanazlo', 'https://www.linkedin.com/in/tara-mason2018', 'https://www.linkedin.com/in/exequiel-ganding-iii-phd-0b50ab183', 'https://www.linkedin.com/in/felicia-darling-8619b461', 'https://www.linkedin.com/in/anna-wannenwetsch', 'https://www.google.com/search?q=site:linkedin.com/in/+Education+is+UC+Berkeley+graduated+works+in+instructor+curriculum+learning&start=20', 'https://www.google.com/search?q=site:linkedin.com/in/+Education+is+UC+Berkeley+graduated+works+in+instructor+curriculum+learning&start=30', 'https://www.linkedin.com/in/francesca-m-rivera', 'https://www.linkedin.com/in/ariannaninh', 'https://www.linkedin.com/in/megoss', 'https://www.linkedin.com/in/andrewhfalk', 'https://www.linkedin.com/in/katie-gede?trk=people-guest_people_search-card', 'https://www.linkedin.com/in/anuradha-murthy-5577a110', 'https://www.linkedin.com/in/brandy-ruedas-b41776b6', 'https://www.linkedin.com/in/audrey-lee-13271451', 'https://www.linkedin.com/in/sandrarogers100', 'https://www.linkedin.com/in/moxiebautista', 'https://www.google.com/search?q=site:linkedin.com/in/+Education+is+UC+Berkeley+graduated+works+in+instructor+curriculum+learning&start=30', 'https://www.google.com/search?q=site:linkedin.com/in/+Education+is+UC+Berkeley+graduated+works+in+instructor+curriculum+learning&start=40', 'https://www.linkedin.com/in/michaelpcarlsen', 'https://www.linkedin.com/in/jessicakparker', 'https://www.linkedin.com/in/may-tran-b76a30149', 'https://www.linkedin.com/in/jesse-clements-51199419b', 'https://www.linkedin.com/in/bonu-ghosh-88406a17', 'https://www.linkedin.com/in/devin-hess-74750b52', 'https://www.linkedin.com/in/normanprince', 'https://www.linkedin.com/in/joshua-kurzweil-1258876', 'https://www.linkedin.com/in/emily-weiss-6a74814', 'https://sg.linkedin.com/in/steve-gardner-6694b66', 'https://www.google.com/search?q=site:linkedin.com/in/+Education+is+UC+Berkeley+graduated+works+in+instructor+curriculum+learning&start=40', 'https://www.google.com/search?q=site:linkedin.com/in/+Education+is+UC+Berkeley+graduated+works+in+instructor+curriculum+learning&start=50', 'https://www.linkedin.com/in/giaonguyen-112097', 'https://www.linkedin.com/in/marianne-justus-bb71a172', 'https://www.linkedin.com/in/wesleyveiga', 'https://www.linkedin.com/in/jenniffercao', 'https://www.linkedin.com/in/lulu-cardoza-2b5468268', 'https://www.linkedin.com/in/april-schlenk-1a0a196a', 'https://www.linkedin.com/in/derek-day-42b557b', 'https://www.linkedin.com/in/sheris-mendiola-564a78183', 'https://www.linkedin.com/in/christina-ong-06380195', 'https://www.linkedin.com/in/maia-wachtel-77467549', 'https://www.google.com/search?q=site:linkedin.com/in/+Education+is+UC+Berkeley+graduated+works+in+instructor+curriculum+learning&start=50', 'https://www.google.com/search?q=site:linkedin.com/in/+Education+is+UC+Berkeley+graduated+works+in+instructor+curriculum+learning&start=60', 'https://www.linkedin.com/in/gladys-valencia', 'https://www.linkedin.com/in/kathryn-lanouette-87bb34b0', 'https://www.linkedin.com/in/pjhallam', 'https://www.linkedin.com/in/angelatchiang', 'https://www.linkedin.com/in/robertiannelson', 'https://www.linkedin.com/in/henrytang1217', 'https://www.linkedin.com/in/jaceydlt', 'https://www.linkedin.com/in/ashlyn-wright-116494163', 'https://www.linkedin.com/in/iulia-sprinceana-6b31904a', 'https://www.linkedin.com/in/stacy-marple-0ba4386', 'https://www.google.com/search?q=site:linkedin.com/in/+Education+is+UC+Berkeley+graduated+works+in+instructor+curriculum+learning&start=60', 'https://www.google.com/search?q=site:linkedin.com/in/+Education+is+UC+Berkeley+graduated+works+in+instructor+curriculum+learning&start=70', 'https://www.linkedin.com/in/leslie-kanberg-5899163', 'https://www.linkedin.com/in/israel-garcia-ceballos', 'https://za.linkedin.com/in/christopher-edley-isu', 'https://www.linkedin.com/in/summer-maxwell-150285206', 'https://www.linkedin.com/in/torreytrust', 'https://www.linkedin.com/in/benjamin-cannon-4a1a3b83', 'https://www.linkedin.com/in/estherwojcicki', 'https://www.linkedin.com/in/arash-jamshidi-scienceeducation', 'https://www.linkedin.com/in/tanvi-metre-462391147', 'https://www.linkedin.com/in/seong-jae-paeng-4b71a855', 'https://www.google.com/search?q=site:linkedin.com/in/+Education+is+UC+Berkeley+graduated+works+in+instructor+curriculum+learning&start=70', 'https://www.google.com/search?q=site:linkedin.com/in/+Education+is+UC+Berkeley+graduated+works+in+instructor+curriculum+learning&start=80', 'https://www.linkedin.com/in/elizabeth-scherman-b0397a117', 'https://www.linkedin.com/in/suzanneveronicapowers', 'https://www.linkedin.com/in/jessica-a-george', 'https://www.linkedin.com/in/anthbongco', 'https://www.linkedin.com/in/tony-mirabelli-ma-phd-195b253', 'https://www.linkedin.com/in/yiyawang', 'https://www.linkedin.com/in/kevin-dewey-868a46b4', 'https://www.linkedin.com/in/jessestommel', 'https://www.linkedin.com/in/julia-peck-70615459', 'https://www.linkedin.com/in/rebeccakandersen', 'https://www.google.com/search?q=site:linkedin.com/in/+Education+is+UC+Berkeley+graduated+works+in+instructor+curriculum+learning&start=80', 'https://www.google.com/search?q=site:linkedin.com/in/+Education+is+UC+Berkeley+graduated+works+in+instructor+curriculum+learning&start=90', 'https://www.linkedin.com/in/damien-donnelly', 'https://www.linkedin.com/in/maria-alvarez-92a722190', 'https://www.linkedin.com/in/harshit-kaushik', 'https://www.linkedin.com/in/anubhava-singla-66b6a51b4/', 'https://www.linkedin.com/in/sarah-benjamin-teacher', 'https://www.linkedin.com/in/elena-vilchis-358b6766', 'https://www.linkedin.com/in/dfogelconsultant', 'https://www.linkedin.com/in/ben-frazier-a33972b2', 'https://www.linkedin.com/in/jos%C3%A9-nu%C3%B1o-93204885', 'https://www.linkedin.com/in/doramedrano', 'https://www.google.com/search?q=site:linkedin.com/in/+Education+is+UC+Berkeley+graduated+works+in+instructor+curriculum+learning&start=90', 'https://www.google.com/search?q=site:linkedin.com/in/+Education+is+UC+Berkeley+graduated+works+in+instructor+curriculum+learning']\n"
     ]
    },
    {
     "data": {
      "text/plain": [
       "121"
      ]
     },
     "execution_count": 169,
     "metadata": {},
     "output_type": "execute_result"
    }
   ],
   "source": [
    "from pprint import pprint\n",
    "import requests\n",
    "payload = {\n",
    "    'source': 'google',\n",
    "    'url': 'https://www.google.com/search?q=site:linkedin.com/in/+Education+is+UC+Berkeley+graduated+works+in+instructor+curriculum+learning',\n",
    "    'parse': True,\n",
    "    'start_page': 1,\n",
    "    'pages': 10,\n",
    "}\n",
    "\n",
    "response = requests.request(\n",
    "    'POST',\n",
    "    'https://realtime.oxylabs.io/v1/queries',\n",
    "    auth=('satwikapaul_oZIdD', 'Fttkhcvnfttkhcvn6_'),\n",
    "    json=payload\n",
    ")\n",
    "\n",
    "ed3data = response.json()\n",
    "ed3data_linkedin_urls = extract_linkedin_urls(\n",
    "    ed3data)\n",
    "print(ed3data_linkedin_urls)\n",
    "len(ed3data_linkedin_urls)\n"
   ]
  },
  {
   "cell_type": "code",
   "execution_count": 170,
   "id": "9cbce449-a25e-4c15-a653-542022d23b69",
   "metadata": {},
   "outputs": [
    {
     "name": "stdout",
     "output_type": "stream",
     "text": [
      "['https://www.google.com/search?q=site:linkedin.com/in/+Education+is+UC+Berkeley+graduated+works+in+postdoctoral+researcher+scientist', 'https://www.linkedin.com/in/felimomo', 'https://mx.linkedin.com/in/enrique-eduardo-valencia-lopez-38033732', 'https://www.linkedin.com/in/wantong-li', 'https://www.linkedin.com/in/utpalkumar', 'https://kz.linkedin.com/in/batyr-ilyas-4b466698', 'https://www.linkedin.com/in/saehyun-choi/en', 'https://www.linkedin.com/in/brad-posch-284582139', 'https://www.linkedin.com/in/hao-yu-b14413199', 'https://www.linkedin.com/in/monaabdelgaid', 'https://www.linkedin.com/in/medjosh', 'https://www.google.com/search?q=site:linkedin.com/in/+Education+is+UC+Berkeley+graduated+works+in+postdoctoral+researcher+scientist', 'https://www.google.com/search?q=site:linkedin.com/in/+Education+is+UC+Berkeley+graduated+works+in+postdoctoral+researcher+scientist&start=10', 'https://www.linkedin.com/in/rebecca-lee-b315765a', 'https://www.linkedin.com/in/kevin-wickham-59581b131', 'https://www.linkedin.com/in/maria-almeida-reis', 'https://www.linkedin.com/in/ashley-smiley', 'https://www.linkedin.com/in/peng-yin-625843a8', 'https://www.linkedin.com/in/salma-ahmed7', 'https://www.linkedin.com/in/gperezs', 'https://www.linkedin.com/in/helen-fitzmaurice-58442aa', 'https://www.linkedin.com/in/kristen-gardner-unc', 'https://ch.linkedin.com/in/elisehjalmarson', 'https://www.google.com/search?q=site:linkedin.com/in/+Education+is+UC+Berkeley+graduated+works+in+postdoctoral+researcher+scientist&start=10', 'https://www.google.com/search?q=site:linkedin.com/in/+Education+is+UC+Berkeley+graduated+works+in+postdoctoral+researcher+scientist&start=20', 'https://www.linkedin.com/in/mylin2', 'https://www.linkedin.com/in/guzmanlaura', 'https://www.linkedin.com/in/margae', 'https://www.linkedin.com/in/adityanandy', 'https://www.linkedin.com/in/ornithoale', 'https://www.linkedin.com/in/rong-rocky-ye-yyy', 'https://www.linkedin.com/in/nichole-lewis5bb1331ab', 'https://www.linkedin.com/in/anderson-peng-lee', 'https://www.linkedin.com/in/raulrod00', 'https://www.linkedin.com/in/noahdbender?trk=public_profile_browsemap', 'https://www.google.com/search?q=site:linkedin.com/in/+Education+is+UC+Berkeley+graduated+works+in+postdoctoral+researcher+scientist&start=20', 'https://www.google.com/search?q=site:linkedin.com/in/+Education+is+UC+Berkeley+graduated+works+in+postdoctoral+researcher+scientist&start=30', 'https://ca.linkedin.com/in/micah-brush', 'https://www.linkedin.com/in/sabrina-ergun-a53152133', 'https://www.linkedin.com/in/lisaeshunwilson', 'https://www.linkedin.com/in/harisri108', 'https://www.linkedin.com/in/fernando-hoces-de-la-guardia-5543624', 'https://www.linkedin.com/in/aakash-chowkase-822a8b36', 'https://www.linkedin.com/in/evan-spotte-smith', 'https://www.linkedin.com/in/alicia-roy-phd', 'https://www.linkedin.com/in/kowshik-thopalli', 'https://www.linkedin.com/in/laura-treers', 'https://www.google.com/search?q=site:linkedin.com/in/+Education+is+UC+Berkeley+graduated+works+in+postdoctoral+researcher+scientist&start=30', 'https://www.google.com/search?q=site:linkedin.com/in/+Education+is+UC+Berkeley+graduated+works+in+postdoctoral+researcher+scientist&start=40', 'https://www.linkedin.com/in/talia-leibovitz-315029253', 'https://www.linkedin.com/in/julie-chuong-29020881', 'https://www.linkedin.com/in/kathryn-lanouette-87bb34b0', 'https://www.linkedin.com/in/ashley-adams-0842394a', 'https://www.linkedin.com/in/gregory-m-su', 'https://www.linkedin.com/in/zacharypardos', 'https://www.linkedin.com/in/julia-oktawiec-aa3807132', 'https://dk.linkedin.com/in/urte-laukaityte', 'https://www.linkedin.com/in/cathleenclerkin', 'https://www.linkedin.com/in/diego-ellis-soto-bb4295125', 'https://www.google.com/search?q=site:linkedin.com/in/+Education+is+UC+Berkeley+graduated+works+in+postdoctoral+researcher+scientist&start=40', 'https://www.google.com/search?q=site:linkedin.com/in/+Education+is+UC+Berkeley+graduated+works+in+postdoctoral+researcher+scientist&start=50', 'https://www.linkedin.com/in/youki-terada-97154910', 'https://www.linkedin.com/in/maggiedahn', 'https://www.linkedin.com/in/tessascott-', 'https://www.linkedin.com/in/ruthe-foushee', 'https://www.linkedin.com/in/alexandros-karampatzakis-a76776178', 'https://il.linkedin.com/in/osher-azulay-20ab38154', 'https://www.linkedin.com/in/mgchappelfarley', 'https://www.linkedin.com/in/stephanie-leonard-85683b2a', 'https://www.linkedin.com/in/dipti-jasrasaria-b01237112', 'https://www.linkedin.com/in/nallelymejia', 'https://www.google.com/search?q=site:linkedin.com/in/+Education+is+UC+Berkeley+graduated+works+in+postdoctoral+researcher+scientist&start=50', 'https://www.google.com/search?q=site:linkedin.com/in/+Education+is+UC+Berkeley+graduated+works+in+postdoctoral+researcher+scientist&start=60', 'https://www.linkedin.com/in/kris-gulati-489992172', 'https://www.linkedin.com/in/daxovid', 'https://www.linkedin.com/in/yuriacelidwen', 'https://kz.linkedin.com/in/batyr-ilyas-4b466698', 'https://www.linkedin.com/in/ethan-roy-956718a3', 'https://www.linkedin.com/in/georgeobaido', 'https://www.linkedin.com/in/chukwuebukanweke', 'https://www.linkedin.com/in/anne-philibert', 'https://www.linkedin.com/in/eduardo-bautista-duran-phd-50698696', 'https://www.linkedin.com/in/yan-bao-b8b8192b', 'https://www.google.com/search?q=site:linkedin.com/in/+Education+is+UC+Berkeley+graduated+works+in+postdoctoral+researcher+scientist&start=60', 'https://www.google.com/search?q=site:linkedin.com/in/+Education+is+UC+Berkeley+graduated+works+in+postdoctoral+researcher+scientist&start=70', 'https://www.linkedin.com/in/georgios-varnavides-746247b1', 'https://www.linkedin.com/in/yun-hu-1694391a6', 'https://www.linkedin.com/in/nikola-maksimovic-b5126318', 'https://www.linkedin.com/in/dean-rivera-844594254', 'https://www.linkedin.com/in/yasser-gidi-7449a453', 'https://www.linkedin.com/in/omersharon', 'https://www.linkedin.com/in/utpalkumar', 'https://www.linkedin.com/in/andrew-green-6a5aa07', 'https://www.linkedin.com/in/jes%C3%BAs-mart%C3%ADnez-g%C3%B3mez-47379875', 'https://uk.linkedin.com/in/stephenlezak', 'https://www.google.com/search?q=site:linkedin.com/in/+Education+is+UC+Berkeley+graduated+works+in+postdoctoral+researcher+scientist&start=70', 'https://www.google.com/search?q=site:linkedin.com/in/+Education+is+UC+Berkeley+graduated+works+in+postdoctoral+researcher+scientist&start=80', 'https://www.linkedin.com/in/cassandra-avila-617b01156', 'https://www.linkedin.com/in/felicia-zerwas-phd-39307626a', 'https://www.linkedin.com/in/andremontes', 'https://www.linkedin.com/in/brynemorgan', 'https://www.linkedin.com/in/adelevaleria/', 'https://www.linkedin.com/in/mary-horton-phd-mph-8a2a1698', 'https://www.linkedin.com/in/shanecarberrymogan', 'https://www.linkedin.com/in/sara-jo-dickens-83249342', 'https://www.linkedin.com/in/sophiearchambeault', 'https://www.linkedin.com/in/jennifer-wacker-7bb77a88', 'https://www.google.com/search?q=site:linkedin.com/in/+Education+is+UC+Berkeley+graduated+works+in+postdoctoral+researcher+scientist&start=80', 'https://www.google.com/search?q=site:linkedin.com/in/+Education+is+UC+Berkeley+graduated+works+in+postdoctoral+researcher+scientist&start=90', 'https://www.linkedin.com/in/natsumi-komatsu-936952140', 'https://www.linkedin.com/in/alexandria-alvarez-gutierrez-4124a227a', 'https://www.linkedin.com/in/luis-aguirre-quintana-6b2756213', 'https://www.linkedin.com/in/prateek1science', 'https://www.linkedin.com/in/matthew-parker-820b3824a', 'https://www.linkedin.com/in/eric-arsenault-phd-37716320b', 'https://www.linkedin.com/in/beth-mcbride-phd-a81a3139', 'https://www.linkedin.com/in/mtburkey', 'https://www.linkedin.com/in/anne-maclachlan-1a579812', 'https://www.linkedin.com/in/jack-glaser-76a34117b', 'https://www.google.com/search?q=site:linkedin.com/in/+Education+is+UC+Berkeley+graduated+works+in+postdoctoral+researcher+scientist&start=90', 'https://www.google.com/search?q=site:linkedin.com/in/+Education+is+UC+Berkeley+graduated+works+in+postdoctoral+researcher+scientist']\n"
     ]
    },
    {
     "data": {
      "text/plain": [
       "121"
      ]
     },
     "execution_count": 170,
     "metadata": {},
     "output_type": "execute_result"
    }
   ],
   "source": [
    "from pprint import pprint\n",
    "import requests\n",
    "payload = {\n",
    "    'source': 'google',\n",
    "    'url': 'https://www.google.com/search?q=site:linkedin.com/in/+Education+is+UC+Berkeley+graduated+works+in+postdoctoral+researcher+scientist',\n",
    "    'parse': True,\n",
    "    'start_page': 1,\n",
    "    'pages': 10,\n",
    "}\n",
    "\n",
    "response = requests.request(\n",
    "    'POST',\n",
    "    'https://realtime.oxylabs.io/v1/queries',\n",
    "    auth=('satwikapaul_oZIdD', 'Fttkhcvnfttkhcvn6_'),\n",
    "    json=payload\n",
    ")\n",
    "\n",
    "ed4data = response.json()\n",
    "ed4data_linkedin_urls = extract_linkedin_urls(\n",
    "    ed4data)\n",
    "print(ed4data_linkedin_urls)\n",
    "len(ed4data_linkedin_urls)\n"
   ]
  },
  {
   "cell_type": "code",
   "execution_count": 171,
   "id": "e156b85f-c468-4a2d-b652-4961fe136fab",
   "metadata": {},
   "outputs": [
    {
     "name": "stdout",
     "output_type": "stream",
     "text": [
      "['https://www.google.com/search?q=site:linkedin.com/in/+Education+is+UC+Berkeley+graduated+works+in+administrator+chair+department+head+dean', 'https://www.linkedin.com/in/prudence-carter-92020611', 'https://www.linkedin.com/in/linda-von-hoene-ph-d-909690a5', 'https://www.linkedin.com/in/kristin-theis-alvarez-16707545', 'https://www.linkedin.com/in/susanne-kauer-6b6b9b4', 'https://www.linkedin.com/in/peggy-keiko-takahashi-43582610', 'https://www.linkedin.com/in/andrearex', 'https://www.linkedin.com/in/katie-gede?trk=people-guest_people_search-card', 'https://www.linkedin.com/in/jonesblaine', 'https://www.linkedin.com/in/christopher-stawski-886a9346', 'https://www.linkedin.com/in/wendy-viveros-886342141', 'https://www.google.com/search?q=site:linkedin.com/in/+Education+is+UC+Berkeley+graduated+works+in+administrator+chair+department+head+dean', 'https://www.google.com/search?q=site:linkedin.com/in/+Education+is+UC+Berkeley+graduated+works+in+administrator+chair+department+head+dean&start=10', 'https://www.linkedin.com/in/pamela-gleason-0969775', 'https://www.linkedin.com/in/deborahbarnett1', 'https://www.linkedin.com/in/brian-huang-47614a142', 'https://www.linkedin.com/in/bahar-navab', 'https://www.linkedin.com/in/wesley-lu-a40520126', 'https://www.linkedin.com/in/sallie-morton-923a092a', 'https://www.linkedin.com/in/seanburnsphd', 'https://www.linkedin.com/in/jessica-bauer-32057017', 'https://www.linkedin.com/in/dean%C3%A9-wallace-09215398', 'https://www.linkedin.com/in/rebeccasablo', 'https://www.google.com/search?q=site:linkedin.com/in/+Education+is+UC+Berkeley+graduated+works+in+administrator+chair+department+head+dean&start=10', 'https://www.google.com/search?q=site:linkedin.com/in/+Education+is+UC+Berkeley+graduated+works+in+administrator+chair+department+head+dean&start=20', 'https://www.linkedin.com/in/denstreetephd', 'https://www.linkedin.com/in/jasmine-valenzuela-33a07a154', 'https://www.linkedin.com/in/zhanara-nauruzbayeva-gallegos-711637ba', 'https://www.linkedin.com/in/patricia-donnelly-6579793', 'https://www.linkedin.com/in/brianna-winn-ed-d-6197ab244', 'https://www.linkedin.com/in/oscar-dubon-02317446', 'https://www.linkedin.com/in/janene-vernard-bb94a77b', 'https://www.linkedin.com/in/marthasaavedra', 'https://www.linkedin.com/in/samantha-rushing-17562513a', 'https://www.linkedin.com/in/frederick-d-smith', 'https://www.google.com/search?q=site:linkedin.com/in/+Education+is+UC+Berkeley+graduated+works+in+administrator+chair+department+head+dean&start=20', 'https://www.google.com/search?q=site:linkedin.com/in/+Education+is+UC+Berkeley+graduated+works+in+administrator+chair+department+head+dean&start=30', 'https://www.linkedin.com/in/brittakolb', 'https://www.linkedin.com/in/joshua-dullaghan', 'https://www.linkedin.com/in/shjacks', 'https://www.linkedin.com/in/christineeichar', 'https://www.linkedin.com/in/jen-sang-60b1ba1', 'https://www.linkedin.com/in/michael-mann-3a204b28', 'https://www.linkedin.com/in/jwatzke', 'https://www.linkedin.com/in/shahin-zand-32618736', 'https://www.linkedin.com/in/marvin-lynn-4a2a3230', 'https://www.linkedin.com/in/cheryl-higley-61394a10', 'https://www.google.com/search?q=site:linkedin.com/in/+Education+is+UC+Berkeley+graduated+works+in+administrator+chair+department+head+dean&start=30', 'https://www.google.com/search?q=site:linkedin.com/in/+Education+is+UC+Berkeley+graduated+works+in+administrator+chair+department+head+dean&start=40', 'https://www.linkedin.com/in/dena-davis-6449264a', 'https://www.linkedin.com/in/kimsappdinwiddie', 'https://www.linkedin.com/in/karen-escobar', 'https://www.linkedin.com/in/krista-l-cortes', 'https://www.linkedin.com/in/wendy-hunter-barker', 'https://www.linkedin.com/in/mandy-savitz-romer-44403794', 'https://www.linkedin.com/in/pamestesbrewer', 'https://www.linkedin.com/in/marjoriedegraca', 'https://www.linkedin.com/in/daniela-deutsch-31104015', 'https://www.linkedin.com/in/theresa-vaughan-993221178', 'https://www.google.com/search?q=site:linkedin.com/in/+Education+is+UC+Berkeley+graduated+works+in+administrator+chair+department+head+dean&start=40', 'https://www.google.com/search?q=site:linkedin.com/in/+Education+is+UC+Berkeley+graduated+works+in+administrator+chair+department+head+dean&start=50', 'https://www.linkedin.com/in/krista-l-cortes', 'https://www.linkedin.com/in/zhanara-nauruzbayeva-gallegos-711637ba', 'https://www.linkedin.com/in/joshua-dullaghan', 'https://www.linkedin.com/in/geiscely2022', 'https://www.linkedin.com/in/silva-karayan-147ab77', 'https://www.linkedin.com/in/laura-naumann-phd', 'https://www.linkedin.com/in/jim-iler-0a61641b', 'https://www.linkedin.com/in/andy-dong-a8624b76', 'https://www.linkedin.com/in/derek-jay-allen', 'https://www.linkedin.com/in/nicole-casal-a8496a111', 'https://www.linkedin.com/in/justinoliver716', 'https://www.linkedin.com/in/zachary-a-peterson', 'https://www.google.com/search?q=site:linkedin.com/in/+Education+is+UC+Berkeley+graduated+works+in+administrator+chair+department+head+dean&start=50', 'https://www.google.com/search?q=site:linkedin.com/in/+Education+is+UC+Berkeley+graduated+works+in+administrator+chair+department+head+dean&start=60', 'https://www.linkedin.com/in/ksteinfe', 'https://www.linkedin.com/in/dr-alexandra-michel-92746a8', 'https://www.linkedin.com/in/ralph-folger-a996ab52', 'https://www.linkedin.com/in/mick-mcgee-14751216', 'https://www.linkedin.com/in/markemmons', 'https://www.linkedin.com/in/caitlin-charos', 'https://www.linkedin.com/in/victoria-sturtevant', 'https://www.linkedin.com/in/aaron-anderson-a202953b', 'https://www.linkedin.com/in/adam-siler-1a0724a6', 'https://www.linkedin.com/in/catherinecenizachoy', 'https://www.google.com/search?q=site:linkedin.com/in/+Education+is+UC+Berkeley+graduated+works+in+administrator+chair+department+head+dean&start=60', 'https://www.google.com/search?q=site:linkedin.com/in/+Education+is+UC+Berkeley+graduated+works+in+administrator+chair+department+head+dean&start=70', 'https://www.linkedin.com/in/delacyganley', 'https://www.linkedin.com/in/ramonamiller', 'https://www.linkedin.com/in/robert-york-434b9013', 'https://www.linkedin.com/in/sylvia-wasmer-26a23625', 'https://www.linkedin.com/in/calvinnixonii', 'https://www.linkedin.com/in/sohmeacham', 'https://za.linkedin.com/in/christopher-edley-isu', 'https://www.linkedin.com/in/alanna-labine-a881633a', 'https://www.linkedin.com/in/colleen-mcgoff-dean-a2453212', 'https://www.linkedin.com/in/carol-sirney', 'https://www.google.com/search?q=site:linkedin.com/in/+Education+is+UC+Berkeley+graduated+works+in+administrator+chair+department+head+dean&start=70', 'https://www.google.com/search?q=site:linkedin.com/in/+Education+is+UC+Berkeley+graduated+works+in+administrator+chair+department+head+dean&start=80', 'https://www.linkedin.com/in/ingridsagor', 'https://www.linkedin.com/in/michael-merz', 'https://www.linkedin.com/in/kimberly-bowers-phd', 'https://www.linkedin.com/in/bruce-mackh-68173171', 'https://www.linkedin.com/in/jessica-mena-flores-m-ed-7959b079', 'https://www.linkedin.com/in/ryan-jacob-35a31221', 'https://www.linkedin.com/in/levicohen99', 'https://www.linkedin.com/in/jay-stowsky-7845b02', 'https://www.linkedin.com/in/cecilia-chang-29295849', 'https://www.linkedin.com/in/judysmithson', 'https://www.google.com/search?q=site:linkedin.com/in/+Education+is+UC+Berkeley+graduated+works+in+administrator+chair+department+head+dean&start=80', 'https://www.google.com/search?q=site:linkedin.com/in/+Education+is+UC+Berkeley+graduated+works+in+administrator+chair+department+head+dean&start=90', 'https://www.linkedin.com/in/rebecca-c-whitney', 'https://www.linkedin.com/in/jeanette-altarriba-278a303a', 'https://www.linkedin.com/in/evanortlieb', 'https://www.linkedin.com/in/kimberly-white-smith', 'https://www.linkedin.com/in/emma-hopson-b3b694140', 'https://www.linkedin.com/in/marilyn-i-byrne-13b20569', 'https://www.linkedin.com/in/dr-susan-wegmann', 'https://www.linkedin.com/in/bamcclendon?trk=public_profile_browsemap', 'https://www.linkedin.com/in/sara-mcconnell-89a524b0', 'https://www.linkedin.com/in/lisa-cody', 'https://www.google.com/search?q=site:linkedin.com/in/+Education+is+UC+Berkeley+graduated+works+in+administrator+chair+department+head+dean&start=90', 'https://www.google.com/search?q=site:linkedin.com/in/+Education+is+UC+Berkeley+graduated+works+in+administrator+chair+department+head+dean']\n"
     ]
    },
    {
     "data": {
      "text/plain": [
       "123"
      ]
     },
     "execution_count": 171,
     "metadata": {},
     "output_type": "execute_result"
    }
   ],
   "source": [
    "from pprint import pprint\n",
    "import requests\n",
    "payload = {\n",
    "    'source': 'google',\n",
    "    'url': 'https://www.google.com/search?q=site:linkedin.com/in/+Education+is+UC+Berkeley+graduated+works+in+administrator+chair+department+head+dean',\n",
    "    'parse': True,\n",
    "    'start_page': 1,\n",
    "    'pages': 10,\n",
    "}\n",
    "\n",
    "response = requests.request(\n",
    "    'POST',\n",
    "    'https://realtime.oxylabs.io/v1/queries',\n",
    "    auth=('satwikapaul_oZIdD', 'Fttkhcvnfttkhcvn6_'),\n",
    "    json=payload\n",
    ")\n",
    "\n",
    "ed5data = response.json()\n",
    "ed5data_linkedin_urls = extract_linkedin_urls(\n",
    "    ed5data)\n",
    "print(ed5data_linkedin_urls)\n",
    "len(ed5data_linkedin_urls)\n"
   ]
  },
  {
   "cell_type": "markdown",
   "id": "7834e81c-405e-466d-9029-fd3403425c3a",
   "metadata": {
    "jp-MarkdownHeadingCollapsed": true,
    "tags": []
   },
   "source": [
    "# Law URLS #"
   ]
  },
  {
   "cell_type": "code",
   "execution_count": 172,
   "id": "315dce02-0338-48e4-8b38-8a2adf16ab21",
   "metadata": {},
   "outputs": [
    {
     "name": "stdout",
     "output_type": "stream",
     "text": [
      "['https://www.google.com/search?q=site:linkedin.com/in/+Education+is+UC+Berkeley+graduated+works+in+law+legal', 'https://www.linkedin.com/in/berkeleylawllm', 'https://www.linkedin.com/in/mirenda-gwin-1391b0a3', 'https://www.linkedin.com/in/lucia-lopez-4125a0156', 'https://www.linkedin.com/in/ilseamericarojo', 'https://www.linkedin.com/in/mitchell-johnston26', 'https://www.linkedin.com/in/dallinsjohnson', 'https://www.linkedin.com/in/christopher-schad-0a2a8333', 'https://www.linkedin.com/in/alex-alcantara7', 'https://www.linkedin.com/in/francisco-rodriguez-1b6243281', 'https://www.linkedin.com/in/katie-chin-2eiuwfh', 'https://www.google.com/search?q=site:linkedin.com/in/+Education+is+UC+Berkeley+graduated+works+in+law+legal', 'https://www.google.com/search?q=site:linkedin.com/in/+Education+is+UC+Berkeley+graduated+works+in+law+legal&start=10', 'https://www.linkedin.com/in/aniket-kesari-7b6460133', 'https://www.linkedin.com/in/robin-martinez', 'https://www.linkedin.com/in/saraignacio', 'https://www.linkedin.com/in/nataliewright-', 'https://www.linkedin.com/in/trish-keady-56b90911', 'https://www.linkedin.com/in/brianna-vasquez-3a011b27b', 'https://www.linkedin.com/in/audrey-colocho-731b9a2ab', 'https://www.linkedin.com/in/karimaitayem', 'https://www.linkedin.com/in/ashwinijaiswal95', 'https://www.linkedin.com/in/fiona-o-farrell-88a67025b', 'https://www.google.com/search?q=site:linkedin.com/in/+Education+is+UC+Berkeley+graduated+works+in+law+legal&start=10', 'https://www.google.com/search?q=site:linkedin.com/in/+Education+is+UC+Berkeley+graduated+works+in+law+legal&start=20', 'https://www.linkedin.com/in/fiona-o-farrell-88a67025b', 'https://www.linkedin.com/in/amandafindley2027', 'https://www.linkedin.com/in/tammymdawson', 'https://www.linkedin.com/in/nicole-boucher-863718209', 'https://www.linkedin.com/in/trish-keady-56b90911', 'https://www.linkedin.com/in/jclarkriddell', 'https://www.linkedin.com/in/amylee516', 'https://www.linkedin.com/in/madelinely', 'https://www.linkedin.com/in/dr-ang%C3%A9lica-guevara-j-d-m-a-ph-d-ll-m-8841b614', 'https://www.linkedin.com/in/steven-paul-hensley', 'https://www.google.com/search?q=site:linkedin.com/in/+Education+is+UC+Berkeley+graduated+works+in+law+legal&start=20', 'https://www.google.com/search?q=site:linkedin.com/in/+Education+is+UC+Berkeley+graduated+works+in+law+legal&start=30', 'https://www.linkedin.com/in/elizabethcyang', 'https://www.linkedin.com/in/amyye', 'https://www.linkedin.com/in/ana-guzman-521b1113b', 'https://www.linkedin.com/in/metyia-phillips', 'https://www.linkedin.com/in/rachel-zuraw-6a63b717', 'https://www.linkedin.com/in/tatiananikolaeva5', 'https://www.linkedin.com/in/anya-grossmann-14b5764b', 'https://www.linkedin.com/in/bruno-meyerhof-salama/en', 'https://www.linkedin.com/in/victoria-corrales', 'https://www.linkedin.com/in/silvanna-morelos-2b98ba289', 'https://www.google.com/search?q=site:linkedin.com/in/+Education+is+UC+Berkeley+graduated+works+in+law+legal&start=30', 'https://www.google.com/search?q=site:linkedin.com/in/+Education+is+UC+Berkeley+graduated+works+in+law+legal&start=40', 'https://www.linkedin.com/in/alex-alcantara7', 'https://www.linkedin.com/in/berkeleylawllm', 'https://www.linkedin.com/in/jimgilbert1', 'https://www.linkedin.com/in/metyia-phillips', 'https://www.linkedin.com/in/neha-agrawal-b49b23230?trk=article-ssr-frontend-x-article', 'https://www.linkedin.com/in/aaronoculto', 'https://www.linkedin.com/in/ellie-silberhorn-bb9283171', 'https://www.linkedin.com/in/chaka-tellem', 'https://www.linkedin.com/in/olgamack', 'https://www.linkedin.com/in/isabel-c-cooper-b25673332', 'https://www.linkedin.com/in/anya-grossmann-14b5764b', 'https://www.linkedin.com/in/hemanipatel83', 'https://www.google.com/search?q=site:linkedin.com/in/+Education+is+UC+Berkeley+graduated+works+in+law+legal&start=40', 'https://www.google.com/search?q=site:linkedin.com/in/+Education+is+UC+Berkeley+graduated+works+in+law+legal&start=50', 'https://www.linkedin.com/in/nerissa-shklov-skillman-359036108', 'https://in.linkedin.com/in/devangini-rai-3ab49b164', 'https://www.linkedin.com/in/skylar-cushing', 'https://www.linkedin.com/in/sarah-degner-5a361624a', 'https://www.linkedin.com/in/ericjstern', 'https://www.linkedin.com/in/evelynrangelmedina', 'https://www.linkedin.com/in/kristin-theis-alvarez-16707545', 'https://www.linkedin.com/in/sofia-rodriguez23', 'https://www.linkedin.com/in/dilraj-singh-008573232', 'https://www.linkedin.com/in/jennifer-juarez-ortiz', 'https://www.google.com/search?q=site:linkedin.com/in/+Education+is+UC+Berkeley+graduated+works+in+law+legal&start=50', 'https://www.google.com/search?q=site:linkedin.com/in/+Education+is+UC+Berkeley+graduated+works+in+law+legal&start=60', 'https://www.linkedin.com/in/yahaira-balderas', 'https://www.linkedin.com/in/oton-d', 'https://www.linkedin.com/in/hugo-chavez-88a45128a', 'https://www.linkedin.com/in/abigail-najera-342701238', 'https://www.linkedin.com/in/jaycob-rousey-3a2602111', 'https://www.linkedin.com/in/carrie-walker-7748111aa', 'https://www.linkedin.com/in/lena-naheun-lee', 'https://www.linkedin.com/in/gabriellahenry', 'https://www.linkedin.com/in/caelyn-carlson', 'https://www.linkedin.com/in/gabriellegoodwin', 'https://www.google.com/search?q=site:linkedin.com/in/+Education+is+UC+Berkeley+graduated+works+in+law+legal&start=60', 'https://www.google.com/search?q=site:linkedin.com/in/+Education+is+UC+Berkeley+graduated+works+in+law+legal&start=70', 'https://www.linkedin.com/in/hannah-barahona', 'https://www.linkedin.com/in/jpower187?trk=people-guest_people_search-card', 'https://www.linkedin.com/in/linnan23', 'https://www.linkedin.com/in/lindsay-hernandez-175a2b240', 'https://www.linkedin.com/in/maripaupaz', 'https://www.linkedin.com/in/dee-chavez', 'https://www.linkedin.com/in/christina-paz-arguello-87421727b', 'https://www.linkedin.com/in/aissata-a-194581200', 'https://www.linkedin.com/in/mehekmehta524', 'https://www.linkedin.com/in/kyle-deland-4b8095223', 'https://www.google.com/search?q=site:linkedin.com/in/+Education+is+UC+Berkeley+graduated+works+in+law+legal&start=70', 'https://www.google.com/search?q=site:linkedin.com/in/+Education+is+UC+Berkeley+graduated+works+in+law+legal&start=80', 'https://www.linkedin.com/in/william-bradley-353154130', 'https://www.linkedin.com/in/maureen-zhang', 'https://www.linkedin.com/in/julianna-bass-3867071b1', 'https://www.linkedin.com/in/lauren-ashley-week-33896a40', 'https://www.linkedin.com/in/julie-gilgoff-9536664', 'https://www.linkedin.com/in/stavros-gadinis-42518410b', 'https://www.linkedin.com/in/wendy-mejia-5295a8157', 'https://www.linkedin.com/in/sarah-sisney-a051621b7', 'https://www.linkedin.com/in/leon-felix-gutierrez-4a4ab8231', 'https://www.linkedin.com/in/quanfelicia', 'https://www.google.com/search?q=site:linkedin.com/in/+Education+is+UC+Berkeley+graduated+works+in+law+legal&start=80', 'https://www.google.com/search?q=site:linkedin.com/in/+Education+is+UC+Berkeley+graduated+works+in+law+legal&start=90', 'https://www.linkedin.com/in/sarah-sisney-a051621b7', 'https://www.linkedin.com/in/christopher-ying-78a083191', 'https://www.linkedin.com/in/lupita-ayala-4543a8310', 'https://www.linkedin.com/in/molloyme', 'https://www.linkedin.com/in/consuelo-vidal-p%C3%A9rez-935156293', 'https://www.linkedin.com/in/lizbeth-ortiz', 'https://www.linkedin.com/in/elizabeth-p-stone', 'https://www.linkedin.com/in/nicholascotter', 'https://www.linkedin.com/in/emily-wallace-a397751b7', 'https://www.linkedin.com/in/adena-ishii', 'https://www.google.com/search?q=site:linkedin.com/in/+Education+is+UC+Berkeley+graduated+works+in+law+legal&start=90', 'https://www.google.com/search?q=site:linkedin.com/in/+Education+is+UC+Berkeley+graduated+works+in+law+legal']\n"
     ]
    },
    {
     "data": {
      "text/plain": [
       "123"
      ]
     },
     "execution_count": 172,
     "metadata": {},
     "output_type": "execute_result"
    }
   ],
   "source": [
    "from pprint import pprint\n",
    "import requests\n",
    "payload = {\n",
    "    'source': 'google',\n",
    "    'url': 'https://www.google.com/search?q=site:linkedin.com/in/+Education+is+UC+Berkeley+graduated+works+in+law+legal',\n",
    "    'parse': True,\n",
    "    'start_page': 1,\n",
    "    'pages': 10,\n",
    "}\n",
    "\n",
    "response = requests.request(\n",
    "    'POST',\n",
    "    'https://realtime.oxylabs.io/v1/queries',\n",
    "    auth=('satwikapaul_oZIdD', 'Fttkhcvnfttkhcvn6_'),\n",
    "    json=payload\n",
    ")\n",
    "\n",
    "law1data = response.json()\n",
    "law1data_linkedin_urls = extract_linkedin_urls(\n",
    "    law1data)\n",
    "print(law1data_linkedin_urls)\n",
    "len(law1data_linkedin_urls)\n"
   ]
  },
  {
   "cell_type": "code",
   "execution_count": 173,
   "id": "3c0d50da-2de4-43de-8242-3771db4bde04",
   "metadata": {},
   "outputs": [
    {
     "name": "stdout",
     "output_type": "stream",
     "text": [
      "['https://www.google.com/search?q=site:linkedin.com/in/+Education+is+UC+Berkeley+graduated+works+in+attorney+prosecutor+counsel', 'https://www.linkedin.com/in/cristina-mendez-871320124', 'https://www.linkedin.com/in/natashao', 'https://www.linkedin.com/in/nicole-pereira-5438465a', 'https://www.linkedin.com/in/alexander-stern-a5446a10', 'https://www.linkedin.com/in/julie-conner-521561241', 'https://www.linkedin.com/in/berkeleylawllm', 'https://www.linkedin.com/in/andrew-houston-sr-919624b8', 'https://www.linkedin.com/in/marisol-le%C3%B3n-5142948a', 'https://www.linkedin.com/in/olgamack', 'https://www.linkedin.com/in/aniket-kesari-7b6460133', 'https://www.google.com/search?q=site:linkedin.com/in/+Education+is+UC+Berkeley+graduated+works+in+attorney+prosecutor+counsel', 'https://www.google.com/search?q=site:linkedin.com/in/+Education+is+UC+Berkeley+graduated+works+in+attorney+prosecutor+counsel&start=10', 'https://www.linkedin.com/in/myra-farooqi', 'https://www.linkedin.com/in/hannah-barahona', 'https://www.linkedin.com/in/danica-li-b890b0143', 'https://www.linkedin.com/in/leemichelley', 'https://www.linkedin.com/in/cait-marie-meyer', 'https://www.linkedin.com/in/rachel-zuraw-6a63b717', 'https://www.linkedin.com/in/tammymdawson', 'https://www.linkedin.com/in/ana-guzman-521b1113b', 'https://www.linkedin.com/in/megan-wiener', 'https://www.linkedin.com/in/nataliewright-', 'https://www.google.com/search?q=site:linkedin.com/in/+Education+is+UC+Berkeley+graduated+works+in+attorney+prosecutor+counsel&start=10', 'https://www.google.com/search?q=site:linkedin.com/in/+Education+is+UC+Berkeley+graduated+works+in+attorney+prosecutor+counsel&start=20', 'https://www.linkedin.com/in/jaycob-rousey-3a2602111', 'https://www.linkedin.com/in/adriana-alvarado-cal', 'https://www.linkedin.com/in/sarahdavidsonca', 'https://www.linkedin.com/in/sarah-cunniff-76b0701b', 'https://www.linkedin.com/in/audrey-colocho-731b9a2ab', 'https://www.linkedin.com/in/olivia-quinn-005714174', 'https://www.linkedin.com/in/georgina-santiago-90586b33', 'https://www.linkedin.com/in/douglas-sangster-ph-d', 'https://www.linkedin.com/in/erika-celina-hernandez', 'https://www.linkedin.com/in/ericjstern', 'https://www.google.com/search?q=site:linkedin.com/in/+Education+is+UC+Berkeley+graduated+works+in+attorney+prosecutor+counsel&start=20', 'https://www.google.com/search?q=site:linkedin.com/in/+Education+is+UC+Berkeley+graduated+works+in+attorney+prosecutor+counsel&start=30', 'https://www.linkedin.com/in/nancy-lemon-55381150', 'https://www.linkedin.com/in/helenjennings1', 'https://www.linkedin.com/in/brianna-vasquez-3a011b27b', 'https://www.linkedin.com/in/kevin-frazier-51811737', 'https://www.linkedin.com/in/fiona-o-farrell-88a67025b', 'https://www.linkedin.com/in/andy-maiorano-a776726', 'https://www.linkedin.com/in/anya-grossmann-14b5764b', 'https://www.linkedin.com/in/saraswatikania/en', 'https://www.linkedin.com/in/john-kauffman-287a311a3', 'https://www.linkedin.com/in/andrew-albright-3554bb58', 'https://www.google.com/search?q=site:linkedin.com/in/+Education+is+UC+Berkeley+graduated+works+in+attorney+prosecutor+counsel&start=30', 'https://www.google.com/search?q=site:linkedin.com/in/+Education+is+UC+Berkeley+graduated+works+in+attorney+prosecutor+counsel&start=40', 'https://www.linkedin.com/in/ivette-k-7164b11a1', 'https://www.linkedin.com/in/caleb-charles-465475231', 'https://www.linkedin.com/in/juliaywang', 'https://www.linkedin.com/in/dallinsjohnson', 'https://www.linkedin.com/in/lauren-ashley-week-33896a40', 'https://www.linkedin.com/in/alessandra-suarez-75439b16b', 'https://www.linkedin.com/in/miguel-zavala-43271a132', 'https://www.linkedin.com/in/isabella-sanchez', 'https://www.linkedin.com/in/jeanine-braud-90858a2b', 'https://www.linkedin.com/in/tatiananikolaeva5', 'https://www.google.com/search?q=site:linkedin.com/in/+Education+is+UC+Berkeley+graduated+works+in+attorney+prosecutor+counsel&start=40', 'https://www.google.com/search?q=site:linkedin.com/in/+Education+is+UC+Berkeley+graduated+works+in+attorney+prosecutor+counsel&start=50', 'https://www.linkedin.com/in/gail-silverstein-2514325', 'https://www.linkedin.com/in/elizabethcyang', 'https://www.linkedin.com/in/greg-washington-b4790522', 'https://www.linkedin.com/in/bryan-lopez-274a3364', 'https://www.linkedin.com/in/dallinsjohnson', 'https://www.linkedin.com/in/darnele-wright', 'https://www.linkedin.com/in/sonia-katyal-068066159', 'https://in.linkedin.com/in/akshat-agrawal-1997201', 'https://www.linkedin.com/in/matthew-j-x-malady-9965697', 'https://co.linkedin.com/in/maria-alejandra-castellanos-clavijo-60514b65/en', 'https://www.google.com/search?q=site:linkedin.com/in/+Education+is+UC+Berkeley+graduated+works+in+attorney+prosecutor+counsel&start=50', 'https://www.google.com/search?q=site:linkedin.com/in/+Education+is+UC+Berkeley+graduated+works+in+attorney+prosecutor+counsel&start=60', 'https://www.linkedin.com/in/tyalper', 'https://co.linkedin.com/in/maria-alejandra-castellanos-clavijo-60514b65/en', 'https://www.linkedin.com/in/bruno-meyerhof-salama/en', 'https://www.linkedin.com/in/brittany-a-3aa236b7', 'https://www.linkedin.com/in/sean-wagner-mcgough', 'https://www.linkedin.com/in/katie-glynn-57391342', 'https://www.linkedin.com/in/tj-grayson-9432947a', 'https://www.linkedin.com/in/emmalakeskay', 'https://www.linkedin.com/in/gracehuangg', 'https://www.linkedin.com/in/mitchell-johnston26', 'https://www.google.com/search?q=site:linkedin.com/in/+Education+is+UC+Berkeley+graduated+works+in+attorney+prosecutor+counsel&start=60', 'https://www.google.com/search?q=site:linkedin.com/in/+Education+is+UC+Berkeley+graduated+works+in+attorney+prosecutor+counsel&start=70', 'https://www.linkedin.com/in/jared-madnick', 'https://www.linkedin.com/in/dallas-lopez-jr-20b1ba133', 'https://www.linkedin.com/in/babaknikravesh', 'https://www.linkedin.com/in/ericacatherinesmith', 'https://www.linkedin.com/in/leyla-karimzadeh-b1aba974', 'https://www.linkedin.com/in/antonio-reza-77549a165', 'https://uk.linkedin.com/in/victoria-dipla-esg-technology12', 'https://www.linkedin.com/in/mallika-kaur-a4bb578', 'https://www.linkedin.com/in/dorna-mohaghegh-a575ab66', 'https://www.linkedin.com/in/matthew-c-359293124', 'https://www.google.com/search?q=site:linkedin.com/in/+Education+is+UC+Berkeley+graduated+works+in+attorney+prosecutor+counsel&start=70', 'https://www.google.com/search?q=site:linkedin.com/in/+Education+is+UC+Berkeley+graduated+works+in+attorney+prosecutor+counsel&start=80', 'https://www.linkedin.com/in/johnsenia-brooks', 'https://www.linkedin.com/in/jaden-nguyen-9ab6b9156', 'https://www.linkedin.com/in/daniel-mcintosh-a69b84279', 'https://www.linkedin.com/in/neha-agrawal-b49b23230?trk=article-ssr-frontend-x-article', 'https://www.linkedin.com/in/philipwiseman', 'https://www.linkedin.com/in/kyle-vuong-414076279', 'https://www.linkedin.com/in/kara-ganter', 'https://www.linkedin.com/in/james-stone-52826749', 'https://www.linkedin.com/in/sharleesehanvey', 'https://www.linkedin.com/in/alex-alcantara7', 'https://www.google.com/search?q=site:linkedin.com/in/+Education+is+UC+Berkeley+graduated+works+in+attorney+prosecutor+counsel&start=80', 'https://www.google.com/search?q=site:linkedin.com/in/+Education+is+UC+Berkeley+graduated+works+in+attorney+prosecutor+counsel&start=90', 'https://www.linkedin.com/in/mirenda-gwin-1391b0a3', 'https://www.linkedin.com/in/deepika-s-8585a110?trk=people-guest_people_search-card', 'https://www.linkedin.com/in/margaret-maggie-woods-06b04a57', 'https://www.linkedin.com/in/amandafindley2027', 'https://www.linkedin.com/in/adena-ishii', 'https://www.linkedin.com/in/leon-felix-gutierrez-4a4ab8231', 'https://www.linkedin.com/in/harriet-steele-6041b511b', 'https://www.linkedin.com/in/hunter-miranda', 'https://www.linkedin.com/in/camerondclark', 'https://www.linkedin.com/in/bpgoldfein', 'https://www.google.com/search?q=site:linkedin.com/in/+Education+is+UC+Berkeley+graduated+works+in+attorney+prosecutor+counsel&start=90', 'https://www.google.com/search?q=site:linkedin.com/in/+Education+is+UC+Berkeley+graduated+works+in+attorney+prosecutor+counsel']\n"
     ]
    },
    {
     "data": {
      "text/plain": [
       "121"
      ]
     },
     "execution_count": 173,
     "metadata": {},
     "output_type": "execute_result"
    }
   ],
   "source": [
    "from pprint import pprint\n",
    "import requests\n",
    "payload = {\n",
    "    'source': 'google',\n",
    "    'url': 'https://www.google.com/search?q=site:linkedin.com/in/+Education+is+UC+Berkeley+graduated+works+in+attorney+prosecutor+counsel',\n",
    "    'parse': True,\n",
    "    'start_page': 1,\n",
    "    'pages': 10,\n",
    "}\n",
    "\n",
    "response = requests.request(\n",
    "    'POST',\n",
    "    'https://realtime.oxylabs.io/v1/queries',\n",
    "    auth=('satwikapaul_oZIdD', 'Fttkhcvnfttkhcvn6_'),\n",
    "    json=payload\n",
    ")\n",
    "\n",
    "law2data = response.json()\n",
    "law2data_linkedin_urls = extract_linkedin_urls(\n",
    "    law2data)\n",
    "print(law2data_linkedin_urls)\n",
    "len(law2data_linkedin_urls)\n"
   ]
  },
  {
   "cell_type": "code",
   "execution_count": 174,
   "id": "7dc461da-6f5c-4942-83b5-f88736560a7d",
   "metadata": {},
   "outputs": [
    {
     "name": "stdout",
     "output_type": "stream",
     "text": [
      "['https://www.google.com/search?q=site:linkedin.com/in/+Education+is+UC+Berkeley+graduated+works+in+corporate+counsel+paralegal', 'https://www.linkedin.com/in/angelina-martinez-ucb2024', 'https://br.linkedin.com/in/estela-rodrigues/en', 'https://www.linkedin.com/in/markmikityuk', 'https://www.linkedin.com/in/robertjliu', 'https://www.linkedin.com/in/hastiahangi', 'https://www.linkedin.com/in/luiz-lopez-ortiz-52056b178', 'https://www.linkedin.com/in/ciel-ortiz-90baa392', 'https://www.linkedin.com/in/batya-moskowitz-158a63121', 'https://www.linkedin.com/in/leemichelley', 'https://www.linkedin.com/in/cynthia-j-chiu', 'https://www.google.com/search?q=site:linkedin.com/in/+Education+is+UC+Berkeley+graduated+works+in+corporate+counsel+paralegal', 'https://www.google.com/search?q=site:linkedin.com/in/+Education+is+UC+Berkeley+graduated+works+in+corporate+counsel+paralegal&start=10', 'https://www.linkedin.com/in/julie-conner-521561241', 'https://br.linkedin.com/in/rafael-cruz-bb152816', 'https://www.linkedin.com/in/leniquefrazier', 'https://www.linkedin.com/in/julissasal', 'https://www.linkedin.com/in/gloria-oh-007774142', 'https://www.linkedin.com/in/daniel-acevedo-garcia-24245920b', 'https://www.linkedin.com/in/roxannelivingston', 'https://www.linkedin.com/in/kristinak11', 'https://www.linkedin.com/in/aidan-brown-a6a714b5', 'https://www.linkedin.com/in/tpaldon', 'https://www.google.com/search?q=site:linkedin.com/in/+Education+is+UC+Berkeley+graduated+works+in+corporate+counsel+paralegal&start=10', 'https://www.google.com/search?q=site:linkedin.com/in/+Education+is+UC+Berkeley+graduated+works+in+corporate+counsel+paralegal&start=20', 'https://www.linkedin.com/in/emjlin', 'https://www.linkedin.com/in/ravneet-kaur-4a135a232', 'https://www.linkedin.com/in/perezdenney', 'https://www.linkedin.com/in/vicky-wei-b2223728b', 'https://www.linkedin.com/in/jingting-wei-147972186/en', 'https://www.linkedin.com/in/marissa-laucirica', 'https://www.linkedin.com/in/maggie-carpenter-b2142270', 'https://www.linkedin.com/in/bonniezchin', 'https://www.linkedin.com/in/audrey-colocho-731b9a2ab', 'https://www.linkedin.com/in/dana-hall', 'https://www.google.com/search?q=site:linkedin.com/in/+Education+is+UC+Berkeley+graduated+works+in+corporate+counsel+paralegal&start=20', 'https://www.google.com/search?q=site:linkedin.com/in/+Education+is+UC+Berkeley+graduated+works+in+corporate+counsel+paralegal&start=30', 'https://www.linkedin.com/in/ashwinijaiswal95', 'https://www.linkedin.com/in/ana-guzman-521b1113b', 'https://www.linkedin.com/in/kellee-cooper-ab32262a', 'https://www.linkedin.com/in/josh-gresham-920a1810b', 'https://www.linkedin.com/in/sebastian-garcia-92a9331a9', 'https://www.linkedin.com/in/jessicaarauz', 'https://www.linkedin.com/in/ella-zalon-69a1aa183', 'https://www.linkedin.com/in/lily-kent-096b35167', 'https://www.linkedin.com/in/johnyohansong', 'https://www.linkedin.com/in/joshua-ochoa-2627b011a', 'https://www.google.com/search?q=site:linkedin.com/in/+Education+is+UC+Berkeley+graduated+works+in+corporate+counsel+paralegal&start=30', 'https://www.google.com/search?q=site:linkedin.com/in/+Education+is+UC+Berkeley+graduated+works+in+corporate+counsel+paralegal&start=40', 'https://www.linkedin.com/in/ethanswpark', 'https://www.linkedin.com/in/anuar-arriaga-80b64380', 'https://www.linkedin.com/in/glara-park-b40a5862', 'https://www.linkedin.com/in/grace-choi-28466677', 'https://www.linkedin.com/in/shealynmassey', 'https://www.linkedin.com/in/mayra-esparza-164b6878', 'https://www.linkedin.com/in/nguyentrthaovu', 'https://www.linkedin.com/in/douglas-sangster-ph-d', 'https://www.linkedin.com/in/garyalanlee', 'https://www.linkedin.com/in/gail-silverstein-2514325', 'https://www.google.com/search?q=site:linkedin.com/in/+Education+is+UC+Berkeley+graduated+works+in+corporate+counsel+paralegal&start=40', 'https://www.google.com/search?q=site:linkedin.com/in/+Education+is+UC+Berkeley+graduated+works+in+corporate+counsel+paralegal&start=50', 'https://www.linkedin.com/in/tina-vy-ngo', 'https://www.linkedin.com/in/leon-felix-gutierrez-4a4ab8231', 'https://www.linkedin.com/in/sabrinachandra', 'https://www.linkedin.com/in/devonhamrick', 'https://www.linkedin.com/in/tina-tsai-736b3432', 'https://www.linkedin.com/in/mengruo-huang', 'https://www.linkedin.com/in/mikityukmark/ru', 'https://www.linkedin.com/in/mariam-daoud-1b756717a', 'https://www.linkedin.com/in/yanaiz-morales-870927b7', 'https://www.linkedin.com/in/bharti-tyagi2107', 'https://www.google.com/search?q=site:linkedin.com/in/+Education+is+UC+Berkeley+graduated+works+in+corporate+counsel+paralegal&start=50', 'https://www.google.com/search?q=site:linkedin.com/in/+Education+is+UC+Berkeley+graduated+works+in+corporate+counsel+paralegal&start=60', 'https://www.linkedin.com/in/cassandra-pogliano-a05461165', 'https://www.linkedin.com/in/jordankramlich', 'https://www.linkedin.com/in/nathaniel-leachman-9349494', 'https://www.linkedin.com/in/sara-mehrotra-a87227248', 'https://www.linkedin.com/in/huda-saadat', 'https://www.linkedin.com/in/norman-lee-0862704', 'https://www.linkedin.com/in/anirudh-ramakrishnan-70441911a', 'https://www.linkedin.com/in/duane-valz', 'https://uk.linkedin.com/in/jenishasabaratnam', 'https://www.linkedin.com/in/weiran-wang-435498196', 'https://www.google.com/search?q=site:linkedin.com/in/+Education+is+UC+Berkeley+graduated+works+in+corporate+counsel+paralegal&start=60', 'https://www.google.com/search?q=site:linkedin.com/in/+Education+is+UC+Berkeley+graduated+works+in+corporate+counsel+paralegal&start=70', 'https://www.linkedin.com/in/louisefrancisuc', 'https://www.linkedin.com/in/amber-zhang-7128a089', 'https://www.linkedin.com/in/elline-deogracias-1243a2117', 'https://www.linkedin.com/in/kentsucgang', 'https://www.linkedin.com/in/samornselim', 'https://www.linkedin.com/in/judy-shin-80700b15a', 'https://www.linkedin.com/in/bigredchang', 'https://www.linkedin.com/in/sidney-shifflet', 'https://br.linkedin.com/in/nath%C3%A1liafernandes', 'https://www.linkedin.com/in/elsa-whyte', 'https://www.google.com/search?q=site:linkedin.com/in/+Education+is+UC+Berkeley+graduated+works+in+corporate+counsel+paralegal&start=70', 'https://www.google.com/search?q=site:linkedin.com/in/+Education+is+UC+Berkeley+graduated+works+in+corporate+counsel+paralegal&start=80', 'https://www.linkedin.com/in/nigel-fung', 'https://www.linkedin.com/in/abigail-licad', 'https://www.linkedin.com/in/susan-c-9a54281b4', 'https://www.linkedin.com/in/ashley-elisara-03538b133', 'https://cl.linkedin.com/in/javier-mena-letelier-65a34526/en', 'https://www.linkedin.com/in/oliviaharukokamra', 'https://www.linkedin.com/in/gavindumesnil', 'https://www.linkedin.com/in/tylergarvey', 'https://www.linkedin.com/in/jade-bradfish-0023263b', 'https://www.linkedin.com/in/erica-jang', 'https://www.google.com/search?q=site:linkedin.com/in/+Education+is+UC+Berkeley+graduated+works+in+corporate+counsel+paralegal&start=80', 'https://www.google.com/search?q=site:linkedin.com/in/+Education+is+UC+Berkeley+graduated+works+in+corporate+counsel+paralegal&start=90', 'https://www.linkedin.com/in/john-klopotowski', 'https://www.linkedin.com/in/aceballos10', 'https://uk.linkedin.com/in/victoria-dipla-esg-technology12', 'https://www.linkedin.com/in/cassandre-banel-57704897', 'https://www.linkedin.com/in/hayley-cloyd-587b51132', 'https://www.linkedin.com/in/karenhnguyen', 'https://hk.linkedin.com/in/jessica-ge-11994523b?trk=people-guest_people_search-card', 'https://www.linkedin.com/in/benclau', 'https://www.linkedin.com/in/jesse-koehler-apl', 'https://www.linkedin.com/in/shantharanganathan', 'https://www.google.com/search?q=site:linkedin.com/in/+Education+is+UC+Berkeley+graduated+works+in+corporate+counsel+paralegal&start=90', 'https://www.google.com/search?q=site:linkedin.com/in/+Education+is+UC+Berkeley+graduated+works+in+corporate+counsel+paralegal']\n"
     ]
    },
    {
     "data": {
      "text/plain": [
       "121"
      ]
     },
     "execution_count": 174,
     "metadata": {},
     "output_type": "execute_result"
    }
   ],
   "source": [
    "from pprint import pprint\n",
    "import requests\n",
    "payload = {\n",
    "    'source': 'google',\n",
    "    'url': 'https://www.google.com/search?q=site:linkedin.com/in/+Education+is+UC+Berkeley+graduated+works+in+corporate+counsel+paralegal',\n",
    "    'parse': True,\n",
    "    'start_page': 1,\n",
    "    'pages': 10,\n",
    "}\n",
    "\n",
    "response = requests.request(\n",
    "    'POST',\n",
    "    'https://realtime.oxylabs.io/v1/queries',\n",
    "    auth=('satwikapaul_oZIdD', 'Fttkhcvnfttkhcvn6_'),\n",
    "    json=payload\n",
    ")\n",
    "\n",
    "law3data = response.json()\n",
    "law3data_linkedin_urls = extract_linkedin_urls(\n",
    "    law3data)\n",
    "print(law3data_linkedin_urls)\n",
    "len(law3data_linkedin_urls)\n"
   ]
  },
  {
   "cell_type": "markdown",
   "id": "574712da-c5c6-40dc-8a6a-195f417225f2",
   "metadata": {
    "jp-MarkdownHeadingCollapsed": true,
    "tags": []
   },
   "source": [
    "# Crypto #"
   ]
  },
  {
   "cell_type": "code",
   "execution_count": 175,
   "id": "bd21e6e4-8227-4e83-b13a-deeb7aa2cf68",
   "metadata": {},
   "outputs": [
    {
     "name": "stdout",
     "output_type": "stream",
     "text": [
      "['https://www.google.com/search?q=site:linkedin.com/in/+Education+is+UC+Berkeley+graduated+works+in+crypto+trader', 'https://www.linkedin.com/in/angelo-chu', 'https://www.linkedin.com/in/joshua-gee-55b0541ab', 'https://www.linkedin.com/in/emerson-velasquez', 'https://www.linkedin.com/in/franco-delgado-d', 'https://www.linkedin.com/in/cheng-peng-8206b2276/zh-cn', 'https://fr.linkedin.com/in/briac-sockalingum-student-sciences-politiques-blockchain-technology-economics-/en', 'https://www.linkedin.com/in/govelasco', 'https://www.linkedin.com/in/taikimaeda', 'https://www.linkedin.com/in/adam-sherman-b407259', 'https://www.linkedin.com/in/rogerio-rios', 'https://www.google.com/search?q=site:linkedin.com/in/+Education+is+UC+Berkeley+graduated+works+in+crypto+trader', 'https://www.google.com/search?q=site:linkedin.com/in/+Education+is+UC+Berkeley+graduated+works+in+crypto+trader&start=10', 'https://www.linkedin.com/in/sudarshan-gopalakrishnan', 'https://www.linkedin.com/in/brian-guo-422424238', 'https://www.linkedin.com/in/adamwgoldberg', 'https://www.linkedin.com/in/yige-yang/en?trk=people-guest_people_search-card', 'https://www.linkedin.com/in/adit-gupta-261816197', 'https://www.linkedin.com/in/taj-singh-229a9a286', 'https://www.linkedin.com/in/thomasdeitel', 'https://es.linkedin.com/in/yenlik-d-9485b793', 'https://www.linkedin.com/in/desmondcampbell', 'https://www.linkedin.com/in/polhovleon', 'https://www.google.com/search?q=site:linkedin.com/in/+Education+is+UC+Berkeley+graduated+works+in+crypto+trader&start=10', 'https://www.google.com/search?q=site:linkedin.com/in/+Education+is+UC+Berkeley+graduated+works+in+crypto+trader&start=20', 'https://ca.linkedin.com/in/eddie-liu-asa-cfa', 'https://uk.linkedin.com/in/swarooppoudel', 'https://www.linkedin.com/in/tairanyang', 'https://www.linkedin.com/in/husnaelmas', 'https://mx.linkedin.com/in/gsgodoy', 'https://www.linkedin.com/in/selenajli', 'https://www.linkedin.com/in/kevinchou', 'https://www.linkedin.com/in/wanganni', 'https://www.linkedin.com/in/alyssa-chen-12117221b', 'https://www.linkedin.com/in/coleman-myers', 'https://www.google.com/search?q=site:linkedin.com/in/+Education+is+UC+Berkeley+graduated+works+in+crypto+trader&start=20', 'https://www.google.com/search?q=site:linkedin.com/in/+Education+is+UC+Berkeley+graduated+works+in+crypto+trader&start=30', 'https://www.linkedin.com/in/bastiengros/en', 'https://in.linkedin.com/in/dhruv-suresh', 'https://www.linkedin.com/in/quang-d-22989a239', 'https://www.linkedin.com/in/dele-fei-26a28724a', 'https://www.linkedin.com/in/zorana-zhang-237923332', 'https://www.linkedin.com/in/dsobkin', 'https://www.linkedin.com/in/rushilagarwal261205', 'https://www.linkedin.com/in/cullenlee/en', 'https://www.linkedin.com/in/eric-stern-62581719', 'https://www.linkedin.com/in/wei-t-wang', 'https://www.google.com/search?q=site:linkedin.com/in/+Education+is+UC+Berkeley+graduated+works+in+crypto+trader&start=30', 'https://www.google.com/search?q=site:linkedin.com/in/+Education+is+UC+Berkeley+graduated+works+in+crypto+trader&start=40', 'https://www.linkedin.com/in/matthew-geske-599757163', 'https://www.linkedin.com/in/yjin-kim', 'https://www.linkedin.com/in/ronitjain5', 'https://www.linkedin.com/in/leo-chung-ucb', 'https://ng.linkedin.com/in/pete-anderson-com', 'https://www.linkedin.com/in/robin-ying', 'https://www.linkedin.com/in/brittany-lee-30ab3aa6', 'https://www.linkedin.com/in/melina-davis-a23366105', 'https://www.linkedin.com/in/cmaldonado-v', 'https://ae.linkedin.com/in/jaykairat/en', 'https://www.google.com/search?q=site:linkedin.com/in/+Education+is+UC+Berkeley+graduated+works+in+crypto+trader&start=40', 'https://www.google.com/search?q=site:linkedin.com/in/+Education+is+UC+Berkeley+graduated+works+in+crypto+trader&start=50', 'https://www.linkedin.com/in/kentarov', 'https://www.linkedin.com/in/evan-heus', 'https://www.linkedin.com/in/jackddouglas', 'https://www.linkedin.com/in/krysiapietraszkiewicz', 'https://www.linkedin.com/in/isaactylercheng', 'https://www.linkedin.com/in/barnettyang', 'https://www.linkedin.com/in/chunzhong-li-514986117', 'https://www.linkedin.com/in/miles-cheng-vieri-a6215b263', 'https://www.linkedin.com/in/ava-ratcliff-287ba7203', 'https://www.linkedin.com/in/songlizhi', 'https://www.google.com/search?q=site:linkedin.com/in/+Education+is+UC+Berkeley+graduated+works+in+crypto+trader&start=50', 'https://www.google.com/search?q=site:linkedin.com/in/+Education+is+UC+Berkeley+graduated+works+in+crypto+trader&start=60', 'https://hk.linkedin.com/in/audreyzxchan', 'https://www.linkedin.com/in/giansandhu', 'https://www.linkedin.com/in/skai', 'https://sg.linkedin.com/in/bhargav-muthe', 'https://www.linkedin.com/in/ayush-mahale-1826b5238', 'https://www.linkedin.com/in/francesco-piccoli', 'https://in.linkedin.com/in/ria-dokania-712551107', 'https://www.linkedin.com/in/nicoleni0804', 'https://th.linkedin.com/in/narongrit-waree-556840114', 'https://www.linkedin.com/in/deepakacchami', 'https://www.google.com/search?q=site:linkedin.com/in/+Education+is+UC+Berkeley+graduated+works+in+crypto+trader&start=60', 'https://www.google.com/search?q=site:linkedin.com/in/+Education+is+UC+Berkeley+graduated+works+in+crypto+trader&start=70', 'https://www.linkedin.com/in/wanghuimin1?trk=public_profile_browsemap', 'https://www.linkedin.com/in/mariam-alaverdian', 'https://www.linkedin.com/in/johnathanz', 'https://www.linkedin.com/in/renyingzhang', 'https://ch.linkedin.com/in/matej-skerlep', 'https://www.linkedin.com/in/david-moss-2108362a', 'https://www.linkedin.com/in/marina-conquest/', 'https://www.linkedin.com/in/karanvaswani29', 'https://www.linkedin.com/in/ruben-major-08b264203', 'https://www.linkedin.com/in/yumeng-zhang7', 'https://www.google.com/search?q=site:linkedin.com/in/+Education+is+UC+Berkeley+graduated+works+in+crypto+trader&start=70', 'https://www.google.com/search?q=site:linkedin.com/in/+Education+is+UC+Berkeley+graduated+works+in+crypto+trader&start=80', 'https://www.linkedin.com/in/evan-heus', 'https://www.linkedin.com/in/franco-delgado-d', 'https://www.linkedin.com/in/ava-ratcliff-287ba7203', 'https://www.linkedin.com/in/yanira-guadalupe-hernandez-galdamez-1b1a97345', 'https://www.linkedin.com/in/bonnieruan', 'https://www.linkedin.com/in/dhruv-devulapalli', 'https://www.linkedin.com/in/facundo-martin-llamas', 'https://uk.linkedin.com/in/sumair-ajanee-172768a1', 'https://www.linkedin.com/in/rayan-nyl-gharout', 'https://www.linkedin.com/in/sreeram-kannan-a397a47', 'https://sg.linkedin.com/in/nikhil-kumar-17a112195', 'https://www.linkedin.com/in/sejal-bilwar-15b436339', 'https://www.google.com/search?q=site:linkedin.com/in/+Education+is+UC+Berkeley+graduated+works+in+crypto+trader&start=80', 'https://www.google.com/search?q=site:linkedin.com/in/+Education+is+UC+Berkeley+graduated+works+in+crypto+trader&start=90', 'https://uk.linkedin.com/in/ga%C3%A9tan-disdier-69607725', 'https://www.linkedin.com/in/aukkawut', 'https://www.linkedin.com/in/joannix', 'https://uk.linkedin.com/in/siddharthsinghal', 'https://www.linkedin.com/in/louissutton', 'https://www.linkedin.com/in/oliver-hayman-2b61b31b7', 'https://www.linkedin.com/in/harry-sullivan-61486526b', 'https://www.linkedin.com/in/claudiaventresca', 'https://www.linkedin.com/in/levi-raskin-06b1321a2', 'https://www.linkedin.com/in/kevin-zhao-02a7a0171', 'https://www.google.com/search?q=site:linkedin.com/in/+Education+is+UC+Berkeley+graduated+works+in+crypto+trader&start=90', 'https://www.google.com/search?q=site:linkedin.com/in/+Education+is+UC+Berkeley+graduated+works+in+crypto+trader']\n"
     ]
    },
    {
     "data": {
      "text/plain": [
       "123"
      ]
     },
     "execution_count": 175,
     "metadata": {},
     "output_type": "execute_result"
    }
   ],
   "source": [
    "from pprint import pprint\n",
    "import requests\n",
    "payload = {\n",
    "    'source': 'google',\n",
    "    'url': 'https://www.google.com/search?q=site:linkedin.com/in/+Education+is+UC+Berkeley+graduated+works+in+crypto+trader',\n",
    "    'parse': True,\n",
    "    'start_page': 1,\n",
    "    'pages': 10,\n",
    "}\n",
    "\n",
    "response = requests.request(\n",
    "    'POST',\n",
    "    'https://realtime.oxylabs.io/v1/queries',\n",
    "    auth=('satwikapaul_oZIdD', 'Fttkhcvnfttkhcvn6_'),\n",
    "    json=payload\n",
    ")\n",
    "\n",
    "crypto1data = response.json()\n",
    "crypto1data_linkedin_urls = extract_linkedin_urls(\n",
    "    crypto1data)\n",
    "print(crypto1data_linkedin_urls)\n",
    "len(crypto1data_linkedin_urls)\n"
   ]
  },
  {
   "cell_type": "code",
   "execution_count": 176,
   "id": "242482f2-28f6-4101-990e-19d59ebebdca",
   "metadata": {},
   "outputs": [
    {
     "name": "stdout",
     "output_type": "stream",
     "text": [
      "['https://www.google.com/search?q=site:linkedin.com/in/+Education+is+UC+Berkeley+graduated+works+in+blockchain', 'https://www.linkedin.com/in/akshat-sharma----', 'https://fr.linkedin.com/in/briac-sockalingum-student-sciences-politiques-blockchain-technology-economics-/en', 'https://www.linkedin.com/in/aayushijain2025', 'https://www.linkedin.com/in/adit-gupta-261816197', 'https://www.linkedin.com/in/brent-friedman725', 'https://www.linkedin.com/in/pedro-ochoa-navarrete', 'https://www.linkedin.com/in/nadir-akhtar', 'https://www.linkedin.com/in/tommy-hang', 'https://www.linkedin.com/in/alyssa-chen-12117221b', 'https://www.linkedin.com/in/arushi-a', 'https://www.google.com/search?q=site:linkedin.com/in/+Education+is+UC+Berkeley+graduated+works+in+blockchain', 'https://www.google.com/search?q=site:linkedin.com/in/+Education+is+UC+Berkeley+graduated+works+in+blockchain&start=10', 'https://www.linkedin.com/in/adityabhandari25', 'https://www.linkedin.com/in/janiceina', 'https://www.linkedin.com/in/andy-kuang-16280b289', 'https://www.linkedin.com/in/sunnya97', 'https://www.linkedin.com/in/olegviatkin', 'https://www.linkedin.com/in/leejeewoo', 'https://www.linkedin.com/in/johnathanz', 'https://www.linkedin.com/in/riddhi-patel-12606720a', 'https://www.linkedin.com/in/cheng-peng-8206b2276', 'https://www.linkedin.com/in/klukekim', 'https://www.google.com/search?q=site:linkedin.com/in/+Education+is+UC+Berkeley+graduated+works+in+blockchain&start=10', 'https://www.google.com/search?q=site:linkedin.com/in/+Education+is+UC+Berkeley+graduated+works+in+blockchain&start=20', 'https://www.linkedin.com/in/richardwang-qm', 'https://www.linkedin.com/in/ayush-mahale-1826b5238', 'https://www.linkedin.com/in/darya-kaviani-674140142', 'https://www.linkedin.com/in/richaray', 'https://www.linkedin.com/in/adam-sherman-b407259', 'https://www.linkedin.com/in/adamwgoldberg', 'https://www.linkedin.com/in/d-gautam', 'https://www.linkedin.com/in/jasonta21', 'https://www.linkedin.com/in/ahmedbanafa', 'https://www.linkedin.com/in/nathan-cheng', 'https://www.google.com/search?q=site:linkedin.com/in/+Education+is+UC+Berkeley+graduated+works+in+blockchain&start=20', 'https://www.google.com/search?q=site:linkedin.com/in/+Education+is+UC+Berkeley+graduated+works+in+blockchain&start=30', 'https://www.linkedin.com/in/dawn-song-51586033', 'https://www.linkedin.com/in/andrew-glidden-b11650ab', 'https://www.linkedin.com/in/kentarov', 'https://www.linkedin.com/in/ddgarcia', 'https://www.linkedin.com/in/isabellaotterson', 'https://www.linkedin.com/in/chloewchia', 'https://www.linkedin.com/in/suhani-singhal', 'https://www.linkedin.com/in/andrewkerr82310', 'https://www.linkedin.com/in/eztramble', 'https://www.linkedin.com/in/he-song', 'https://www.google.com/search?q=site:linkedin.com/in/+Education+is+UC+Berkeley+graduated+works+in+blockchain&start=30', 'https://www.google.com/search?q=site:linkedin.com/in/+Education+is+UC+Berkeley+graduated+works+in+blockchain&start=40', 'https://www.linkedin.com/in/ahmed-m-alaa-b1007614', 'https://www.linkedin.com/in/natepola', 'https://www.linkedin.com/in/kelly-zeng-b7ba44217', 'https://www.linkedin.com/in/sarahmou', 'https://www.linkedin.com/in/goldbergken', 'https://www.linkedin.com/in/jessicahnewman', 'https://www.linkedin.com/in/lelandlee', 'https://www.linkedin.com/in/yjin-kim', 'https://www.linkedin.com/in/limsico', 'https://www.linkedin.com/in/timothy-guo-94507016a', 'https://www.google.com/search?q=site:linkedin.com/in/+Education+is+UC+Berkeley+graduated+works+in+blockchain&start=40', 'https://www.google.com/search?q=site:linkedin.com/in/+Education+is+UC+Berkeley+graduated+works+in+blockchain&start=50', 'https://www.linkedin.com/in/alexandermkaplan', 'https://www.linkedin.com/in/lisa-garcia-bedolla-28b0174', 'https://www.linkedin.com/in/clairesemielee', 'https://www.linkedin.com/in/seth-thomas-31851b332', 'https://www.linkedin.com/in/michael-brand-494b88265', 'https://www.linkedin.com/in/pranav-agarwal-ml?trk=public_post_comment_actor-image', 'https://www.linkedin.com/in/henryle07', 'https://www.linkedin.com/in/fernando-lara-380982236', 'https://www.linkedin.com/in/alex-thomas-v', 'https://www.linkedin.com/in/john-su-71547980', 'https://www.google.com/search?q=site:linkedin.com/in/+Education+is+UC+Berkeley+graduated+works+in+blockchain&start=50', 'https://www.google.com/search?q=site:linkedin.com/in/+Education+is+UC+Berkeley+graduated+works+in+blockchain&start=60', 'https://www.linkedin.com/in/annabelle-a-wu', 'https://www.linkedin.com/in/ethanmlam', 'https://www.linkedin.com/in/genzhang', 'https://www.linkedin.com/in/chaseqb11', 'https://www.linkedin.com/in/kevinchou', 'https://th.linkedin.com/in/narongrit-waree-556840114', 'https://uk.linkedin.com/in/siddharthsinghal', 'https://www.linkedin.com/in/alexisgauba', 'https://sg.linkedin.com/in/bhargav-muthe', 'https://www.linkedin.com/in/jaketennant', 'https://www.google.com/search?q=site:linkedin.com/in/+Education+is+UC+Berkeley+graduated+works+in+blockchain&start=60', 'https://www.google.com/search?q=site:linkedin.com/in/+Education+is+UC+Berkeley+graduated+works+in+blockchain&start=70', 'https://www.linkedin.com/in/taikimaeda', 'https://www.linkedin.com/in/francesco-piccoli', 'https://www.linkedin.com/in/olgamack', 'https://www.linkedin.com/in/deepti-saxena-6142484a', 'https://www.linkedin.com/in/almicia', 'https://www.linkedin.com/in/pietragallo', 'https://www.linkedin.com/in/nadernamini', 'https://www.linkedin.com/in/paul-bryzek', 'https://www.linkedin.com/in/shanefanx', 'https://www.linkedin.com/in/joannix', 'https://www.google.com/search?q=site:linkedin.com/in/+Education+is+UC+Berkeley+graduated+works+in+blockchain&start=70', 'https://www.google.com/search?q=site:linkedin.com/in/+Education+is+UC+Berkeley+graduated+works+in+blockchain&start=80', 'https://www.linkedin.com/in/amyyuecui', 'https://www.linkedin.com/in/rishithakar', 'https://www.linkedin.com/in/sammy-obeid-0287aa181', 'https://www.linkedin.com/in/celestin-hermez', 'https://www.linkedin.com/in/davidjcohn', 'https://www.linkedin.com/in/camillecrittenden', 'https://ca.linkedin.com/in/kelley-l-993937222', 'https://www.linkedin.com/in/david-kyeu-phd-aa1b9837', 'https://ar.linkedin.com/in/nicolas-biondini', 'https://www.linkedin.com/in/austin-yun', 'https://www.google.com/search?q=site:linkedin.com/in/+Education+is+UC+Berkeley+graduated+works+in+blockchain&start=80', 'https://www.google.com/search?q=site:linkedin.com/in/+Education+is+UC+Berkeley+graduated+works+in+blockchain&start=90', 'https://www.linkedin.com/in/brendan-j-w', 'https://www.linkedin.com/in/riddhi-patel-12606720a', 'https://www.linkedin.com/in/d-gautam', 'https://uk.linkedin.com/in/swarooppoudel', 'https://www.linkedin.com/in/adele-bloch-406786100', 'https://uk.linkedin.com/in/doro-unger-lee', 'https://www.linkedin.com/in/sreeram-kannan-a397a47', 'https://rs.linkedin.com/in/branko-urosevic-18586998', 'https://www.linkedin.com/in/denislam', 'https://www.linkedin.com/in/alexanderbelkin1', 'https://www.linkedin.com/in/franktnguyen', 'https://www.linkedin.com/in/andrewztan', 'https://www.google.com/search?q=site:linkedin.com/in/+Education+is+UC+Berkeley+graduated+works+in+blockchain&start=90', 'https://www.google.com/search?q=site:linkedin.com/in/+Education+is+UC+Berkeley+graduated+works+in+blockchain']\n"
     ]
    },
    {
     "data": {
      "text/plain": [
       "123"
      ]
     },
     "execution_count": 176,
     "metadata": {},
     "output_type": "execute_result"
    }
   ],
   "source": [
    "from pprint import pprint\n",
    "import requests\n",
    "payload = {\n",
    "    'source': 'google',\n",
    "    'url': 'https://www.google.com/search?q=site:linkedin.com/in/+Education+is+UC+Berkeley+graduated+works+in+blockchain',\n",
    "    'parse': True,\n",
    "    'start_page': 1,\n",
    "    'pages': 10,\n",
    "}\n",
    "\n",
    "response = requests.request(\n",
    "    'POST',\n",
    "    'https://realtime.oxylabs.io/v1/queries',\n",
    "    auth=('satwikapaul_oZIdD', 'Fttkhcvnfttkhcvn6_'),\n",
    "    json=payload\n",
    ")\n",
    "\n",
    "crypto2data = response.json()\n",
    "crypto2data_linkedin_urls = extract_linkedin_urls(\n",
    "    crypto2data)\n",
    "print(crypto2data_linkedin_urls)\n",
    "len(crypto2data_linkedin_urls)\n"
   ]
  },
  {
   "cell_type": "markdown",
   "id": "9552276e-9f45-4dee-8376-33ee655105fc",
   "metadata": {
    "jp-MarkdownHeadingCollapsed": true,
    "tags": []
   },
   "source": [
    "# Cybersecurity #"
   ]
  },
  {
   "cell_type": "code",
   "execution_count": 177,
   "id": "b993e1b2-33f9-4bf2-bf36-c27ec2d2ed18",
   "metadata": {},
   "outputs": [
    {
     "name": "stdout",
     "output_type": "stream",
     "text": [
      "['https://www.google.com/search?q=site:linkedin.com/in/+Education+is+UC+Berkeley+graduated+works+in+cybersecurity', 'https://www.linkedin.com/in/felipeluna', 'https://www.linkedin.com/in/akshat-satija', 'https://www.linkedin.com/in/sahar-rabiei', 'https://www.linkedin.com/in/marcelovilar', 'https://www.linkedin.com/in/shraddha-gupta-cyber', 'https://www.linkedin.com/in/emilyrapp50', 'https://www.linkedin.com/in/david-an-ph-d-gsec-134a1b4', 'https://www.linkedin.com/in/ashley-pun', 'https://www.linkedin.com/in/christopher-di-a086a6223', 'https://www.linkedin.com/in/sarah-katz-58694618', 'https://www.google.com/search?q=site:linkedin.com/in/+Education+is+UC+Berkeley+graduated+works+in+cybersecurity', 'https://www.google.com/search?q=site:linkedin.com/in/+Education+is+UC+Berkeley+graduated+works+in+cybersecurity&start=10', 'https://www.linkedin.com/in/jaeyoon-chong', 'https://www.linkedin.com/in/sreenvitha-chikati', 'https://www.linkedin.com/in/gabriel-scharff-62228121b', 'https://www.linkedin.com/in/jordan-camel-b74424268', 'https://www.linkedin.com/in/fionnuala-heatley', 'https://www.linkedin.com/in/george-gamarra', 'https://www.linkedin.com/in/katie-gede?trk=people-guest_people_search-card', 'https://www.linkedin.com/in/kevin-l-19585a162?trk=people-guest_people_search-card', 'https://www.linkedin.com/in/bdleonard', 'https://www.linkedin.com/in/owen-thompson7', 'https://www.google.com/search?q=site:linkedin.com/in/+Education+is+UC+Berkeley+graduated+works+in+cybersecurity&start=10', 'https://www.google.com/search?q=site:linkedin.com/in/+Education+is+UC+Berkeley+graduated+works+in+cybersecurity&start=20', 'https://www.linkedin.com/in/andrew-edlen-62b565239', 'https://www.linkedin.com/in/nathan-leao-359988255', 'https://www.linkedin.com/in/joseph-stanton-442b62270', 'https://www.linkedin.com/in/tarunika-kapoor-232469175', 'https://www.linkedin.com/in/hugo-chavez-88a45128a', 'https://www.linkedin.com/in/sebastian-maceira-jr-8ba5ba152', 'https://www.linkedin.com/in/karen-alarcon', 'https://www.linkedin.com/in/david-vicente-a7b72a217', 'https://www.linkedin.com/in/kristina-g-fong', 'https://www.linkedin.com/in/lucagiles', 'https://www.google.com/search?q=site:linkedin.com/in/+Education+is+UC+Berkeley+graduated+works+in+cybersecurity&start=20', 'https://www.google.com/search?q=site:linkedin.com/in/+Education+is+UC+Berkeley+graduated+works+in+cybersecurity&start=30', 'https://www.linkedin.com/in/lia-grant-107ab115', 'https://www.linkedin.com/in/paulwgeorge', 'https://www.linkedin.com/in/j-hillman', 'https://www.linkedin.com/in/adrianlsegura', 'https://www.linkedin.com/in/kuljitu', 'https://www.linkedin.com/in/gabriela-romero-7a37481a7', 'https://www.linkedin.com/in/lisa-c-ho', 'https://www.linkedin.com/in/devi-sivakumar', 'https://www.linkedin.com/in/desiree-garcia-0bb968240', 'https://www.linkedin.com/in/shannonpierson', 'https://www.google.com/search?q=site:linkedin.com/in/+Education+is+UC+Berkeley+graduated+works+in+cybersecurity&start=30', 'https://www.google.com/search?q=site:linkedin.com/in/+Education+is+UC+Berkeley+graduated+works+in+cybersecurity&start=40', 'https://www.linkedin.com/in/tristanrcox', 'https://www.linkedin.com/in/roc%C3%ADo-sanchez-ab70013a', 'https://www.linkedin.com/in/mattnagamine', 'https://www.linkedin.com/in/tanjen', 'https://www.linkedin.com/in/david-yee-80a855106', 'https://www.linkedin.com/in/charissakim', 'https://www.linkedin.com/in/marcus-c-997a1b171', 'https://www.linkedin.com/in/dexterb', 'https://www.linkedin.com/in/jessicahnewman', 'https://www.linkedin.com/in/farhad-alemi', 'https://www.google.com/search?q=site:linkedin.com/in/+Education+is+UC+Berkeley+graduated+works+in+cybersecurity&start=40', 'https://www.google.com/search?q=site:linkedin.com/in/+Education+is+UC+Berkeley+graduated+works+in+cybersecurity&start=50', 'https://www.linkedin.com/in/justin-h-yim', 'https://www.linkedin.com/in/lisa-kasamba-31042377', 'https://www.linkedin.com/in/mario-orantes-75277b205', 'https://www.linkedin.com/in/joshua-cerutti-82a337177', 'https://www.linkedin.com/in/victor-cg', 'https://www.linkedin.com/in/joseaguilarjr', 'https://www.linkedin.com/in/jae-won-sim-22921aa7', 'https://www.linkedin.com/in/oliver-kirk-0676b8340', 'https://www.linkedin.com/in/joshua-swisher-3a853b276', 'https://www.linkedin.com/in/marydigginsmchale', 'https://www.google.com/search?q=site:linkedin.com/in/+Education+is+UC+Berkeley+graduated+works+in+cybersecurity&start=50', 'https://www.google.com/search?q=site:linkedin.com/in/+Education+is+UC+Berkeley+graduated+works+in+cybersecurity&start=60', 'https://www.linkedin.com/in/kayla-j-888470235', 'https://www.linkedin.com/in/abelcastillopinto', 'https://www.linkedin.com/in/sarah-barrington', 'https://www.linkedin.com/in/aubreymilham', 'https://www.linkedin.com/in/matt-bruss-86405b15', 'https://www.linkedin.com/in/gabriel-liu-a07b0432b', 'https://www.linkedin.com/in/swayamp', 'https://www.linkedin.com/in/lawrence-wagner', 'https://www.linkedin.com/in/maria-jose-healey-5066ba264', 'https://www.linkedin.com/in/mariano-bueno-102b21239', 'https://www.google.com/search?q=site:linkedin.com/in/+Education+is+UC+Berkeley+graduated+works+in+cybersecurity&start=60', 'https://www.google.com/search?q=site:linkedin.com/in/+Education+is+UC+Berkeley+graduated+works+in+cybersecurity&start=70', 'https://www.linkedin.com/in/michael-mccoyd', 'https://www.linkedin.com/in/alex-templin-5322a2a4', 'https://www.linkedin.com/in/ashmitak', 'https://www.linkedin.com/in/laura-jazmin1019', 'https://www.linkedin.com/in/marshallkristen', 'https://www.linkedin.com/in/terrellthompson19', 'https://uk.linkedin.com/in/georgia-bell-oly-5b0975112', 'https://www.linkedin.com/in/emma-rochon-293b81158', 'https://www.linkedin.com/in/george-leitmann-4b108616', 'https://www.linkedin.com/in/jessea-garcia', 'https://www.google.com/search?q=site:linkedin.com/in/+Education+is+UC+Berkeley+graduated+works+in+cybersecurity&start=70', 'https://www.google.com/search?q=site:linkedin.com/in/+Education+is+UC+Berkeley+graduated+works+in+cybersecurity&start=80', 'https://www.linkedin.com/in/christianjc09', 'https://www.linkedin.com/in/miles-green-190050277', 'https://www.linkedin.com/in/brian-vanderbilt', 'https://in.linkedin.com/in/fazlehaque', 'https://www.linkedin.com/in/brendan-kariithi', 'https://www.linkedin.com/in/grace-larson-326b0b2b0', 'https://www.linkedin.com/in/habeebah-mohammad-01b26a56', 'https://www.linkedin.com/in/natalia-gonzalez-llamas-018811334', 'https://www.linkedin.com/in/marthaortegamendoza', 'https://www.linkedin.com/in/ishika-kataria', 'https://www.google.com/search?q=site:linkedin.com/in/+Education+is+UC+Berkeley+graduated+works+in+cybersecurity&start=80', 'https://www.google.com/search?q=site:linkedin.com/in/+Education+is+UC+Berkeley+graduated+works+in+cybersecurity&start=90', 'https://www.linkedin.com/in/shraddha-gupta-cyber', 'https://www.linkedin.com/in/habeebah-mohammad-01b26a56', 'https://www.linkedin.com/in/george-gamarra', 'https://www.linkedin.com/in/aaron-beaman-0a9077171', 'https://www.linkedin.com/in/julia-w-067a2a138?trk=people-guest_people_search-card', 'https://www.linkedin.com/in/limsico', 'https://www.linkedin.com/in/alexandragessesse', 'https://www.linkedin.com/in/son-huynh-892663192', 'https://www.linkedin.com/in/anastasia-grosch-06245b19b', 'https://www.linkedin.com/in/sonika-sharma-b65246235', 'https://www.linkedin.com/in/kevinquinteroberkeley', 'https://www.linkedin.com/in/zhennan-lu-448a8922a', 'https://www.google.com/search?q=site:linkedin.com/in/+Education+is+UC+Berkeley+graduated+works+in+cybersecurity&start=90', 'https://www.google.com/search?q=site:linkedin.com/in/+Education+is+UC+Berkeley+graduated+works+in+cybersecurity']\n"
     ]
    },
    {
     "data": {
      "text/plain": [
       "123"
      ]
     },
     "execution_count": 177,
     "metadata": {},
     "output_type": "execute_result"
    }
   ],
   "source": [
    "from pprint import pprint\n",
    "import requests\n",
    "payload = {\n",
    "    'source': 'google',\n",
    "    'url': 'https://www.google.com/search?q=site:linkedin.com/in/+Education+is+UC+Berkeley+graduated+works+in+cybersecurity',\n",
    "    'parse': True,\n",
    "    'start_page': 1,\n",
    "    'pages': 10,\n",
    "}\n",
    "\n",
    "response = requests.request(\n",
    "    'POST',\n",
    "    'https://realtime.oxylabs.io/v1/queries',\n",
    "    auth=('satwikapaul_oZIdD', 'Fttkhcvnfttkhcvn6_'),\n",
    "    json=payload\n",
    ")\n",
    "\n",
    "cyber1data = response.json()\n",
    "cyber1data_linkedin_urls = extract_linkedin_urls(\n",
    "    cyber1data)\n",
    "print(cyber1data_linkedin_urls)\n",
    "len(cyber1data_linkedin_urls)\n"
   ]
  },
  {
   "cell_type": "code",
   "execution_count": 178,
   "id": "27d8535e-1d9a-4bc2-b9c7-41796e2836c5",
   "metadata": {},
   "outputs": [
    {
     "name": "stdout",
     "output_type": "stream",
     "text": [
      "['https://www.google.com/search?q=site:linkedin.com/in/+Education+is+UC+Berkeley+graduated+works+in+security+information+SOC+cyber', 'https://www.linkedin.com/in/bdleonard', 'https://www.linkedin.com/in/rowan-fogg', 'https://www.linkedin.com/in/shraddha-gupta-cyber', 'https://uk.linkedin.com/in/shopung', 'https://www.linkedin.com/in/kevin-l-19585a162?trk=people-guest_people_search-card', 'https://www.linkedin.com/in/samsulsheikh', 'https://www.linkedin.com/in/marcelovilar', 'https://in.linkedin.com/in/manojshetty24', 'https://www.linkedin.com/in/yining-liu-508596189', 'https://www.linkedin.com/in/felipeluna', 'https://www.google.com/search?q=site:linkedin.com/in/+Education+is+UC+Berkeley+graduated+works+in+security+information+SOC+cyber', 'https://www.google.com/search?q=site:linkedin.com/in/+Education+is+UC+Berkeley+graduated+works+in+security+information+SOC+cyber&start=10', 'https://www.linkedin.com/in/marcelovilar', 'https://www.linkedin.com/in/ali-darwish-', 'https://www.linkedin.com/in/brian-vanderbilt', 'https://www.linkedin.com/in/shraddha-gupta-cyber', 'https://www.linkedin.com/in/matthewtan020', 'https://www.linkedin.com/in/coty-doty', 'https://www.linkedin.com/in/racee-lucas-62a703253', 'https://www.linkedin.com/in/dipa-rai-6465ab143', 'https://www.linkedin.com/in/ashrafe-nudia-57257526a', 'https://www.linkedin.com/in/kristina-g-fong', 'https://www.google.com/search?q=site:linkedin.com/in/+Education+is+UC+Berkeley+graduated+works+in+security+information+SOC+cyber&start=10', 'https://www.google.com/search?q=site:linkedin.com/in/+Education+is+UC+Berkeley+graduated+works+in+security+information+SOC+cyber&start=20', 'https://www.linkedin.com/in/michelle-saidov-157a91146', 'https://www.linkedin.com/in/dipa-rai-6465ab143', 'https://www.linkedin.com/in/ashrafe-nudia-57257526a', 'https://www.linkedin.com/in/rahman-shahayd', 'https://www.linkedin.com/in/melanie-andrade-406778223/es?trk=people-guest_people_search-card', 'https://www.linkedin.com/in/charissakim', 'https://www.linkedin.com/in/samantha-a-collins', 'https://www.linkedin.com/in/tahir-anjum-1a154620b', 'https://www.linkedin.com/in/mohammed-t-hossain', 'https://www.linkedin.com/in/fionnuala-heatley', 'https://www.google.com/search?q=site:linkedin.com/in/+Education+is+UC+Berkeley+graduated+works+in+security+information+SOC+cyber&start=20', 'https://www.google.com/search?q=site:linkedin.com/in/+Education+is+UC+Berkeley+graduated+works+in+security+information+SOC+cyber&start=30', 'https://www.linkedin.com/in/yamelith-rivera-377685220', 'https://www.linkedin.com/in/travis-walker-a05712279', 'https://www.linkedin.com/in/regina-chen-853387283', 'https://www.linkedin.com/in/heyayesha', 'https://www.linkedin.com/in/george-gamarra', 'https://www.linkedin.com/in/joseph-pierre-482630192', 'https://www.linkedin.com/in/khursheda-khan', 'https://www.linkedin.com/in/gabevera', 'https://www.linkedin.com/in/mario-orantes-75277b205', 'https://www.linkedin.com/in/lisa-c-ho', 'https://www.google.com/search?q=site:linkedin.com/in/+Education+is+UC+Berkeley+graduated+works+in+security+information+SOC+cyber&start=30', 'https://www.google.com/search?q=site:linkedin.com/in/+Education+is+UC+Berkeley+graduated+works+in+security+information+SOC+cyber&start=40', 'https://www.linkedin.com/in/habeebah-mohammad-01b26a56', 'https://www.linkedin.com/in/sebastian-maceira-jr-8ba5ba152', 'https://www.linkedin.com/in/einstein-jonathan-mercedes', 'https://www.linkedin.com/in/edwin-rivera-orna-b4b378143', 'https://www.linkedin.com/in/priyanka-bhargava-223bb3267', 'https://www.linkedin.com/in/owen-thompson7', 'https://zw.linkedin.com/in/rahul-pandit-182838169', 'https://www.linkedin.com/in/saurabh-ghosh-30807921a', 'https://www.linkedin.com/in/christopher-andrew-budiharto-24382b202?trk=public_profile_browsemap', 'https://www.linkedin.com/in/matthew-l-tan?trk=public_profile_browsemap', 'https://www.google.com/search?q=site:linkedin.com/in/+Education+is+UC+Berkeley+graduated+works+in+security+information+SOC+cyber&start=40', 'https://www.google.com/search?q=site:linkedin.com/in/+Education+is+UC+Berkeley+graduated+works+in+security+information+SOC+cyber&start=50', 'https://www.linkedin.com/in/osman-sharaf-0040a1159', 'https://in.linkedin.com/in/kanagaraj-g-cybersecurity', 'https://www.linkedin.com/in/madalina-stoicov-a6928a23b', 'https://www.linkedin.com/in/david-yee-80a855106', 'https://www.linkedin.com/in/tiajuanagilmore16', 'https://www.linkedin.com/in/christopher-sorrentino-829798192', 'https://www.linkedin.com/in/matthew-templeton87', 'https://www.linkedin.com/in/brandon-k-liang', 'https://www.linkedin.com/in/kiarapile', 'https://www.linkedin.com/in/gabriel-scharff-62228121b', 'https://www.google.com/search?q=site:linkedin.com/in/+Education+is+UC+Berkeley+graduated+works+in+security+information+SOC+cyber&start=50', 'https://www.google.com/search?q=site:linkedin.com/in/+Education+is+UC+Berkeley+graduated+works+in+security+information+SOC+cyber&start=60', 'https://www.linkedin.com/in/rafia-islam1', 'https://www.linkedin.com/in/kenneth-cher', 'https://www.linkedin.com/in/noah-solter', 'https://www.linkedin.com/in/jaewon-lee-9573a0142', 'https://www.linkedin.com/in/guymilliman', 'https://www.linkedin.com/in/nathan-w-4b23b130?trk=public_profile_browsemap', 'https://www.linkedin.com/in/damien-baro', 'https://www.linkedin.com/in/adamhydorn', 'https://www.linkedin.com/in/edem-baba-djabani-76414980', 'https://www.linkedin.com/in/abinash-aryal', 'https://www.google.com/search?q=site:linkedin.com/in/+Education+is+UC+Berkeley+graduated+works+in+security+information+SOC+cyber&start=60', 'https://www.google.com/search?q=site:linkedin.com/in/+Education+is+UC+Berkeley+graduated+works+in+security+information+SOC+cyber&start=70', 'https://www.linkedin.com/in/john-fueyo', 'https://www.linkedin.com/in/kameryn-coleman-86422121b', 'https://www.linkedin.com/in/rafael-flores-cabrera-1802a8161', 'https://www.linkedin.com/in/michael-marent', 'https://www.linkedin.com/in/joshua-cerutti-82a337177', 'https://www.linkedin.com/in/j-yunhsi', 'https://www.linkedin.com/in/carlos-maldonado-01488454', 'https://www.linkedin.com/in/ryanbarchilon', 'https://www.linkedin.com/in/nicole-timofeevski', 'https://www.linkedin.com/in/shameer-afzal-3405661a3', 'https://www.google.com/search?q=site:linkedin.com/in/+Education+is+UC+Berkeley+graduated+works+in+security+information+SOC+cyber&start=70', 'https://www.google.com/search?q=site:linkedin.com/in/+Education+is+UC+Berkeley+graduated+works+in+security+information+SOC+cyber&start=80', 'https://www.linkedin.com/in/kevyn357', 'https://www.linkedin.com/in/anthony-manasia', 'https://www.linkedin.com/in/mirzau1', 'https://www.linkedin.com/in/cybercurious', 'https://www.linkedin.com/in/chanthea-quinland', 'https://in.linkedin.com/in/venkata-ajay-a6ba05206', 'https://www.linkedin.com/in/fritz-nicole-cortel-075713233', 'https://www.linkedin.com/in/malcolmharkins', 'https://www.linkedin.com/in/leonardo-sierra-922bb6163', 'https://www.linkedin.com/in/johnnluu', 'https://www.google.com/search?q=site:linkedin.com/in/+Education+is+UC+Berkeley+graduated+works+in+security+information+SOC+cyber&start=80', 'https://www.google.com/search?q=site:linkedin.com/in/+Education+is+UC+Berkeley+graduated+works+in+security+information+SOC+cyber&start=90', 'https://www.linkedin.com/in/shraddha-gupta-cyber', 'https://www.linkedin.com/in/lisa-c-ho', 'https://www.linkedin.com/in/habeebah-mohammad-01b26a56', 'https://www.linkedin.com/in/ashley-pun', 'https://www.linkedin.com/in/karen-alarcon', 'https://www.linkedin.com/in/sschen', 'https://www.linkedin.com/in/ashritagollapalli', 'https://www.linkedin.com/in/rhodry-mok-81b5a11b7', 'https://www.linkedin.com/in/jackie-borin', 'https://in.linkedin.com/in/sanjeet-jha-a405a5163', 'https://www.linkedin.com/in/zachary-bacon-a603111b6', 'https://www.linkedin.com/in/cynthia-duru1', 'https://www.google.com/search?q=site:linkedin.com/in/+Education+is+UC+Berkeley+graduated+works+in+security+information+SOC+cyber&start=90', 'https://www.google.com/search?q=site:linkedin.com/in/+Education+is+UC+Berkeley+graduated+works+in+security+information+SOC+cyber']\n"
     ]
    },
    {
     "data": {
      "text/plain": [
       "123"
      ]
     },
     "execution_count": 178,
     "metadata": {},
     "output_type": "execute_result"
    }
   ],
   "source": [
    "from pprint import pprint\n",
    "import requests\n",
    "payload = {\n",
    "    'source': 'google',\n",
    "    'url': 'https://www.google.com/search?q=site:linkedin.com/in/+Education+is+UC+Berkeley+graduated+works+in+security+information+SOC+cyber',\n",
    "    'parse': True,\n",
    "    'start_page': 1,\n",
    "    'pages': 10,\n",
    "}\n",
    "\n",
    "response = requests.request(\n",
    "    'POST',\n",
    "    'https://realtime.oxylabs.io/v1/queries',\n",
    "    auth=('satwikapaul_oZIdD', 'Fttkhcvnfttkhcvn6_'),\n",
    "    json=payload\n",
    ")\n",
    "\n",
    "cyber2data = response.json()\n",
    "cyber2data_linkedin_urls = extract_linkedin_urls(\n",
    "    cyber2data)\n",
    "print(cyber2data_linkedin_urls)\n",
    "len(cyber2data_linkedin_urls)\n"
   ]
  },
  {
   "cell_type": "markdown",
   "id": "57cec956-7809-4553-9985-15de8b1e6e23",
   "metadata": {
    "jp-MarkdownHeadingCollapsed": true,
    "tags": []
   },
   "source": [
    "# Govt URLS #"
   ]
  },
  {
   "cell_type": "code",
   "execution_count": 179,
   "id": "763e7b6a-e019-4a4f-a6fd-966628144585",
   "metadata": {},
   "outputs": [
    {
     "name": "stdout",
     "output_type": "stream",
     "text": [
      "['https://www.google.com/search?q=site:linkedin.com/in/+Education+is+UC+Berkeley+graduated+works+in+government+policy', 'https://br.linkedin.com/in/marcelo-cabral-milanello', 'https://ie.linkedin.com/in/bernadetteadams', 'https://www.linkedin.com/in/henryayalaabril', 'https://www.linkedin.com/in/karimaitayem', 'https://www.linkedin.com/in/maitreyi-sistla', 'https://www.linkedin.com/in/henrique-ferreira-7b1a41179?trk=public_post_share-update_update-text', 'https://br.linkedin.com/in/henriquelfm', 'https://www.linkedin.com/in/brian-darmitzel', 'https://www.linkedin.com/in/andrewreddie', 'https://www.linkedin.com/in/kevinquinteroberkeley', 'https://www.google.com/search?q=site:linkedin.com/in/+Education+is+UC+Berkeley+graduated+works+in+government+policy', 'https://www.google.com/search?q=site:linkedin.com/in/+Education+is+UC+Berkeley+graduated+works+in+government+policy&start=10', 'https://www.linkedin.com/in/ashley-ortiz011', 'https://www.linkedin.com/in/anustubh-agnihotri-a066126', 'https://www.linkedin.com/in/daira-rivera-5a19a9222', 'https://www.linkedin.com/in/soledadguilera', 'https://www.linkedin.com/in/chelsea-hall-mpp', 'https://www.linkedin.com/in/ned-resnikoff-7054837', 'https://www.linkedin.com/in/angela-laureano-3a714521b', 'https://www.linkedin.com/in/daniela--franco', 'https://www.linkedin.com/in/stacygabriel14', 'https://www.linkedin.com/in/ykgabe', 'https://www.google.com/search?q=site:linkedin.com/in/+Education+is+UC+Berkeley+graduated+works+in+government+policy&start=10', 'https://www.google.com/search?q=site:linkedin.com/in/+Education+is+UC+Berkeley+graduated+works+in+government+policy&start=20', 'https://www.linkedin.com/in/jessicahnewman', 'https://www.linkedin.com/in/jack-glaser-76a34117b', 'https://www.linkedin.com/in/isabel-gallagher-903294238', 'https://www.linkedin.com/in/alexisfmg', 'https://www.linkedin.com/in/elliott-medrich-2537978', 'https://www.linkedin.com/in/caroline-siegel-singh', 'https://www.linkedin.com/in/aaryaman-singhal', 'https://www.linkedin.com/in/glennrdeguzman-edd', 'https://www.linkedin.com/in/adam-lichtenheld-phd-7a782938', 'https://uk.linkedin.com/in/stephenlezak', 'https://www.google.com/search?q=site:linkedin.com/in/+Education+is+UC+Berkeley+graduated+works+in+government+policy&start=20', 'https://www.google.com/search?q=site:linkedin.com/in/+Education+is+UC+Berkeley+graduated+works+in+government+policy&start=30', 'https://www.linkedin.com/in/soniya-agrawal-2a3001168', 'https://www.linkedin.com/in/julio-f-salas', 'https://www.linkedin.com/in/kathy-im-125483126', 'https://www.linkedin.com/in/jonesblaine', 'https://www.linkedin.com/in/agnee-ghosh', 'https://www.linkedin.com/in/katie-gede?trk=people-guest_people_search-card', 'https://www.linkedin.com/in/ryan-manriquez-aa8513167', 'https://www.linkedin.com/in/jorgemoralesalfaro/en', 'https://www.linkedin.com/in/kayleigh-tompkins', 'https://www.linkedin.com/in/samuel-ayers-97aaa6150', 'https://www.google.com/search?q=site:linkedin.com/in/+Education+is+UC+Berkeley+graduated+works+in+government+policy&start=30', 'https://www.google.com/search?q=site:linkedin.com/in/+Education+is+UC+Berkeley+graduated+works+in+government+policy&start=40', 'https://www.linkedin.com/in/lara-pesce-ares-30367a135', 'https://www.linkedin.com/in/chaka-tellem', 'https://www.linkedin.com/in/inaaragangji', 'https://www.linkedin.com/in/kellytsu', 'https://www.linkedin.com/in/andreaugaz', 'https://www.linkedin.com/in/meghan-hale', 'https://www.linkedin.com/in/piyush-narang-398ba7b0', 'https://www.linkedin.com/in/luisa-porras-967796157', 'https://www.linkedin.com/in/miraysalman', 'https://www.linkedin.com/in/tonyordoukhanian', 'https://www.google.com/search?q=site:linkedin.com/in/+Education+is+UC+Berkeley+graduated+works+in+government+policy&start=40', 'https://www.google.com/search?q=site:linkedin.com/in/+Education+is+UC+Berkeley+graduated+works+in+government+policy&start=50', 'https://www.linkedin.com/in/ari-baird', 'https://www.linkedin.com/in/andres-l-25a461168', 'https://www.linkedin.com/in/jasonskoff', 'https://www.linkedin.com/in/katie-wysong', 'https://www.linkedin.com/in/stefano-bertozzi-069a06b', 'https://www.linkedin.com/in/derek-jay-allen', 'https://www.linkedin.com/in/lyavendano', 'https://www.linkedin.com/in/christopher-stawski-886a9346', 'https://www.linkedin.com/in/jesse-williamson-2b8b9250', 'https://www.linkedin.com/in/laura-d-tyson', 'https://www.google.com/search?q=site:linkedin.com/in/+Education+is+UC+Berkeley+graduated+works+in+government+policy&start=50', 'https://www.google.com/search?q=site:linkedin.com/in/+Education+is+UC+Berkeley+graduated+works+in+government+policy&start=60', 'https://www.linkedin.com/in/mirenda-gwin-1391b0a3', 'https://www.linkedin.com/in/jeff-vincent', 'https://www.linkedin.com/in/tiffany-reardon', 'https://www.linkedin.com/in/cecillecabacungan', 'https://www.linkedin.com/in/ryannamadden', 'https://www.linkedin.com/in/yi-wu-0b5121248', 'https://www.linkedin.com/in/alexandragessesse', 'https://www.linkedin.com/in/anubhava-singla-66b6a51b4/', 'https://www.linkedin.com/in/andrea-lampros-73934a9', 'https://www.linkedin.com/in/willrohrer', 'https://www.google.com/search?q=site:linkedin.com/in/+Education+is+UC+Berkeley+graduated+works+in+government+policy&start=60', 'https://www.google.com/search?q=site:linkedin.com/in/+Education+is+UC+Berkeley+graduated+works+in+government+policy&start=70', 'https://www.linkedin.com/in/enrique-marroqu%C3%ADn-ab9325193', 'https://www.linkedin.com/in/andrearex', 'https://www.linkedin.com/in/martha-tapia-566982201', 'https://www.linkedin.com/in/madelinefahselt', 'https://www.linkedin.com/in/quin-hussey-mph-4292434', 'https://www.linkedin.com/in/robin-davidson-b6287811', 'https://www.linkedin.com/in/josh-fryday-b9625219', 'https://www.linkedin.com/in/elsa-whyte', 'https://www.linkedin.com/in/teyah-lewis-120aa666', 'https://www.linkedin.com/in/janelle-scott-8482026', 'https://www.google.com/search?q=site:linkedin.com/in/+Education+is+UC+Berkeley+graduated+works+in+government+policy&start=70', 'https://www.google.com/search?q=site:linkedin.com/in/+Education+is+UC+Berkeley+graduated+works+in+government+policy&start=80', 'https://www.linkedin.com/in/tonyordoukhanian', 'https://br.linkedin.com/in/marcelo-cabral-milanello', 'https://br.linkedin.com/in/marcelo-cabral-milanello', 'https://www.linkedin.com/in/darashay', 'https://www.linkedin.com/in/yahaira-balderas', 'https://www.linkedin.com/in/altamiranocarlet', 'https://www.linkedin.com/in/ericjstern', 'https://www.linkedin.com/in/jonathan-peterson-16aaa86', 'https://www.linkedin.com/in/moxiebautista', 'https://www.linkedin.com/in/christopher-h-929180195', 'https://www.linkedin.com/in/kristenswebb', 'https://www.linkedin.com/in/ptruong03', 'https://www.google.com/search?q=site:linkedin.com/in/+Education+is+UC+Berkeley+graduated+works+in+government+policy&start=80', 'https://www.google.com/search?q=site:linkedin.com/in/+Education+is+UC+Berkeley+graduated+works+in+government+policy&start=90', 'https://www.linkedin.com/in/harry-snyder-36a55393', 'https://www.linkedin.com/in/femiogundele', 'https://www.linkedin.com/in/quanfelicia', 'https://www.linkedin.com/in/rmwallace10', 'https://fr.linkedin.com/in/pierre-biscaye-50502b27', 'https://www.linkedin.com/in/dominic-cedillo-5b123924b', 'https://www.linkedin.com/in/martha-fiehn-b85b10132', 'https://www.linkedin.com/in/clara-haskell-botstein-a5864514', 'https://www.linkedin.com/in/scottmiller212', 'https://www.linkedin.com/in/christine-mullarkey', 'https://www.google.com/search?q=site:linkedin.com/in/+Education+is+UC+Berkeley+graduated+works+in+government+policy&start=90', 'https://www.google.com/search?q=site:linkedin.com/in/+Education+is+UC+Berkeley+graduated+works+in+government+policy']\n"
     ]
    },
    {
     "data": {
      "text/plain": [
       "123"
      ]
     },
     "execution_count": 179,
     "metadata": {},
     "output_type": "execute_result"
    }
   ],
   "source": [
    "from pprint import pprint\n",
    "import requests\n",
    "payload = {\n",
    "    'source': 'google',\n",
    "    'url': 'https://www.google.com/search?q=site:linkedin.com/in/+Education+is+UC+Berkeley+graduated+works+in+government+policy',\n",
    "    'parse': True,\n",
    "    'start_page': 1,\n",
    "    'pages': 10,\n",
    "}\n",
    "\n",
    "response = requests.request(\n",
    "    'POST',\n",
    "    'https://realtime.oxylabs.io/v1/queries',\n",
    "    auth=('satwikapaul_oZIdD', 'Fttkhcvnfttkhcvn6_'),\n",
    "    json=payload\n",
    ")\n",
    "\n",
    "gov1data = response.json()\n",
    "gov1data_linkedin_urls = extract_linkedin_urls(\n",
    "    gov1data)\n",
    "print(gov1data_linkedin_urls)\n",
    "len(gov1data_linkedin_urls)\n"
   ]
  },
  {
   "cell_type": "code",
   "execution_count": 180,
   "id": "f1917d18-93ab-4de6-9151-d9f86f6818d4",
   "metadata": {},
   "outputs": [
    {
     "name": "stdout",
     "output_type": "stream",
     "text": [
      "['https://www.google.com/search?q=site:linkedin.com/in/+Education+is+UC+Berkeley+graduated+works+in+public+policy+regulation', 'https://www.linkedin.com/in/keanublim', 'https://www.linkedin.com/in/karimaitayem', 'https://www.linkedin.com/in/geneva-lee-3b3a85156', 'https://www.linkedin.com/in/ariana-kretz', 'https://www.linkedin.com/in/perry-meade', 'https://www.linkedin.com/in/caroline-siegel-singh', 'https://www.linkedin.com/in/angela-laureano-3a714521b', 'https://www.linkedin.com/in/araceli-h', 'https://www.linkedin.com/in/david-croom-1b451a11', 'https://www.linkedin.com/in/jorgemoralesalfaro/en', 'https://www.google.com/search?q=site:linkedin.com/in/+Education+is+UC+Berkeley+graduated+works+in+public+policy+regulation', 'https://www.google.com/search?q=site:linkedin.com/in/+Education+is+UC+Berkeley+graduated+works+in+public+policy+regulation&start=10', 'https://www.linkedin.com/in/jorgemoralesalfaro/en', 'https://www.linkedin.com/in/skylar-cushing', 'https://www.linkedin.com/in/patricio-dom%C3%ADnguez-rivera-82820236', 'https://www.linkedin.com/in/nikit-abhyankar-4143181', 'https://www.linkedin.com/in/chayanayak', 'https://www.linkedin.com/in/aparna-stephen-b48170173', 'https://www.linkedin.com/in/araceli-h', 'https://www.linkedin.com/in/geneva-lee-3b3a85156', 'https://www.linkedin.com/in/david-croom-1b451a11', 'https://www.linkedin.com/in/lauren-kapp-8a673b193', 'https://www.google.com/search?q=site:linkedin.com/in/+Education+is+UC+Berkeley+graduated+works+in+public+policy+regulation&start=10', 'https://www.google.com/search?q=site:linkedin.com/in/+Education+is+UC+Berkeley+graduated+works+in+public+policy+regulation&start=20', 'https://www.linkedin.com/in/lauren-kapp-8a673b193', 'https://www.linkedin.com/in/nina-begus-86853366', 'https://www.linkedin.com/in/jessicahnewman', 'https://www.linkedin.com/in/zach-zimmerman', 'https://www.linkedin.com/in/ryanbrutger', 'https://www.linkedin.com/in/jacobharnist', 'https://www.linkedin.com/in/alexandragessesse', 'https://www.linkedin.com/in/soooh', 'https://www.linkedin.com/in/yahaira-balderas', 'https://www.linkedin.com/in/khatrip', 'https://www.google.com/search?q=site:linkedin.com/in/+Education+is+UC+Berkeley+graduated+works+in+public+policy+regulation&start=20', 'https://www.google.com/search?q=site:linkedin.com/in/+Education+is+UC+Berkeley+graduated+works+in+public+policy+regulation&start=30', 'https://www.linkedin.com/in/miraysalman', 'https://www.linkedin.com/in/jillian-grennan-0331613', 'https://www.linkedin.com/in/jigsharma', 'https://www.linkedin.com/in/berkeleylawllm', 'https://www.linkedin.com/in/alex-b-330667103/es?trk=people-guest_people_search-card', 'https://www.linkedin.com/in/antbozkaya', 'https://www.linkedin.com/in/andrew-albright-3554bb58', 'https://www.linkedin.com/in/isaiah-paik-5674b01b5', 'https://www.linkedin.com/in/hmallajosyula', 'https://www.linkedin.com/in/thomas-krendl-gilbert-38425b31', 'https://www.google.com/search?q=site:linkedin.com/in/+Education+is+UC+Berkeley+graduated+works+in+public+policy+regulation&start=30', 'https://www.google.com/search?q=site:linkedin.com/in/+Education+is+UC+Berkeley+graduated+works+in+public+policy+regulation&start=40', 'https://www.linkedin.com/in/thomas-krendl-gilbert-38425b31', 'https://www.linkedin.com/in/arthur-r-wardle-24270285', 'https://www.linkedin.com/in/vacharekar19', 'https://www.linkedin.com/in/carinacsam', 'https://www.linkedin.com/in/gpanger', 'https://www.linkedin.com/in/ritwikgupta', 'https://www.linkedin.com/in/sextonecon', 'https://www.linkedin.com/in/therese-jones-36495156', 'https://www.linkedin.com/in/matthew-busch-a4842798', 'https://www.linkedin.com/in/anne-coglianese-2221b18a', 'https://www.google.com/search?q=site:linkedin.com/in/+Education+is+UC+Berkeley+graduated+works+in+public+policy+regulation&start=40', 'https://www.google.com/search?q=site:linkedin.com/in/+Education+is+UC+Berkeley+graduated+works+in+public+policy+regulation&start=50', 'https://www.linkedin.com/in/kevin-klyman', 'https://www.linkedin.com/in/zainab-khan-84210158', 'https://www.linkedin.com/in/aniket-kesari-7b6460133', 'https://www.linkedin.com/in/recole88', 'https://www.linkedin.com/in/olgamack', 'https://www.linkedin.com/in/carlos545', 'https://www.linkedin.com/in/christophertonnujackson', 'https://www.linkedin.com/in/richardzarrella', 'https://www.linkedin.com/in/kevin-frazier-51811737', 'https://www.linkedin.com/in/hzenone', 'https://www.google.com/search?q=site:linkedin.com/in/+Education+is+UC+Berkeley+graduated+works+in+public+policy+regulation&start=50', 'https://www.google.com/search?q=site:linkedin.com/in/+Education+is+UC+Berkeley+graduated+works+in+public+policy+regulation&start=60', 'https://www.linkedin.com/in/keanublim', 'https://www.linkedin.com/in/angela-laureano-3a714521b', 'https://www.linkedin.com/in/yahaira-balderas', 'https://www.linkedin.com/in/larisamann', 'https://www.linkedin.com/in/christopher-casey-152ab61a', 'https://www.linkedin.com/in/rebeccascurry', 'https://www.linkedin.com/in/alec-carrier', 'https://www.linkedin.com/in/gabylohner', 'https://www.linkedin.com/in/christopher-h-929180195', 'https://www.linkedin.com/in/ravi-patel-4b686818a', 'https://www.linkedin.com/in/rdzombak', 'https://www.linkedin.com/in/jknelsen-phd', 'https://www.google.com/search?q=site:linkedin.com/in/+Education+is+UC+Berkeley+graduated+works+in+public+policy+regulation&start=60', 'https://www.google.com/search?q=site:linkedin.com/in/+Education+is+UC+Berkeley+graduated+works+in+public+policy+regulation&start=70', 'https://www.linkedin.com/in/patricia-boling-860777a', 'https://www.linkedin.com/in/sonia-katyal-068066159', 'https://www.linkedin.com/in/sharonlack', 'https://www.linkedin.com/in/cody-reilly', 'https://www.linkedin.com/in/adamahmad0', 'https://www.linkedin.com/in/ramunagappan', 'https://www.linkedin.com/in/jenniferurban', 'https://www.linkedin.com/in/elenaramoss', 'https://www.linkedin.com/in/adamorford', 'https://www.linkedin.com/in/alyssafunk', 'https://www.google.com/search?q=site:linkedin.com/in/+Education+is+UC+Berkeley+graduated+works+in+public+policy+regulation&start=70', 'https://www.google.com/search?q=site:linkedin.com/in/+Education+is+UC+Berkeley+graduated+works+in+public+policy+regulation&start=80', 'https://www.linkedin.com/in/alyssafunk', 'https://www.linkedin.com/in/lauren-ashley-week-33896a40', 'https://www.linkedin.com/in/hailey-lopez-b04781a6', 'https://www.linkedin.com/in/borareed', 'https://www.linkedin.com/in/amylee516', 'https://www.linkedin.com/in/matthew-parker-820b3824a', 'https://www.linkedin.com/in/alex-pfeifer-rosenblum', 'https://www.linkedin.com/in/felicia-darling-8619b461', 'https://www.linkedin.com/in/dylanlee73', 'https://www.linkedin.com/in/esteban-martinez-b542a729', 'https://www.google.com/search?q=site:linkedin.com/in/+Education+is+UC+Berkeley+graduated+works+in+public+policy+regulation&start=80', 'https://www.google.com/search?q=site:linkedin.com/in/+Education+is+UC+Berkeley+graduated+works+in+public+policy+regulation&start=90', 'https://www.linkedin.com/in/john-su-71547980', 'https://www.linkedin.com/in/pholakouee', 'https://www.linkedin.com/in/metyia-phillips', 'https://www.linkedin.com/in/harisri108', 'https://www.linkedin.com/in/sabinanong', 'https://www.linkedin.com/in/gariana-youngblood-08a23413b', 'https://www.linkedin.com/in/enrique-marroqu%C3%ADn-ab9325193', 'https://www.linkedin.com/in/leslie-kanberg-5899163', 'https://www.linkedin.com/in/kip-will-721baa2a4', 'https://www.linkedin.com/in/yan-zhu-19bb30269', 'https://www.google.com/search?q=site:linkedin.com/in/+Education+is+UC+Berkeley+graduated+works+in+public+policy+regulation&start=90', 'https://www.google.com/search?q=site:linkedin.com/in/+Education+is+UC+Berkeley+graduated+works+in+public+policy+regulation']\n"
     ]
    },
    {
     "data": {
      "text/plain": [
       "123"
      ]
     },
     "execution_count": 180,
     "metadata": {},
     "output_type": "execute_result"
    }
   ],
   "source": [
    "from pprint import pprint\n",
    "import requests\n",
    "payload = {\n",
    "    'source': 'google',\n",
    "    'url': 'https://www.google.com/search?q=site:linkedin.com/in/+Education+is+UC+Berkeley+graduated+works+in+public+policy+regulation',\n",
    "    'parse': True,\n",
    "    'start_page': 1,\n",
    "    'pages': 10,\n",
    "}\n",
    "\n",
    "response = requests.request(\n",
    "    'POST',\n",
    "    'https://realtime.oxylabs.io/v1/queries',\n",
    "    auth=('satwikapaul_oZIdD', 'Fttkhcvnfttkhcvn6_'),\n",
    "    json=payload\n",
    ")\n",
    "\n",
    "gov2data = response.json()\n",
    "gov2data_linkedin_urls = extract_linkedin_urls(\n",
    "    gov2data)\n",
    "print(gov2data_linkedin_urls)\n",
    "len(gov2data_linkedin_urls)\n"
   ]
  },
  {
   "cell_type": "markdown",
   "id": "cb88709a-b8a1-4080-a0b3-4cca9dbe2e4c",
   "metadata": {
    "jp-MarkdownHeadingCollapsed": true,
    "tags": []
   },
   "source": [
    "# Design & Writing #"
   ]
  },
  {
   "cell_type": "code",
   "execution_count": 181,
   "id": "1b81f891-aebd-4bea-ae19-1ed4a524ba01",
   "metadata": {},
   "outputs": [
    {
     "name": "stdout",
     "output_type": "stream",
     "text": [
      "['https://www.google.com/search?q=site:linkedin.com/in/+Education+is+UC+Berkeley+graduated+works+in+UI+UX+design', 'https://www.linkedin.com/in/emmacampbelluiuxdesign', 'https://www.linkedin.com/in/jenny-m-trinh', 'https://www.linkedin.com/in/yoonjoosur', 'https://www.linkedin.com/in/jamieworthy', 'https://www.linkedin.com/in/alyssa-guo-783557188', 'https://www.linkedin.com/in/jordan-nguyen-4898021aa', 'https://www.linkedin.com/in/mika-sebastian-70a832183', 'https://www.linkedin.com/in/itzelmlopez', 'https://www.linkedin.com/in/katie-yarnold', 'https://www.linkedin.com/in/giovanipreto/', 'https://www.google.com/search?q=site:linkedin.com/in/+Education+is+UC+Berkeley+graduated+works+in+UI+UX+design', 'https://www.google.com/search?q=site:linkedin.com/in/+Education+is+UC+Berkeley+graduated+works+in+UI+UX+design&start=10', 'https://www.linkedin.com/in/laurennayunkim', 'https://www.linkedin.com/in/aaron-c2024', 'https://www.linkedin.com/in/charlinebercasio', 'https://www.linkedin.com/in/priyal-mehta1', 'https://www.linkedin.com/in/angelica-w', 'https://www.linkedin.com/in/gabrielaed', 'https://www.linkedin.com/in/jiahua-vivian-zhu-6bb411220', 'https://www.linkedin.com/in/daniela-davila-berkeley', 'https://www.linkedin.com/in/natasha-tolia', 'https://www.linkedin.com/in/mariela-hernandez', 'https://www.google.com/search?q=site:linkedin.com/in/+Education+is+UC+Berkeley+graduated+works+in+UI+UX+design&start=10', 'https://www.google.com/search?q=site:linkedin.com/in/+Education+is+UC+Berkeley+graduated+works+in+UI+UX+design&start=20', 'https://www.linkedin.com/in/amber-jiang-dsgn', 'https://www.linkedin.com/in/uyentphan', 'https://www.linkedin.com/in/viviaanlau', 'https://www.linkedin.com/in/anita-qi-guo', 'https://www.linkedin.com/in/tonyholt1', 'https://www.linkedin.com/in/christinequynhvu/', 'https://www.linkedin.com/in/nicolee03', 'https://www.linkedin.com/in/anjali-anusuri', 'https://www.linkedin.com/in/katie-gede?trk=people-guest_people_search-card', 'https://www.linkedin.com/in/asbah-wasim', 'https://www.google.com/search?q=site:linkedin.com/in/+Education+is+UC+Berkeley+graduated+works+in+UI+UX+design&start=20', 'https://www.google.com/search?q=site:linkedin.com/in/+Education+is+UC+Berkeley+graduated+works+in+UI+UX+design&start=30', 'https://www.linkedin.com/in/yanyi-mai', 'https://www.linkedin.com/in/jun-j', 'https://www.linkedin.com/in/cody-mak', 'https://www.linkedin.com/in/yudian-xu-8976161a1', 'https://www.linkedin.com/in/juliette-m-2b0897142?trk=public_profile_browsemap', 'https://sa.linkedin.com/in/hashim-ahmed-860151a6', 'https://www.linkedin.com/in/s-erenali', 'https://www.linkedin.com/in/monica--cortes', 'https://www.linkedin.com/in/sarah-cruz', 'https://www.linkedin.com/in/melissa-basa', 'https://www.google.com/search?q=site:linkedin.com/in/+Education+is+UC+Berkeley+graduated+works+in+UI+UX+design&start=30', 'https://www.google.com/search?q=site:linkedin.com/in/+Education+is+UC+Berkeley+graduated+works+in+UI+UX+design&start=40', 'https://www.linkedin.com/in/clairewhsu', 'https://www.linkedin.com/in/n-juarez', 'https://www.linkedin.com/in/hyunsoojosephchang', 'https://www.linkedin.com/in/leslienoye', 'https://au.linkedin.com/in/alison-waller-2ab521106', 'https://www.linkedin.com/in/emily-lee-14854a1a3', 'https://www.linkedin.com/in/logan-marie-carter', 'https://www.linkedin.com/in/chmvuong', 'https://www.linkedin.com/in/hye-jade', 'https://www.linkedin.com/in/junjieli0426', 'https://www.google.com/search?q=site:linkedin.com/in/+Education+is+UC+Berkeley+graduated+works+in+UI+UX+design&start=40', 'https://www.google.com/search?q=site:linkedin.com/in/+Education+is+UC+Berkeley+graduated+works+in+UI+UX+design&start=50', 'https://www.linkedin.com/in/andrea-benitez-', 'https://www.linkedin.com/in/fredy-cruz', 'https://www.linkedin.com/in/behnaz-khaleghi-033274265', 'https://www.linkedin.com/in/sclairemcdonell', 'https://www.linkedin.com/in/lydiaq', 'https://www.linkedin.com/in/kassandra-johnson-9450a7143', 'https://www.linkedin.com/in/sophiacheng1', 'https://www.linkedin.com/in/laura-belik', 'https://www.linkedin.com/in/monica-pacheco-pm', 'https://uk.linkedin.com/in/xinru-huang-a36b781b4', 'https://www.google.com/search?q=site:linkedin.com/in/+Education+is+UC+Berkeley+graduated+works+in+UI+UX+design&start=50', 'https://www.google.com/search?q=site:linkedin.com/in/+Education+is+UC+Berkeley+graduated+works+in+UI+UX+design&start=60', 'https://www.linkedin.com/in/sarah-cruz', 'https://www.linkedin.com/in/jiahua-vivian-zhu-6bb411220', 'https://www.linkedin.com/in/hye-jade', 'https://www.linkedin.com/in/yczchloe', 'https://www.linkedin.com/in/zoeedington', 'https://www.linkedin.com/in/alesilveirax', 'https://www.linkedin.com/in/elizabeth-lewis-452644199', 'https://www.linkedin.com/in/silvana-moiceanu', 'https://www.linkedin.com/in/manu-vimahi-17286990', 'https://www.linkedin.com/in/chiajung-kuo/zh-tw', 'https://www.linkedin.com/in/catherineleepdx', 'https://www.linkedin.com/in/mykal-emanuels-6667141aa', 'https://www.google.com/search?q=site:linkedin.com/in/+Education+is+UC+Berkeley+graduated+works+in+UI+UX+design&start=60', 'https://www.google.com/search?q=site:linkedin.com/in/+Education+is+UC+Berkeley+graduated+works+in+UI+UX+design&start=70', 'https://www.linkedin.com/in/admakinde', 'https://uk.linkedin.com/in/jonohey', 'https://www.linkedin.com/in/kierstenatlee', 'https://www.linkedin.com/in/guanhua-liu-8317131a', 'https://www.linkedin.com/in/jae-kim-a38632238', 'https://www.linkedin.com/in/jeffrey-cai-085504235?trk=public_profile_browsemap', 'https://www.linkedin.com/in/eric-nicholas-korman', 'https://www.linkedin.com/in/sharangala14696', 'https://www.linkedin.com/in/quentin-field-barth', 'https://www.linkedin.com/in/loriannpatrick', 'https://www.google.com/search?q=site:linkedin.com/in/+Education+is+UC+Berkeley+graduated+works+in+UI+UX+design&start=70', 'https://www.google.com/search?q=site:linkedin.com/in/+Education+is+UC+Berkeley+graduated+works+in+UI+UX+design&start=80', 'https://www.linkedin.com/in/liang-chun-wang-213642213', 'https://www.linkedin.com/in/eileen-l', 'https://www.linkedin.com/in/mchoe98', 'https://www.linkedin.com/in/chuangzuo-liu-901271160', 'https://www.linkedin.com/in/adriennekfong', 'https://www.linkedin.com/in/christy-hu', 'https://www.linkedin.com/in/nolan-kaya-4314721a5', 'https://www.linkedin.com/in/greggabby', 'https://www.linkedin.com/in/annabelle-a-wu', 'https://my.linkedin.com/in/jocemerald', 'https://www.google.com/search?q=site:linkedin.com/in/+Education+is+UC+Berkeley+graduated+works+in+UI+UX+design&start=80', 'https://www.google.com/search?q=site:linkedin.com/in/+Education+is+UC+Berkeley+graduated+works+in+UI+UX+design&start=90', 'https://www.linkedin.com/in/kim-yelim', 'https://www.linkedin.com/in/shaira-guevara-11020b124', 'https://www.linkedin.com/in/russdiaz', 'https://www.linkedin.com/in/slinderx', 'https://www.linkedin.com/in/leilamuwenli', 'https://www.linkedin.com/in/kimberlymorrowdesign', 'https://in.linkedin.com/in/akshaya-a-8268441aa', 'https://www.linkedin.com/in/jazminellanes', 'https://www.linkedin.com/in/brent-li', 'https://nl.linkedin.com/in/katarinabagherian', 'https://www.google.com/search?q=site:linkedin.com/in/+Education+is+UC+Berkeley+graduated+works+in+UI+UX+design&start=90', 'https://www.google.com/search?q=site:linkedin.com/in/+Education+is+UC+Berkeley+graduated+works+in+UI+UX+design']\n"
     ]
    },
    {
     "data": {
      "text/plain": [
       "123"
      ]
     },
     "execution_count": 181,
     "metadata": {},
     "output_type": "execute_result"
    }
   ],
   "source": [
    "from pprint import pprint\n",
    "import requests\n",
    "payload = {\n",
    "    'source': 'google',\n",
    "    'url': 'https://www.google.com/search?q=site:linkedin.com/in/+Education+is+UC+Berkeley+graduated+works+in+UI+UX+design',\n",
    "    'parse': True,\n",
    "    'start_page': 1,\n",
    "    'pages': 10,\n",
    "}\n",
    "\n",
    "response = requests.request(\n",
    "    'POST',\n",
    "    'https://realtime.oxylabs.io/v1/queries',\n",
    "    auth=('satwikapaul_oZIdD', 'Fttkhcvnfttkhcvn6_'),\n",
    "    json=payload\n",
    ")\n",
    "\n",
    "des1data = response.json()\n",
    "des1data_linkedin_urls = extract_linkedin_urls(\n",
    "    des1data)\n",
    "print(des1data_linkedin_urls)\n",
    "len(des1data_linkedin_urls)\n"
   ]
  },
  {
   "cell_type": "code",
   "execution_count": 183,
   "id": "1739ebf3-5235-473a-ac96-957ca3acb819",
   "metadata": {},
   "outputs": [
    {
     "name": "stdout",
     "output_type": "stream",
     "text": [
      "['https://www.google.com/search?q=site:linkedin.com/in/+Education+is+UC+Berkeley+graduated+works+in+designer', 'https://www.google.com/search?q=site:linkedin.com/in/+Education+is+UC+Berkeley+graduated+works+in+designer&start=10', 'https://www.google.com/search?q=site:linkedin.com/in/+Education+is+UC+Berkeley+graduated+works+in+designer&start=20', 'https://www.google.com/search?q=site:linkedin.com/in/+Education+is+UC+Berkeley+graduated+works+in+designer&start=30', 'https://www.google.com/search?q=site:linkedin.com/in/+Education+is+UC+Berkeley+graduated+works+in+designer&start=40', 'https://www.google.com/search?q=site:linkedin.com/in/+Education+is+UC+Berkeley+graduated+works+in+designer&start=50', 'https://www.google.com/search?q=site:linkedin.com/in/+Education+is+UC+Berkeley+graduated+works+in+designer&start=60', 'https://www.google.com/search?q=site:linkedin.com/in/+Education+is+UC+Berkeley+graduated+works+in+designer&start=70', 'https://www.google.com/search?q=site:linkedin.com/in/+Education+is+UC+Berkeley+graduated+works+in+designer&start=80', 'https://www.google.com/search?q=site:linkedin.com/in/+Education+is+UC+Berkeley+graduated+works+in+designer&start=90', 'https://www.google.com/search?q=site:linkedin.com/in/+Education+is+UC+Berkeley+graduated+works+in+designer']\n"
     ]
    },
    {
     "data": {
      "text/plain": [
       "11"
      ]
     },
     "execution_count": 183,
     "metadata": {},
     "output_type": "execute_result"
    }
   ],
   "source": [
    "from pprint import pprint\n",
    "import requests\n",
    "payload = {\n",
    "    'source': 'google',\n",
    "    'url': 'https://www.google.com/search?q=site:linkedin.com/in/+Education+is+UC+Berkeley+graduated+works+in+designer',\n",
    "    'start_page': 1,\n",
    "    'pages': 10,\n",
    "}\n",
    "\n",
    "response = requests.request(\n",
    "    'POST',\n",
    "    'https://realtime.oxylabs.io/v1/queries',\n",
    "    auth=('satwikapaul_oZIdD', 'Fttkhcvnfttkhcvn6_'),\n",
    "    json=payload\n",
    ")\n",
    "\n",
    "des2data = response.json()\n",
    "des2data_linkedin_urls = extract_linkedin_urls(\n",
    "    des2data)\n",
    "print(des2data_linkedin_urls)\n",
    "len(des2data_linkedin_urls)\n"
   ]
  },
  {
   "cell_type": "code",
   "execution_count": 184,
   "id": "a8f226bf-290d-44f1-9e94-90fc4365ad6b",
   "metadata": {},
   "outputs": [
    {
     "name": "stdout",
     "output_type": "stream",
     "text": [
      "['https://www.google.com/search?q=site:linkedin.com/in/+Education+is+UC+Berkeley+graduated+works+in+architect', 'https://www.google.com/search?q=site:linkedin.com/in/+Education+is+UC+Berkeley+graduated+works+in+architect&start=10', 'https://www.google.com/search?q=site:linkedin.com/in/+Education+is+UC+Berkeley+graduated+works+in+architect&start=20', 'https://www.google.com/search?q=site:linkedin.com/in/+Education+is+UC+Berkeley+graduated+works+in+architect&start=30', 'https://www.google.com/search?q=site:linkedin.com/in/+Education+is+UC+Berkeley+graduated+works+in+architect&start=40', 'https://www.google.com/search?q=site:linkedin.com/in/+Education+is+UC+Berkeley+graduated+works+in+architect&start=50', 'https://www.google.com/search?q=site:linkedin.com/in/+Education+is+UC+Berkeley+graduated+works+in+architect&start=60', 'https://www.google.com/search?q=site:linkedin.com/in/+Education+is+UC+Berkeley+graduated+works+in+architect&start=70', 'https://www.google.com/search?q=site:linkedin.com/in/+Education+is+UC+Berkeley+graduated+works+in+architect&start=80', 'https://www.google.com/search?q=site:linkedin.com/in/+Education+is+UC+Berkeley+graduated+works+in+architect&start=90', 'https://www.google.com/search?q=site:linkedin.com/in/+Education+is+UC+Berkeley+graduated+works+in+architect']\n"
     ]
    },
    {
     "data": {
      "text/plain": [
       "11"
      ]
     },
     "execution_count": 184,
     "metadata": {},
     "output_type": "execute_result"
    }
   ],
   "source": [
    "from pprint import pprint\n",
    "import requests\n",
    "payload = {\n",
    "    'source': 'google',\n",
    "    'url': 'https://www.google.com/search?q=site:linkedin.com/in/+Education+is+UC+Berkeley+graduated+works+in+architect',\n",
    "    'start_page': 1,\n",
    "    'pages': 10,\n",
    "}\n",
    "\n",
    "response = requests.request(\n",
    "    'POST',\n",
    "    'https://realtime.oxylabs.io/v1/queries',\n",
    "    auth=('satwikapaul_oZIdD', 'Fttkhcvnfttkhcvn6_'),\n",
    "    json=payload\n",
    ")\n",
    "\n",
    "des3data = response.json()\n",
    "des3data_linkedin_urls = extract_linkedin_urls(\n",
    "    des3data)\n",
    "print(des3data_linkedin_urls)\n",
    "len(des3data_linkedin_urls)\n"
   ]
  },
  {
   "cell_type": "code",
   "execution_count": 185,
   "id": "dd60f9ef-0eda-42be-b240-61cf226bdd4a",
   "metadata": {},
   "outputs": [
    {
     "name": "stdout",
     "output_type": "stream",
     "text": [
      "['https://www.google.com/search?q=site:linkedin.com/in/+Education+is+UC+Berkeley+graduated+works+in+graphics', 'https://www.google.com/search?q=site:linkedin.com/in/+Education+is+UC+Berkeley+graduated+works+in+graphics&start=10', 'https://www.google.com/search?q=site:linkedin.com/in/+Education+is+UC+Berkeley+graduated+works+in+graphics&start=20', 'https://www.google.com/search?q=site:linkedin.com/in/+Education+is+UC+Berkeley+graduated+works+in+graphics&start=30', 'https://www.google.com/search?q=site:linkedin.com/in/+Education+is+UC+Berkeley+graduated+works+in+graphics&start=40', 'https://www.google.com/search?q=site:linkedin.com/in/+Education+is+UC+Berkeley+graduated+works+in+graphics&start=50', 'https://www.google.com/search?q=site:linkedin.com/in/+Education+is+UC+Berkeley+graduated+works+in+graphics&start=60', 'https://www.google.com/search?q=site:linkedin.com/in/+Education+is+UC+Berkeley+graduated+works+in+graphics&start=70', 'https://www.google.com/search?q=site:linkedin.com/in/+Education+is+UC+Berkeley+graduated+works+in+graphics&start=80', 'https://www.google.com/search?q=site:linkedin.com/in/+Education+is+UC+Berkeley+graduated+works+in+graphics&start=90', 'https://www.google.com/search?q=site:linkedin.com/in/+Education+is+UC+Berkeley+graduated+works+in+graphics']\n"
     ]
    },
    {
     "data": {
      "text/plain": [
       "11"
      ]
     },
     "execution_count": 185,
     "metadata": {},
     "output_type": "execute_result"
    }
   ],
   "source": [
    "from pprint import pprint\n",
    "import requests\n",
    "payload = {\n",
    "    'source': 'google',\n",
    "    'url': 'https://www.google.com/search?q=site:linkedin.com/in/+Education+is+UC+Berkeley+graduated+works+in+graphics',\n",
    "    'start_page': 1,\n",
    "    'pages': 10,\n",
    "}\n",
    "\n",
    "response = requests.request(\n",
    "    'POST',\n",
    "    'https://realtime.oxylabs.io/v1/queries',\n",
    "    auth=('satwikapaul_oZIdD', 'Fttkhcvnfttkhcvn6_'),\n",
    "    json=payload\n",
    ")\n",
    "\n",
    "des4data = response.json()\n",
    "des4data_linkedin_urls = extract_linkedin_urls(\n",
    "    des4data)\n",
    "print(des4data_linkedin_urls)\n",
    "len(des4data_linkedin_urls)\n"
   ]
  },
  {
   "cell_type": "code",
   "execution_count": 186,
   "id": "e4bf202d-c37c-4a99-b2a8-f73b0ad8f694",
   "metadata": {},
   "outputs": [
    {
     "name": "stdout",
     "output_type": "stream",
     "text": [
      "['https://www.google.com/search?q=site:linkedin.com/in/+Education+is+UC+Berkeley+graduated+works+in+writer+writing', 'https://www.google.com/search?q=site:linkedin.com/in/+Education+is+UC+Berkeley+graduated+works+in+writer+writing&start=10', 'https://www.google.com/search?q=site:linkedin.com/in/+Education+is+UC+Berkeley+graduated+works+in+writer+writing&start=20', 'https://www.google.com/search?q=site:linkedin.com/in/+Education+is+UC+Berkeley+graduated+works+in+writer+writing&start=30', 'https://www.google.com/search?q=site:linkedin.com/in/+Education+is+UC+Berkeley+graduated+works+in+writer+writing&start=40', 'https://www.google.com/search?q=site:linkedin.com/in/+Education+is+UC+Berkeley+graduated+works+in+writer+writing&start=50', 'https://www.google.com/search?q=site:linkedin.com/in/+Education+is+UC+Berkeley+graduated+works+in+writer+writing&start=60', 'https://www.google.com/search?q=site:linkedin.com/in/+Education+is+UC+Berkeley+graduated+works+in+writer+writing&start=70', 'https://www.google.com/search?q=site:linkedin.com/in/+Education+is+UC+Berkeley+graduated+works+in+writer+writing&start=80', 'https://www.google.com/search?q=site:linkedin.com/in/+Education+is+UC+Berkeley+graduated+works+in+writer+writing&start=90', 'https://www.google.com/search?q=site:linkedin.com/in/+Education+is+UC+Berkeley+graduated+works+in+writer+writing']\n"
     ]
    },
    {
     "data": {
      "text/plain": [
       "11"
      ]
     },
     "execution_count": 186,
     "metadata": {},
     "output_type": "execute_result"
    }
   ],
   "source": [
    "from pprint import pprint\n",
    "import requests\n",
    "payload = {\n",
    "    'source': 'google',\n",
    "    'url': 'https://www.google.com/search?q=site:linkedin.com/in/+Education+is+UC+Berkeley+graduated+works+in+writer+writing',\n",
    "    'start_page': 1,\n",
    "    'pages': 10,\n",
    "}\n",
    "\n",
    "response = requests.request(\n",
    "    'POST',\n",
    "    'https://realtime.oxylabs.io/v1/queries',\n",
    "    auth=('satwikapaul_oZIdD', 'Fttkhcvnfttkhcvn6_'),\n",
    "    json=payload\n",
    ")\n",
    "\n",
    "des5data = response.json()\n",
    "des5data_linkedin_urls = extract_linkedin_urls(\n",
    "    des5data)\n",
    "print(des5data_linkedin_urls)\n",
    "len(des5data_linkedin_urls)\n"
   ]
  },
  {
   "cell_type": "code",
   "execution_count": 187,
   "id": "fe002a47-9990-4169-9870-002affa81d32",
   "metadata": {},
   "outputs": [
    {
     "name": "stdout",
     "output_type": "stream",
     "text": [
      "['https://www.google.com/search?q=site:linkedin.com/in/+Education+is+UC+Berkeley+graduated+works+in+cloud+dev', 'https://www.google.com/search?q=site:linkedin.com/in/+Education+is+UC+Berkeley+graduated+works+in+cloud+dev&start=10', 'https://www.google.com/search?q=site:linkedin.com/in/+Education+is+UC+Berkeley+graduated+works+in+cloud+dev&start=20', 'https://www.google.com/search?q=site:linkedin.com/in/+Education+is+UC+Berkeley+graduated+works+in+cloud+dev&start=30', 'https://www.google.com/search?q=site:linkedin.com/in/+Education+is+UC+Berkeley+graduated+works+in+cloud+dev&start=40', 'https://www.google.com/search?q=site:linkedin.com/in/+Education+is+UC+Berkeley+graduated+works+in+cloud+dev&start=50', 'https://www.google.com/search?q=site:linkedin.com/in/+Education+is+UC+Berkeley+graduated+works+in+cloud+dev&start=60', 'https://www.google.com/search?q=site:linkedin.com/in/+Education+is+UC+Berkeley+graduated+works+in+cloud+dev&start=70', 'https://www.google.com/search?q=site:linkedin.com/in/+Education+is+UC+Berkeley+graduated+works+in+cloud+dev&start=80', 'https://www.google.com/search?q=site:linkedin.com/in/+Education+is+UC+Berkeley+graduated+works+in+cloud+dev&start=90', 'https://www.google.com/search?q=site:linkedin.com/in/+Education+is+UC+Berkeley+graduated+works+in+cloud+dev']\n"
     ]
    },
    {
     "data": {
      "text/plain": [
       "11"
      ]
     },
     "execution_count": 187,
     "metadata": {},
     "output_type": "execute_result"
    }
   ],
   "source": [
    "from pprint import pprint\n",
    "import requests\n",
    "payload = {\n",
    "    'source': 'google',\n",
    "    'url': 'https://www.google.com/search?q=site:linkedin.com/in/+Education+is+UC+Berkeley+graduated+works+in+cloud+dev',\n",
    "    'start_page': 1,\n",
    "    'pages': 10,\n",
    "}\n",
    "\n",
    "response = requests.request(\n",
    "    'POST',\n",
    "    'https://realtime.oxylabs.io/v1/queries',\n",
    "    auth=('satwikapaul_oZIdD', 'Fttkhcvnfttkhcvn6_'),\n",
    "    json=payload\n",
    ")\n",
    "\n",
    "des6data = response.json()\n",
    "des6data_linkedin_urls = extract_linkedin_urls(\n",
    "    des6data)\n",
    "print(des6data_linkedin_urls)\n",
    "len(des6data_linkedin_urls)\n"
   ]
  },
  {
   "cell_type": "code",
   "execution_count": null,
   "id": "9a257058-de7d-4647-bdab-b4a3d73b05a0",
   "metadata": {},
   "outputs": [],
   "source": [
    "from pprint import pprint\n",
    "import requests\n",
    "payload = {\n",
    "    'source': 'google',\n",
    "    'url': 'https://www.google.com/search?q=site:linkedin.com/in/+Education+is+UC+Berkeley+graduated+works+in+frontend',\n",
    "    'start_page': 1,\n",
    "    'pages': 10,\n",
    "}\n",
    "\n",
    "response = requests.request(\n",
    "    'POST',\n",
    "    'https://realtime.oxylabs.io/v1/queries',\n",
    "    auth=('satwikapaul_oZIdD', 'Fttkhcvnfttkhcvn6_'),\n",
    "    json=payload\n",
    ")\n",
    "\n",
    "des7data = response.json()\n",
    "des7data_linkedin_urls = extract_linkedin_urls(\n",
    "    des7data)\n",
    "print(des7data_linkedin_urls)\n",
    "len(des7data_linkedin_urls)\n"
   ]
  },
  {
   "cell_type": "code",
   "execution_count": null,
   "id": "187566e1-3d19-422d-825e-242292df8672",
   "metadata": {},
   "outputs": [],
   "source": []
  }
 ],
 "metadata": {
  "kernelspec": {
   "display_name": "Python 3 (ipykernel)",
   "language": "python",
   "name": "python3"
  },
  "language_info": {
   "codemirror_mode": {
    "name": "ipython",
    "version": 3
   },
   "file_extension": ".py",
   "mimetype": "text/x-python",
   "name": "python",
   "nbconvert_exporter": "python",
   "pygments_lexer": "ipython3",
   "version": "3.9.12"
  }
 },
 "nbformat": 4,
 "nbformat_minor": 5
}
